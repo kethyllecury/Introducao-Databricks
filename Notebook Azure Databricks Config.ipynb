{
  "nbformat": 4,
  "nbformat_minor": 2,
  "metadata": {
    "language_info": {
      "name": "python"
    },
    "kernelspec": {
      "name": "synapse_pyspark",
      "display_name": "python"
    },
    "description": null,
    "save_output": true,
    "synapse_widget": {
      "version": "0.1",
      "state": {
        "d86101b0-8e85-478a-88c4-a593b0991533": {
          "type": "Synapse.DataFrame",
          "sync_state": {
            "table": {
              "rows": [
                {
                  "0": "1300.0",
                  "1": "Eletro Eletrônico"
                },
                {
                  "0": "2.15",
                  "1": "Tecnologia"
                },
                {
                  "0": "0.5",
                  "1": "Eletro Eletrônico"
                },
                {
                  "0": "1500.0",
                  "1": "Casa e Decoração"
                },
                {
                  "0": "135.0",
                  "1": "Casa e Decoração"
                },
                {
                  "0": "0.5",
                  "1": "Eletro Eletrônico"
                },
                {
                  "0": "12.25",
                  "1": "Casa e Decoração"
                },
                {
                  "0": "1500.0",
                  "1": "Eletro Eletrônico"
                },
                {
                  "0": "350.0",
                  "1": "papelaria/cosmético"
                },
                {
                  "0": "98.5",
                  "1": "papelaria/cosmético"
                },
                {
                  "0": "135.0",
                  "1": "Eletro Eletrônico"
                },
                {
                  "0": "850.0",
                  "1": "Casa e Decoração"
                },
                {
                  "0": "12.25",
                  "1": "Tecnologia"
                },
                {
                  "0": "850.0",
                  "1": "Eletro Eletrônico"
                },
                {
                  "0": "875.0",
                  "1": "Casa e Decoração"
                },
                {
                  "0": "98.5",
                  "1": "Eletro Eletrônico"
                },
                {
                  "0": "2100.0",
                  "1": "Tecnologia"
                },
                {
                  "0": "875.0",
                  "1": "papelaria/cosmético"
                },
                {
                  "0": "52.9",
                  "1": "Tecnologia"
                },
                {
                  "0": "25.0",
                  "1": "Casa e Decoração"
                },
                {
                  "0": "2.15",
                  "1": "papelaria/cosmético"
                },
                {
                  "0": "875.0",
                  "1": "Tecnologia"
                },
                {
                  "0": "1600.0",
                  "1": "papelaria/cosmético"
                },
                {
                  "0": "1075.0",
                  "1": "Casa e Decoração"
                },
                {
                  "0": "342.09",
                  "1": "Tecnologia"
                },
                {
                  "0": "5.3",
                  "1": "Tecnologia"
                },
                {
                  "0": "135.0",
                  "1": "Tecnologia"
                },
                {
                  "0": "25.15",
                  "1": "Eletro Eletrônico"
                },
                {
                  "0": "1075.0",
                  "1": "Tecnologia"
                },
                {
                  "0": "2125.99",
                  "1": "Eletro Eletrônico"
                },
                {
                  "0": "25.15",
                  "1": "Eletro Eletrônico"
                },
                {
                  "0": "12.25",
                  "1": "Tecnologia"
                },
                {
                  "0": "52.9",
                  "1": "papelaria/cosmético"
                },
                {
                  "0": "2125.99",
                  "1": "Casa e Decoração"
                },
                {
                  "0": "1075.0",
                  "1": "Tecnologia"
                },
                {
                  "0": "342.09",
                  "1": "Tecnologia"
                },
                {
                  "0": "0.5",
                  "1": "papelaria/cosmético"
                },
                {
                  "0": "342.09",
                  "1": "Casa e Decoração"
                },
                {
                  "0": "98.5",
                  "1": "Eletro Eletrônico"
                },
                {
                  "0": "25.9",
                  "1": "papelaria/cosmético"
                },
                {
                  "0": "2125.99",
                  "1": "Tecnologia"
                },
                {
                  "0": "25.0",
                  "1": "Tecnologia"
                },
                {
                  "0": "342.09",
                  "1": "papelaria/cosmético"
                },
                {
                  "0": "1075.0",
                  "1": "papelaria/cosmético"
                },
                {
                  "0": "1075.0",
                  "1": "papelaria/cosmético"
                },
                {
                  "0": "850.0",
                  "1": "Casa e Decoração"
                },
                {
                  "0": "25.9",
                  "1": "Eletro Eletrônico"
                },
                {
                  "0": "350.0",
                  "1": "papelaria/cosmético"
                },
                {
                  "0": "2125.99",
                  "1": "Casa e Decoração"
                },
                {
                  "0": "1500.0",
                  "1": "Casa e Decoração"
                },
                {
                  "0": "300.0",
                  "1": "Tecnologia"
                },
                {
                  "0": "1600.0",
                  "1": "Casa e Decoração"
                },
                {
                  "0": "25.15",
                  "1": "papelaria/cosmético"
                },
                {
                  "0": "12.25",
                  "1": "Tecnologia"
                },
                {
                  "0": "25.9",
                  "1": "Tecnologia"
                },
                {
                  "0": "52.9",
                  "1": "Tecnologia"
                },
                {
                  "0": "3.2",
                  "1": "Casa e Decoração"
                },
                {
                  "0": "3.2",
                  "1": "Eletro Eletrônico"
                },
                {
                  "0": "342.09",
                  "1": "Casa e Decoração"
                },
                {
                  "0": "1600.0",
                  "1": "papelaria/cosmético"
                },
                {
                  "0": "12.25",
                  "1": "Tecnologia"
                },
                {
                  "0": "2100.0",
                  "1": "Eletro Eletrônico"
                },
                {
                  "0": "3.2",
                  "1": "Eletro Eletrônico"
                },
                {
                  "0": "1300.0",
                  "1": "Tecnologia"
                },
                {
                  "0": "350.0",
                  "1": "Eletro Eletrônico"
                },
                {
                  "0": "52.9",
                  "1": "papelaria/cosmético"
                },
                {
                  "0": "25.0",
                  "1": "Eletro Eletrônico"
                },
                {
                  "0": "1600.0",
                  "1": "Casa e Decoração"
                },
                {
                  "0": "98.5",
                  "1": "Eletro Eletrônico"
                },
                {
                  "0": "2100.0",
                  "1": "Casa e Decoração"
                },
                {
                  "0": "1600.0",
                  "1": "papelaria/cosmético"
                },
                {
                  "0": "1600.0",
                  "1": "Eletro Eletrônico"
                },
                {
                  "0": "1500.0",
                  "1": "Tecnologia"
                },
                {
                  "0": "342.09",
                  "1": "papelaria/cosmético"
                },
                {
                  "0": "1300.0",
                  "1": "Eletro Eletrônico"
                },
                {
                  "0": "342.09",
                  "1": "Eletro Eletrônico"
                },
                {
                  "0": "342.09",
                  "1": "Casa e Decoração"
                },
                {
                  "0": "52.9",
                  "1": "Casa e Decoração"
                },
                {
                  "0": "875.0",
                  "1": "Tecnologia"
                },
                {
                  "0": "1600.0",
                  "1": "papelaria/cosmético"
                },
                {
                  "0": "0.5",
                  "1": "Eletro Eletrônico"
                },
                {
                  "0": "25.0",
                  "1": "Tecnologia"
                },
                {
                  "0": "1300.0",
                  "1": "Casa e Decoração"
                },
                {
                  "0": "2100.0",
                  "1": "papelaria/cosmético"
                },
                {
                  "0": "850.0",
                  "1": "papelaria/cosmético"
                },
                {
                  "0": "25.9",
                  "1": "Eletro Eletrônico"
                },
                {
                  "0": "2100.0",
                  "1": "Casa e Decoração"
                },
                {
                  "0": "1600.0",
                  "1": "Casa e Decoração"
                },
                {
                  "0": "25.9",
                  "1": "Eletro Eletrônico"
                },
                {
                  "0": "98.5",
                  "1": "Eletro Eletrônico"
                },
                {
                  "0": "25.9",
                  "1": "Casa e Decoração"
                },
                {
                  "0": "135.0",
                  "1": "papelaria/cosmético"
                },
                {
                  "0": "342.09",
                  "1": "Casa e Decoração"
                },
                {
                  "0": "875.0",
                  "1": "Tecnologia"
                },
                {
                  "0": "342.09",
                  "1": "papelaria/cosmético"
                },
                {
                  "0": "25.0",
                  "1": "Eletro Eletrônico"
                },
                {
                  "0": "98.5",
                  "1": "Tecnologia"
                },
                {
                  "0": "550.0",
                  "1": "papelaria/cosmético"
                },
                {
                  "0": "2.15",
                  "1": "Eletro Eletrônico"
                },
                {
                  "0": "342.09",
                  "1": "Tecnologia"
                },
                {
                  "0": "12.25",
                  "1": "papelaria/cosmético"
                },
                {
                  "0": "1500.0",
                  "1": "Eletro Eletrônico"
                },
                {
                  "0": "98.5",
                  "1": "Eletro Eletrônico"
                },
                {
                  "0": "3.2",
                  "1": "Eletro Eletrônico"
                },
                {
                  "0": "5.3",
                  "1": "papelaria/cosmético"
                },
                {
                  "0": "0.5",
                  "1": "papelaria/cosmético"
                },
                {
                  "0": "135.0",
                  "1": "Tecnologia"
                },
                {
                  "0": "350.0",
                  "1": "papelaria/cosmético"
                },
                {
                  "0": "1075.0",
                  "1": "papelaria/cosmético"
                },
                {
                  "0": "550.0",
                  "1": "Eletro Eletrônico"
                },
                {
                  "0": "2.15",
                  "1": "Eletro Eletrônico"
                },
                {
                  "0": "300.0",
                  "1": "Casa e Decoração"
                },
                {
                  "0": "2.15",
                  "1": "papelaria/cosmético"
                },
                {
                  "0": "1500.0",
                  "1": "Tecnologia"
                },
                {
                  "0": "875.0",
                  "1": "Casa e Decoração"
                },
                {
                  "0": "25.9",
                  "1": "Casa e Decoração"
                },
                {
                  "0": "0.5",
                  "1": "Tecnologia"
                },
                {
                  "0": "25.0",
                  "1": "papelaria/cosmético"
                },
                {
                  "0": "25.9",
                  "1": "Eletro Eletrônico"
                },
                {
                  "0": "25.0",
                  "1": "Eletro Eletrônico"
                },
                {
                  "0": "300.0",
                  "1": "Casa e Decoração"
                },
                {
                  "0": "550.0",
                  "1": "Casa e Decoração"
                },
                {
                  "0": "2125.99",
                  "1": "Casa e Decoração"
                },
                {
                  "0": "1600.0",
                  "1": "Tecnologia"
                },
                {
                  "0": "25.15",
                  "1": "Eletro Eletrônico"
                },
                {
                  "0": "3.2",
                  "1": "papelaria/cosmético"
                },
                {
                  "0": "135.0",
                  "1": "Eletro Eletrônico"
                },
                {
                  "0": "0.5",
                  "1": "Casa e Decoração"
                },
                {
                  "0": "25.0",
                  "1": "papelaria/cosmético"
                },
                {
                  "0": "875.0",
                  "1": "Eletro Eletrônico"
                },
                {
                  "0": "342.09",
                  "1": "papelaria/cosmético"
                },
                {
                  "0": "1075.0",
                  "1": "papelaria/cosmético"
                },
                {
                  "0": "342.09",
                  "1": "papelaria/cosmético"
                },
                {
                  "0": "875.0",
                  "1": "papelaria/cosmético"
                },
                {
                  "0": "0.5",
                  "1": "papelaria/cosmético"
                },
                {
                  "0": "98.5",
                  "1": "Tecnologia"
                },
                {
                  "0": "135.0",
                  "1": "Tecnologia"
                },
                {
                  "0": "850.0",
                  "1": "Tecnologia"
                },
                {
                  "0": "25.9",
                  "1": "papelaria/cosmético"
                },
                {
                  "0": "300.0",
                  "1": "Eletro Eletrônico"
                },
                {
                  "0": "342.09",
                  "1": "Casa e Decoração"
                },
                {
                  "0": "350.0",
                  "1": "Tecnologia"
                },
                {
                  "0": "5.3",
                  "1": "Eletro Eletrônico"
                },
                {
                  "0": "135.0",
                  "1": "papelaria/cosmético"
                },
                {
                  "0": "875.0",
                  "1": "papelaria/cosmético"
                },
                {
                  "0": "350.0",
                  "1": "Tecnologia"
                },
                {
                  "0": "98.5",
                  "1": "Casa e Decoração"
                },
                {
                  "0": "25.15",
                  "1": "Casa e Decoração"
                },
                {
                  "0": "2.15",
                  "1": "Eletro Eletrônico"
                },
                {
                  "0": "1300.0",
                  "1": "Tecnologia"
                },
                {
                  "0": "2.15",
                  "1": "Casa e Decoração"
                },
                {
                  "0": "52.9",
                  "1": "Eletro Eletrônico"
                },
                {
                  "0": "1300.0",
                  "1": "Casa e Decoração"
                },
                {
                  "0": "2125.99",
                  "1": "Tecnologia"
                },
                {
                  "0": "342.09",
                  "1": "Tecnologia"
                },
                {
                  "0": "25.9",
                  "1": "Eletro Eletrônico"
                },
                {
                  "0": "850.0",
                  "1": "Casa e Decoração"
                },
                {
                  "0": "25.0",
                  "1": "Casa e Decoração"
                },
                {
                  "0": "5.3",
                  "1": "papelaria/cosmético"
                },
                {
                  "0": "52.9",
                  "1": "Casa e Decoração"
                },
                {
                  "0": "1600.0",
                  "1": "Casa e Decoração"
                },
                {
                  "0": "850.0",
                  "1": "Casa e Decoração"
                },
                {
                  "0": "25.0",
                  "1": "papelaria/cosmético"
                },
                {
                  "0": "342.09",
                  "1": "Eletro Eletrônico"
                },
                {
                  "0": "25.15",
                  "1": "Tecnologia"
                },
                {
                  "0": "875.0",
                  "1": "Tecnologia"
                },
                {
                  "0": "2125.99",
                  "1": "papelaria/cosmético"
                },
                {
                  "0": "1075.0",
                  "1": "Tecnologia"
                },
                {
                  "0": "3.2",
                  "1": "Casa e Decoração"
                },
                {
                  "0": "1600.0",
                  "1": "papelaria/cosmético"
                },
                {
                  "0": "12.25",
                  "1": "papelaria/cosmético"
                },
                {
                  "0": "25.9",
                  "1": "Tecnologia"
                },
                {
                  "0": "1500.0",
                  "1": "Eletro Eletrônico"
                },
                {
                  "0": "1500.0",
                  "1": "Eletro Eletrônico"
                },
                {
                  "0": "25.15",
                  "1": "Casa e Decoração"
                },
                {
                  "0": "3.2",
                  "1": "papelaria/cosmético"
                },
                {
                  "0": "135.0",
                  "1": "Eletro Eletrônico"
                },
                {
                  "0": "850.0",
                  "1": "Eletro Eletrônico"
                },
                {
                  "0": "300.0",
                  "1": "papelaria/cosmético"
                },
                {
                  "0": "12.25",
                  "1": "Tecnologia"
                },
                {
                  "0": "52.9",
                  "1": "Tecnologia"
                },
                {
                  "0": "350.0",
                  "1": "Tecnologia"
                },
                {
                  "0": "850.0",
                  "1": "papelaria/cosmético"
                },
                {
                  "0": "2.15",
                  "1": "Casa e Decoração"
                },
                {
                  "0": "1075.0",
                  "1": "papelaria/cosmético"
                },
                {
                  "0": "1300.0",
                  "1": "Tecnologia"
                },
                {
                  "0": "1300.0",
                  "1": "Eletro Eletrônico"
                },
                {
                  "0": "25.15",
                  "1": "Casa e Decoração"
                },
                {
                  "0": "850.0",
                  "1": "Casa e Decoração"
                },
                {
                  "0": "1300.0",
                  "1": "papelaria/cosmético"
                },
                {
                  "0": "350.0",
                  "1": "Tecnologia"
                },
                {
                  "0": "0.5",
                  "1": "Eletro Eletrônico"
                },
                {
                  "0": "2125.99",
                  "1": "Tecnologia"
                },
                {
                  "0": "5.3",
                  "1": "Casa e Decoração"
                },
                {
                  "0": "12.25",
                  "1": "papelaria/cosmético"
                },
                {
                  "0": "135.0",
                  "1": "Casa e Decoração"
                },
                {
                  "0": "550.0",
                  "1": "Casa e Decoração"
                },
                {
                  "0": "0.5",
                  "1": "Casa e Decoração"
                },
                {
                  "0": "3.2",
                  "1": "papelaria/cosmético"
                },
                {
                  "0": "12.25",
                  "1": "papelaria/cosmético"
                },
                {
                  "0": "1300.0",
                  "1": "papelaria/cosmético"
                },
                {
                  "0": "300.0",
                  "1": "Casa e Decoração"
                },
                {
                  "0": "5.3",
                  "1": "Eletro Eletrônico"
                },
                {
                  "0": "300.0",
                  "1": "Casa e Decoração"
                },
                {
                  "0": "350.0",
                  "1": "Casa e Decoração"
                },
                {
                  "0": "2.15",
                  "1": "papelaria/cosmético"
                },
                {
                  "0": "1075.0",
                  "1": "papelaria/cosmético"
                },
                {
                  "0": "25.9",
                  "1": "papelaria/cosmético"
                },
                {
                  "0": "1600.0",
                  "1": "Casa e Decoração"
                },
                {
                  "0": "0.5",
                  "1": "Eletro Eletrônico"
                },
                {
                  "0": "0.5",
                  "1": "papelaria/cosmético"
                },
                {
                  "0": "342.09",
                  "1": "Casa e Decoração"
                },
                {
                  "0": "2.15",
                  "1": "Tecnologia"
                },
                {
                  "0": "25.9",
                  "1": "Tecnologia"
                },
                {
                  "0": "2100.0",
                  "1": "Eletro Eletrônico"
                },
                {
                  "0": "2100.0",
                  "1": "Casa e Decoração"
                },
                {
                  "0": "2100.0",
                  "1": "Casa e Decoração"
                },
                {
                  "0": "3.2",
                  "1": "Casa e Decoração"
                },
                {
                  "0": "850.0",
                  "1": "Eletro Eletrônico"
                },
                {
                  "0": "850.0",
                  "1": "Eletro Eletrônico"
                },
                {
                  "0": "350.0",
                  "1": "Eletro Eletrônico"
                },
                {
                  "0": "875.0",
                  "1": "papelaria/cosmético"
                },
                {
                  "0": "1300.0",
                  "1": "papelaria/cosmético"
                },
                {
                  "0": "3.2",
                  "1": "Tecnologia"
                },
                {
                  "0": "850.0",
                  "1": "Eletro Eletrônico"
                },
                {
                  "0": "550.0",
                  "1": "Casa e Decoração"
                },
                {
                  "0": "98.5",
                  "1": "Eletro Eletrônico"
                },
                {
                  "0": "2.15",
                  "1": "Casa e Decoração"
                },
                {
                  "0": "2125.99",
                  "1": "Eletro Eletrônico"
                },
                {
                  "0": "1600.0",
                  "1": "papelaria/cosmético"
                },
                {
                  "0": "342.09",
                  "1": "Casa e Decoração"
                },
                {
                  "0": "0.5",
                  "1": "Casa e Decoração"
                },
                {
                  "0": "342.09",
                  "1": "Tecnologia"
                },
                {
                  "0": "52.9",
                  "1": "Tecnologia"
                },
                {
                  "0": "3.2",
                  "1": "Casa e Decoração"
                },
                {
                  "0": "550.0",
                  "1": "papelaria/cosmético"
                },
                {
                  "0": "1300.0",
                  "1": "Eletro Eletrônico"
                },
                {
                  "0": "875.0",
                  "1": "Casa e Decoração"
                },
                {
                  "0": "2100.0",
                  "1": "Tecnologia"
                },
                {
                  "0": "3.2",
                  "1": "Tecnologia"
                },
                {
                  "0": "3.2",
                  "1": "Tecnologia"
                },
                {
                  "0": "550.0",
                  "1": "Tecnologia"
                },
                {
                  "0": "300.0",
                  "1": "Casa e Decoração"
                },
                {
                  "0": "25.15",
                  "1": "Casa e Decoração"
                },
                {
                  "0": "135.0",
                  "1": "papelaria/cosmético"
                },
                {
                  "0": "1075.0",
                  "1": "papelaria/cosmético"
                },
                {
                  "0": "850.0",
                  "1": "papelaria/cosmético"
                },
                {
                  "0": "1600.0",
                  "1": "papelaria/cosmético"
                },
                {
                  "0": "2125.99",
                  "1": "papelaria/cosmético"
                },
                {
                  "0": "2.15",
                  "1": "Tecnologia"
                },
                {
                  "0": "5.3",
                  "1": "Tecnologia"
                },
                {
                  "0": "1600.0",
                  "1": "Casa e Decoração"
                },
                {
                  "0": "550.0",
                  "1": "papelaria/cosmético"
                },
                {
                  "0": "52.9",
                  "1": "Tecnologia"
                },
                {
                  "0": "135.0",
                  "1": "Casa e Decoração"
                },
                {
                  "0": "25.0",
                  "1": "papelaria/cosmético"
                },
                {
                  "0": "550.0",
                  "1": "Casa e Decoração"
                },
                {
                  "0": "2100.0",
                  "1": "Eletro Eletrônico"
                },
                {
                  "0": "342.09",
                  "1": "Tecnologia"
                },
                {
                  "0": "550.0",
                  "1": "papelaria/cosmético"
                },
                {
                  "0": "1500.0",
                  "1": "Tecnologia"
                },
                {
                  "0": "1075.0",
                  "1": "Eletro Eletrônico"
                },
                {
                  "0": "2100.0",
                  "1": "Eletro Eletrônico"
                },
                {
                  "0": "350.0",
                  "1": "papelaria/cosmético"
                },
                {
                  "0": "25.15",
                  "1": "Tecnologia"
                },
                {
                  "0": "98.5",
                  "1": "Eletro Eletrônico"
                },
                {
                  "0": "1600.0",
                  "1": "Eletro Eletrônico"
                },
                {
                  "0": "550.0",
                  "1": "Eletro Eletrônico"
                },
                {
                  "0": "25.0",
                  "1": "papelaria/cosmético"
                },
                {
                  "0": "3.2",
                  "1": "papelaria/cosmético"
                },
                {
                  "0": "12.25",
                  "1": "Tecnologia"
                },
                {
                  "0": "12.25",
                  "1": "Eletro Eletrônico"
                },
                {
                  "0": "875.0",
                  "1": "Casa e Decoração"
                },
                {
                  "0": "52.9",
                  "1": "Casa e Decoração"
                },
                {
                  "0": "5.3",
                  "1": "Tecnologia"
                },
                {
                  "0": "98.5",
                  "1": "Eletro Eletrônico"
                },
                {
                  "0": "12.25",
                  "1": "Casa e Decoração"
                },
                {
                  "0": "350.0",
                  "1": "Casa e Decoração"
                },
                {
                  "0": "1300.0",
                  "1": "Eletro Eletrônico"
                },
                {
                  "0": "5.3",
                  "1": "Casa e Decoração"
                },
                {
                  "0": "98.5",
                  "1": "papelaria/cosmético"
                },
                {
                  "0": "2100.0",
                  "1": "papelaria/cosmético"
                },
                {
                  "0": "550.0",
                  "1": "Tecnologia"
                },
                {
                  "0": "342.09",
                  "1": "Casa e Decoração"
                },
                {
                  "0": "135.0",
                  "1": "Eletro Eletrônico"
                },
                {
                  "0": "5.3",
                  "1": "Casa e Decoração"
                },
                {
                  "0": "2.15",
                  "1": "Tecnologia"
                },
                {
                  "0": "98.5",
                  "1": "Eletro Eletrônico"
                },
                {
                  "0": "1500.0",
                  "1": "papelaria/cosmético"
                },
                {
                  "0": "850.0",
                  "1": "papelaria/cosmético"
                },
                {
                  "0": "300.0",
                  "1": "papelaria/cosmético"
                },
                {
                  "0": "25.15",
                  "1": "Casa e Decoração"
                },
                {
                  "0": "2100.0",
                  "1": "papelaria/cosmético"
                },
                {
                  "0": "25.0",
                  "1": "papelaria/cosmético"
                },
                {
                  "0": "350.0",
                  "1": "Tecnologia"
                },
                {
                  "0": "12.25",
                  "1": "papelaria/cosmético"
                },
                {
                  "0": "1075.0",
                  "1": "Eletro Eletrônico"
                },
                {
                  "0": "1300.0",
                  "1": "Tecnologia"
                },
                {
                  "0": "1600.0",
                  "1": "Eletro Eletrônico"
                },
                {
                  "0": "2100.0",
                  "1": "Tecnologia"
                },
                {
                  "0": "850.0",
                  "1": "Eletro Eletrônico"
                },
                {
                  "0": "342.09",
                  "1": "Tecnologia"
                },
                {
                  "0": "2125.99",
                  "1": "Eletro Eletrônico"
                },
                {
                  "0": "350.0",
                  "1": "Eletro Eletrônico"
                },
                {
                  "0": "1500.0",
                  "1": "Tecnologia"
                },
                {
                  "0": "25.15",
                  "1": "papelaria/cosmético"
                },
                {
                  "0": "1500.0",
                  "1": "papelaria/cosmético"
                },
                {
                  "0": "3.2",
                  "1": "Eletro Eletrônico"
                },
                {
                  "0": "300.0",
                  "1": "papelaria/cosmético"
                },
                {
                  "0": "2100.0",
                  "1": "papelaria/cosmético"
                },
                {
                  "0": "25.0",
                  "1": "Eletro Eletrônico"
                },
                {
                  "0": "52.9",
                  "1": "papelaria/cosmético"
                },
                {
                  "0": "2.15",
                  "1": "Casa e Decoração"
                },
                {
                  "0": "0.5",
                  "1": "Tecnologia"
                },
                {
                  "0": "342.09",
                  "1": "Tecnologia"
                },
                {
                  "0": "2125.99",
                  "1": "Tecnologia"
                },
                {
                  "0": "25.0",
                  "1": "Casa e Decoração"
                },
                {
                  "0": "52.9",
                  "1": "Eletro Eletrônico"
                },
                {
                  "0": "1500.0",
                  "1": "Tecnologia"
                },
                {
                  "0": "1300.0",
                  "1": "papelaria/cosmético"
                },
                {
                  "0": "5.3",
                  "1": "papelaria/cosmético"
                },
                {
                  "0": "342.09",
                  "1": "Eletro Eletrônico"
                },
                {
                  "0": "1300.0",
                  "1": "Tecnologia"
                },
                {
                  "0": "350.0",
                  "1": "Eletro Eletrônico"
                },
                {
                  "0": "1500.0",
                  "1": "Casa e Decoração"
                },
                {
                  "0": "300.0",
                  "1": "Tecnologia"
                },
                {
                  "0": "1500.0",
                  "1": "Casa e Decoração"
                },
                {
                  "0": "3.2",
                  "1": "Tecnologia"
                },
                {
                  "0": "12.25",
                  "1": "papelaria/cosmético"
                },
                {
                  "0": "5.3",
                  "1": "Casa e Decoração"
                },
                {
                  "0": "1075.0",
                  "1": "Eletro Eletrônico"
                },
                {
                  "0": "135.0",
                  "1": "Tecnologia"
                },
                {
                  "0": "25.0",
                  "1": "Eletro Eletrônico"
                },
                {
                  "0": "300.0",
                  "1": "Casa e Decoração"
                },
                {
                  "0": "550.0",
                  "1": "Casa e Decoração"
                },
                {
                  "0": "12.25",
                  "1": "Casa e Decoração"
                },
                {
                  "0": "550.0",
                  "1": "Eletro Eletrônico"
                },
                {
                  "0": "350.0",
                  "1": "Tecnologia"
                },
                {
                  "0": "98.5",
                  "1": "Tecnologia"
                },
                {
                  "0": "2125.99",
                  "1": "Eletro Eletrônico"
                },
                {
                  "0": "25.9",
                  "1": "Eletro Eletrônico"
                },
                {
                  "0": "342.09",
                  "1": "Eletro Eletrônico"
                },
                {
                  "0": "25.0",
                  "1": "papelaria/cosmético"
                },
                {
                  "0": "0.5",
                  "1": "Eletro Eletrônico"
                },
                {
                  "0": "3.2",
                  "1": "papelaria/cosmético"
                },
                {
                  "0": "1300.0",
                  "1": "Eletro Eletrônico"
                },
                {
                  "0": "875.0",
                  "1": "Tecnologia"
                },
                {
                  "0": "875.0",
                  "1": "Casa e Decoração"
                },
                {
                  "0": "1075.0",
                  "1": "Eletro Eletrônico"
                },
                {
                  "0": "25.0",
                  "1": "Casa e Decoração"
                },
                {
                  "0": "1500.0",
                  "1": "Tecnologia"
                },
                {
                  "0": "1500.0",
                  "1": "Casa e Decoração"
                },
                {
                  "0": "1300.0",
                  "1": "Tecnologia"
                },
                {
                  "0": "3.2",
                  "1": "Tecnologia"
                },
                {
                  "0": "2100.0",
                  "1": "Tecnologia"
                },
                {
                  "0": "550.0",
                  "1": "Casa e Decoração"
                },
                {
                  "0": "5.3",
                  "1": "papelaria/cosmético"
                },
                {
                  "0": "2100.0",
                  "1": "Casa e Decoração"
                },
                {
                  "0": "850.0",
                  "1": "Eletro Eletrônico"
                },
                {
                  "0": "2.15",
                  "1": "Eletro Eletrônico"
                },
                {
                  "0": "1300.0",
                  "1": "papelaria/cosmético"
                },
                {
                  "0": "25.15",
                  "1": "Tecnologia"
                },
                {
                  "0": "5.3",
                  "1": "Casa e Decoração"
                },
                {
                  "0": "350.0",
                  "1": "Eletro Eletrônico"
                },
                {
                  "0": "1600.0",
                  "1": "Casa e Decoração"
                },
                {
                  "0": "2100.0",
                  "1": "Eletro Eletrônico"
                },
                {
                  "0": "0.5",
                  "1": "Casa e Decoração"
                },
                {
                  "0": "342.09",
                  "1": "Eletro Eletrônico"
                },
                {
                  "0": "875.0",
                  "1": "Eletro Eletrônico"
                },
                {
                  "0": "135.0",
                  "1": "Tecnologia"
                },
                {
                  "0": "5.3",
                  "1": "Casa e Decoração"
                },
                {
                  "0": "342.09",
                  "1": "papelaria/cosmético"
                },
                {
                  "0": "135.0",
                  "1": "Casa e Decoração"
                },
                {
                  "0": "25.15",
                  "1": "Tecnologia"
                },
                {
                  "0": "25.0",
                  "1": "papelaria/cosmético"
                },
                {
                  "0": "1500.0",
                  "1": "Eletro Eletrônico"
                },
                {
                  "0": "12.25",
                  "1": "Tecnologia"
                },
                {
                  "0": "300.0",
                  "1": "papelaria/cosmético"
                },
                {
                  "0": "2.15",
                  "1": "Casa e Decoração"
                },
                {
                  "0": "2100.0",
                  "1": "papelaria/cosmético"
                },
                {
                  "0": "342.09",
                  "1": "papelaria/cosmético"
                },
                {
                  "0": "52.9",
                  "1": "papelaria/cosmético"
                },
                {
                  "0": "1500.0",
                  "1": "Tecnologia"
                },
                {
                  "0": "98.5",
                  "1": "Casa e Decoração"
                },
                {
                  "0": "1300.0",
                  "1": "Casa e Decoração"
                },
                {
                  "0": "25.0",
                  "1": "Eletro Eletrônico"
                },
                {
                  "0": "12.25",
                  "1": "Tecnologia"
                },
                {
                  "0": "1500.0",
                  "1": "Eletro Eletrônico"
                },
                {
                  "0": "1075.0",
                  "1": "papelaria/cosmético"
                },
                {
                  "0": "25.9",
                  "1": "Casa e Decoração"
                },
                {
                  "0": "1075.0",
                  "1": "Tecnologia"
                },
                {
                  "0": "850.0",
                  "1": "papelaria/cosmético"
                },
                {
                  "0": "3.2",
                  "1": "Eletro Eletrônico"
                },
                {
                  "0": "342.09",
                  "1": "papelaria/cosmético"
                },
                {
                  "0": "350.0",
                  "1": "papelaria/cosmético"
                },
                {
                  "0": "342.09",
                  "1": "Casa e Decoração"
                },
                {
                  "0": "135.0",
                  "1": "Casa e Decoração"
                },
                {
                  "0": "1500.0",
                  "1": "Eletro Eletrônico"
                },
                {
                  "0": "3.2",
                  "1": "Casa e Decoração"
                },
                {
                  "0": "550.0",
                  "1": "Eletro Eletrônico"
                },
                {
                  "0": "850.0",
                  "1": "Casa e Decoração"
                },
                {
                  "0": "342.09",
                  "1": "Casa e Decoração"
                },
                {
                  "0": "25.9",
                  "1": "Casa e Decoração"
                },
                {
                  "0": "2125.99",
                  "1": "papelaria/cosmético"
                },
                {
                  "0": "300.0",
                  "1": "Casa e Decoração"
                },
                {
                  "0": "875.0",
                  "1": "Tecnologia"
                },
                {
                  "0": "2.15",
                  "1": "Casa e Decoração"
                },
                {
                  "0": "300.0",
                  "1": "Tecnologia"
                },
                {
                  "0": "2.15",
                  "1": "Casa e Decoração"
                },
                {
                  "0": "550.0",
                  "1": "Casa e Decoração"
                },
                {
                  "0": "0.5",
                  "1": "Eletro Eletrônico"
                },
                {
                  "0": "2.15",
                  "1": "Eletro Eletrônico"
                },
                {
                  "0": "300.0",
                  "1": "Tecnologia"
                },
                {
                  "0": "875.0",
                  "1": "Eletro Eletrônico"
                },
                {
                  "0": "25.15",
                  "1": "Eletro Eletrônico"
                },
                {
                  "0": "135.0",
                  "1": "Eletro Eletrônico"
                },
                {
                  "0": "1300.0",
                  "1": "Tecnologia"
                },
                {
                  "0": "25.0",
                  "1": "Casa e Decoração"
                },
                {
                  "0": "850.0",
                  "1": "Casa e Decoração"
                },
                {
                  "0": "0.5",
                  "1": "Eletro Eletrônico"
                },
                {
                  "0": "1600.0",
                  "1": "Eletro Eletrônico"
                },
                {
                  "0": "2.15",
                  "1": "papelaria/cosmético"
                },
                {
                  "0": "5.3",
                  "1": "Casa e Decoração"
                },
                {
                  "0": "5.3",
                  "1": "Eletro Eletrônico"
                },
                {
                  "0": "5.3",
                  "1": "Eletro Eletrônico"
                },
                {
                  "0": "550.0",
                  "1": "Casa e Decoração"
                },
                {
                  "0": "2125.99",
                  "1": "Tecnologia"
                },
                {
                  "0": "850.0",
                  "1": "Tecnologia"
                },
                {
                  "0": "98.5",
                  "1": "Casa e Decoração"
                },
                {
                  "0": "1075.0",
                  "1": "Eletro Eletrônico"
                },
                {
                  "0": "12.25",
                  "1": "Tecnologia"
                },
                {
                  "0": "1500.0",
                  "1": "Casa e Decoração"
                },
                {
                  "0": "12.25",
                  "1": "Casa e Decoração"
                },
                {
                  "0": "5.3",
                  "1": "Casa e Decoração"
                },
                {
                  "0": "2100.0",
                  "1": "Tecnologia"
                },
                {
                  "0": "25.0",
                  "1": "Eletro Eletrônico"
                },
                {
                  "0": "25.15",
                  "1": "Eletro Eletrônico"
                },
                {
                  "0": "135.0",
                  "1": "Eletro Eletrônico"
                },
                {
                  "0": "25.0",
                  "1": "papelaria/cosmético"
                },
                {
                  "0": "550.0",
                  "1": "Casa e Decoração"
                },
                {
                  "0": "2125.99",
                  "1": "papelaria/cosmético"
                },
                {
                  "0": "25.15",
                  "1": "Eletro Eletrônico"
                },
                {
                  "0": "300.0",
                  "1": "Eletro Eletrônico"
                },
                {
                  "0": "12.25",
                  "1": "Casa e Decoração"
                },
                {
                  "0": "1300.0",
                  "1": "Casa e Decoração"
                },
                {
                  "0": "135.0",
                  "1": "Eletro Eletrônico"
                },
                {
                  "0": "1075.0",
                  "1": "Eletro Eletrônico"
                },
                {
                  "0": "25.0",
                  "1": "papelaria/cosmético"
                },
                {
                  "0": "300.0",
                  "1": "Eletro Eletrônico"
                },
                {
                  "0": "3.2",
                  "1": "Casa e Decoração"
                },
                {
                  "0": "25.15",
                  "1": "Eletro Eletrônico"
                },
                {
                  "0": "1500.0",
                  "1": "Casa e Decoração"
                },
                {
                  "0": "300.0",
                  "1": "Casa e Decoração"
                },
                {
                  "0": "300.0",
                  "1": "Tecnologia"
                },
                {
                  "0": "342.09",
                  "1": "papelaria/cosmético"
                },
                {
                  "0": "25.15",
                  "1": "Casa e Decoração"
                },
                {
                  "0": "300.0",
                  "1": "Tecnologia"
                },
                {
                  "0": "550.0",
                  "1": "Tecnologia"
                },
                {
                  "0": "52.9",
                  "1": "papelaria/cosmético"
                },
                {
                  "0": "25.9",
                  "1": "Eletro Eletrônico"
                },
                {
                  "0": "1600.0",
                  "1": "Casa e Decoração"
                },
                {
                  "0": "1075.0",
                  "1": "Tecnologia"
                },
                {
                  "0": "850.0",
                  "1": "papelaria/cosmético"
                },
                {
                  "0": "550.0",
                  "1": "Eletro Eletrônico"
                },
                {
                  "0": "342.09",
                  "1": "Eletro Eletrônico"
                },
                {
                  "0": "25.15",
                  "1": "Eletro Eletrônico"
                },
                {
                  "0": "1300.0",
                  "1": "papelaria/cosmético"
                },
                {
                  "0": "1300.0",
                  "1": "Eletro Eletrônico"
                },
                {
                  "0": "2125.99",
                  "1": "Casa e Decoração"
                },
                {
                  "0": "25.15",
                  "1": "Casa e Decoração"
                },
                {
                  "0": "300.0",
                  "1": "Tecnologia"
                },
                {
                  "0": "875.0",
                  "1": "Tecnologia"
                },
                {
                  "0": "98.5",
                  "1": "Casa e Decoração"
                },
                {
                  "0": "1300.0",
                  "1": "Casa e Decoração"
                },
                {
                  "0": "300.0",
                  "1": "papelaria/cosmético"
                },
                {
                  "0": "1600.0",
                  "1": "Casa e Decoração"
                },
                {
                  "0": "2.15",
                  "1": "Eletro Eletrônico"
                },
                {
                  "0": "550.0",
                  "1": "Eletro Eletrônico"
                },
                {
                  "0": "1500.0",
                  "1": "papelaria/cosmético"
                },
                {
                  "0": "875.0",
                  "1": "Casa e Decoração"
                },
                {
                  "0": "135.0",
                  "1": "papelaria/cosmético"
                },
                {
                  "0": "12.25",
                  "1": "Casa e Decoração"
                },
                {
                  "0": "350.0",
                  "1": "Casa e Decoração"
                },
                {
                  "0": "98.5",
                  "1": "Casa e Decoração"
                },
                {
                  "0": "1075.0",
                  "1": "Eletro Eletrônico"
                },
                {
                  "0": "1075.0",
                  "1": "papelaria/cosmético"
                },
                {
                  "0": "3.2",
                  "1": "papelaria/cosmético"
                },
                {
                  "0": "1300.0",
                  "1": "papelaria/cosmético"
                },
                {
                  "0": "850.0",
                  "1": "Eletro Eletrônico"
                },
                {
                  "0": "0.5",
                  "1": "papelaria/cosmético"
                },
                {
                  "0": "300.0",
                  "1": "Tecnologia"
                },
                {
                  "0": "135.0",
                  "1": "Eletro Eletrônico"
                },
                {
                  "0": "350.0",
                  "1": "Tecnologia"
                },
                {
                  "0": "1500.0",
                  "1": "Eletro Eletrônico"
                },
                {
                  "0": "1300.0",
                  "1": "Eletro Eletrônico"
                },
                {
                  "0": "550.0",
                  "1": "Eletro Eletrônico"
                },
                {
                  "0": "135.0",
                  "1": "Tecnologia"
                },
                {
                  "0": "2.15",
                  "1": "Casa e Decoração"
                },
                {
                  "0": "1075.0",
                  "1": "Eletro Eletrônico"
                },
                {
                  "0": "2125.99",
                  "1": "Eletro Eletrônico"
                },
                {
                  "0": "25.9",
                  "1": "Eletro Eletrônico"
                },
                {
                  "0": "2100.0",
                  "1": "Tecnologia"
                },
                {
                  "0": "5.3",
                  "1": "Eletro Eletrônico"
                },
                {
                  "0": "1600.0",
                  "1": "Tecnologia"
                },
                {
                  "0": "3.2",
                  "1": "Tecnologia"
                },
                {
                  "0": "2.15",
                  "1": "Tecnologia"
                },
                {
                  "0": "3.2",
                  "1": "Casa e Decoração"
                },
                {
                  "0": "2125.99",
                  "1": "Casa e Decoração"
                },
                {
                  "0": "135.0",
                  "1": "Eletro Eletrônico"
                },
                {
                  "0": "2100.0",
                  "1": "Casa e Decoração"
                },
                {
                  "0": "1500.0",
                  "1": "Tecnologia"
                },
                {
                  "0": "5.3",
                  "1": "Casa e Decoração"
                },
                {
                  "0": "25.0",
                  "1": "Tecnologia"
                },
                {
                  "0": "25.0",
                  "1": "Casa e Decoração"
                },
                {
                  "0": "2.15",
                  "1": "Casa e Decoração"
                },
                {
                  "0": "5.3",
                  "1": "papelaria/cosmético"
                },
                {
                  "0": "300.0",
                  "1": "papelaria/cosmético"
                },
                {
                  "0": "1300.0",
                  "1": "papelaria/cosmético"
                },
                {
                  "0": "25.0",
                  "1": "Casa e Decoração"
                },
                {
                  "0": "342.09",
                  "1": "papelaria/cosmético"
                },
                {
                  "0": "1300.0",
                  "1": "Tecnologia"
                },
                {
                  "0": "25.15",
                  "1": "Tecnologia"
                },
                {
                  "0": "1075.0",
                  "1": "Casa e Decoração"
                },
                {
                  "0": "2125.99",
                  "1": "papelaria/cosmético"
                },
                {
                  "0": "3.2",
                  "1": "papelaria/cosmético"
                },
                {
                  "0": "2.15",
                  "1": "Eletro Eletrônico"
                },
                {
                  "0": "1500.0",
                  "1": "papelaria/cosmético"
                },
                {
                  "0": "1300.0",
                  "1": "Tecnologia"
                },
                {
                  "0": "550.0",
                  "1": "Casa e Decoração"
                },
                {
                  "0": "3.2",
                  "1": "Tecnologia"
                },
                {
                  "0": "350.0",
                  "1": "Tecnologia"
                },
                {
                  "0": "350.0",
                  "1": "Eletro Eletrônico"
                },
                {
                  "0": "550.0",
                  "1": "Eletro Eletrônico"
                },
                {
                  "0": "52.9",
                  "1": "Tecnologia"
                },
                {
                  "0": "2.15",
                  "1": "Tecnologia"
                },
                {
                  "0": "550.0",
                  "1": "papelaria/cosmético"
                },
                {
                  "0": "550.0",
                  "1": "papelaria/cosmético"
                },
                {
                  "0": "52.9",
                  "1": "Eletro Eletrônico"
                },
                {
                  "0": "12.25",
                  "1": "Casa e Decoração"
                },
                {
                  "0": "1300.0",
                  "1": "Tecnologia"
                },
                {
                  "0": "135.0",
                  "1": "Eletro Eletrônico"
                },
                {
                  "0": "300.0",
                  "1": "Casa e Decoração"
                },
                {
                  "0": "0.5",
                  "1": "Tecnologia"
                },
                {
                  "0": "2125.99",
                  "1": "Casa e Decoração"
                },
                {
                  "0": "25.0",
                  "1": "Tecnologia"
                },
                {
                  "0": "2.15",
                  "1": "Casa e Decoração"
                },
                {
                  "0": "1300.0",
                  "1": "Casa e Decoração"
                },
                {
                  "0": "1500.0",
                  "1": "Eletro Eletrônico"
                },
                {
                  "0": "25.9",
                  "1": "papelaria/cosmético"
                },
                {
                  "0": "52.9",
                  "1": "Tecnologia"
                },
                {
                  "0": "25.15",
                  "1": "Casa e Decoração"
                },
                {
                  "0": "550.0",
                  "1": "Eletro Eletrônico"
                },
                {
                  "0": "5.3",
                  "1": "papelaria/cosmético"
                },
                {
                  "0": "2.15",
                  "1": "Tecnologia"
                },
                {
                  "0": "2125.99",
                  "1": "Tecnologia"
                },
                {
                  "0": "5.3",
                  "1": "Casa e Decoração"
                },
                {
                  "0": "2.15",
                  "1": "papelaria/cosmético"
                },
                {
                  "0": "3.2",
                  "1": "Eletro Eletrônico"
                },
                {
                  "0": "350.0",
                  "1": "Tecnologia"
                },
                {
                  "0": "25.0",
                  "1": "papelaria/cosmético"
                },
                {
                  "0": "1300.0",
                  "1": "Tecnologia"
                },
                {
                  "0": "350.0",
                  "1": "Eletro Eletrônico"
                },
                {
                  "0": "25.15",
                  "1": "Eletro Eletrônico"
                },
                {
                  "0": "0.5",
                  "1": "Casa e Decoração"
                },
                {
                  "0": "25.9",
                  "1": "Tecnologia"
                },
                {
                  "0": "2125.99",
                  "1": "papelaria/cosmético"
                },
                {
                  "0": "1300.0",
                  "1": "Tecnologia"
                },
                {
                  "0": "25.15",
                  "1": "papelaria/cosmético"
                },
                {
                  "0": "3.2",
                  "1": "papelaria/cosmético"
                },
                {
                  "0": "3.2",
                  "1": "papelaria/cosmético"
                },
                {
                  "0": "875.0",
                  "1": "Tecnologia"
                },
                {
                  "0": "1300.0",
                  "1": "Tecnologia"
                },
                {
                  "0": "1300.0",
                  "1": "papelaria/cosmético"
                },
                {
                  "0": "850.0",
                  "1": "Casa e Decoração"
                },
                {
                  "0": "1300.0",
                  "1": "Casa e Decoração"
                },
                {
                  "0": "98.5",
                  "1": "Casa e Decoração"
                },
                {
                  "0": "3.2",
                  "1": "Tecnologia"
                },
                {
                  "0": "550.0",
                  "1": "Casa e Decoração"
                },
                {
                  "0": "1500.0",
                  "1": "Eletro Eletrônico"
                },
                {
                  "0": "1075.0",
                  "1": "Casa e Decoração"
                },
                {
                  "0": "2.15",
                  "1": "Eletro Eletrônico"
                },
                {
                  "0": "350.0",
                  "1": "Casa e Decoração"
                },
                {
                  "0": "875.0",
                  "1": "Eletro Eletrônico"
                },
                {
                  "0": "3.2",
                  "1": "papelaria/cosmético"
                },
                {
                  "0": "2100.0",
                  "1": "Casa e Decoração"
                },
                {
                  "0": "850.0",
                  "1": "Casa e Decoração"
                },
                {
                  "0": "2.15",
                  "1": "Casa e Decoração"
                },
                {
                  "0": "1500.0",
                  "1": "Eletro Eletrônico"
                },
                {
                  "0": "1300.0",
                  "1": "Casa e Decoração"
                },
                {
                  "0": "2125.99",
                  "1": "Tecnologia"
                },
                {
                  "0": "550.0",
                  "1": "Tecnologia"
                },
                {
                  "0": "2100.0",
                  "1": "Eletro Eletrônico"
                },
                {
                  "0": "1500.0",
                  "1": "Tecnologia"
                },
                {
                  "0": "850.0",
                  "1": "Eletro Eletrônico"
                },
                {
                  "0": "875.0",
                  "1": "Casa e Decoração"
                },
                {
                  "0": "135.0",
                  "1": "Eletro Eletrônico"
                },
                {
                  "0": "98.5",
                  "1": "Casa e Decoração"
                },
                {
                  "0": "135.0",
                  "1": "Casa e Decoração"
                },
                {
                  "0": "25.9",
                  "1": "Tecnologia"
                },
                {
                  "0": "875.0",
                  "1": "Eletro Eletrônico"
                },
                {
                  "0": "25.0",
                  "1": "papelaria/cosmético"
                },
                {
                  "0": "2100.0",
                  "1": "Casa e Decoração"
                },
                {
                  "0": "350.0",
                  "1": "Casa e Decoração"
                },
                {
                  "0": "875.0",
                  "1": "Eletro Eletrônico"
                },
                {
                  "0": "1600.0",
                  "1": "Eletro Eletrônico"
                },
                {
                  "0": "135.0",
                  "1": "papelaria/cosmético"
                },
                {
                  "0": "52.9",
                  "1": "Casa e Decoração"
                },
                {
                  "0": "135.0",
                  "1": "Eletro Eletrônico"
                },
                {
                  "0": "342.09",
                  "1": "Eletro Eletrônico"
                },
                {
                  "0": "550.0",
                  "1": "Tecnologia"
                },
                {
                  "0": "135.0",
                  "1": "Tecnologia"
                },
                {
                  "0": "850.0",
                  "1": "papelaria/cosmético"
                },
                {
                  "0": "5.3",
                  "1": "Tecnologia"
                },
                {
                  "0": "25.0",
                  "1": "papelaria/cosmético"
                },
                {
                  "0": "25.9",
                  "1": "Tecnologia"
                },
                {
                  "0": "135.0",
                  "1": "Casa e Decoração"
                },
                {
                  "0": "875.0",
                  "1": "papelaria/cosmético"
                },
                {
                  "0": "550.0",
                  "1": "papelaria/cosmético"
                },
                {
                  "0": "2125.99",
                  "1": "Eletro Eletrônico"
                },
                {
                  "0": "875.0",
                  "1": "Casa e Decoração"
                },
                {
                  "0": "850.0",
                  "1": "papelaria/cosmético"
                },
                {
                  "0": "342.09",
                  "1": "Eletro Eletrônico"
                },
                {
                  "0": "5.3",
                  "1": "Casa e Decoração"
                },
                {
                  "0": "98.5",
                  "1": "Eletro Eletrônico"
                },
                {
                  "0": "875.0",
                  "1": "Eletro Eletrônico"
                },
                {
                  "0": "25.0",
                  "1": "papelaria/cosmético"
                },
                {
                  "0": "1300.0",
                  "1": "Tecnologia"
                },
                {
                  "0": "2.15",
                  "1": "Casa e Decoração"
                },
                {
                  "0": "2125.99",
                  "1": "papelaria/cosmético"
                },
                {
                  "0": "25.0",
                  "1": "Casa e Decoração"
                },
                {
                  "0": "342.09",
                  "1": "Casa e Decoração"
                },
                {
                  "0": "25.9",
                  "1": "Tecnologia"
                },
                {
                  "0": "25.15",
                  "1": "Tecnologia"
                },
                {
                  "0": "875.0",
                  "1": "papelaria/cosmético"
                },
                {
                  "0": "135.0",
                  "1": "Eletro Eletrônico"
                },
                {
                  "0": "0.5",
                  "1": "papelaria/cosmético"
                },
                {
                  "0": "25.0",
                  "1": "Eletro Eletrônico"
                },
                {
                  "0": "875.0",
                  "1": "Eletro Eletrônico"
                },
                {
                  "0": "52.9",
                  "1": "Tecnologia"
                },
                {
                  "0": "25.15",
                  "1": "papelaria/cosmético"
                },
                {
                  "0": "1300.0",
                  "1": "Eletro Eletrônico"
                },
                {
                  "0": "1300.0",
                  "1": "Tecnologia"
                },
                {
                  "0": "342.09",
                  "1": "papelaria/cosmético"
                },
                {
                  "0": "550.0",
                  "1": "papelaria/cosmético"
                },
                {
                  "0": "875.0",
                  "1": "Eletro Eletrônico"
                },
                {
                  "0": "12.25",
                  "1": "Tecnologia"
                },
                {
                  "0": "550.0",
                  "1": "Eletro Eletrônico"
                },
                {
                  "0": "2125.99",
                  "1": "Casa e Decoração"
                },
                {
                  "0": "135.0",
                  "1": "Eletro Eletrônico"
                },
                {
                  "0": "98.5",
                  "1": "Tecnologia"
                },
                {
                  "0": "0.5",
                  "1": "Eletro Eletrônico"
                },
                {
                  "0": "135.0",
                  "1": "Eletro Eletrônico"
                },
                {
                  "0": "300.0",
                  "1": "Casa e Decoração"
                },
                {
                  "0": "98.5",
                  "1": "Casa e Decoração"
                },
                {
                  "0": "1600.0",
                  "1": "papelaria/cosmético"
                },
                {
                  "0": "2100.0",
                  "1": "Tecnologia"
                },
                {
                  "0": "5.3",
                  "1": "Tecnologia"
                },
                {
                  "0": "2100.0",
                  "1": "Casa e Decoração"
                },
                {
                  "0": "98.5",
                  "1": "Tecnologia"
                },
                {
                  "0": "12.25",
                  "1": "Tecnologia"
                },
                {
                  "0": "0.5",
                  "1": "Eletro Eletrônico"
                },
                {
                  "0": "3.2",
                  "1": "Eletro Eletrônico"
                },
                {
                  "0": "3.2",
                  "1": "Tecnologia"
                },
                {
                  "0": "550.0",
                  "1": "papelaria/cosmético"
                },
                {
                  "0": "12.25",
                  "1": "Casa e Decoração"
                },
                {
                  "0": "1075.0",
                  "1": "Eletro Eletrônico"
                },
                {
                  "0": "2125.99",
                  "1": "Casa e Decoração"
                },
                {
                  "0": "25.15",
                  "1": "Tecnologia"
                },
                {
                  "0": "300.0",
                  "1": "Casa e Decoração"
                },
                {
                  "0": "3.2",
                  "1": "papelaria/cosmético"
                },
                {
                  "0": "875.0",
                  "1": "papelaria/cosmético"
                },
                {
                  "0": "0.5",
                  "1": "papelaria/cosmético"
                },
                {
                  "0": "0.5",
                  "1": "Casa e Decoração"
                },
                {
                  "0": "550.0",
                  "1": "papelaria/cosmético"
                },
                {
                  "0": "2100.0",
                  "1": "Eletro Eletrônico"
                },
                {
                  "0": "25.9",
                  "1": "Casa e Decoração"
                },
                {
                  "0": "1300.0",
                  "1": "papelaria/cosmético"
                },
                {
                  "0": "850.0",
                  "1": "Tecnologia"
                },
                {
                  "0": "1600.0",
                  "1": "papelaria/cosmético"
                },
                {
                  "0": "25.15",
                  "1": "Tecnologia"
                },
                {
                  "0": "1500.0",
                  "1": "Tecnologia"
                },
                {
                  "0": "98.5",
                  "1": "Casa e Decoração"
                },
                {
                  "0": "2.15",
                  "1": "Tecnologia"
                },
                {
                  "0": "1075.0",
                  "1": "papelaria/cosmético"
                },
                {
                  "0": "1075.0",
                  "1": "papelaria/cosmético"
                },
                {
                  "0": "342.09",
                  "1": "Tecnologia"
                },
                {
                  "0": "350.0",
                  "1": "Tecnologia"
                },
                {
                  "0": "3.2",
                  "1": "Tecnologia"
                },
                {
                  "0": "342.09",
                  "1": "Casa e Decoração"
                },
                {
                  "0": "2125.99",
                  "1": "Casa e Decoração"
                },
                {
                  "0": "98.5",
                  "1": "Casa e Decoração"
                },
                {
                  "0": "2.15",
                  "1": "Casa e Decoração"
                },
                {
                  "0": "3.2",
                  "1": "Eletro Eletrônico"
                },
                {
                  "0": "12.25",
                  "1": "papelaria/cosmético"
                },
                {
                  "0": "98.5",
                  "1": "Casa e Decoração"
                },
                {
                  "0": "2.15",
                  "1": "Tecnologia"
                },
                {
                  "0": "342.09",
                  "1": "papelaria/cosmético"
                },
                {
                  "0": "25.15",
                  "1": "Eletro Eletrônico"
                },
                {
                  "0": "1600.0",
                  "1": "Tecnologia"
                },
                {
                  "0": "25.0",
                  "1": "Eletro Eletrônico"
                },
                {
                  "0": "5.3",
                  "1": "Tecnologia"
                },
                {
                  "0": "1600.0",
                  "1": "Eletro Eletrônico"
                },
                {
                  "0": "875.0",
                  "1": "Eletro Eletrônico"
                },
                {
                  "0": "52.9",
                  "1": "Casa e Decoração"
                },
                {
                  "0": "98.5",
                  "1": "Tecnologia"
                },
                {
                  "0": "875.0",
                  "1": "Casa e Decoração"
                },
                {
                  "0": "25.0",
                  "1": "Tecnologia"
                },
                {
                  "0": "1075.0",
                  "1": "Eletro Eletrônico"
                },
                {
                  "0": "98.5",
                  "1": "Casa e Decoração"
                },
                {
                  "0": "3.2",
                  "1": "Tecnologia"
                },
                {
                  "0": "875.0",
                  "1": "Tecnologia"
                },
                {
                  "0": "25.0",
                  "1": "Eletro Eletrônico"
                },
                {
                  "0": "5.3",
                  "1": "Eletro Eletrônico"
                },
                {
                  "0": "25.15",
                  "1": "Casa e Decoração"
                },
                {
                  "0": "25.0",
                  "1": "Casa e Decoração"
                },
                {
                  "0": "1075.0",
                  "1": "papelaria/cosmético"
                },
                {
                  "0": "2125.99",
                  "1": "papelaria/cosmético"
                },
                {
                  "0": "1600.0",
                  "1": "Tecnologia"
                },
                {
                  "0": "2.15",
                  "1": "papelaria/cosmético"
                },
                {
                  "0": "3.2",
                  "1": "papelaria/cosmético"
                },
                {
                  "0": "2125.99",
                  "1": "Eletro Eletrônico"
                },
                {
                  "0": "2100.0",
                  "1": "Casa e Decoração"
                },
                {
                  "0": "1075.0",
                  "1": "Tecnologia"
                },
                {
                  "0": "875.0",
                  "1": "Casa e Decoração"
                },
                {
                  "0": "52.9",
                  "1": "Eletro Eletrônico"
                },
                {
                  "0": "5.3",
                  "1": "Casa e Decoração"
                },
                {
                  "0": "350.0",
                  "1": "Casa e Decoração"
                },
                {
                  "0": "550.0",
                  "1": "Tecnologia"
                },
                {
                  "0": "25.9",
                  "1": "Casa e Decoração"
                },
                {
                  "0": "1600.0",
                  "1": "Eletro Eletrônico"
                },
                {
                  "0": "300.0",
                  "1": "Eletro Eletrônico"
                },
                {
                  "0": "5.3",
                  "1": "Eletro Eletrônico"
                },
                {
                  "0": "3.2",
                  "1": "Tecnologia"
                },
                {
                  "0": "25.0",
                  "1": "Tecnologia"
                },
                {
                  "0": "342.09",
                  "1": "Casa e Decoração"
                },
                {
                  "0": "2125.99",
                  "1": "Casa e Decoração"
                },
                {
                  "0": "5.3",
                  "1": "Casa e Decoração"
                },
                {
                  "0": "350.0",
                  "1": "Casa e Decoração"
                },
                {
                  "0": "1500.0",
                  "1": "Tecnologia"
                },
                {
                  "0": "98.5",
                  "1": "Eletro Eletrônico"
                },
                {
                  "0": "25.15",
                  "1": "Eletro Eletrônico"
                },
                {
                  "0": "3.2",
                  "1": "Tecnologia"
                },
                {
                  "0": "98.5",
                  "1": "Tecnologia"
                },
                {
                  "0": "25.15",
                  "1": "Casa e Decoração"
                },
                {
                  "0": "2.15",
                  "1": "Casa e Decoração"
                },
                {
                  "0": "2100.0",
                  "1": "Eletro Eletrônico"
                },
                {
                  "0": "3.2",
                  "1": "Tecnologia"
                },
                {
                  "0": "2100.0",
                  "1": "Tecnologia"
                },
                {
                  "0": "350.0",
                  "1": "Casa e Decoração"
                },
                {
                  "0": "12.25",
                  "1": "Casa e Decoração"
                },
                {
                  "0": "135.0",
                  "1": "Casa e Decoração"
                },
                {
                  "0": "25.9",
                  "1": "Eletro Eletrônico"
                },
                {
                  "0": "25.0",
                  "1": "Tecnologia"
                },
                {
                  "0": "25.15",
                  "1": "Casa e Decoração"
                },
                {
                  "0": "1300.0",
                  "1": "Eletro Eletrônico"
                },
                {
                  "0": "25.9",
                  "1": "papelaria/cosmético"
                },
                {
                  "0": "300.0",
                  "1": "papelaria/cosmético"
                },
                {
                  "0": "52.9",
                  "1": "Eletro Eletrônico"
                },
                {
                  "0": "52.9",
                  "1": "papelaria/cosmético"
                },
                {
                  "0": "98.5",
                  "1": "Casa e Decoração"
                },
                {
                  "0": "12.25",
                  "1": "Tecnologia"
                },
                {
                  "0": "550.0",
                  "1": "Eletro Eletrônico"
                },
                {
                  "0": "52.9",
                  "1": "papelaria/cosmético"
                },
                {
                  "0": "2100.0",
                  "1": "Tecnologia"
                },
                {
                  "0": "342.09",
                  "1": "papelaria/cosmético"
                },
                {
                  "0": "850.0",
                  "1": "Tecnologia"
                },
                {
                  "0": "25.9",
                  "1": "Eletro Eletrônico"
                },
                {
                  "0": "3.2",
                  "1": "papelaria/cosmético"
                },
                {
                  "0": "550.0",
                  "1": "Eletro Eletrônico"
                },
                {
                  "0": "1300.0",
                  "1": "Tecnologia"
                },
                {
                  "0": "3.2",
                  "1": "Casa e Decoração"
                },
                {
                  "0": "1075.0",
                  "1": "Casa e Decoração"
                },
                {
                  "0": "1600.0",
                  "1": "Eletro Eletrônico"
                },
                {
                  "0": "0.5",
                  "1": "Tecnologia"
                },
                {
                  "0": "1600.0",
                  "1": "Casa e Decoração"
                },
                {
                  "0": "2.15",
                  "1": "Eletro Eletrônico"
                },
                {
                  "0": "0.5",
                  "1": "Tecnologia"
                },
                {
                  "0": "875.0",
                  "1": "Casa e Decoração"
                },
                {
                  "0": "550.0",
                  "1": "Eletro Eletrônico"
                },
                {
                  "0": "1075.0",
                  "1": "Eletro Eletrônico"
                },
                {
                  "0": "5.3",
                  "1": "Eletro Eletrônico"
                },
                {
                  "0": "342.09",
                  "1": "papelaria/cosmético"
                },
                {
                  "0": "12.25",
                  "1": "papelaria/cosmético"
                },
                {
                  "0": "5.3",
                  "1": "Tecnologia"
                },
                {
                  "0": "98.5",
                  "1": "Eletro Eletrônico"
                },
                {
                  "0": "2125.99",
                  "1": "papelaria/cosmético"
                },
                {
                  "0": "2.15",
                  "1": "Casa e Decoração"
                },
                {
                  "0": "135.0",
                  "1": "papelaria/cosmético"
                },
                {
                  "0": "1300.0",
                  "1": "Eletro Eletrônico"
                },
                {
                  "0": "5.3",
                  "1": "papelaria/cosmético"
                },
                {
                  "0": "300.0",
                  "1": "Eletro Eletrônico"
                },
                {
                  "0": "1075.0",
                  "1": "Eletro Eletrônico"
                },
                {
                  "0": "5.3",
                  "1": "Tecnologia"
                },
                {
                  "0": "12.25",
                  "1": "Tecnologia"
                },
                {
                  "0": "875.0",
                  "1": "papelaria/cosmético"
                },
                {
                  "0": "25.15",
                  "1": "Eletro Eletrônico"
                },
                {
                  "0": "12.25",
                  "1": "papelaria/cosmético"
                },
                {
                  "0": "1600.0",
                  "1": "Eletro Eletrônico"
                },
                {
                  "0": "52.9",
                  "1": "Eletro Eletrônico"
                },
                {
                  "0": "850.0",
                  "1": "Tecnologia"
                },
                {
                  "0": "52.9",
                  "1": "Eletro Eletrônico"
                },
                {
                  "0": "25.15",
                  "1": "Casa e Decoração"
                },
                {
                  "0": "0.5",
                  "1": "Eletro Eletrônico"
                },
                {
                  "0": "5.3",
                  "1": "Eletro Eletrônico"
                },
                {
                  "0": "2.15",
                  "1": "Eletro Eletrônico"
                },
                {
                  "0": "25.9",
                  "1": "Casa e Decoração"
                },
                {
                  "0": "98.5",
                  "1": "Tecnologia"
                },
                {
                  "0": "25.0",
                  "1": "Casa e Decoração"
                },
                {
                  "0": "350.0",
                  "1": "Tecnologia"
                },
                {
                  "0": "98.5",
                  "1": "papelaria/cosmético"
                },
                {
                  "0": "52.9",
                  "1": "Tecnologia"
                },
                {
                  "0": "2.15",
                  "1": "Casa e Decoração"
                },
                {
                  "0": "3.2",
                  "1": "papelaria/cosmético"
                },
                {
                  "0": "1300.0",
                  "1": "Tecnologia"
                },
                {
                  "0": "25.15",
                  "1": "Casa e Decoração"
                },
                {
                  "0": "12.25",
                  "1": "Tecnologia"
                },
                {
                  "0": "1300.0",
                  "1": "papelaria/cosmético"
                },
                {
                  "0": "25.0",
                  "1": "Tecnologia"
                },
                {
                  "0": "300.0",
                  "1": "Eletro Eletrônico"
                },
                {
                  "0": "342.09",
                  "1": "Casa e Decoração"
                },
                {
                  "0": "98.5",
                  "1": "Tecnologia"
                },
                {
                  "0": "12.25",
                  "1": "papelaria/cosmético"
                },
                {
                  "0": "1075.0",
                  "1": "Tecnologia"
                },
                {
                  "0": "1500.0",
                  "1": "Casa e Decoração"
                },
                {
                  "0": "2.15",
                  "1": "Tecnologia"
                },
                {
                  "0": "1500.0",
                  "1": "Eletro Eletrônico"
                },
                {
                  "0": "25.15",
                  "1": "Casa e Decoração"
                },
                {
                  "0": "350.0",
                  "1": "Eletro Eletrônico"
                },
                {
                  "0": "2125.99",
                  "1": "papelaria/cosmético"
                },
                {
                  "0": "1600.0",
                  "1": "Eletro Eletrônico"
                },
                {
                  "0": "98.5",
                  "1": "Casa e Decoração"
                },
                {
                  "0": "300.0",
                  "1": "Casa e Decoração"
                },
                {
                  "0": "550.0",
                  "1": "papelaria/cosmético"
                },
                {
                  "0": "1600.0",
                  "1": "Casa e Decoração"
                },
                {
                  "0": "135.0",
                  "1": "Casa e Decoração"
                },
                {
                  "0": "1075.0",
                  "1": "Casa e Decoração"
                },
                {
                  "0": "3.2",
                  "1": "Casa e Decoração"
                },
                {
                  "0": "52.9",
                  "1": "Eletro Eletrônico"
                },
                {
                  "0": "0.5",
                  "1": "Casa e Decoração"
                },
                {
                  "0": "342.09",
                  "1": "Eletro Eletrônico"
                },
                {
                  "0": "2.15",
                  "1": "papelaria/cosmético"
                },
                {
                  "0": "25.15",
                  "1": "Eletro Eletrônico"
                },
                {
                  "0": "12.25",
                  "1": "Casa e Decoração"
                },
                {
                  "0": "25.15",
                  "1": "papelaria/cosmético"
                },
                {
                  "0": "300.0",
                  "1": "Eletro Eletrônico"
                },
                {
                  "0": "98.5",
                  "1": "Eletro Eletrônico"
                },
                {
                  "0": "25.9",
                  "1": "papelaria/cosmético"
                },
                {
                  "0": "2100.0",
                  "1": "papelaria/cosmético"
                },
                {
                  "0": "0.5",
                  "1": "papelaria/cosmético"
                },
                {
                  "0": "342.09",
                  "1": "papelaria/cosmético"
                },
                {
                  "0": "52.9",
                  "1": "papelaria/cosmético"
                },
                {
                  "0": "25.9",
                  "1": "Eletro Eletrônico"
                },
                {
                  "0": "850.0",
                  "1": "Eletro Eletrônico"
                },
                {
                  "0": "52.9",
                  "1": "Eletro Eletrônico"
                },
                {
                  "0": "2125.99",
                  "1": "Casa e Decoração"
                },
                {
                  "0": "1300.0",
                  "1": "Tecnologia"
                },
                {
                  "0": "300.0",
                  "1": "papelaria/cosmético"
                },
                {
                  "0": "1075.0",
                  "1": "papelaria/cosmético"
                },
                {
                  "0": "300.0",
                  "1": "Tecnologia"
                },
                {
                  "0": "550.0",
                  "1": "papelaria/cosmético"
                },
                {
                  "0": "12.25",
                  "1": "Eletro Eletrônico"
                },
                {
                  "0": "52.9",
                  "1": "Tecnologia"
                },
                {
                  "0": "0.5",
                  "1": "Eletro Eletrônico"
                },
                {
                  "0": "25.9",
                  "1": "Casa e Decoração"
                },
                {
                  "0": "1500.0",
                  "1": "Eletro Eletrônico"
                },
                {
                  "0": "850.0",
                  "1": "Casa e Decoração"
                },
                {
                  "0": "3.2",
                  "1": "Eletro Eletrônico"
                },
                {
                  "0": "2125.99",
                  "1": "Eletro Eletrônico"
                },
                {
                  "0": "1300.0",
                  "1": "Casa e Decoração"
                },
                {
                  "0": "550.0",
                  "1": "Casa e Decoração"
                },
                {
                  "0": "1500.0",
                  "1": "Eletro Eletrônico"
                },
                {
                  "0": "1500.0",
                  "1": "Tecnologia"
                },
                {
                  "0": "1300.0",
                  "1": "papelaria/cosmético"
                },
                {
                  "0": "1500.0",
                  "1": "Tecnologia"
                },
                {
                  "0": "2100.0",
                  "1": "Casa e Decoração"
                },
                {
                  "0": "5.3",
                  "1": "Casa e Decoração"
                },
                {
                  "0": "12.25",
                  "1": "papelaria/cosmético"
                },
                {
                  "0": "0.5",
                  "1": "Tecnologia"
                },
                {
                  "0": "2125.99",
                  "1": "papelaria/cosmético"
                },
                {
                  "0": "0.5",
                  "1": "Casa e Decoração"
                },
                {
                  "0": "98.5",
                  "1": "Casa e Decoração"
                },
                {
                  "0": "350.0",
                  "1": "Tecnologia"
                },
                {
                  "0": "300.0",
                  "1": "Casa e Decoração"
                },
                {
                  "0": "25.0",
                  "1": "Casa e Decoração"
                },
                {
                  "0": "342.09",
                  "1": "papelaria/cosmético"
                },
                {
                  "0": "342.09",
                  "1": "Eletro Eletrônico"
                },
                {
                  "0": "2.15",
                  "1": "papelaria/cosmético"
                },
                {
                  "0": "25.9",
                  "1": "Eletro Eletrônico"
                },
                {
                  "0": "25.0",
                  "1": "papelaria/cosmético"
                },
                {
                  "0": "350.0",
                  "1": "Eletro Eletrônico"
                },
                {
                  "0": "52.9",
                  "1": "Tecnologia"
                },
                {
                  "0": "875.0",
                  "1": "Casa e Decoração"
                },
                {
                  "0": "875.0",
                  "1": "Tecnologia"
                },
                {
                  "0": "550.0",
                  "1": "Tecnologia"
                },
                {
                  "0": "300.0",
                  "1": "Tecnologia"
                },
                {
                  "0": "850.0",
                  "1": "papelaria/cosmético"
                },
                {
                  "0": "300.0",
                  "1": "Casa e Decoração"
                },
                {
                  "0": "135.0",
                  "1": "Eletro Eletrônico"
                },
                {
                  "0": "300.0",
                  "1": "Tecnologia"
                },
                {
                  "0": "350.0",
                  "1": "papelaria/cosmético"
                },
                {
                  "0": "3.2",
                  "1": "Tecnologia"
                },
                {
                  "0": "1075.0",
                  "1": "Casa e Decoração"
                },
                {
                  "0": "25.9",
                  "1": "Eletro Eletrônico"
                },
                {
                  "0": "342.09",
                  "1": "papelaria/cosmético"
                },
                {
                  "0": "3.2",
                  "1": "papelaria/cosmético"
                },
                {
                  "0": "1300.0",
                  "1": "Casa e Decoração"
                },
                {
                  "0": "300.0",
                  "1": "Eletro Eletrônico"
                },
                {
                  "0": "2.15",
                  "1": "Eletro Eletrônico"
                },
                {
                  "0": "300.0",
                  "1": "Tecnologia"
                },
                {
                  "0": "135.0",
                  "1": "papelaria/cosmético"
                },
                {
                  "0": "25.15",
                  "1": "papelaria/cosmético"
                },
                {
                  "0": "1600.0",
                  "1": "Tecnologia"
                },
                {
                  "0": "0.5",
                  "1": "papelaria/cosmético"
                },
                {
                  "0": "12.25",
                  "1": "Eletro Eletrônico"
                },
                {
                  "0": "25.9",
                  "1": "papelaria/cosmético"
                },
                {
                  "0": "52.9",
                  "1": "papelaria/cosmético"
                },
                {
                  "0": "1075.0",
                  "1": "Casa e Decoração"
                },
                {
                  "0": "25.15",
                  "1": "Casa e Decoração"
                },
                {
                  "0": "300.0",
                  "1": "Eletro Eletrônico"
                },
                {
                  "0": "350.0",
                  "1": "Casa e Decoração"
                },
                {
                  "0": "875.0",
                  "1": "Tecnologia"
                },
                {
                  "0": "1500.0",
                  "1": "Tecnologia"
                },
                {
                  "0": "875.0",
                  "1": "Eletro Eletrônico"
                },
                {
                  "0": "300.0",
                  "1": "Eletro Eletrônico"
                },
                {
                  "0": "25.15",
                  "1": "Eletro Eletrônico"
                },
                {
                  "0": "25.9",
                  "1": "Eletro Eletrônico"
                },
                {
                  "0": "875.0",
                  "1": "Casa e Decoração"
                },
                {
                  "0": "52.9",
                  "1": "papelaria/cosmético"
                },
                {
                  "0": "25.0",
                  "1": "Casa e Decoração"
                },
                {
                  "0": "1600.0",
                  "1": "papelaria/cosmético"
                },
                {
                  "0": "12.25",
                  "1": "Casa e Decoração"
                },
                {
                  "0": "25.9",
                  "1": "Casa e Decoração"
                },
                {
                  "0": "300.0",
                  "1": "Eletro Eletrônico"
                },
                {
                  "0": "2.15",
                  "1": "Tecnologia"
                },
                {
                  "0": "550.0",
                  "1": "Casa e Decoração"
                },
                {
                  "0": "300.0",
                  "1": "Casa e Decoração"
                },
                {
                  "0": "550.0",
                  "1": "Tecnologia"
                },
                {
                  "0": "300.0",
                  "1": "Tecnologia"
                },
                {
                  "0": "2.15",
                  "1": "Tecnologia"
                },
                {
                  "0": "135.0",
                  "1": "Eletro Eletrônico"
                },
                {
                  "0": "12.25",
                  "1": "Eletro Eletrônico"
                },
                {
                  "0": "2.15",
                  "1": "Casa e Decoração"
                },
                {
                  "0": "25.15",
                  "1": "Eletro Eletrônico"
                },
                {
                  "0": "25.15",
                  "1": "Tecnologia"
                },
                {
                  "0": "25.15",
                  "1": "Casa e Decoração"
                },
                {
                  "0": "550.0",
                  "1": "papelaria/cosmético"
                },
                {
                  "0": "0.5",
                  "1": "Eletro Eletrônico"
                },
                {
                  "0": "2.15",
                  "1": "Eletro Eletrônico"
                },
                {
                  "0": "550.0",
                  "1": "Casa e Decoração"
                },
                {
                  "0": "1600.0",
                  "1": "Casa e Decoração"
                },
                {
                  "0": "0.5",
                  "1": "Eletro Eletrônico"
                },
                {
                  "0": "25.0",
                  "1": "Eletro Eletrônico"
                },
                {
                  "0": "875.0",
                  "1": "Tecnologia"
                },
                {
                  "0": "550.0",
                  "1": "Eletro Eletrônico"
                },
                {
                  "0": "1075.0",
                  "1": "papelaria/cosmético"
                },
                {
                  "0": "2125.99",
                  "1": "Tecnologia"
                },
                {
                  "0": "2125.99",
                  "1": "papelaria/cosmético"
                },
                {
                  "0": "1300.0",
                  "1": "papelaria/cosmético"
                },
                {
                  "0": "52.9",
                  "1": "papelaria/cosmético"
                },
                {
                  "0": "2125.99",
                  "1": "Eletro Eletrônico"
                },
                {
                  "0": "2125.99",
                  "1": "Tecnologia"
                },
                {
                  "0": "1600.0",
                  "1": "papelaria/cosmético"
                },
                {
                  "0": "135.0",
                  "1": "papelaria/cosmético"
                },
                {
                  "0": "1500.0",
                  "1": "Eletro Eletrônico"
                },
                {
                  "0": "25.9",
                  "1": "Eletro Eletrônico"
                },
                {
                  "0": "2125.99",
                  "1": "Tecnologia"
                },
                {
                  "0": "2125.99",
                  "1": "Casa e Decoração"
                },
                {
                  "0": "98.5",
                  "1": "Casa e Decoração"
                },
                {
                  "0": "2.15",
                  "1": "papelaria/cosmético"
                },
                {
                  "0": "3.2",
                  "1": "papelaria/cosmético"
                },
                {
                  "0": "25.15",
                  "1": "Tecnologia"
                },
                {
                  "0": "25.0",
                  "1": "papelaria/cosmético"
                },
                {
                  "0": "342.09",
                  "1": "Casa e Decoração"
                },
                {
                  "0": "300.0",
                  "1": "Casa e Decoração"
                },
                {
                  "0": "12.25",
                  "1": "Eletro Eletrônico"
                },
                {
                  "0": "850.0",
                  "1": "Eletro Eletrônico"
                },
                {
                  "0": "1075.0",
                  "1": "Tecnologia"
                },
                {
                  "0": "1300.0",
                  "1": "papelaria/cosmético"
                },
                {
                  "0": "52.9",
                  "1": "Eletro Eletrônico"
                },
                {
                  "0": "350.0",
                  "1": "Casa e Decoração"
                },
                {
                  "0": "2125.99",
                  "1": "Casa e Decoração"
                },
                {
                  "0": "850.0",
                  "1": "papelaria/cosmético"
                },
                {
                  "0": "3.2",
                  "1": "Casa e Decoração"
                },
                {
                  "0": "1600.0",
                  "1": "Tecnologia"
                },
                {
                  "0": "850.0",
                  "1": "Tecnologia"
                },
                {
                  "0": "350.0",
                  "1": "Tecnologia"
                },
                {
                  "0": "25.0",
                  "1": "Tecnologia"
                },
                {
                  "0": "0.5",
                  "1": "papelaria/cosmético"
                },
                {
                  "0": "550.0",
                  "1": "Casa e Decoração"
                },
                {
                  "0": "12.25",
                  "1": "Casa e Decoração"
                },
                {
                  "0": "1075.0",
                  "1": "papelaria/cosmético"
                },
                {
                  "0": "25.0",
                  "1": "Casa e Decoração"
                },
                {
                  "0": "300.0",
                  "1": "papelaria/cosmético"
                },
                {
                  "0": "135.0",
                  "1": "papelaria/cosmético"
                },
                {
                  "0": "25.0",
                  "1": "papelaria/cosmético"
                },
                {
                  "0": "350.0",
                  "1": "Tecnologia"
                },
                {
                  "0": "25.9",
                  "1": "Tecnologia"
                },
                {
                  "0": "25.0",
                  "1": "Tecnologia"
                },
                {
                  "0": "5.3",
                  "1": "Eletro Eletrônico"
                },
                {
                  "0": "25.9",
                  "1": "papelaria/cosmético"
                }
              ],
              "schema": [
                {
                  "key": "0",
                  "name": "val_venda",
                  "type": "double"
                },
                {
                  "key": "1",
                  "name": "nom_gerencia",
                  "type": "string"
                }
              ],
              "truncated": false
            },
            "isSummary": false,
            "language": "scala",
            "wranglerEntryContext": {
              "candidateVariableNames": [
                "df_select"
              ],
              "dataframeType": "pyspark"
            }
          },
          "persist_state": {
            "view": {
              "type": "details",
              "tableOptions": {},
              "chartOptions": {
                "chartType": "bar",
                "aggregationType": "sum",
                "categoryFieldKeys": [
                  "1"
                ],
                "seriesFieldKeys": [
                  "0"
                ],
                "isStacked": false
              }
            }
          }
        },
        "fbf50198-898c-4e6a-9656-59dbfc55dcc5": {
          "type": "Synapse.DataFrame",
          "sync_state": {
            "table": {
              "rows": [
                {
                  "0": "1",
                  "1": "3",
                  "2": "Renato Russo",
                  "3": "3",
                  "4": "Issac Palmeiras",
                  "5": "3",
                  "6": "Roma",
                  "7": "4",
                  "8": "Monitor",
                  "9": "4",
                  "10": "IBM",
                  "11": "1",
                  "12": "Informática",
                  "13": "3",
                  "14": "Eletro Eletrônico",
                  "15": "2015",
                  "16": "8",
                  "17": "22",
                  "18": "22/08/2015",
                  "19": "1",
                  "20": "1300.0",
                  "21": "1033",
                  "22": "35.685",
                  "23": "139.751389"
                },
                {
                  "0": "2",
                  "1": "4",
                  "2": "Tom Jobim",
                  "3": "3",
                  "4": "Issac Palmeiras",
                  "5": "1",
                  "6": "Salvador",
                  "7": "10",
                  "8": "Papel A4",
                  "9": "8",
                  "10": "FABER CASTELL",
                  "11": "1",
                  "12": "Papelaria",
                  "13": "1",
                  "14": "Tecnologia",
                  "15": "2014",
                  "16": "8",
                  "17": "15",
                  "18": "15/08/2014",
                  "19": "1",
                  "20": "2.15",
                  "21": "812",
                  "22": "31.045556",
                  "23": "121.399722"
                },
                {
                  "0": "3",
                  "1": "5",
                  "2": "Edson Arantes",
                  "3": "5",
                  "4": "Maria Braga",
                  "5": "3",
                  "6": "Roma",
                  "7": "11",
                  "8": "Caneta ",
                  "9": "8",
                  "10": "FABER CASTELL",
                  "11": "1",
                  "12": "Papelaria",
                  "13": "3",
                  "14": "Eletro Eletrônico",
                  "15": "2014",
                  "16": "4",
                  "17": "26",
                  "18": "26/04/2014",
                  "19": "2",
                  "20": "0.5",
                  "21": "447",
                  "22": "18.975",
                  "23": "72.825833"
                },
                {
                  "0": "4",
                  "1": "5",
                  "2": "Edson Arantes",
                  "3": "9",
                  "4": "Diego Santos",
                  "5": "2",
                  "6": "Nova Iorque",
                  "7": "19",
                  "8": "Fogão",
                  "9": "13",
                  "10": "BRASTEMP",
                  "11": "1",
                  "12": "Eletrodomestico",
                  "13": "4",
                  "14": "Casa e Decoração",
                  "15": "2014",
                  "16": "1",
                  "17": "9",
                  "18": "9/1/2014",
                  "19": "1",
                  "20": "1500.0",
                  "21": "509",
                  "22": "24.9056",
                  "23": "67.0822"
                },
                {
                  "0": "5",
                  "1": "6",
                  "2": "Reginaldo Rossi",
                  "3": "10",
                  "4": "Danilo Barreto",
                  "5": "4",
                  "6": "Bagdá",
                  "7": "16",
                  "8": "Perfume",
                  "9": "11",
                  "10": "PHILIPS",
                  "11": "6",
                  "12": "cosmético",
                  "13": "4",
                  "14": "Casa e Decoração",
                  "15": "2015",
                  "16": "5",
                  "17": "24",
                  "18": "24/05/2015",
                  "19": "1",
                  "20": "135.0",
                  "21": "1337",
                  "22": "28.666667",
                  "23": "77.216667"
                },
                {
                  "0": "6",
                  "1": "4",
                  "2": "Tom Jobim",
                  "3": "4",
                  "4": "Daniela Matos",
                  "5": "3",
                  "6": "Roma",
                  "7": "11",
                  "8": "Caneta ",
                  "9": "8",
                  "10": "FABER CASTELL",
                  "11": "3",
                  "12": "Papelaria",
                  "13": "3",
                  "14": "Eletro Eletrônico",
                  "15": "2014",
                  "16": "7",
                  "17": "25",
                  "18": "25/07/2014",
                  "19": "1",
                  "20": "0.5",
                  "21": "1337",
                  "22": "28.6",
                  "23": "77.2"
                },
                {
                  "0": "7",
                  "1": "3",
                  "2": "Renato Russo",
                  "3": "4",
                  "4": "Daniela Matos",
                  "5": "1",
                  "6": "Salvador",
                  "7": "9",
                  "8": "Celular  8GB",
                  "9": "8",
                  "10": "FABER CASTELL",
                  "11": "5",
                  "12": "Informática",
                  "13": "4",
                  "14": "Casa e Decoração",
                  "15": "2015",
                  "16": "3",
                  "17": "12",
                  "18": "12/3/2015",
                  "19": "1",
                  "20": "12.25",
                  "21": "724",
                  "22": "14.6042",
                  "23": "120.9822"
                },
                {
                  "0": "8",
                  "1": "2",
                  "2": "Benito de Paula",
                  "3": "7",
                  "4": "João Oliveira",
                  "5": "5",
                  "6": "Budapeste",
                  "7": "19",
                  "8": "Fogão",
                  "9": "13",
                  "10": "BRASTEMP",
                  "11": "4",
                  "12": "Eletrodomestico",
                  "13": "3",
                  "14": "Eletro Eletrônico",
                  "15": "2014",
                  "16": "8",
                  "17": "17",
                  "18": "17/08/2014",
                  "19": "2",
                  "20": "1500.0",
                  "21": "375",
                  "22": "55.752222",
                  "23": "37.615556"
                },
                {
                  "0": "9",
                  "1": "2",
                  "2": "Benito de Paula",
                  "3": "9",
                  "4": "Diego Santos",
                  "5": "5",
                  "6": "Budapeste",
                  "7": "20",
                  "8": "Geladeira",
                  "9": "12",
                  "10": "ELETROLUX",
                  "11": "3",
                  "12": "Eletrodomestico",
                  "13": "2",
                  "14": "papelaria/cosmético",
                  "15": "2015",
                  "16": "2",
                  "17": "7",
                  "18": "7/2/2015",
                  "19": "2",
                  "20": "350.0",
                  "21": "416",
                  "22": "37.5985",
                  "23": "126.9783"
                },
                {
                  "0": "10",
                  "1": "5",
                  "2": "Edson Arantes",
                  "3": "9",
                  "4": "Diego Santos",
                  "5": "1",
                  "6": "Salvador",
                  "7": "15",
                  "8": "Baton",
                  "9": "10",
                  "10": "BOTICARIO",
                  "11": "3",
                  "12": "cosmético",
                  "13": "2",
                  "14": "papelaria/cosmético",
                  "15": "2014",
                  "16": "10",
                  "17": "7",
                  "18": "7/10/2014",
                  "19": "1",
                  "20": "98.5",
                  "21": "1085",
                  "22": "-23.473293",
                  "23": "-46.665803"
                }
              ],
              "schema": [
                {
                  "key": "0",
                  "name": "id_venda",
                  "type": "bigint"
                },
                {
                  "key": "1",
                  "name": "cod_cliente",
                  "type": "bigint"
                },
                {
                  "key": "2",
                  "name": "nom_cliente",
                  "type": "string"
                },
                {
                  "key": "3",
                  "name": "cod_vendedor",
                  "type": "bigint"
                },
                {
                  "key": "4",
                  "name": "nom_vendedor",
                  "type": "string"
                },
                {
                  "key": "5",
                  "name": "cod_cidade",
                  "type": "bigint"
                },
                {
                  "key": "6",
                  "name": "nom_cidade",
                  "type": "string"
                },
                {
                  "key": "7",
                  "name": "cod_produto",
                  "type": "bigint"
                },
                {
                  "key": "8",
                  "name": "Nom_produto",
                  "type": "string"
                },
                {
                  "key": "9",
                  "name": "cod_marca",
                  "type": "bigint"
                },
                {
                  "key": "10",
                  "name": "Nom_marca",
                  "type": "string"
                },
                {
                  "key": "11",
                  "name": "cod_departamento",
                  "type": "bigint"
                },
                {
                  "key": "12",
                  "name": "nom_departamento",
                  "type": "string"
                },
                {
                  "key": "13",
                  "name": "cod_gerencia",
                  "type": "bigint"
                },
                {
                  "key": "14",
                  "name": "nom_gerencia",
                  "type": "string"
                },
                {
                  "key": "15",
                  "name": "Ano_venda",
                  "type": "bigint"
                },
                {
                  "key": "16",
                  "name": "Mês_venda",
                  "type": "bigint"
                },
                {
                  "key": "17",
                  "name": "Dia_venda",
                  "type": "bigint"
                },
                {
                  "key": "18",
                  "name": "dtc_venda",
                  "type": "string"
                },
                {
                  "key": "19",
                  "name": "qtd_venda",
                  "type": "bigint"
                },
                {
                  "key": "20",
                  "name": "val_venda",
                  "type": "double"
                },
                {
                  "key": "21",
                  "name": "num_nota",
                  "type": "bigint"
                },
                {
                  "key": "22",
                  "name": "Latitude",
                  "type": "double"
                },
                {
                  "key": "23",
                  "name": "Longitude",
                  "type": "double"
                }
              ],
              "truncated": false
            },
            "isSummary": false,
            "language": "scala",
            "wranglerEntryContext": null
          },
          "persist_state": {
            "view": {
              "type": "details",
              "tableOptions": {},
              "chartOptions": {
                "chartType": "bar",
                "aggregationType": "sum",
                "categoryFieldKeys": [
                  "1"
                ],
                "seriesFieldKeys": [
                  "0"
                ],
                "isStacked": false
              }
            }
          }
        }
      }
    }
  },
  "cells": [
    {
      "cell_type": "code",
      "execution_count": 1,
      "outputs": [
        {
          "output_type": "display_data",
          "data": {
            "application/vnd.livy.statement-meta+json": {
              "spark_pool": "poolspark",
              "statement_id": 2,
              "statement_ids": [
                2
              ],
              "state": "finished",
              "livy_statement_state": "available",
              "spark_jobs": null,
              "session_id": "0",
              "normalized_state": "finished",
              "queued_time": "2025-04-14T18:59:54.3895338Z",
              "session_start_time": "2025-04-14T18:59:54.3908507Z",
              "execution_start_time": "2025-04-14T19:03:32.7451875Z",
              "execution_finish_time": "2025-04-14T19:03:33.0727636Z",
              "parent_msg_id": "acc4c3fa-f54f-4f10-ba06-310071aabb42"
            },
            "text/plain": "StatementMeta(poolspark, 0, 2, Finished, Available, Finished)"
          },
          "metadata": {}
        }
      ],
      "metadata": {},
      "source": [
        "from pyspark.sql import SparkSession"
      ]
    },
    {
      "cell_type": "code",
      "execution_count": 27,
      "outputs": [
        {
          "output_type": "display_data",
          "data": {
            "application/vnd.livy.statement-meta+json": {
              "spark_pool": "poolspark",
              "statement_id": 28,
              "statement_ids": [
                28
              ],
              "state": "finished",
              "livy_statement_state": "available",
              "spark_jobs": null,
              "session_id": "0",
              "normalized_state": "finished",
              "queued_time": "2025-04-14T19:28:11.5428331Z",
              "session_start_time": null,
              "execution_start_time": "2025-04-14T19:28:11.544522Z",
              "execution_finish_time": "2025-04-14T19:28:11.8508492Z",
              "parent_msg_id": "392ecc78-b331-4635-b515-0f92e3dc173b"
            },
            "text/plain": "StatementMeta(poolspark, 0, 28, Finished, Available, Finished)"
          },
          "metadata": {}
        }
      ],
      "metadata": {},
      "source": [
        "spark = SparkSession.builder.appName(\"Exemplo_ADLS\").getOrCreate()"
      ]
    },
    {
      "cell_type": "code",
      "execution_count": 39,
      "outputs": [
        {
          "output_type": "display_data",
          "data": {
            "application/vnd.livy.statement-meta+json": {
              "spark_pool": "poolspark",
              "statement_id": 40,
              "statement_ids": [
                40
              ],
              "state": "finished",
              "livy_statement_state": "available",
              "spark_jobs": null,
              "session_id": "0",
              "normalized_state": "finished",
              "queued_time": "2025-04-14T19:42:03.8731825Z",
              "session_start_time": null,
              "execution_start_time": "2025-04-14T19:42:03.8749847Z",
              "execution_finish_time": "2025-04-14T19:42:18.8646661Z",
              "parent_msg_id": "3c33ef0f-3834-4a46-b13a-3a57e57b42ec"
            },
            "text/plain": "StatementMeta(poolspark, 0, 40, Finished, Available, Finished)"
          },
          "metadata": {}
        },
        {
          "output_type": "display_data",
          "data": {
            "application/vnd.synapse.widget-view+json": {
              "widget_id": "fbf50198-898c-4e6a-9656-59dbfc55dcc5",
              "widget_type": "Synapse.DataFrame"
            },
            "text/plain": "SynapseWidget(Synapse.DataFrame, fbf50198-898c-4e6a-9656-59dbfc55dcc5)"
          },
          "metadata": {}
        }
      ],
      "metadata": {
        "collapsed": false
      },
      "source": [
        "spark.conf.set(\n",
        "    f\"fs.azure.sas.fontedados.storage232311.blob.core.windows.net\",\n",
        "    \"sp=racwd&st=2025-04-14T19:27:04Z&se=2025-04-15T03:27:04Z&sv=2024-11-04&sr=b&sig=fgWksNzcm4DJ9wVhkJEAblzwVZsys%2FCuV98jT9a3rHM%3D\"\n",
        ")\n",
        "\n",
        "blob_url = \"wasbs://fontedados@storage232311.blob.core.windows.net/vendas.csv\"\n",
        "df = spark.read.csv(blob_url, header=True, inferSchema=True, encoding=\"ISO-8859-1\")\n",
        "display(df.head(10))\n",
        ""
      ]
    },
    {
      "cell_type": "code",
      "execution_count": 40,
      "outputs": [
        {
          "output_type": "display_data",
          "data": {
            "application/vnd.livy.statement-meta+json": {
              "spark_pool": "poolspark",
              "statement_id": 41,
              "statement_ids": [
                41
              ],
              "state": "finished",
              "livy_statement_state": "available",
              "spark_jobs": null,
              "session_id": "0",
              "normalized_state": "finished",
              "queued_time": "2025-04-14T19:43:33.4403061Z",
              "session_start_time": null,
              "execution_start_time": "2025-04-14T19:43:33.4421424Z",
              "execution_finish_time": "2025-04-14T19:43:35.4635356Z",
              "parent_msg_id": "98bef27f-13de-4127-aae5-e3a4c329a416"
            },
            "text/plain": "StatementMeta(poolspark, 0, 41, Finished, Available, Finished)"
          },
          "metadata": {}
        },
        {
          "output_type": "execute_result",
          "data": {
            "text/plain": "10567"
          },
          "execution_count": 83,
          "metadata": {}
        }
      ],
      "metadata": {},
      "source": [
        "df.count()"
      ]
    },
    {
      "cell_type": "code",
      "execution_count": 38,
      "outputs": [
        {
          "output_type": "display_data",
          "data": {
            "application/vnd.livy.statement-meta+json": {
              "spark_pool": "poolspark",
              "statement_id": 39,
              "statement_ids": [
                39
              ],
              "state": "finished",
              "livy_statement_state": "available",
              "spark_jobs": null,
              "session_id": "0",
              "normalized_state": "finished",
              "queued_time": "2025-04-14T19:41:20.1830717Z",
              "session_start_time": null,
              "execution_start_time": "2025-04-14T19:41:20.1849532Z",
              "execution_finish_time": "2025-04-14T19:41:21.4546805Z",
              "parent_msg_id": "d8629de6-373f-4070-bbf9-1d314e2a4e05"
            },
            "text/plain": "StatementMeta(poolspark, 0, 39, Finished, Available, Finished)"
          },
          "metadata": {}
        },
        {
          "output_type": "display_data",
          "data": {
            "application/vnd.synapse.widget-view+json": {
              "widget_id": "d86101b0-8e85-478a-88c4-a593b0991533",
              "widget_type": "Synapse.DataFrame"
            },
            "text/plain": "SynapseWidget(Synapse.DataFrame, d86101b0-8e85-478a-88c4-a593b0991533)"
          },
          "metadata": {}
        }
      ],
      "metadata": {
        "collapsed": false
      },
      "source": [
        "df_select = df.select(\"val_venda\",\"nom_gerencia\")\n",
        "display(df_select)"
      ]
    }
  ]
}