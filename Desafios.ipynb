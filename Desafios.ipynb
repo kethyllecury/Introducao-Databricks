{
 "cells": [
  {
   "cell_type": "code",
   "execution_count": 0,
   "metadata": {
    "application/vnd.databricks.v1+cell": {
     "cellMetadata": {
      "byteLimit": 2048000,
      "rowLimit": 10000
     },
     "inputWidgets": {},
     "nuid": "c8e6a438-775f-4b17-86d3-9305432f418f",
     "showTitle": false,
     "tableResultSettingsMap": {},
     "title": ""
    }
   },
   "outputs": [],
   "source": [
    "from pyspark.sql.functions import *\n",
    "from delta.tables import DeltaTable\n",
    "import time"
   ]
  },
  {
   "cell_type": "code",
   "execution_count": 0,
   "metadata": {
    "application/vnd.databricks.v1+cell": {
     "cellMetadata": {
      "byteLimit": 2048000,
      "rowLimit": 10000
     },
     "collapsed": true,
     "inputWidgets": {},
     "nuid": "c55afe3f-e5ea-4808-9a72-391d0e3fb9c6",
     "showTitle": false,
     "tableResultSettingsMap": {},
     "title": ""
    }
   },
   "outputs": [
    {
     "output_type": "stream",
     "name": "stdout",
     "output_type": "stream",
     "text": [
      "TrueTrue"
     ]
    }
   ],
   "source": [
    "display(dbutils.fs.mkdirs(\"dbfs:/Bronze\"))\n",
    "display(dbutils.fs.mkdirs(\"dbfs:/Silver\"))\n",
    "display(dbutils.fs.mkdirs(\"dbfs:/Gold\"))"
   ]
  },
  {
   "cell_type": "code",
   "execution_count": 0,
   "metadata": {
    "application/vnd.databricks.v1+cell": {
     "cellMetadata": {
      "byteLimit": 2048000,
      "rowLimit": 10000
     },
     "collapsed": true,
     "inputWidgets": {},
     "nuid": "860d8133-ff88-4c85-930d-53f803fd0424",
     "showTitle": false,
     "tableResultSettingsMap": {},
     "title": ""
    }
   },
   "outputs": [
    {
     "output_type": "display_data",
     "data": {
      "text/html": [
       "<style scoped>\n",
       "  .table-result-container {\n",
       "    max-height: 300px;\n",
       "    overflow: auto;\n",
       "  }\n",
       "  table, th, td {\n",
       "    border: 1px solid black;\n",
       "    border-collapse: collapse;\n",
       "  }\n",
       "  th, td {\n",
       "    padding: 5px;\n",
       "  }\n",
       "  th {\n",
       "    text-align: left;\n",
       "  }\n",
       "</style><div class='table-result-container'><table class='table-result'><thead style='background-color: white'><tr><th>path</th><th>name</th><th>size</th><th>modificationTime</th></tr></thead><tbody><tr><td>dbfs:/FileStore/tables/Global_Superstore2.csv</td><td>Global_Superstore2.csv</td><td>12089916</td><td>1743651204000</td></tr></tbody></table></div>"
      ]
     },
     "metadata": {
      "application/vnd.databricks.v1+output": {
       "addedWidgets": {},
       "aggData": [],
       "aggError": "",
       "aggOverflow": false,
       "aggSchema": [],
       "aggSeriesLimitReached": false,
       "aggType": "",
       "arguments": {},
       "columnCustomDisplayInfos": {},
       "data": [
        [
         "dbfs:/FileStore/tables/Global_Superstore2.csv",
         "Global_Superstore2.csv",
         12089916,
         1743651204000
        ]
       ],
       "datasetInfos": [],
       "dbfsResultPath": null,
       "isJsonSchema": true,
       "metadata": {},
       "overflow": false,
       "plotOptions": {
        "customPlotOptions": {},
        "displayType": "table",
        "pivotAggregation": null,
        "pivotColumns": null,
        "xColumns": null,
        "yColumns": null
       },
       "removedWidgets": [],
       "schema": [
        {
         "metadata": "{}",
         "name": "path",
         "type": "\"string\""
        },
        {
         "metadata": "{}",
         "name": "name",
         "type": "\"string\""
        },
        {
         "metadata": "{}",
         "name": "size",
         "type": "\"long\""
        },
        {
         "metadata": "{}",
         "name": "modificationTime",
         "type": "\"long\""
        }
       ],
       "type": "table"
      }
     },
     "output_type": "display_data"
    }
   ],
   "source": [
    "display(dbutils.fs.ls(\"FileStore/tables\"))"
   ]
  },
  {
   "cell_type": "code",
   "execution_count": 0,
   "metadata": {
    "application/vnd.databricks.v1+cell": {
     "cellMetadata": {
      "byteLimit": 2048000,
      "rowLimit": 10000
     },
     "inputWidgets": {},
     "nuid": "3a7f7dad-9c21-4a5d-8ea9-26647ebcc21c",
     "showTitle": false,
     "tableResultSettingsMap": {},
     "title": ""
    }
   },
   "outputs": [
    {
     "output_type": "stream",
     "name": "stdout",
     "output_type": "stream",
     "text": [
      "Out[14]: True"
     ]
    }
   ],
   "source": [
    "dbutils.fs.mv(\"dbfs:/FileStore/tables/Global_Superstore2.csv\",\"dbfs:/Bronze\")"
   ]
  },
  {
   "cell_type": "code",
   "execution_count": 0,
   "metadata": {
    "application/vnd.databricks.v1+cell": {
     "cellMetadata": {},
     "inputWidgets": {},
     "nuid": "728f7c7e-cbb6-4adf-a24c-d788999d3075",
     "showTitle": false,
     "tableResultSettingsMap": {},
     "title": ""
    }
   },
   "outputs": [],
   "source": [
    "'''\n",
    "Ler o CSV original com Spark.\n",
    "Realizar ajustes de tipo de dados quando necessário (ex: datas, números).\n",
    "Salvar o dataset em JSON, Parquet, Avro e Delta.\n",
    "Garantir que o JSON inclua listas aninhadas para pelo menos uma coluna, se aplicável.\n",
    "\n",
    "'''"
   ]
  },
  {
   "cell_type": "code",
   "execution_count": 0,
   "metadata": {
    "application/vnd.databricks.v1+cell": {
     "cellMetadata": {
      "byteLimit": 2048000,
      "rowLimit": 10000
     },
     "collapsed": true,
     "inputWidgets": {},
     "nuid": "61a0e83b-21ad-435f-9d06-61c46fa7d6a3",
     "showTitle": false,
     "tableResultSettingsMap": {},
     "title": ""
    }
   },
   "outputs": [
    {
     "output_type": "display_data",
     "data": {
      "text/html": [
       "<style scoped>\n",
       "  .table-result-container {\n",
       "    max-height: 300px;\n",
       "    overflow: auto;\n",
       "  }\n",
       "  table, th, td {\n",
       "    border: 1px solid black;\n",
       "    border-collapse: collapse;\n",
       "  }\n",
       "  th, td {\n",
       "    padding: 5px;\n",
       "  }\n",
       "  th {\n",
       "    text-align: left;\n",
       "  }\n",
       "</style><div class='table-result-container'><table class='table-result'><thead style='background-color: white'><tr><th>Row ID</th><th>Order ID</th><th>Order Date</th><th>Ship Date</th><th>Ship Mode</th><th>Customer ID</th><th>Customer Name</th><th>Segment</th><th>City</th><th>State</th><th>Country</th><th>Postal Code</th><th>Market</th><th>Region</th><th>Product ID</th><th>Category</th><th>Sub-Category</th><th>Product Name</th><th>Sales</th><th>Quantity</th><th>Discount</th><th>Profit</th><th>Shipping Cost</th><th>Order Priority</th></tr></thead><tbody><tr><td>32298</td><td>CA-2012-124891</td><td>2012-07-31</td><td>2012-07-31</td><td>Same Day</td><td>RH-19495</td><td>Rick Hansen</td><td>Consumer</td><td>New York City</td><td>New York</td><td>United States</td><td>10024</td><td>US</td><td>East</td><td>TEC-AC-10003033</td><td>Technology</td><td>Accessories</td><td>Plantronics CS510 - Over-the-Head monaural Wireless Headset System</td><td>2309.65</td><td>7</td><td>0</td><td>762.1845</td><td>933.57</td><td>Critical</td></tr><tr><td>26341</td><td>IN-2013-77878</td><td>2013-02-05</td><td>2013-02-07</td><td>Second Class</td><td>JR-16210</td><td>Justin Ritter</td><td>Corporate</td><td>Wollongong</td><td>New South Wales</td><td>Australia</td><td>null</td><td>APAC</td><td>Oceania</td><td>FUR-CH-10003950</td><td>Furniture</td><td>Chairs</td><td>Novimex Executive Leather Armchair, Black</td><td>3709.395</td><td>9</td><td>0.1</td><td>-288.765</td><td>923.63</td><td>Critical</td></tr><tr><td>25330</td><td>IN-2013-71249</td><td>2013-10-17</td><td>2013-10-18</td><td>First Class</td><td>CR-12730</td><td>Craig Reiter</td><td>Consumer</td><td>Brisbane</td><td>Queensland</td><td>Australia</td><td>null</td><td>APAC</td><td>Oceania</td><td>TEC-PH-10004664</td><td>Technology</td><td>Phones</td><td>Nokia Smart Phone, with Caller ID</td><td>5175.171</td><td>9</td><td>0.1</td><td>919.971</td><td>915.49</td><td>Medium</td></tr><tr><td>13524</td><td>ES-2013-1579342</td><td>2013-01-28</td><td>2013-01-30</td><td>First Class</td><td>KM-16375</td><td>Katherine Murray</td><td>Home Office</td><td>Berlin</td><td>Berlin</td><td>Germany</td><td>null</td><td>EU</td><td>Central</td><td>TEC-PH-10004583</td><td>Technology</td><td>Phones</td><td>Motorola Smart Phone, Cordless</td><td>2892.51</td><td>5</td><td>0.1</td><td>-96.54</td><td>910.16</td><td>Medium</td></tr><tr><td>47221</td><td>SG-2013-4320</td><td>2013-11-05</td><td>2013-11-06</td><td>Same Day</td><td>RH-9495</td><td>Rick Hansen</td><td>Consumer</td><td>Dakar</td><td>Dakar</td><td>Senegal</td><td>null</td><td>Africa</td><td>Africa</td><td>TEC-SHA-10000501</td><td>Technology</td><td>Copiers</td><td>Sharp Wireless Fax, High-Speed</td><td>2832.96</td><td>8</td><td>0</td><td>311.52</td><td>903.04</td><td>Critical</td></tr><tr><td>22732</td><td>IN-2013-42360</td><td>2013-06-28</td><td>2013-07-01</td><td>Second Class</td><td>JM-15655</td><td>Jim Mitchum</td><td>Corporate</td><td>Sydney</td><td>New South Wales</td><td>Australia</td><td>null</td><td>APAC</td><td>Oceania</td><td>TEC-PH-10000030</td><td>Technology</td><td>Phones</td><td>Samsung Smart Phone, with Caller ID</td><td>2862.675</td><td>5</td><td>0.1</td><td>763.275</td><td>897.35</td><td>Critical</td></tr><tr><td>30570</td><td>IN-2011-81826</td><td>2011-11-07</td><td>2011-11-09</td><td>First Class</td><td>TS-21340</td><td>Toby Swindell</td><td>Consumer</td><td>Porirua</td><td>Wellington</td><td>New Zealand</td><td>null</td><td>APAC</td><td>Oceania</td><td>FUR-CH-10004050</td><td>Furniture</td><td>Chairs</td><td>Novimex Executive Leather Armchair, Adjustable</td><td>1822.08</td><td>4</td><td>0</td><td>564.84</td><td>894.77</td><td>Critical</td></tr><tr><td>31192</td><td>IN-2012-86369</td><td>2012-04-14</td><td>2012-04-18</td><td>Standard Class</td><td>MB-18085</td><td>Mick Brown</td><td>Consumer</td><td>Hamilton</td><td>Waikato</td><td>New Zealand</td><td>null</td><td>APAC</td><td>Oceania</td><td>FUR-TA-10002958</td><td>Furniture</td><td>Tables</td><td>Chromcraft Conference Table, Fully Assembled</td><td>5244.84</td><td>6</td><td>0</td><td>996.48</td><td>878.38</td><td>High</td></tr><tr><td>40155</td><td>CA-2014-135909</td><td>2014-10-14</td><td>2014-10-21</td><td>Standard Class</td><td>JW-15220</td><td>Jane Waco</td><td>Corporate</td><td>Sacramento</td><td>California</td><td>United States</td><td>95823</td><td>US</td><td>West</td><td>OFF-BI-10003527</td><td>Office Supplies</td><td>Binders</td><td>Fellowes PB500 Electric Punch Plastic Comb Binding Machine with Manual Bind</td><td>5083.96</td><td>5</td><td>0.2</td><td>1906.485</td><td>867.69</td><td>Low</td></tr><tr><td>40936</td><td>CA-2012-116638</td><td>2012-01-28</td><td>2012-01-31</td><td>Second Class</td><td>JH-15985</td><td>Joseph Holt</td><td>Consumer</td><td>Concord</td><td>North Carolina</td><td>United States</td><td>28027</td><td>US</td><td>South</td><td>FUR-TA-10000198</td><td>Furniture</td><td>Tables</td><td>Chromcraft Bull-Nose Wood Oval Conference Tables & Bases</td><td>4297.644</td><td>13</td><td>0.4</td><td>-1862.3124</td><td>865.74</td><td>Critical</td></tr></tbody></table></div>"
      ]
     },
     "metadata": {
      "application/vnd.databricks.v1+output": {
       "addedWidgets": {},
       "aggData": [],
       "aggError": "",
       "aggOverflow": false,
       "aggSchema": [],
       "aggSeriesLimitReached": false,
       "aggType": "",
       "arguments": {},
       "columnCustomDisplayInfos": {},
       "data": [
        [
         32298,
         "CA-2012-124891",
         "2012-07-31",
         "2012-07-31",
         "Same Day",
         "RH-19495",
         "Rick Hansen",
         "Consumer",
         "New York City",
         "New York",
         "United States",
         10024,
         "US",
         "East",
         "TEC-AC-10003033",
         "Technology",
         "Accessories",
         "Plantronics CS510 - Over-the-Head monaural Wireless Headset System",
         "2309.65",
         "7",
         "0",
         762.1845,
         933.57,
         "Critical"
        ],
        [
         26341,
         "IN-2013-77878",
         "2013-02-05",
         "2013-02-07",
         "Second Class",
         "JR-16210",
         "Justin Ritter",
         "Corporate",
         "Wollongong",
         "New South Wales",
         "Australia",
         null,
         "APAC",
         "Oceania",
         "FUR-CH-10003950",
         "Furniture",
         "Chairs",
         "Novimex Executive Leather Armchair, Black",
         "3709.395",
         "9",
         "0.1",
         -288.765,
         923.63,
         "Critical"
        ],
        [
         25330,
         "IN-2013-71249",
         "2013-10-17",
         "2013-10-18",
         "First Class",
         "CR-12730",
         "Craig Reiter",
         "Consumer",
         "Brisbane",
         "Queensland",
         "Australia",
         null,
         "APAC",
         "Oceania",
         "TEC-PH-10004664",
         "Technology",
         "Phones",
         "Nokia Smart Phone, with Caller ID",
         "5175.171",
         "9",
         "0.1",
         919.971,
         915.49,
         "Medium"
        ],
        [
         13524,
         "ES-2013-1579342",
         "2013-01-28",
         "2013-01-30",
         "First Class",
         "KM-16375",
         "Katherine Murray",
         "Home Office",
         "Berlin",
         "Berlin",
         "Germany",
         null,
         "EU",
         "Central",
         "TEC-PH-10004583",
         "Technology",
         "Phones",
         "Motorola Smart Phone, Cordless",
         "2892.51",
         "5",
         "0.1",
         -96.54,
         910.16,
         "Medium"
        ],
        [
         47221,
         "SG-2013-4320",
         "2013-11-05",
         "2013-11-06",
         "Same Day",
         "RH-9495",
         "Rick Hansen",
         "Consumer",
         "Dakar",
         "Dakar",
         "Senegal",
         null,
         "Africa",
         "Africa",
         "TEC-SHA-10000501",
         "Technology",
         "Copiers",
         "Sharp Wireless Fax, High-Speed",
         "2832.96",
         "8",
         "0",
         311.52,
         903.04,
         "Critical"
        ],
        [
         22732,
         "IN-2013-42360",
         "2013-06-28",
         "2013-07-01",
         "Second Class",
         "JM-15655",
         "Jim Mitchum",
         "Corporate",
         "Sydney",
         "New South Wales",
         "Australia",
         null,
         "APAC",
         "Oceania",
         "TEC-PH-10000030",
         "Technology",
         "Phones",
         "Samsung Smart Phone, with Caller ID",
         "2862.675",
         "5",
         "0.1",
         763.275,
         897.35,
         "Critical"
        ],
        [
         30570,
         "IN-2011-81826",
         "2011-11-07",
         "2011-11-09",
         "First Class",
         "TS-21340",
         "Toby Swindell",
         "Consumer",
         "Porirua",
         "Wellington",
         "New Zealand",
         null,
         "APAC",
         "Oceania",
         "FUR-CH-10004050",
         "Furniture",
         "Chairs",
         "Novimex Executive Leather Armchair, Adjustable",
         "1822.08",
         "4",
         "0",
         564.84,
         894.77,
         "Critical"
        ],
        [
         31192,
         "IN-2012-86369",
         "2012-04-14",
         "2012-04-18",
         "Standard Class",
         "MB-18085",
         "Mick Brown",
         "Consumer",
         "Hamilton",
         "Waikato",
         "New Zealand",
         null,
         "APAC",
         "Oceania",
         "FUR-TA-10002958",
         "Furniture",
         "Tables",
         "Chromcraft Conference Table, Fully Assembled",
         "5244.84",
         "6",
         "0",
         996.48,
         878.38,
         "High"
        ],
        [
         40155,
         "CA-2014-135909",
         "2014-10-14",
         "2014-10-21",
         "Standard Class",
         "JW-15220",
         "Jane Waco",
         "Corporate",
         "Sacramento",
         "California",
         "United States",
         95823,
         "US",
         "West",
         "OFF-BI-10003527",
         "Office Supplies",
         "Binders",
         "Fellowes PB500 Electric Punch Plastic Comb Binding Machine with Manual Bind",
         "5083.96",
         "5",
         "0.2",
         1906.485,
         867.69,
         "Low"
        ],
        [
         40936,
         "CA-2012-116638",
         "2012-01-28",
         "2012-01-31",
         "Second Class",
         "JH-15985",
         "Joseph Holt",
         "Consumer",
         "Concord",
         "North Carolina",
         "United States",
         28027,
         "US",
         "South",
         "FUR-TA-10000198",
         "Furniture",
         "Tables",
         "Chromcraft Bull-Nose Wood Oval Conference Tables & Bases",
         "4297.644",
         "13",
         "0.4",
         -1862.3124,
         865.74,
         "Critical"
        ]
       ],
       "datasetInfos": [],
       "dbfsResultPath": null,
       "isJsonSchema": true,
       "metadata": {},
       "overflow": false,
       "plotOptions": {
        "customPlotOptions": {},
        "displayType": "table",
        "pivotAggregation": null,
        "pivotColumns": null,
        "xColumns": null,
        "yColumns": null
       },
       "removedWidgets": [],
       "schema": [
        {
         "metadata": "{}",
         "name": "Row ID",
         "type": "\"long\""
        },
        {
         "metadata": "{}",
         "name": "Order ID",
         "type": "\"string\""
        },
        {
         "metadata": "{}",
         "name": "Order Date",
         "type": "\"date\""
        },
        {
         "metadata": "{}",
         "name": "Ship Date",
         "type": "\"date\""
        },
        {
         "metadata": "{}",
         "name": "Ship Mode",
         "type": "\"string\""
        },
        {
         "metadata": "{}",
         "name": "Customer ID",
         "type": "\"string\""
        },
        {
         "metadata": "{}",
         "name": "Customer Name",
         "type": "\"string\""
        },
        {
         "metadata": "{}",
         "name": "Segment",
         "type": "\"string\""
        },
        {
         "metadata": "{}",
         "name": "City",
         "type": "\"string\""
        },
        {
         "metadata": "{}",
         "name": "State",
         "type": "\"string\""
        },
        {
         "metadata": "{}",
         "name": "Country",
         "type": "\"string\""
        },
        {
         "metadata": "{}",
         "name": "Postal Code",
         "type": "\"long\""
        },
        {
         "metadata": "{}",
         "name": "Market",
         "type": "\"string\""
        },
        {
         "metadata": "{}",
         "name": "Region",
         "type": "\"string\""
        },
        {
         "metadata": "{}",
         "name": "Product ID",
         "type": "\"string\""
        },
        {
         "metadata": "{}",
         "name": "Category",
         "type": "\"string\""
        },
        {
         "metadata": "{}",
         "name": "Sub-Category",
         "type": "\"string\""
        },
        {
         "metadata": "{}",
         "name": "Product Name",
         "type": "\"string\""
        },
        {
         "metadata": "{}",
         "name": "Sales",
         "type": "\"string\""
        },
        {
         "metadata": "{}",
         "name": "Quantity",
         "type": "\"string\""
        },
        {
         "metadata": "{}",
         "name": "Discount",
         "type": "\"string\""
        },
        {
         "metadata": "{}",
         "name": "Profit",
         "type": "\"double\""
        },
        {
         "metadata": "{}",
         "name": "Shipping Cost",
         "type": "\"double\""
        },
        {
         "metadata": "{}",
         "name": "Order Priority",
         "type": "\"string\""
        }
       ],
       "type": "table"
      }
     },
     "output_type": "display_data"
    }
   ],
   "source": [
    "df = spark.read.csv(\"dbfs:/Bronze/Global_Superstore2.csv\",header=True,inferSchema=True,sep= \",\")\n",
    "display(df.head(10))"
   ]
  },
  {
   "cell_type": "code",
   "execution_count": 0,
   "metadata": {
    "application/vnd.databricks.v1+cell": {
     "cellMetadata": {
      "byteLimit": 2048000,
      "rowLimit": 10000
     },
     "collapsed": true,
     "inputWidgets": {},
     "nuid": "0aa4196f-2669-4fa4-be2b-cdd234ccdcb5",
     "showTitle": false,
     "tableResultSettingsMap": {},
     "title": ""
    }
   },
   "outputs": [],
   "source": [
    "df_sales_to_double = df.withColumn(\"Sales\", col(\"Sales\").cast(\"double\"))\n",
    "df_qnt_to_int = df_sales_to_double.withColumn(\"Quantity\", col(\"Quantity\").cast(\"int\"))\n",
    "df_discount_to_double = df_qnt_to_int.withColumn(\"Discount\", col(\"Discount\").cast(\"double\"))"
   ]
  },
  {
   "cell_type": "code",
   "execution_count": 0,
   "metadata": {
    "application/vnd.databricks.v1+cell": {
     "cellMetadata": {
      "byteLimit": 2048000,
      "rowLimit": 10000
     },
     "collapsed": true,
     "inputWidgets": {},
     "nuid": "5ef506cb-51dc-4608-96f6-2fd7adb264da",
     "showTitle": false,
     "tableResultSettingsMap": {},
     "title": ""
    }
   },
   "outputs": [
    {
     "output_type": "stream",
     "name": "stdout",
     "output_type": "stream",
     "text": [
      "root\n |-- Row ID: integer (nullable = true)\n |-- Order ID: string (nullable = true)\n |-- Order Date: date (nullable = true)\n |-- Ship Date: date (nullable = true)\n |-- Ship Mode: string (nullable = true)\n |-- Customer ID: string (nullable = true)\n |-- Customer Name: string (nullable = true)\n |-- Segment: string (nullable = true)\n |-- City: string (nullable = true)\n |-- State: string (nullable = true)\n |-- Country: string (nullable = true)\n |-- Postal Code: integer (nullable = true)\n |-- Market: string (nullable = true)\n |-- Region: string (nullable = true)\n |-- Product ID: string (nullable = true)\n |-- Category: string (nullable = true)\n |-- Sub-Category: string (nullable = true)\n |-- Product Name: string (nullable = true)\n |-- Sales: double (nullable = true)\n |-- Quantity: integer (nullable = true)\n |-- Discount: double (nullable = true)\n |-- Profit: double (nullable = true)\n |-- Shipping Cost: double (nullable = true)\n |-- Order Priority: string (nullable = true)\n\n"
     ]
    }
   ],
   "source": [
    "df_discount_to_double.printSchema()\n"
   ]
  },
  {
   "cell_type": "code",
   "execution_count": 0,
   "metadata": {
    "application/vnd.databricks.v1+cell": {
     "cellMetadata": {
      "byteLimit": 2048000,
      "rowLimit": 10000
     },
     "inputWidgets": {},
     "nuid": "9cfc7317-384d-49af-8b5d-cbebd09f69d8",
     "showTitle": false,
     "tableResultSettingsMap": {},
     "title": ""
    }
   },
   "outputs": [],
   "source": [
    "df_discount_to_double.write.format(\"parquet\").mode(\"overwrite\").save(\"dbfs:/Silver/Global_Superstore2.parquet\")"
   ]
  },
  {
   "cell_type": "code",
   "execution_count": 0,
   "metadata": {
    "application/vnd.databricks.v1+cell": {
     "cellMetadata": {
      "byteLimit": 2048000,
      "rowLimit": 10000
     },
     "collapsed": true,
     "inputWidgets": {},
     "nuid": "827db873-74e2-473a-aa32-6d49f1a5e494",
     "showTitle": false,
     "tableResultSettingsMap": {},
     "title": ""
    }
   },
   "outputs": [
    {
     "output_type": "display_data",
     "data": {
      "text/html": [
       "<style scoped>\n",
       "  .table-result-container {\n",
       "    max-height: 300px;\n",
       "    overflow: auto;\n",
       "  }\n",
       "  table, th, td {\n",
       "    border: 1px solid black;\n",
       "    border-collapse: collapse;\n",
       "  }\n",
       "  th, td {\n",
       "    padding: 5px;\n",
       "  }\n",
       "  th {\n",
       "    text-align: left;\n",
       "  }\n",
       "</style><div class='table-result-container'><table class='table-result'><thead style='background-color: white'><tr><th>Row ID</th><th>Order ID</th><th>Order Date</th><th>Ship Date</th><th>Ship Mode</th><th>Customer ID</th><th>Customer Name</th><th>Segment</th><th>City</th><th>State</th><th>Country</th><th>Postal Code</th><th>Market</th><th>Region</th><th>Product ID</th><th>Category</th><th>Sub-Category</th><th>Product Name</th><th>Sales</th><th>Quantity</th><th>Discount</th><th>Profit</th><th>Shipping Cost</th><th>Order Priority</th></tr></thead><tbody><tr><td>32298</td><td>CA-2012-124891</td><td>2012-07-31</td><td>2012-07-31</td><td>Same Day</td><td>RH-19495</td><td>Rick Hansen</td><td>Consumer</td><td>New York City</td><td>New York</td><td>United States</td><td>10024</td><td>US</td><td>East</td><td>TEC-AC-10003033</td><td>Technology</td><td>Accessories</td><td>Plantronics CS510 - Over-the-Head monaural Wireless Headset System</td><td>2309.65</td><td>7</td><td>0.0</td><td>762.1845</td><td>933.57</td><td>Critical</td></tr><tr><td>26341</td><td>IN-2013-77878</td><td>2013-02-05</td><td>2013-02-07</td><td>Second Class</td><td>JR-16210</td><td>Justin Ritter</td><td>Corporate</td><td>Wollongong</td><td>New South Wales</td><td>Australia</td><td>null</td><td>APAC</td><td>Oceania</td><td>FUR-CH-10003950</td><td>Furniture</td><td>Chairs</td><td>Novimex Executive Leather Armchair, Black</td><td>3709.395</td><td>9</td><td>0.1</td><td>-288.765</td><td>923.63</td><td>Critical</td></tr><tr><td>25330</td><td>IN-2013-71249</td><td>2013-10-17</td><td>2013-10-18</td><td>First Class</td><td>CR-12730</td><td>Craig Reiter</td><td>Consumer</td><td>Brisbane</td><td>Queensland</td><td>Australia</td><td>null</td><td>APAC</td><td>Oceania</td><td>TEC-PH-10004664</td><td>Technology</td><td>Phones</td><td>Nokia Smart Phone, with Caller ID</td><td>5175.171</td><td>9</td><td>0.1</td><td>919.971</td><td>915.49</td><td>Medium</td></tr><tr><td>13524</td><td>ES-2013-1579342</td><td>2013-01-28</td><td>2013-01-30</td><td>First Class</td><td>KM-16375</td><td>Katherine Murray</td><td>Home Office</td><td>Berlin</td><td>Berlin</td><td>Germany</td><td>null</td><td>EU</td><td>Central</td><td>TEC-PH-10004583</td><td>Technology</td><td>Phones</td><td>Motorola Smart Phone, Cordless</td><td>2892.51</td><td>5</td><td>0.1</td><td>-96.54</td><td>910.16</td><td>Medium</td></tr><tr><td>47221</td><td>SG-2013-4320</td><td>2013-11-05</td><td>2013-11-06</td><td>Same Day</td><td>RH-9495</td><td>Rick Hansen</td><td>Consumer</td><td>Dakar</td><td>Dakar</td><td>Senegal</td><td>null</td><td>Africa</td><td>Africa</td><td>TEC-SHA-10000501</td><td>Technology</td><td>Copiers</td><td>Sharp Wireless Fax, High-Speed</td><td>2832.96</td><td>8</td><td>0.0</td><td>311.52</td><td>903.04</td><td>Critical</td></tr><tr><td>22732</td><td>IN-2013-42360</td><td>2013-06-28</td><td>2013-07-01</td><td>Second Class</td><td>JM-15655</td><td>Jim Mitchum</td><td>Corporate</td><td>Sydney</td><td>New South Wales</td><td>Australia</td><td>null</td><td>APAC</td><td>Oceania</td><td>TEC-PH-10000030</td><td>Technology</td><td>Phones</td><td>Samsung Smart Phone, with Caller ID</td><td>2862.675</td><td>5</td><td>0.1</td><td>763.275</td><td>897.35</td><td>Critical</td></tr><tr><td>30570</td><td>IN-2011-81826</td><td>2011-11-07</td><td>2011-11-09</td><td>First Class</td><td>TS-21340</td><td>Toby Swindell</td><td>Consumer</td><td>Porirua</td><td>Wellington</td><td>New Zealand</td><td>null</td><td>APAC</td><td>Oceania</td><td>FUR-CH-10004050</td><td>Furniture</td><td>Chairs</td><td>Novimex Executive Leather Armchair, Adjustable</td><td>1822.08</td><td>4</td><td>0.0</td><td>564.84</td><td>894.77</td><td>Critical</td></tr><tr><td>31192</td><td>IN-2012-86369</td><td>2012-04-14</td><td>2012-04-18</td><td>Standard Class</td><td>MB-18085</td><td>Mick Brown</td><td>Consumer</td><td>Hamilton</td><td>Waikato</td><td>New Zealand</td><td>null</td><td>APAC</td><td>Oceania</td><td>FUR-TA-10002958</td><td>Furniture</td><td>Tables</td><td>Chromcraft Conference Table, Fully Assembled</td><td>5244.84</td><td>6</td><td>0.0</td><td>996.48</td><td>878.38</td><td>High</td></tr><tr><td>40155</td><td>CA-2014-135909</td><td>2014-10-14</td><td>2014-10-21</td><td>Standard Class</td><td>JW-15220</td><td>Jane Waco</td><td>Corporate</td><td>Sacramento</td><td>California</td><td>United States</td><td>95823</td><td>US</td><td>West</td><td>OFF-BI-10003527</td><td>Office Supplies</td><td>Binders</td><td>Fellowes PB500 Electric Punch Plastic Comb Binding Machine with Manual Bind</td><td>5083.96</td><td>5</td><td>0.2</td><td>1906.485</td><td>867.69</td><td>Low</td></tr><tr><td>40936</td><td>CA-2012-116638</td><td>2012-01-28</td><td>2012-01-31</td><td>Second Class</td><td>JH-15985</td><td>Joseph Holt</td><td>Consumer</td><td>Concord</td><td>North Carolina</td><td>United States</td><td>28027</td><td>US</td><td>South</td><td>FUR-TA-10000198</td><td>Furniture</td><td>Tables</td><td>Chromcraft Bull-Nose Wood Oval Conference Tables & Bases</td><td>4297.644</td><td>13</td><td>0.4</td><td>-1862.3124</td><td>865.74</td><td>Critical</td></tr></tbody></table></div>"
      ]
     },
     "metadata": {
      "application/vnd.databricks.v1+output": {
       "addedWidgets": {},
       "aggData": [],
       "aggError": "",
       "aggOverflow": false,
       "aggSchema": [],
       "aggSeriesLimitReached": false,
       "aggType": "",
       "arguments": {},
       "columnCustomDisplayInfos": {},
       "data": [
        [
         32298,
         "CA-2012-124891",
         "2012-07-31",
         "2012-07-31",
         "Same Day",
         "RH-19495",
         "Rick Hansen",
         "Consumer",
         "New York City",
         "New York",
         "United States",
         10024,
         "US",
         "East",
         "TEC-AC-10003033",
         "Technology",
         "Accessories",
         "Plantronics CS510 - Over-the-Head monaural Wireless Headset System",
         2309.65,
         7,
         0.0,
         762.1845,
         933.57,
         "Critical"
        ],
        [
         26341,
         "IN-2013-77878",
         "2013-02-05",
         "2013-02-07",
         "Second Class",
         "JR-16210",
         "Justin Ritter",
         "Corporate",
         "Wollongong",
         "New South Wales",
         "Australia",
         null,
         "APAC",
         "Oceania",
         "FUR-CH-10003950",
         "Furniture",
         "Chairs",
         "Novimex Executive Leather Armchair, Black",
         3709.395,
         9,
         0.1,
         -288.765,
         923.63,
         "Critical"
        ],
        [
         25330,
         "IN-2013-71249",
         "2013-10-17",
         "2013-10-18",
         "First Class",
         "CR-12730",
         "Craig Reiter",
         "Consumer",
         "Brisbane",
         "Queensland",
         "Australia",
         null,
         "APAC",
         "Oceania",
         "TEC-PH-10004664",
         "Technology",
         "Phones",
         "Nokia Smart Phone, with Caller ID",
         5175.171,
         9,
         0.1,
         919.971,
         915.49,
         "Medium"
        ],
        [
         13524,
         "ES-2013-1579342",
         "2013-01-28",
         "2013-01-30",
         "First Class",
         "KM-16375",
         "Katherine Murray",
         "Home Office",
         "Berlin",
         "Berlin",
         "Germany",
         null,
         "EU",
         "Central",
         "TEC-PH-10004583",
         "Technology",
         "Phones",
         "Motorola Smart Phone, Cordless",
         2892.51,
         5,
         0.1,
         -96.54,
         910.16,
         "Medium"
        ],
        [
         47221,
         "SG-2013-4320",
         "2013-11-05",
         "2013-11-06",
         "Same Day",
         "RH-9495",
         "Rick Hansen",
         "Consumer",
         "Dakar",
         "Dakar",
         "Senegal",
         null,
         "Africa",
         "Africa",
         "TEC-SHA-10000501",
         "Technology",
         "Copiers",
         "Sharp Wireless Fax, High-Speed",
         2832.96,
         8,
         0.0,
         311.52,
         903.04,
         "Critical"
        ],
        [
         22732,
         "IN-2013-42360",
         "2013-06-28",
         "2013-07-01",
         "Second Class",
         "JM-15655",
         "Jim Mitchum",
         "Corporate",
         "Sydney",
         "New South Wales",
         "Australia",
         null,
         "APAC",
         "Oceania",
         "TEC-PH-10000030",
         "Technology",
         "Phones",
         "Samsung Smart Phone, with Caller ID",
         2862.675,
         5,
         0.1,
         763.275,
         897.35,
         "Critical"
        ],
        [
         30570,
         "IN-2011-81826",
         "2011-11-07",
         "2011-11-09",
         "First Class",
         "TS-21340",
         "Toby Swindell",
         "Consumer",
         "Porirua",
         "Wellington",
         "New Zealand",
         null,
         "APAC",
         "Oceania",
         "FUR-CH-10004050",
         "Furniture",
         "Chairs",
         "Novimex Executive Leather Armchair, Adjustable",
         1822.08,
         4,
         0.0,
         564.84,
         894.77,
         "Critical"
        ],
        [
         31192,
         "IN-2012-86369",
         "2012-04-14",
         "2012-04-18",
         "Standard Class",
         "MB-18085",
         "Mick Brown",
         "Consumer",
         "Hamilton",
         "Waikato",
         "New Zealand",
         null,
         "APAC",
         "Oceania",
         "FUR-TA-10002958",
         "Furniture",
         "Tables",
         "Chromcraft Conference Table, Fully Assembled",
         5244.84,
         6,
         0.0,
         996.48,
         878.38,
         "High"
        ],
        [
         40155,
         "CA-2014-135909",
         "2014-10-14",
         "2014-10-21",
         "Standard Class",
         "JW-15220",
         "Jane Waco",
         "Corporate",
         "Sacramento",
         "California",
         "United States",
         95823,
         "US",
         "West",
         "OFF-BI-10003527",
         "Office Supplies",
         "Binders",
         "Fellowes PB500 Electric Punch Plastic Comb Binding Machine with Manual Bind",
         5083.96,
         5,
         0.2,
         1906.485,
         867.69,
         "Low"
        ],
        [
         40936,
         "CA-2012-116638",
         "2012-01-28",
         "2012-01-31",
         "Second Class",
         "JH-15985",
         "Joseph Holt",
         "Consumer",
         "Concord",
         "North Carolina",
         "United States",
         28027,
         "US",
         "South",
         "FUR-TA-10000198",
         "Furniture",
         "Tables",
         "Chromcraft Bull-Nose Wood Oval Conference Tables & Bases",
         4297.644,
         13,
         0.4,
         -1862.3124,
         865.74,
         "Critical"
        ]
       ],
       "datasetInfos": [],
       "dbfsResultPath": null,
       "isJsonSchema": true,
       "metadata": {},
       "overflow": false,
       "plotOptions": {
        "customPlotOptions": {},
        "displayType": "table",
        "pivotAggregation": null,
        "pivotColumns": null,
        "xColumns": null,
        "yColumns": null
       },
       "removedWidgets": [],
       "schema": [
        {
         "metadata": "{}",
         "name": "Row ID",
         "type": "\"long\""
        },
        {
         "metadata": "{}",
         "name": "Order ID",
         "type": "\"string\""
        },
        {
         "metadata": "{}",
         "name": "Order Date",
         "type": "\"date\""
        },
        {
         "metadata": "{}",
         "name": "Ship Date",
         "type": "\"date\""
        },
        {
         "metadata": "{}",
         "name": "Ship Mode",
         "type": "\"string\""
        },
        {
         "metadata": "{}",
         "name": "Customer ID",
         "type": "\"string\""
        },
        {
         "metadata": "{}",
         "name": "Customer Name",
         "type": "\"string\""
        },
        {
         "metadata": "{}",
         "name": "Segment",
         "type": "\"string\""
        },
        {
         "metadata": "{}",
         "name": "City",
         "type": "\"string\""
        },
        {
         "metadata": "{}",
         "name": "State",
         "type": "\"string\""
        },
        {
         "metadata": "{}",
         "name": "Country",
         "type": "\"string\""
        },
        {
         "metadata": "{}",
         "name": "Postal Code",
         "type": "\"long\""
        },
        {
         "metadata": "{}",
         "name": "Market",
         "type": "\"string\""
        },
        {
         "metadata": "{}",
         "name": "Region",
         "type": "\"string\""
        },
        {
         "metadata": "{}",
         "name": "Product ID",
         "type": "\"string\""
        },
        {
         "metadata": "{}",
         "name": "Category",
         "type": "\"string\""
        },
        {
         "metadata": "{}",
         "name": "Sub-Category",
         "type": "\"string\""
        },
        {
         "metadata": "{}",
         "name": "Product Name",
         "type": "\"string\""
        },
        {
         "metadata": "{}",
         "name": "Sales",
         "type": "\"double\""
        },
        {
         "metadata": "{}",
         "name": "Quantity",
         "type": "\"long\""
        },
        {
         "metadata": "{}",
         "name": "Discount",
         "type": "\"double\""
        },
        {
         "metadata": "{}",
         "name": "Profit",
         "type": "\"double\""
        },
        {
         "metadata": "{}",
         "name": "Shipping Cost",
         "type": "\"double\""
        },
        {
         "metadata": "{}",
         "name": "Order Priority",
         "type": "\"string\""
        }
       ],
       "type": "table"
      }
     },
     "output_type": "display_data"
    }
   ],
   "source": [
    "df_silver = spark.read.parquet(\"dbfs:/Silver/Global_Superstore2.parquet\")\n",
    "display(df_silver.head(10))"
   ]
  },
  {
   "cell_type": "code",
   "execution_count": 0,
   "metadata": {
    "application/vnd.databricks.v1+cell": {
     "cellMetadata": {},
     "inputWidgets": {},
     "nuid": "e5762ddf-40bc-4b75-bce7-a3906d944e36",
     "showTitle": false,
     "tableResultSettingsMap": {},
     "title": ""
    }
   },
   "outputs": [],
   "source": [
    "'''\n",
    "Adicionar uma coluna lucro_percentual = Profit / Sales.\n",
    "Garantir que todas as colunas estejam com os tipos corretos (ex: datas como date, valores como double, etc).\n",
    "Verificar se os tipos foram mantidos corretamente após a conversão para cada formato.\n",
    "\n",
    "'''"
   ]
  },
  {
   "cell_type": "code",
   "execution_count": 0,
   "metadata": {
    "application/vnd.databricks.v1+cell": {
     "cellMetadata": {
      "byteLimit": 2048000,
      "rowLimit": 10000
     },
     "collapsed": true,
     "inputWidgets": {},
     "nuid": "72bcdac5-bcd5-40bd-a53f-8ef350e95287",
     "showTitle": false,
     "tableResultSettingsMap": {},
     "title": ""
    }
   },
   "outputs": [
    {
     "output_type": "stream",
     "name": "stdout",
     "output_type": "stream",
     "text": [
      "Out[84]: DataFrame[Row ID: int, Order ID: string, Order Date: date, Ship Date: date, Ship Mode: string, Customer ID: string, Customer Name: string, Segment: string, City: string, State: string, Country: string, Postal Code: int, Market: string, Region: string, Product ID: string, Category: string, Sub-Category: string, Product Name: string, Sales: double, Quantity: int, Discount: double, Profit: double, Shipping Cost: double, Order Priority: string]"
     ]
    }
   ],
   "source": [
    "df_silver.dropna(how=\"all\")\n",
    "df_silver.dropDuplicates()"
   ]
  },
  {
   "cell_type": "code",
   "execution_count": 0,
   "metadata": {
    "application/vnd.databricks.v1+cell": {
     "cellMetadata": {
      "byteLimit": 2048000,
      "rowLimit": 10000
     },
     "collapsed": true,
     "inputWidgets": {},
     "nuid": "77ba2296-d127-4a74-b1ab-d10b44a03715",
     "showTitle": false,
     "tableResultSettingsMap": {},
     "title": ""
    }
   },
   "outputs": [
    {
     "output_type": "display_data",
     "data": {
      "text/html": [
       "<style scoped>\n",
       "  .table-result-container {\n",
       "    max-height: 300px;\n",
       "    overflow: auto;\n",
       "  }\n",
       "  table, th, td {\n",
       "    border: 1px solid black;\n",
       "    border-collapse: collapse;\n",
       "  }\n",
       "  th, td {\n",
       "    padding: 5px;\n",
       "  }\n",
       "  th {\n",
       "    text-align: left;\n",
       "  }\n",
       "</style><div class='table-result-container'><table class='table-result'><thead style='background-color: white'><tr><th>Row ID</th><th>Order ID</th><th>Order Date</th><th>Ship Date</th><th>Ship Mode</th><th>Customer ID</th><th>Customer Name</th><th>Segment</th><th>City</th><th>State</th><th>Country</th><th>Postal Code</th><th>Market</th><th>Region</th><th>Product ID</th><th>Category</th><th>Sub-Category</th><th>Product Name</th><th>Sales</th><th>Quantity</th><th>Discount</th><th>Profit</th><th>Shipping Cost</th><th>Order Priority</th><th>lucro percentual</th></tr></thead><tbody><tr><td>32298</td><td>CA-2012-124891</td><td>2012-07-31</td><td>2012-07-31</td><td>Same Day</td><td>RH-19495</td><td>Rick Hansen</td><td>Consumer</td><td>New York City</td><td>New York</td><td>United States</td><td>10024</td><td>US</td><td>East</td><td>TEC-AC-10003033</td><td>Technology</td><td>Accessories</td><td>Plantronics CS510 - Over-the-Head monaural Wireless Headset System</td><td>2309.65</td><td>7</td><td>0.0</td><td>762.1845</td><td>933.57</td><td>Critical</td><td>0.33</td></tr><tr><td>26341</td><td>IN-2013-77878</td><td>2013-02-05</td><td>2013-02-07</td><td>Second Class</td><td>JR-16210</td><td>Justin Ritter</td><td>Corporate</td><td>Wollongong</td><td>New South Wales</td><td>Australia</td><td>null</td><td>APAC</td><td>Oceania</td><td>FUR-CH-10003950</td><td>Furniture</td><td>Chairs</td><td>Novimex Executive Leather Armchair, Black</td><td>3709.395</td><td>9</td><td>0.1</td><td>-288.765</td><td>923.63</td><td>Critical</td><td>-0.08</td></tr><tr><td>25330</td><td>IN-2013-71249</td><td>2013-10-17</td><td>2013-10-18</td><td>First Class</td><td>CR-12730</td><td>Craig Reiter</td><td>Consumer</td><td>Brisbane</td><td>Queensland</td><td>Australia</td><td>null</td><td>APAC</td><td>Oceania</td><td>TEC-PH-10004664</td><td>Technology</td><td>Phones</td><td>Nokia Smart Phone, with Caller ID</td><td>5175.171</td><td>9</td><td>0.1</td><td>919.971</td><td>915.49</td><td>Medium</td><td>0.18</td></tr><tr><td>13524</td><td>ES-2013-1579342</td><td>2013-01-28</td><td>2013-01-30</td><td>First Class</td><td>KM-16375</td><td>Katherine Murray</td><td>Home Office</td><td>Berlin</td><td>Berlin</td><td>Germany</td><td>null</td><td>EU</td><td>Central</td><td>TEC-PH-10004583</td><td>Technology</td><td>Phones</td><td>Motorola Smart Phone, Cordless</td><td>2892.51</td><td>5</td><td>0.1</td><td>-96.54</td><td>910.16</td><td>Medium</td><td>-0.03</td></tr><tr><td>47221</td><td>SG-2013-4320</td><td>2013-11-05</td><td>2013-11-06</td><td>Same Day</td><td>RH-9495</td><td>Rick Hansen</td><td>Consumer</td><td>Dakar</td><td>Dakar</td><td>Senegal</td><td>null</td><td>Africa</td><td>Africa</td><td>TEC-SHA-10000501</td><td>Technology</td><td>Copiers</td><td>Sharp Wireless Fax, High-Speed</td><td>2832.96</td><td>8</td><td>0.0</td><td>311.52</td><td>903.04</td><td>Critical</td><td>0.11</td></tr><tr><td>22732</td><td>IN-2013-42360</td><td>2013-06-28</td><td>2013-07-01</td><td>Second Class</td><td>JM-15655</td><td>Jim Mitchum</td><td>Corporate</td><td>Sydney</td><td>New South Wales</td><td>Australia</td><td>null</td><td>APAC</td><td>Oceania</td><td>TEC-PH-10000030</td><td>Technology</td><td>Phones</td><td>Samsung Smart Phone, with Caller ID</td><td>2862.675</td><td>5</td><td>0.1</td><td>763.275</td><td>897.35</td><td>Critical</td><td>0.27</td></tr><tr><td>30570</td><td>IN-2011-81826</td><td>2011-11-07</td><td>2011-11-09</td><td>First Class</td><td>TS-21340</td><td>Toby Swindell</td><td>Consumer</td><td>Porirua</td><td>Wellington</td><td>New Zealand</td><td>null</td><td>APAC</td><td>Oceania</td><td>FUR-CH-10004050</td><td>Furniture</td><td>Chairs</td><td>Novimex Executive Leather Armchair, Adjustable</td><td>1822.08</td><td>4</td><td>0.0</td><td>564.84</td><td>894.77</td><td>Critical</td><td>0.31</td></tr><tr><td>31192</td><td>IN-2012-86369</td><td>2012-04-14</td><td>2012-04-18</td><td>Standard Class</td><td>MB-18085</td><td>Mick Brown</td><td>Consumer</td><td>Hamilton</td><td>Waikato</td><td>New Zealand</td><td>null</td><td>APAC</td><td>Oceania</td><td>FUR-TA-10002958</td><td>Furniture</td><td>Tables</td><td>Chromcraft Conference Table, Fully Assembled</td><td>5244.84</td><td>6</td><td>0.0</td><td>996.48</td><td>878.38</td><td>High</td><td>0.19</td></tr><tr><td>40155</td><td>CA-2014-135909</td><td>2014-10-14</td><td>2014-10-21</td><td>Standard Class</td><td>JW-15220</td><td>Jane Waco</td><td>Corporate</td><td>Sacramento</td><td>California</td><td>United States</td><td>95823</td><td>US</td><td>West</td><td>OFF-BI-10003527</td><td>Office Supplies</td><td>Binders</td><td>Fellowes PB500 Electric Punch Plastic Comb Binding Machine with Manual Bind</td><td>5083.96</td><td>5</td><td>0.2</td><td>1906.485</td><td>867.69</td><td>Low</td><td>0.38</td></tr><tr><td>40936</td><td>CA-2012-116638</td><td>2012-01-28</td><td>2012-01-31</td><td>Second Class</td><td>JH-15985</td><td>Joseph Holt</td><td>Consumer</td><td>Concord</td><td>North Carolina</td><td>United States</td><td>28027</td><td>US</td><td>South</td><td>FUR-TA-10000198</td><td>Furniture</td><td>Tables</td><td>Chromcraft Bull-Nose Wood Oval Conference Tables & Bases</td><td>4297.644</td><td>13</td><td>0.4</td><td>-1862.3124</td><td>865.74</td><td>Critical</td><td>-0.43</td></tr></tbody></table></div>"
      ]
     },
     "metadata": {
      "application/vnd.databricks.v1+output": {
       "addedWidgets": {},
       "aggData": [],
       "aggError": "",
       "aggOverflow": false,
       "aggSchema": [],
       "aggSeriesLimitReached": false,
       "aggType": "",
       "arguments": {},
       "columnCustomDisplayInfos": {},
       "data": [
        [
         32298,
         "CA-2012-124891",
         "2012-07-31",
         "2012-07-31",
         "Same Day",
         "RH-19495",
         "Rick Hansen",
         "Consumer",
         "New York City",
         "New York",
         "United States",
         10024,
         "US",
         "East",
         "TEC-AC-10003033",
         "Technology",
         "Accessories",
         "Plantronics CS510 - Over-the-Head monaural Wireless Headset System",
         2309.65,
         7,
         0.0,
         762.1845,
         933.57,
         "Critical",
         0.33
        ],
        [
         26341,
         "IN-2013-77878",
         "2013-02-05",
         "2013-02-07",
         "Second Class",
         "JR-16210",
         "Justin Ritter",
         "Corporate",
         "Wollongong",
         "New South Wales",
         "Australia",
         null,
         "APAC",
         "Oceania",
         "FUR-CH-10003950",
         "Furniture",
         "Chairs",
         "Novimex Executive Leather Armchair, Black",
         3709.395,
         9,
         0.1,
         -288.765,
         923.63,
         "Critical",
         -0.08
        ],
        [
         25330,
         "IN-2013-71249",
         "2013-10-17",
         "2013-10-18",
         "First Class",
         "CR-12730",
         "Craig Reiter",
         "Consumer",
         "Brisbane",
         "Queensland",
         "Australia",
         null,
         "APAC",
         "Oceania",
         "TEC-PH-10004664",
         "Technology",
         "Phones",
         "Nokia Smart Phone, with Caller ID",
         5175.171,
         9,
         0.1,
         919.971,
         915.49,
         "Medium",
         0.18
        ],
        [
         13524,
         "ES-2013-1579342",
         "2013-01-28",
         "2013-01-30",
         "First Class",
         "KM-16375",
         "Katherine Murray",
         "Home Office",
         "Berlin",
         "Berlin",
         "Germany",
         null,
         "EU",
         "Central",
         "TEC-PH-10004583",
         "Technology",
         "Phones",
         "Motorola Smart Phone, Cordless",
         2892.51,
         5,
         0.1,
         -96.54,
         910.16,
         "Medium",
         -0.03
        ],
        [
         47221,
         "SG-2013-4320",
         "2013-11-05",
         "2013-11-06",
         "Same Day",
         "RH-9495",
         "Rick Hansen",
         "Consumer",
         "Dakar",
         "Dakar",
         "Senegal",
         null,
         "Africa",
         "Africa",
         "TEC-SHA-10000501",
         "Technology",
         "Copiers",
         "Sharp Wireless Fax, High-Speed",
         2832.96,
         8,
         0.0,
         311.52,
         903.04,
         "Critical",
         0.11
        ],
        [
         22732,
         "IN-2013-42360",
         "2013-06-28",
         "2013-07-01",
         "Second Class",
         "JM-15655",
         "Jim Mitchum",
         "Corporate",
         "Sydney",
         "New South Wales",
         "Australia",
         null,
         "APAC",
         "Oceania",
         "TEC-PH-10000030",
         "Technology",
         "Phones",
         "Samsung Smart Phone, with Caller ID",
         2862.675,
         5,
         0.1,
         763.275,
         897.35,
         "Critical",
         0.27
        ],
        [
         30570,
         "IN-2011-81826",
         "2011-11-07",
         "2011-11-09",
         "First Class",
         "TS-21340",
         "Toby Swindell",
         "Consumer",
         "Porirua",
         "Wellington",
         "New Zealand",
         null,
         "APAC",
         "Oceania",
         "FUR-CH-10004050",
         "Furniture",
         "Chairs",
         "Novimex Executive Leather Armchair, Adjustable",
         1822.08,
         4,
         0.0,
         564.84,
         894.77,
         "Critical",
         0.31
        ],
        [
         31192,
         "IN-2012-86369",
         "2012-04-14",
         "2012-04-18",
         "Standard Class",
         "MB-18085",
         "Mick Brown",
         "Consumer",
         "Hamilton",
         "Waikato",
         "New Zealand",
         null,
         "APAC",
         "Oceania",
         "FUR-TA-10002958",
         "Furniture",
         "Tables",
         "Chromcraft Conference Table, Fully Assembled",
         5244.84,
         6,
         0.0,
         996.48,
         878.38,
         "High",
         0.19
        ],
        [
         40155,
         "CA-2014-135909",
         "2014-10-14",
         "2014-10-21",
         "Standard Class",
         "JW-15220",
         "Jane Waco",
         "Corporate",
         "Sacramento",
         "California",
         "United States",
         95823,
         "US",
         "West",
         "OFF-BI-10003527",
         "Office Supplies",
         "Binders",
         "Fellowes PB500 Electric Punch Plastic Comb Binding Machine with Manual Bind",
         5083.96,
         5,
         0.2,
         1906.485,
         867.69,
         "Low",
         0.38
        ],
        [
         40936,
         "CA-2012-116638",
         "2012-01-28",
         "2012-01-31",
         "Second Class",
         "JH-15985",
         "Joseph Holt",
         "Consumer",
         "Concord",
         "North Carolina",
         "United States",
         28027,
         "US",
         "South",
         "FUR-TA-10000198",
         "Furniture",
         "Tables",
         "Chromcraft Bull-Nose Wood Oval Conference Tables & Bases",
         4297.644,
         13,
         0.4,
         -1862.3124,
         865.74,
         "Critical",
         -0.43
        ]
       ],
       "datasetInfos": [],
       "dbfsResultPath": null,
       "isJsonSchema": true,
       "metadata": {},
       "overflow": false,
       "plotOptions": {
        "customPlotOptions": {},
        "displayType": "table",
        "pivotAggregation": null,
        "pivotColumns": null,
        "xColumns": null,
        "yColumns": null
       },
       "removedWidgets": [],
       "schema": [
        {
         "metadata": "{}",
         "name": "Row ID",
         "type": "\"long\""
        },
        {
         "metadata": "{}",
         "name": "Order ID",
         "type": "\"string\""
        },
        {
         "metadata": "{}",
         "name": "Order Date",
         "type": "\"date\""
        },
        {
         "metadata": "{}",
         "name": "Ship Date",
         "type": "\"date\""
        },
        {
         "metadata": "{}",
         "name": "Ship Mode",
         "type": "\"string\""
        },
        {
         "metadata": "{}",
         "name": "Customer ID",
         "type": "\"string\""
        },
        {
         "metadata": "{}",
         "name": "Customer Name",
         "type": "\"string\""
        },
        {
         "metadata": "{}",
         "name": "Segment",
         "type": "\"string\""
        },
        {
         "metadata": "{}",
         "name": "City",
         "type": "\"string\""
        },
        {
         "metadata": "{}",
         "name": "State",
         "type": "\"string\""
        },
        {
         "metadata": "{}",
         "name": "Country",
         "type": "\"string\""
        },
        {
         "metadata": "{}",
         "name": "Postal Code",
         "type": "\"long\""
        },
        {
         "metadata": "{}",
         "name": "Market",
         "type": "\"string\""
        },
        {
         "metadata": "{}",
         "name": "Region",
         "type": "\"string\""
        },
        {
         "metadata": "{}",
         "name": "Product ID",
         "type": "\"string\""
        },
        {
         "metadata": "{}",
         "name": "Category",
         "type": "\"string\""
        },
        {
         "metadata": "{}",
         "name": "Sub-Category",
         "type": "\"string\""
        },
        {
         "metadata": "{}",
         "name": "Product Name",
         "type": "\"string\""
        },
        {
         "metadata": "{}",
         "name": "Sales",
         "type": "\"double\""
        },
        {
         "metadata": "{}",
         "name": "Quantity",
         "type": "\"long\""
        },
        {
         "metadata": "{}",
         "name": "Discount",
         "type": "\"double\""
        },
        {
         "metadata": "{}",
         "name": "Profit",
         "type": "\"double\""
        },
        {
         "metadata": "{}",
         "name": "Shipping Cost",
         "type": "\"double\""
        },
        {
         "metadata": "{}",
         "name": "Order Priority",
         "type": "\"string\""
        },
        {
         "metadata": "{}",
         "name": "lucro percentual",
         "type": "\"double\""
        }
       ],
       "type": "table"
      }
     },
     "output_type": "display_data"
    }
   ],
   "source": [
    "df_lucro = df_silver.withColumn(\"lucro percentual\", round(col('Profit') / col('Sales'),2 )) #.cast(\"decimal(10,2)\"))\n",
    "display(df_lucro.head(10))"
   ]
  },
  {
   "cell_type": "code",
   "execution_count": 0,
   "metadata": {
    "application/vnd.databricks.v1+cell": {
     "cellMetadata": {
      "byteLimit": 2048000,
      "rowLimit": 10000
     },
     "collapsed": true,
     "inputWidgets": {},
     "nuid": "568f3146-3101-4af7-8cbb-b9e6f40776e8",
     "showTitle": false,
     "tableResultSettingsMap": {},
     "title": ""
    }
   },
   "outputs": [
    {
     "output_type": "stream",
     "name": "stdout",
     "output_type": "stream",
     "text": [
      "Out[7]: <bound method DataFrame.printSchema of DataFrame[Row ID: int, Order ID: string, Order Date: date, Ship Date: date, Ship Mode: string, Customer ID: string, Customer Name: string, Segment: string, City: string, State: string, Country: string, Postal Code: int, Market: string, Region: string, Product ID: string, Category: string, Sub-Category: string, Product Name: string, Sales: double, Quantity: int, Discount: double, Profit: double, Shipping Cost: double, Order Priority: string, lucro_percentual: double]>"
     ]
    }
   ],
   "source": [
    "df_lucro.printSchema"
   ]
  },
  {
   "cell_type": "code",
   "execution_count": 0,
   "metadata": {
    "application/vnd.databricks.v1+cell": {
     "cellMetadata": {
      "byteLimit": 2048000,
      "rowLimit": 10000
     },
     "inputWidgets": {},
     "nuid": "ddb722a8-193a-4b95-b534-60c41c00ea86",
     "showTitle": false,
     "tableResultSettingsMap": {},
     "title": ""
    }
   },
   "outputs": [
    {
     "output_type": "stream",
     "name": "stdout",
     "output_type": "stream",
     "text": [
      "Out[60]: '\\nExtrair o ano da coluna Order Date.\\nEscrever os dados particionados em:\\nParquet por Country\\nDelta por Order Year\\nVerificar os diretórios gerados no DBFS.\\n\\n'"
     ]
    }
   ],
   "source": [
    "'''\n",
    "Extrair o ano da coluna Order Date.\n",
    "Escrever os dados particionados em:\n",
    "Parquet por Country\n",
    "Delta por Order Year\n",
    "Verificar os diretórios gerados no DBFS.\n",
    "\n",
    "'''"
   ]
  },
  {
   "cell_type": "code",
   "execution_count": 0,
   "metadata": {
    "application/vnd.databricks.v1+cell": {
     "cellMetadata": {
      "byteLimit": 2048000,
      "rowLimit": 10000
     },
     "collapsed": true,
     "inputWidgets": {},
     "nuid": "58ecd480-3342-4a46-a066-4fd52d934569",
     "showTitle": false,
     "tableResultSettingsMap": {},
     "title": ""
    }
   },
   "outputs": [
    {
     "output_type": "display_data",
     "data": {
      "text/html": [
       "<style scoped>\n",
       "  .table-result-container {\n",
       "    max-height: 300px;\n",
       "    overflow: auto;\n",
       "  }\n",
       "  table, th, td {\n",
       "    border: 1px solid black;\n",
       "    border-collapse: collapse;\n",
       "  }\n",
       "  th, td {\n",
       "    padding: 5px;\n",
       "  }\n",
       "  th {\n",
       "    text-align: left;\n",
       "  }\n",
       "</style><div class='table-result-container'><table class='table-result'><thead style='background-color: white'><tr><th>Row ID</th><th>Order ID</th><th>Order Date</th><th>Ship Date</th><th>Ship Mode</th><th>Customer ID</th><th>Customer Name</th><th>Segment</th><th>City</th><th>State</th><th>Country</th><th>Postal Code</th><th>Market</th><th>Region</th><th>Product ID</th><th>Category</th><th>Sub-Category</th><th>Product Name</th><th>Sales</th><th>Quantity</th><th>Discount</th><th>Profit</th><th>Shipping Cost</th><th>Order Priority</th><th>lucro percentual</th><th>YearOrderDate</th></tr></thead><tbody><tr><td>32298</td><td>CA-2012-124891</td><td>2012-07-31</td><td>2012-07-31</td><td>Same Day</td><td>RH-19495</td><td>Rick Hansen</td><td>Consumer</td><td>New York City</td><td>New York</td><td>United States</td><td>10024</td><td>US</td><td>East</td><td>TEC-AC-10003033</td><td>Technology</td><td>Accessories</td><td>Plantronics CS510 - Over-the-Head monaural Wireless Headset System</td><td>2309.65</td><td>7</td><td>0.0</td><td>762.1845</td><td>933.57</td><td>Critical</td><td>0.33</td><td>2012</td></tr><tr><td>26341</td><td>IN-2013-77878</td><td>2013-02-05</td><td>2013-02-07</td><td>Second Class</td><td>JR-16210</td><td>Justin Ritter</td><td>Corporate</td><td>Wollongong</td><td>New South Wales</td><td>Australia</td><td>null</td><td>APAC</td><td>Oceania</td><td>FUR-CH-10003950</td><td>Furniture</td><td>Chairs</td><td>Novimex Executive Leather Armchair, Black</td><td>3709.395</td><td>9</td><td>0.1</td><td>-288.765</td><td>923.63</td><td>Critical</td><td>-0.08</td><td>2013</td></tr><tr><td>25330</td><td>IN-2013-71249</td><td>2013-10-17</td><td>2013-10-18</td><td>First Class</td><td>CR-12730</td><td>Craig Reiter</td><td>Consumer</td><td>Brisbane</td><td>Queensland</td><td>Australia</td><td>null</td><td>APAC</td><td>Oceania</td><td>TEC-PH-10004664</td><td>Technology</td><td>Phones</td><td>Nokia Smart Phone, with Caller ID</td><td>5175.171</td><td>9</td><td>0.1</td><td>919.971</td><td>915.49</td><td>Medium</td><td>0.18</td><td>2013</td></tr><tr><td>13524</td><td>ES-2013-1579342</td><td>2013-01-28</td><td>2013-01-30</td><td>First Class</td><td>KM-16375</td><td>Katherine Murray</td><td>Home Office</td><td>Berlin</td><td>Berlin</td><td>Germany</td><td>null</td><td>EU</td><td>Central</td><td>TEC-PH-10004583</td><td>Technology</td><td>Phones</td><td>Motorola Smart Phone, Cordless</td><td>2892.51</td><td>5</td><td>0.1</td><td>-96.54</td><td>910.16</td><td>Medium</td><td>-0.03</td><td>2013</td></tr><tr><td>47221</td><td>SG-2013-4320</td><td>2013-11-05</td><td>2013-11-06</td><td>Same Day</td><td>RH-9495</td><td>Rick Hansen</td><td>Consumer</td><td>Dakar</td><td>Dakar</td><td>Senegal</td><td>null</td><td>Africa</td><td>Africa</td><td>TEC-SHA-10000501</td><td>Technology</td><td>Copiers</td><td>Sharp Wireless Fax, High-Speed</td><td>2832.96</td><td>8</td><td>0.0</td><td>311.52</td><td>903.04</td><td>Critical</td><td>0.11</td><td>2013</td></tr><tr><td>22732</td><td>IN-2013-42360</td><td>2013-06-28</td><td>2013-07-01</td><td>Second Class</td><td>JM-15655</td><td>Jim Mitchum</td><td>Corporate</td><td>Sydney</td><td>New South Wales</td><td>Australia</td><td>null</td><td>APAC</td><td>Oceania</td><td>TEC-PH-10000030</td><td>Technology</td><td>Phones</td><td>Samsung Smart Phone, with Caller ID</td><td>2862.675</td><td>5</td><td>0.1</td><td>763.275</td><td>897.35</td><td>Critical</td><td>0.27</td><td>2013</td></tr><tr><td>30570</td><td>IN-2011-81826</td><td>2011-11-07</td><td>2011-11-09</td><td>First Class</td><td>TS-21340</td><td>Toby Swindell</td><td>Consumer</td><td>Porirua</td><td>Wellington</td><td>New Zealand</td><td>null</td><td>APAC</td><td>Oceania</td><td>FUR-CH-10004050</td><td>Furniture</td><td>Chairs</td><td>Novimex Executive Leather Armchair, Adjustable</td><td>1822.08</td><td>4</td><td>0.0</td><td>564.84</td><td>894.77</td><td>Critical</td><td>0.31</td><td>2011</td></tr><tr><td>31192</td><td>IN-2012-86369</td><td>2012-04-14</td><td>2012-04-18</td><td>Standard Class</td><td>MB-18085</td><td>Mick Brown</td><td>Consumer</td><td>Hamilton</td><td>Waikato</td><td>New Zealand</td><td>null</td><td>APAC</td><td>Oceania</td><td>FUR-TA-10002958</td><td>Furniture</td><td>Tables</td><td>Chromcraft Conference Table, Fully Assembled</td><td>5244.84</td><td>6</td><td>0.0</td><td>996.48</td><td>878.38</td><td>High</td><td>0.19</td><td>2012</td></tr><tr><td>40155</td><td>CA-2014-135909</td><td>2014-10-14</td><td>2014-10-21</td><td>Standard Class</td><td>JW-15220</td><td>Jane Waco</td><td>Corporate</td><td>Sacramento</td><td>California</td><td>United States</td><td>95823</td><td>US</td><td>West</td><td>OFF-BI-10003527</td><td>Office Supplies</td><td>Binders</td><td>Fellowes PB500 Electric Punch Plastic Comb Binding Machine with Manual Bind</td><td>5083.96</td><td>5</td><td>0.2</td><td>1906.485</td><td>867.69</td><td>Low</td><td>0.38</td><td>2014</td></tr><tr><td>40936</td><td>CA-2012-116638</td><td>2012-01-28</td><td>2012-01-31</td><td>Second Class</td><td>JH-15985</td><td>Joseph Holt</td><td>Consumer</td><td>Concord</td><td>North Carolina</td><td>United States</td><td>28027</td><td>US</td><td>South</td><td>FUR-TA-10000198</td><td>Furniture</td><td>Tables</td><td>Chromcraft Bull-Nose Wood Oval Conference Tables & Bases</td><td>4297.644</td><td>13</td><td>0.4</td><td>-1862.3124</td><td>865.74</td><td>Critical</td><td>-0.43</td><td>2012</td></tr></tbody></table></div>"
      ]
     },
     "metadata": {
      "application/vnd.databricks.v1+output": {
       "addedWidgets": {},
       "aggData": [],
       "aggError": "",
       "aggOverflow": false,
       "aggSchema": [],
       "aggSeriesLimitReached": false,
       "aggType": "",
       "arguments": {},
       "columnCustomDisplayInfos": {},
       "data": [
        [
         32298,
         "CA-2012-124891",
         "2012-07-31",
         "2012-07-31",
         "Same Day",
         "RH-19495",
         "Rick Hansen",
         "Consumer",
         "New York City",
         "New York",
         "United States",
         10024,
         "US",
         "East",
         "TEC-AC-10003033",
         "Technology",
         "Accessories",
         "Plantronics CS510 - Over-the-Head monaural Wireless Headset System",
         2309.65,
         7,
         0.0,
         762.1845,
         933.57,
         "Critical",
         0.33,
         2012
        ],
        [
         26341,
         "IN-2013-77878",
         "2013-02-05",
         "2013-02-07",
         "Second Class",
         "JR-16210",
         "Justin Ritter",
         "Corporate",
         "Wollongong",
         "New South Wales",
         "Australia",
         null,
         "APAC",
         "Oceania",
         "FUR-CH-10003950",
         "Furniture",
         "Chairs",
         "Novimex Executive Leather Armchair, Black",
         3709.395,
         9,
         0.1,
         -288.765,
         923.63,
         "Critical",
         -0.08,
         2013
        ],
        [
         25330,
         "IN-2013-71249",
         "2013-10-17",
         "2013-10-18",
         "First Class",
         "CR-12730",
         "Craig Reiter",
         "Consumer",
         "Brisbane",
         "Queensland",
         "Australia",
         null,
         "APAC",
         "Oceania",
         "TEC-PH-10004664",
         "Technology",
         "Phones",
         "Nokia Smart Phone, with Caller ID",
         5175.171,
         9,
         0.1,
         919.971,
         915.49,
         "Medium",
         0.18,
         2013
        ],
        [
         13524,
         "ES-2013-1579342",
         "2013-01-28",
         "2013-01-30",
         "First Class",
         "KM-16375",
         "Katherine Murray",
         "Home Office",
         "Berlin",
         "Berlin",
         "Germany",
         null,
         "EU",
         "Central",
         "TEC-PH-10004583",
         "Technology",
         "Phones",
         "Motorola Smart Phone, Cordless",
         2892.51,
         5,
         0.1,
         -96.54,
         910.16,
         "Medium",
         -0.03,
         2013
        ],
        [
         47221,
         "SG-2013-4320",
         "2013-11-05",
         "2013-11-06",
         "Same Day",
         "RH-9495",
         "Rick Hansen",
         "Consumer",
         "Dakar",
         "Dakar",
         "Senegal",
         null,
         "Africa",
         "Africa",
         "TEC-SHA-10000501",
         "Technology",
         "Copiers",
         "Sharp Wireless Fax, High-Speed",
         2832.96,
         8,
         0.0,
         311.52,
         903.04,
         "Critical",
         0.11,
         2013
        ],
        [
         22732,
         "IN-2013-42360",
         "2013-06-28",
         "2013-07-01",
         "Second Class",
         "JM-15655",
         "Jim Mitchum",
         "Corporate",
         "Sydney",
         "New South Wales",
         "Australia",
         null,
         "APAC",
         "Oceania",
         "TEC-PH-10000030",
         "Technology",
         "Phones",
         "Samsung Smart Phone, with Caller ID",
         2862.675,
         5,
         0.1,
         763.275,
         897.35,
         "Critical",
         0.27,
         2013
        ],
        [
         30570,
         "IN-2011-81826",
         "2011-11-07",
         "2011-11-09",
         "First Class",
         "TS-21340",
         "Toby Swindell",
         "Consumer",
         "Porirua",
         "Wellington",
         "New Zealand",
         null,
         "APAC",
         "Oceania",
         "FUR-CH-10004050",
         "Furniture",
         "Chairs",
         "Novimex Executive Leather Armchair, Adjustable",
         1822.08,
         4,
         0.0,
         564.84,
         894.77,
         "Critical",
         0.31,
         2011
        ],
        [
         31192,
         "IN-2012-86369",
         "2012-04-14",
         "2012-04-18",
         "Standard Class",
         "MB-18085",
         "Mick Brown",
         "Consumer",
         "Hamilton",
         "Waikato",
         "New Zealand",
         null,
         "APAC",
         "Oceania",
         "FUR-TA-10002958",
         "Furniture",
         "Tables",
         "Chromcraft Conference Table, Fully Assembled",
         5244.84,
         6,
         0.0,
         996.48,
         878.38,
         "High",
         0.19,
         2012
        ],
        [
         40155,
         "CA-2014-135909",
         "2014-10-14",
         "2014-10-21",
         "Standard Class",
         "JW-15220",
         "Jane Waco",
         "Corporate",
         "Sacramento",
         "California",
         "United States",
         95823,
         "US",
         "West",
         "OFF-BI-10003527",
         "Office Supplies",
         "Binders",
         "Fellowes PB500 Electric Punch Plastic Comb Binding Machine with Manual Bind",
         5083.96,
         5,
         0.2,
         1906.485,
         867.69,
         "Low",
         0.38,
         2014
        ],
        [
         40936,
         "CA-2012-116638",
         "2012-01-28",
         "2012-01-31",
         "Second Class",
         "JH-15985",
         "Joseph Holt",
         "Consumer",
         "Concord",
         "North Carolina",
         "United States",
         28027,
         "US",
         "South",
         "FUR-TA-10000198",
         "Furniture",
         "Tables",
         "Chromcraft Bull-Nose Wood Oval Conference Tables & Bases",
         4297.644,
         13,
         0.4,
         -1862.3124,
         865.74,
         "Critical",
         -0.43,
         2012
        ]
       ],
       "datasetInfos": [],
       "dbfsResultPath": null,
       "isJsonSchema": true,
       "metadata": {},
       "overflow": false,
       "plotOptions": {
        "customPlotOptions": {},
        "displayType": "table",
        "pivotAggregation": null,
        "pivotColumns": null,
        "xColumns": null,
        "yColumns": null
       },
       "removedWidgets": [],
       "schema": [
        {
         "metadata": "{}",
         "name": "Row ID",
         "type": "\"long\""
        },
        {
         "metadata": "{}",
         "name": "Order ID",
         "type": "\"string\""
        },
        {
         "metadata": "{}",
         "name": "Order Date",
         "type": "\"date\""
        },
        {
         "metadata": "{}",
         "name": "Ship Date",
         "type": "\"date\""
        },
        {
         "metadata": "{}",
         "name": "Ship Mode",
         "type": "\"string\""
        },
        {
         "metadata": "{}",
         "name": "Customer ID",
         "type": "\"string\""
        },
        {
         "metadata": "{}",
         "name": "Customer Name",
         "type": "\"string\""
        },
        {
         "metadata": "{}",
         "name": "Segment",
         "type": "\"string\""
        },
        {
         "metadata": "{}",
         "name": "City",
         "type": "\"string\""
        },
        {
         "metadata": "{}",
         "name": "State",
         "type": "\"string\""
        },
        {
         "metadata": "{}",
         "name": "Country",
         "type": "\"string\""
        },
        {
         "metadata": "{}",
         "name": "Postal Code",
         "type": "\"long\""
        },
        {
         "metadata": "{}",
         "name": "Market",
         "type": "\"string\""
        },
        {
         "metadata": "{}",
         "name": "Region",
         "type": "\"string\""
        },
        {
         "metadata": "{}",
         "name": "Product ID",
         "type": "\"string\""
        },
        {
         "metadata": "{}",
         "name": "Category",
         "type": "\"string\""
        },
        {
         "metadata": "{}",
         "name": "Sub-Category",
         "type": "\"string\""
        },
        {
         "metadata": "{}",
         "name": "Product Name",
         "type": "\"string\""
        },
        {
         "metadata": "{}",
         "name": "Sales",
         "type": "\"double\""
        },
        {
         "metadata": "{}",
         "name": "Quantity",
         "type": "\"long\""
        },
        {
         "metadata": "{}",
         "name": "Discount",
         "type": "\"double\""
        },
        {
         "metadata": "{}",
         "name": "Profit",
         "type": "\"double\""
        },
        {
         "metadata": "{}",
         "name": "Shipping Cost",
         "type": "\"double\""
        },
        {
         "metadata": "{}",
         "name": "Order Priority",
         "type": "\"string\""
        },
        {
         "metadata": "{}",
         "name": "lucro percentual",
         "type": "\"double\""
        },
        {
         "metadata": "{}",
         "name": "YearOrderDate",
         "type": "\"long\""
        }
       ],
       "type": "table"
      }
     },
     "output_type": "display_data"
    }
   ],
   "source": [
    "df_order_date = df_lucro.withColumn(\"YearOrderDate\", year(col(\"Order Date\")))\n",
    "display(df_order_date.head(10))"
   ]
  },
  {
   "cell_type": "code",
   "execution_count": 0,
   "metadata": {
    "application/vnd.databricks.v1+cell": {
     "cellMetadata": {
      "byteLimit": 2048000,
      "rowLimit": 10000
     },
     "inputWidgets": {},
     "nuid": "3cd03283-e335-4a5d-9b05-286ff1428d5e",
     "showTitle": false,
     "tableResultSettingsMap": {},
     "title": ""
    }
   },
   "outputs": [],
   "source": [
    "df_order_date.write.format(\"parquet\").mode(\"overwrite\").partitionBy(\"Country\").save(\"dbfs:/Silver/Country.parquet\")"
   ]
  },
  {
   "cell_type": "code",
   "execution_count": 0,
   "metadata": {
    "application/vnd.databricks.v1+cell": {
     "cellMetadata": {
      "byteLimit": 2048000,
      "rowLimit": 10000
     },
     "collapsed": true,
     "inputWidgets": {},
     "nuid": "00606ade-6da6-490b-b8bb-bd8741cfc663",
     "showTitle": false,
     "tableResultSettingsMap": {},
     "title": ""
    }
   },
   "outputs": [
    {
     "output_type": "stream",
     "name": "stdout",
     "output_type": "stream",
     "text": [
      "['RowID', 'OrderID', 'OrderDate', 'ShipDate', 'ShipMode', 'CustomerID', 'CustomerName', 'Segment', 'City', 'State', 'Country', 'PostalCode', 'Market', 'Region', 'ProductID', 'Category', 'SubCategory', 'ProductName', 'Sales', 'Quantity', 'Discount', 'Profit', 'ShippingCost', 'OrderPriority', 'lucropercentual', 'YearOrderDate']\n"
     ]
    }
   ],
   "source": [
    "new_column_names = []\n",
    "for column in df_order_date.columns:\n",
    "    new_column_names.append(column.replace(\" \", \"\").replace(\"-\", \"\"))\n",
    "df_order_date = df_order_date.toDF(*new_column_names)\n",
    "\n",
    "print(df_order_date.columns)\n"
   ]
  },
  {
   "cell_type": "code",
   "execution_count": 0,
   "metadata": {
    "application/vnd.databricks.v1+cell": {
     "cellMetadata": {
      "byteLimit": 2048000,
      "rowLimit": 10000
     },
     "inputWidgets": {},
     "nuid": "35158825-48f2-4d34-aa30-647d589b843d",
     "showTitle": false,
     "tableResultSettingsMap": {},
     "title": ""
    }
   },
   "outputs": [],
   "source": [
    "df_order_date.write.format(\"delta\").mode(\"overwrite\").partitionBy(\"YearOrderDate\").save(\"dbfs:/Silver/Year_Order_Date.delta\")"
   ]
  },
  {
   "cell_type": "code",
   "execution_count": 0,
   "metadata": {
    "application/vnd.databricks.v1+cell": {
     "cellMetadata": {
      "byteLimit": 2048000,
      "rowLimit": 10000
     },
     "collapsed": true,
     "inputWidgets": {},
     "nuid": "d7d0486f-35dc-4492-a185-c9ebb5a44667",
     "showTitle": false,
     "tableResultSettingsMap": {},
     "title": ""
    }
   },
   "outputs": [
    {
     "output_type": "display_data",
     "data": {
      "text/html": [
       "<style scoped>\n",
       "  .table-result-container {\n",
       "    max-height: 300px;\n",
       "    overflow: auto;\n",
       "  }\n",
       "  table, th, td {\n",
       "    border: 1px solid black;\n",
       "    border-collapse: collapse;\n",
       "  }\n",
       "  th, td {\n",
       "    padding: 5px;\n",
       "  }\n",
       "  th {\n",
       "    text-align: left;\n",
       "  }\n",
       "</style><div class='table-result-container'><table class='table-result'><thead style='background-color: white'><tr><th>RowID</th><th>OrderID</th><th>OrderDate</th><th>ShipDate</th><th>ShipMode</th><th>CustomerID</th><th>CustomerName</th><th>Segment</th><th>City</th><th>State</th><th>Country</th><th>PostalCode</th><th>Market</th><th>Region</th><th>ProductID</th><th>Category</th><th>SubCategory</th><th>ProductName</th><th>Sales</th><th>Quantity</th><th>Discount</th><th>Profit</th><th>ShippingCost</th><th>OrderPriority</th><th>lucropercentual</th><th>YearOrderDate</th></tr></thead><tbody><tr><td>30570</td><td>IN-2011-81826</td><td>2011-11-07</td><td>2011-11-09</td><td>First Class</td><td>TS-21340</td><td>Toby Swindell</td><td>Consumer</td><td>Porirua</td><td>Wellington</td><td>New Zealand</td><td>null</td><td>APAC</td><td>Oceania</td><td>FUR-CH-10004050</td><td>Furniture</td><td>Chairs</td><td>Novimex Executive Leather Armchair, Adjustable</td><td>2425.1884800000003</td><td>4</td><td>0.0</td><td>564.84</td><td>894.77</td><td>Critical</td><td>0.31</td><td>2011</td></tr><tr><td>34577</td><td>CA-2011-102988</td><td>2011-04-05</td><td>2011-04-09</td><td>Second Class</td><td>GM-14695</td><td>Greg Maxwell</td><td>Corporate</td><td>Alexandria</td><td>Virginia</td><td>United States</td><td>22304</td><td>US</td><td>South</td><td>OFF-SU-10002881</td><td>Office Supplies</td><td>Supplies</td><td>Martin Yale Chadless Opener Electric Letter Opener</td><td>4164.05</td><td>5</td><td>0.0</td><td>83.281</td><td>846.54</td><td>High</td><td>0.02</td><td>2011</td></tr><tr><td>45794</td><td>SA-2011-1830</td><td>2011-12-27</td><td>2011-12-29</td><td>Second Class</td><td>MM-7260</td><td>Magdelene Morse</td><td>Consumer</td><td>Jizan</td><td>Jizan</td><td>Saudi Arabia</td><td>null</td><td>EMEA</td><td>EMEA</td><td>TEC-CIS-10001717</td><td>Technology</td><td>Phones</td><td>Cisco Smart Phone, with Caller ID</td><td>2616.96</td><td>4</td><td>0.0</td><td>1151.4</td><td>832.41</td><td>Critical</td><td>0.44</td><td>2011</td></tr><tr><td>31784</td><td>CA-2011-154627</td><td>2011-10-29</td><td>2011-10-31</td><td>First Class</td><td>SA-20830</td><td>Sue Ann Reed</td><td>Consumer</td><td>Chicago</td><td>Illinois</td><td>United States</td><td>60610</td><td>US</td><td>Central</td><td>TEC-PH-10001363</td><td>Technology</td><td>Phones</td><td>Apple iPhone 5S</td><td>2735.952</td><td>6</td><td>0.2</td><td>341.994</td><td>752.51</td><td>High</td><td>0.13</td><td>2011</td></tr><tr><td>21586</td><td>IN-2011-44803</td><td>2011-05-02</td><td>2011-05-03</td><td>First Class</td><td>JK-15325</td><td>Jason Klamczynski</td><td>Corporate</td><td>Suzhou</td><td>Anhui</td><td>China</td><td>null</td><td>APAC</td><td>North Asia</td><td>FUR-CH-10000027</td><td>Furniture</td><td>Chairs</td><td>SAFCO Executive Leather Armchair, Black</td><td>2754.0</td><td>6</td><td>0.0</td><td>358.02</td><td>752.47</td><td>Critical</td><td>0.13</td><td>2011</td></tr><tr><td>30191</td><td>IN-2011-10286</td><td>2011-12-17</td><td>2011-12-20</td><td>First Class</td><td>PB-19210</td><td>Phillip Breyer</td><td>Corporate</td><td>Taipei</td><td>Taipei City</td><td>Taiwan</td><td>null</td><td>APAC</td><td>North Asia</td><td>FUR-TA-10004744</td><td>Furniture</td><td>Tables</td><td>Lesro Conference Table, with Bottom Storage</td><td>1715.16</td><td>2</td><td>0.0</td><td>720.36</td><td>725.57</td><td>Critical</td><td>0.42</td><td>2011</td></tr><tr><td>11645</td><td>ES-2011-4699764</td><td>2011-03-14</td><td>2011-03-17</td><td>Second Class</td><td>EB-14110</td><td>Eugene Barchas</td><td>Consumer</td><td>Leipzig</td><td>Saxony</td><td>Germany</td><td>null</td><td>EU</td><td>Central</td><td>OFF-AP-10004512</td><td>Office Supplies</td><td>Appliances</td><td>Hoover Stove, Red</td><td>3069.738</td><td>6</td><td>0.1</td><td>1364.238</td><td>725.34</td><td>Critical</td><td>0.44</td><td>2011</td></tr><tr><td>220</td><td>US-2011-128776</td><td>2011-12-28</td><td>2011-12-30</td><td>Second Class</td><td>RR-19525</td><td>Rick Reed</td><td>Corporate</td><td>Santo Domingo</td><td>Santo Domingo</td><td>Dominican Republic</td><td>null</td><td>LATAM</td><td>Caribbean</td><td>TEC-PH-10002815</td><td>Technology</td><td>Phones</td><td>Samsung Smart Phone, VoIP</td><td>1696.64</td><td>5</td><td>0.2</td><td>-148.46</td><td>704.06</td><td>Critical</td><td>-0.09</td><td>2011</td></tr><tr><td>21286</td><td>IN-2011-28087</td><td>2011-11-03</td><td>2011-11-05</td><td>Second Class</td><td>DP-13105</td><td>Dave Poirier</td><td>Corporate</td><td>Gold Coast</td><td>Queensland</td><td>Australia</td><td>null</td><td>APAC</td><td>Oceania</td><td>OFF-AP-10004246</td><td>Office Supplies</td><td>Appliances</td><td>Breville Stove, Red</td><td>2526.93</td><td>5</td><td>0.1</td><td>561.48</td><td>689.8</td><td>Critical</td><td>0.22</td><td>2011</td></tr><tr><td>32543</td><td>CA-2011-168494</td><td>2011-12-12</td><td>2011-12-14</td><td>Second Class</td><td>NP-18700</td><td>Nora Preis</td><td>Consumer</td><td>Fresno</td><td>California</td><td>United States</td><td>93727</td><td>US</td><td>West</td><td>FUR-TA-10003473</td><td>Furniture</td><td>Tables</td><td>Bretford Rectangular Conference Table Tops</td><td>3610.848</td><td>12</td><td>0.2</td><td>135.4068</td><td>683.12</td><td>High</td><td>0.04</td><td>2011</td></tr></tbody></table></div>"
      ]
     },
     "metadata": {
      "application/vnd.databricks.v1+output": {
       "addedWidgets": {},
       "aggData": [],
       "aggError": "",
       "aggOverflow": false,
       "aggSchema": [],
       "aggSeriesLimitReached": false,
       "aggType": "",
       "arguments": {},
       "columnCustomDisplayInfos": {},
       "data": [
        [
         30570,
         "IN-2011-81826",
         "2011-11-07",
         "2011-11-09",
         "First Class",
         "TS-21340",
         "Toby Swindell",
         "Consumer",
         "Porirua",
         "Wellington",
         "New Zealand",
         null,
         "APAC",
         "Oceania",
         "FUR-CH-10004050",
         "Furniture",
         "Chairs",
         "Novimex Executive Leather Armchair, Adjustable",
         2425.1884800000003,
         4,
         0.0,
         564.84,
         894.77,
         "Critical",
         0.31,
         2011
        ],
        [
         34577,
         "CA-2011-102988",
         "2011-04-05",
         "2011-04-09",
         "Second Class",
         "GM-14695",
         "Greg Maxwell",
         "Corporate",
         "Alexandria",
         "Virginia",
         "United States",
         22304,
         "US",
         "South",
         "OFF-SU-10002881",
         "Office Supplies",
         "Supplies",
         "Martin Yale Chadless Opener Electric Letter Opener",
         4164.05,
         5,
         0.0,
         83.281,
         846.54,
         "High",
         0.02,
         2011
        ],
        [
         45794,
         "SA-2011-1830",
         "2011-12-27",
         "2011-12-29",
         "Second Class",
         "MM-7260",
         "Magdelene Morse",
         "Consumer",
         "Jizan",
         "Jizan",
         "Saudi Arabia",
         null,
         "EMEA",
         "EMEA",
         "TEC-CIS-10001717",
         "Technology",
         "Phones",
         "Cisco Smart Phone, with Caller ID",
         2616.96,
         4,
         0.0,
         1151.4,
         832.41,
         "Critical",
         0.44,
         2011
        ],
        [
         31784,
         "CA-2011-154627",
         "2011-10-29",
         "2011-10-31",
         "First Class",
         "SA-20830",
         "Sue Ann Reed",
         "Consumer",
         "Chicago",
         "Illinois",
         "United States",
         60610,
         "US",
         "Central",
         "TEC-PH-10001363",
         "Technology",
         "Phones",
         "Apple iPhone 5S",
         2735.952,
         6,
         0.2,
         341.994,
         752.51,
         "High",
         0.13,
         2011
        ],
        [
         21586,
         "IN-2011-44803",
         "2011-05-02",
         "2011-05-03",
         "First Class",
         "JK-15325",
         "Jason Klamczynski",
         "Corporate",
         "Suzhou",
         "Anhui",
         "China",
         null,
         "APAC",
         "North Asia",
         "FUR-CH-10000027",
         "Furniture",
         "Chairs",
         "SAFCO Executive Leather Armchair, Black",
         2754.0,
         6,
         0.0,
         358.02,
         752.47,
         "Critical",
         0.13,
         2011
        ],
        [
         30191,
         "IN-2011-10286",
         "2011-12-17",
         "2011-12-20",
         "First Class",
         "PB-19210",
         "Phillip Breyer",
         "Corporate",
         "Taipei",
         "Taipei City",
         "Taiwan",
         null,
         "APAC",
         "North Asia",
         "FUR-TA-10004744",
         "Furniture",
         "Tables",
         "Lesro Conference Table, with Bottom Storage",
         1715.16,
         2,
         0.0,
         720.36,
         725.57,
         "Critical",
         0.42,
         2011
        ],
        [
         11645,
         "ES-2011-4699764",
         "2011-03-14",
         "2011-03-17",
         "Second Class",
         "EB-14110",
         "Eugene Barchas",
         "Consumer",
         "Leipzig",
         "Saxony",
         "Germany",
         null,
         "EU",
         "Central",
         "OFF-AP-10004512",
         "Office Supplies",
         "Appliances",
         "Hoover Stove, Red",
         3069.738,
         6,
         0.1,
         1364.238,
         725.34,
         "Critical",
         0.44,
         2011
        ],
        [
         220,
         "US-2011-128776",
         "2011-12-28",
         "2011-12-30",
         "Second Class",
         "RR-19525",
         "Rick Reed",
         "Corporate",
         "Santo Domingo",
         "Santo Domingo",
         "Dominican Republic",
         null,
         "LATAM",
         "Caribbean",
         "TEC-PH-10002815",
         "Technology",
         "Phones",
         "Samsung Smart Phone, VoIP",
         1696.64,
         5,
         0.2,
         -148.46,
         704.06,
         "Critical",
         -0.09,
         2011
        ],
        [
         21286,
         "IN-2011-28087",
         "2011-11-03",
         "2011-11-05",
         "Second Class",
         "DP-13105",
         "Dave Poirier",
         "Corporate",
         "Gold Coast",
         "Queensland",
         "Australia",
         null,
         "APAC",
         "Oceania",
         "OFF-AP-10004246",
         "Office Supplies",
         "Appliances",
         "Breville Stove, Red",
         2526.93,
         5,
         0.1,
         561.48,
         689.8,
         "Critical",
         0.22,
         2011
        ],
        [
         32543,
         "CA-2011-168494",
         "2011-12-12",
         "2011-12-14",
         "Second Class",
         "NP-18700",
         "Nora Preis",
         "Consumer",
         "Fresno",
         "California",
         "United States",
         93727,
         "US",
         "West",
         "FUR-TA-10003473",
         "Furniture",
         "Tables",
         "Bretford Rectangular Conference Table Tops",
         3610.848,
         12,
         0.2,
         135.4068,
         683.12,
         "High",
         0.04,
         2011
        ]
       ],
       "datasetInfos": [],
       "dbfsResultPath": null,
       "isJsonSchema": true,
       "metadata": {},
       "overflow": false,
       "plotOptions": {
        "customPlotOptions": {},
        "displayType": "table",
        "pivotAggregation": null,
        "pivotColumns": null,
        "xColumns": null,
        "yColumns": null
       },
       "removedWidgets": [],
       "schema": [
        {
         "metadata": "{}",
         "name": "RowID",
         "type": "\"long\""
        },
        {
         "metadata": "{}",
         "name": "OrderID",
         "type": "\"string\""
        },
        {
         "metadata": "{}",
         "name": "OrderDate",
         "type": "\"date\""
        },
        {
         "metadata": "{}",
         "name": "ShipDate",
         "type": "\"date\""
        },
        {
         "metadata": "{}",
         "name": "ShipMode",
         "type": "\"string\""
        },
        {
         "metadata": "{}",
         "name": "CustomerID",
         "type": "\"string\""
        },
        {
         "metadata": "{}",
         "name": "CustomerName",
         "type": "\"string\""
        },
        {
         "metadata": "{}",
         "name": "Segment",
         "type": "\"string\""
        },
        {
         "metadata": "{}",
         "name": "City",
         "type": "\"string\""
        },
        {
         "metadata": "{}",
         "name": "State",
         "type": "\"string\""
        },
        {
         "metadata": "{}",
         "name": "Country",
         "type": "\"string\""
        },
        {
         "metadata": "{}",
         "name": "PostalCode",
         "type": "\"long\""
        },
        {
         "metadata": "{}",
         "name": "Market",
         "type": "\"string\""
        },
        {
         "metadata": "{}",
         "name": "Region",
         "type": "\"string\""
        },
        {
         "metadata": "{}",
         "name": "ProductID",
         "type": "\"string\""
        },
        {
         "metadata": "{}",
         "name": "Category",
         "type": "\"string\""
        },
        {
         "metadata": "{}",
         "name": "SubCategory",
         "type": "\"string\""
        },
        {
         "metadata": "{}",
         "name": "ProductName",
         "type": "\"string\""
        },
        {
         "metadata": "{}",
         "name": "Sales",
         "type": "\"double\""
        },
        {
         "metadata": "{}",
         "name": "Quantity",
         "type": "\"long\""
        },
        {
         "metadata": "{}",
         "name": "Discount",
         "type": "\"double\""
        },
        {
         "metadata": "{}",
         "name": "Profit",
         "type": "\"double\""
        },
        {
         "metadata": "{}",
         "name": "ShippingCost",
         "type": "\"double\""
        },
        {
         "metadata": "{}",
         "name": "OrderPriority",
         "type": "\"string\""
        },
        {
         "metadata": "{}",
         "name": "lucropercentual",
         "type": "\"double\""
        },
        {
         "metadata": "{}",
         "name": "YearOrderDate",
         "type": "\"long\""
        }
       ],
       "type": "table"
      }
     },
     "output_type": "display_data"
    }
   ],
   "source": [
    "df_delta_read = spark.read.format(\"delta\").load(\"dbfs:/Silver/Year_Order_Date.delta\")\n",
    "display(df_delta_read.head(10))"
   ]
  },
  {
   "cell_type": "code",
   "execution_count": 0,
   "metadata": {
    "application/vnd.databricks.v1+cell": {
     "cellMetadata": {
      "byteLimit": 2048000,
      "rowLimit": 10000
     },
     "collapsed": true,
     "inputWidgets": {},
     "nuid": "330009d0-1243-4692-86ff-9fe454924807",
     "showTitle": false,
     "tableResultSettingsMap": {},
     "title": ""
    }
   },
   "outputs": [
    {
     "output_type": "stream",
     "name": "stdout",
     "output_type": "stream",
     "text": [
      "000000000004129600000030020110003000"
     ]
    }
   ],
   "source": [
    "for coluna in df_delta_read.columns:\n",
    "    df_null = df_delta_read.where(df_delta_read[coluna].isNull()).count()\n",
    "    display(df_null)"
   ]
  },
  {
   "cell_type": "code",
   "execution_count": 0,
   "metadata": {
    "application/vnd.databricks.v1+cell": {
     "cellMetadata": {
      "byteLimit": 2048000,
      "rowLimit": 10000
     },
     "collapsed": true,
     "inputWidgets": {},
     "nuid": "03be2e9a-844b-4202-95b9-f35286c430f1",
     "showTitle": false,
     "tableResultSettingsMap": {},
     "title": ""
    }
   },
   "outputs": [
    {
     "output_type": "display_data",
     "data": {
      "text/html": [
       "<style scoped>\n",
       "  .table-result-container {\n",
       "    max-height: 300px;\n",
       "    overflow: auto;\n",
       "  }\n",
       "  table, th, td {\n",
       "    border: 1px solid black;\n",
       "    border-collapse: collapse;\n",
       "  }\n",
       "  th, td {\n",
       "    padding: 5px;\n",
       "  }\n",
       "  th {\n",
       "    text-align: left;\n",
       "  }\n",
       "</style><div class='table-result-container'><table class='table-result'><thead style='background-color: white'><tr><th>path</th><th>name</th><th>size</th><th>modificationTime</th></tr></thead><tbody><tr><td>dbfs:/Silver/Country.parquet/Country=Afghanistan/</td><td>Country=Afghanistan/</td><td>0</td><td>0</td></tr><tr><td>dbfs:/Silver/Country.parquet/Country=Albania/</td><td>Country=Albania/</td><td>0</td><td>0</td></tr><tr><td>dbfs:/Silver/Country.parquet/Country=Algeria/</td><td>Country=Algeria/</td><td>0</td><td>0</td></tr><tr><td>dbfs:/Silver/Country.parquet/Country=Angola/</td><td>Country=Angola/</td><td>0</td><td>0</td></tr><tr><td>dbfs:/Silver/Country.parquet/Country=Argentina/</td><td>Country=Argentina/</td><td>0</td><td>0</td></tr><tr><td>dbfs:/Silver/Country.parquet/Country=Armenia/</td><td>Country=Armenia/</td><td>0</td><td>0</td></tr><tr><td>dbfs:/Silver/Country.parquet/Country=Australia/</td><td>Country=Australia/</td><td>0</td><td>0</td></tr><tr><td>dbfs:/Silver/Country.parquet/Country=Austria/</td><td>Country=Austria/</td><td>0</td><td>0</td></tr><tr><td>dbfs:/Silver/Country.parquet/Country=Azerbaijan/</td><td>Country=Azerbaijan/</td><td>0</td><td>0</td></tr><tr><td>dbfs:/Silver/Country.parquet/Country=Bahrain/</td><td>Country=Bahrain/</td><td>0</td><td>0</td></tr><tr><td>dbfs:/Silver/Country.parquet/Country=Bangladesh/</td><td>Country=Bangladesh/</td><td>0</td><td>0</td></tr><tr><td>dbfs:/Silver/Country.parquet/Country=Barbados/</td><td>Country=Barbados/</td><td>0</td><td>0</td></tr><tr><td>dbfs:/Silver/Country.parquet/Country=Belarus/</td><td>Country=Belarus/</td><td>0</td><td>0</td></tr><tr><td>dbfs:/Silver/Country.parquet/Country=Belgium/</td><td>Country=Belgium/</td><td>0</td><td>0</td></tr><tr><td>dbfs:/Silver/Country.parquet/Country=Benin/</td><td>Country=Benin/</td><td>0</td><td>0</td></tr><tr><td>dbfs:/Silver/Country.parquet/Country=Bolivia/</td><td>Country=Bolivia/</td><td>0</td><td>0</td></tr><tr><td>dbfs:/Silver/Country.parquet/Country=Bosnia and Herzegovina/</td><td>Country=Bosnia and Herzegovina/</td><td>0</td><td>0</td></tr><tr><td>dbfs:/Silver/Country.parquet/Country=Brazil/</td><td>Country=Brazil/</td><td>0</td><td>0</td></tr><tr><td>dbfs:/Silver/Country.parquet/Country=Bulgaria/</td><td>Country=Bulgaria/</td><td>0</td><td>0</td></tr><tr><td>dbfs:/Silver/Country.parquet/Country=Burundi/</td><td>Country=Burundi/</td><td>0</td><td>0</td></tr><tr><td>dbfs:/Silver/Country.parquet/Country=Cambodia/</td><td>Country=Cambodia/</td><td>0</td><td>0</td></tr><tr><td>dbfs:/Silver/Country.parquet/Country=Cameroon/</td><td>Country=Cameroon/</td><td>0</td><td>0</td></tr><tr><td>dbfs:/Silver/Country.parquet/Country=Canada/</td><td>Country=Canada/</td><td>0</td><td>0</td></tr><tr><td>dbfs:/Silver/Country.parquet/Country=Central African Republic/</td><td>Country=Central African Republic/</td><td>0</td><td>0</td></tr><tr><td>dbfs:/Silver/Country.parquet/Country=Chad/</td><td>Country=Chad/</td><td>0</td><td>0</td></tr><tr><td>dbfs:/Silver/Country.parquet/Country=Chile/</td><td>Country=Chile/</td><td>0</td><td>0</td></tr><tr><td>dbfs:/Silver/Country.parquet/Country=China/</td><td>Country=China/</td><td>0</td><td>0</td></tr><tr><td>dbfs:/Silver/Country.parquet/Country=Colombia/</td><td>Country=Colombia/</td><td>0</td><td>0</td></tr><tr><td>dbfs:/Silver/Country.parquet/Country=Cote d%27Ivoire/</td><td>Country=Cote d%27Ivoire/</td><td>0</td><td>0</td></tr><tr><td>dbfs:/Silver/Country.parquet/Country=Croatia/</td><td>Country=Croatia/</td><td>0</td><td>0</td></tr><tr><td>dbfs:/Silver/Country.parquet/Country=Cuba/</td><td>Country=Cuba/</td><td>0</td><td>0</td></tr><tr><td>dbfs:/Silver/Country.parquet/Country=Czech Republic/</td><td>Country=Czech Republic/</td><td>0</td><td>0</td></tr><tr><td>dbfs:/Silver/Country.parquet/Country=Democratic Republic of the Congo/</td><td>Country=Democratic Republic of the Congo/</td><td>0</td><td>0</td></tr><tr><td>dbfs:/Silver/Country.parquet/Country=Denmark/</td><td>Country=Denmark/</td><td>0</td><td>0</td></tr><tr><td>dbfs:/Silver/Country.parquet/Country=Djibouti/</td><td>Country=Djibouti/</td><td>0</td><td>0</td></tr><tr><td>dbfs:/Silver/Country.parquet/Country=Dominican Republic/</td><td>Country=Dominican Republic/</td><td>0</td><td>0</td></tr><tr><td>dbfs:/Silver/Country.parquet/Country=Ecuador/</td><td>Country=Ecuador/</td><td>0</td><td>0</td></tr><tr><td>dbfs:/Silver/Country.parquet/Country=Egypt/</td><td>Country=Egypt/</td><td>0</td><td>0</td></tr><tr><td>dbfs:/Silver/Country.parquet/Country=El Salvador/</td><td>Country=El Salvador/</td><td>0</td><td>0</td></tr><tr><td>dbfs:/Silver/Country.parquet/Country=Equatorial Guinea/</td><td>Country=Equatorial Guinea/</td><td>0</td><td>0</td></tr><tr><td>dbfs:/Silver/Country.parquet/Country=Eritrea/</td><td>Country=Eritrea/</td><td>0</td><td>0</td></tr><tr><td>dbfs:/Silver/Country.parquet/Country=Estonia/</td><td>Country=Estonia/</td><td>0</td><td>0</td></tr><tr><td>dbfs:/Silver/Country.parquet/Country=Ethiopia/</td><td>Country=Ethiopia/</td><td>0</td><td>0</td></tr><tr><td>dbfs:/Silver/Country.parquet/Country=Finland/</td><td>Country=Finland/</td><td>0</td><td>0</td></tr><tr><td>dbfs:/Silver/Country.parquet/Country=France/</td><td>Country=France/</td><td>0</td><td>0</td></tr><tr><td>dbfs:/Silver/Country.parquet/Country=Gabon/</td><td>Country=Gabon/</td><td>0</td><td>0</td></tr><tr><td>dbfs:/Silver/Country.parquet/Country=Georgia/</td><td>Country=Georgia/</td><td>0</td><td>0</td></tr><tr><td>dbfs:/Silver/Country.parquet/Country=Germany/</td><td>Country=Germany/</td><td>0</td><td>0</td></tr><tr><td>dbfs:/Silver/Country.parquet/Country=Ghana/</td><td>Country=Ghana/</td><td>0</td><td>0</td></tr><tr><td>dbfs:/Silver/Country.parquet/Country=Guadeloupe/</td><td>Country=Guadeloupe/</td><td>0</td><td>0</td></tr><tr><td>dbfs:/Silver/Country.parquet/Country=Guatemala/</td><td>Country=Guatemala/</td><td>0</td><td>0</td></tr><tr><td>dbfs:/Silver/Country.parquet/Country=Guinea/</td><td>Country=Guinea/</td><td>0</td><td>0</td></tr><tr><td>dbfs:/Silver/Country.parquet/Country=Guinea-Bissau/</td><td>Country=Guinea-Bissau/</td><td>0</td><td>0</td></tr><tr><td>dbfs:/Silver/Country.parquet/Country=Haiti/</td><td>Country=Haiti/</td><td>0</td><td>0</td></tr><tr><td>dbfs:/Silver/Country.parquet/Country=Honduras/</td><td>Country=Honduras/</td><td>0</td><td>0</td></tr><tr><td>dbfs:/Silver/Country.parquet/Country=Hong Kong/</td><td>Country=Hong Kong/</td><td>0</td><td>0</td></tr><tr><td>dbfs:/Silver/Country.parquet/Country=Hungary/</td><td>Country=Hungary/</td><td>0</td><td>0</td></tr><tr><td>dbfs:/Silver/Country.parquet/Country=India/</td><td>Country=India/</td><td>0</td><td>0</td></tr><tr><td>dbfs:/Silver/Country.parquet/Country=Indonesia/</td><td>Country=Indonesia/</td><td>0</td><td>0</td></tr><tr><td>dbfs:/Silver/Country.parquet/Country=Iran/</td><td>Country=Iran/</td><td>0</td><td>0</td></tr><tr><td>dbfs:/Silver/Country.parquet/Country=Iraq/</td><td>Country=Iraq/</td><td>0</td><td>0</td></tr><tr><td>dbfs:/Silver/Country.parquet/Country=Ireland/</td><td>Country=Ireland/</td><td>0</td><td>0</td></tr><tr><td>dbfs:/Silver/Country.parquet/Country=Israel/</td><td>Country=Israel/</td><td>0</td><td>0</td></tr><tr><td>dbfs:/Silver/Country.parquet/Country=Italy/</td><td>Country=Italy/</td><td>0</td><td>0</td></tr><tr><td>dbfs:/Silver/Country.parquet/Country=Jamaica/</td><td>Country=Jamaica/</td><td>0</td><td>0</td></tr><tr><td>dbfs:/Silver/Country.parquet/Country=Japan/</td><td>Country=Japan/</td><td>0</td><td>0</td></tr><tr><td>dbfs:/Silver/Country.parquet/Country=Jordan/</td><td>Country=Jordan/</td><td>0</td><td>0</td></tr><tr><td>dbfs:/Silver/Country.parquet/Country=Kazakhstan/</td><td>Country=Kazakhstan/</td><td>0</td><td>0</td></tr><tr><td>dbfs:/Silver/Country.parquet/Country=Kenya/</td><td>Country=Kenya/</td><td>0</td><td>0</td></tr><tr><td>dbfs:/Silver/Country.parquet/Country=Kyrgyzstan/</td><td>Country=Kyrgyzstan/</td><td>0</td><td>0</td></tr><tr><td>dbfs:/Silver/Country.parquet/Country=Lebanon/</td><td>Country=Lebanon/</td><td>0</td><td>0</td></tr><tr><td>dbfs:/Silver/Country.parquet/Country=Lesotho/</td><td>Country=Lesotho/</td><td>0</td><td>0</td></tr><tr><td>dbfs:/Silver/Country.parquet/Country=Liberia/</td><td>Country=Liberia/</td><td>0</td><td>0</td></tr><tr><td>dbfs:/Silver/Country.parquet/Country=Libya/</td><td>Country=Libya/</td><td>0</td><td>0</td></tr><tr><td>dbfs:/Silver/Country.parquet/Country=Lithuania/</td><td>Country=Lithuania/</td><td>0</td><td>0</td></tr><tr><td>dbfs:/Silver/Country.parquet/Country=Macedonia/</td><td>Country=Macedonia/</td><td>0</td><td>0</td></tr><tr><td>dbfs:/Silver/Country.parquet/Country=Madagascar/</td><td>Country=Madagascar/</td><td>0</td><td>0</td></tr><tr><td>dbfs:/Silver/Country.parquet/Country=Malaysia/</td><td>Country=Malaysia/</td><td>0</td><td>0</td></tr><tr><td>dbfs:/Silver/Country.parquet/Country=Mali/</td><td>Country=Mali/</td><td>0</td><td>0</td></tr><tr><td>dbfs:/Silver/Country.parquet/Country=Martinique/</td><td>Country=Martinique/</td><td>0</td><td>0</td></tr><tr><td>dbfs:/Silver/Country.parquet/Country=Mauritania/</td><td>Country=Mauritania/</td><td>0</td><td>0</td></tr><tr><td>dbfs:/Silver/Country.parquet/Country=Mexico/</td><td>Country=Mexico/</td><td>0</td><td>0</td></tr><tr><td>dbfs:/Silver/Country.parquet/Country=Moldova/</td><td>Country=Moldova/</td><td>0</td><td>0</td></tr><tr><td>dbfs:/Silver/Country.parquet/Country=Mongolia/</td><td>Country=Mongolia/</td><td>0</td><td>0</td></tr><tr><td>dbfs:/Silver/Country.parquet/Country=Montenegro/</td><td>Country=Montenegro/</td><td>0</td><td>0</td></tr><tr><td>dbfs:/Silver/Country.parquet/Country=Morocco/</td><td>Country=Morocco/</td><td>0</td><td>0</td></tr><tr><td>dbfs:/Silver/Country.parquet/Country=Mozambique/</td><td>Country=Mozambique/</td><td>0</td><td>0</td></tr><tr><td>dbfs:/Silver/Country.parquet/Country=Myanmar (Burma)/</td><td>Country=Myanmar (Burma)/</td><td>0</td><td>0</td></tr><tr><td>dbfs:/Silver/Country.parquet/Country=Namibia/</td><td>Country=Namibia/</td><td>0</td><td>0</td></tr><tr><td>dbfs:/Silver/Country.parquet/Country=Nepal/</td><td>Country=Nepal/</td><td>0</td><td>0</td></tr><tr><td>dbfs:/Silver/Country.parquet/Country=Netherlands/</td><td>Country=Netherlands/</td><td>0</td><td>0</td></tr><tr><td>dbfs:/Silver/Country.parquet/Country=New Zealand/</td><td>Country=New Zealand/</td><td>0</td><td>0</td></tr><tr><td>dbfs:/Silver/Country.parquet/Country=Nicaragua/</td><td>Country=Nicaragua/</td><td>0</td><td>0</td></tr><tr><td>dbfs:/Silver/Country.parquet/Country=Niger/</td><td>Country=Niger/</td><td>0</td><td>0</td></tr><tr><td>dbfs:/Silver/Country.parquet/Country=Nigeria/</td><td>Country=Nigeria/</td><td>0</td><td>0</td></tr><tr><td>dbfs:/Silver/Country.parquet/Country=Norway/</td><td>Country=Norway/</td><td>0</td><td>0</td></tr><tr><td>dbfs:/Silver/Country.parquet/Country=Pakistan/</td><td>Country=Pakistan/</td><td>0</td><td>0</td></tr><tr><td>dbfs:/Silver/Country.parquet/Country=Panama/</td><td>Country=Panama/</td><td>0</td><td>0</td></tr><tr><td>dbfs:/Silver/Country.parquet/Country=Papua New Guinea/</td><td>Country=Papua New Guinea/</td><td>0</td><td>0</td></tr><tr><td>dbfs:/Silver/Country.parquet/Country=Paraguay/</td><td>Country=Paraguay/</td><td>0</td><td>0</td></tr><tr><td>dbfs:/Silver/Country.parquet/Country=Peru/</td><td>Country=Peru/</td><td>0</td><td>0</td></tr><tr><td>dbfs:/Silver/Country.parquet/Country=Philippines/</td><td>Country=Philippines/</td><td>0</td><td>0</td></tr><tr><td>dbfs:/Silver/Country.parquet/Country=Poland/</td><td>Country=Poland/</td><td>0</td><td>0</td></tr><tr><td>dbfs:/Silver/Country.parquet/Country=Portugal/</td><td>Country=Portugal/</td><td>0</td><td>0</td></tr><tr><td>dbfs:/Silver/Country.parquet/Country=Qatar/</td><td>Country=Qatar/</td><td>0</td><td>0</td></tr><tr><td>dbfs:/Silver/Country.parquet/Country=Republic of the Congo/</td><td>Country=Republic of the Congo/</td><td>0</td><td>0</td></tr><tr><td>dbfs:/Silver/Country.parquet/Country=Romania/</td><td>Country=Romania/</td><td>0</td><td>0</td></tr><tr><td>dbfs:/Silver/Country.parquet/Country=Russia/</td><td>Country=Russia/</td><td>0</td><td>0</td></tr><tr><td>dbfs:/Silver/Country.parquet/Country=Rwanda/</td><td>Country=Rwanda/</td><td>0</td><td>0</td></tr><tr><td>dbfs:/Silver/Country.parquet/Country=Saudi Arabia/</td><td>Country=Saudi Arabia/</td><td>0</td><td>0</td></tr><tr><td>dbfs:/Silver/Country.parquet/Country=Senegal/</td><td>Country=Senegal/</td><td>0</td><td>0</td></tr><tr><td>dbfs:/Silver/Country.parquet/Country=Sierra Leone/</td><td>Country=Sierra Leone/</td><td>0</td><td>0</td></tr><tr><td>dbfs:/Silver/Country.parquet/Country=Singapore/</td><td>Country=Singapore/</td><td>0</td><td>0</td></tr><tr><td>dbfs:/Silver/Country.parquet/Country=Slovakia/</td><td>Country=Slovakia/</td><td>0</td><td>0</td></tr><tr><td>dbfs:/Silver/Country.parquet/Country=Slovenia/</td><td>Country=Slovenia/</td><td>0</td><td>0</td></tr><tr><td>dbfs:/Silver/Country.parquet/Country=Somalia/</td><td>Country=Somalia/</td><td>0</td><td>0</td></tr><tr><td>dbfs:/Silver/Country.parquet/Country=South Africa/</td><td>Country=South Africa/</td><td>0</td><td>0</td></tr><tr><td>dbfs:/Silver/Country.parquet/Country=South Korea/</td><td>Country=South Korea/</td><td>0</td><td>0</td></tr><tr><td>dbfs:/Silver/Country.parquet/Country=South Sudan/</td><td>Country=South Sudan/</td><td>0</td><td>0</td></tr><tr><td>dbfs:/Silver/Country.parquet/Country=Spain/</td><td>Country=Spain/</td><td>0</td><td>0</td></tr><tr><td>dbfs:/Silver/Country.parquet/Country=Sri Lanka/</td><td>Country=Sri Lanka/</td><td>0</td><td>0</td></tr><tr><td>dbfs:/Silver/Country.parquet/Country=Sudan/</td><td>Country=Sudan/</td><td>0</td><td>0</td></tr><tr><td>dbfs:/Silver/Country.parquet/Country=Swaziland/</td><td>Country=Swaziland/</td><td>0</td><td>0</td></tr><tr><td>dbfs:/Silver/Country.parquet/Country=Sweden/</td><td>Country=Sweden/</td><td>0</td><td>0</td></tr><tr><td>dbfs:/Silver/Country.parquet/Country=Switzerland/</td><td>Country=Switzerland/</td><td>0</td><td>0</td></tr><tr><td>dbfs:/Silver/Country.parquet/Country=Syria/</td><td>Country=Syria/</td><td>0</td><td>0</td></tr><tr><td>dbfs:/Silver/Country.parquet/Country=Taiwan/</td><td>Country=Taiwan/</td><td>0</td><td>0</td></tr><tr><td>dbfs:/Silver/Country.parquet/Country=Tajikistan/</td><td>Country=Tajikistan/</td><td>0</td><td>0</td></tr><tr><td>dbfs:/Silver/Country.parquet/Country=Tanzania/</td><td>Country=Tanzania/</td><td>0</td><td>0</td></tr><tr><td>dbfs:/Silver/Country.parquet/Country=Thailand/</td><td>Country=Thailand/</td><td>0</td><td>0</td></tr><tr><td>dbfs:/Silver/Country.parquet/Country=Togo/</td><td>Country=Togo/</td><td>0</td><td>0</td></tr><tr><td>dbfs:/Silver/Country.parquet/Country=Trinidad and Tobago/</td><td>Country=Trinidad and Tobago/</td><td>0</td><td>0</td></tr><tr><td>dbfs:/Silver/Country.parquet/Country=Tunisia/</td><td>Country=Tunisia/</td><td>0</td><td>0</td></tr><tr><td>dbfs:/Silver/Country.parquet/Country=Turkey/</td><td>Country=Turkey/</td><td>0</td><td>0</td></tr><tr><td>dbfs:/Silver/Country.parquet/Country=Turkmenistan/</td><td>Country=Turkmenistan/</td><td>0</td><td>0</td></tr><tr><td>dbfs:/Silver/Country.parquet/Country=Uganda/</td><td>Country=Uganda/</td><td>0</td><td>0</td></tr><tr><td>dbfs:/Silver/Country.parquet/Country=Ukraine/</td><td>Country=Ukraine/</td><td>0</td><td>0</td></tr><tr><td>dbfs:/Silver/Country.parquet/Country=United Arab Emirates/</td><td>Country=United Arab Emirates/</td><td>0</td><td>0</td></tr><tr><td>dbfs:/Silver/Country.parquet/Country=United Kingdom/</td><td>Country=United Kingdom/</td><td>0</td><td>0</td></tr><tr><td>dbfs:/Silver/Country.parquet/Country=United States/</td><td>Country=United States/</td><td>0</td><td>0</td></tr><tr><td>dbfs:/Silver/Country.parquet/Country=Uruguay/</td><td>Country=Uruguay/</td><td>0</td><td>0</td></tr><tr><td>dbfs:/Silver/Country.parquet/Country=Uzbekistan/</td><td>Country=Uzbekistan/</td><td>0</td><td>0</td></tr><tr><td>dbfs:/Silver/Country.parquet/Country=Venezuela/</td><td>Country=Venezuela/</td><td>0</td><td>0</td></tr><tr><td>dbfs:/Silver/Country.parquet/Country=Vietnam/</td><td>Country=Vietnam/</td><td>0</td><td>0</td></tr><tr><td>dbfs:/Silver/Country.parquet/Country=Yemen/</td><td>Country=Yemen/</td><td>0</td><td>0</td></tr><tr><td>dbfs:/Silver/Country.parquet/Country=Zambia/</td><td>Country=Zambia/</td><td>0</td><td>0</td></tr><tr><td>dbfs:/Silver/Country.parquet/Country=Zimbabwe/</td><td>Country=Zimbabwe/</td><td>0</td><td>0</td></tr><tr><td>dbfs:/Silver/Country.parquet/_SUCCESS</td><td>_SUCCESS</td><td>0</td><td>1743683495000</td></tr><tr><td>dbfs:/Silver/Country.parquet/_committed_5754428479037751379</td><td>_committed_5754428479037751379</td><td>35</td><td>1743654775000</td></tr></tbody></table></div>"
      ]
     },
     "metadata": {
      "application/vnd.databricks.v1+output": {
       "addedWidgets": {},
       "aggData": [],
       "aggError": "",
       "aggOverflow": false,
       "aggSchema": [],
       "aggSeriesLimitReached": false,
       "aggType": "",
       "arguments": {},
       "columnCustomDisplayInfos": {},
       "data": [
        [
         "dbfs:/Silver/Country.parquet/Country=Afghanistan/",
         "Country=Afghanistan/",
         0,
         0
        ],
        [
         "dbfs:/Silver/Country.parquet/Country=Albania/",
         "Country=Albania/",
         0,
         0
        ],
        [
         "dbfs:/Silver/Country.parquet/Country=Algeria/",
         "Country=Algeria/",
         0,
         0
        ],
        [
         "dbfs:/Silver/Country.parquet/Country=Angola/",
         "Country=Angola/",
         0,
         0
        ],
        [
         "dbfs:/Silver/Country.parquet/Country=Argentina/",
         "Country=Argentina/",
         0,
         0
        ],
        [
         "dbfs:/Silver/Country.parquet/Country=Armenia/",
         "Country=Armenia/",
         0,
         0
        ],
        [
         "dbfs:/Silver/Country.parquet/Country=Australia/",
         "Country=Australia/",
         0,
         0
        ],
        [
         "dbfs:/Silver/Country.parquet/Country=Austria/",
         "Country=Austria/",
         0,
         0
        ],
        [
         "dbfs:/Silver/Country.parquet/Country=Azerbaijan/",
         "Country=Azerbaijan/",
         0,
         0
        ],
        [
         "dbfs:/Silver/Country.parquet/Country=Bahrain/",
         "Country=Bahrain/",
         0,
         0
        ],
        [
         "dbfs:/Silver/Country.parquet/Country=Bangladesh/",
         "Country=Bangladesh/",
         0,
         0
        ],
        [
         "dbfs:/Silver/Country.parquet/Country=Barbados/",
         "Country=Barbados/",
         0,
         0
        ],
        [
         "dbfs:/Silver/Country.parquet/Country=Belarus/",
         "Country=Belarus/",
         0,
         0
        ],
        [
         "dbfs:/Silver/Country.parquet/Country=Belgium/",
         "Country=Belgium/",
         0,
         0
        ],
        [
         "dbfs:/Silver/Country.parquet/Country=Benin/",
         "Country=Benin/",
         0,
         0
        ],
        [
         "dbfs:/Silver/Country.parquet/Country=Bolivia/",
         "Country=Bolivia/",
         0,
         0
        ],
        [
         "dbfs:/Silver/Country.parquet/Country=Bosnia and Herzegovina/",
         "Country=Bosnia and Herzegovina/",
         0,
         0
        ],
        [
         "dbfs:/Silver/Country.parquet/Country=Brazil/",
         "Country=Brazil/",
         0,
         0
        ],
        [
         "dbfs:/Silver/Country.parquet/Country=Bulgaria/",
         "Country=Bulgaria/",
         0,
         0
        ],
        [
         "dbfs:/Silver/Country.parquet/Country=Burundi/",
         "Country=Burundi/",
         0,
         0
        ],
        [
         "dbfs:/Silver/Country.parquet/Country=Cambodia/",
         "Country=Cambodia/",
         0,
         0
        ],
        [
         "dbfs:/Silver/Country.parquet/Country=Cameroon/",
         "Country=Cameroon/",
         0,
         0
        ],
        [
         "dbfs:/Silver/Country.parquet/Country=Canada/",
         "Country=Canada/",
         0,
         0
        ],
        [
         "dbfs:/Silver/Country.parquet/Country=Central African Republic/",
         "Country=Central African Republic/",
         0,
         0
        ],
        [
         "dbfs:/Silver/Country.parquet/Country=Chad/",
         "Country=Chad/",
         0,
         0
        ],
        [
         "dbfs:/Silver/Country.parquet/Country=Chile/",
         "Country=Chile/",
         0,
         0
        ],
        [
         "dbfs:/Silver/Country.parquet/Country=China/",
         "Country=China/",
         0,
         0
        ],
        [
         "dbfs:/Silver/Country.parquet/Country=Colombia/",
         "Country=Colombia/",
         0,
         0
        ],
        [
         "dbfs:/Silver/Country.parquet/Country=Cote d%27Ivoire/",
         "Country=Cote d%27Ivoire/",
         0,
         0
        ],
        [
         "dbfs:/Silver/Country.parquet/Country=Croatia/",
         "Country=Croatia/",
         0,
         0
        ],
        [
         "dbfs:/Silver/Country.parquet/Country=Cuba/",
         "Country=Cuba/",
         0,
         0
        ],
        [
         "dbfs:/Silver/Country.parquet/Country=Czech Republic/",
         "Country=Czech Republic/",
         0,
         0
        ],
        [
         "dbfs:/Silver/Country.parquet/Country=Democratic Republic of the Congo/",
         "Country=Democratic Republic of the Congo/",
         0,
         0
        ],
        [
         "dbfs:/Silver/Country.parquet/Country=Denmark/",
         "Country=Denmark/",
         0,
         0
        ],
        [
         "dbfs:/Silver/Country.parquet/Country=Djibouti/",
         "Country=Djibouti/",
         0,
         0
        ],
        [
         "dbfs:/Silver/Country.parquet/Country=Dominican Republic/",
         "Country=Dominican Republic/",
         0,
         0
        ],
        [
         "dbfs:/Silver/Country.parquet/Country=Ecuador/",
         "Country=Ecuador/",
         0,
         0
        ],
        [
         "dbfs:/Silver/Country.parquet/Country=Egypt/",
         "Country=Egypt/",
         0,
         0
        ],
        [
         "dbfs:/Silver/Country.parquet/Country=El Salvador/",
         "Country=El Salvador/",
         0,
         0
        ],
        [
         "dbfs:/Silver/Country.parquet/Country=Equatorial Guinea/",
         "Country=Equatorial Guinea/",
         0,
         0
        ],
        [
         "dbfs:/Silver/Country.parquet/Country=Eritrea/",
         "Country=Eritrea/",
         0,
         0
        ],
        [
         "dbfs:/Silver/Country.parquet/Country=Estonia/",
         "Country=Estonia/",
         0,
         0
        ],
        [
         "dbfs:/Silver/Country.parquet/Country=Ethiopia/",
         "Country=Ethiopia/",
         0,
         0
        ],
        [
         "dbfs:/Silver/Country.parquet/Country=Finland/",
         "Country=Finland/",
         0,
         0
        ],
        [
         "dbfs:/Silver/Country.parquet/Country=France/",
         "Country=France/",
         0,
         0
        ],
        [
         "dbfs:/Silver/Country.parquet/Country=Gabon/",
         "Country=Gabon/",
         0,
         0
        ],
        [
         "dbfs:/Silver/Country.parquet/Country=Georgia/",
         "Country=Georgia/",
         0,
         0
        ],
        [
         "dbfs:/Silver/Country.parquet/Country=Germany/",
         "Country=Germany/",
         0,
         0
        ],
        [
         "dbfs:/Silver/Country.parquet/Country=Ghana/",
         "Country=Ghana/",
         0,
         0
        ],
        [
         "dbfs:/Silver/Country.parquet/Country=Guadeloupe/",
         "Country=Guadeloupe/",
         0,
         0
        ],
        [
         "dbfs:/Silver/Country.parquet/Country=Guatemala/",
         "Country=Guatemala/",
         0,
         0
        ],
        [
         "dbfs:/Silver/Country.parquet/Country=Guinea/",
         "Country=Guinea/",
         0,
         0
        ],
        [
         "dbfs:/Silver/Country.parquet/Country=Guinea-Bissau/",
         "Country=Guinea-Bissau/",
         0,
         0
        ],
        [
         "dbfs:/Silver/Country.parquet/Country=Haiti/",
         "Country=Haiti/",
         0,
         0
        ],
        [
         "dbfs:/Silver/Country.parquet/Country=Honduras/",
         "Country=Honduras/",
         0,
         0
        ],
        [
         "dbfs:/Silver/Country.parquet/Country=Hong Kong/",
         "Country=Hong Kong/",
         0,
         0
        ],
        [
         "dbfs:/Silver/Country.parquet/Country=Hungary/",
         "Country=Hungary/",
         0,
         0
        ],
        [
         "dbfs:/Silver/Country.parquet/Country=India/",
         "Country=India/",
         0,
         0
        ],
        [
         "dbfs:/Silver/Country.parquet/Country=Indonesia/",
         "Country=Indonesia/",
         0,
         0
        ],
        [
         "dbfs:/Silver/Country.parquet/Country=Iran/",
         "Country=Iran/",
         0,
         0
        ],
        [
         "dbfs:/Silver/Country.parquet/Country=Iraq/",
         "Country=Iraq/",
         0,
         0
        ],
        [
         "dbfs:/Silver/Country.parquet/Country=Ireland/",
         "Country=Ireland/",
         0,
         0
        ],
        [
         "dbfs:/Silver/Country.parquet/Country=Israel/",
         "Country=Israel/",
         0,
         0
        ],
        [
         "dbfs:/Silver/Country.parquet/Country=Italy/",
         "Country=Italy/",
         0,
         0
        ],
        [
         "dbfs:/Silver/Country.parquet/Country=Jamaica/",
         "Country=Jamaica/",
         0,
         0
        ],
        [
         "dbfs:/Silver/Country.parquet/Country=Japan/",
         "Country=Japan/",
         0,
         0
        ],
        [
         "dbfs:/Silver/Country.parquet/Country=Jordan/",
         "Country=Jordan/",
         0,
         0
        ],
        [
         "dbfs:/Silver/Country.parquet/Country=Kazakhstan/",
         "Country=Kazakhstan/",
         0,
         0
        ],
        [
         "dbfs:/Silver/Country.parquet/Country=Kenya/",
         "Country=Kenya/",
         0,
         0
        ],
        [
         "dbfs:/Silver/Country.parquet/Country=Kyrgyzstan/",
         "Country=Kyrgyzstan/",
         0,
         0
        ],
        [
         "dbfs:/Silver/Country.parquet/Country=Lebanon/",
         "Country=Lebanon/",
         0,
         0
        ],
        [
         "dbfs:/Silver/Country.parquet/Country=Lesotho/",
         "Country=Lesotho/",
         0,
         0
        ],
        [
         "dbfs:/Silver/Country.parquet/Country=Liberia/",
         "Country=Liberia/",
         0,
         0
        ],
        [
         "dbfs:/Silver/Country.parquet/Country=Libya/",
         "Country=Libya/",
         0,
         0
        ],
        [
         "dbfs:/Silver/Country.parquet/Country=Lithuania/",
         "Country=Lithuania/",
         0,
         0
        ],
        [
         "dbfs:/Silver/Country.parquet/Country=Macedonia/",
         "Country=Macedonia/",
         0,
         0
        ],
        [
         "dbfs:/Silver/Country.parquet/Country=Madagascar/",
         "Country=Madagascar/",
         0,
         0
        ],
        [
         "dbfs:/Silver/Country.parquet/Country=Malaysia/",
         "Country=Malaysia/",
         0,
         0
        ],
        [
         "dbfs:/Silver/Country.parquet/Country=Mali/",
         "Country=Mali/",
         0,
         0
        ],
        [
         "dbfs:/Silver/Country.parquet/Country=Martinique/",
         "Country=Martinique/",
         0,
         0
        ],
        [
         "dbfs:/Silver/Country.parquet/Country=Mauritania/",
         "Country=Mauritania/",
         0,
         0
        ],
        [
         "dbfs:/Silver/Country.parquet/Country=Mexico/",
         "Country=Mexico/",
         0,
         0
        ],
        [
         "dbfs:/Silver/Country.parquet/Country=Moldova/",
         "Country=Moldova/",
         0,
         0
        ],
        [
         "dbfs:/Silver/Country.parquet/Country=Mongolia/",
         "Country=Mongolia/",
         0,
         0
        ],
        [
         "dbfs:/Silver/Country.parquet/Country=Montenegro/",
         "Country=Montenegro/",
         0,
         0
        ],
        [
         "dbfs:/Silver/Country.parquet/Country=Morocco/",
         "Country=Morocco/",
         0,
         0
        ],
        [
         "dbfs:/Silver/Country.parquet/Country=Mozambique/",
         "Country=Mozambique/",
         0,
         0
        ],
        [
         "dbfs:/Silver/Country.parquet/Country=Myanmar (Burma)/",
         "Country=Myanmar (Burma)/",
         0,
         0
        ],
        [
         "dbfs:/Silver/Country.parquet/Country=Namibia/",
         "Country=Namibia/",
         0,
         0
        ],
        [
         "dbfs:/Silver/Country.parquet/Country=Nepal/",
         "Country=Nepal/",
         0,
         0
        ],
        [
         "dbfs:/Silver/Country.parquet/Country=Netherlands/",
         "Country=Netherlands/",
         0,
         0
        ],
        [
         "dbfs:/Silver/Country.parquet/Country=New Zealand/",
         "Country=New Zealand/",
         0,
         0
        ],
        [
         "dbfs:/Silver/Country.parquet/Country=Nicaragua/",
         "Country=Nicaragua/",
         0,
         0
        ],
        [
         "dbfs:/Silver/Country.parquet/Country=Niger/",
         "Country=Niger/",
         0,
         0
        ],
        [
         "dbfs:/Silver/Country.parquet/Country=Nigeria/",
         "Country=Nigeria/",
         0,
         0
        ],
        [
         "dbfs:/Silver/Country.parquet/Country=Norway/",
         "Country=Norway/",
         0,
         0
        ],
        [
         "dbfs:/Silver/Country.parquet/Country=Pakistan/",
         "Country=Pakistan/",
         0,
         0
        ],
        [
         "dbfs:/Silver/Country.parquet/Country=Panama/",
         "Country=Panama/",
         0,
         0
        ],
        [
         "dbfs:/Silver/Country.parquet/Country=Papua New Guinea/",
         "Country=Papua New Guinea/",
         0,
         0
        ],
        [
         "dbfs:/Silver/Country.parquet/Country=Paraguay/",
         "Country=Paraguay/",
         0,
         0
        ],
        [
         "dbfs:/Silver/Country.parquet/Country=Peru/",
         "Country=Peru/",
         0,
         0
        ],
        [
         "dbfs:/Silver/Country.parquet/Country=Philippines/",
         "Country=Philippines/",
         0,
         0
        ],
        [
         "dbfs:/Silver/Country.parquet/Country=Poland/",
         "Country=Poland/",
         0,
         0
        ],
        [
         "dbfs:/Silver/Country.parquet/Country=Portugal/",
         "Country=Portugal/",
         0,
         0
        ],
        [
         "dbfs:/Silver/Country.parquet/Country=Qatar/",
         "Country=Qatar/",
         0,
         0
        ],
        [
         "dbfs:/Silver/Country.parquet/Country=Republic of the Congo/",
         "Country=Republic of the Congo/",
         0,
         0
        ],
        [
         "dbfs:/Silver/Country.parquet/Country=Romania/",
         "Country=Romania/",
         0,
         0
        ],
        [
         "dbfs:/Silver/Country.parquet/Country=Russia/",
         "Country=Russia/",
         0,
         0
        ],
        [
         "dbfs:/Silver/Country.parquet/Country=Rwanda/",
         "Country=Rwanda/",
         0,
         0
        ],
        [
         "dbfs:/Silver/Country.parquet/Country=Saudi Arabia/",
         "Country=Saudi Arabia/",
         0,
         0
        ],
        [
         "dbfs:/Silver/Country.parquet/Country=Senegal/",
         "Country=Senegal/",
         0,
         0
        ],
        [
         "dbfs:/Silver/Country.parquet/Country=Sierra Leone/",
         "Country=Sierra Leone/",
         0,
         0
        ],
        [
         "dbfs:/Silver/Country.parquet/Country=Singapore/",
         "Country=Singapore/",
         0,
         0
        ],
        [
         "dbfs:/Silver/Country.parquet/Country=Slovakia/",
         "Country=Slovakia/",
         0,
         0
        ],
        [
         "dbfs:/Silver/Country.parquet/Country=Slovenia/",
         "Country=Slovenia/",
         0,
         0
        ],
        [
         "dbfs:/Silver/Country.parquet/Country=Somalia/",
         "Country=Somalia/",
         0,
         0
        ],
        [
         "dbfs:/Silver/Country.parquet/Country=South Africa/",
         "Country=South Africa/",
         0,
         0
        ],
        [
         "dbfs:/Silver/Country.parquet/Country=South Korea/",
         "Country=South Korea/",
         0,
         0
        ],
        [
         "dbfs:/Silver/Country.parquet/Country=South Sudan/",
         "Country=South Sudan/",
         0,
         0
        ],
        [
         "dbfs:/Silver/Country.parquet/Country=Spain/",
         "Country=Spain/",
         0,
         0
        ],
        [
         "dbfs:/Silver/Country.parquet/Country=Sri Lanka/",
         "Country=Sri Lanka/",
         0,
         0
        ],
        [
         "dbfs:/Silver/Country.parquet/Country=Sudan/",
         "Country=Sudan/",
         0,
         0
        ],
        [
         "dbfs:/Silver/Country.parquet/Country=Swaziland/",
         "Country=Swaziland/",
         0,
         0
        ],
        [
         "dbfs:/Silver/Country.parquet/Country=Sweden/",
         "Country=Sweden/",
         0,
         0
        ],
        [
         "dbfs:/Silver/Country.parquet/Country=Switzerland/",
         "Country=Switzerland/",
         0,
         0
        ],
        [
         "dbfs:/Silver/Country.parquet/Country=Syria/",
         "Country=Syria/",
         0,
         0
        ],
        [
         "dbfs:/Silver/Country.parquet/Country=Taiwan/",
         "Country=Taiwan/",
         0,
         0
        ],
        [
         "dbfs:/Silver/Country.parquet/Country=Tajikistan/",
         "Country=Tajikistan/",
         0,
         0
        ],
        [
         "dbfs:/Silver/Country.parquet/Country=Tanzania/",
         "Country=Tanzania/",
         0,
         0
        ],
        [
         "dbfs:/Silver/Country.parquet/Country=Thailand/",
         "Country=Thailand/",
         0,
         0
        ],
        [
         "dbfs:/Silver/Country.parquet/Country=Togo/",
         "Country=Togo/",
         0,
         0
        ],
        [
         "dbfs:/Silver/Country.parquet/Country=Trinidad and Tobago/",
         "Country=Trinidad and Tobago/",
         0,
         0
        ],
        [
         "dbfs:/Silver/Country.parquet/Country=Tunisia/",
         "Country=Tunisia/",
         0,
         0
        ],
        [
         "dbfs:/Silver/Country.parquet/Country=Turkey/",
         "Country=Turkey/",
         0,
         0
        ],
        [
         "dbfs:/Silver/Country.parquet/Country=Turkmenistan/",
         "Country=Turkmenistan/",
         0,
         0
        ],
        [
         "dbfs:/Silver/Country.parquet/Country=Uganda/",
         "Country=Uganda/",
         0,
         0
        ],
        [
         "dbfs:/Silver/Country.parquet/Country=Ukraine/",
         "Country=Ukraine/",
         0,
         0
        ],
        [
         "dbfs:/Silver/Country.parquet/Country=United Arab Emirates/",
         "Country=United Arab Emirates/",
         0,
         0
        ],
        [
         "dbfs:/Silver/Country.parquet/Country=United Kingdom/",
         "Country=United Kingdom/",
         0,
         0
        ],
        [
         "dbfs:/Silver/Country.parquet/Country=United States/",
         "Country=United States/",
         0,
         0
        ],
        [
         "dbfs:/Silver/Country.parquet/Country=Uruguay/",
         "Country=Uruguay/",
         0,
         0
        ],
        [
         "dbfs:/Silver/Country.parquet/Country=Uzbekistan/",
         "Country=Uzbekistan/",
         0,
         0
        ],
        [
         "dbfs:/Silver/Country.parquet/Country=Venezuela/",
         "Country=Venezuela/",
         0,
         0
        ],
        [
         "dbfs:/Silver/Country.parquet/Country=Vietnam/",
         "Country=Vietnam/",
         0,
         0
        ],
        [
         "dbfs:/Silver/Country.parquet/Country=Yemen/",
         "Country=Yemen/",
         0,
         0
        ],
        [
         "dbfs:/Silver/Country.parquet/Country=Zambia/",
         "Country=Zambia/",
         0,
         0
        ],
        [
         "dbfs:/Silver/Country.parquet/Country=Zimbabwe/",
         "Country=Zimbabwe/",
         0,
         0
        ],
        [
         "dbfs:/Silver/Country.parquet/_SUCCESS",
         "_SUCCESS",
         0,
         1743683495000
        ],
        [
         "dbfs:/Silver/Country.parquet/_committed_5754428479037751379",
         "_committed_5754428479037751379",
         35,
         1743654775000
        ]
       ],
       "datasetInfos": [],
       "dbfsResultPath": null,
       "isJsonSchema": true,
       "metadata": {},
       "overflow": false,
       "plotOptions": {
        "customPlotOptions": {},
        "displayType": "table",
        "pivotAggregation": null,
        "pivotColumns": null,
        "xColumns": null,
        "yColumns": null
       },
       "removedWidgets": [],
       "schema": [
        {
         "metadata": "{}",
         "name": "path",
         "type": "\"string\""
        },
        {
         "metadata": "{}",
         "name": "name",
         "type": "\"string\""
        },
        {
         "metadata": "{}",
         "name": "size",
         "type": "\"long\""
        },
        {
         "metadata": "{}",
         "name": "modificationTime",
         "type": "\"long\""
        }
       ],
       "type": "table"
      }
     },
     "output_type": "display_data"
    }
   ],
   "source": [
    "display(dbutils.fs.ls(\"dbfs:/Silver/Country.parquet\"))"
   ]
  },
  {
   "cell_type": "code",
   "execution_count": 0,
   "metadata": {
    "application/vnd.databricks.v1+cell": {
     "cellMetadata": {
      "byteLimit": 2048000,
      "rowLimit": 10000
     },
     "collapsed": true,
     "inputWidgets": {},
     "nuid": "334fa3ad-469e-41d7-a59e-55124304db9b",
     "showTitle": false,
     "tableResultSettingsMap": {},
     "title": ""
    }
   },
   "outputs": [
    {
     "output_type": "display_data",
     "data": {
      "text/html": [
       "<style scoped>\n",
       "  .table-result-container {\n",
       "    max-height: 300px;\n",
       "    overflow: auto;\n",
       "  }\n",
       "  table, th, td {\n",
       "    border: 1px solid black;\n",
       "    border-collapse: collapse;\n",
       "  }\n",
       "  th, td {\n",
       "    padding: 5px;\n",
       "  }\n",
       "  th {\n",
       "    text-align: left;\n",
       "  }\n",
       "</style><div class='table-result-container'><table class='table-result'><thead style='background-color: white'><tr><th>path</th><th>name</th><th>size</th><th>modificationTime</th></tr></thead><tbody><tr><td>dbfs:/Silver/Year_Order_Date.delta/YearOrderDate=2011/</td><td>YearOrderDate=2011/</td><td>0</td><td>0</td></tr><tr><td>dbfs:/Silver/Year_Order_Date.delta/YearOrderDate=2012/</td><td>YearOrderDate=2012/</td><td>0</td><td>0</td></tr><tr><td>dbfs:/Silver/Year_Order_Date.delta/YearOrderDate=2013/</td><td>YearOrderDate=2013/</td><td>0</td><td>0</td></tr><tr><td>dbfs:/Silver/Year_Order_Date.delta/YearOrderDate=2014/</td><td>YearOrderDate=2014/</td><td>0</td><td>0</td></tr><tr><td>dbfs:/Silver/Year_Order_Date.delta/_delta_log/</td><td>_delta_log/</td><td>0</td><td>0</td></tr></tbody></table></div>"
      ]
     },
     "metadata": {
      "application/vnd.databricks.v1+output": {
       "addedWidgets": {},
       "aggData": [],
       "aggError": "",
       "aggOverflow": false,
       "aggSchema": [],
       "aggSeriesLimitReached": false,
       "aggType": "",
       "arguments": {},
       "columnCustomDisplayInfos": {},
       "data": [
        [
         "dbfs:/Silver/Year_Order_Date.delta/YearOrderDate=2011/",
         "YearOrderDate=2011/",
         0,
         0
        ],
        [
         "dbfs:/Silver/Year_Order_Date.delta/YearOrderDate=2012/",
         "YearOrderDate=2012/",
         0,
         0
        ],
        [
         "dbfs:/Silver/Year_Order_Date.delta/YearOrderDate=2013/",
         "YearOrderDate=2013/",
         0,
         0
        ],
        [
         "dbfs:/Silver/Year_Order_Date.delta/YearOrderDate=2014/",
         "YearOrderDate=2014/",
         0,
         0
        ],
        [
         "dbfs:/Silver/Year_Order_Date.delta/_delta_log/",
         "_delta_log/",
         0,
         0
        ]
       ],
       "datasetInfos": [],
       "dbfsResultPath": null,
       "isJsonSchema": true,
       "metadata": {},
       "overflow": false,
       "plotOptions": {
        "customPlotOptions": {},
        "displayType": "table",
        "pivotAggregation": null,
        "pivotColumns": null,
        "xColumns": null,
        "yColumns": null
       },
       "removedWidgets": [],
       "schema": [
        {
         "metadata": "{}",
         "name": "path",
         "type": "\"string\""
        },
        {
         "metadata": "{}",
         "name": "name",
         "type": "\"string\""
        },
        {
         "metadata": "{}",
         "name": "size",
         "type": "\"long\""
        },
        {
         "metadata": "{}",
         "name": "modificationTime",
         "type": "\"long\""
        }
       ],
       "type": "table"
      }
     },
     "output_type": "display_data"
    }
   ],
   "source": [
    "display(dbutils.fs.ls(\"dbfs:/Silver/Year_Order_Date.delta/\")) "
   ]
  },
  {
   "cell_type": "code",
   "execution_count": 0,
   "metadata": {
    "application/vnd.databricks.v1+cell": {
     "cellMetadata": {},
     "inputWidgets": {},
     "nuid": "c1db26a1-330d-4a1b-a294-d9a6940a6f61",
     "showTitle": false,
     "tableResultSettingsMap": {},
     "title": ""
    }
   },
   "outputs": [],
   "source": [
    "'''\n",
    "Fazer uma modificação nos dados Delta (ex: aumentar 10% nas vendas de um país específico).\n",
    "Listar o histórico de versões com DeltaTable.history().\n",
    "Ler a versão anterior dos dados usando versionAsOf.\n",
    "\n",
    "'''"
   ]
  },
  {
   "cell_type": "code",
   "execution_count": 0,
   "metadata": {
    "application/vnd.databricks.v1+cell": {
     "cellMetadata": {
      "byteLimit": 2048000,
      "rowLimit": 10000
     },
     "inputWidgets": {},
     "nuid": "b8f69af7-1737-4c07-9920-ebdaf883543c",
     "showTitle": false,
     "tableResultSettingsMap": {},
     "title": ""
    }
   },
   "outputs": [],
   "source": [
    "df_delta_table = DeltaTable.forPath(spark, \"dbfs:/Silver/Year_Order_Date.delta\")"
   ]
  },
  {
   "cell_type": "code",
   "execution_count": 0,
   "metadata": {
    "application/vnd.databricks.v1+cell": {
     "cellMetadata": {
      "byteLimit": 2048000,
      "rowLimit": 10000
     },
     "collapsed": true,
     "inputWidgets": {},
     "nuid": "e472bfe8-8e5c-41a8-a2c3-335a02c934d6",
     "showTitle": false,
     "tableResultSettingsMap": {},
     "title": ""
    }
   },
   "outputs": [],
   "source": [
    "df_delta_table.update(condition=\"Country = 'New Zealand'\", set={\"Sales\": 'Sales * 1.10'}) #antes:1822.08 depois:2004.288"
   ]
  },
  {
   "cell_type": "code",
   "execution_count": 0,
   "metadata": {
    "application/vnd.databricks.v1+cell": {
     "cellMetadata": {
      "byteLimit": 2048000,
      "rowLimit": 10000
     },
     "collapsed": true,
     "inputWidgets": {},
     "nuid": "63a17e14-ff01-42f5-92ba-c7f33d424269",
     "showTitle": false,
     "tableResultSettingsMap": {},
     "title": ""
    }
   },
   "outputs": [
    {
     "output_type": "display_data",
     "data": {
      "text/html": [
       "<style scoped>\n",
       "  .table-result-container {\n",
       "    max-height: 300px;\n",
       "    overflow: auto;\n",
       "  }\n",
       "  table, th, td {\n",
       "    border: 1px solid black;\n",
       "    border-collapse: collapse;\n",
       "  }\n",
       "  th, td {\n",
       "    padding: 5px;\n",
       "  }\n",
       "  th {\n",
       "    text-align: left;\n",
       "  }\n",
       "</style><div class='table-result-container'><table class='table-result'><thead style='background-color: white'><tr><th>version</th><th>timestamp</th><th>userId</th><th>userName</th><th>operation</th><th>operationParameters</th><th>job</th><th>notebook</th><th>clusterId</th><th>readVersion</th><th>isolationLevel</th><th>isBlindAppend</th><th>operationMetrics</th><th>userMetadata</th><th>engineInfo</th></tr></thead><tbody><tr><td>1</td><td>2025-04-03T13:01:29.000+0000</td><td>1159263163929264</td><td>kethylle.serafim@tech.math.group</td><td>UPDATE</td><td>Map(predicate -> [\"(Country#5308 = New Zealand)\"])</td><td>null</td><td>List(331819175347738)</td><td>0403-122229-sycy2n2l</td><td>0</td><td>WriteSerializable</td><td>false</td><td>Map(numRemovedFiles -> 12, numRemovedBytes -> 3334687, numCopiedRows -> 50662, numDeletionVectorsAdded -> 0, numDeletionVectorsRemoved -> 0, numAddedChangeFiles -> 0, executionTimeMs -> 8189, scanTimeMs -> 3013, numAddedFiles -> 8, numUpdatedRows -> 628, numAddedBytes -> 3059101, rewriteTimeMs -> 5149)</td><td>null</td><td>Databricks-Runtime/12.2.x-scala2.12</td></tr><tr><td>0</td><td>2025-04-03T12:53:24.000+0000</td><td>1159263163929264</td><td>kethylle.serafim@tech.math.group</td><td>WRITE</td><td>Map(mode -> Overwrite, partitionBy -> [\"YearOrderDate\"])</td><td>null</td><td>List(331819175347738)</td><td>0403-122229-sycy2n2l</td><td>null</td><td>WriteSerializable</td><td>false</td><td>Map(numFiles -> 12, numOutputRows -> 51290, numOutputBytes -> 3334687)</td><td>null</td><td>Databricks-Runtime/12.2.x-scala2.12</td></tr></tbody></table></div>"
      ]
     },
     "metadata": {
      "application/vnd.databricks.v1+output": {
       "addedWidgets": {},
       "aggData": [],
       "aggError": "",
       "aggOverflow": false,
       "aggSchema": [],
       "aggSeriesLimitReached": false,
       "aggType": "",
       "arguments": {},
       "columnCustomDisplayInfos": {},
       "data": [
        [
         1,
         "2025-04-03T13:01:29.000+0000",
         "1159263163929264",
         "kethylle.serafim@tech.math.group",
         "UPDATE",
         {
          "predicate": "[\"(Country#5308 = New Zealand)\"]"
         },
         null,
         [
          "331819175347738"
         ],
         "0403-122229-sycy2n2l",
         0,
         "WriteSerializable",
         false,
         {
          "executionTimeMs": "8189",
          "numAddedBytes": "3059101",
          "numAddedChangeFiles": "0",
          "numAddedFiles": "8",
          "numCopiedRows": "50662",
          "numDeletionVectorsAdded": "0",
          "numDeletionVectorsRemoved": "0",
          "numRemovedBytes": "3334687",
          "numRemovedFiles": "12",
          "numUpdatedRows": "628",
          "rewriteTimeMs": "5149",
          "scanTimeMs": "3013"
         },
         null,
         "Databricks-Runtime/12.2.x-scala2.12"
        ],
        [
         0,
         "2025-04-03T12:53:24.000+0000",
         "1159263163929264",
         "kethylle.serafim@tech.math.group",
         "WRITE",
         {
          "mode": "Overwrite",
          "partitionBy": "[\"YearOrderDate\"]"
         },
         null,
         [
          "331819175347738"
         ],
         "0403-122229-sycy2n2l",
         null,
         "WriteSerializable",
         false,
         {
          "numFiles": "12",
          "numOutputBytes": "3334687",
          "numOutputRows": "51290"
         },
         null,
         "Databricks-Runtime/12.2.x-scala2.12"
        ]
       ],
       "datasetInfos": [],
       "dbfsResultPath": null,
       "isJsonSchema": true,
       "metadata": {},
       "overflow": false,
       "plotOptions": {
        "customPlotOptions": {},
        "displayType": "table",
        "pivotAggregation": null,
        "pivotColumns": null,
        "xColumns": null,
        "yColumns": null
       },
       "removedWidgets": [],
       "schema": [
        {
         "metadata": "{}",
         "name": "version",
         "type": "\"long\""
        },
        {
         "metadata": "{}",
         "name": "timestamp",
         "type": "\"timestamp\""
        },
        {
         "metadata": "{}",
         "name": "userId",
         "type": "\"string\""
        },
        {
         "metadata": "{}",
         "name": "userName",
         "type": "\"string\""
        },
        {
         "metadata": "{}",
         "name": "operation",
         "type": "\"string\""
        },
        {
         "metadata": "{}",
         "name": "operationParameters",
         "type": "{\"type\":\"map\",\"keyType\":\"string\",\"valueType\":\"string\",\"valueContainsNull\":true}"
        },
        {
         "metadata": "{}",
         "name": "job",
         "type": "{\"type\":\"struct\",\"fields\":[{\"name\":\"jobId\",\"type\":\"string\",\"nullable\":true,\"metadata\":{}},{\"name\":\"jobName\",\"type\":\"string\",\"nullable\":true,\"metadata\":{}},{\"name\":\"jobRunId\",\"type\":\"string\",\"nullable\":true,\"metadata\":{}},{\"name\":\"runId\",\"type\":\"string\",\"nullable\":true,\"metadata\":{}},{\"name\":\"jobOwnerId\",\"type\":\"string\",\"nullable\":true,\"metadata\":{}},{\"name\":\"triggerType\",\"type\":\"string\",\"nullable\":true,\"metadata\":{}}]}"
        },
        {
         "metadata": "{}",
         "name": "notebook",
         "type": "{\"type\":\"struct\",\"fields\":[{\"name\":\"notebookId\",\"type\":\"string\",\"nullable\":true,\"metadata\":{}}]}"
        },
        {
         "metadata": "{}",
         "name": "clusterId",
         "type": "\"string\""
        },
        {
         "metadata": "{}",
         "name": "readVersion",
         "type": "\"long\""
        },
        {
         "metadata": "{}",
         "name": "isolationLevel",
         "type": "\"string\""
        },
        {
         "metadata": "{}",
         "name": "isBlindAppend",
         "type": "\"boolean\""
        },
        {
         "metadata": "{}",
         "name": "operationMetrics",
         "type": "{\"type\":\"map\",\"keyType\":\"string\",\"valueType\":\"string\",\"valueContainsNull\":true}"
        },
        {
         "metadata": "{}",
         "name": "userMetadata",
         "type": "\"string\""
        },
        {
         "metadata": "{}",
         "name": "engineInfo",
         "type": "\"string\""
        }
       ],
       "type": "table"
      }
     },
     "output_type": "display_data"
    }
   ],
   "source": [
    "display(df_delta_table.history())"
   ]
  },
  {
   "cell_type": "code",
   "execution_count": 0,
   "metadata": {
    "application/vnd.databricks.v1+cell": {
     "cellMetadata": {
      "byteLimit": 2048000,
      "rowLimit": 10000
     },
     "collapsed": true,
     "inputWidgets": {},
     "nuid": "94dad956-4a23-4616-b44f-3b05af47a3bf",
     "showTitle": false,
     "tableResultSettingsMap": {},
     "title": ""
    }
   },
   "outputs": [
    {
     "output_type": "display_data",
     "data": {
      "text/html": [
       "<style scoped>\n",
       "  .table-result-container {\n",
       "    max-height: 300px;\n",
       "    overflow: auto;\n",
       "  }\n",
       "  table, th, td {\n",
       "    border: 1px solid black;\n",
       "    border-collapse: collapse;\n",
       "  }\n",
       "  th, td {\n",
       "    padding: 5px;\n",
       "  }\n",
       "  th {\n",
       "    text-align: left;\n",
       "  }\n",
       "</style><div class='table-result-container'><table class='table-result'><thead style='background-color: white'><tr><th>RowID</th><th>OrderID</th><th>OrderDate</th><th>ShipDate</th><th>ShipMode</th><th>CustomerID</th><th>CustomerName</th><th>Segment</th><th>City</th><th>State</th><th>Country</th><th>PostalCode</th><th>Market</th><th>Region</th><th>ProductID</th><th>Category</th><th>SubCategory</th><th>ProductName</th><th>Sales</th><th>Quantity</th><th>Discount</th><th>Profit</th><th>ShippingCost</th><th>OrderPriority</th><th>lucropercentual</th><th>YearOrderDate</th></tr></thead><tbody><tr><td>30570</td><td>IN-2011-81826</td><td>2011-11-07</td><td>2011-11-09</td><td>First Class</td><td>TS-21340</td><td>Toby Swindell</td><td>Consumer</td><td>Porirua</td><td>Wellington</td><td>New Zealand</td><td>null</td><td>APAC</td><td>Oceania</td><td>FUR-CH-10004050</td><td>Furniture</td><td>Chairs</td><td>Novimex Executive Leather Armchair, Adjustable</td><td>1822.08</td><td>4</td><td>0.0</td><td>564.84</td><td>894.77</td><td>Critical</td><td>0.31</td><td>2011</td></tr><tr><td>34577</td><td>CA-2011-102988</td><td>2011-04-05</td><td>2011-04-09</td><td>Second Class</td><td>GM-14695</td><td>Greg Maxwell</td><td>Corporate</td><td>Alexandria</td><td>Virginia</td><td>United States</td><td>22304</td><td>US</td><td>South</td><td>OFF-SU-10002881</td><td>Office Supplies</td><td>Supplies</td><td>Martin Yale Chadless Opener Electric Letter Opener</td><td>4164.05</td><td>5</td><td>0.0</td><td>83.281</td><td>846.54</td><td>High</td><td>0.02</td><td>2011</td></tr><tr><td>45794</td><td>SA-2011-1830</td><td>2011-12-27</td><td>2011-12-29</td><td>Second Class</td><td>MM-7260</td><td>Magdelene Morse</td><td>Consumer</td><td>Jizan</td><td>Jizan</td><td>Saudi Arabia</td><td>null</td><td>EMEA</td><td>EMEA</td><td>TEC-CIS-10001717</td><td>Technology</td><td>Phones</td><td>Cisco Smart Phone, with Caller ID</td><td>2616.96</td><td>4</td><td>0.0</td><td>1151.4</td><td>832.41</td><td>Critical</td><td>0.44</td><td>2011</td></tr><tr><td>31784</td><td>CA-2011-154627</td><td>2011-10-29</td><td>2011-10-31</td><td>First Class</td><td>SA-20830</td><td>Sue Ann Reed</td><td>Consumer</td><td>Chicago</td><td>Illinois</td><td>United States</td><td>60610</td><td>US</td><td>Central</td><td>TEC-PH-10001363</td><td>Technology</td><td>Phones</td><td>Apple iPhone 5S</td><td>2735.952</td><td>6</td><td>0.2</td><td>341.994</td><td>752.51</td><td>High</td><td>0.13</td><td>2011</td></tr><tr><td>21586</td><td>IN-2011-44803</td><td>2011-05-02</td><td>2011-05-03</td><td>First Class</td><td>JK-15325</td><td>Jason Klamczynski</td><td>Corporate</td><td>Suzhou</td><td>Anhui</td><td>China</td><td>null</td><td>APAC</td><td>North Asia</td><td>FUR-CH-10000027</td><td>Furniture</td><td>Chairs</td><td>SAFCO Executive Leather Armchair, Black</td><td>2754.0</td><td>6</td><td>0.0</td><td>358.02</td><td>752.47</td><td>Critical</td><td>0.13</td><td>2011</td></tr><tr><td>30191</td><td>IN-2011-10286</td><td>2011-12-17</td><td>2011-12-20</td><td>First Class</td><td>PB-19210</td><td>Phillip Breyer</td><td>Corporate</td><td>Taipei</td><td>Taipei City</td><td>Taiwan</td><td>null</td><td>APAC</td><td>North Asia</td><td>FUR-TA-10004744</td><td>Furniture</td><td>Tables</td><td>Lesro Conference Table, with Bottom Storage</td><td>1715.16</td><td>2</td><td>0.0</td><td>720.36</td><td>725.57</td><td>Critical</td><td>0.42</td><td>2011</td></tr><tr><td>11645</td><td>ES-2011-4699764</td><td>2011-03-14</td><td>2011-03-17</td><td>Second Class</td><td>EB-14110</td><td>Eugene Barchas</td><td>Consumer</td><td>Leipzig</td><td>Saxony</td><td>Germany</td><td>null</td><td>EU</td><td>Central</td><td>OFF-AP-10004512</td><td>Office Supplies</td><td>Appliances</td><td>Hoover Stove, Red</td><td>3069.738</td><td>6</td><td>0.1</td><td>1364.238</td><td>725.34</td><td>Critical</td><td>0.44</td><td>2011</td></tr><tr><td>220</td><td>US-2011-128776</td><td>2011-12-28</td><td>2011-12-30</td><td>Second Class</td><td>RR-19525</td><td>Rick Reed</td><td>Corporate</td><td>Santo Domingo</td><td>Santo Domingo</td><td>Dominican Republic</td><td>null</td><td>LATAM</td><td>Caribbean</td><td>TEC-PH-10002815</td><td>Technology</td><td>Phones</td><td>Samsung Smart Phone, VoIP</td><td>1696.64</td><td>5</td><td>0.2</td><td>-148.46</td><td>704.06</td><td>Critical</td><td>-0.09</td><td>2011</td></tr><tr><td>21286</td><td>IN-2011-28087</td><td>2011-11-03</td><td>2011-11-05</td><td>Second Class</td><td>DP-13105</td><td>Dave Poirier</td><td>Corporate</td><td>Gold Coast</td><td>Queensland</td><td>Australia</td><td>null</td><td>APAC</td><td>Oceania</td><td>OFF-AP-10004246</td><td>Office Supplies</td><td>Appliances</td><td>Breville Stove, Red</td><td>2526.93</td><td>5</td><td>0.1</td><td>561.48</td><td>689.8</td><td>Critical</td><td>0.22</td><td>2011</td></tr><tr><td>32543</td><td>CA-2011-168494</td><td>2011-12-12</td><td>2011-12-14</td><td>Second Class</td><td>NP-18700</td><td>Nora Preis</td><td>Consumer</td><td>Fresno</td><td>California</td><td>United States</td><td>93727</td><td>US</td><td>West</td><td>FUR-TA-10003473</td><td>Furniture</td><td>Tables</td><td>Bretford Rectangular Conference Table Tops</td><td>3610.848</td><td>12</td><td>0.2</td><td>135.4068</td><td>683.12</td><td>High</td><td>0.04</td><td>2011</td></tr></tbody></table></div>"
      ]
     },
     "metadata": {
      "application/vnd.databricks.v1+output": {
       "addedWidgets": {},
       "aggData": [],
       "aggError": "",
       "aggOverflow": false,
       "aggSchema": [],
       "aggSeriesLimitReached": false,
       "aggType": "",
       "arguments": {},
       "columnCustomDisplayInfos": {},
       "data": [
        [
         30570,
         "IN-2011-81826",
         "2011-11-07",
         "2011-11-09",
         "First Class",
         "TS-21340",
         "Toby Swindell",
         "Consumer",
         "Porirua",
         "Wellington",
         "New Zealand",
         null,
         "APAC",
         "Oceania",
         "FUR-CH-10004050",
         "Furniture",
         "Chairs",
         "Novimex Executive Leather Armchair, Adjustable",
         1822.08,
         4,
         0.0,
         564.84,
         894.77,
         "Critical",
         0.31,
         2011
        ],
        [
         34577,
         "CA-2011-102988",
         "2011-04-05",
         "2011-04-09",
         "Second Class",
         "GM-14695",
         "Greg Maxwell",
         "Corporate",
         "Alexandria",
         "Virginia",
         "United States",
         22304,
         "US",
         "South",
         "OFF-SU-10002881",
         "Office Supplies",
         "Supplies",
         "Martin Yale Chadless Opener Electric Letter Opener",
         4164.05,
         5,
         0.0,
         83.281,
         846.54,
         "High",
         0.02,
         2011
        ],
        [
         45794,
         "SA-2011-1830",
         "2011-12-27",
         "2011-12-29",
         "Second Class",
         "MM-7260",
         "Magdelene Morse",
         "Consumer",
         "Jizan",
         "Jizan",
         "Saudi Arabia",
         null,
         "EMEA",
         "EMEA",
         "TEC-CIS-10001717",
         "Technology",
         "Phones",
         "Cisco Smart Phone, with Caller ID",
         2616.96,
         4,
         0.0,
         1151.4,
         832.41,
         "Critical",
         0.44,
         2011
        ],
        [
         31784,
         "CA-2011-154627",
         "2011-10-29",
         "2011-10-31",
         "First Class",
         "SA-20830",
         "Sue Ann Reed",
         "Consumer",
         "Chicago",
         "Illinois",
         "United States",
         60610,
         "US",
         "Central",
         "TEC-PH-10001363",
         "Technology",
         "Phones",
         "Apple iPhone 5S",
         2735.952,
         6,
         0.2,
         341.994,
         752.51,
         "High",
         0.13,
         2011
        ],
        [
         21586,
         "IN-2011-44803",
         "2011-05-02",
         "2011-05-03",
         "First Class",
         "JK-15325",
         "Jason Klamczynski",
         "Corporate",
         "Suzhou",
         "Anhui",
         "China",
         null,
         "APAC",
         "North Asia",
         "FUR-CH-10000027",
         "Furniture",
         "Chairs",
         "SAFCO Executive Leather Armchair, Black",
         2754.0,
         6,
         0.0,
         358.02,
         752.47,
         "Critical",
         0.13,
         2011
        ],
        [
         30191,
         "IN-2011-10286",
         "2011-12-17",
         "2011-12-20",
         "First Class",
         "PB-19210",
         "Phillip Breyer",
         "Corporate",
         "Taipei",
         "Taipei City",
         "Taiwan",
         null,
         "APAC",
         "North Asia",
         "FUR-TA-10004744",
         "Furniture",
         "Tables",
         "Lesro Conference Table, with Bottom Storage",
         1715.16,
         2,
         0.0,
         720.36,
         725.57,
         "Critical",
         0.42,
         2011
        ],
        [
         11645,
         "ES-2011-4699764",
         "2011-03-14",
         "2011-03-17",
         "Second Class",
         "EB-14110",
         "Eugene Barchas",
         "Consumer",
         "Leipzig",
         "Saxony",
         "Germany",
         null,
         "EU",
         "Central",
         "OFF-AP-10004512",
         "Office Supplies",
         "Appliances",
         "Hoover Stove, Red",
         3069.738,
         6,
         0.1,
         1364.238,
         725.34,
         "Critical",
         0.44,
         2011
        ],
        [
         220,
         "US-2011-128776",
         "2011-12-28",
         "2011-12-30",
         "Second Class",
         "RR-19525",
         "Rick Reed",
         "Corporate",
         "Santo Domingo",
         "Santo Domingo",
         "Dominican Republic",
         null,
         "LATAM",
         "Caribbean",
         "TEC-PH-10002815",
         "Technology",
         "Phones",
         "Samsung Smart Phone, VoIP",
         1696.64,
         5,
         0.2,
         -148.46,
         704.06,
         "Critical",
         -0.09,
         2011
        ],
        [
         21286,
         "IN-2011-28087",
         "2011-11-03",
         "2011-11-05",
         "Second Class",
         "DP-13105",
         "Dave Poirier",
         "Corporate",
         "Gold Coast",
         "Queensland",
         "Australia",
         null,
         "APAC",
         "Oceania",
         "OFF-AP-10004246",
         "Office Supplies",
         "Appliances",
         "Breville Stove, Red",
         2526.93,
         5,
         0.1,
         561.48,
         689.8,
         "Critical",
         0.22,
         2011
        ],
        [
         32543,
         "CA-2011-168494",
         "2011-12-12",
         "2011-12-14",
         "Second Class",
         "NP-18700",
         "Nora Preis",
         "Consumer",
         "Fresno",
         "California",
         "United States",
         93727,
         "US",
         "West",
         "FUR-TA-10003473",
         "Furniture",
         "Tables",
         "Bretford Rectangular Conference Table Tops",
         3610.848,
         12,
         0.2,
         135.4068,
         683.12,
         "High",
         0.04,
         2011
        ]
       ],
       "datasetInfos": [],
       "dbfsResultPath": null,
       "isJsonSchema": true,
       "metadata": {},
       "overflow": false,
       "plotOptions": {
        "customPlotOptions": {},
        "displayType": "table",
        "pivotAggregation": null,
        "pivotColumns": null,
        "xColumns": null,
        "yColumns": null
       },
       "removedWidgets": [],
       "schema": [
        {
         "metadata": "{}",
         "name": "RowID",
         "type": "\"long\""
        },
        {
         "metadata": "{}",
         "name": "OrderID",
         "type": "\"string\""
        },
        {
         "metadata": "{}",
         "name": "OrderDate",
         "type": "\"date\""
        },
        {
         "metadata": "{}",
         "name": "ShipDate",
         "type": "\"date\""
        },
        {
         "metadata": "{}",
         "name": "ShipMode",
         "type": "\"string\""
        },
        {
         "metadata": "{}",
         "name": "CustomerID",
         "type": "\"string\""
        },
        {
         "metadata": "{}",
         "name": "CustomerName",
         "type": "\"string\""
        },
        {
         "metadata": "{}",
         "name": "Segment",
         "type": "\"string\""
        },
        {
         "metadata": "{}",
         "name": "City",
         "type": "\"string\""
        },
        {
         "metadata": "{}",
         "name": "State",
         "type": "\"string\""
        },
        {
         "metadata": "{}",
         "name": "Country",
         "type": "\"string\""
        },
        {
         "metadata": "{}",
         "name": "PostalCode",
         "type": "\"long\""
        },
        {
         "metadata": "{}",
         "name": "Market",
         "type": "\"string\""
        },
        {
         "metadata": "{}",
         "name": "Region",
         "type": "\"string\""
        },
        {
         "metadata": "{}",
         "name": "ProductID",
         "type": "\"string\""
        },
        {
         "metadata": "{}",
         "name": "Category",
         "type": "\"string\""
        },
        {
         "metadata": "{}",
         "name": "SubCategory",
         "type": "\"string\""
        },
        {
         "metadata": "{}",
         "name": "ProductName",
         "type": "\"string\""
        },
        {
         "metadata": "{}",
         "name": "Sales",
         "type": "\"double\""
        },
        {
         "metadata": "{}",
         "name": "Quantity",
         "type": "\"long\""
        },
        {
         "metadata": "{}",
         "name": "Discount",
         "type": "\"double\""
        },
        {
         "metadata": "{}",
         "name": "Profit",
         "type": "\"double\""
        },
        {
         "metadata": "{}",
         "name": "ShippingCost",
         "type": "\"double\""
        },
        {
         "metadata": "{}",
         "name": "OrderPriority",
         "type": "\"string\""
        },
        {
         "metadata": "{}",
         "name": "lucropercentual",
         "type": "\"double\""
        },
        {
         "metadata": "{}",
         "name": "YearOrderDate",
         "type": "\"long\""
        }
       ],
       "type": "table"
      }
     },
     "output_type": "display_data"
    }
   ],
   "source": [
    "df_old_delta_table = spark.read.format(\"delta\").option(\"versionAsOf\", 0).load(\"dbfs:/Silver/Year_Order_Date.delta\")\n",
    "display(df_old_delta_table.head(10))"
   ]
  },
  {
   "cell_type": "code",
   "execution_count": 0,
   "metadata": {
    "application/vnd.databricks.v1+cell": {
     "cellMetadata": {},
     "inputWidgets": {},
     "nuid": "feedf867-1b20-4c1a-b242-ff47f88a9a02",
     "showTitle": false,
     "tableResultSettingsMap": {},
     "title": ""
    }
   },
   "outputs": [],
   "source": [
    "'''\n",
    "Medir e registrar o tempo de leitura dos arquivos nos formatos CSV, Parquet e Delta.\n",
    "Fazer uma leitura com .count() para forçar a materialização.\n",
    "Comparar os tempos e tirar conclusões sobre performance de leitura.\n",
    "\n",
    "'''"
   ]
  },
  {
   "cell_type": "code",
   "execution_count": 0,
   "metadata": {
    "application/vnd.databricks.v1+cell": {
     "cellMetadata": {
      "byteLimit": 2048000,
      "rowLimit": 10000
     },
     "collapsed": true,
     "inputWidgets": {},
     "nuid": "d6589f6e-83e3-4072-b2a1-2ff62006c769",
     "showTitle": false,
     "tableResultSettingsMap": {},
     "title": ""
    }
   },
   "outputs": [
    {
     "output_type": "stream",
     "name": "stdout",
     "output_type": "stream",
     "text": [
      "'time de leitura para os formatos csv:1.34 segundos''time de leitura para os formatos parquet:1.00 segundos''time de leitura para os formatos delta:0.75 segundos'Out[76]: 0.7539637088775635"
     ]
    }
   ],
   "source": [
    "df_csv = \"dbfs:/Bronze/Global_Superstore2.csv\"\n",
    "df_parquet = \"dbfs:/Silver/Global_Superstore2.parquet\"\n",
    "df_delta = \"dbfs:/Silver/Year_Order_Date.delta\"\n",
    "\n",
    "def describe_time(format_type ,path):\n",
    "    start = time.time()\n",
    "    df_time = spark.read.format(format_type).load(path)\n",
    "    df_count = df_time.count()\n",
    "    end= time.time() \n",
    "    time_result = end - start \n",
    "    display(f\"time de leitura para os formatos {format_type}:{time_result:.2f} segundos\")\n",
    "    return time_result\n",
    "\n",
    "describe_time(\"csv\", df_csv)\n",
    "describe_time(\"parquet\", df_parquet)\n",
    "describe_time(\"delta\", df_delta)"
   ]
  },
  {
   "cell_type": "code",
   "execution_count": 0,
   "metadata": {
    "application/vnd.databricks.v1+cell": {
     "cellMetadata": {
      "byteLimit": 2048000,
      "rowLimit": 10000
     },
     "collapsed": true,
     "inputWidgets": {},
     "nuid": "69821bf5-745c-41ad-a5f7-1650007f0a9f",
     "showTitle": false,
     "tableResultSettingsMap": {},
     "title": ""
    }
   },
   "outputs": [
    {
     "output_type": "stream",
     "name": "stdout",
     "output_type": "stream",
     "text": [
      "Out[80]: '\\ncsv- foi o formato de arquivo mais lento pra leitura, acredito que por não ser binário e é interpretado como texto\\nparquet- foi mais rápido por ser binário e ter um formato colunar que diminui o processamento na consulta por ignorar as outras colunas e só trazer as consultas necessárias.\\ndelta- foi ainda mais rápido por ser no formato parquet, herdando sua estrutura colunar e compactação.\\n\\n'"
     ]
    }
   ],
   "source": [
    "'''\n",
    "csv- foi o formato de arquivo mais lento pra leitura, acredito que por não ser binário e é interpretado como texto\n",
    "parquet- foi mais rápido por ser binário e ter um formato colunar que diminui o processamento na consulta por ignorar as outras colunas e só trazer as consultas necessárias.\n",
    "delta- foi ainda mais rápido por ser no formato parquet, herdando sua estrutura colunar e compactação.\n",
    "\n",
    "'''"
   ]
  },
  {
   "cell_type": "code",
   "execution_count": 0,
   "metadata": {
    "application/vnd.databricks.v1+cell": {
     "cellMetadata": {
      "byteLimit": 2048000,
      "rowLimit": 10000
     },
     "inputWidgets": {},
     "nuid": "f8bb3d39-b9c6-4df4-8b87-30362477f151",
     "showTitle": false,
     "tableResultSettingsMap": {},
     "title": ""
    }
   },
   "outputs": [],
   "source": [
    "df_old_delta_table.write.format(\"delta\").mode(\"overwrite\").save(\"dbfs:/Gold/Global_Superstore_gold\") #disponibilizar na camada gold para futuras análises."
   ]
  }
 ],
 "metadata": {
  "application/vnd.databricks.v1+notebook": {
   "computePreferences": null,
   "dashboards": [],
   "environmentMetadata": {
    "base_environment": "",
    "environment_version": "1"
   },
   "inputWidgetPreferences": null,
   "language": "python",
   "notebookMetadata": {
    "pythonIndentUnit": 4
   },
   "notebookName": "Desafios",
   "widgets": {}
  }
 },
 "nbformat": 4,
 "nbformat_minor": 0
}