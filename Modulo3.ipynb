{
 "cells": [
  {
   "cell_type": "code",
   "execution_count": 0,
   "metadata": {
    "application/vnd.databricks.v1+cell": {
     "cellMetadata": {
      "byteLimit": 2048000,
      "rowLimit": 10000
     },
     "collapsed": true,
     "inputWidgets": {},
     "nuid": "6b254007-f726-40d8-9b88-183164df34d8",
     "showTitle": false,
     "tableResultSettingsMap": {},
     "title": ""
    }
   },
   "outputs": [],
   "source": [
    "import zipfile\n",
    "import os\n",
    "from pyspark.sql.functions import *"
   ]
  },
  {
   "cell_type": "code",
   "execution_count": 0,
   "metadata": {
    "application/vnd.databricks.v1+cell": {
     "cellMetadata": {
      "byteLimit": 2048000,
      "rowLimit": 10000
     },
     "collapsed": true,
     "inputWidgets": {},
     "nuid": "60292aee-ce6f-4499-8674-6fef9939bf75",
     "showTitle": false,
     "tableResultSettingsMap": {},
     "title": ""
    }
   },
   "outputs": [
    {
     "output_type": "display_data",
     "data": {
      "text/html": [
       "<style scoped>\n",
       "  .table-result-container {\n",
       "    max-height: 300px;\n",
       "    overflow: auto;\n",
       "  }\n",
       "  table, th, td {\n",
       "    border: 1px solid black;\n",
       "    border-collapse: collapse;\n",
       "  }\n",
       "  th, td {\n",
       "    padding: 5px;\n",
       "  }\n",
       "  th {\n",
       "    text-align: left;\n",
       "  }\n",
       "</style><div class='table-result-container'><table class='table-result'><thead style='background-color: white'><tr><th>path</th><th>name</th><th>size</th><th>modificationTime</th></tr></thead><tbody><tr><td>dbfs:/FileStore/tables/bronze/</td><td>bronze/</td><td>0</td><td>0</td></tr><tr><td>dbfs:/FileStore/tables/discogs.csv/</td><td>discogs.csv/</td><td>0</td><td>0</td></tr><tr><td>dbfs:/FileStore/tables/discogs_csv.zip</td><td>discogs_csv.zip</td><td>1762752803</td><td>1743384856000</td></tr><tr><td>dbfs:/FileStore/tables/discogs_parquet/</td><td>discogs_parquet/</td><td>0</td><td>0</td></tr><tr><td>dbfs:/FileStore/tables/gold/</td><td>gold/</td><td>0</td><td>0</td></tr><tr><td>dbfs:/FileStore/tables/silver/</td><td>silver/</td><td>0</td><td>0</td></tr></tbody></table></div>"
      ]
     },
     "metadata": {
      "application/vnd.databricks.v1+output": {
       "addedWidgets": {},
       "aggData": [],
       "aggError": "",
       "aggOverflow": false,
       "aggSchema": [],
       "aggSeriesLimitReached": false,
       "aggType": "",
       "arguments": {},
       "columnCustomDisplayInfos": {},
       "data": [
        [
         "dbfs:/FileStore/tables/bronze/",
         "bronze/",
         0,
         0
        ],
        [
         "dbfs:/FileStore/tables/discogs.csv/",
         "discogs.csv/",
         0,
         0
        ],
        [
         "dbfs:/FileStore/tables/discogs_csv.zip",
         "discogs_csv.zip",
         1762752803,
         1743384856000
        ],
        [
         "dbfs:/FileStore/tables/discogs_parquet/",
         "discogs_parquet/",
         0,
         0
        ],
        [
         "dbfs:/FileStore/tables/gold/",
         "gold/",
         0,
         0
        ],
        [
         "dbfs:/FileStore/tables/silver/",
         "silver/",
         0,
         0
        ]
       ],
       "datasetInfos": [],
       "dbfsResultPath": null,
       "isJsonSchema": true,
       "metadata": {},
       "overflow": false,
       "plotOptions": {
        "customPlotOptions": {},
        "displayType": "table",
        "pivotAggregation": null,
        "pivotColumns": null,
        "xColumns": null,
        "yColumns": null
       },
       "removedWidgets": [],
       "schema": [
        {
         "metadata": "{}",
         "name": "path",
         "type": "\"string\""
        },
        {
         "metadata": "{}",
         "name": "name",
         "type": "\"string\""
        },
        {
         "metadata": "{}",
         "name": "size",
         "type": "\"long\""
        },
        {
         "metadata": "{}",
         "name": "modificationTime",
         "type": "\"long\""
        }
       ],
       "type": "table"
      }
     },
     "output_type": "display_data"
    }
   ],
   "source": [
    "display(dbutils.fs.ls(\"FileStore/tables\"))"
   ]
  },
  {
   "cell_type": "code",
   "execution_count": 0,
   "metadata": {
    "application/vnd.databricks.v1+cell": {
     "cellMetadata": {
      "byteLimit": 2048000,
      "rowLimit": 10000
     },
     "collapsed": true,
     "inputWidgets": {},
     "nuid": "6ed1d0e8-9066-4b80-8bbd-a249a2eb7847",
     "showTitle": false,
     "tableResultSettingsMap": {},
     "title": ""
    }
   },
   "outputs": [
    {
     "output_type": "stream",
     "name": "stdout",
     "output_type": "stream",
     "text": [
      "Arquivos extraídos em: /tmp/discogs_csv_novo/\n"
     ]
    }
   ],
   "source": [
    "zip_dbfs= \"dbfs:/FileStore/tables/discogs_csv.zip\"\n",
    "zip_local = \"/tmp/discogs_csv.zip\"\n",
    "extract = \"/tmp/discogs_csv_novo/\"\n",
    "\n",
    "dbutils.fs.cp(zip_dbfs, f\"file:{zip_local}\")\n",
    "os.makedirs(extract, exist_ok=True)\n",
    "\n",
    "with zipfile.ZipFile(zip_local, 'r') as zip_ref:\n",
    "    zip_ref.extractall(extract)\n",
    "\n",
    "print(f\"arquivos extraídos em: {extract}\")\n"
   ]
  },
  {
   "cell_type": "code",
   "execution_count": 0,
   "metadata": {
    "application/vnd.databricks.v1+cell": {
     "cellMetadata": {
      "byteLimit": 2048000,
      "rowLimit": 10000
     },
     "collapsed": true,
     "inputWidgets": {},
     "nuid": "3bb806cd-bed0-44be-b67e-7b0d1d3c1710",
     "showTitle": false,
     "tableResultSettingsMap": {},
     "title": ""
    }
   },
   "outputs": [
    {
     "output_type": "stream",
     "name": "stdout",
     "output_type": "stream",
     "text": [
      "Out[14]: True"
     ]
    }
   ],
   "source": [
    "csv= \"file:/tmp/discogs_csv_novo/\"\n",
    "csv_dbfs= \"dbfs:/FileStore/tables/discogs.csv\"\n",
    "\n",
    "dbutils.fs.cp(csv, csv_dbfs, recurse=True)"
   ]
  },
  {
   "cell_type": "code",
   "execution_count": 0,
   "metadata": {
    "application/vnd.databricks.v1+cell": {
     "cellMetadata": {
      "byteLimit": 2048000,
      "rowLimit": 10000
     },
     "collapsed": true,
     "inputWidgets": {},
     "nuid": "d0cbdddb-545f-4f93-ba6f-26ea9409858b",
     "showTitle": false,
     "tableResultSettingsMap": {},
     "title": ""
    }
   },
   "outputs": [],
   "source": [
    "df = spark.read.csv(\"dbfs:/FileStore/tables/discogs.csv/\",header = True,inferSchema = True,sep = \",\",quote='\"',escape='\"',multiLine=True)"
   ]
  },
  {
   "cell_type": "code",
   "execution_count": 0,
   "metadata": {
    "application/vnd.databricks.v1+cell": {
     "cellMetadata": {
      "byteLimit": 2048000,
      "rowLimit": 10000
     },
     "collapsed": true,
     "inputWidgets": {},
     "nuid": "db3ff0d5-7789-4927-84b1-f45abcabdc14",
     "showTitle": false,
     "tableResultSettingsMap": {},
     "title": ""
    }
   },
   "outputs": [],
   "source": [
    "parquet_path = \"dbfs:/FileStore/tables/discogs_parquet\"\n",
    "df.write.mode(\"overwrite\").parquet(parquet_path)"
   ]
  },
  {
   "cell_type": "code",
   "execution_count": 0,
   "metadata": {
    "application/vnd.databricks.v1+cell": {
     "cellMetadata": {
      "byteLimit": 2048000,
      "rowLimit": 10000
     },
     "collapsed": true,
     "inputWidgets": {},
     "nuid": "8bc7e0ca-51dc-4ea3-a398-e179e94f8d00",
     "showTitle": false,
     "tableResultSettingsMap": {},
     "title": ""
    }
   },
   "outputs": [
    {
     "output_type": "display_data",
     "data": {
      "text/html": [
       "<style scoped>\n",
       "  .table-result-container {\n",
       "    max-height: 300px;\n",
       "    overflow: auto;\n",
       "  }\n",
       "  table, th, td {\n",
       "    border: 1px solid black;\n",
       "    border-collapse: collapse;\n",
       "  }\n",
       "  th, td {\n",
       "    padding: 5px;\n",
       "  }\n",
       "  th {\n",
       "    text-align: left;\n",
       "  }\n",
       "</style><div class='table-result-container'><table class='table-result'><thead style='background-color: white'><tr><th>id</th><th>release_id</th><th>status</th><th>title</th><th>artist_id</th><th>artist_name</th><th>label_name</th><th>label_id</th><th>format</th><th>genre</th><th>style</th><th>country</th><th>release_date</th><th>notes</th><th>master_id</th><th>video_url</th><th>company_name</th></tr></thead><tbody><tr><td>1</td><td>12295801</td><td>Accepted</td><td>The World Of Ray Price</td><td>311678</td><td>Ray Price</td><td>Columbia</td><td>1866</td><td>8-Track Cartridge</td><td>Folk, World, & Country</td><td>null</td><td>US</td><td>1970</td><td>null</td><td>null</td><td>null</td><td>null</td></tr><tr><td>2</td><td>12295802</td><td>Accepted</td><td>The Burden of Isolation </td><td>3720243</td><td>Filth (9)</td><td>Not on Label (Filth (9) Self-Released)</td><td>1495843</td><td>CD</td><td>Rock</td><td>Deathcore</td><td>US</td><td>2018</td><td>null</td><td>1397110</td><td>https://www.youtube.com/watch?v=mRN-e_mIfQQ</td><td>null</td></tr><tr><td>3</td><td>12295803</td><td>Accepted</td><td>Bassoon Concertos</td><td>6095671</td><td>Sebastian Fagerlund</td><td>BIS</td><td>51038</td><td>SACD</td><td>Classical</td><td>Contemporary</td><td>Sweden</td><td>2016</td><td>Made in the EU</td><td>null</td><td>null</td><td>BIS Records AB</td></tr><tr><td>4</td><td>12295805</td><td>Accepted</td><td>Ich Lag In Einer Nacht Und Schlief</td><td>3170804</td><td>Hans Peter Treichler</td><td>Gold Records</td><td>11489</td><td>Vinyl</td><td>Pop</td><td>null</td><td>Switzerland</td><td>1980</td><td>null</td><td>null</td><td>null</td><td>Gold Records</td></tr><tr><td>5</td><td>12295806</td><td>Accepted</td><td>Bien O Mal</td><td>85181</td><td>Julieta Venegas</td><td>Sony Music</td><td>25487</td><td>CD</td><td>Latin</td><td>null</td><td>Argentina</td><td>2010</td><td>null</td><td>1418114</td><td>https://www.youtube.com/watch?v=KTr9HMnAWNE</td><td>Lolein Music</td></tr><tr><td>6</td><td>12295807</td><td>Accepted</td><td>Kaleidoscopia</td><td>3130927</td><td>Beatnik (8)</td><td>Eargasm Wreckords</td><td>500315</td><td>CD</td><td>Rock</td><td>Krautrock</td><td>Switzerland</td><td>2008</td><td>Mastered by Eroc\n",
       "Produced by Beatnik\n",
       "\n",
       "16-page booklet whit lyrics and credits \n",
       "\n",
       "P&C 2008 Eargasm Wreckords</td><td>null</td><td>https://www.youtube.com/watch?v=W4ZpVHFI_zM</td><td>Eargasm Wreckords</td></tr><tr><td>7</td><td>12295808</td><td>Accepted</td><td>Κόκκινη Γραμμή</td><td>2444813</td><td>Βασίλης Τερλέγκας</td><td>Alpha Records (6)</td><td>153245</td><td>CD</td><td>Folk, World, & Country</td><td>null</td><td>Greece</td><td>null</td><td>null</td><td>null</td><td>https://www.youtube.com/watch?v=6Z3q5YEpnno</td><td>null</td></tr><tr><td>8</td><td>12295809</td><td>Accepted</td><td>Frescobaldi Edition Vol 6 - Il Primo Libro Dei Madrigali a cinque voci</td><td>834330</td><td>Girolamo Frescobaldi</td><td>Brilliant Classics</td><td>89052</td><td>CD</td><td>Classical</td><td>Renaissance</td><td>Netherlands</td><td>2009</td><td>Volume 6 of this path-breaking series, the first to record every extant work by Girolamo Frescobaldi, focuses on the secular madrigals. These works - he wrote one book, and evidently hoped to write more - are no less innovatory than the keyboard works that so impressed and influenced J.S. Bach. The texts feature the usual parade of lovelord shepherds and sighing maidens. Love unrequited is the keynote, but Frescobaldi's musical response to the expressive affekt is more charming than heart-rending: these are not the passionate and personal declarations of Monteverdi or Gesualdo.\n",
       "\n",
       "These madrigals were Frescobaldi's first published music, and therefore evidently music of which he felt justifiably proud. Their language is doubtless shaped by his education and service in the northern Italian cities of Ferrara and Mantua, which thanks to the patronage of families such as the famous Gonzagas was a cosmopolitan hotbed of artistic and creative endeavour. Frescobaldi met and became friends with Peter Philips, the noted English composer of madrigals who had settled in the Netherlands, and Philips's delicacy of imagination can be heard in this collection. The nineteen madrigals with which Frescobaldi introduced himself have an admirable clarity of formal design that gives each line its due weight in terms of duration and emotion, and a transparent counterpoint that favours delicacy over density as a stylistic means, homophonic and polyphonic sections being cleverly alternated. It is pleasing to see the respect that Frescobaldi pays to the texts: the words are set to graceful melodic phrases, and never obscured by excessive counterpoint, but interpreted literally with immediate attention to meaning.\n",
       "\n",
       "</td><td>null</td><td>null</td><td>null</td></tr><tr><td>9</td><td>12295810</td><td>Accepted</td><td>Try A Little Kindness / One Step At A Time</td><td>3432907</td><td>Don Lauren</td><td>Apt Records</td><td>125142</td><td>Vinyl</td><td>Rock</td><td>Vocal</td><td>US</td><td>null</td><td>A side: pop vocal\n",
       "B side: bubblegum rock</td><td>1237274</td><td>null</td><td>null</td></tr><tr><td>10</td><td>12295811</td><td>Accepted</td><td>A Tribute to La Monte Young</td><td>6522519</td><td>Infinite Music</td><td>Fire Records</td><td>2051</td><td>CD</td><td>Electronic</td><td>Minimal</td><td>UK</td><td>2018</td><td> </td><td>null</td><td>https://www.youtube.com/watch?v=lzSC5wCCOVo</td><td>null</td></tr></tbody></table></div>"
      ]
     },
     "metadata": {
      "application/vnd.databricks.v1+output": {
       "addedWidgets": {},
       "aggData": [],
       "aggError": "",
       "aggOverflow": false,
       "aggSchema": [],
       "aggSeriesLimitReached": false,
       "aggType": "",
       "arguments": {},
       "columnCustomDisplayInfos": {},
       "data": [
        [
         1,
         12295801,
         "Accepted",
         "The World Of Ray Price",
         311678,
         "Ray Price",
         "Columbia",
         1866,
         "8-Track Cartridge",
         "Folk, World, & Country",
         null,
         "US",
         1970,
         null,
         null,
         null,
         null
        ],
        [
         2,
         12295802,
         "Accepted",
         "The Burden of Isolation ",
         3720243,
         "Filth (9)",
         "Not on Label (Filth (9) Self-Released)",
         1495843,
         "CD",
         "Rock",
         "Deathcore",
         "US",
         2018,
         null,
         1397110,
         "https://www.youtube.com/watch?v=mRN-e_mIfQQ",
         null
        ],
        [
         3,
         12295803,
         "Accepted",
         "Bassoon Concertos",
         6095671,
         "Sebastian Fagerlund",
         "BIS",
         51038,
         "SACD",
         "Classical",
         "Contemporary",
         "Sweden",
         2016,
         "Made in the EU",
         null,
         null,
         "BIS Records AB"
        ],
        [
         4,
         12295805,
         "Accepted",
         "Ich Lag In Einer Nacht Und Schlief",
         3170804,
         "Hans Peter Treichler",
         "Gold Records",
         11489,
         "Vinyl",
         "Pop",
         null,
         "Switzerland",
         1980,
         null,
         null,
         null,
         "Gold Records"
        ],
        [
         5,
         12295806,
         "Accepted",
         "Bien O Mal",
         85181,
         "Julieta Venegas",
         "Sony Music",
         25487,
         "CD",
         "Latin",
         null,
         "Argentina",
         2010,
         null,
         1418114,
         "https://www.youtube.com/watch?v=KTr9HMnAWNE",
         "Lolein Music"
        ],
        [
         6,
         12295807,
         "Accepted",
         "Kaleidoscopia",
         3130927,
         "Beatnik (8)",
         "Eargasm Wreckords",
         500315,
         "CD",
         "Rock",
         "Krautrock",
         "Switzerland",
         2008,
         "Mastered by Eroc\nProduced by Beatnik\n\n16-page booklet whit lyrics and credits \n\nP&C 2008 Eargasm Wreckords",
         null,
         "https://www.youtube.com/watch?v=W4ZpVHFI_zM",
         "Eargasm Wreckords"
        ],
        [
         7,
         12295808,
         "Accepted",
         "Κόκκινη Γραμμή",
         2444813,
         "Βασίλης Τερλέγκας",
         "Alpha Records (6)",
         153245,
         "CD",
         "Folk, World, & Country",
         null,
         "Greece",
         null,
         null,
         null,
         "https://www.youtube.com/watch?v=6Z3q5YEpnno",
         null
        ],
        [
         8,
         12295809,
         "Accepted",
         "Frescobaldi Edition Vol 6 - Il Primo Libro Dei Madrigali a cinque voci",
         834330,
         "Girolamo Frescobaldi",
         "Brilliant Classics",
         89052,
         "CD",
         "Classical",
         "Renaissance",
         "Netherlands",
         2009,
         "Volume 6 of this path-breaking series, the first to record every extant work by Girolamo Frescobaldi, focuses on the secular madrigals. These works - he wrote one book, and evidently hoped to write more - are no less innovatory than the keyboard works that so impressed and influenced J.S. Bach. The texts feature the usual parade of lovelord shepherds and sighing maidens. Love unrequited is the keynote, but Frescobaldi's musical response to the expressive affekt is more charming than heart-rending: these are not the passionate and personal declarations of Monteverdi or Gesualdo.\n\nThese madrigals were Frescobaldi's first published music, and therefore evidently music of which he felt justifiably proud. Their language is doubtless shaped by his education and service in the northern Italian cities of Ferrara and Mantua, which thanks to the patronage of families such as the famous Gonzagas was a cosmopolitan hotbed of artistic and creative endeavour. Frescobaldi met and became friends with Peter Philips, the noted English composer of madrigals who had settled in the Netherlands, and Philips's delicacy of imagination can be heard in this collection. The nineteen madrigals with which Frescobaldi introduced himself have an admirable clarity of formal design that gives each line its due weight in terms of duration and emotion, and a transparent counterpoint that favours delicacy over density as a stylistic means, homophonic and polyphonic sections being cleverly alternated. It is pleasing to see the respect that Frescobaldi pays to the texts: the words are set to graceful melodic phrases, and never obscured by excessive counterpoint, but interpreted literally with immediate attention to meaning.\n\n",
         null,
         null,
         null
        ],
        [
         9,
         12295810,
         "Accepted",
         "Try A Little Kindness / One Step At A Time",
         3432907,
         "Don Lauren",
         "Apt Records",
         125142,
         "Vinyl",
         "Rock",
         "Vocal",
         "US",
         null,
         "A side: pop vocal\nB side: bubblegum rock",
         1237274,
         null,
         null
        ],
        [
         10,
         12295811,
         "Accepted",
         "A Tribute to La Monte Young",
         6522519,
         "Infinite Music",
         "Fire Records",
         2051,
         "CD",
         "Electronic",
         "Minimal",
         "UK",
         2018,
         " ",
         null,
         "https://www.youtube.com/watch?v=lzSC5wCCOVo",
         null
        ]
       ],
       "datasetInfos": [],
       "dbfsResultPath": null,
       "isJsonSchema": true,
       "metadata": {},
       "overflow": false,
       "plotOptions": {
        "customPlotOptions": {},
        "displayType": "table",
        "pivotAggregation": null,
        "pivotColumns": null,
        "xColumns": null,
        "yColumns": null
       },
       "removedWidgets": [],
       "schema": [
        {
         "metadata": "{}",
         "name": "id",
         "type": "\"long\""
        },
        {
         "metadata": "{}",
         "name": "release_id",
         "type": "\"long\""
        },
        {
         "metadata": "{}",
         "name": "status",
         "type": "\"string\""
        },
        {
         "metadata": "{}",
         "name": "title",
         "type": "\"string\""
        },
        {
         "metadata": "{}",
         "name": "artist_id",
         "type": "\"long\""
        },
        {
         "metadata": "{}",
         "name": "artist_name",
         "type": "\"string\""
        },
        {
         "metadata": "{}",
         "name": "label_name",
         "type": "\"string\""
        },
        {
         "metadata": "{}",
         "name": "label_id",
         "type": "\"long\""
        },
        {
         "metadata": "{}",
         "name": "format",
         "type": "\"string\""
        },
        {
         "metadata": "{}",
         "name": "genre",
         "type": "\"string\""
        },
        {
         "metadata": "{}",
         "name": "style",
         "type": "\"string\""
        },
        {
         "metadata": "{}",
         "name": "country",
         "type": "\"string\""
        },
        {
         "metadata": "{}",
         "name": "release_date",
         "type": "\"long\""
        },
        {
         "metadata": "{}",
         "name": "notes",
         "type": "\"string\""
        },
        {
         "metadata": "{}",
         "name": "master_id",
         "type": "\"long\""
        },
        {
         "metadata": "{}",
         "name": "video_url",
         "type": "\"string\""
        },
        {
         "metadata": "{}",
         "name": "company_name",
         "type": "\"string\""
        }
       ],
       "type": "table"
      }
     },
     "output_type": "display_data"
    }
   ],
   "source": [
    "df_parquet = spark.read.parquet(\"dbfs:/FileStore/tables/discogs_parquet/\")\n",
    "display(df_parquet.head(10))\n"
   ]
  },
  {
   "cell_type": "code",
   "execution_count": 0,
   "metadata": {
    "application/vnd.databricks.v1+cell": {
     "cellMetadata": {
      "byteLimit": 2048000,
      "rowLimit": 10000
     },
     "collapsed": true,
     "inputWidgets": {},
     "nuid": "98cd172a-bf9f-48f2-bf4a-954553dd3ee3",
     "showTitle": false,
     "tableResultSettingsMap": {},
     "title": ""
    }
   },
   "outputs": [
    {
     "output_type": "display_data",
     "data": {
      "text/html": [
       "<style scoped>\n",
       "  .table-result-container {\n",
       "    max-height: 300px;\n",
       "    overflow: auto;\n",
       "  }\n",
       "  table, th, td {\n",
       "    border: 1px solid black;\n",
       "    border-collapse: collapse;\n",
       "  }\n",
       "  th, td {\n",
       "    padding: 5px;\n",
       "  }\n",
       "  th {\n",
       "    text-align: left;\n",
       "  }\n",
       "</style><div class='table-result-container'><table class='table-result'><thead style='background-color: white'><tr><th>id</th></tr></thead><tbody><tr><td>0</td></tr></tbody></table></div>"
      ]
     },
     "metadata": {
      "application/vnd.databricks.v1+output": {
       "addedWidgets": {},
       "aggData": [],
       "aggError": "",
       "aggOverflow": false,
       "aggSchema": [],
       "aggSeriesLimitReached": false,
       "aggType": "",
       "arguments": {},
       "columnCustomDisplayInfos": {},
       "data": [
        [
         0
        ]
       ],
       "datasetInfos": [],
       "dbfsResultPath": null,
       "isJsonSchema": true,
       "metadata": {},
       "overflow": false,
       "plotOptions": {
        "customPlotOptions": {},
        "displayType": "table",
        "pivotAggregation": null,
        "pivotColumns": null,
        "xColumns": null,
        "yColumns": null
       },
       "removedWidgets": [],
       "schema": [
        {
         "metadata": "{}",
         "name": "id",
         "type": "\"long\""
        }
       ],
       "type": "table"
      }
     },
     "output_type": "display_data"
    },
    {
     "output_type": "display_data",
     "data": {
      "text/html": [
       "<style scoped>\n",
       "  .table-result-container {\n",
       "    max-height: 300px;\n",
       "    overflow: auto;\n",
       "  }\n",
       "  table, th, td {\n",
       "    border: 1px solid black;\n",
       "    border-collapse: collapse;\n",
       "  }\n",
       "  th, td {\n",
       "    padding: 5px;\n",
       "  }\n",
       "  th {\n",
       "    text-align: left;\n",
       "  }\n",
       "</style><div class='table-result-container'><table class='table-result'><thead style='background-color: white'><tr><th>release_id</th></tr></thead><tbody><tr><td>0</td></tr></tbody></table></div>"
      ]
     },
     "metadata": {
      "application/vnd.databricks.v1+output": {
       "addedWidgets": {},
       "aggData": [],
       "aggError": "",
       "aggOverflow": false,
       "aggSchema": [],
       "aggSeriesLimitReached": false,
       "aggType": "",
       "arguments": {},
       "columnCustomDisplayInfos": {},
       "data": [
        [
         0
        ]
       ],
       "datasetInfos": [],
       "dbfsResultPath": null,
       "isJsonSchema": true,
       "metadata": {},
       "overflow": false,
       "plotOptions": {
        "customPlotOptions": {},
        "displayType": "table",
        "pivotAggregation": null,
        "pivotColumns": null,
        "xColumns": null,
        "yColumns": null
       },
       "removedWidgets": [],
       "schema": [
        {
         "metadata": "{}",
         "name": "release_id",
         "type": "\"long\""
        }
       ],
       "type": "table"
      }
     },
     "output_type": "display_data"
    },
    {
     "output_type": "display_data",
     "data": {
      "text/html": [
       "<style scoped>\n",
       "  .table-result-container {\n",
       "    max-height: 300px;\n",
       "    overflow: auto;\n",
       "  }\n",
       "  table, th, td {\n",
       "    border: 1px solid black;\n",
       "    border-collapse: collapse;\n",
       "  }\n",
       "  th, td {\n",
       "    padding: 5px;\n",
       "  }\n",
       "  th {\n",
       "    text-align: left;\n",
       "  }\n",
       "</style><div class='table-result-container'><table class='table-result'><thead style='background-color: white'><tr><th>status</th></tr></thead><tbody><tr><td>0</td></tr></tbody></table></div>"
      ]
     },
     "metadata": {
      "application/vnd.databricks.v1+output": {
       "addedWidgets": {},
       "aggData": [],
       "aggError": "",
       "aggOverflow": false,
       "aggSchema": [],
       "aggSeriesLimitReached": false,
       "aggType": "",
       "arguments": {},
       "columnCustomDisplayInfos": {},
       "data": [
        [
         0
        ]
       ],
       "datasetInfos": [],
       "dbfsResultPath": null,
       "isJsonSchema": true,
       "metadata": {},
       "overflow": false,
       "plotOptions": {
        "customPlotOptions": {},
        "displayType": "table",
        "pivotAggregation": null,
        "pivotColumns": null,
        "xColumns": null,
        "yColumns": null
       },
       "removedWidgets": [],
       "schema": [
        {
         "metadata": "{}",
         "name": "status",
         "type": "\"long\""
        }
       ],
       "type": "table"
      }
     },
     "output_type": "display_data"
    },
    {
     "output_type": "display_data",
     "data": {
      "text/html": [
       "<style scoped>\n",
       "  .table-result-container {\n",
       "    max-height: 300px;\n",
       "    overflow: auto;\n",
       "  }\n",
       "  table, th, td {\n",
       "    border: 1px solid black;\n",
       "    border-collapse: collapse;\n",
       "  }\n",
       "  th, td {\n",
       "    padding: 5px;\n",
       "  }\n",
       "  th {\n",
       "    text-align: left;\n",
       "  }\n",
       "</style><div class='table-result-container'><table class='table-result'><thead style='background-color: white'><tr><th>title</th></tr></thead><tbody><tr><td>0</td></tr></tbody></table></div>"
      ]
     },
     "metadata": {
      "application/vnd.databricks.v1+output": {
       "addedWidgets": {},
       "aggData": [],
       "aggError": "",
       "aggOverflow": false,
       "aggSchema": [],
       "aggSeriesLimitReached": false,
       "aggType": "",
       "arguments": {},
       "columnCustomDisplayInfos": {},
       "data": [
        [
         0
        ]
       ],
       "datasetInfos": [],
       "dbfsResultPath": null,
       "isJsonSchema": true,
       "metadata": {},
       "overflow": false,
       "plotOptions": {
        "customPlotOptions": {},
        "displayType": "table",
        "pivotAggregation": null,
        "pivotColumns": null,
        "xColumns": null,
        "yColumns": null
       },
       "removedWidgets": [],
       "schema": [
        {
         "metadata": "{}",
         "name": "title",
         "type": "\"long\""
        }
       ],
       "type": "table"
      }
     },
     "output_type": "display_data"
    },
    {
     "output_type": "display_data",
     "data": {
      "text/html": [
       "<style scoped>\n",
       "  .table-result-container {\n",
       "    max-height: 300px;\n",
       "    overflow: auto;\n",
       "  }\n",
       "  table, th, td {\n",
       "    border: 1px solid black;\n",
       "    border-collapse: collapse;\n",
       "  }\n",
       "  th, td {\n",
       "    padding: 5px;\n",
       "  }\n",
       "  th {\n",
       "    text-align: left;\n",
       "  }\n",
       "</style><div class='table-result-container'><table class='table-result'><thead style='background-color: white'><tr><th>artist_id</th></tr></thead><tbody><tr><td>0</td></tr></tbody></table></div>"
      ]
     },
     "metadata": {
      "application/vnd.databricks.v1+output": {
       "addedWidgets": {},
       "aggData": [],
       "aggError": "",
       "aggOverflow": false,
       "aggSchema": [],
       "aggSeriesLimitReached": false,
       "aggType": "",
       "arguments": {},
       "columnCustomDisplayInfos": {},
       "data": [
        [
         0
        ]
       ],
       "datasetInfos": [],
       "dbfsResultPath": null,
       "isJsonSchema": true,
       "metadata": {},
       "overflow": false,
       "plotOptions": {
        "customPlotOptions": {},
        "displayType": "table",
        "pivotAggregation": null,
        "pivotColumns": null,
        "xColumns": null,
        "yColumns": null
       },
       "removedWidgets": [],
       "schema": [
        {
         "metadata": "{}",
         "name": "artist_id",
         "type": "\"long\""
        }
       ],
       "type": "table"
      }
     },
     "output_type": "display_data"
    },
    {
     "output_type": "display_data",
     "data": {
      "text/html": [
       "<style scoped>\n",
       "  .table-result-container {\n",
       "    max-height: 300px;\n",
       "    overflow: auto;\n",
       "  }\n",
       "  table, th, td {\n",
       "    border: 1px solid black;\n",
       "    border-collapse: collapse;\n",
       "  }\n",
       "  th, td {\n",
       "    padding: 5px;\n",
       "  }\n",
       "  th {\n",
       "    text-align: left;\n",
       "  }\n",
       "</style><div class='table-result-container'><table class='table-result'><thead style='background-color: white'><tr><th>artist_name</th></tr></thead><tbody><tr><td>0</td></tr></tbody></table></div>"
      ]
     },
     "metadata": {
      "application/vnd.databricks.v1+output": {
       "addedWidgets": {},
       "aggData": [],
       "aggError": "",
       "aggOverflow": false,
       "aggSchema": [],
       "aggSeriesLimitReached": false,
       "aggType": "",
       "arguments": {},
       "columnCustomDisplayInfos": {},
       "data": [
        [
         0
        ]
       ],
       "datasetInfos": [],
       "dbfsResultPath": null,
       "isJsonSchema": true,
       "metadata": {},
       "overflow": false,
       "plotOptions": {
        "customPlotOptions": {},
        "displayType": "table",
        "pivotAggregation": null,
        "pivotColumns": null,
        "xColumns": null,
        "yColumns": null
       },
       "removedWidgets": [],
       "schema": [
        {
         "metadata": "{}",
         "name": "artist_name",
         "type": "\"long\""
        }
       ],
       "type": "table"
      }
     },
     "output_type": "display_data"
    },
    {
     "output_type": "display_data",
     "data": {
      "text/html": [
       "<style scoped>\n",
       "  .table-result-container {\n",
       "    max-height: 300px;\n",
       "    overflow: auto;\n",
       "  }\n",
       "  table, th, td {\n",
       "    border: 1px solid black;\n",
       "    border-collapse: collapse;\n",
       "  }\n",
       "  th, td {\n",
       "    padding: 5px;\n",
       "  }\n",
       "  th {\n",
       "    text-align: left;\n",
       "  }\n",
       "</style><div class='table-result-container'><table class='table-result'><thead style='background-color: white'><tr><th>label_name</th></tr></thead><tbody><tr><td>1</td></tr></tbody></table></div>"
      ]
     },
     "metadata": {
      "application/vnd.databricks.v1+output": {
       "addedWidgets": {},
       "aggData": [],
       "aggError": "",
       "aggOverflow": false,
       "aggSchema": [],
       "aggSeriesLimitReached": false,
       "aggType": "",
       "arguments": {},
       "columnCustomDisplayInfos": {},
       "data": [
        [
         1
        ]
       ],
       "datasetInfos": [],
       "dbfsResultPath": null,
       "isJsonSchema": true,
       "metadata": {},
       "overflow": false,
       "plotOptions": {
        "customPlotOptions": {},
        "displayType": "table",
        "pivotAggregation": null,
        "pivotColumns": null,
        "xColumns": null,
        "yColumns": null
       },
       "removedWidgets": [],
       "schema": [
        {
         "metadata": "{}",
         "name": "label_name",
         "type": "\"long\""
        }
       ],
       "type": "table"
      }
     },
     "output_type": "display_data"
    },
    {
     "output_type": "display_data",
     "data": {
      "text/html": [
       "<style scoped>\n",
       "  .table-result-container {\n",
       "    max-height: 300px;\n",
       "    overflow: auto;\n",
       "  }\n",
       "  table, th, td {\n",
       "    border: 1px solid black;\n",
       "    border-collapse: collapse;\n",
       "  }\n",
       "  th, td {\n",
       "    padding: 5px;\n",
       "  }\n",
       "  th {\n",
       "    text-align: left;\n",
       "  }\n",
       "</style><div class='table-result-container'><table class='table-result'><thead style='background-color: white'><tr><th>label_id</th></tr></thead><tbody><tr><td>1</td></tr></tbody></table></div>"
      ]
     },
     "metadata": {
      "application/vnd.databricks.v1+output": {
       "addedWidgets": {},
       "aggData": [],
       "aggError": "",
       "aggOverflow": false,
       "aggSchema": [],
       "aggSeriesLimitReached": false,
       "aggType": "",
       "arguments": {},
       "columnCustomDisplayInfos": {},
       "data": [
        [
         1
        ]
       ],
       "datasetInfos": [],
       "dbfsResultPath": null,
       "isJsonSchema": true,
       "metadata": {},
       "overflow": false,
       "plotOptions": {
        "customPlotOptions": {},
        "displayType": "table",
        "pivotAggregation": null,
        "pivotColumns": null,
        "xColumns": null,
        "yColumns": null
       },
       "removedWidgets": [],
       "schema": [
        {
         "metadata": "{}",
         "name": "label_id",
         "type": "\"long\""
        }
       ],
       "type": "table"
      }
     },
     "output_type": "display_data"
    },
    {
     "output_type": "display_data",
     "data": {
      "text/html": [
       "<style scoped>\n",
       "  .table-result-container {\n",
       "    max-height: 300px;\n",
       "    overflow: auto;\n",
       "  }\n",
       "  table, th, td {\n",
       "    border: 1px solid black;\n",
       "    border-collapse: collapse;\n",
       "  }\n",
       "  th, td {\n",
       "    padding: 5px;\n",
       "  }\n",
       "  th {\n",
       "    text-align: left;\n",
       "  }\n",
       "</style><div class='table-result-container'><table class='table-result'><thead style='background-color: white'><tr><th>format</th></tr></thead><tbody><tr><td>0</td></tr></tbody></table></div>"
      ]
     },
     "metadata": {
      "application/vnd.databricks.v1+output": {
       "addedWidgets": {},
       "aggData": [],
       "aggError": "",
       "aggOverflow": false,
       "aggSchema": [],
       "aggSeriesLimitReached": false,
       "aggType": "",
       "arguments": {},
       "columnCustomDisplayInfos": {},
       "data": [
        [
         0
        ]
       ],
       "datasetInfos": [],
       "dbfsResultPath": null,
       "isJsonSchema": true,
       "metadata": {},
       "overflow": false,
       "plotOptions": {
        "customPlotOptions": {},
        "displayType": "table",
        "pivotAggregation": null,
        "pivotColumns": null,
        "xColumns": null,
        "yColumns": null
       },
       "removedWidgets": [],
       "schema": [
        {
         "metadata": "{}",
         "name": "format",
         "type": "\"long\""
        }
       ],
       "type": "table"
      }
     },
     "output_type": "display_data"
    },
    {
     "output_type": "display_data",
     "data": {
      "text/html": [
       "<style scoped>\n",
       "  .table-result-container {\n",
       "    max-height: 300px;\n",
       "    overflow: auto;\n",
       "  }\n",
       "  table, th, td {\n",
       "    border: 1px solid black;\n",
       "    border-collapse: collapse;\n",
       "  }\n",
       "  th, td {\n",
       "    padding: 5px;\n",
       "  }\n",
       "  th {\n",
       "    text-align: left;\n",
       "  }\n",
       "</style><div class='table-result-container'><table class='table-result'><thead style='background-color: white'><tr><th>genre</th></tr></thead><tbody><tr><td>2</td></tr></tbody></table></div>"
      ]
     },
     "metadata": {
      "application/vnd.databricks.v1+output": {
       "addedWidgets": {},
       "aggData": [],
       "aggError": "",
       "aggOverflow": false,
       "aggSchema": [],
       "aggSeriesLimitReached": false,
       "aggType": "",
       "arguments": {},
       "columnCustomDisplayInfos": {},
       "data": [
        [
         2
        ]
       ],
       "datasetInfos": [],
       "dbfsResultPath": null,
       "isJsonSchema": true,
       "metadata": {},
       "overflow": false,
       "plotOptions": {
        "customPlotOptions": {},
        "displayType": "table",
        "pivotAggregation": null,
        "pivotColumns": null,
        "xColumns": null,
        "yColumns": null
       },
       "removedWidgets": [],
       "schema": [
        {
         "metadata": "{}",
         "name": "genre",
         "type": "\"long\""
        }
       ],
       "type": "table"
      }
     },
     "output_type": "display_data"
    },
    {
     "output_type": "display_data",
     "data": {
      "text/html": [
       "<style scoped>\n",
       "  .table-result-container {\n",
       "    max-height: 300px;\n",
       "    overflow: auto;\n",
       "  }\n",
       "  table, th, td {\n",
       "    border: 1px solid black;\n",
       "    border-collapse: collapse;\n",
       "  }\n",
       "  th, td {\n",
       "    padding: 5px;\n",
       "  }\n",
       "  th {\n",
       "    text-align: left;\n",
       "  }\n",
       "</style><div class='table-result-container'><table class='table-result'><thead style='background-color: white'><tr><th>style</th></tr></thead><tbody><tr><td>2616198</td></tr></tbody></table></div>"
      ]
     },
     "metadata": {
      "application/vnd.databricks.v1+output": {
       "addedWidgets": {},
       "aggData": [],
       "aggError": "",
       "aggOverflow": false,
       "aggSchema": [],
       "aggSeriesLimitReached": false,
       "aggType": "",
       "arguments": {},
       "columnCustomDisplayInfos": {},
       "data": [
        [
         2616198
        ]
       ],
       "datasetInfos": [],
       "dbfsResultPath": null,
       "isJsonSchema": true,
       "metadata": {},
       "overflow": false,
       "plotOptions": {
        "customPlotOptions": {},
        "displayType": "table",
        "pivotAggregation": null,
        "pivotColumns": null,
        "xColumns": null,
        "yColumns": null
       },
       "removedWidgets": [],
       "schema": [
        {
         "metadata": "{}",
         "name": "style",
         "type": "\"long\""
        }
       ],
       "type": "table"
      }
     },
     "output_type": "display_data"
    },
    {
     "output_type": "display_data",
     "data": {
      "text/html": [
       "<style scoped>\n",
       "  .table-result-container {\n",
       "    max-height: 300px;\n",
       "    overflow: auto;\n",
       "  }\n",
       "  table, th, td {\n",
       "    border: 1px solid black;\n",
       "    border-collapse: collapse;\n",
       "  }\n",
       "  th, td {\n",
       "    padding: 5px;\n",
       "  }\n",
       "  th {\n",
       "    text-align: left;\n",
       "  }\n",
       "</style><div class='table-result-container'><table class='table-result'><thead style='background-color: white'><tr><th>country</th></tr></thead><tbody><tr><td>503086</td></tr></tbody></table></div>"
      ]
     },
     "metadata": {
      "application/vnd.databricks.v1+output": {
       "addedWidgets": {},
       "aggData": [],
       "aggError": "",
       "aggOverflow": false,
       "aggSchema": [],
       "aggSeriesLimitReached": false,
       "aggType": "",
       "arguments": {},
       "columnCustomDisplayInfos": {},
       "data": [
        [
         503086
        ]
       ],
       "datasetInfos": [],
       "dbfsResultPath": null,
       "isJsonSchema": true,
       "metadata": {},
       "overflow": false,
       "plotOptions": {
        "customPlotOptions": {},
        "displayType": "table",
        "pivotAggregation": null,
        "pivotColumns": null,
        "xColumns": null,
        "yColumns": null
       },
       "removedWidgets": [],
       "schema": [
        {
         "metadata": "{}",
         "name": "country",
         "type": "\"long\""
        }
       ],
       "type": "table"
      }
     },
     "output_type": "display_data"
    },
    {
     "output_type": "display_data",
     "data": {
      "text/html": [
       "<style scoped>\n",
       "  .table-result-container {\n",
       "    max-height: 300px;\n",
       "    overflow: auto;\n",
       "  }\n",
       "  table, th, td {\n",
       "    border: 1px solid black;\n",
       "    border-collapse: collapse;\n",
       "  }\n",
       "  th, td {\n",
       "    padding: 5px;\n",
       "  }\n",
       "  th {\n",
       "    text-align: left;\n",
       "  }\n",
       "</style><div class='table-result-container'><table class='table-result'><thead style='background-color: white'><tr><th>release_date</th></tr></thead><tbody><tr><td>2173336</td></tr></tbody></table></div>"
      ]
     },
     "metadata": {
      "application/vnd.databricks.v1+output": {
       "addedWidgets": {},
       "aggData": [],
       "aggError": "",
       "aggOverflow": false,
       "aggSchema": [],
       "aggSeriesLimitReached": false,
       "aggType": "",
       "arguments": {},
       "columnCustomDisplayInfos": {},
       "data": [
        [
         2173336
        ]
       ],
       "datasetInfos": [],
       "dbfsResultPath": null,
       "isJsonSchema": true,
       "metadata": {},
       "overflow": false,
       "plotOptions": {
        "customPlotOptions": {},
        "displayType": "table",
        "pivotAggregation": null,
        "pivotColumns": null,
        "xColumns": null,
        "yColumns": null
       },
       "removedWidgets": [],
       "schema": [
        {
         "metadata": "{}",
         "name": "release_date",
         "type": "\"long\""
        }
       ],
       "type": "table"
      }
     },
     "output_type": "display_data"
    },
    {
     "output_type": "display_data",
     "data": {
      "text/html": [
       "<style scoped>\n",
       "  .table-result-container {\n",
       "    max-height: 300px;\n",
       "    overflow: auto;\n",
       "  }\n",
       "  table, th, td {\n",
       "    border: 1px solid black;\n",
       "    border-collapse: collapse;\n",
       "  }\n",
       "  th, td {\n",
       "    padding: 5px;\n",
       "  }\n",
       "  th {\n",
       "    text-align: left;\n",
       "  }\n",
       "</style><div class='table-result-container'><table class='table-result'><thead style='background-color: white'><tr><th>notes</th></tr></thead><tbody><tr><td>6964173</td></tr></tbody></table></div>"
      ]
     },
     "metadata": {
      "application/vnd.databricks.v1+output": {
       "addedWidgets": {},
       "aggData": [],
       "aggError": "",
       "aggOverflow": false,
       "aggSchema": [],
       "aggSeriesLimitReached": false,
       "aggType": "",
       "arguments": {},
       "columnCustomDisplayInfos": {},
       "data": [
        [
         6964173
        ]
       ],
       "datasetInfos": [],
       "dbfsResultPath": null,
       "isJsonSchema": true,
       "metadata": {},
       "overflow": false,
       "plotOptions": {
        "customPlotOptions": {},
        "displayType": "table",
        "pivotAggregation": null,
        "pivotColumns": null,
        "xColumns": null,
        "yColumns": null
       },
       "removedWidgets": [],
       "schema": [
        {
         "metadata": "{}",
         "name": "notes",
         "type": "\"long\""
        }
       ],
       "type": "table"
      }
     },
     "output_type": "display_data"
    },
    {
     "output_type": "display_data",
     "data": {
      "text/html": [
       "<style scoped>\n",
       "  .table-result-container {\n",
       "    max-height: 300px;\n",
       "    overflow: auto;\n",
       "  }\n",
       "  table, th, td {\n",
       "    border: 1px solid black;\n",
       "    border-collapse: collapse;\n",
       "  }\n",
       "  th, td {\n",
       "    padding: 5px;\n",
       "  }\n",
       "  th {\n",
       "    text-align: left;\n",
       "  }\n",
       "</style><div class='table-result-container'><table class='table-result'><thead style='background-color: white'><tr><th>master_id</th></tr></thead><tbody><tr><td>14118736</td></tr></tbody></table></div>"
      ]
     },
     "metadata": {
      "application/vnd.databricks.v1+output": {
       "addedWidgets": {},
       "aggData": [],
       "aggError": "",
       "aggOverflow": false,
       "aggSchema": [],
       "aggSeriesLimitReached": false,
       "aggType": "",
       "arguments": {},
       "columnCustomDisplayInfos": {},
       "data": [
        [
         14118736
        ]
       ],
       "datasetInfos": [],
       "dbfsResultPath": null,
       "isJsonSchema": true,
       "metadata": {},
       "overflow": false,
       "plotOptions": {
        "customPlotOptions": {},
        "displayType": "table",
        "pivotAggregation": null,
        "pivotColumns": null,
        "xColumns": null,
        "yColumns": null
       },
       "removedWidgets": [],
       "schema": [
        {
         "metadata": "{}",
         "name": "master_id",
         "type": "\"long\""
        }
       ],
       "type": "table"
      }
     },
     "output_type": "display_data"
    },
    {
     "output_type": "display_data",
     "data": {
      "text/html": [
       "<style scoped>\n",
       "  .table-result-container {\n",
       "    max-height: 300px;\n",
       "    overflow: auto;\n",
       "  }\n",
       "  table, th, td {\n",
       "    border: 1px solid black;\n",
       "    border-collapse: collapse;\n",
       "  }\n",
       "  th, td {\n",
       "    padding: 5px;\n",
       "  }\n",
       "  th {\n",
       "    text-align: left;\n",
       "  }\n",
       "</style><div class='table-result-container'><table class='table-result'><thead style='background-color: white'><tr><th>video_url</th></tr></thead><tbody><tr><td>8613166</td></tr></tbody></table></div>"
      ]
     },
     "metadata": {
      "application/vnd.databricks.v1+output": {
       "addedWidgets": {},
       "aggData": [],
       "aggError": "",
       "aggOverflow": false,
       "aggSchema": [],
       "aggSeriesLimitReached": false,
       "aggType": "",
       "arguments": {},
       "columnCustomDisplayInfos": {},
       "data": [
        [
         8613166
        ]
       ],
       "datasetInfos": [],
       "dbfsResultPath": null,
       "isJsonSchema": true,
       "metadata": {},
       "overflow": false,
       "plotOptions": {
        "customPlotOptions": {},
        "displayType": "table",
        "pivotAggregation": null,
        "pivotColumns": null,
        "xColumns": null,
        "yColumns": null
       },
       "removedWidgets": [],
       "schema": [
        {
         "metadata": "{}",
         "name": "video_url",
         "type": "\"long\""
        }
       ],
       "type": "table"
      }
     },
     "output_type": "display_data"
    },
    {
     "output_type": "display_data",
     "data": {
      "text/html": [
       "<style scoped>\n",
       "  .table-result-container {\n",
       "    max-height: 300px;\n",
       "    overflow: auto;\n",
       "  }\n",
       "  table, th, td {\n",
       "    border: 1px solid black;\n",
       "    border-collapse: collapse;\n",
       "  }\n",
       "  th, td {\n",
       "    padding: 5px;\n",
       "  }\n",
       "  th {\n",
       "    text-align: left;\n",
       "  }\n",
       "</style><div class='table-result-container'><table class='table-result'><thead style='background-color: white'><tr><th>company_name</th></tr></thead><tbody><tr><td>8666021</td></tr></tbody></table></div>"
      ]
     },
     "metadata": {
      "application/vnd.databricks.v1+output": {
       "addedWidgets": {},
       "aggData": [],
       "aggError": "",
       "aggOverflow": false,
       "aggSchema": [],
       "aggSeriesLimitReached": false,
       "aggType": "",
       "arguments": {},
       "columnCustomDisplayInfos": {},
       "data": [
        [
         8666021
        ]
       ],
       "datasetInfos": [],
       "dbfsResultPath": null,
       "isJsonSchema": true,
       "metadata": {},
       "overflow": false,
       "plotOptions": {
        "customPlotOptions": {},
        "displayType": "table",
        "pivotAggregation": null,
        "pivotColumns": null,
        "xColumns": null,
        "yColumns": null
       },
       "removedWidgets": [],
       "schema": [
        {
         "metadata": "{}",
         "name": "company_name",
         "type": "\"long\""
        }
       ],
       "type": "table"
      }
     },
     "output_type": "display_data"
    }
   ],
   "source": [
    "for c in df_parquet.columns:\n",
    "    null = df_parquet.select(count(when(col(c).isNull(), c)).alias(c))\n",
    "    display(null)"
   ]
  },
  {
   "cell_type": "code",
   "execution_count": 0,
   "metadata": {
    "application/vnd.databricks.v1+cell": {
     "cellMetadata": {
      "byteLimit": 2048000,
      "rowLimit": 10000
     },
     "collapsed": true,
     "inputWidgets": {},
     "nuid": "5344622e-c3ad-4791-814f-67c11f24c5eb",
     "showTitle": false,
     "tableResultSettingsMap": {},
     "title": ""
    }
   },
   "outputs": [],
   "source": [
    "df_null = df_parquet.dropna(how =\"all\")\n",
    "df_drop = df_null.dropDuplicates()\n"
   ]
  },
  {
   "cell_type": "code",
   "execution_count": 0,
   "metadata": {
    "application/vnd.databricks.v1+cell": {
     "cellMetadata": {
      "byteLimit": 2048000,
      "rowLimit": 10000
     },
     "collapsed": true,
     "inputWidgets": {},
     "nuid": "39e6384e-a7df-470a-ae27-9526c85052ec",
     "showTitle": false,
     "tableResultSettingsMap": {},
     "title": ""
    }
   },
   "outputs": [],
   "source": [
    "for c in df_drop.columns:\n",
    "    if dict(df_drop.dtypes)[c] in ['int', 'bigint', 'double', 'float', 'decimal']:\n",
    "        df_drop = df_drop.fillna({c: 0})\n",
    "    else:\n",
    "        df_drop = df_drop.fillna({c: \"desconhecido\"})"
   ]
  },
  {
   "cell_type": "code",
   "execution_count": 0,
   "metadata": {
    "application/vnd.databricks.v1+cell": {
     "cellMetadata": {
      "byteLimit": 2048000,
      "rowLimit": 10000
     },
     "inputWidgets": {},
     "nuid": "415a79d0-0557-41ed-8c00-f2a3f396eb52",
     "showTitle": false,
     "tableResultSettingsMap": {},
     "title": ""
    }
   },
   "outputs": [],
   "source": [
    "df_string = df_drop.withColumn(\"release_date\", col(\"release_date\").cast(\"string\"))"
   ]
  },
  {
   "cell_type": "code",
   "execution_count": 0,
   "metadata": {
    "application/vnd.databricks.v1+cell": {
     "cellMetadata": {
      "byteLimit": 2048000,
      "rowLimit": 10000
     },
     "collapsed": true,
     "inputWidgets": {},
     "nuid": "2a44fe0b-7177-4c37-b204-8711b04a66da",
     "showTitle": false,
     "tableResultSettingsMap": {},
     "title": ""
    }
   },
   "outputs": [],
   "source": [
    "\n",
    "df_date = df_string.withColumn(\"release_date\",when(col(\"release_date\") == \"0\", lit(\"1900-01-01\")).otherwise(concat(col(\"release_date\").cast(\"string\"), lit(\"-01-01\")))).withColumn(\"release_date\", to_date(col(\"release_date\"), \"yyyy-MM-dd\"))\n"
   ]
  },
  {
   "cell_type": "code",
   "execution_count": 0,
   "metadata": {
    "application/vnd.databricks.v1+cell": {
     "cellMetadata": {
      "byteLimit": 2048000,
      "rowLimit": 10000
     },
     "collapsed": true,
     "inputWidgets": {},
     "nuid": "91dc67bb-5de4-475e-89cf-35e437e174a4",
     "showTitle": false,
     "tableResultSettingsMap": {},
     "title": ""
    }
   },
   "outputs": [
    {
     "output_type": "display_data",
     "data": {
      "text/html": [
       "<style scoped>\n",
       "  .table-result-container {\n",
       "    max-height: 300px;\n",
       "    overflow: auto;\n",
       "  }\n",
       "  table, th, td {\n",
       "    border: 1px solid black;\n",
       "    border-collapse: collapse;\n",
       "  }\n",
       "  th, td {\n",
       "    padding: 5px;\n",
       "  }\n",
       "  th {\n",
       "    text-align: left;\n",
       "  }\n",
       "</style><div class='table-result-container'><table class='table-result'><thead style='background-color: white'><tr><th>id</th></tr></thead><tbody><tr><td>0</td></tr></tbody></table></div>"
      ]
     },
     "metadata": {
      "application/vnd.databricks.v1+output": {
       "addedWidgets": {},
       "aggData": [],
       "aggError": "",
       "aggOverflow": false,
       "aggSchema": [],
       "aggSeriesLimitReached": false,
       "aggType": "",
       "arguments": {},
       "columnCustomDisplayInfos": {},
       "data": [
        [
         0
        ]
       ],
       "datasetInfos": [],
       "dbfsResultPath": null,
       "isJsonSchema": true,
       "metadata": {},
       "overflow": false,
       "plotOptions": {
        "customPlotOptions": {},
        "displayType": "table",
        "pivotAggregation": null,
        "pivotColumns": null,
        "xColumns": null,
        "yColumns": null
       },
       "removedWidgets": [],
       "schema": [
        {
         "metadata": "{}",
         "name": "id",
         "type": "\"long\""
        }
       ],
       "type": "table"
      }
     },
     "output_type": "display_data"
    },
    {
     "output_type": "display_data",
     "data": {
      "text/html": [
       "<style scoped>\n",
       "  .table-result-container {\n",
       "    max-height: 300px;\n",
       "    overflow: auto;\n",
       "  }\n",
       "  table, th, td {\n",
       "    border: 1px solid black;\n",
       "    border-collapse: collapse;\n",
       "  }\n",
       "  th, td {\n",
       "    padding: 5px;\n",
       "  }\n",
       "  th {\n",
       "    text-align: left;\n",
       "  }\n",
       "</style><div class='table-result-container'><table class='table-result'><thead style='background-color: white'><tr><th>release_id</th></tr></thead><tbody><tr><td>0</td></tr></tbody></table></div>"
      ]
     },
     "metadata": {
      "application/vnd.databricks.v1+output": {
       "addedWidgets": {},
       "aggData": [],
       "aggError": "",
       "aggOverflow": false,
       "aggSchema": [],
       "aggSeriesLimitReached": false,
       "aggType": "",
       "arguments": {},
       "columnCustomDisplayInfos": {},
       "data": [
        [
         0
        ]
       ],
       "datasetInfos": [],
       "dbfsResultPath": null,
       "isJsonSchema": true,
       "metadata": {},
       "overflow": false,
       "plotOptions": {
        "customPlotOptions": {},
        "displayType": "table",
        "pivotAggregation": null,
        "pivotColumns": null,
        "xColumns": null,
        "yColumns": null
       },
       "removedWidgets": [],
       "schema": [
        {
         "metadata": "{}",
         "name": "release_id",
         "type": "\"long\""
        }
       ],
       "type": "table"
      }
     },
     "output_type": "display_data"
    },
    {
     "output_type": "display_data",
     "data": {
      "text/html": [
       "<style scoped>\n",
       "  .table-result-container {\n",
       "    max-height: 300px;\n",
       "    overflow: auto;\n",
       "  }\n",
       "  table, th, td {\n",
       "    border: 1px solid black;\n",
       "    border-collapse: collapse;\n",
       "  }\n",
       "  th, td {\n",
       "    padding: 5px;\n",
       "  }\n",
       "  th {\n",
       "    text-align: left;\n",
       "  }\n",
       "</style><div class='table-result-container'><table class='table-result'><thead style='background-color: white'><tr><th>status</th></tr></thead><tbody><tr><td>0</td></tr></tbody></table></div>"
      ]
     },
     "metadata": {
      "application/vnd.databricks.v1+output": {
       "addedWidgets": {},
       "aggData": [],
       "aggError": "",
       "aggOverflow": false,
       "aggSchema": [],
       "aggSeriesLimitReached": false,
       "aggType": "",
       "arguments": {},
       "columnCustomDisplayInfos": {},
       "data": [
        [
         0
        ]
       ],
       "datasetInfos": [],
       "dbfsResultPath": null,
       "isJsonSchema": true,
       "metadata": {},
       "overflow": false,
       "plotOptions": {
        "customPlotOptions": {},
        "displayType": "table",
        "pivotAggregation": null,
        "pivotColumns": null,
        "xColumns": null,
        "yColumns": null
       },
       "removedWidgets": [],
       "schema": [
        {
         "metadata": "{}",
         "name": "status",
         "type": "\"long\""
        }
       ],
       "type": "table"
      }
     },
     "output_type": "display_data"
    },
    {
     "output_type": "display_data",
     "data": {
      "text/html": [
       "<style scoped>\n",
       "  .table-result-container {\n",
       "    max-height: 300px;\n",
       "    overflow: auto;\n",
       "  }\n",
       "  table, th, td {\n",
       "    border: 1px solid black;\n",
       "    border-collapse: collapse;\n",
       "  }\n",
       "  th, td {\n",
       "    padding: 5px;\n",
       "  }\n",
       "  th {\n",
       "    text-align: left;\n",
       "  }\n",
       "</style><div class='table-result-container'><table class='table-result'><thead style='background-color: white'><tr><th>title</th></tr></thead><tbody><tr><td>0</td></tr></tbody></table></div>"
      ]
     },
     "metadata": {
      "application/vnd.databricks.v1+output": {
       "addedWidgets": {},
       "aggData": [],
       "aggError": "",
       "aggOverflow": false,
       "aggSchema": [],
       "aggSeriesLimitReached": false,
       "aggType": "",
       "arguments": {},
       "columnCustomDisplayInfos": {},
       "data": [
        [
         0
        ]
       ],
       "datasetInfos": [],
       "dbfsResultPath": null,
       "isJsonSchema": true,
       "metadata": {},
       "overflow": false,
       "plotOptions": {
        "customPlotOptions": {},
        "displayType": "table",
        "pivotAggregation": null,
        "pivotColumns": null,
        "xColumns": null,
        "yColumns": null
       },
       "removedWidgets": [],
       "schema": [
        {
         "metadata": "{}",
         "name": "title",
         "type": "\"long\""
        }
       ],
       "type": "table"
      }
     },
     "output_type": "display_data"
    },
    {
     "output_type": "display_data",
     "data": {
      "text/html": [
       "<style scoped>\n",
       "  .table-result-container {\n",
       "    max-height: 300px;\n",
       "    overflow: auto;\n",
       "  }\n",
       "  table, th, td {\n",
       "    border: 1px solid black;\n",
       "    border-collapse: collapse;\n",
       "  }\n",
       "  th, td {\n",
       "    padding: 5px;\n",
       "  }\n",
       "  th {\n",
       "    text-align: left;\n",
       "  }\n",
       "</style><div class='table-result-container'><table class='table-result'><thead style='background-color: white'><tr><th>artist_id</th></tr></thead><tbody><tr><td>0</td></tr></tbody></table></div>"
      ]
     },
     "metadata": {
      "application/vnd.databricks.v1+output": {
       "addedWidgets": {},
       "aggData": [],
       "aggError": "",
       "aggOverflow": false,
       "aggSchema": [],
       "aggSeriesLimitReached": false,
       "aggType": "",
       "arguments": {},
       "columnCustomDisplayInfos": {},
       "data": [
        [
         0
        ]
       ],
       "datasetInfos": [],
       "dbfsResultPath": null,
       "isJsonSchema": true,
       "metadata": {},
       "overflow": false,
       "plotOptions": {
        "customPlotOptions": {},
        "displayType": "table",
        "pivotAggregation": null,
        "pivotColumns": null,
        "xColumns": null,
        "yColumns": null
       },
       "removedWidgets": [],
       "schema": [
        {
         "metadata": "{}",
         "name": "artist_id",
         "type": "\"long\""
        }
       ],
       "type": "table"
      }
     },
     "output_type": "display_data"
    },
    {
     "output_type": "display_data",
     "data": {
      "text/html": [
       "<style scoped>\n",
       "  .table-result-container {\n",
       "    max-height: 300px;\n",
       "    overflow: auto;\n",
       "  }\n",
       "  table, th, td {\n",
       "    border: 1px solid black;\n",
       "    border-collapse: collapse;\n",
       "  }\n",
       "  th, td {\n",
       "    padding: 5px;\n",
       "  }\n",
       "  th {\n",
       "    text-align: left;\n",
       "  }\n",
       "</style><div class='table-result-container'><table class='table-result'><thead style='background-color: white'><tr><th>artist_name</th></tr></thead><tbody><tr><td>0</td></tr></tbody></table></div>"
      ]
     },
     "metadata": {
      "application/vnd.databricks.v1+output": {
       "addedWidgets": {},
       "aggData": [],
       "aggError": "",
       "aggOverflow": false,
       "aggSchema": [],
       "aggSeriesLimitReached": false,
       "aggType": "",
       "arguments": {},
       "columnCustomDisplayInfos": {},
       "data": [
        [
         0
        ]
       ],
       "datasetInfos": [],
       "dbfsResultPath": null,
       "isJsonSchema": true,
       "metadata": {},
       "overflow": false,
       "plotOptions": {
        "customPlotOptions": {},
        "displayType": "table",
        "pivotAggregation": null,
        "pivotColumns": null,
        "xColumns": null,
        "yColumns": null
       },
       "removedWidgets": [],
       "schema": [
        {
         "metadata": "{}",
         "name": "artist_name",
         "type": "\"long\""
        }
       ],
       "type": "table"
      }
     },
     "output_type": "display_data"
    },
    {
     "output_type": "display_data",
     "data": {
      "text/html": [
       "<style scoped>\n",
       "  .table-result-container {\n",
       "    max-height: 300px;\n",
       "    overflow: auto;\n",
       "  }\n",
       "  table, th, td {\n",
       "    border: 1px solid black;\n",
       "    border-collapse: collapse;\n",
       "  }\n",
       "  th, td {\n",
       "    padding: 5px;\n",
       "  }\n",
       "  th {\n",
       "    text-align: left;\n",
       "  }\n",
       "</style><div class='table-result-container'><table class='table-result'><thead style='background-color: white'><tr><th>label_name</th></tr></thead><tbody><tr><td>0</td></tr></tbody></table></div>"
      ]
     },
     "metadata": {
      "application/vnd.databricks.v1+output": {
       "addedWidgets": {},
       "aggData": [],
       "aggError": "",
       "aggOverflow": false,
       "aggSchema": [],
       "aggSeriesLimitReached": false,
       "aggType": "",
       "arguments": {},
       "columnCustomDisplayInfos": {},
       "data": [
        [
         0
        ]
       ],
       "datasetInfos": [],
       "dbfsResultPath": null,
       "isJsonSchema": true,
       "metadata": {},
       "overflow": false,
       "plotOptions": {
        "customPlotOptions": {},
        "displayType": "table",
        "pivotAggregation": null,
        "pivotColumns": null,
        "xColumns": null,
        "yColumns": null
       },
       "removedWidgets": [],
       "schema": [
        {
         "metadata": "{}",
         "name": "label_name",
         "type": "\"long\""
        }
       ],
       "type": "table"
      }
     },
     "output_type": "display_data"
    },
    {
     "output_type": "display_data",
     "data": {
      "text/html": [
       "<style scoped>\n",
       "  .table-result-container {\n",
       "    max-height: 300px;\n",
       "    overflow: auto;\n",
       "  }\n",
       "  table, th, td {\n",
       "    border: 1px solid black;\n",
       "    border-collapse: collapse;\n",
       "  }\n",
       "  th, td {\n",
       "    padding: 5px;\n",
       "  }\n",
       "  th {\n",
       "    text-align: left;\n",
       "  }\n",
       "</style><div class='table-result-container'><table class='table-result'><thead style='background-color: white'><tr><th>label_id</th></tr></thead><tbody><tr><td>0</td></tr></tbody></table></div>"
      ]
     },
     "metadata": {
      "application/vnd.databricks.v1+output": {
       "addedWidgets": {},
       "aggData": [],
       "aggError": "",
       "aggOverflow": false,
       "aggSchema": [],
       "aggSeriesLimitReached": false,
       "aggType": "",
       "arguments": {},
       "columnCustomDisplayInfos": {},
       "data": [
        [
         0
        ]
       ],
       "datasetInfos": [],
       "dbfsResultPath": null,
       "isJsonSchema": true,
       "metadata": {},
       "overflow": false,
       "plotOptions": {
        "customPlotOptions": {},
        "displayType": "table",
        "pivotAggregation": null,
        "pivotColumns": null,
        "xColumns": null,
        "yColumns": null
       },
       "removedWidgets": [],
       "schema": [
        {
         "metadata": "{}",
         "name": "label_id",
         "type": "\"long\""
        }
       ],
       "type": "table"
      }
     },
     "output_type": "display_data"
    },
    {
     "output_type": "display_data",
     "data": {
      "text/html": [
       "<style scoped>\n",
       "  .table-result-container {\n",
       "    max-height: 300px;\n",
       "    overflow: auto;\n",
       "  }\n",
       "  table, th, td {\n",
       "    border: 1px solid black;\n",
       "    border-collapse: collapse;\n",
       "  }\n",
       "  th, td {\n",
       "    padding: 5px;\n",
       "  }\n",
       "  th {\n",
       "    text-align: left;\n",
       "  }\n",
       "</style><div class='table-result-container'><table class='table-result'><thead style='background-color: white'><tr><th>format</th></tr></thead><tbody><tr><td>0</td></tr></tbody></table></div>"
      ]
     },
     "metadata": {
      "application/vnd.databricks.v1+output": {
       "addedWidgets": {},
       "aggData": [],
       "aggError": "",
       "aggOverflow": false,
       "aggSchema": [],
       "aggSeriesLimitReached": false,
       "aggType": "",
       "arguments": {},
       "columnCustomDisplayInfos": {},
       "data": [
        [
         0
        ]
       ],
       "datasetInfos": [],
       "dbfsResultPath": null,
       "isJsonSchema": true,
       "metadata": {},
       "overflow": false,
       "plotOptions": {
        "customPlotOptions": {},
        "displayType": "table",
        "pivotAggregation": null,
        "pivotColumns": null,
        "xColumns": null,
        "yColumns": null
       },
       "removedWidgets": [],
       "schema": [
        {
         "metadata": "{}",
         "name": "format",
         "type": "\"long\""
        }
       ],
       "type": "table"
      }
     },
     "output_type": "display_data"
    },
    {
     "output_type": "display_data",
     "data": {
      "text/html": [
       "<style scoped>\n",
       "  .table-result-container {\n",
       "    max-height: 300px;\n",
       "    overflow: auto;\n",
       "  }\n",
       "  table, th, td {\n",
       "    border: 1px solid black;\n",
       "    border-collapse: collapse;\n",
       "  }\n",
       "  th, td {\n",
       "    padding: 5px;\n",
       "  }\n",
       "  th {\n",
       "    text-align: left;\n",
       "  }\n",
       "</style><div class='table-result-container'><table class='table-result'><thead style='background-color: white'><tr><th>genre</th></tr></thead><tbody><tr><td>0</td></tr></tbody></table></div>"
      ]
     },
     "metadata": {
      "application/vnd.databricks.v1+output": {
       "addedWidgets": {},
       "aggData": [],
       "aggError": "",
       "aggOverflow": false,
       "aggSchema": [],
       "aggSeriesLimitReached": false,
       "aggType": "",
       "arguments": {},
       "columnCustomDisplayInfos": {},
       "data": [
        [
         0
        ]
       ],
       "datasetInfos": [],
       "dbfsResultPath": null,
       "isJsonSchema": true,
       "metadata": {},
       "overflow": false,
       "plotOptions": {
        "customPlotOptions": {},
        "displayType": "table",
        "pivotAggregation": null,
        "pivotColumns": null,
        "xColumns": null,
        "yColumns": null
       },
       "removedWidgets": [],
       "schema": [
        {
         "metadata": "{}",
         "name": "genre",
         "type": "\"long\""
        }
       ],
       "type": "table"
      }
     },
     "output_type": "display_data"
    },
    {
     "output_type": "display_data",
     "data": {
      "text/html": [
       "<style scoped>\n",
       "  .table-result-container {\n",
       "    max-height: 300px;\n",
       "    overflow: auto;\n",
       "  }\n",
       "  table, th, td {\n",
       "    border: 1px solid black;\n",
       "    border-collapse: collapse;\n",
       "  }\n",
       "  th, td {\n",
       "    padding: 5px;\n",
       "  }\n",
       "  th {\n",
       "    text-align: left;\n",
       "  }\n",
       "</style><div class='table-result-container'><table class='table-result'><thead style='background-color: white'><tr><th>style</th></tr></thead><tbody><tr><td>0</td></tr></tbody></table></div>"
      ]
     },
     "metadata": {
      "application/vnd.databricks.v1+output": {
       "addedWidgets": {},
       "aggData": [],
       "aggError": "",
       "aggOverflow": false,
       "aggSchema": [],
       "aggSeriesLimitReached": false,
       "aggType": "",
       "arguments": {},
       "columnCustomDisplayInfos": {},
       "data": [
        [
         0
        ]
       ],
       "datasetInfos": [],
       "dbfsResultPath": null,
       "isJsonSchema": true,
       "metadata": {},
       "overflow": false,
       "plotOptions": {
        "customPlotOptions": {},
        "displayType": "table",
        "pivotAggregation": null,
        "pivotColumns": null,
        "xColumns": null,
        "yColumns": null
       },
       "removedWidgets": [],
       "schema": [
        {
         "metadata": "{}",
         "name": "style",
         "type": "\"long\""
        }
       ],
       "type": "table"
      }
     },
     "output_type": "display_data"
    },
    {
     "output_type": "display_data",
     "data": {
      "text/html": [
       "<style scoped>\n",
       "  .table-result-container {\n",
       "    max-height: 300px;\n",
       "    overflow: auto;\n",
       "  }\n",
       "  table, th, td {\n",
       "    border: 1px solid black;\n",
       "    border-collapse: collapse;\n",
       "  }\n",
       "  th, td {\n",
       "    padding: 5px;\n",
       "  }\n",
       "  th {\n",
       "    text-align: left;\n",
       "  }\n",
       "</style><div class='table-result-container'><table class='table-result'><thead style='background-color: white'><tr><th>country</th></tr></thead><tbody><tr><td>0</td></tr></tbody></table></div>"
      ]
     },
     "metadata": {
      "application/vnd.databricks.v1+output": {
       "addedWidgets": {},
       "aggData": [],
       "aggError": "",
       "aggOverflow": false,
       "aggSchema": [],
       "aggSeriesLimitReached": false,
       "aggType": "",
       "arguments": {},
       "columnCustomDisplayInfos": {},
       "data": [
        [
         0
        ]
       ],
       "datasetInfos": [],
       "dbfsResultPath": null,
       "isJsonSchema": true,
       "metadata": {},
       "overflow": false,
       "plotOptions": {
        "customPlotOptions": {},
        "displayType": "table",
        "pivotAggregation": null,
        "pivotColumns": null,
        "xColumns": null,
        "yColumns": null
       },
       "removedWidgets": [],
       "schema": [
        {
         "metadata": "{}",
         "name": "country",
         "type": "\"long\""
        }
       ],
       "type": "table"
      }
     },
     "output_type": "display_data"
    },
    {
     "output_type": "display_data",
     "data": {
      "text/html": [
       "<style scoped>\n",
       "  .table-result-container {\n",
       "    max-height: 300px;\n",
       "    overflow: auto;\n",
       "  }\n",
       "  table, th, td {\n",
       "    border: 1px solid black;\n",
       "    border-collapse: collapse;\n",
       "  }\n",
       "  th, td {\n",
       "    padding: 5px;\n",
       "  }\n",
       "  th {\n",
       "    text-align: left;\n",
       "  }\n",
       "</style><div class='table-result-container'><table class='table-result'><thead style='background-color: white'><tr><th>release_date</th></tr></thead><tbody><tr><td>0</td></tr></tbody></table></div>"
      ]
     },
     "metadata": {
      "application/vnd.databricks.v1+output": {
       "addedWidgets": {},
       "aggData": [],
       "aggError": "",
       "aggOverflow": false,
       "aggSchema": [],
       "aggSeriesLimitReached": false,
       "aggType": "",
       "arguments": {},
       "columnCustomDisplayInfos": {},
       "data": [
        [
         0
        ]
       ],
       "datasetInfos": [],
       "dbfsResultPath": null,
       "isJsonSchema": true,
       "metadata": {},
       "overflow": false,
       "plotOptions": {
        "customPlotOptions": {},
        "displayType": "table",
        "pivotAggregation": null,
        "pivotColumns": null,
        "xColumns": null,
        "yColumns": null
       },
       "removedWidgets": [],
       "schema": [
        {
         "metadata": "{}",
         "name": "release_date",
         "type": "\"long\""
        }
       ],
       "type": "table"
      }
     },
     "output_type": "display_data"
    },
    {
     "output_type": "display_data",
     "data": {
      "text/html": [
       "<style scoped>\n",
       "  .table-result-container {\n",
       "    max-height: 300px;\n",
       "    overflow: auto;\n",
       "  }\n",
       "  table, th, td {\n",
       "    border: 1px solid black;\n",
       "    border-collapse: collapse;\n",
       "  }\n",
       "  th, td {\n",
       "    padding: 5px;\n",
       "  }\n",
       "  th {\n",
       "    text-align: left;\n",
       "  }\n",
       "</style><div class='table-result-container'><table class='table-result'><thead style='background-color: white'><tr><th>notes</th></tr></thead><tbody><tr><td>0</td></tr></tbody></table></div>"
      ]
     },
     "metadata": {
      "application/vnd.databricks.v1+output": {
       "addedWidgets": {},
       "aggData": [],
       "aggError": "",
       "aggOverflow": false,
       "aggSchema": [],
       "aggSeriesLimitReached": false,
       "aggType": "",
       "arguments": {},
       "columnCustomDisplayInfos": {},
       "data": [
        [
         0
        ]
       ],
       "datasetInfos": [],
       "dbfsResultPath": null,
       "isJsonSchema": true,
       "metadata": {},
       "overflow": false,
       "plotOptions": {
        "customPlotOptions": {},
        "displayType": "table",
        "pivotAggregation": null,
        "pivotColumns": null,
        "xColumns": null,
        "yColumns": null
       },
       "removedWidgets": [],
       "schema": [
        {
         "metadata": "{}",
         "name": "notes",
         "type": "\"long\""
        }
       ],
       "type": "table"
      }
     },
     "output_type": "display_data"
    },
    {
     "output_type": "display_data",
     "data": {
      "text/html": [
       "<style scoped>\n",
       "  .table-result-container {\n",
       "    max-height: 300px;\n",
       "    overflow: auto;\n",
       "  }\n",
       "  table, th, td {\n",
       "    border: 1px solid black;\n",
       "    border-collapse: collapse;\n",
       "  }\n",
       "  th, td {\n",
       "    padding: 5px;\n",
       "  }\n",
       "  th {\n",
       "    text-align: left;\n",
       "  }\n",
       "</style><div class='table-result-container'><table class='table-result'><thead style='background-color: white'><tr><th>master_id</th></tr></thead><tbody><tr><td>0</td></tr></tbody></table></div>"
      ]
     },
     "metadata": {
      "application/vnd.databricks.v1+output": {
       "addedWidgets": {},
       "aggData": [],
       "aggError": "",
       "aggOverflow": false,
       "aggSchema": [],
       "aggSeriesLimitReached": false,
       "aggType": "",
       "arguments": {},
       "columnCustomDisplayInfos": {},
       "data": [
        [
         0
        ]
       ],
       "datasetInfos": [],
       "dbfsResultPath": null,
       "isJsonSchema": true,
       "metadata": {},
       "overflow": false,
       "plotOptions": {
        "customPlotOptions": {},
        "displayType": "table",
        "pivotAggregation": null,
        "pivotColumns": null,
        "xColumns": null,
        "yColumns": null
       },
       "removedWidgets": [],
       "schema": [
        {
         "metadata": "{}",
         "name": "master_id",
         "type": "\"long\""
        }
       ],
       "type": "table"
      }
     },
     "output_type": "display_data"
    },
    {
     "output_type": "display_data",
     "data": {
      "text/html": [
       "<style scoped>\n",
       "  .table-result-container {\n",
       "    max-height: 300px;\n",
       "    overflow: auto;\n",
       "  }\n",
       "  table, th, td {\n",
       "    border: 1px solid black;\n",
       "    border-collapse: collapse;\n",
       "  }\n",
       "  th, td {\n",
       "    padding: 5px;\n",
       "  }\n",
       "  th {\n",
       "    text-align: left;\n",
       "  }\n",
       "</style><div class='table-result-container'><table class='table-result'><thead style='background-color: white'><tr><th>video_url</th></tr></thead><tbody><tr><td>0</td></tr></tbody></table></div>"
      ]
     },
     "metadata": {
      "application/vnd.databricks.v1+output": {
       "addedWidgets": {},
       "aggData": [],
       "aggError": "",
       "aggOverflow": false,
       "aggSchema": [],
       "aggSeriesLimitReached": false,
       "aggType": "",
       "arguments": {},
       "columnCustomDisplayInfos": {},
       "data": [
        [
         0
        ]
       ],
       "datasetInfos": [],
       "dbfsResultPath": null,
       "isJsonSchema": true,
       "metadata": {},
       "overflow": false,
       "plotOptions": {
        "customPlotOptions": {},
        "displayType": "table",
        "pivotAggregation": null,
        "pivotColumns": null,
        "xColumns": null,
        "yColumns": null
       },
       "removedWidgets": [],
       "schema": [
        {
         "metadata": "{}",
         "name": "video_url",
         "type": "\"long\""
        }
       ],
       "type": "table"
      }
     },
     "output_type": "display_data"
    },
    {
     "output_type": "display_data",
     "data": {
      "text/html": [
       "<style scoped>\n",
       "  .table-result-container {\n",
       "    max-height: 300px;\n",
       "    overflow: auto;\n",
       "  }\n",
       "  table, th, td {\n",
       "    border: 1px solid black;\n",
       "    border-collapse: collapse;\n",
       "  }\n",
       "  th, td {\n",
       "    padding: 5px;\n",
       "  }\n",
       "  th {\n",
       "    text-align: left;\n",
       "  }\n",
       "</style><div class='table-result-container'><table class='table-result'><thead style='background-color: white'><tr><th>company_name</th></tr></thead><tbody><tr><td>0</td></tr></tbody></table></div>"
      ]
     },
     "metadata": {
      "application/vnd.databricks.v1+output": {
       "addedWidgets": {},
       "aggData": [],
       "aggError": "",
       "aggOverflow": false,
       "aggSchema": [],
       "aggSeriesLimitReached": false,
       "aggType": "",
       "arguments": {},
       "columnCustomDisplayInfos": {},
       "data": [
        [
         0
        ]
       ],
       "datasetInfos": [],
       "dbfsResultPath": null,
       "isJsonSchema": true,
       "metadata": {},
       "overflow": false,
       "plotOptions": {
        "customPlotOptions": {},
        "displayType": "table",
        "pivotAggregation": null,
        "pivotColumns": null,
        "xColumns": null,
        "yColumns": null
       },
       "removedWidgets": [],
       "schema": [
        {
         "metadata": "{}",
         "name": "company_name",
         "type": "\"long\""
        }
       ],
       "type": "table"
      }
     },
     "output_type": "display_data"
    }
   ],
   "source": [
    "for c in df_date.columns:\n",
    "    df_null = df_date.select(count(when(col(c).isNull(), c)).alias(c))\n",
    "    display(df_null)"
   ]
  },
  {
   "cell_type": "code",
   "execution_count": 0,
   "metadata": {
    "application/vnd.databricks.v1+cell": {
     "cellMetadata": {},
     "collapsed": true,
     "inputWidgets": {},
     "nuid": "12f2293d-4878-45e2-8709-17b50df14634",
     "showTitle": false,
     "tableResultSettingsMap": {},
     "title": ""
    }
   },
   "outputs": [],
   "source": [
    "'''\n",
    "Se quiser prever release_date (ano que o disco foi lançado)\n",
    "\n",
    "obs: aplicar engenharia de atributos \n",
    "\n",
    "features: genre,format,label_id\n",
    "target: release_date\n",
    "\n",
    "'''"
   ]
  },
  {
   "cell_type": "code",
   "execution_count": 0,
   "metadata": {
    "application/vnd.databricks.v1+cell": {
     "cellMetadata": {
      "byteLimit": 2048000,
      "rowLimit": 10000
     },
     "collapsed": true,
     "inputWidgets": {},
     "nuid": "4bf695c7-c5d9-46ac-ba78-5501b0a44b4b",
     "showTitle": false,
     "tableResultSettingsMap": {},
     "title": ""
    }
   },
   "outputs": [],
   "source": [
    "df_bronze = df_parquet\n",
    "df_bronze.write.mode(\"overwrite\").parquet(\"dbfs:/FileStore/tables/bronze/discogs_bronze.parquet\")"
   ]
  },
  {
   "cell_type": "code",
   "execution_count": 0,
   "metadata": {
    "application/vnd.databricks.v1+cell": {
     "cellMetadata": {
      "byteLimit": 2048000,
      "rowLimit": 10000
     },
     "collapsed": true,
     "inputWidgets": {},
     "nuid": "4748aa8c-d196-409c-b1fa-4d4ae738f5b8",
     "showTitle": false,
     "tableResultSettingsMap": {},
     "title": ""
    }
   },
   "outputs": [],
   "source": [
    "df_silver = df_string\n",
    "df_silver.write.mode(\"overwrite\").parquet(\"dbfs:/FileStore/tables/silver/discogs_silver.parquet\")"
   ]
  },
  {
   "cell_type": "code",
   "execution_count": 0,
   "metadata": {
    "application/vnd.databricks.v1+cell": {
     "cellMetadata": {
      "byteLimit": 2048000,
      "rowLimit": 10000
     },
     "collapsed": true,
     "inputWidgets": {},
     "nuid": "e1258fe9-bbd3-49c2-96be-4a19ce82e2cb",
     "showTitle": false,
     "tableResultSettingsMap": {},
     "title": ""
    }
   },
   "outputs": [],
   "source": [
    "df_gold = df_date\n",
    "df_gold.write.mode(\"overwrite\").parquet(\"dbfs:/FileStore/tables/gold/discogs_gold.parquet\")\n"
   ]
  },
  {
   "cell_type": "code",
   "execution_count": 0,
   "metadata": {
    "application/vnd.databricks.v1+cell": {
     "cellMetadata": {
      "byteLimit": 2048000,
      "rowLimit": 10000
     },
     "collapsed": true,
     "inputWidgets": {},
     "nuid": "760beea9-6902-4aaf-8749-825da68e2c62",
     "showTitle": false,
     "tableResultSettingsMap": {},
     "title": ""
    }
   },
   "outputs": [
    {
     "output_type": "display_data",
     "data": {
      "text/html": [
       "<style scoped>\n",
       "  .table-result-container {\n",
       "    max-height: 300px;\n",
       "    overflow: auto;\n",
       "  }\n",
       "  table, th, td {\n",
       "    border: 1px solid black;\n",
       "    border-collapse: collapse;\n",
       "  }\n",
       "  th, td {\n",
       "    padding: 5px;\n",
       "  }\n",
       "  th {\n",
       "    text-align: left;\n",
       "  }\n",
       "</style><div class='table-result-container'><table class='table-result'><thead style='background-color: white'><tr><th>id</th><th>release_id</th><th>status</th><th>title</th><th>artist_id</th><th>artist_name</th><th>label_name</th><th>label_id</th><th>format</th><th>genre</th><th>style</th><th>country</th><th>release_date</th><th>notes</th><th>master_id</th><th>video_url</th><th>company_name</th></tr></thead><tbody><tr><td>682</td><td>103536</td><td>Accepted</td><td>Fire Night Dance</td><td>98684</td><td>Peter Jacques Band</td><td>Prelude Records</td><td>4081</td><td>Vinyl</td><td>Electronic</td><td>Disco</td><td>US</td><td>1979-01-01</td><td>Special thanks to William Wright - First string\n",
       "Studio credit: Recorded at Fonoprint\n",
       "Special thanks to Mr. Maurizio who always gives us the best\n",
       "Sigma Sound Studio: Mixed at Sigma Sound Studios New York-USA\n",
       "Mastered at Sterling sound New York-USA\n",
       "Other credits: We would like to dedicate this album to all the people of Goody Music Productions for their enthusiasm and work.\n",
       "Special credit to all the musicians of the Macho album.\n",
       "Executive produced for Goody Music Production\n",
       "All songs published by Little Macho Music\n",
       "℗ 1979 Prelude Records\n",
       "© 1979 Prelude Records\n",
       "A product of Goody Music/Prelude Records, Inc.\n",
       "Manufactured and distributed by Prelude Records\n",
       "\n",
       "Front cover misspelled band name by \"Peter Jaeques Band\" instead of \"Peter Jacques Band\" as on rear and labels.\n",
       "This LP was first released as a double  12\" with a gatefold jacket on Prelude Records with the same cat#.\n",
       "</td><td>0</td><td>https://www.youtube.com/watch?v=MrCmEjPM2Gw</td><td>Fonoprint</td></tr><tr><td>929</td><td>12271983</td><td>Accepted</td><td>Runaway</td><td>95516</td><td>Jasmine (2)</td><td>Canyon International</td><td>67638</td><td>Vinyl</td><td>Electronic</td><td>Eurobeat</td><td>Japan</td><td>1989-01-01</td><td>desconhecido</td><td>0</td><td>https://www.youtube.com/watch?v=yKSTDqGrSus</td><td>Pony Canyon Inc.</td></tr><tr><td>986</td><td>103574</td><td>Accepted</td><td>It Doesn't Really Matter</td><td>45227</td><td>Zapp</td><td>Warner Bros. Records</td><td>1000</td><td>Vinyl</td><td>Electronic</td><td>Electro</td><td>Germany</td><td>1985-01-01</td><td>℗ 1985 Warner Bros. Records Inc. for the U.S.\n",
       "℗ 1985 WEA International Inc.\n",
       "© 1985 WEA Records Ltd.\n",
       "</td><td>14311</td><td>https://www.youtube.com/watch?v=hX9bIN2qT8o</td><td>Warner Bros. Records Inc.</td></tr><tr><td>1006</td><td>12284137</td><td>Accepted</td><td>Inevitable Archives: Vol. 4 - The Joy Of Disease: Demos And Remixes</td><td>12544</td><td>James Plotkin</td><td>Not On Label (James Plotkin Self-released)</td><td>1494539</td><td>File</td><td>Electronic</td><td>Experimental</td><td>desconhecido</td><td>2017-01-01</td><td>\"The Joy Of Disease: Demos And Remixes\" showcases the initial recordings in preparation for [r=97742] album, released in 1995 on John Zorn's Japanese Avant label. These early home-recorded instrumental versions are supplemented by unreleased remixes from Plotkin and co-producer Mick Harris of Napalm Death/Scorn. The remixes were done during the original album sessions at Mick Harris' Black Box studio in the Custard Factory in Birmingham, UK. \n",
       "\n",
       "Written and recorded to 8-track tape 1994-1995. \n",
       "Mastered for vinyl September 2017. \n",
       "All music copyright 1996</td><td>1729746</td><td>https://www.youtube.com/watch?v=Eaez1wGLGm0</td><td>desconhecido</td></tr><tr><td>1015</td><td>12307814</td><td>Accepted</td><td>Johnson Rag / Yes, My Darling Daughter</td><td>335671</td><td>Glenn Miller And His Orchestra</td><td>His Master's Voice</td><td>37150</td><td>Shellac</td><td>Jazz</td><td>Swing</td><td>Netherlands</td><td>1900-01-01</td><td>desconhecido</td><td>0</td><td>https://www.youtube.com/watch?v=88KnilAi7w4</td><td>The Gramophone Co. Ltd.</td></tr><tr><td>1490</td><td>103637</td><td>Accepted</td><td>Acid Blues / Transformer</td><td>18230</td><td>Transparent</td><td>Dragonfly Records</td><td>356</td><td>Vinyl</td><td>Electronic</td><td>Psy-Trance</td><td>UK</td><td>2002-01-01</td><td>Mastered @ Heatmans Mastering.\n",
       "Published by B-Unique Music.\n",
       "\n",
       "(P)2002 Dragonfly Records.\n",
       "(C)2002 Dragonfly Records.\n",
       "Barcode: 5 025055 200934\n",
       "</td><td>0</td><td>https://www.youtube.com/watch?v=PRxdg4Vo8rM</td><td>desconhecido</td></tr><tr><td>1795</td><td>10500</td><td>Accepted</td><td>Comatose</td><td>10656</td><td>Front Line Assembly</td><td>Metropolis</td><td>1490</td><td>CD</td><td>Electronic</td><td>Industrial</td><td>US</td><td>1998-01-01</td><td>℗ Metropolis Records 1998\n",
       "© Edition Subterranean/Warner Chappell 1998\n",
       "Under exclusive license from OFFBEAT.\n",
       "</td><td>0</td><td>https://www.youtube.com/watch?v=8wKJAw3eaVk</td><td>Off Beat</td></tr><tr><td>1863</td><td>12307934</td><td>Accepted</td><td>فضا</td><td>3673301</td><td>امير آرام</td><td>Pars Video</td><td>960862</td><td>CD</td><td>Folk, World, & Country</td><td>desconhecido</td><td>US</td><td>1994-01-01</td><td>Produced & Distributed by Pars Video\n",
       "(C)(R) Pars Vide U.S.A.</td><td>0</td><td>desconhecido</td><td>Pars Video</td></tr><tr><td>5553</td><td>12272730</td><td>Accepted</td><td>Hayalci</td><td>6594863</td><td>Deli Gömleği</td><td>Deli Gömleği</td><td>1493200</td><td>File</td><td>Rock</td><td>Grunge</td><td>Turkey</td><td>2018-01-01</td><td>desconhecido</td><td>0</td><td>desconhecido</td><td>Özver Yılmaz</td></tr><tr><td>2061</td><td>12296406</td><td>Accepted</td><td>Moonlight Sinatra</td><td>52833</td><td>Frank Sinatra</td><td>Reprise Records</td><td>157</td><td>Vinyl</td><td>Jazz</td><td>Big Band</td><td>US</td><td>1966-01-01</td><td>Pink/blue/green Reprise \"Smiling Frank\" labels.\n",
       "\n",
       "First cat. # on sleeve spine and back\n",
       "Second cat. # on labels\n",
       "Third cat. # on sleeve front\n",
       "\n",
       "Pressing plant variant to [r=7934232] and [r=3399572].\n",
       "\n",
       "\"T\" stamped in runout denotes [l403953], pressing.\n",
       "\n",
       "\"4\" printed on bottom right rear of jacket denotes fabrication by [l955033], Indianapolis, Indiana.\n",
       "\n",
       "Company inner sleeve.\n",
       "\n",
       "Subtitle: \"Sings the World's Great Melodies of Love...Lovingly\"\n",
       "\n",
       "Made in U.S.A. Printed in U.S.A.</td><td>0</td><td>https://www.youtube.com/watch?v=um5yXWhUrTw</td><td>Warner Bros. Records Inc.</td></tr></tbody></table></div>"
      ]
     },
     "metadata": {
      "application/vnd.databricks.v1+output": {
       "addedWidgets": {},
       "aggData": [],
       "aggError": "",
       "aggOverflow": false,
       "aggSchema": [],
       "aggSeriesLimitReached": false,
       "aggType": "",
       "arguments": {},
       "columnCustomDisplayInfos": {},
       "data": [
        [
         682,
         103536,
         "Accepted",
         "Fire Night Dance",
         98684,
         "Peter Jacques Band",
         "Prelude Records",
         4081,
         "Vinyl",
         "Electronic",
         "Disco",
         "US",
         "1979-01-01",
         "Special thanks to William Wright - First string\nStudio credit: Recorded at Fonoprint\nSpecial thanks to Mr. Maurizio who always gives us the best\nSigma Sound Studio: Mixed at Sigma Sound Studios New York-USA\nMastered at Sterling sound New York-USA\nOther credits: We would like to dedicate this album to all the people of Goody Music Productions for their enthusiasm and work.\nSpecial credit to all the musicians of the Macho album.\nExecutive produced for Goody Music Production\nAll songs published by Little Macho Music\n℗ 1979 Prelude Records\n© 1979 Prelude Records\nA product of Goody Music/Prelude Records, Inc.\nManufactured and distributed by Prelude Records\n\nFront cover misspelled band name by \"Peter Jaeques Band\" instead of \"Peter Jacques Band\" as on rear and labels.\nThis LP was first released as a double  12\" with a gatefold jacket on Prelude Records with the same cat#.\n",
         0,
         "https://www.youtube.com/watch?v=MrCmEjPM2Gw",
         "Fonoprint"
        ],
        [
         929,
         12271983,
         "Accepted",
         "Runaway",
         95516,
         "Jasmine (2)",
         "Canyon International",
         67638,
         "Vinyl",
         "Electronic",
         "Eurobeat",
         "Japan",
         "1989-01-01",
         "desconhecido",
         0,
         "https://www.youtube.com/watch?v=yKSTDqGrSus",
         "Pony Canyon Inc."
        ],
        [
         986,
         103574,
         "Accepted",
         "It Doesn't Really Matter",
         45227,
         "Zapp",
         "Warner Bros. Records",
         1000,
         "Vinyl",
         "Electronic",
         "Electro",
         "Germany",
         "1985-01-01",
         "℗ 1985 Warner Bros. Records Inc. for the U.S.\n℗ 1985 WEA International Inc.\n© 1985 WEA Records Ltd.\n",
         14311,
         "https://www.youtube.com/watch?v=hX9bIN2qT8o",
         "Warner Bros. Records Inc."
        ],
        [
         1006,
         12284137,
         "Accepted",
         "Inevitable Archives: Vol. 4 - The Joy Of Disease: Demos And Remixes",
         12544,
         "James Plotkin",
         "Not On Label (James Plotkin Self-released)",
         1494539,
         "File",
         "Electronic",
         "Experimental",
         "desconhecido",
         "2017-01-01",
         "\"The Joy Of Disease: Demos And Remixes\" showcases the initial recordings in preparation for [r=97742] album, released in 1995 on John Zorn's Japanese Avant label. These early home-recorded instrumental versions are supplemented by unreleased remixes from Plotkin and co-producer Mick Harris of Napalm Death/Scorn. The remixes were done during the original album sessions at Mick Harris' Black Box studio in the Custard Factory in Birmingham, UK. \n\nWritten and recorded to 8-track tape 1994-1995. \nMastered for vinyl September 2017. \nAll music copyright 1996",
         1729746,
         "https://www.youtube.com/watch?v=Eaez1wGLGm0",
         "desconhecido"
        ],
        [
         1015,
         12307814,
         "Accepted",
         "Johnson Rag / Yes, My Darling Daughter",
         335671,
         "Glenn Miller And His Orchestra",
         "His Master's Voice",
         37150,
         "Shellac",
         "Jazz",
         "Swing",
         "Netherlands",
         "1900-01-01",
         "desconhecido",
         0,
         "https://www.youtube.com/watch?v=88KnilAi7w4",
         "The Gramophone Co. Ltd."
        ],
        [
         1490,
         103637,
         "Accepted",
         "Acid Blues / Transformer",
         18230,
         "Transparent",
         "Dragonfly Records",
         356,
         "Vinyl",
         "Electronic",
         "Psy-Trance",
         "UK",
         "2002-01-01",
         "Mastered @ Heatmans Mastering.\nPublished by B-Unique Music.\n\n(P)2002 Dragonfly Records.\n(C)2002 Dragonfly Records.\nBarcode: 5 025055 200934\n",
         0,
         "https://www.youtube.com/watch?v=PRxdg4Vo8rM",
         "desconhecido"
        ],
        [
         1795,
         10500,
         "Accepted",
         "Comatose",
         10656,
         "Front Line Assembly",
         "Metropolis",
         1490,
         "CD",
         "Electronic",
         "Industrial",
         "US",
         "1998-01-01",
         "℗ Metropolis Records 1998\n© Edition Subterranean/Warner Chappell 1998\nUnder exclusive license from OFFBEAT.\n",
         0,
         "https://www.youtube.com/watch?v=8wKJAw3eaVk",
         "Off Beat"
        ],
        [
         1863,
         12307934,
         "Accepted",
         "فضا",
         3673301,
         "امير آرام",
         "Pars Video",
         960862,
         "CD",
         "Folk, World, & Country",
         "desconhecido",
         "US",
         "1994-01-01",
         "Produced & Distributed by Pars Video\n(C)(R) Pars Vide U.S.A.",
         0,
         "desconhecido",
         "Pars Video"
        ],
        [
         5553,
         12272730,
         "Accepted",
         "Hayalci",
         6594863,
         "Deli Gömleği",
         "Deli Gömleği",
         1493200,
         "File",
         "Rock",
         "Grunge",
         "Turkey",
         "2018-01-01",
         "desconhecido",
         0,
         "desconhecido",
         "Özver Yılmaz"
        ],
        [
         2061,
         12296406,
         "Accepted",
         "Moonlight Sinatra",
         52833,
         "Frank Sinatra",
         "Reprise Records",
         157,
         "Vinyl",
         "Jazz",
         "Big Band",
         "US",
         "1966-01-01",
         "Pink/blue/green Reprise \"Smiling Frank\" labels.\n\nFirst cat. # on sleeve spine and back\nSecond cat. # on labels\nThird cat. # on sleeve front\n\nPressing plant variant to [r=7934232] and [r=3399572].\n\n\"T\" stamped in runout denotes [l403953], pressing.\n\n\"4\" printed on bottom right rear of jacket denotes fabrication by [l955033], Indianapolis, Indiana.\n\nCompany inner sleeve.\n\nSubtitle: \"Sings the World's Great Melodies of Love...Lovingly\"\n\nMade in U.S.A. Printed in U.S.A.",
         0,
         "https://www.youtube.com/watch?v=um5yXWhUrTw",
         "Warner Bros. Records Inc."
        ]
       ],
       "datasetInfos": [],
       "dbfsResultPath": null,
       "isJsonSchema": true,
       "metadata": {},
       "overflow": false,
       "plotOptions": {
        "customPlotOptions": {},
        "displayType": "table",
        "pivotAggregation": null,
        "pivotColumns": null,
        "xColumns": null,
        "yColumns": null
       },
       "removedWidgets": [],
       "schema": [
        {
         "metadata": "{}",
         "name": "id",
         "type": "\"long\""
        },
        {
         "metadata": "{}",
         "name": "release_id",
         "type": "\"long\""
        },
        {
         "metadata": "{}",
         "name": "status",
         "type": "\"string\""
        },
        {
         "metadata": "{}",
         "name": "title",
         "type": "\"string\""
        },
        {
         "metadata": "{}",
         "name": "artist_id",
         "type": "\"long\""
        },
        {
         "metadata": "{}",
         "name": "artist_name",
         "type": "\"string\""
        },
        {
         "metadata": "{}",
         "name": "label_name",
         "type": "\"string\""
        },
        {
         "metadata": "{}",
         "name": "label_id",
         "type": "\"long\""
        },
        {
         "metadata": "{}",
         "name": "format",
         "type": "\"string\""
        },
        {
         "metadata": "{}",
         "name": "genre",
         "type": "\"string\""
        },
        {
         "metadata": "{}",
         "name": "style",
         "type": "\"string\""
        },
        {
         "metadata": "{}",
         "name": "country",
         "type": "\"string\""
        },
        {
         "metadata": "{}",
         "name": "release_date",
         "type": "\"date\""
        },
        {
         "metadata": "{}",
         "name": "notes",
         "type": "\"string\""
        },
        {
         "metadata": "{}",
         "name": "master_id",
         "type": "\"long\""
        },
        {
         "metadata": "{}",
         "name": "video_url",
         "type": "\"string\""
        },
        {
         "metadata": "{}",
         "name": "company_name",
         "type": "\"string\""
        }
       ],
       "type": "table"
      }
     },
     "output_type": "display_data"
    }
   ],
   "source": [
    "df_parquet_gold = spark.read.parquet(\"dbfs:/FileStore/tables/gold/discogs_gold.parquet\")\n",
    "display(df_parquet_gold.head(10))\n"
   ]
  },
  {
   "cell_type": "code",
   "execution_count": 0,
   "metadata": {
    "application/vnd.databricks.v1+cell": {
     "cellMetadata": {
      "byteLimit": 2048000,
      "rowLimit": 10000
     },
     "collapsed": true,
     "inputWidgets": {},
     "nuid": "94c0bb09-ef55-4e1e-9e95-4dac32e20cd4",
     "showTitle": false,
     "tableResultSettingsMap": {},
     "title": ""
    }
   },
   "outputs": [
    {
     "output_type": "display_data",
     "data": {
      "text/html": [
       "<style scoped>\n",
       "  .table-result-container {\n",
       "    max-height: 300px;\n",
       "    overflow: auto;\n",
       "  }\n",
       "  table, th, td {\n",
       "    border: 1px solid black;\n",
       "    border-collapse: collapse;\n",
       "  }\n",
       "  th, td {\n",
       "    padding: 5px;\n",
       "  }\n",
       "  th {\n",
       "    text-align: left;\n",
       "  }\n",
       "</style><div class='table-result-container'><table class='table-result'><thead style='background-color: white'><tr><th>status</th></tr></thead><tbody><tr><td>Draft</td></tr><tr><td>Accepted</td></tr><tr><td>Deleted</td></tr></tbody></table></div>"
      ]
     },
     "metadata": {
      "application/vnd.databricks.v1+output": {
       "addedWidgets": {},
       "aggData": [],
       "aggError": "",
       "aggOverflow": false,
       "aggSchema": [],
       "aggSeriesLimitReached": false,
       "aggType": "",
       "arguments": {},
       "columnCustomDisplayInfos": {},
       "data": [
        [
         "Draft"
        ],
        [
         "Accepted"
        ],
        [
         "Deleted"
        ]
       ],
       "datasetInfos": [],
       "dbfsResultPath": null,
       "isJsonSchema": true,
       "metadata": {},
       "overflow": false,
       "plotOptions": {
        "customPlotOptions": {},
        "displayType": "table",
        "pivotAggregation": null,
        "pivotColumns": null,
        "xColumns": null,
        "yColumns": null
       },
       "removedWidgets": [],
       "schema": [
        {
         "metadata": "{}",
         "name": "status",
         "type": "\"string\""
        }
       ],
       "type": "table"
      }
     },
     "output_type": "display_data"
    }
   ],
   "source": [
    "display(df_parquet_gold.select(\"status\").distinct())"
   ]
  },
  {
   "cell_type": "code",
   "execution_count": 0,
   "metadata": {
    "application/vnd.databricks.v1+cell": {
     "cellMetadata": {},
     "collapsed": true,
     "inputWidgets": {},
     "nuid": "f2bdbc3d-3086-4897-9951-5ce80ffa4585",
     "showTitle": false,
     "tableResultSettingsMap": {},
     "title": ""
    }
   },
   "outputs": [],
   "source": [
    "'''\n",
    "\n",
    "supondo que o time de analistas precise desses dados filtrados em disco para otimizar futuras consultas acessar apenas o status \"Accepted\"\n",
    "\n",
    "'''"
   ]
  },
  {
   "cell_type": "code",
   "execution_count": 0,
   "metadata": {
    "application/vnd.databricks.v1+cell": {
     "cellMetadata": {
      "byteLimit": 2048000,
      "rowLimit": 10000
     },
     "collapsed": true,
     "inputWidgets": {},
     "nuid": "3275eda6-42b6-4313-9df7-a832cd5c50ad",
     "showTitle": false,
     "tableResultSettingsMap": {},
     "title": ""
    }
   },
   "outputs": [
    {
     "output_type": "stream",
     "name": "stdout",
     "output_type": "stream",
     "text": [
      "Out[88]: True"
     ]
    }
   ],
   "source": [
    "dbutils.fs.mkdirs(\"dbfs:/FileStore/tables/gold/discogs_gold_divided.parquet\")"
   ]
  },
  {
   "cell_type": "code",
   "execution_count": 0,
   "metadata": {
    "application/vnd.databricks.v1+cell": {
     "cellMetadata": {
      "byteLimit": 2048000,
      "rowLimit": 10000
     },
     "collapsed": true,
     "inputWidgets": {},
     "nuid": "a1b90510-58d8-411b-b0cb-12d9f1aff6d1",
     "showTitle": false,
     "tableResultSettingsMap": {},
     "title": ""
    }
   },
   "outputs": [],
   "source": [
    "df_parquet_gold.write.mode(\"overwrite\").partitionBy(\"status\").parquet(\"dbfs:/FileStore/tables/gold/discogs_gold_divided.parquet\")"
   ]
  },
  {
   "cell_type": "code",
   "execution_count": 0,
   "metadata": {
    "application/vnd.databricks.v1+cell": {
     "cellMetadata": {
      "byteLimit": 2048000,
      "rowLimit": 10000
     },
     "collapsed": true,
     "inputWidgets": {},
     "nuid": "85811beb-ecf6-4317-9321-3cca03eee395",
     "showTitle": false,
     "tableResultSettingsMap": {},
     "title": ""
    }
   },
   "outputs": [
    {
     "output_type": "display_data",
     "data": {
      "text/html": [
       "<style scoped>\n",
       "  .table-result-container {\n",
       "    max-height: 300px;\n",
       "    overflow: auto;\n",
       "  }\n",
       "  table, th, td {\n",
       "    border: 1px solid black;\n",
       "    border-collapse: collapse;\n",
       "  }\n",
       "  th, td {\n",
       "    padding: 5px;\n",
       "  }\n",
       "  th {\n",
       "    text-align: left;\n",
       "  }\n",
       "</style><div class='table-result-container'><table class='table-result'><thead style='background-color: white'><tr><th>path</th><th>name</th><th>size</th><th>modificationTime</th></tr></thead><tbody><tr><td>dbfs:/FileStore/tables/gold/discogs_gold_divided.parquet/_SUCCESS</td><td>_SUCCESS</td><td>0</td><td>1743397562000</td></tr><tr><td>dbfs:/FileStore/tables/gold/discogs_gold_divided.parquet/_committed_804095705787285339</td><td>_committed_804095705787285339</td><td>35</td><td>1743397561000</td></tr><tr><td>dbfs:/FileStore/tables/gold/discogs_gold_divided.parquet/status=Accepted/</td><td>status=Accepted/</td><td>0</td><td>0</td></tr><tr><td>dbfs:/FileStore/tables/gold/discogs_gold_divided.parquet/status=Deleted/</td><td>status=Deleted/</td><td>0</td><td>0</td></tr><tr><td>dbfs:/FileStore/tables/gold/discogs_gold_divided.parquet/status=Draft/</td><td>status=Draft/</td><td>0</td><td>0</td></tr></tbody></table></div>"
      ]
     },
     "metadata": {
      "application/vnd.databricks.v1+output": {
       "addedWidgets": {},
       "aggData": [],
       "aggError": "",
       "aggOverflow": false,
       "aggSchema": [],
       "aggSeriesLimitReached": false,
       "aggType": "",
       "arguments": {},
       "columnCustomDisplayInfos": {},
       "data": [
        [
         "dbfs:/FileStore/tables/gold/discogs_gold_divided.parquet/_SUCCESS",
         "_SUCCESS",
         0,
         1743397562000
        ],
        [
         "dbfs:/FileStore/tables/gold/discogs_gold_divided.parquet/_committed_804095705787285339",
         "_committed_804095705787285339",
         35,
         1743397561000
        ],
        [
         "dbfs:/FileStore/tables/gold/discogs_gold_divided.parquet/status=Accepted/",
         "status=Accepted/",
         0,
         0
        ],
        [
         "dbfs:/FileStore/tables/gold/discogs_gold_divided.parquet/status=Deleted/",
         "status=Deleted/",
         0,
         0
        ],
        [
         "dbfs:/FileStore/tables/gold/discogs_gold_divided.parquet/status=Draft/",
         "status=Draft/",
         0,
         0
        ]
       ],
       "datasetInfos": [],
       "dbfsResultPath": null,
       "isJsonSchema": true,
       "metadata": {},
       "overflow": false,
       "plotOptions": {
        "customPlotOptions": {},
        "displayType": "table",
        "pivotAggregation": null,
        "pivotColumns": null,
        "xColumns": null,
        "yColumns": null
       },
       "removedWidgets": [],
       "schema": [
        {
         "metadata": "{}",
         "name": "path",
         "type": "\"string\""
        },
        {
         "metadata": "{}",
         "name": "name",
         "type": "\"string\""
        },
        {
         "metadata": "{}",
         "name": "size",
         "type": "\"long\""
        },
        {
         "metadata": "{}",
         "name": "modificationTime",
         "type": "\"long\""
        }
       ],
       "type": "table"
      }
     },
     "output_type": "display_data"
    }
   ],
   "source": [
    "display(dbutils.fs.ls(\"dbfs:/FileStore/tables/gold/discogs_gold_divided.parquet/\")) "
   ]
  },
  {
   "cell_type": "code",
   "execution_count": 0,
   "metadata": {
    "application/vnd.databricks.v1+cell": {
     "cellMetadata": {
      "byteLimit": 2048000,
      "rowLimit": 10000
     },
     "collapsed": true,
     "inputWidgets": {},
     "nuid": "c54cd06b-3c8b-43ff-ba91-1baf9f8f7e89",
     "showTitle": false,
     "tableResultSettingsMap": {},
     "title": ""
    }
   },
   "outputs": [
    {
     "output_type": "display_data",
     "data": {
      "text/html": [
       "<style scoped>\n",
       "  .table-result-container {\n",
       "    max-height: 300px;\n",
       "    overflow: auto;\n",
       "  }\n",
       "  table, th, td {\n",
       "    border: 1px solid black;\n",
       "    border-collapse: collapse;\n",
       "  }\n",
       "  th, td {\n",
       "    padding: 5px;\n",
       "  }\n",
       "  th {\n",
       "    text-align: left;\n",
       "  }\n",
       "</style><div class='table-result-container'><table class='table-result'><thead style='background-color: white'><tr><th>id</th><th>release_id</th><th>title</th><th>artist_id</th><th>artist_name</th><th>label_name</th><th>label_id</th><th>format</th><th>genre</th><th>style</th><th>country</th><th>release_date</th><th>notes</th><th>master_id</th><th>video_url</th><th>company_name</th></tr></thead><tbody><tr><td>682</td><td>103536</td><td>Fire Night Dance</td><td>98684</td><td>Peter Jacques Band</td><td>Prelude Records</td><td>4081</td><td>Vinyl</td><td>Electronic</td><td>Disco</td><td>US</td><td>1979-01-01</td><td>Special thanks to William Wright - First string\n",
       "Studio credit: Recorded at Fonoprint\n",
       "Special thanks to Mr. Maurizio who always gives us the best\n",
       "Sigma Sound Studio: Mixed at Sigma Sound Studios New York-USA\n",
       "Mastered at Sterling sound New York-USA\n",
       "Other credits: We would like to dedicate this album to all the people of Goody Music Productions for their enthusiasm and work.\n",
       "Special credit to all the musicians of the Macho album.\n",
       "Executive produced for Goody Music Production\n",
       "All songs published by Little Macho Music\n",
       "℗ 1979 Prelude Records\n",
       "© 1979 Prelude Records\n",
       "A product of Goody Music/Prelude Records, Inc.\n",
       "Manufactured and distributed by Prelude Records\n",
       "\n",
       "Front cover misspelled band name by \"Peter Jaeques Band\" instead of \"Peter Jacques Band\" as on rear and labels.\n",
       "This LP was first released as a double  12\" with a gatefold jacket on Prelude Records with the same cat#.\n",
       "</td><td>0</td><td>https://www.youtube.com/watch?v=MrCmEjPM2Gw</td><td>Fonoprint</td></tr><tr><td>929</td><td>12271983</td><td>Runaway</td><td>95516</td><td>Jasmine (2)</td><td>Canyon International</td><td>67638</td><td>Vinyl</td><td>Electronic</td><td>Eurobeat</td><td>Japan</td><td>1989-01-01</td><td>desconhecido</td><td>0</td><td>https://www.youtube.com/watch?v=yKSTDqGrSus</td><td>Pony Canyon Inc.</td></tr><tr><td>986</td><td>103574</td><td>It Doesn't Really Matter</td><td>45227</td><td>Zapp</td><td>Warner Bros. Records</td><td>1000</td><td>Vinyl</td><td>Electronic</td><td>Electro</td><td>Germany</td><td>1985-01-01</td><td>℗ 1985 Warner Bros. Records Inc. for the U.S.\n",
       "℗ 1985 WEA International Inc.\n",
       "© 1985 WEA Records Ltd.\n",
       "</td><td>14311</td><td>https://www.youtube.com/watch?v=hX9bIN2qT8o</td><td>Warner Bros. Records Inc.</td></tr><tr><td>1006</td><td>12284137</td><td>Inevitable Archives: Vol. 4 - The Joy Of Disease: Demos And Remixes</td><td>12544</td><td>James Plotkin</td><td>Not On Label (James Plotkin Self-released)</td><td>1494539</td><td>File</td><td>Electronic</td><td>Experimental</td><td>desconhecido</td><td>2017-01-01</td><td>\"The Joy Of Disease: Demos And Remixes\" showcases the initial recordings in preparation for [r=97742] album, released in 1995 on John Zorn's Japanese Avant label. These early home-recorded instrumental versions are supplemented by unreleased remixes from Plotkin and co-producer Mick Harris of Napalm Death/Scorn. The remixes were done during the original album sessions at Mick Harris' Black Box studio in the Custard Factory in Birmingham, UK. \n",
       "\n",
       "Written and recorded to 8-track tape 1994-1995. \n",
       "Mastered for vinyl September 2017. \n",
       "All music copyright 1996</td><td>1729746</td><td>https://www.youtube.com/watch?v=Eaez1wGLGm0</td><td>desconhecido</td></tr><tr><td>1015</td><td>12307814</td><td>Johnson Rag / Yes, My Darling Daughter</td><td>335671</td><td>Glenn Miller And His Orchestra</td><td>His Master's Voice</td><td>37150</td><td>Shellac</td><td>Jazz</td><td>Swing</td><td>Netherlands</td><td>1900-01-01</td><td>desconhecido</td><td>0</td><td>https://www.youtube.com/watch?v=88KnilAi7w4</td><td>The Gramophone Co. Ltd.</td></tr><tr><td>1490</td><td>103637</td><td>Acid Blues / Transformer</td><td>18230</td><td>Transparent</td><td>Dragonfly Records</td><td>356</td><td>Vinyl</td><td>Electronic</td><td>Psy-Trance</td><td>UK</td><td>2002-01-01</td><td>Mastered @ Heatmans Mastering.\n",
       "Published by B-Unique Music.\n",
       "\n",
       "(P)2002 Dragonfly Records.\n",
       "(C)2002 Dragonfly Records.\n",
       "Barcode: 5 025055 200934\n",
       "</td><td>0</td><td>https://www.youtube.com/watch?v=PRxdg4Vo8rM</td><td>desconhecido</td></tr><tr><td>1795</td><td>10500</td><td>Comatose</td><td>10656</td><td>Front Line Assembly</td><td>Metropolis</td><td>1490</td><td>CD</td><td>Electronic</td><td>Industrial</td><td>US</td><td>1998-01-01</td><td>℗ Metropolis Records 1998\n",
       "© Edition Subterranean/Warner Chappell 1998\n",
       "Under exclusive license from OFFBEAT.\n",
       "</td><td>0</td><td>https://www.youtube.com/watch?v=8wKJAw3eaVk</td><td>Off Beat</td></tr><tr><td>1863</td><td>12307934</td><td>فضا</td><td>3673301</td><td>امير آرام</td><td>Pars Video</td><td>960862</td><td>CD</td><td>Folk, World, & Country</td><td>desconhecido</td><td>US</td><td>1994-01-01</td><td>Produced & Distributed by Pars Video\n",
       "(C)(R) Pars Vide U.S.A.</td><td>0</td><td>desconhecido</td><td>Pars Video</td></tr><tr><td>5553</td><td>12272730</td><td>Hayalci</td><td>6594863</td><td>Deli Gömleği</td><td>Deli Gömleği</td><td>1493200</td><td>File</td><td>Rock</td><td>Grunge</td><td>Turkey</td><td>2018-01-01</td><td>desconhecido</td><td>0</td><td>desconhecido</td><td>Özver Yılmaz</td></tr><tr><td>2061</td><td>12296406</td><td>Moonlight Sinatra</td><td>52833</td><td>Frank Sinatra</td><td>Reprise Records</td><td>157</td><td>Vinyl</td><td>Jazz</td><td>Big Band</td><td>US</td><td>1966-01-01</td><td>Pink/blue/green Reprise \"Smiling Frank\" labels.\n",
       "\n",
       "First cat. # on sleeve spine and back\n",
       "Second cat. # on labels\n",
       "Third cat. # on sleeve front\n",
       "\n",
       "Pressing plant variant to [r=7934232] and [r=3399572].\n",
       "\n",
       "\"T\" stamped in runout denotes [l403953], pressing.\n",
       "\n",
       "\"4\" printed on bottom right rear of jacket denotes fabrication by [l955033], Indianapolis, Indiana.\n",
       "\n",
       "Company inner sleeve.\n",
       "\n",
       "Subtitle: \"Sings the World's Great Melodies of Love...Lovingly\"\n",
       "\n",
       "Made in U.S.A. Printed in U.S.A.</td><td>0</td><td>https://www.youtube.com/watch?v=um5yXWhUrTw</td><td>Warner Bros. Records Inc.</td></tr></tbody></table></div>"
      ]
     },
     "metadata": {
      "application/vnd.databricks.v1+output": {
       "addedWidgets": {},
       "aggData": [],
       "aggError": "",
       "aggOverflow": false,
       "aggSchema": [],
       "aggSeriesLimitReached": false,
       "aggType": "",
       "arguments": {},
       "columnCustomDisplayInfos": {},
       "data": [
        [
         682,
         103536,
         "Fire Night Dance",
         98684,
         "Peter Jacques Band",
         "Prelude Records",
         4081,
         "Vinyl",
         "Electronic",
         "Disco",
         "US",
         "1979-01-01",
         "Special thanks to William Wright - First string\nStudio credit: Recorded at Fonoprint\nSpecial thanks to Mr. Maurizio who always gives us the best\nSigma Sound Studio: Mixed at Sigma Sound Studios New York-USA\nMastered at Sterling sound New York-USA\nOther credits: We would like to dedicate this album to all the people of Goody Music Productions for their enthusiasm and work.\nSpecial credit to all the musicians of the Macho album.\nExecutive produced for Goody Music Production\nAll songs published by Little Macho Music\n℗ 1979 Prelude Records\n© 1979 Prelude Records\nA product of Goody Music/Prelude Records, Inc.\nManufactured and distributed by Prelude Records\n\nFront cover misspelled band name by \"Peter Jaeques Band\" instead of \"Peter Jacques Band\" as on rear and labels.\nThis LP was first released as a double  12\" with a gatefold jacket on Prelude Records with the same cat#.\n",
         0,
         "https://www.youtube.com/watch?v=MrCmEjPM2Gw",
         "Fonoprint"
        ],
        [
         929,
         12271983,
         "Runaway",
         95516,
         "Jasmine (2)",
         "Canyon International",
         67638,
         "Vinyl",
         "Electronic",
         "Eurobeat",
         "Japan",
         "1989-01-01",
         "desconhecido",
         0,
         "https://www.youtube.com/watch?v=yKSTDqGrSus",
         "Pony Canyon Inc."
        ],
        [
         986,
         103574,
         "It Doesn't Really Matter",
         45227,
         "Zapp",
         "Warner Bros. Records",
         1000,
         "Vinyl",
         "Electronic",
         "Electro",
         "Germany",
         "1985-01-01",
         "℗ 1985 Warner Bros. Records Inc. for the U.S.\n℗ 1985 WEA International Inc.\n© 1985 WEA Records Ltd.\n",
         14311,
         "https://www.youtube.com/watch?v=hX9bIN2qT8o",
         "Warner Bros. Records Inc."
        ],
        [
         1006,
         12284137,
         "Inevitable Archives: Vol. 4 - The Joy Of Disease: Demos And Remixes",
         12544,
         "James Plotkin",
         "Not On Label (James Plotkin Self-released)",
         1494539,
         "File",
         "Electronic",
         "Experimental",
         "desconhecido",
         "2017-01-01",
         "\"The Joy Of Disease: Demos And Remixes\" showcases the initial recordings in preparation for [r=97742] album, released in 1995 on John Zorn's Japanese Avant label. These early home-recorded instrumental versions are supplemented by unreleased remixes from Plotkin and co-producer Mick Harris of Napalm Death/Scorn. The remixes were done during the original album sessions at Mick Harris' Black Box studio in the Custard Factory in Birmingham, UK. \n\nWritten and recorded to 8-track tape 1994-1995. \nMastered for vinyl September 2017. \nAll music copyright 1996",
         1729746,
         "https://www.youtube.com/watch?v=Eaez1wGLGm0",
         "desconhecido"
        ],
        [
         1015,
         12307814,
         "Johnson Rag / Yes, My Darling Daughter",
         335671,
         "Glenn Miller And His Orchestra",
         "His Master's Voice",
         37150,
         "Shellac",
         "Jazz",
         "Swing",
         "Netherlands",
         "1900-01-01",
         "desconhecido",
         0,
         "https://www.youtube.com/watch?v=88KnilAi7w4",
         "The Gramophone Co. Ltd."
        ],
        [
         1490,
         103637,
         "Acid Blues / Transformer",
         18230,
         "Transparent",
         "Dragonfly Records",
         356,
         "Vinyl",
         "Electronic",
         "Psy-Trance",
         "UK",
         "2002-01-01",
         "Mastered @ Heatmans Mastering.\nPublished by B-Unique Music.\n\n(P)2002 Dragonfly Records.\n(C)2002 Dragonfly Records.\nBarcode: 5 025055 200934\n",
         0,
         "https://www.youtube.com/watch?v=PRxdg4Vo8rM",
         "desconhecido"
        ],
        [
         1795,
         10500,
         "Comatose",
         10656,
         "Front Line Assembly",
         "Metropolis",
         1490,
         "CD",
         "Electronic",
         "Industrial",
         "US",
         "1998-01-01",
         "℗ Metropolis Records 1998\n© Edition Subterranean/Warner Chappell 1998\nUnder exclusive license from OFFBEAT.\n",
         0,
         "https://www.youtube.com/watch?v=8wKJAw3eaVk",
         "Off Beat"
        ],
        [
         1863,
         12307934,
         "فضا",
         3673301,
         "امير آرام",
         "Pars Video",
         960862,
         "CD",
         "Folk, World, & Country",
         "desconhecido",
         "US",
         "1994-01-01",
         "Produced & Distributed by Pars Video\n(C)(R) Pars Vide U.S.A.",
         0,
         "desconhecido",
         "Pars Video"
        ],
        [
         5553,
         12272730,
         "Hayalci",
         6594863,
         "Deli Gömleği",
         "Deli Gömleği",
         1493200,
         "File",
         "Rock",
         "Grunge",
         "Turkey",
         "2018-01-01",
         "desconhecido",
         0,
         "desconhecido",
         "Özver Yılmaz"
        ],
        [
         2061,
         12296406,
         "Moonlight Sinatra",
         52833,
         "Frank Sinatra",
         "Reprise Records",
         157,
         "Vinyl",
         "Jazz",
         "Big Band",
         "US",
         "1966-01-01",
         "Pink/blue/green Reprise \"Smiling Frank\" labels.\n\nFirst cat. # on sleeve spine and back\nSecond cat. # on labels\nThird cat. # on sleeve front\n\nPressing plant variant to [r=7934232] and [r=3399572].\n\n\"T\" stamped in runout denotes [l403953], pressing.\n\n\"4\" printed on bottom right rear of jacket denotes fabrication by [l955033], Indianapolis, Indiana.\n\nCompany inner sleeve.\n\nSubtitle: \"Sings the World's Great Melodies of Love...Lovingly\"\n\nMade in U.S.A. Printed in U.S.A.",
         0,
         "https://www.youtube.com/watch?v=um5yXWhUrTw",
         "Warner Bros. Records Inc."
        ]
       ],
       "datasetInfos": [],
       "dbfsResultPath": null,
       "isJsonSchema": true,
       "metadata": {},
       "overflow": false,
       "plotOptions": {
        "customPlotOptions": {},
        "displayType": "table",
        "pivotAggregation": null,
        "pivotColumns": null,
        "xColumns": null,
        "yColumns": null
       },
       "removedWidgets": [],
       "schema": [
        {
         "metadata": "{}",
         "name": "id",
         "type": "\"long\""
        },
        {
         "metadata": "{}",
         "name": "release_id",
         "type": "\"long\""
        },
        {
         "metadata": "{}",
         "name": "title",
         "type": "\"string\""
        },
        {
         "metadata": "{}",
         "name": "artist_id",
         "type": "\"long\""
        },
        {
         "metadata": "{}",
         "name": "artist_name",
         "type": "\"string\""
        },
        {
         "metadata": "{}",
         "name": "label_name",
         "type": "\"string\""
        },
        {
         "metadata": "{}",
         "name": "label_id",
         "type": "\"long\""
        },
        {
         "metadata": "{}",
         "name": "format",
         "type": "\"string\""
        },
        {
         "metadata": "{}",
         "name": "genre",
         "type": "\"string\""
        },
        {
         "metadata": "{}",
         "name": "style",
         "type": "\"string\""
        },
        {
         "metadata": "{}",
         "name": "country",
         "type": "\"string\""
        },
        {
         "metadata": "{}",
         "name": "release_date",
         "type": "\"date\""
        },
        {
         "metadata": "{}",
         "name": "notes",
         "type": "\"string\""
        },
        {
         "metadata": "{}",
         "name": "master_id",
         "type": "\"long\""
        },
        {
         "metadata": "{}",
         "name": "video_url",
         "type": "\"string\""
        },
        {
         "metadata": "{}",
         "name": "company_name",
         "type": "\"string\""
        }
       ],
       "type": "table"
      }
     },
     "output_type": "display_data"
    }
   ],
   "source": [
    "df_accepted = spark.read.parquet(\"dbfs:/FileStore/tables/gold/discogs_gold_divided.parquet/status=Accepted\")\n",
    "display(df_accepted.head(10))\n"
   ]
  },
  {
   "cell_type": "code",
   "execution_count": 0,
   "metadata": {
    "application/vnd.databricks.v1+cell": {
     "cellMetadata": {},
     "collapsed": true,
     "inputWidgets": {},
     "nuid": "debf0a64-023a-45fd-bdfa-24c0d57217a2",
     "showTitle": false,
     "tableResultSettingsMap": {},
     "title": ""
    }
   },
   "outputs": [],
   "source": [
    "'''\n",
    "\n",
    "separar em tabelas fato e dimensao\n",
    "\n",
    "'''"
   ]
  },
  {
   "cell_type": "code",
   "execution_count": 0,
   "metadata": {
    "application/vnd.databricks.v1+cell": {
     "cellMetadata": {
      "byteLimit": 2048000,
      "rowLimit": 10000
     },
     "collapsed": true,
     "inputWidgets": {},
     "nuid": "9996b67a-8a55-4898-b5e7-ff540001325e",
     "showTitle": false,
     "tableResultSettingsMap": {},
     "title": ""
    }
   },
   "outputs": [
    {
     "output_type": "display_data",
     "data": {
      "text/html": [
       "<style scoped>\n",
       "  .table-result-container {\n",
       "    max-height: 300px;\n",
       "    overflow: auto;\n",
       "  }\n",
       "  table, th, td {\n",
       "    border: 1px solid black;\n",
       "    border-collapse: collapse;\n",
       "  }\n",
       "  th, td {\n",
       "    padding: 5px;\n",
       "  }\n",
       "  th {\n",
       "    text-align: left;\n",
       "  }\n",
       "</style><div class='table-result-container'><table class='table-result'><thead style='background-color: white'><tr><th>artist_id</th><th>artist_name</th></tr></thead><tbody><tr><td>18230</td><td>Transparent</td></tr><tr><td>37737</td><td>Dave Brubeck</td></tr><tr><td>1062078</td><td>Orkiestra Mieczysława Paszkieta</td></tr><tr><td>6277</td><td>Dido</td></tr><tr><td>4160582</td><td>上原正吉</td></tr><tr><td>2777432</td><td>International Staff Band Of The Salvation Army</td></tr><tr><td>1974337</td><td>Grand Dansorkester</td></tr><tr><td>4982</td><td>Alec Empire</td></tr><tr><td>392601</td><td>Art Laboe</td></tr><tr><td>4545986</td><td>Malcolm Kennedy</td></tr></tbody></table></div>"
      ]
     },
     "metadata": {
      "application/vnd.databricks.v1+output": {
       "addedWidgets": {},
       "aggData": [],
       "aggError": "",
       "aggOverflow": false,
       "aggSchema": [],
       "aggSeriesLimitReached": false,
       "aggType": "",
       "arguments": {},
       "columnCustomDisplayInfos": {},
       "data": [
        [
         18230,
         "Transparent"
        ],
        [
         37737,
         "Dave Brubeck"
        ],
        [
         1062078,
         "Orkiestra Mieczysława Paszkieta"
        ],
        [
         6277,
         "Dido"
        ],
        [
         4160582,
         "上原正吉"
        ],
        [
         2777432,
         "International Staff Band Of The Salvation Army"
        ],
        [
         1974337,
         "Grand Dansorkester"
        ],
        [
         4982,
         "Alec Empire"
        ],
        [
         392601,
         "Art Laboe"
        ],
        [
         4545986,
         "Malcolm Kennedy"
        ]
       ],
       "datasetInfos": [],
       "dbfsResultPath": null,
       "isJsonSchema": true,
       "metadata": {},
       "overflow": false,
       "plotOptions": {
        "customPlotOptions": {},
        "displayType": "table",
        "pivotAggregation": null,
        "pivotColumns": null,
        "xColumns": null,
        "yColumns": null
       },
       "removedWidgets": [],
       "schema": [
        {
         "metadata": "{}",
         "name": "artist_id",
         "type": "\"long\""
        },
        {
         "metadata": "{}",
         "name": "artist_name",
         "type": "\"string\""
        }
       ],
       "type": "table"
      }
     },
     "output_type": "display_data"
    }
   ],
   "source": [
    "dimensao_artista = df_accepted.select(\"artist_id\", \"artist_name\").distinct()\n",
    "dimensao_artista.write.format(\"delta\").mode(\"overwrite\").saveAsTable(\"dimensao_artista\")\n",
    "display(dimensao_artista.head(10))"
   ]
  },
  {
   "cell_type": "code",
   "execution_count": 0,
   "metadata": {
    "application/vnd.databricks.v1+cell": {
     "cellMetadata": {
      "byteLimit": 2048000,
      "rowLimit": 10000
     },
     "collapsed": true,
     "inputWidgets": {},
     "nuid": "f9f84568-ff76-4d0e-bd0f-84618d94abdc",
     "showTitle": false,
     "tableResultSettingsMap": {},
     "title": ""
    }
   },
   "outputs": [
    {
     "output_type": "display_data",
     "data": {
      "text/html": [
       "<style scoped>\n",
       "  .table-result-container {\n",
       "    max-height: 300px;\n",
       "    overflow: auto;\n",
       "  }\n",
       "  table, th, td {\n",
       "    border: 1px solid black;\n",
       "    border-collapse: collapse;\n",
       "  }\n",
       "  th, td {\n",
       "    padding: 5px;\n",
       "  }\n",
       "  th {\n",
       "    text-align: left;\n",
       "  }\n",
       "</style><div class='table-result-container'><table class='table-result'><thead style='background-color: white'><tr><th>label_id</th><th>label_name</th><th>company_name</th></tr></thead><tbody><tr><td>187471</td><td>AT-Production</td><td>desconhecido</td></tr><tr><td>647134</td><td>Gusto-Starday</td><td>Victor Musical Industries, Inc.</td></tr><tr><td>106394</td><td>Word</td><td>BMG Direct</td></tr><tr><td>46543</td><td>Edigsa</td><td>Hansa Tonstudios</td></tr><tr><td>1428258</td><td>bearfaced music</td><td>desconhecido</td></tr><tr><td>26949</td><td>Showtime</td><td>desconhecido</td></tr><tr><td>29583</td><td>RCA Red Seal</td><td>Sony BMG Music Entertainment</td></tr><tr><td>147207</td><td>Enamell Records</td><td>desconhecido</td></tr><tr><td>4898</td><td>United Artists Records</td><td>United Artists Records, inc.</td></tr><tr><td>1562507</td><td>Booom Boxx Records</td><td>desconhecido</td></tr></tbody></table></div>"
      ]
     },
     "metadata": {
      "application/vnd.databricks.v1+output": {
       "addedWidgets": {},
       "aggData": [],
       "aggError": "",
       "aggOverflow": false,
       "aggSchema": [],
       "aggSeriesLimitReached": false,
       "aggType": "",
       "arguments": {},
       "columnCustomDisplayInfos": {},
       "data": [
        [
         187471,
         "AT-Production",
         "desconhecido"
        ],
        [
         647134,
         "Gusto-Starday",
         "Victor Musical Industries, Inc."
        ],
        [
         106394,
         "Word",
         "BMG Direct"
        ],
        [
         46543,
         "Edigsa",
         "Hansa Tonstudios"
        ],
        [
         1428258,
         "bearfaced music",
         "desconhecido"
        ],
        [
         26949,
         "Showtime",
         "desconhecido"
        ],
        [
         29583,
         "RCA Red Seal",
         "Sony BMG Music Entertainment"
        ],
        [
         147207,
         "Enamell Records",
         "desconhecido"
        ],
        [
         4898,
         "United Artists Records",
         "United Artists Records, inc."
        ],
        [
         1562507,
         "Booom Boxx Records",
         "desconhecido"
        ]
       ],
       "datasetInfos": [],
       "dbfsResultPath": null,
       "isJsonSchema": true,
       "metadata": {},
       "overflow": false,
       "plotOptions": {
        "customPlotOptions": {},
        "displayType": "table",
        "pivotAggregation": null,
        "pivotColumns": null,
        "xColumns": null,
        "yColumns": null
       },
       "removedWidgets": [],
       "schema": [
        {
         "metadata": "{}",
         "name": "label_id",
         "type": "\"long\""
        },
        {
         "metadata": "{}",
         "name": "label_name",
         "type": "\"string\""
        },
        {
         "metadata": "{}",
         "name": "company_name",
         "type": "\"string\""
        }
       ],
       "type": "table"
      }
     },
     "output_type": "display_data"
    }
   ],
   "source": [
    "dimensao_label = df_accepted.select(\"label_id\", \"label_name\", \"company_name\").distinct()\n",
    "dimensao_label.write.format(\"delta\").mode(\"overwrite\").saveAsTable(\"dimensao_label\")\n",
    "display(dimensao_label.head(10))\n"
   ]
  },
  {
   "cell_type": "code",
   "execution_count": 0,
   "metadata": {
    "application/vnd.databricks.v1+cell": {
     "cellMetadata": {
      "byteLimit": 2048000,
      "rowLimit": 10000
     },
     "collapsed": true,
     "inputWidgets": {},
     "nuid": "9b0014ae-af9f-4a12-9b34-690a33afcd20",
     "showTitle": false,
     "tableResultSettingsMap": {},
     "title": ""
    }
   },
   "outputs": [],
   "source": [
    "discogs_fato = df_accepted.select(\"id\",\"release_id\",\"title\",\"artist_id\",\"label_id\",\"format\",\"genre\",\"style\",\"country\",\"release_date\",\"notes\",\"master_id\",\"video_url\",\"company_name\")\n",
    "\n",
    "discogs_fato.write.format(\"delta\").option(\"mergeSchema\", \"true\").mode(\"overwrite\").saveAsTable(\"discogs_fato\")"
   ]
  }
 ],
 "metadata": {
  "application/vnd.databricks.v1+notebook": {
   "computePreferences": null,
   "dashboards": [],
   "environmentMetadata": {
    "base_environment": "",
    "environment_version": "1"
   },
   "inputWidgetPreferences": null,
   "language": "python",
   "notebookMetadata": {
    "pythonIndentUnit": 4
   },
   "notebookName": "Modulo 3",
   "widgets": {}
  }
 },
 "nbformat": 4,
 "nbformat_minor": 0
}