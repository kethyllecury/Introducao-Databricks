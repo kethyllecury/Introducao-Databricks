{
 "cells": [
  {
   "cell_type": "code",
   "execution_count": 0,
   "metadata": {
    "application/vnd.databricks.v1+cell": {
     "cellMetadata": {
      "byteLimit": 2048000,
      "rowLimit": 10000
     },
     "collapsed": true,
     "inputWidgets": {},
     "nuid": "0780dabb-2ff0-4cbe-a22b-3e19fe838314",
     "showTitle": false,
     "tableResultSettingsMap": {},
     "title": ""
    }
   },
   "outputs": [
    {
     "output_type": "stream",
     "name": "stdout",
     "output_type": "stream",
     "text": [
      "Out[98]: '\\nEsse desafio compõe 6 etapas:\\n\\n1. Fazer upload do arquivo csv.\\n2. Ler o arquivo csv.\\n3. Tansformar o arquivo em parquet.\\n4. Fazer parquet particionado por País\\n5. Tratar o dado particionado.\\n6. Fazer análises descritiva\\n'"
     ]
    }
   ],
   "source": [
    "\n",
    "\"\"\"\n",
    "Esse desafio compõe 6 etapas:\n",
    "\n",
    "1. Fazer upload do arquivo csv.\n",
    "2. Ler o arquivo csv.\n",
    "3. Tansformar o arquivo em parquet.\n",
    "4. Fazer parquet particionado por País\n",
    "5. Tratar o dado particionado.\n",
    "6. Fazer análises descritiva\n",
    "\"\"\"\n"
   ]
  },
  {
   "cell_type": "code",
   "execution_count": 0,
   "metadata": {
    "application/vnd.databricks.v1+cell": {
     "cellMetadata": {
      "byteLimit": 2048000,
      "rowLimit": 10000
     },
     "inputWidgets": {},
     "nuid": "d17d58e0-de8b-4dbc-bf0a-22ebaed8cdca",
     "showTitle": false,
     "tableResultSettingsMap": {},
     "title": ""
    }
   },
   "outputs": [],
   "source": [
    "from pyspark.sql.functions import *"
   ]
  },
  {
   "cell_type": "code",
   "execution_count": 0,
   "metadata": {
    "application/vnd.databricks.v1+cell": {
     "cellMetadata": {
      "byteLimit": 2048000,
      "rowLimit": 10000
     },
     "collapsed": true,
     "inputWidgets": {},
     "nuid": "10de562e-a9df-4db5-8667-aa34b9be3682",
     "showTitle": false,
     "tableResultSettingsMap": {},
     "title": ""
    }
   },
   "outputs": [
    {
     "output_type": "display_data",
     "data": {
      "text/html": [
       "<style scoped>\n",
       "  .table-result-container {\n",
       "    max-height: 300px;\n",
       "    overflow: auto;\n",
       "  }\n",
       "  table, th, td {\n",
       "    border: 1px solid black;\n",
       "    border-collapse: collapse;\n",
       "  }\n",
       "  th, td {\n",
       "    padding: 5px;\n",
       "  }\n",
       "  th {\n",
       "    text-align: left;\n",
       "  }\n",
       "</style><div class='table-result-container'><table class='table-result'><thead style='background-color: white'><tr><th>path</th><th>name</th><th>size</th><th>modificationTime</th></tr></thead><tbody><tr><td>dbfs:/FileStore/tables/Chocolate_Sales-1.csv/</td><td>Chocolate_Sales-1.csv/</td><td>0</td><td>0</td></tr><tr><td>dbfs:/FileStore/tables/Chocolate_Sales-1.parquet/</td><td>Chocolate_Sales-1.parquet/</td><td>0</td><td>0</td></tr><tr><td>dbfs:/FileStore/tables/db/</td><td>db/</td><td>0</td><td>0</td></tr><tr><td>dbfs:/FileStore/tables/delta/</td><td>delta/</td><td>0</td><td>0</td></tr><tr><td>dbfs:/FileStore/tables/supermarket_sales.csv</td><td>supermarket_sales.csv</td><td>131530</td><td>1742946968000</td></tr></tbody></table></div>"
      ]
     },
     "metadata": {
      "application/vnd.databricks.v1+output": {
       "addedWidgets": {},
       "aggData": [],
       "aggError": "",
       "aggOverflow": false,
       "aggSchema": [],
       "aggSeriesLimitReached": false,
       "aggType": "",
       "arguments": {},
       "columnCustomDisplayInfos": {},
       "data": [
        [
         "dbfs:/FileStore/tables/Chocolate_Sales-1.csv/",
         "Chocolate_Sales-1.csv/",
         0,
         0
        ],
        [
         "dbfs:/FileStore/tables/Chocolate_Sales-1.parquet/",
         "Chocolate_Sales-1.parquet/",
         0,
         0
        ],
        [
         "dbfs:/FileStore/tables/db/",
         "db/",
         0,
         0
        ],
        [
         "dbfs:/FileStore/tables/delta/",
         "delta/",
         0,
         0
        ],
        [
         "dbfs:/FileStore/tables/supermarket_sales.csv",
         "supermarket_sales.csv",
         131530,
         1742946968000
        ]
       ],
       "datasetInfos": [],
       "dbfsResultPath": null,
       "isJsonSchema": true,
       "metadata": {},
       "overflow": false,
       "plotOptions": {
        "customPlotOptions": {},
        "displayType": "table",
        "pivotAggregation": null,
        "pivotColumns": null,
        "xColumns": null,
        "yColumns": null
       },
       "removedWidgets": [],
       "schema": [
        {
         "metadata": "{}",
         "name": "path",
         "type": "\"string\""
        },
        {
         "metadata": "{}",
         "name": "name",
         "type": "\"string\""
        },
        {
         "metadata": "{}",
         "name": "size",
         "type": "\"long\""
        },
        {
         "metadata": "{}",
         "name": "modificationTime",
         "type": "\"long\""
        }
       ],
       "type": "table"
      }
     },
     "output_type": "display_data"
    }
   ],
   "source": [
    "display(dbutils.fs.ls(\"FileStore/tables\"))"
   ]
  },
  {
   "cell_type": "code",
   "execution_count": 0,
   "metadata": {
    "application/vnd.databricks.v1+cell": {
     "cellMetadata": {
      "byteLimit": 2048000,
      "rowLimit": 10000
     },
     "collapsed": true,
     "inputWidgets": {},
     "nuid": "9228c172-054c-43d9-874a-599a22399a32",
     "showTitle": false,
     "tableResultSettingsMap": {},
     "title": ""
    }
   },
   "outputs": [
    {
     "output_type": "display_data",
     "data": {
      "text/html": [
       "<style scoped>\n",
       "  .table-result-container {\n",
       "    max-height: 300px;\n",
       "    overflow: auto;\n",
       "  }\n",
       "  table, th, td {\n",
       "    border: 1px solid black;\n",
       "    border-collapse: collapse;\n",
       "  }\n",
       "  th, td {\n",
       "    padding: 5px;\n",
       "  }\n",
       "  th {\n",
       "    text-align: left;\n",
       "  }\n",
       "</style><div class='table-result-container'><table class='table-result'><thead style='background-color: white'><tr><th>Sales Person</th><th>Product</th><th>Date</th><th>Amount</th><th>Boxes Shipped</th><th>Country</th></tr></thead><tbody><tr><td>Jan Morforth</td><td>Peanut Butter Cubes</td><td>27-Apr-22</td><td>$12,726 </td><td>342</td><td>Australia</td></tr><tr><td>Gunar Cockshoot</td><td>After Nines</td><td>24-Mar-22</td><td>$3,080 </td><td>73</td><td>Australia</td></tr><tr><td>Brien Boise</td><td>99% Dark & Pure</td><td>04-Jul-22</td><td>$2,835 </td><td>102</td><td>Australia</td></tr><tr><td>Beverie Moffet</td><td>Organic Choco Syrup</td><td>26-Jan-22</td><td>$6,790 </td><td>356</td><td>Australia</td></tr><tr><td>Brien Boise</td><td>Eclairs</td><td>27-Jun-22</td><td>$6,888 </td><td>88</td><td>Australia</td></tr><tr><td>Kaine Padly</td><td>Eclairs</td><td>28-Feb-22</td><td>$7,672 </td><td>115</td><td>Australia</td></tr><tr><td>Wilone O'Kielt</td><td>Manuka Honey Choco</td><td>11-May-22</td><td>$4,284 </td><td>94</td><td>Australia</td></tr><tr><td>Camilla Castle</td><td>85% Dark Bars</td><td>19-May-22</td><td>$3,654 </td><td>14</td><td>Australia</td></tr><tr><td>Curtice Advani</td><td>Milk Bars</td><td>14-Feb-22</td><td>$6,979 </td><td>18</td><td>Australia</td></tr><tr><td>Brien Boise</td><td>Fruit & Nut Bars</td><td>06-Jun-22</td><td>$8,575 </td><td>23</td><td>Australia</td></tr><tr><td>Dotty Strutley</td><td>Drinking Coco</td><td>19-Jul-22</td><td>$91 </td><td>135</td><td>Australia</td></tr><tr><td>Barr Faughny</td><td>Fruit & Nut Bars</td><td>30-Jun-22</td><td>$15,421 </td><td>55</td><td>Australia</td></tr><tr><td>Andria Kimpton</td><td>50% Dark Bites</td><td>02-Jun-22</td><td>$4,438 </td><td>227</td><td>Australia</td></tr><tr><td>Andria Kimpton</td><td>Drinking Coco</td><td>28-Jun-22</td><td>$1,603 </td><td>48</td><td>Australia</td></tr><tr><td>Marney O'Breen</td><td>Organic Choco Syrup</td><td>16-May-22</td><td>$273 </td><td>174</td><td>Australia</td></tr><tr><td>Wilone O'Kielt</td><td>Caramel Stuffed Bars</td><td>14-Apr-22</td><td>$2,030 </td><td>11</td><td>Australia</td></tr><tr><td>Van Tuxwell</td><td>Organic Choco Syrup</td><td>10-Aug-22</td><td>$19,453 </td><td>14</td><td>Australia</td></tr><tr><td>Dotty Strutley</td><td>Fruit & Nut Bars</td><td>23-Aug-22</td><td>$280 </td><td>311</td><td>Australia</td></tr><tr><td>Dennison Crosswaite</td><td>70% Dark Bites</td><td>07-Feb-22</td><td>$5,859 </td><td>108</td><td>Australia</td></tr><tr><td>Madelene Upcott</td><td>Spicy Special Slims</td><td>07-Mar-22</td><td>$7,182 </td><td>408</td><td>Australia</td></tr><tr><td>Dennison Crosswaite</td><td>85% Dark Bars</td><td>05-Apr-22</td><td>$6,881 </td><td>420</td><td>Australia</td></tr><tr><td>Wilone O'Kielt</td><td>Organic Choco Syrup</td><td>07-Jul-22</td><td>$1,743 </td><td>111</td><td>Australia</td></tr><tr><td>Beverie Moffet</td><td>Eclairs</td><td>20-Jun-22</td><td>$1,827 </td><td>6</td><td>Australia</td></tr><tr><td>Dennison Crosswaite</td><td>Raspberry Choco</td><td>14-Mar-22</td><td>$5,740 </td><td>31</td><td>Australia</td></tr><tr><td>Madelene Upcott</td><td>Fruit & Nut Bars</td><td>05-Jan-22</td><td>$5,579 </td><td>92</td><td>Australia</td></tr><tr><td>Wilone O'Kielt</td><td>Drinking Coco</td><td>06-Apr-22</td><td>$623 </td><td>283</td><td>Australia</td></tr><tr><td>Gunar Cockshoot</td><td>Fruit & Nut Bars</td><td>15-Jun-22</td><td>$6,013 </td><td>21</td><td>Australia</td></tr><tr><td>Rafaelita Blaksland</td><td>Drinking Coco</td><td>21-Feb-22</td><td>$11,550 </td><td>396</td><td>Australia</td></tr><tr><td>Kelci Walkden</td><td>Eclairs</td><td>23-Mar-22</td><td>$7,273 </td><td>547</td><td>Australia</td></tr><tr><td>Husein Augar</td><td>Orange Choco</td><td>28-Jun-22</td><td>$8,897 </td><td>188</td><td>Australia</td></tr><tr><td>Marney O'Breen</td><td>Milk Bars</td><td>28-Jul-22</td><td>$2,464 </td><td>387</td><td>Australia</td></tr><tr><td>Kaine Padly</td><td>Manuka Honey Choco</td><td>12-Jan-22</td><td>$2,765 </td><td>264</td><td>Australia</td></tr><tr><td>Ches Bonnell</td><td>Eclairs</td><td>05-Jul-22</td><td>$4,116 </td><td>128</td><td>Australia</td></tr><tr><td>Brien Boise</td><td>Baker's Choco Chips</td><td>04-Jan-22</td><td>$12,516 </td><td>212</td><td>Australia</td></tr><tr><td>Dennison Crosswaite</td><td>99% Dark & Pure</td><td>31-Jan-22</td><td>$2,758 </td><td>18</td><td>Australia</td></tr><tr><td>Camilla Castle</td><td>70% Dark Bites</td><td>29-Apr-22</td><td>$6,048 </td><td>477</td><td>Australia</td></tr><tr><td>Curtice Advani</td><td>Orange Choco</td><td>12-Jul-22</td><td>$854 </td><td>136</td><td>Australia</td></tr><tr><td>Mallorie Waber</td><td>Milk Bars</td><td>29-Jul-22</td><td>$2,779 </td><td>104</td><td>Australia</td></tr><tr><td>Ches Bonnell</td><td>White Choc</td><td>02-Mar-22</td><td>$1,043 </td><td>202</td><td>Australia</td></tr><tr><td>Jehu Rudeforth</td><td>50% Dark Bites</td><td>14-Jan-22</td><td>$5,194 </td><td>418</td><td>Australia</td></tr><tr><td>Jehu Rudeforth</td><td>Orange Choco</td><td>23-Mar-22</td><td>$13,706 </td><td>26</td><td>Australia</td></tr><tr><td>Barr Faughny</td><td>White Choc</td><td>04-Jul-22</td><td>$8,113 </td><td>370</td><td>Australia</td></tr><tr><td>Dennison Crosswaite</td><td>50% Dark Bites</td><td>01-Apr-22</td><td>$7,287 </td><td>12</td><td>Australia</td></tr><tr><td>Curtice Advani</td><td>Organic Choco Syrup</td><td>28-Jun-22</td><td>$3,472 </td><td>311</td><td>Australia</td></tr><tr><td>Wilone O'Kielt</td><td>After Nines</td><td>27-May-22</td><td>$3,325 </td><td>26</td><td>Australia</td></tr><tr><td>Jan Morforth</td><td>White Choc</td><td>27-Jul-22</td><td>$3,472 </td><td>32</td><td>Australia</td></tr><tr><td>Ches Bonnell</td><td>Mint Chip Choco</td><td>21-Feb-22</td><td>$9,660 </td><td>92</td><td>Australia</td></tr><tr><td>Karlen McCaffrey</td><td>White Choc</td><td>05-Jan-22</td><td>$7,357 </td><td>48</td><td>Australia</td></tr><tr><td>Brien Boise</td><td>Choco Coated Almonds</td><td>25-May-22</td><td>$5,124 </td><td>62</td><td>Australia</td></tr><tr><td>Beverie Moffet</td><td>Milk Bars</td><td>25-May-22</td><td>$735 </td><td>390</td><td>Australia</td></tr><tr><td>Jan Morforth</td><td>Orange Choco</td><td>04-Jul-22</td><td>$3,199 </td><td>122</td><td>Australia</td></tr><tr><td>Ches Bonnell</td><td>70% Dark Bites</td><td>12-Jan-22</td><td>$3,136 </td><td>125</td><td>Australia</td></tr><tr><td>Kaine Padly</td><td>Peanut Butter Cubes</td><td>25-Mar-22</td><td>$5,460 </td><td>286</td><td>Australia</td></tr><tr><td>Husein Augar</td><td>Manuka Honey Choco</td><td>15-Mar-22</td><td>$7,161 </td><td>92</td><td>Australia</td></tr><tr><td>Van Tuxwell</td><td>Milk Bars</td><td>20-Jun-22</td><td>$7,910 </td><td>87</td><td>Australia</td></tr><tr><td>Dotty Strutley</td><td>50% Dark Bites</td><td>12-May-22</td><td>$3,108 </td><td>252</td><td>Australia</td></tr><tr><td>Madelene Upcott</td><td>50% Dark Bites</td><td>25-Jul-22</td><td>$7,350 </td><td>6</td><td>Australia</td></tr><tr><td>Gunar Cockshoot</td><td>Almond Choco</td><td>25-Jan-22</td><td>$3,752 </td><td>424</td><td>Australia</td></tr><tr><td>Beverie Moffet</td><td>Baker's Choco Chips</td><td>04-Aug-22</td><td>$3,192 </td><td>109</td><td>Australia</td></tr><tr><td>Marney O'Breen</td><td>Smooth Sliky Salty</td><td>03-Jan-22</td><td>$3,745 </td><td>170</td><td>Australia</td></tr><tr><td>Mallorie Waber</td><td>Orange Choco</td><td>07-Mar-22</td><td>$14,658 </td><td>275</td><td>Australia</td></tr><tr><td>Gigi Bohling</td><td>Drinking Coco</td><td>27-Jul-22</td><td>$2,807 </td><td>139</td><td>Australia</td></tr><tr><td>Beverie Moffet</td><td>White Choc</td><td>27-Jun-22</td><td>$2,240 </td><td>166</td><td>Australia</td></tr><tr><td>Dotty Strutley</td><td>Eclairs</td><td>26-Jan-22</td><td>$6,979 </td><td>3</td><td>Australia</td></tr><tr><td>Wilone O'Kielt</td><td>Fruit & Nut Bars</td><td>15-Jun-22</td><td>$392 </td><td>102</td><td>Australia</td></tr><tr><td>Karlen McCaffrey</td><td>Almond Choco</td><td>08-Jul-22</td><td>$7,294 </td><td>128</td><td>Australia</td></tr><tr><td>Husein Augar</td><td>50% Dark Bites</td><td>19-Aug-22</td><td>$14,889 </td><td>52</td><td>Australia</td></tr><tr><td>Madelene Upcott</td><td>Choco Coated Almonds</td><td>08-Apr-22</td><td>$2,058 </td><td>72</td><td>Australia</td></tr><tr><td>Mallorie Waber</td><td>85% Dark Bars</td><td>26-Aug-22</td><td>$2,541 </td><td>53</td><td>Australia</td></tr><tr><td>Gigi Bohling</td><td>White Choc</td><td>11-May-22</td><td>$5,523 </td><td>87</td><td>Australia</td></tr><tr><td>Mallorie Waber</td><td>Almond Choco</td><td>01-Aug-22</td><td>$7,882 </td><td>125</td><td>Australia</td></tr><tr><td>Brien Boise</td><td>Drinking Coco</td><td>27-Jul-22</td><td>$6,832 </td><td>156</td><td>Australia</td></tr><tr><td>Rafaelita Blaksland</td><td>50% Dark Bites</td><td>22-Mar-22</td><td>$3,010 </td><td>40</td><td>Australia</td></tr><tr><td>Kelci Walkden</td><td>After Nines</td><td>02-Mar-22</td><td>$6,916 </td><td>288</td><td>Australia</td></tr><tr><td>Gunar Cockshoot</td><td>Raspberry Choco</td><td>17-Mar-22</td><td>$602 </td><td>72</td><td>Australia</td></tr><tr><td>Van Tuxwell</td><td>Caramel Stuffed Bars</td><td>17-May-22</td><td>$5,936 </td><td>59</td><td>Australia</td></tr><tr><td>Curtice Advani</td><td>Almond Choco</td><td>13-Jul-22</td><td>$2,912 </td><td>75</td><td>Australia</td></tr><tr><td>Madelene Upcott</td><td>85% Dark Bars</td><td>16-Jun-22</td><td>$1,575 </td><td>329</td><td>Australia</td></tr><tr><td>Jehu Rudeforth</td><td>Peanut Butter Cubes</td><td>24-Jun-22</td><td>$5,691 </td><td>38</td><td>Australia</td></tr><tr><td>Camilla Castle</td><td>Caramel Stuffed Bars</td><td>02-May-22</td><td>$3,178 </td><td>16</td><td>Australia</td></tr><tr><td>Curtice Advani</td><td>99% Dark & Pure</td><td>07-Jan-22</td><td>$4,676 </td><td>84</td><td>Australia</td></tr><tr><td>Gunar Cockshoot</td><td>Drinking Coco</td><td>14-Jan-22</td><td>$2,317 </td><td>195</td><td>Australia</td></tr><tr><td>Dotty Strutley</td><td>Mint Chip Choco</td><td>01-Aug-22</td><td>$6,790 </td><td>25</td><td>Australia</td></tr><tr><td>Roddy Speechley</td><td>Mint Chip Choco</td><td>05-May-22</td><td>$6,797 </td><td>252</td><td>Australia</td></tr><tr><td>Roddy Speechley</td><td>Almond Choco</td><td>24-Jun-22</td><td>$4,466 </td><td>74</td><td>Australia</td></tr><tr><td>Camilla Castle</td><td>99% Dark & Pure</td><td>18-Jan-22</td><td>$4,669 </td><td>101</td><td>Australia</td></tr><tr><td>Ches Bonnell</td><td>Smooth Sliky Salty</td><td>16-May-22</td><td>$7,490 </td><td>54</td><td>Australia</td></tr><tr><td>Husein Augar</td><td>Eclairs</td><td>04-Jul-22</td><td>$6,993 </td><td>31</td><td>Australia</td></tr><tr><td>Camilla Castle</td><td>Manuka Honey Choco</td><td>17-Mar-22</td><td>$637 </td><td>169</td><td>Australia</td></tr><tr><td>Oby Sorrel</td><td>Almond Choco</td><td>15-Feb-22</td><td>$6,034 </td><td>223</td><td>Australia</td></tr><tr><td>Dennison Crosswaite</td><td>Organic Choco Syrup</td><td>10-May-22</td><td>$5,775 </td><td>41</td><td>Australia</td></tr><tr><td>Marney O'Breen</td><td>Spicy Special Slims</td><td>23-Jun-22</td><td>$13,125 </td><td>275</td><td>Australia</td></tr><tr><td>Rafaelita Blaksland</td><td>Organic Choco Syrup</td><td>26-Jan-22</td><td>$994 </td><td>105</td><td>Australia</td></tr><tr><td>Oby Sorrel</td><td>Raspberry Choco</td><td>17-Feb-22</td><td>$1,043 </td><td>120</td><td>Australia</td></tr><tr><td>Jan Morforth</td><td>50% Dark Bites</td><td>14-Jun-22</td><td>$3,402 </td><td>182</td><td>Australia</td></tr><tr><td>Beverie Moffet</td><td>Smooth Sliky Salty</td><td>25-Jan-22</td><td>$10,507 </td><td>467</td><td>Australia</td></tr><tr><td>Karlen McCaffrey</td><td>70% Dark Bites</td><td>24-Jun-22</td><td>$238 </td><td>317</td><td>Australia</td></tr><tr><td>Oby Sorrel</td><td>Milk Bars</td><td>21-Jun-22</td><td>$7,672 </td><td>254</td><td>Australia</td></tr><tr><td>Andria Kimpton</td><td>85% Dark Bars</td><td>23-Aug-22</td><td>$4,186 </td><td>233</td><td>Australia</td></tr><tr><td>Camilla Castle</td><td>Smooth Sliky Salty</td><td>03-Mar-22</td><td>$7,406 </td><td>118</td><td>Australia</td></tr><tr><td>Jehu Rudeforth</td><td>Drinking Coco</td><td>14-Jan-22</td><td>$2,611 </td><td>65</td><td>Australia</td></tr><tr><td>Gigi Bohling</td><td>Caramel Stuffed Bars</td><td>08-Jul-22</td><td>$8,001 </td><td>151</td><td>Australia</td></tr><tr><td>Andria Kimpton</td><td>Peanut Butter Cubes</td><td>20-Apr-22</td><td>$6,678 </td><td>148</td><td>Australia</td></tr><tr><td>Jan Morforth</td><td>70% Dark Bites</td><td>04-Mar-22</td><td>$5,222 </td><td>384</td><td>Australia</td></tr><tr><td>Kaine Padly</td><td>70% Dark Bites</td><td>08-Feb-22</td><td>$6,706 </td><td>223</td><td>Australia</td></tr><tr><td>Kaine Padly</td><td>Fruit & Nut Bars</td><td>20-Jun-22</td><td>$7,434 </td><td>85</td><td>Australia</td></tr><tr><td>Madelene Upcott</td><td>Mint Chip Choco</td><td>02-May-22</td><td>$2,751 </td><td>153</td><td>Australia</td></tr><tr><td>Rafaelita Blaksland</td><td>Baker's Choco Chips</td><td>22-Aug-22</td><td>$2,786 </td><td>51</td><td>Australia</td></tr><tr><td>Karlen McCaffrey</td><td>After Nines</td><td>11-Aug-22</td><td>$2,303 </td><td>67</td><td>Australia</td></tr><tr><td>Gunar Cockshoot</td><td>50% Dark Bites</td><td>02-Mar-22</td><td>$12,271 </td><td>116</td><td>Australia</td></tr><tr><td>Marney O'Breen</td><td>Choco Coated Almonds</td><td>27-Jul-22</td><td>$11,298 </td><td>41</td><td>Australia</td></tr><tr><td>Camilla Castle</td><td>Raspberry Choco</td><td>23-Aug-22</td><td>$6,342 </td><td>178</td><td>Australia</td></tr><tr><td>Kelci Walkden</td><td>99% Dark & Pure</td><td>30-Jun-22</td><td>$3,185 </td><td>34</td><td>Australia</td></tr><tr><td>Dotty Strutley</td><td>Spicy Special Slims</td><td>17-Jan-22</td><td>$8,225 </td><td>91</td><td>Australia</td></tr><tr><td>Kaine Padly</td><td>Almond Choco</td><td>22-Feb-22</td><td>$4,102 </td><td>392</td><td>Australia</td></tr><tr><td>Kelci Walkden</td><td>Orange Choco</td><td>29-Apr-22</td><td>$11,116 </td><td>432</td><td>Australia</td></tr><tr><td>Marney O'Breen</td><td>Manuka Honey Choco</td><td>05-Apr-22</td><td>$13,076 </td><td>236</td><td>Australia</td></tr><tr><td>Kelci Walkden</td><td>White Choc</td><td>24-Aug-22</td><td>$8,715 </td><td>168</td><td>Australia</td></tr><tr><td>Kaine Padly</td><td>Milk Bars</td><td>09-Jun-22</td><td>$4,046 </td><td>89</td><td>Australia</td></tr><tr><td>Rafaelita Blaksland</td><td>Manuka Honey Choco</td><td>03-Aug-22</td><td>$4,396 </td><td>131</td><td>Australia</td></tr><tr><td>Mallorie Waber</td><td>Spicy Special Slims</td><td>29-Jun-22</td><td>$5,439 </td><td>287</td><td>Australia</td></tr><tr><td>Beverie Moffet</td><td>Fruit & Nut Bars</td><td>22-Apr-22</td><td>$1,435 </td><td>258</td><td>Australia</td></tr><tr><td>Kelci Walkden</td><td>Raspberry Choco</td><td>07-Jun-22</td><td>$679 </td><td>56</td><td>Australia</td></tr><tr><td>Jehu Rudeforth</td><td>99% Dark & Pure</td><td>25-Feb-22</td><td>$10,486 </td><td>198</td><td>Australia</td></tr><tr><td>Jan Morforth</td><td>Mint Chip Choco</td><td>22-Feb-22</td><td>$17,626 </td><td>103</td><td>Australia</td></tr><tr><td>Ches Bonnell</td><td>Caramel Stuffed Bars</td><td>17-Jan-22</td><td>$8,757 </td><td>162</td><td>Australia</td></tr><tr><td>Dennison Crosswaite</td><td>Milk Bars</td><td>09-Jun-22</td><td>$10,038 </td><td>286</td><td>Australia</td></tr><tr><td>Roddy Speechley</td><td>Drinking Coco</td><td>12-May-22</td><td>$12,565 </td><td>102</td><td>Australia</td></tr><tr><td>Curtice Advani</td><td>50% Dark Bites</td><td>29-Jun-22</td><td>$504 </td><td>232</td><td>Australia</td></tr><tr><td>Wilone O'Kielt</td><td>Baker's Choco Chips</td><td>25-Jan-22</td><td>$2,961 </td><td>154</td><td>Australia</td></tr><tr><td>Brien Boise</td><td>Milk Bars</td><td>27-Jul-22</td><td>$1,981 </td><td>52</td><td>Australia</td></tr><tr><td>Husein Augar</td><td>Fruit & Nut Bars</td><td>28-Jan-22</td><td>$7,959 </td><td>53</td><td>Australia</td></tr><tr><td>Madelene Upcott</td><td>Organic Choco Syrup</td><td>05-Jul-22</td><td>$10,794 </td><td>50</td><td>Australia</td></tr><tr><td>Oby Sorrel</td><td>85% Dark Bars</td><td>30-Jun-22</td><td>$6,944 </td><td>27</td><td>Australia</td></tr><tr><td>Husein Augar</td><td>White Choc</td><td>11-May-22</td><td>$3,171 </td><td>220</td><td>Australia</td></tr><tr><td>Van Tuxwell</td><td>99% Dark & Pure</td><td>17-Jan-22</td><td>$112 </td><td>128</td><td>Australia</td></tr><tr><td>Brien Boise</td><td>Spicy Special Slims</td><td>09-May-22</td><td>$6,223 </td><td>256</td><td>Australia</td></tr><tr><td>Rafaelita Blaksland</td><td>Smooth Sliky Salty</td><td>30-May-22</td><td>$3,969 </td><td>243</td><td>Australia</td></tr><tr><td>Marney O'Breen</td><td>Baker's Choco Chips</td><td>13-Jan-22</td><td>$5,810 </td><td>101</td><td>Australia</td></tr><tr><td>Kaine Padly</td><td>Mint Chip Choco</td><td>17-May-22</td><td>$4,403 </td><td>159</td><td>Australia</td></tr><tr><td>Curtice Advani</td><td>Eclairs</td><td>25-Mar-22</td><td>$5,796 </td><td>55</td><td>Australia</td></tr><tr><td>Madelene Upcott</td><td>Orange Choco</td><td>15-Apr-22</td><td>$6,713 </td><td>398</td><td>Australia</td></tr><tr><td>Wilone O'Kielt</td><td>50% Dark Bites</td><td>03-Aug-22</td><td>$10,031 </td><td>114</td><td>Australia</td></tr><tr><td>Karlen McCaffrey</td><td>50% Dark Bites</td><td>17-Jan-22</td><td>$6,678 </td><td>708</td><td>Australia</td></tr><tr><td>Barr Faughny</td><td>Caramel Stuffed Bars</td><td>29-Jul-22</td><td>$2,933 </td><td>55</td><td>Australia</td></tr><tr><td>Gigi Bohling</td><td>Raspberry Choco</td><td>30-Mar-22</td><td>$6,524 </td><td>303</td><td>Australia</td></tr><tr><td>Mallorie Waber</td><td>Choco Coated Almonds</td><td>18-Mar-22</td><td>$15,750 </td><td>92</td><td>Australia</td></tr><tr><td>Gigi Bohling</td><td>Almond Choco</td><td>17-Aug-22</td><td>$910 </td><td>117</td><td>Australia</td></tr><tr><td>Jehu Rudeforth</td><td>Milk Bars</td><td>18-Mar-22</td><td>$8,659 </td><td>29</td><td>Australia</td></tr><tr><td>Husein Augar</td><td>99% Dark & Pure</td><td>26-Aug-22</td><td>$3,087 </td><td>128</td><td>Australia</td></tr><tr><td>Dotty Strutley</td><td>Baker's Choco Chips</td><td>07-Jun-22</td><td>$3,605 </td><td>68</td><td>Australia</td></tr><tr><td>Barr Faughny</td><td>85% Dark Bars</td><td>10-Feb-22</td><td>$8,498 </td><td>44</td><td>Australia</td></tr><tr><td>Beverie Moffet</td><td>50% Dark Bites</td><td>16-May-22</td><td>$700 </td><td>457</td><td>Australia</td></tr><tr><td>Van Tuxwell</td><td>50% Dark Bites</td><td>13-Jul-22</td><td>$644 </td><td>137</td><td>Australia</td></tr><tr><td>Kelci Walkden</td><td>Milk Bars</td><td>24-Feb-22</td><td>$7,910 </td><td>125</td><td>Australia</td></tr><tr><td>Dotty Strutley</td><td>Almond Choco</td><td>13-May-22</td><td>$1,456 </td><td>91</td><td>Australia</td></tr><tr><td>Andria Kimpton</td><td>Manuka Honey Choco</td><td>30-Mar-22</td><td>$9,744 </td><td>377</td><td>Australia</td></tr><tr><td>Curtice Advani</td><td>After Nines</td><td>11-Aug-22</td><td>$63 </td><td>105</td><td>Australia</td></tr><tr><td>Jan Morforth</td><td>Drinking Coco</td><td>18-Feb-22</td><td>$2,821 </td><td>24</td><td>Australia</td></tr><tr><td>Rafaelita Blaksland</td><td>Raspberry Choco</td><td>19-Jan-22</td><td>$6,916 </td><td>259</td><td>Australia</td></tr><tr><td>Kaine Padly</td><td>50% Dark Bites</td><td>02-Aug-22</td><td>$8,995 </td><td>78</td><td>Australia</td></tr><tr><td>Gigi Bohling</td><td>Eclairs</td><td>12-Apr-22</td><td>$7,252 </td><td>136</td><td>Australia</td></tr><tr><td>Andria Kimpton</td><td>Baker's Choco Chips</td><td>09-Aug-22</td><td>$329 </td><td>109</td><td>Australia</td></tr><tr><td>Andria Kimpton</td><td>Almond Choco</td><td>25-Apr-22</td><td>$3,192 </td><td>175</td><td>Australia</td></tr><tr><td>Madelene Upcott</td><td>99% Dark & Pure</td><td>01-Aug-22</td><td>$4,326 </td><td>154</td><td>Australia</td></tr><tr><td>Mallorie Waber</td><td>Eclairs</td><td>22-Aug-22</td><td>$9,527 </td><td>222</td><td>Australia</td></tr><tr><td>Kelci Walkden</td><td>Almond Choco</td><td>30-May-22</td><td>$4,879 </td><td>350</td><td>Australia</td></tr><tr><td>Gigi Bohling</td><td>70% Dark Bites</td><td>18-Aug-22</td><td>$1,372 </td><td>105</td><td>Australia</td></tr><tr><td>Jehu Rudeforth</td><td>Spicy Special Slims</td><td>13-Jan-22</td><td>$5,012 </td><td>384</td><td>Australia</td></tr><tr><td>Barr Faughny</td><td>Organic Choco Syrup</td><td>07-Jan-22</td><td>$2,303 </td><td>33</td><td>Australia</td></tr><tr><td>Van Tuxwell</td><td>Baker's Choco Chips</td><td>11-May-22</td><td>$13,258 </td><td>32</td><td>Australia</td></tr><tr><td>Oby Sorrel</td><td>50% Dark Bites</td><td>06-May-22</td><td>$721 </td><td>151</td><td>Australia</td></tr><tr><td>Curtice Advani</td><td>Caramel Stuffed Bars</td><td>14-Feb-22</td><td>$9,114 </td><td>140</td><td>Australia</td></tr><tr><td>Dennison Crosswaite</td><td>Drinking Coco</td><td>13-Jul-22</td><td>$7,091 </td><td>194</td><td>Australia</td></tr><tr><td>Barr Faughny</td><td>Raspberry Choco</td><td>27-May-22</td><td>$9,268 </td><td>100</td><td>Australia</td></tr><tr><td>Dotty Strutley</td><td>Choco Coated Almonds</td><td>13-Apr-22</td><td>$1,645 </td><td>284</td><td>Australia</td></tr><tr><td>Van Tuxwell</td><td>70% Dark Bites</td><td>10-Jan-22</td><td>$7,063 </td><td>104</td><td>Australia</td></tr><tr><td>Roddy Speechley</td><td>85% Dark Bars</td><td>08-Jul-22</td><td>$4,200 </td><td>80</td><td>Australia</td></tr><tr><td>Kaine Padly</td><td>After Nines</td><td>08-Apr-22</td><td>$6,832 </td><td>306</td><td>Australia</td></tr><tr><td>Madelene Upcott</td><td>Raspberry Choco</td><td>13-Jul-22</td><td>$6,321 </td><td>88</td><td>Australia</td></tr><tr><td>Oby Sorrel</td><td>Manuka Honey Choco</td><td>26-Jan-22</td><td>$3,906 </td><td>76</td><td>Australia</td></tr><tr><td>Gigi Bohling</td><td>Smooth Sliky Salty</td><td>25-Jan-22</td><td>$5,768 </td><td>119</td><td>Australia</td></tr><tr><td>Karlen McCaffrey</td><td>Raspberry Choco</td><td>23-Aug-22</td><td>$994 </td><td>57</td><td>Australia</td></tr><tr><td>Gigi Bohling</td><td>Orange Choco</td><td>09-Mar-22</td><td>$574 </td><td>156</td><td>Australia</td></tr><tr><td>Husein Augar</td><td>Organic Choco Syrup</td><td>08-Feb-22</td><td>$938 </td><td>158</td><td>Australia</td></tr><tr><td>Brien Boise</td><td>White Choc</td><td>25-Aug-22</td><td>$4,879 </td><td>22</td><td>Australia</td></tr><tr><td>Ches Bonnell</td><td>Peanut Butter Cubes</td><td>14-Mar-22</td><td>$10,199 </td><td>68</td><td>Australia</td></tr><tr><td>Oby Sorrel</td><td>Spicy Special Slims</td><td>26-Apr-22</td><td>$11,389 </td><td>26</td><td>Australia</td></tr><tr><td>Karlen McCaffrey</td><td>99% Dark & Pure</td><td>26-Jan-22</td><td>$10,822 </td><td>168</td><td>Australia</td></tr><tr><td>Mallorie Waber</td><td>Smooth Sliky Salty</td><td>11-Feb-22</td><td>$4,158 </td><td>109</td><td>Australia</td></tr><tr><td>Brien Boise</td><td>Organic Choco Syrup</td><td>15-Jul-22</td><td>$4,263 </td><td>264</td><td>Australia</td></tr><tr><td>Dennison Crosswaite</td><td>Baker's Choco Chips</td><td>11-Jan-22</td><td>$13,846 </td><td>421</td><td>Australia</td></tr><tr><td>Wilone O'Kielt</td><td>Smooth Sliky Salty</td><td>04-Jan-22</td><td>$2,226 </td><td>46</td><td>Australia</td></tr><tr><td>Jehu Rudeforth</td><td>After Nines</td><td>14-Feb-22</td><td>$5,250 </td><td>47</td><td>Australia</td></tr><tr><td>Mallorie Waber</td><td>Raspberry Choco</td><td>25-Apr-22</td><td>$8,400 </td><td>27</td><td>Australia</td></tr><tr><td>Kelci Walkden</td><td>Drinking Coco</td><td>04-May-22</td><td>$1,288 </td><td>60</td><td>Australia</td></tr><tr><td>Roddy Speechley</td><td>Organic Choco Syrup</td><td>04-Jul-22</td><td>$3,647 </td><td>76</td><td>Australia</td></tr><tr><td>Gunar Cockshoot</td><td>99% Dark & Pure</td><td>18-Aug-22</td><td>$7,952 </td><td>235</td><td>Australia</td></tr><tr><td>Ches Bonnell</td><td>Choco Coated Almonds</td><td>08-Apr-22</td><td>$1,470 </td><td>167</td><td>Australia</td></tr><tr><td>Van Tuxwell</td><td>Mint Chip Choco</td><td>13-Jan-22</td><td>$2,674 </td><td>295</td><td>Australia</td></tr><tr><td>Rafaelita Blaksland</td><td>White Choc</td><td>21-Mar-22</td><td>$6,818 </td><td>102</td><td>Australia</td></tr><tr><td>Madelene Upcott</td><td>70% Dark Bites</td><td>15-Apr-22</td><td>$3,710 </td><td>260</td><td>Australia</td></tr><tr><td>Dotty Strutley</td><td>White Choc</td><td>05-Jul-22</td><td>$6,055 </td><td>93</td><td>Australia</td></tr><tr><td>Brien Boise</td><td>Peanut Butter Cubes</td><td>19-Aug-22</td><td>$301 </td><td>205</td><td>Australia</td></tr><tr><td>Karlen McCaffrey</td><td>Spicy Special Slims</td><td>17-May-22</td><td>$4,410 </td><td>323</td><td>Australia</td></tr><tr><td>Jehu Rudeforth</td><td>Mint Chip Choco</td><td>04-Jan-22</td><td>$5,320 </td><td>180</td><td>UK</td></tr><tr><td>Jehu Rudeforth</td><td>Peanut Butter Cubes</td><td>24-Feb-22</td><td>$13,685 </td><td>184</td><td>UK</td></tr><tr><td>Oby Sorrel</td><td>99% Dark & Pure</td><td>25-Jan-22</td><td>$13,685 </td><td>176</td><td>UK</td></tr><tr><td>Rafaelita Blaksland</td><td>Smooth Sliky Salty</td><td>13-Jan-22</td><td>$4,704 </td><td>62</td><td>UK</td></tr><tr><td>Curtice Advani</td><td>85% Dark Bars</td><td>08-Jun-22</td><td>$1,085 </td><td>172</td><td>UK</td></tr><tr><td>Husein Augar</td><td>Drinking Coco</td><td>14-Mar-22</td><td>$3,003 </td><td>113</td><td>UK</td></tr><tr><td>Rafaelita Blaksland</td><td>99% Dark & Pure</td><td>29-Jun-22</td><td>$12,446 </td><td>150</td><td>UK</td></tr><tr><td>Karlen McCaffrey</td><td>Almond Choco</td><td>30-Jun-22</td><td>$6,839 </td><td>133</td><td>UK</td></tr><tr><td>Andria Kimpton</td><td>50% Dark Bites</td><td>24-Aug-22</td><td>$2,653 </td><td>314</td><td>UK</td></tr><tr><td>Gigi Bohling</td><td>Almond Choco</td><td>10-Jan-22</td><td>$5,642 </td><td>9</td><td>UK</td></tr><tr><td>Van Tuxwell</td><td>Organic Choco Syrup</td><td>26-Aug-22</td><td>$2,002 </td><td>214</td><td>UK</td></tr><tr><td>Van Tuxwell</td><td>99% Dark & Pure</td><td>31-Jan-22</td><td>$4,725 </td><td>137</td><td>UK</td></tr><tr><td>Dennison Crosswaite</td><td>Eclairs</td><td>24-Mar-22</td><td>$6,188 </td><td>270</td><td>UK</td></tr><tr><td>Kelci Walkden</td><td>Fruit & Nut Bars</td><td>29-Jun-22</td><td>$13,006 </td><td>482</td><td>UK</td></tr><tr><td>Husein Augar</td><td>Spicy Special Slims</td><td>25-Aug-22</td><td>$4,697 </td><td>42</td><td>UK</td></tr><tr><td>Kelci Walkden</td><td>Smooth Sliky Salty</td><td>19-Jan-22</td><td>$5,929 </td><td>175</td><td>UK</td></tr><tr><td>Kelci Walkden</td><td>Eclairs</td><td>25-Jan-22</td><td>$4,606 </td><td>57</td><td>UK</td></tr><tr><td>Dotty Strutley</td><td>Almond Choco</td><td>28-Jul-22</td><td>$16,114 </td><td>96</td><td>UK</td></tr><tr><td>Van Tuxwell</td><td>Milk Bars</td><td>25-Jul-22</td><td>$4,263 </td><td>90</td><td>UK</td></tr><tr><td>Ches Bonnell</td><td>Smooth Sliky Salty</td><td>11-Jul-22</td><td>$5,663 </td><td>110</td><td>UK</td></tr><tr><td>Kaine Padly</td><td>Organic Choco Syrup</td><td>31-Mar-22</td><td>$2,282 </td><td>178</td><td>UK</td></tr><tr><td>Karlen McCaffrey</td><td>Eclairs</td><td>25-Jan-22</td><td>$7,798 </td><td>196</td><td>UK</td></tr><tr><td>Gigi Bohling</td><td>After Nines</td><td>29-Mar-22</td><td>$8,029 </td><td>175</td><td>UK</td></tr><tr><td>Marney O'Breen</td><td>Caramel Stuffed Bars</td><td>19-Jul-22</td><td>$3,549 </td><td>112</td><td>UK</td></tr><tr><td>Brien Boise</td><td>White Choc</td><td>12-Apr-22</td><td>$5,299 </td><td>167</td><td>UK</td></tr><tr><td>Karlen McCaffrey</td><td>Baker's Choco Chips</td><td>07-Feb-22</td><td>$4,753 </td><td>389</td><td>UK</td></tr><tr><td>Oby Sorrel</td><td>Choco Coated Almonds</td><td>17-Mar-22</td><td>$9,324 </td><td>41</td><td>UK</td></tr><tr><td>Camilla Castle</td><td>White Choc</td><td>03-Jan-22</td><td>$9,982 </td><td>187</td><td>UK</td></tr><tr><td>Dotty Strutley</td><td>99% Dark & Pure</td><td>03-Jan-22</td><td>$9,310 </td><td>282</td><td>UK</td></tr><tr><td>Barr Faughny</td><td>50% Dark Bites</td><td>28-Jan-22</td><td>$581 </td><td>65</td><td>UK</td></tr><tr><td>Husein Augar</td><td>Choco Coated Almonds</td><td>02-Mar-22</td><td>$4,333 </td><td>43</td><td>UK</td></tr><tr><td>Dennison Crosswaite</td><td>White Choc</td><td>03-Aug-22</td><td>$7,238 </td><td>265</td><td>UK</td></tr><tr><td>Beverie Moffet</td><td>White Choc</td><td>30-Jun-22</td><td>$6,475 </td><td>76</td><td>UK</td></tr><tr><td>Ches Bonnell</td><td>Orange Choco</td><td>27-Apr-22</td><td>$14,238 </td><td>54</td><td>UK</td></tr><tr><td>Marney O'Breen</td><td>Smooth Sliky Salty</td><td>13-May-22</td><td>$18,991 </td><td>88</td><td>UK</td></tr><tr><td>Van Tuxwell</td><td>Raspberry Choco</td><td>16-Mar-22</td><td>$6,538 </td><td>79</td><td>UK</td></tr><tr><td>Barr Faughny</td><td>Raspberry Choco</td><td>22-Aug-22</td><td>$5,481 </td><td>69</td><td>UK</td></tr><tr><td>Marney O'Breen</td><td>Baker's Choco Chips</td><td>10-Jun-22</td><td>$252 </td><td>154</td><td>UK</td></tr><tr><td>Husein Augar</td><td>Caramel Stuffed Bars</td><td>15-Apr-22</td><td>$14,938 </td><td>433</td><td>UK</td></tr><tr><td>Jehu Rudeforth</td><td>70% Dark Bites</td><td>14-Apr-22</td><td>$5,565 </td><td>258</td><td>UK</td></tr><tr><td>Wilone O'Kielt</td><td>Drinking Coco</td><td>18-May-22</td><td>$3,388 </td><td>55</td><td>UK</td></tr><tr><td>Dotty Strutley</td><td>70% Dark Bites</td><td>20-Jun-22</td><td>$1,267 </td><td>216</td><td>UK</td></tr><tr><td>Beverie Moffet</td><td>Smooth Sliky Salty</td><td>04-May-22</td><td>$4,403 </td><td>76</td><td>UK</td></tr><tr><td>Jehu Rudeforth</td><td>Choco Coated Almonds</td><td>22-Apr-22</td><td>$4,270 </td><td>185</td><td>UK</td></tr><tr><td>Gunar Cockshoot</td><td>Manuka Honey Choco</td><td>27-Jun-22</td><td>$6,762 </td><td>46</td><td>UK</td></tr><tr><td>Madelene Upcott</td><td>Caramel Stuffed Bars</td><td>15-Apr-22</td><td>$161 </td><td>145</td><td>UK</td></tr><tr><td>Barr Faughny</td><td>White Choc</td><td>05-Jul-22</td><td>$1,652 </td><td>72</td><td>UK</td></tr><tr><td>Kaine Padly</td><td>Peanut Butter Cubes</td><td>11-May-22</td><td>$6,272 </td><td>86</td><td>UK</td></tr><tr><td>Dennison Crosswaite</td><td>Peanut Butter Cubes</td><td>07-Feb-22</td><td>$8,925 </td><td>158</td><td>UK</td></tr><tr><td>Ches Bonnell</td><td>Mint Chip Choco</td><td>08-Apr-22</td><td>$2,688 </td><td>209</td><td>UK</td></tr><tr><td>Kelci Walkden</td><td>Orange Choco</td><td>01-Aug-22</td><td>$3,640 </td><td>3</td><td>UK</td></tr><tr><td>Curtice Advani</td><td>White Choc</td><td>01-Feb-22</td><td>$1,540 </td><td>73</td><td>UK</td></tr><tr><td>Gigi Bohling</td><td>Fruit & Nut Bars</td><td>06-Apr-22</td><td>$1,232 </td><td>86</td><td>UK</td></tr><tr><td>Curtice Advani</td><td>Fruit & Nut Bars</td><td>24-Jun-22</td><td>$10,927 </td><td>136</td><td>UK</td></tr><tr><td>Gigi Bohling</td><td>50% Dark Bites</td><td>18-Jul-22</td><td>$8,197 </td><td>69</td><td>UK</td></tr><tr><td>Ches Bonnell</td><td>Manuka Honey Choco</td><td>30-May-22</td><td>$4,221 </td><td>395</td><td>UK</td></tr><tr><td>Gigi Bohling</td><td>70% Dark Bites</td><td>21-Jun-22</td><td>$840 </td><td>81</td><td>UK</td></tr><tr><td>Kaine Padly</td><td>Smooth Sliky Salty</td><td>08-Jun-22</td><td>$9,016 </td><td>554</td><td>UK</td></tr><tr><td>Mallorie Waber</td><td>50% Dark Bites</td><td>21-Feb-22</td><td>$5,502 </td><td>99</td><td>UK</td></tr><tr><td>Van Tuxwell</td><td>Drinking Coco</td><td>04-Apr-22</td><td>$5,803 </td><td>136</td><td>UK</td></tr><tr><td>Husein Augar</td><td>White Choc</td><td>13-Jan-22</td><td>$10,815 </td><td>145</td><td>UK</td></tr><tr><td>Oby Sorrel</td><td>After Nines</td><td>18-Jul-22</td><td>$2,345 </td><td>104</td><td>UK</td></tr><tr><td>Gunar Cockshoot</td><td>Eclairs</td><td>13-Apr-22</td><td>$3,619 </td><td>164</td><td>UK</td></tr><tr><td>Mallorie Waber</td><td>Milk Bars</td><td>10-Jan-22</td><td>$3,563 </td><td>284</td><td>UK</td></tr><tr><td>Kaine Padly</td><td>Manuka Honey Choco</td><td>14-Jan-22</td><td>$7,133 </td><td>118</td><td>UK</td></tr><tr><td>Van Tuxwell</td><td>85% Dark Bars</td><td>11-Jul-22</td><td>$3,577 </td><td>134</td><td>UK</td></tr><tr><td>Marney O'Breen</td><td>Orange Choco</td><td>06-Jun-22</td><td>$11,319 </td><td>12</td><td>UK</td></tr><tr><td>Mallorie Waber</td><td>Mint Chip Choco</td><td>29-Jun-22</td><td>$6,384 </td><td>2</td><td>UK</td></tr><tr><td>Madelene Upcott</td><td>Smooth Sliky Salty</td><td>04-Mar-22</td><td>$14,539 </td><td>84</td><td>UK</td></tr><tr><td>Andria Kimpton</td><td>Drinking Coco</td><td>23-May-22</td><td>$1,554 </td><td>65</td><td>UK</td></tr><tr><td>Beverie Moffet</td><td>Almond Choco</td><td>16-May-22</td><td>$2,506 </td><td>100</td><td>UK</td></tr><tr><td>Ches Bonnell</td><td>White Choc</td><td>03-Jan-22</td><td>$3,269 </td><td>226</td><td>UK</td></tr><tr><td>Gigi Bohling</td><td>Baker's Choco Chips</td><td>16-May-22</td><td>$9,023 </td><td>409</td><td>UK</td></tr><tr><td>Kaine Padly</td><td>Orange Choco</td><td>29-Jun-22</td><td>$1,960 </td><td>191</td><td>UK</td></tr><tr><td>Gigi Bohling</td><td>Milk Bars</td><td>17-May-22</td><td>$1,365 </td><td>232</td><td>UK</td></tr><tr><td>Madelene Upcott</td><td>Organic Choco Syrup</td><td>21-Jul-22</td><td>$6,965 </td><td>163</td><td>UK</td></tr><tr><td>Curtice Advani</td><td>50% Dark Bites</td><td>08-Mar-22</td><td>$3,374 </td><td>142</td><td>UK</td></tr><tr><td>Gigi Bohling</td><td>Drinking Coco</td><td>30-Jun-22</td><td>$5,782 </td><td>42</td><td>UK</td></tr><tr><td>Barr Faughny</td><td>Mint Chip Choco</td><td>07-Jul-22</td><td>$3,724 </td><td>316</td><td>UK</td></tr><tr><td>Ches Bonnell</td><td>Peanut Butter Cubes</td><td>15-Apr-22</td><td>$2,156 </td><td>260</td><td>UK</td></tr><tr><td>Roddy Speechley</td><td>70% Dark Bites</td><td>24-Mar-22</td><td>$1,421 </td><td>284</td><td>UK</td></tr><tr><td>Madelene Upcott</td><td>99% Dark & Pure</td><td>26-Jan-22</td><td>$10,479 </td><td>45</td><td>UK</td></tr><tr><td>Marney O'Breen</td><td>99% Dark & Pure</td><td>13-Jan-22</td><td>$8,113 </td><td>194</td><td>UK</td></tr><tr><td>Dennison Crosswaite</td><td>Milk Bars</td><td>07-Mar-22</td><td>$10,808 </td><td>407</td><td>UK</td></tr><tr><td>Wilone O'Kielt</td><td>Organic Choco Syrup</td><td>12-Jul-22</td><td>$4,858 </td><td>52</td><td>UK</td></tr><tr><td>Marney O'Breen</td><td>Manuka Honey Choco</td><td>10-Jun-22</td><td>$10,983 </td><td>179</td><td>UK</td></tr><tr><td>Madelene Upcott</td><td>Choco Coated Almonds</td><td>24-May-22</td><td>$10,164 </td><td>134</td><td>UK</td></tr><tr><td>Beverie Moffet</td><td>99% Dark & Pure</td><td>10-Aug-22</td><td>$3,486 </td><td>121</td><td>UK</td></tr><tr><td>Jehu Rudeforth</td><td>Baker's Choco Chips</td><td>16-May-22</td><td>$2,485 </td><td>97</td><td>UK</td></tr><tr><td>Gunar Cockshoot</td><td>99% Dark & Pure</td><td>07-Mar-22</td><td>$7 </td><td>84</td><td>UK</td></tr><tr><td>Beverie Moffet</td><td>Choco Coated Almonds</td><td>04-Mar-22</td><td>$3,010 </td><td>69</td><td>UK</td></tr><tr><td>Jehu Rudeforth</td><td>Milk Bars</td><td>03-May-22</td><td>$12,068 </td><td>227</td><td>UK</td></tr><tr><td>Andria Kimpton</td><td>Milk Bars</td><td>11-Feb-22</td><td>$14,336 </td><td>293</td><td>UK</td></tr><tr><td>Brien Boise</td><td>Almond Choco</td><td>25-May-22</td><td>$105 </td><td>125</td><td>UK</td></tr><tr><td>Rafaelita Blaksland</td><td>Eclairs</td><td>27-Apr-22</td><td>$1,379 </td><td>70</td><td>UK</td></tr><tr><td>Ches Bonnell</td><td>Caramel Stuffed Bars</td><td>02-Jun-22</td><td>$2,926 </td><td>300</td><td>UK</td></tr><tr><td>Madelene Upcott</td><td>Fruit & Nut Bars</td><td>05-Jan-22</td><td>$8,512 </td><td>189</td><td>UK</td></tr><tr><td>Beverie Moffet</td><td>Spicy Special Slims</td><td>17-Feb-22</td><td>$8,680 </td><td>252</td><td>UK</td></tr><tr><td>Gunar Cockshoot</td><td>Raspberry Choco</td><td>11-Aug-22</td><td>$6,811 </td><td>344</td><td>UK</td></tr><tr><td>Dennison Crosswaite</td><td>Baker's Choco Chips</td><td>17-Jan-22</td><td>$2,275 </td><td>275</td><td>UK</td></tr><tr><td>Jehu Rudeforth</td><td>Smooth Sliky Salty</td><td>24-Aug-22</td><td>$1,463 </td><td>113</td><td>UK</td></tr><tr><td>Andria Kimpton</td><td>Caramel Stuffed Bars</td><td>07-Jun-22</td><td>$7,924 </td><td>275</td><td>UK</td></tr><tr><td>Jan Morforth</td><td>White Choc</td><td>22-Jun-22</td><td>$8,799 </td><td>47</td><td>UK</td></tr><tr><td>Kelci Walkden</td><td>Choco Coated Almonds</td><td>24-May-22</td><td>$9,506 </td><td>212</td><td>UK</td></tr><tr><td>Gunar Cockshoot</td><td>50% Dark Bites</td><td>13-Jan-22</td><td>$2,107 </td><td>121</td><td>UK</td></tr><tr><td>Jehu Rudeforth</td><td>White Choc</td><td>29-Jun-22</td><td>$1,862 </td><td>284</td><td>UK</td></tr><tr><td>Jan Morforth</td><td>Orange Choco</td><td>15-Jun-22</td><td>$3,780 </td><td>201</td><td>UK</td></tr><tr><td>Andria Kimpton</td><td>White Choc</td><td>12-May-22</td><td>$9,037 </td><td>101</td><td>UK</td></tr><tr><td>Andria Kimpton</td><td>99% Dark & Pure</td><td>25-Jul-22</td><td>$1,155 </td><td>66</td><td>UK</td></tr><tr><td>Marney O'Breen</td><td>50% Dark Bites</td><td>14-Jun-22</td><td>$2,989 </td><td>124</td><td>UK</td></tr><tr><td>Madelene Upcott</td><td>Raspberry Choco</td><td>26-Aug-22</td><td>$7,357 </td><td>341</td><td>UK</td></tr><tr><td>Brien Boise</td><td>Peanut Butter Cubes</td><td>10-Jan-22</td><td>$15,330 </td><td>30</td><td>UK</td></tr><tr><td>Roddy Speechley</td><td>Baker's Choco Chips</td><td>04-Apr-22</td><td>$14,028 </td><td>351</td><td>UK</td></tr><tr><td>Jan Morforth</td><td>Organic Choco Syrup</td><td>12-Apr-22</td><td>$1,197 </td><td>356</td><td>UK</td></tr><tr><td>Ches Bonnell</td><td>Choco Coated Almonds</td><td>07-Jun-22</td><td>$1,687 </td><td>236</td><td>UK</td></tr><tr><td>Brien Boise</td><td>Manuka Honey Choco</td><td>28-Jun-22</td><td>$70 </td><td>103</td><td>UK</td></tr><tr><td>Van Tuxwell</td><td>Baker's Choco Chips</td><td>24-Mar-22</td><td>$2,443 </td><td>20</td><td>UK</td></tr><tr><td>Beverie Moffet</td><td>Eclairs</td><td>22-Apr-22</td><td>$8,463 </td><td>155</td><td>UK</td></tr><tr><td>Husein Augar</td><td>Eclairs</td><td>30-Aug-22</td><td>$1,750 </td><td>252</td><td>UK</td></tr><tr><td>Oby Sorrel</td><td>Smooth Sliky Salty</td><td>31-May-22</td><td>$9,625 </td><td>313</td><td>UK</td></tr><tr><td>Oby Sorrel</td><td>Raspberry Choco</td><td>08-Apr-22</td><td>$4,599 </td><td>323</td><td>UK</td></tr><tr><td>Husein Augar</td><td>Almond Choco</td><td>17-May-22</td><td>$8,309 </td><td>166</td><td>UK</td></tr><tr><td>Roddy Speechley</td><td>Peanut Butter Cubes</td><td>17-Aug-22</td><td>$5,691 </td><td>171</td><td>UK</td></tr><tr><td>Oby Sorrel</td><td>Organic Choco Syrup</td><td>30-Jun-22</td><td>$7,980 </td><td>157</td><td>UK</td></tr><tr><td>Mallorie Waber</td><td>Drinking Coco</td><td>27-May-22</td><td>$3,423 </td><td>100</td><td>UK</td></tr><tr><td>Oby Sorrel</td><td>Milk Bars</td><td>11-Jul-22</td><td>$6,468 </td><td>223</td><td>UK</td></tr><tr><td>Kelci Walkden</td><td>85% Dark Bars</td><td>23-Jun-22</td><td>$3,997 </td><td>228</td><td>UK</td></tr><tr><td>Van Tuxwell</td><td>Eclairs</td><td>29-Jun-22</td><td>$5,474 </td><td>109</td><td>UK</td></tr><tr><td>Jehu Rudeforth</td><td>After Nines</td><td>27-Jun-22</td><td>$1,946 </td><td>164</td><td>UK</td></tr><tr><td>Karlen McCaffrey</td><td>50% Dark Bites</td><td>06-Apr-22</td><td>$3,647 </td><td>310</td><td>UK</td></tr><tr><td>Camilla Castle</td><td>Mint Chip Choco</td><td>26-May-22</td><td>$4,977 </td><td>317</td><td>UK</td></tr><tr><td>Jan Morforth</td><td>Caramel Stuffed Bars</td><td>02-Aug-22</td><td>$3,094 </td><td>468</td><td>UK</td></tr><tr><td>Jan Morforth</td><td>50% Dark Bites</td><td>12-Jan-22</td><td>$5,250 </td><td>293</td><td>UK</td></tr><tr><td>Husein Augar</td><td>Baker's Choco Chips</td><td>29-Apr-22</td><td>$3,038 </td><td>135</td><td>UK</td></tr><tr><td>Madelene Upcott</td><td>70% Dark Bites</td><td>16-Feb-22</td><td>$5,397 </td><td>239</td><td>UK</td></tr><tr><td>Gigi Bohling</td><td>85% Dark Bars</td><td>23-Jun-22</td><td>$12,362 </td><td>94</td><td>UK</td></tr><tr><td>Roddy Speechley</td><td>Raspberry Choco</td><td>28-Jan-22</td><td>$12,635 </td><td>194</td><td>UK</td></tr><tr><td>Dotty Strutley</td><td>Mint Chip Choco</td><td>14-Jul-22</td><td>$2,443 </td><td>216</td><td>UK</td></tr><tr><td>Oby Sorrel</td><td>Orange Choco</td><td>15-Apr-22</td><td>$7,315 </td><td>237</td><td>UK</td></tr><tr><td>Kaine Padly</td><td>Choco Coated Almonds</td><td>03-Aug-22</td><td>$8,022 </td><td>123</td><td>UK</td></tr><tr><td>Kaine Padly</td><td>Caramel Stuffed Bars</td><td>20-May-22</td><td>$10,192 </td><td>67</td><td>UK</td></tr><tr><td>Jehu Rudeforth</td><td>Drinking Coco</td><td>03-Feb-22</td><td>$7,140 </td><td>438</td><td>UK</td></tr><tr><td>Gunar Cockshoot</td><td>Choco Coated Almonds</td><td>30-Jun-22</td><td>$5,775 </td><td>135</td><td>UK</td></tr><tr><td>Gunar Cockshoot</td><td>Smooth Sliky Salty</td><td>22-Mar-22</td><td>$749 </td><td>148</td><td>UK</td></tr><tr><td>Jehu Rudeforth</td><td>85% Dark Bars</td><td>07-Jul-22</td><td>$5,502 </td><td>64</td><td>UK</td></tr><tr><td>Oby Sorrel</td><td>70% Dark Bites</td><td>16-Mar-22</td><td>$6,223 </td><td>181</td><td>UK</td></tr><tr><td>Kelci Walkden</td><td>99% Dark & Pure</td><td>12-Aug-22</td><td>$3,507 </td><td>114</td><td>UK</td></tr><tr><td>Ches Bonnell</td><td>85% Dark Bars</td><td>28-Jun-22</td><td>$14,924 </td><td>12</td><td>UK</td></tr><tr><td>Mallorie Waber</td><td>Manuka Honey Choco</td><td>15-Jun-22</td><td>$8,379 </td><td>43</td><td>UK</td></tr><tr><td>Curtice Advani</td><td>Drinking Coco</td><td>12-Jul-22</td><td>$455 </td><td>174</td><td>UK</td></tr><tr><td>Kaine Padly</td><td>50% Dark Bites</td><td>21-Feb-22</td><td>$3,143 </td><td>67</td><td>UK</td></tr><tr><td>Oby Sorrel</td><td>White Choc</td><td>27-Jun-22</td><td>$1,715 </td><td>286</td><td>UK</td></tr><tr><td>Jan Morforth</td><td>Manuka Honey Choco</td><td>18-Aug-22</td><td>$3,388 </td><td>212</td><td>UK</td></tr><tr><td>Wilone O'Kielt</td><td>Milk Bars</td><td>26-Aug-22</td><td>$301 </td><td>65</td><td>UK</td></tr><tr><td>Rafaelita Blaksland</td><td>Spicy Special Slims</td><td>03-Aug-22</td><td>$9,345 </td><td>133</td><td>UK</td></tr><tr><td>Curtice Advani</td><td>Peanut Butter Cubes</td><td>01-Mar-22</td><td>$15,008 </td><td>165</td><td>UK</td></tr><tr><td>Brien Boise</td><td>Drinking Coco</td><td>27-Jan-22</td><td>$5,754 </td><td>133</td><td>UK</td></tr><tr><td>Brien Boise</td><td>Spicy Special Slims</td><td>25-May-22</td><td>$2,352 </td><td>58</td><td>UK</td></tr><tr><td>Kelci Walkden</td><td>Drinking Coco</td><td>20-Apr-22</td><td>$1,792 </td><td>23</td><td>UK</td></tr><tr><td>Dennison Crosswaite</td><td>99% Dark & Pure</td><td>30-May-22</td><td>$12,187 </td><td>27</td><td>UK</td></tr><tr><td>Brien Boise</td><td>Caramel Stuffed Bars</td><td>04-Mar-22</td><td>$2,681 </td><td>149</td><td>UK</td></tr><tr><td>Gunar Cockshoot</td><td>Spicy Special Slims</td><td>16-Feb-22</td><td>$12,488 </td><td>200</td><td>UK</td></tr><tr><td>Kaine Padly</td><td>After Nines</td><td>21-Jan-22</td><td>$18,697 </td><td>176</td><td>UK</td></tr><tr><td>Kaine Padly</td><td>Drinking Coco</td><td>27-Jan-22</td><td>$2,317 </td><td>224</td><td>UK</td></tr><tr><td>Rafaelita Blaksland</td><td>50% Dark Bites</td><td>16-Feb-22</td><td>$10,150 </td><td>68</td><td>UK</td></tr><tr><td>Dennison Crosswaite</td><td>Smooth Sliky Salty</td><td>26-Apr-22</td><td>$546 </td><td>142</td><td>UK</td></tr><tr><td>Beverie Moffet</td><td>50% Dark Bites</td><td>09-Feb-22</td><td>$2,499 </td><td>271</td><td>UK</td></tr><tr><td>Van Tuxwell</td><td>Almond Choco</td><td>06-Jun-22</td><td>$10,689 </td><td>204</td><td>UK</td></tr><tr><td>Dotty Strutley</td><td>Caramel Stuffed Bars</td><td>10-Aug-22</td><td>$5,768 </td><td>235</td><td>UK</td></tr><tr><td>Barr Faughny</td><td>Milk Bars</td><td>02-Mar-22</td><td>$3,864 </td><td>430</td><td>UK</td></tr><tr><td>Husein Augar</td><td>After Nines</td><td>05-Jul-22</td><td>$3,507 </td><td>380</td><td>UK</td></tr><tr><td>Curtice Advani</td><td>Manuka Honey Choco</td><td>07-Feb-22</td><td>$1,666 </td><td>106</td><td>UK</td></tr><tr><td>Jan Morforth</td><td>Almond Choco</td><td>06-Jul-22</td><td>$9,744 </td><td>157</td><td>UK</td></tr><tr><td>Marney O'Breen</td><td>Drinking Coco</td><td>29-Mar-22</td><td>$973 </td><td>28</td><td>UK</td></tr><tr><td>Camilla Castle</td><td>Peanut Butter Cubes</td><td>19-Jul-22</td><td>$4,872 </td><td>126</td><td>UK</td></tr><tr><td>Madelene Upcott</td><td>Peanut Butter Cubes</td><td>12-Aug-22</td><td>$7,756 </td><td>85</td><td>UK</td></tr><tr><td>Jan Morforth</td><td>Baker's Choco Chips</td><td>11-Mar-22</td><td>$721 </td><td>251</td><td>UK</td></tr><tr><td>Jehu Rudeforth</td><td>Fruit & Nut Bars</td><td>13-May-22</td><td>$8,589 </td><td>229</td><td>UK</td></tr><tr><td>Van Tuxwell</td><td>85% Dark Bars</td><td>01-Aug-22</td><td>$7,896 </td><td>94</td><td>India</td></tr><tr><td>Gigi Bohling</td><td>Peanut Butter Cubes</td><td>07-Jul-22</td><td>$4,501 </td><td>91</td><td>India</td></tr><tr><td>Van Tuxwell</td><td>Smooth Sliky Salty</td><td>06-Jun-22</td><td>$5,376 </td><td>38</td><td>India</td></tr><tr><td>Karlen McCaffrey</td><td>Fruit & Nut Bars</td><td>26-Jan-22</td><td>$168 </td><td>321</td><td>India</td></tr><tr><td>Karlen McCaffrey</td><td>Manuka Honey Choco</td><td>04-Jul-22</td><td>$2,443 </td><td>581</td><td>India</td></tr><tr><td>Andria Kimpton</td><td>Spicy Special Slims</td><td>23-Feb-22</td><td>$6,307 </td><td>142</td><td>India</td></tr><tr><td>Roddy Speechley</td><td>Eclairs</td><td>10-Jun-22</td><td>$4,382 </td><td>303</td><td>India</td></tr><tr><td>Curtice Advani</td><td>Fruit & Nut Bars</td><td>07-Jul-22</td><td>$5,243 </td><td>176</td><td>India</td></tr><tr><td>Marney O'Breen</td><td>85% Dark Bars</td><td>19-Jul-22</td><td>$2,205 </td><td>179</td><td>India</td></tr><tr><td>Karlen McCaffrey</td><td>Almond Choco</td><td>06-Jul-22</td><td>$6,090 </td><td>149</td><td>India</td></tr><tr><td>Oby Sorrel</td><td>99% Dark & Pure</td><td>27-May-22</td><td>$10,255 </td><td>11</td><td>India</td></tr><tr><td>Camilla Castle</td><td>50% Dark Bites</td><td>04-Jul-22</td><td>$9,275 </td><td>411</td><td>India</td></tr><tr><td>Oby Sorrel</td><td>Organic Choco Syrup</td><td>08-Jul-22</td><td>$6,181 </td><td>56</td><td>India</td></tr><tr><td>Madelene Upcott</td><td>Raspberry Choco</td><td>07-Jul-22</td><td>$4,221 </td><td>9</td><td>India</td></tr><tr><td>Kelci Walkden</td><td>Eclairs</td><td>19-Apr-22</td><td>$5,334 </td><td>80</td><td>India</td></tr><tr><td>Kelci Walkden</td><td>Orange Choco</td><td>07-Jun-22</td><td>$9,408 </td><td>138</td><td>India</td></tr><tr><td>Jan Morforth</td><td>Spicy Special Slims</td><td>12-Apr-22</td><td>$1,939 </td><td>520</td><td>India</td></tr><tr><td>Ches Bonnell</td><td>Spicy Special Slims</td><td>06-Jul-22</td><td>$10,906 </td><td>94</td><td>India</td></tr><tr><td>Kelci Walkden</td><td>Caramel Stuffed Bars</td><td>16-Mar-22</td><td>$476 </td><td>125</td><td>India</td></tr><tr><td>Oby Sorrel</td><td>Raspberry Choco</td><td>14-Apr-22</td><td>$6,832 </td><td>46</td><td>India</td></tr><tr><td>Jan Morforth</td><td>Almond Choco</td><td>11-Mar-22</td><td>$4,466 </td><td>22</td><td>India</td></tr><tr><td>Van Tuxwell</td><td>Organic Choco Syrup</td><td>16-May-22</td><td>$19,929 </td><td>174</td><td>India</td></tr><tr><td>Roddy Speechley</td><td>Smooth Sliky Salty</td><td>10-Aug-22</td><td>$5,103 </td><td>140</td><td>India</td></tr><tr><td>Jan Morforth</td><td>Eclairs</td><td>05-Jan-22</td><td>$2,541 </td><td>27</td><td>India</td></tr><tr><td>Kelci Walkden</td><td>Almond Choco</td><td>14-Mar-22</td><td>$3,297 </td><td>149</td><td>India</td></tr><tr><td>Oby Sorrel</td><td>Smooth Sliky Salty</td><td>07-Feb-22</td><td>$10,101 </td><td>108</td><td>India</td></tr><tr><td>Marney O'Breen</td><td>Caramel Stuffed Bars</td><td>16-Mar-22</td><td>$4,361 </td><td>81</td><td>India</td></tr><tr><td>Van Tuxwell</td><td>Baker's Choco Chips</td><td>20-Jun-22</td><td>$3,052 </td><td>447</td><td>India</td></tr><tr><td>Roddy Speechley</td><td>Peanut Butter Cubes</td><td>11-Feb-22</td><td>$10,283 </td><td>21</td><td>India</td></tr><tr><td>Kelci Walkden</td><td>After Nines</td><td>07-Jan-22</td><td>$1,687 </td><td>520</td><td>India</td></tr><tr><td>Marney O'Breen</td><td>Peanut Butter Cubes</td><td>10-Jan-22</td><td>$6,489 </td><td>146</td><td>India</td></tr><tr><td>Gigi Bohling</td><td>Raspberry Choco</td><td>22-Feb-22</td><td>$2,583 </td><td>159</td><td>India</td></tr><tr><td>Karlen McCaffrey</td><td>Drinking Coco</td><td>31-May-22</td><td>$4,795 </td><td>233</td><td>India</td></tr><tr><td>Barr Faughny</td><td>Baker's Choco Chips</td><td>18-Aug-22</td><td>$6,454 </td><td>141</td><td>India</td></tr><tr><td>Rafaelita Blaksland</td><td>Spicy Special Slims</td><td>04-Jan-22</td><td>$8,064 </td><td>134</td><td>India</td></tr><tr><td>Beverie Moffet</td><td>Drinking Coco</td><td>15-Jul-22</td><td>$6,055 </td><td>46</td><td>India</td></tr><tr><td>Jehu Rudeforth</td><td>50% Dark Bites</td><td>05-Jul-22</td><td>$3,472 </td><td>135</td><td>India</td></tr><tr><td>Rafaelita Blaksland</td><td>Almond Choco</td><td>27-Jul-22</td><td>$3,395 </td><td>99</td><td>India</td></tr><tr><td>Roddy Speechley</td><td>Orange Choco</td><td>27-Jun-22</td><td>$4,053 </td><td>19</td><td>India</td></tr><tr><td>Brien Boise</td><td>Eclairs</td><td>29-Apr-22</td><td>$1,351 </td><td>61</td><td>India</td></tr><tr><td>Camilla Castle</td><td>Peanut Butter Cubes</td><td>15-Jul-22</td><td>$11,837 </td><td>277</td><td>India</td></tr><tr><td>Curtice Advani</td><td>70% Dark Bites</td><td>05-Jul-22</td><td>$2,282 </td><td>44</td><td>India</td></tr><tr><td>Beverie Moffet</td><td>70% Dark Bites</td><td>01-Jun-22</td><td>$448 </td><td>146</td><td>India</td></tr><tr><td>Marney O'Breen</td><td>After Nines</td><td>11-Jul-22</td><td>$2,639 </td><td>179</td><td>India</td></tr><tr><td>Ches Bonnell</td><td>Organic Choco Syrup</td><td>08-Mar-22</td><td>$16,569 </td><td>99</td><td>India</td></tr><tr><td>Husein Augar</td><td>70% Dark Bites</td><td>09-May-22</td><td>$6,454 </td><td>157</td><td>India</td></tr><tr><td>Madelene Upcott</td><td>Organic Choco Syrup</td><td>26-Jan-22</td><td>$4,781 </td><td>38</td><td>India</td></tr><tr><td>Karlen McCaffrey</td><td>Orange Choco</td><td>27-Jun-22</td><td>$3,122 </td><td>149</td><td>India</td></tr><tr><td>Ches Bonnell</td><td>Smooth Sliky Salty</td><td>03-Aug-22</td><td>$8,043 </td><td>18</td><td>India</td></tr><tr><td>Dennison Crosswaite</td><td>Milk Bars</td><td>21-Apr-22</td><td>$1,526 </td><td>96</td><td>India</td></tr><tr><td>Jan Morforth</td><td>Fruit & Nut Bars</td><td>04-May-22</td><td>$2,912 </td><td>55</td><td>India</td></tr><tr><td>Karlen McCaffrey</td><td>Mint Chip Choco</td><td>15-Jul-22</td><td>$10,990 </td><td>184</td><td>India</td></tr><tr><td>Dennison Crosswaite</td><td>99% Dark & Pure</td><td>23-Jun-22</td><td>$6,888 </td><td>311</td><td>India</td></tr><tr><td>Brien Boise</td><td>Almond Choco</td><td>13-Jan-22</td><td>$2,170 </td><td>218</td><td>India</td></tr><tr><td>Jan Morforth</td><td>85% Dark Bars</td><td>25-May-22</td><td>$4,760 </td><td>418</td><td>India</td></tr><tr><td>Marney O'Breen</td><td>Fruit & Nut Bars</td><td>13-Apr-22</td><td>$4,753 </td><td>151</td><td>India</td></tr><tr><td>Marney O'Breen</td><td>Eclairs</td><td>13-Jan-22</td><td>$3,472 </td><td>96</td><td>India</td></tr><tr><td>Curtice Advani</td><td>Spicy Special Slims</td><td>20-Jun-22</td><td>$161 </td><td>134</td><td>India</td></tr><tr><td>Roddy Speechley</td><td>After Nines</td><td>22-Jun-22</td><td>$2,576 </td><td>112</td><td>India</td></tr><tr><td>Jehu Rudeforth</td><td>99% Dark & Pure</td><td>25-Feb-22</td><td>$1,953 </td><td>242</td><td>India</td></tr><tr><td>Rafaelita Blaksland</td><td>Smooth Sliky Salty</td><td>06-May-22</td><td>$1,638 </td><td>81</td><td>India</td></tr><tr><td>Kaine Padly</td><td>Milk Bars</td><td>02-May-22</td><td>$2,905 </td><td>91</td><td>India</td></tr><tr><td>Jan Morforth</td><td>Peanut Butter Cubes</td><td>04-Jan-22</td><td>$8,092 </td><td>178</td><td>India</td></tr><tr><td>Brien Boise</td><td>Caramel Stuffed Bars</td><td>25-Feb-22</td><td>$1,540 </td><td>100</td><td>India</td></tr><tr><td>Gunar Cockshoot</td><td>50% Dark Bites</td><td>09-Aug-22</td><td>$12,992 </td><td>83</td><td>India</td></tr><tr><td>Barr Faughny</td><td>Drinking Coco</td><td>28-Jan-22</td><td>$2,219 </td><td>142</td><td>India</td></tr><tr><td>Kaine Padly</td><td>Spicy Special Slims</td><td>31-Aug-22</td><td>$5,614 </td><td>137</td><td>India</td></tr><tr><td>Beverie Moffet</td><td>Choco Coated Almonds</td><td>24-Feb-22</td><td>$3,577 </td><td>261</td><td>India</td></tr><tr><td>Gigi Bohling</td><td>Eclairs</td><td>21-Jun-22</td><td>$3,493 </td><td>68</td><td>India</td></tr><tr><td>Kelci Walkden</td><td>Milk Bars</td><td>15-Apr-22</td><td>$966 </td><td>107</td><td>India</td></tr><tr><td>Mallorie Waber</td><td>Drinking Coco</td><td>07-Mar-22</td><td>$3,948 </td><td>142</td><td>India</td></tr><tr><td>Dotty Strutley</td><td>White Choc</td><td>15-Aug-22</td><td>$12,327 </td><td>330</td><td>India</td></tr><tr><td>Gigi Bohling</td><td>Manuka Honey Choco</td><td>12-May-22</td><td>$4,935 </td><td>73</td><td>India</td></tr><tr><td>Van Tuxwell</td><td>Spicy Special Slims</td><td>11-Apr-22</td><td>$6,167 </td><td>4</td><td>India</td></tr><tr><td>Brien Boise</td><td>After Nines</td><td>16-Jun-22</td><td>$5,747 </td><td>45</td><td>India</td></tr><tr><td>Oby Sorrel</td><td>Eclairs</td><td>25-Aug-22</td><td>$5,663 </td><td>322</td><td>India</td></tr><tr><td>Roddy Speechley</td><td>Caramel Stuffed Bars</td><td>30-May-22</td><td>$8,911 </td><td>543</td><td>India</td></tr><tr><td>Mallorie Waber</td><td>50% Dark Bites</td><td>31-May-22</td><td>$588 </td><td>139</td><td>India</td></tr><tr><td>Van Tuxwell</td><td>50% Dark Bites</td><td>13-May-22</td><td>$5,103 </td><td>129</td><td>India</td></tr><tr><td>Dennison Crosswaite</td><td>85% Dark Bars</td><td>30-Jun-22</td><td>$4,515 </td><td>22</td><td>India</td></tr><tr><td>Kelci Walkden</td><td>Mint Chip Choco</td><td>28-Jul-22</td><td>$2,870 </td><td>120</td><td>India</td></tr><tr><td>Madelene Upcott</td><td>Mint Chip Choco</td><td>24-Aug-22</td><td>$3,836 </td><td>71</td><td>India</td></tr><tr><td>Jehu Rudeforth</td><td>Eclairs</td><td>24-Feb-22</td><td>$8,771 </td><td>127</td><td>India</td></tr><tr><td>Gunar Cockshoot</td><td>Smooth Sliky Salty</td><td>02-Mar-22</td><td>$3,752 </td><td>70</td><td>India</td></tr><tr><td>Van Tuxwell</td><td>Choco Coated Almonds</td><td>13-Apr-22</td><td>$5,733 </td><td>114</td><td>India</td></tr><tr><td>Gunar Cockshoot</td><td>Spicy Special Slims</td><td>13-May-22</td><td>$6,510 </td><td>170</td><td>India</td></tr><tr><td>Ches Bonnell</td><td>Peanut Butter Cubes</td><td>27-Jan-22</td><td>$22,050 </td><td>208</td><td>India</td></tr><tr><td>Jan Morforth</td><td>Choco Coated Almonds</td><td>12-Aug-22</td><td>$2,541 </td><td>134</td><td>India</td></tr><tr><td>Rafaelita Blaksland</td><td>After Nines</td><td>02-Mar-22</td><td>$4,739 </td><td>204</td><td>India</td></tr><tr><td>Dennison Crosswaite</td><td>Smooth Sliky Salty</td><td>07-Jul-22</td><td>$2,975 </td><td>9</td><td>India</td></tr><tr><td>Curtice Advani</td><td>85% Dark Bars</td><td>18-Jan-22</td><td>$273 </td><td>402</td><td>India</td></tr><tr><td>Jan Morforth</td><td>Smooth Sliky Salty</td><td>03-Aug-22</td><td>$11,298 </td><td>89</td><td>India</td></tr><tr><td>Van Tuxwell</td><td>Almond Choco</td><td>14-Jun-22</td><td>$6,426 </td><td>390</td><td>India</td></tr><tr><td>Curtice Advani</td><td>Smooth Sliky Salty</td><td>19-Apr-22</td><td>$19,327 </td><td>135</td><td>India</td></tr><tr><td>Brien Boise</td><td>Raspberry Choco</td><td>30-May-22</td><td>$6,328 </td><td>164</td><td>India</td></tr><tr><td>Dotty Strutley</td><td>Spicy Special Slims</td><td>12-Aug-22</td><td>$910 </td><td>204</td><td>India</td></tr><tr><td>Jehu Rudeforth</td><td>Baker's Choco Chips</td><td>06-Jun-22</td><td>$2,086 </td><td>74</td><td>India</td></tr><tr><td>Andria Kimpton</td><td>50% Dark Bites</td><td>31-Jan-22</td><td>$13,482 </td><td>15</td><td>India</td></tr><tr><td>Kelci Walkden</td><td>Smooth Sliky Salty</td><td>01-Feb-22</td><td>$2,464 </td><td>8</td><td>India</td></tr><tr><td>Karlen McCaffrey</td><td>85% Dark Bars</td><td>30-Mar-22</td><td>$945 </td><td>83</td><td>India</td></tr><tr><td>Husein Augar</td><td>Fruit & Nut Bars</td><td>04-Apr-22</td><td>$4,340 </td><td>226</td><td>India</td></tr><tr><td>Madelene Upcott</td><td>Choco Coated Almonds</td><td>11-Feb-22</td><td>$3,500 </td><td>145</td><td>India</td></tr><tr><td>Andria Kimpton</td><td>Organic Choco Syrup</td><td>18-Jan-22</td><td>$3,955 </td><td>134</td><td>India</td></tr><tr><td>Gunar Cockshoot</td><td>Mint Chip Choco</td><td>08-Aug-22</td><td>$4,256 </td><td>67</td><td>India</td></tr><tr><td>Dennison Crosswaite</td><td>Mint Chip Choco</td><td>23-Mar-22</td><td>$13,573 </td><td>138</td><td>India</td></tr><tr><td>Barr Faughny</td><td>Caramel Stuffed Bars</td><td>04-Jan-22</td><td>$6,566 </td><td>99</td><td>India</td></tr><tr><td>Brien Boise</td><td>Milk Bars</td><td>22-Feb-22</td><td>$13,503 </td><td>251</td><td>India</td></tr><tr><td>Van Tuxwell</td><td>White Choc</td><td>15-Mar-22</td><td>$1,897 </td><td>44</td><td>India</td></tr><tr><td>Kaine Padly</td><td>70% Dark Bites</td><td>24-Jan-22</td><td>$12,173 </td><td>301</td><td>India</td></tr><tr><td>Husein Augar</td><td>Spicy Special Slims</td><td>22-Aug-22</td><td>$2,492 </td><td>33</td><td>India</td></tr><tr><td>Curtice Advani</td><td>Milk Bars</td><td>05-Apr-22</td><td>$3,437 </td><td>201</td><td>India</td></tr><tr><td>Beverie Moffet</td><td>Milk Bars</td><td>15-Apr-22</td><td>$1,869 </td><td>323</td><td>India</td></tr><tr><td>Curtice Advani</td><td>Manuka Honey Choco</td><td>23-May-22</td><td>$1,547 </td><td>170</td><td>India</td></tr><tr><td>Camilla Castle</td><td>85% Dark Bars</td><td>04-May-22</td><td>$9,023 </td><td>51</td><td>India</td></tr><tr><td>Jan Morforth</td><td>99% Dark & Pure</td><td>23-May-22</td><td>$9,100 </td><td>187</td><td>India</td></tr><tr><td>Jan Morforth</td><td>Caramel Stuffed Bars</td><td>04-Jul-22</td><td>$84 </td><td>153</td><td>India</td></tr><tr><td>Karlen McCaffrey</td><td>White Choc</td><td>17-Jan-22</td><td>$7,483 </td><td>232</td><td>India</td></tr><tr><td>Wilone O'Kielt</td><td>Mint Chip Choco</td><td>22-Aug-22</td><td>$1,309 </td><td>51</td><td>India</td></tr><tr><td>Ches Bonnell</td><td>Choco Coated Almonds</td><td>05-Apr-22</td><td>$9,625 </td><td>78</td><td>India</td></tr><tr><td>Ches Bonnell</td><td>Caramel Stuffed Bars</td><td>15-Jun-22</td><td>$6,839 </td><td>56</td><td>India</td></tr><tr><td>Beverie Moffet</td><td>Spicy Special Slims</td><td>21-Apr-22</td><td>$3,339 </td><td>171</td><td>India</td></tr><tr><td>Jan Morforth</td><td>Baker's Choco Chips</td><td>01-Aug-22</td><td>$13,727 </td><td>79</td><td>India</td></tr><tr><td>Gunar Cockshoot</td><td>Baker's Choco Chips</td><td>18-Mar-22</td><td>$2,191 </td><td>524</td><td>India</td></tr><tr><td>Camilla Castle</td><td>99% Dark & Pure</td><td>02-Aug-22</td><td>$203 </td><td>207</td><td>India</td></tr><tr><td>Dennison Crosswaite</td><td>Orange Choco</td><td>18-Mar-22</td><td>$784 </td><td>129</td><td>India</td></tr><tr><td>Curtice Advani</td><td>White Choc</td><td>04-Jul-22</td><td>$7,154 </td><td>342</td><td>India</td></tr><tr><td>Kelci Walkden</td><td>70% Dark Bites</td><td>06-Jun-22</td><td>$3,640 </td><td>106</td><td>India</td></tr><tr><td>Kelci Walkden</td><td>Drinking Coco</td><td>04-Jul-22</td><td>$7,532 </td><td>234</td><td>India</td></tr><tr><td>Mallorie Waber</td><td>Raspberry Choco</td><td>02-Mar-22</td><td>$1,400 </td><td>2</td><td>India</td></tr><tr><td>Brien Boise</td><td>85% Dark Bars</td><td>09-Aug-22</td><td>$18,032 </td><td>205</td><td>India</td></tr><tr><td>Dennison Crosswaite</td><td>Fruit & Nut Bars</td><td>29-Jul-22</td><td>$952 </td><td>24</td><td>India</td></tr><tr><td>Brien Boise</td><td>Smooth Sliky Salty</td><td>27-May-22</td><td>$5,964 </td><td>26</td><td>India</td></tr><tr><td>Brien Boise</td><td>Spicy Special Slims</td><td>28-Jan-22</td><td>$1,302 </td><td>33</td><td>India</td></tr><tr><td>Wilone O'Kielt</td><td>Caramel Stuffed Bars</td><td>13-Jan-22</td><td>$4,179 </td><td>276</td><td>India</td></tr><tr><td>Gunar Cockshoot</td><td>Organic Choco Syrup</td><td>03-Jun-22</td><td>$7,196 </td><td>160</td><td>India</td></tr><tr><td>Mallorie Waber</td><td>Eclairs</td><td>12-Apr-22</td><td>$10,437 </td><td>46</td><td>India</td></tr><tr><td>Oby Sorrel</td><td>Drinking Coco</td><td>21-Jul-22</td><td>$16,380 </td><td>130</td><td>India</td></tr><tr><td>Husein Augar</td><td>Peanut Butter Cubes</td><td>09-May-22</td><td>$4,522 </td><td>5</td><td>India</td></tr><tr><td>Brien Boise</td><td>70% Dark Bites</td><td>14-Apr-22</td><td>$4,641 </td><td>413</td><td>India</td></tr><tr><td>Dennison Crosswaite</td><td>Organic Choco Syrup</td><td>27-Jan-22</td><td>$8,428 </td><td>216</td><td>India</td></tr><tr><td>Marney O'Breen</td><td>99% Dark & Pure</td><td>22-Jul-22</td><td>$10,766 </td><td>157</td><td>India</td></tr><tr><td>Oby Sorrel</td><td>85% Dark Bars</td><td>05-Jul-22</td><td>$8,981 </td><td>130</td><td>India</td></tr><tr><td>Beverie Moffet</td><td>Eclairs</td><td>09-Jun-22</td><td>$10,325 </td><td>147</td><td>India</td></tr><tr><td>Andria Kimpton</td><td>Eclairs</td><td>16-May-22</td><td>$2,149 </td><td>84</td><td>India</td></tr><tr><td>Gigi Bohling</td><td>White Choc</td><td>13-Apr-22</td><td>$1,393 </td><td>172</td><td>India</td></tr><tr><td>Wilone O'Kielt</td><td>Choco Coated Almonds</td><td>22-Aug-22</td><td>$2,933 </td><td>233</td><td>India</td></tr><tr><td>Beverie Moffet</td><td>Manuka Honey Choco</td><td>06-May-22</td><td>$9,835 </td><td>167</td><td>India</td></tr><tr><td>Jan Morforth</td><td>After Nines</td><td>14-Mar-22</td><td>$6,496 </td><td>168</td><td>India</td></tr><tr><td>Ches Bonnell</td><td>Orange Choco</td><td>16-Feb-22</td><td>$1,190 </td><td>256</td><td>India</td></tr><tr><td>Wilone O'Kielt</td><td>Eclairs</td><td>25-Feb-22</td><td>$3,549 </td><td>76</td><td>India</td></tr><tr><td>Wilone O'Kielt</td><td>After Nines</td><td>04-Aug-22</td><td>$12,026 </td><td>262</td><td>India</td></tr><tr><td>Kelci Walkden</td><td>99% Dark & Pure</td><td>28-Jun-22</td><td>$2,303 </td><td>244</td><td>India</td></tr><tr><td>Kelci Walkden</td><td>Raspberry Choco</td><td>16-Jun-22</td><td>$8,183 </td><td>254</td><td>India</td></tr><tr><td>Ches Bonnell</td><td>50% Dark Bites</td><td>15-Apr-22</td><td>$11,298 </td><td>313</td><td>India</td></tr><tr><td>Barr Faughny</td><td>After Nines</td><td>29-Jul-22</td><td>$8,190 </td><td>109</td><td>India</td></tr><tr><td>Rafaelita Blaksland</td><td>Mint Chip Choco</td><td>26-Jan-22</td><td>$15,491 </td><td>85</td><td>India</td></tr><tr><td>Oby Sorrel</td><td>Spicy Special Slims</td><td>08-Jun-22</td><td>$11,137 </td><td>88</td><td>India</td></tr><tr><td>Mallorie Waber</td><td>White Choc</td><td>26-Jul-22</td><td>$819 </td><td>213</td><td>India</td></tr><tr><td>Jehu Rudeforth</td><td>Peanut Butter Cubes</td><td>14-Apr-22</td><td>$28 </td><td>446</td><td>India</td></tr><tr><td>Husein Augar</td><td>Eclairs</td><td>09-Feb-22</td><td>$4,956 </td><td>58</td><td>India</td></tr><tr><td>Beverie Moffet</td><td>White Choc</td><td>04-Jul-22</td><td>$1,813 </td><td>296</td><td>India</td></tr><tr><td>Ches Bonnell</td><td>Almond Choco</td><td>13-Apr-22</td><td>$11,788 </td><td>73</td><td>India</td></tr><tr><td>Van Tuxwell</td><td>After Nines</td><td>27-Jun-22</td><td>$13,706 </td><td>207</td><td>India</td></tr><tr><td>Husein Augar</td><td>Orange Choco</td><td>30-Jun-22</td><td>$4,361 </td><td>40</td><td>India</td></tr><tr><td>Jehu Rudeforth</td><td>Almond Choco</td><td>30-Aug-22</td><td>$10,122 </td><td>100</td><td>India</td></tr><tr><td>Dotty Strutley</td><td>Peanut Butter Cubes</td><td>16-Feb-22</td><td>$9,107 </td><td>73</td><td>India</td></tr><tr><td>Oby Sorrel</td><td>Choco Coated Almonds</td><td>14-Feb-22</td><td>$49 </td><td>363</td><td>India</td></tr><tr><td>Beverie Moffet</td><td>Organic Choco Syrup</td><td>23-Jun-22</td><td>$1,036 </td><td>20</td><td>India</td></tr><tr><td>Barr Faughny</td><td>Mint Chip Choco</td><td>12-Jan-22</td><td>$7,413 </td><td>465</td><td>India</td></tr><tr><td>Curtice Advani</td><td>Mint Chip Choco</td><td>03-Mar-22</td><td>$8,155 </td><td>96</td><td>India</td></tr><tr><td>Gunar Cockshoot</td><td>Caramel Stuffed Bars</td><td>28-Jul-22</td><td>$2,471 </td><td>202</td><td>India</td></tr><tr><td>Andria Kimpton</td><td>Orange Choco</td><td>30-May-22</td><td>$301 </td><td>421</td><td>India</td></tr><tr><td>Husein Augar</td><td>Raspberry Choco</td><td>15-Jun-22</td><td>$9,954 </td><td>154</td><td>India</td></tr><tr><td>Dotty Strutley</td><td>Mint Chip Choco</td><td>14-Apr-22</td><td>$1,260 </td><td>239</td><td>India</td></tr><tr><td>Camilla Castle</td><td>Drinking Coco</td><td>08-Aug-22</td><td>$469 </td><td>163</td><td>India</td></tr><tr><td>Ches Bonnell</td><td>99% Dark & Pure</td><td>16-Feb-22</td><td>$455 </td><td>96</td><td>India</td></tr><tr><td>Van Tuxwell</td><td>Eclairs</td><td>21-Jul-22</td><td>$10,500 </td><td>106</td><td>India</td></tr><tr><td>Roddy Speechley</td><td>Drinking Coco</td><td>31-May-22</td><td>$4,494 </td><td>11</td><td>India</td></tr><tr><td>Andria Kimpton</td><td>After Nines</td><td>17-Jan-22</td><td>$952 </td><td>68</td><td>India</td></tr><tr><td>Roddy Speechley</td><td>Spicy Special Slims</td><td>22-Mar-22</td><td>$10,647 </td><td>173</td><td>India</td></tr><tr><td>Roddy Speechley</td><td>50% Dark Bites</td><td>14-Mar-22</td><td>$8,337 </td><td>12</td><td>India</td></tr><tr><td>Beverie Moffet</td><td>Almond Choco</td><td>24-May-22</td><td>$3,066 </td><td>96</td><td>India</td></tr><tr><td>Dotty Strutley</td><td>Eclairs</td><td>28-Jul-22</td><td>$2,086 </td><td>384</td><td>India</td></tr><tr><td>Karlen McCaffrey</td><td>70% Dark Bites</td><td>23-May-22</td><td>$5,075 </td><td>344</td><td>India</td></tr><tr><td>Barr Faughny</td><td>Orange Choco</td><td>10-Mar-22</td><td>$3,703 </td><td>11</td><td>USA</td></tr><tr><td>Roddy Speechley</td><td>Smooth Sliky Salty</td><td>05-Apr-22</td><td>$3,017 </td><td>140</td><td>USA</td></tr><tr><td>Gunar Cockshoot</td><td>Spicy Special Slims</td><td>17-Feb-22</td><td>$1,267 </td><td>157</td><td>USA</td></tr><tr><td>Marney O'Breen</td><td>After Nines</td><td>30-May-22</td><td>$4,753 </td><td>163</td><td>USA</td></tr><tr><td>Husein Augar</td><td>Eclairs</td><td>07-Jul-22</td><td>$4,025 </td><td>112</td><td>USA</td></tr><tr><td>Roddy Speechley</td><td>Manuka Honey Choco</td><td>22-Jul-22</td><td>$9,583 </td><td>315</td><td>USA</td></tr><tr><td>Kelci Walkden</td><td>After Nines</td><td>02-Jun-22</td><td>$938 </td><td>16</td><td>USA</td></tr><tr><td>Karlen McCaffrey</td><td>Raspberry Choco</td><td>15-Apr-22</td><td>$14,749 </td><td>354</td><td>USA</td></tr><tr><td>Kaine Padly</td><td>Peanut Butter Cubes</td><td>16-Feb-22</td><td>$6,790 </td><td>188</td><td>USA</td></tr><tr><td>Van Tuxwell</td><td>50% Dark Bites</td><td>13-Jan-22</td><td>$9,737 </td><td>160</td><td>USA</td></tr><tr><td>Beverie Moffet</td><td>Raspberry Choco</td><td>19-Apr-22</td><td>$14,798 </td><td>83</td><td>USA</td></tr><tr><td>Jan Morforth</td><td>Peanut Butter Cubes</td><td>22-Jul-22</td><td>$9,037 </td><td>102</td><td>USA</td></tr><tr><td>Gigi Bohling</td><td>Choco Coated Almonds</td><td>02-Mar-22</td><td>$12,313 </td><td>103</td><td>USA</td></tr><tr><td>Camilla Castle</td><td>Spicy Special Slims</td><td>11-Feb-22</td><td>$1,274 </td><td>244</td><td>USA</td></tr><tr><td>Marney O'Breen</td><td>Orange Choco</td><td>27-Jan-22</td><td>$7,595 </td><td>181</td><td>USA</td></tr><tr><td>Camilla Castle</td><td>White Choc</td><td>18-Aug-22</td><td>$9,681 </td><td>24</td><td>USA</td></tr><tr><td>Andria Kimpton</td><td>Raspberry Choco</td><td>30-Jun-22</td><td>$14,504 </td><td>21</td><td>USA</td></tr><tr><td>Karlen McCaffrey</td><td>Orange Choco</td><td>12-May-22</td><td>$11,095 </td><td>401</td><td>USA</td></tr><tr><td>Van Tuxwell</td><td>After Nines</td><td>26-Jul-22</td><td>$630 </td><td>264</td><td>USA</td></tr><tr><td>Marney O'Breen</td><td>50% Dark Bites</td><td>15-Jun-22</td><td>$1,064 </td><td>106</td><td>USA</td></tr><tr><td>Husein Augar</td><td>After Nines</td><td>08-Apr-22</td><td>$11,571 </td><td>180</td><td>USA</td></tr><tr><td>Andria Kimpton</td><td>Fruit & Nut Bars</td><td>15-Jul-22</td><td>$1,456 </td><td>359</td><td>USA</td></tr><tr><td>Marney O'Breen</td><td>99% Dark & Pure</td><td>28-Mar-22</td><td>$4,151 </td><td>296</td><td>USA</td></tr><tr><td>Marney O'Breen</td><td>Almond Choco</td><td>25-Feb-22</td><td>$7,798 </td><td>167</td><td>USA</td></tr><tr><td>Kelci Walkden</td><td>Manuka Honey Choco</td><td>16-Feb-22</td><td>$17,318 </td><td>87</td><td>USA</td></tr><tr><td>Wilone O'Kielt</td><td>After Nines</td><td>25-Apr-22</td><td>$392 </td><td>30</td><td>USA</td></tr><tr><td>Barr Faughny</td><td>Raspberry Choco</td><td>12-Apr-22</td><td>$9,282 </td><td>101</td><td>USA</td></tr><tr><td>Andria Kimpton</td><td>85% Dark Bars</td><td>05-Apr-22</td><td>$8,911 </td><td>82</td><td>USA</td></tr><tr><td>Barr Faughny</td><td>Fruit & Nut Bars</td><td>28-Jan-22</td><td>$9,058 </td><td>46</td><td>USA</td></tr><tr><td>Van Tuxwell</td><td>99% Dark & Pure</td><td>28-Jul-22</td><td>$12,586 </td><td>6</td><td>USA</td></tr><tr><td>Gigi Bohling</td><td>Spicy Special Slims</td><td>21-Jan-22</td><td>$10,829 </td><td>54</td><td>USA</td></tr><tr><td>Dotty Strutley</td><td>Manuka Honey Choco</td><td>10-Aug-22</td><td>$273 </td><td>210</td><td>USA</td></tr><tr><td>Dennison Crosswaite</td><td>Almond Choco</td><td>30-Jun-22</td><td>$11,718 </td><td>84</td><td>USA</td></tr><tr><td>Kaine Padly</td><td>70% Dark Bites</td><td>12-May-22</td><td>$4,018 </td><td>100</td><td>USA</td></tr><tr><td>Gigi Bohling</td><td>99% Dark & Pure</td><td>02-Jun-22</td><td>$784 </td><td>249</td><td>USA</td></tr><tr><td>Madelene Upcott</td><td>After Nines</td><td>15-Mar-22</td><td>$4,571 </td><td>430</td><td>USA</td></tr><tr><td>Madelene Upcott</td><td>Eclairs</td><td>18-Mar-22</td><td>$8,883 </td><td>200</td><td>USA</td></tr><tr><td>Husein Augar</td><td>Milk Bars</td><td>02-Mar-22</td><td>$854 </td><td>56</td><td>USA</td></tr><tr><td>Husein Augar</td><td>85% Dark Bars</td><td>08-Aug-22</td><td>$378 </td><td>54</td><td>USA</td></tr><tr><td>Mallorie Waber</td><td>Manuka Honey Choco</td><td>04-Jul-22</td><td>$5,425 </td><td>96</td><td>USA</td></tr><tr><td>Gigi Bohling</td><td>50% Dark Bites</td><td>13-Apr-22</td><td>$2,296 </td><td>59</td><td>USA</td></tr><tr><td>Kaine Padly</td><td>50% Dark Bites</td><td>03-Aug-22</td><td>$70 </td><td>27</td><td>USA</td></tr><tr><td>Ches Bonnell</td><td>Orange Choco</td><td>10-Jun-22</td><td>$1,743 </td><td>69</td><td>USA</td></tr><tr><td>Rafaelita Blaksland</td><td>Fruit & Nut Bars</td><td>18-Jan-22</td><td>$2,604 </td><td>65</td><td>USA</td></tr><tr><td>Ches Bonnell</td><td>70% Dark Bites</td><td>11-May-22</td><td>$4,571 </td><td>122</td><td>USA</td></tr><tr><td>Barr Faughny</td><td>50% Dark Bites</td><td>14-Apr-22</td><td>$13,034 </td><td>117</td><td>USA</td></tr><tr><td>Kelci Walkden</td><td>White Choc</td><td>07-Mar-22</td><td>$9,422 </td><td>22</td><td>USA</td></tr><tr><td>Karlen McCaffrey</td><td>Milk Bars</td><td>27-Jan-22</td><td>$4,389 </td><td>7</td><td>USA</td></tr><tr><td>Mallorie Waber</td><td>85% Dark Bars</td><td>11-May-22</td><td>$2,632 </td><td>108</td><td>USA</td></tr><tr><td>Mallorie Waber</td><td>Eclairs</td><td>22-Mar-22</td><td>$6,328 </td><td>51</td><td>USA</td></tr><tr><td>Dennison Crosswaite</td><td>Fruit & Nut Bars</td><td>04-May-22</td><td>$1,414 </td><td>318</td><td>USA</td></tr><tr><td>Kelci Walkden</td><td>99% Dark & Pure</td><td>18-Aug-22</td><td>$7,714 </td><td>238</td><td>USA</td></tr><tr><td>Kaine Padly</td><td>Caramel Stuffed Bars</td><td>21-Jul-22</td><td>$5,593 </td><td>122</td><td>USA</td></tr><tr><td>Dotty Strutley</td><td>Orange Choco</td><td>23-Feb-22</td><td>$1,379 </td><td>107</td><td>USA</td></tr><tr><td>Curtice Advani</td><td>Spicy Special Slims</td><td>11-Jul-22</td><td>$1,603 </td><td>264</td><td>USA</td></tr><tr><td>Kelci Walkden</td><td>Drinking Coco</td><td>26-Jul-22</td><td>$6,454 </td><td>160</td><td>USA</td></tr><tr><td>Rafaelita Blaksland</td><td>Baker's Choco Chips</td><td>09-Jun-22</td><td>$2,863 </td><td>58</td><td>USA</td></tr><tr><td>Kelci Walkden</td><td>Organic Choco Syrup</td><td>21-Jul-22</td><td>$9,870 </td><td>152</td><td>USA</td></tr><tr><td>Van Tuxwell</td><td>Caramel Stuffed Bars</td><td>14-Feb-22</td><td>$987 </td><td>21</td><td>USA</td></tr><tr><td>Mallorie Waber</td><td>Almond Choco</td><td>28-Jan-22</td><td>$6,986 </td><td>368</td><td>USA</td></tr><tr><td>Dotty Strutley</td><td>Caramel Stuffed Bars</td><td>15-Apr-22</td><td>$16,982 </td><td>76</td><td>USA</td></tr><tr><td>Beverie Moffet</td><td>Smooth Sliky Salty</td><td>24-Mar-22</td><td>$2,317 </td><td>352</td><td>USA</td></tr><tr><td>Jan Morforth</td><td>Orange Choco</td><td>29-Jun-22</td><td>$980 </td><td>146</td><td>USA</td></tr><tr><td>Gigi Bohling</td><td>Fruit & Nut Bars</td><td>24-May-22</td><td>$2,821 </td><td>112</td><td>USA</td></tr><tr><td>Curtice Advani</td><td>Raspberry Choco</td><td>15-Mar-22</td><td>$2,996 </td><td>139</td><td>USA</td></tr><tr><td>Gunar Cockshoot</td><td>Eclairs</td><td>03-May-22</td><td>$6,916 </td><td>42</td><td>USA</td></tr><tr><td>Roddy Speechley</td><td>Fruit & Nut Bars</td><td>14-Jun-22</td><td>$5,509 </td><td>24</td><td>USA</td></tr><tr><td>Brien Boise</td><td>Organic Choco Syrup</td><td>25-May-22</td><td>$16,233 </td><td>138</td><td>USA</td></tr><tr><td>Beverie Moffet</td><td>50% Dark Bites</td><td>28-Jul-22</td><td>$2,450 </td><td>352</td><td>USA</td></tr><tr><td>Brien Boise</td><td>Mint Chip Choco</td><td>25-May-22</td><td>$10,577 </td><td>150</td><td>USA</td></tr><tr><td>Brien Boise</td><td>Orange Choco</td><td>28-Jan-22</td><td>$6,020 </td><td>147</td><td>USA</td></tr><tr><td>Mallorie Waber</td><td>50% Dark Bites</td><td>19-Apr-22</td><td>$1,736 </td><td>13</td><td>USA</td></tr><tr><td>Dennison Crosswaite</td><td>Raspberry Choco</td><td>18-Jan-22</td><td>$6,524 </td><td>257</td><td>USA</td></tr><tr><td>Ches Bonnell</td><td>White Choc</td><td>11-Feb-22</td><td>$5,271 </td><td>341</td><td>USA</td></tr><tr><td>Kaine Padly</td><td>Milk Bars</td><td>15-Jun-22</td><td>$15,491 </td><td>58</td><td>USA</td></tr><tr><td>Dennison Crosswaite</td><td>Drinking Coco</td><td>10-May-22</td><td>$2,191 </td><td>138</td><td>USA</td></tr><tr><td>Ches Bonnell</td><td>Organic Choco Syrup</td><td>28-Jul-22</td><td>$7,721 </td><td>14</td><td>USA</td></tr><tr><td>Roddy Speechley</td><td>Peanut Butter Cubes</td><td>25-Feb-22</td><td>$1,736 </td><td>137</td><td>USA</td></tr><tr><td>Karlen McCaffrey</td><td>Drinking Coco</td><td>29-Jun-22</td><td>$112 </td><td>223</td><td>USA</td></tr><tr><td>Karlen McCaffrey</td><td>Mint Chip Choco</td><td>15-Feb-22</td><td>$15,652 </td><td>53</td><td>USA</td></tr><tr><td>Madelene Upcott</td><td>White Choc</td><td>04-May-22</td><td>$12,250 </td><td>213</td><td>USA</td></tr><tr><td>Andria Kimpton</td><td>Spicy Special Slims</td><td>23-May-22</td><td>$2,366 </td><td>5</td><td>USA</td></tr><tr><td>Dotty Strutley</td><td>Mint Chip Choco</td><td>21-Feb-22</td><td>$5,292 </td><td>248</td><td>USA</td></tr><tr><td>Kelci Walkden</td><td>Orange Choco</td><td>03-Feb-22</td><td>$1,379 </td><td>138</td><td>USA</td></tr><tr><td>Van Tuxwell</td><td>Manuka Honey Choco</td><td>31-May-22</td><td>$2,317 </td><td>102</td><td>USA</td></tr><tr><td>Wilone O'Kielt</td><td>Orange Choco</td><td>28-Feb-22</td><td>$7,042 </td><td>37</td><td>USA</td></tr><tr><td>Gigi Bohling</td><td>After Nines</td><td>14-Jan-22</td><td>$1,848 </td><td>227</td><td>USA</td></tr><tr><td>Husein Augar</td><td>White Choc</td><td>13-Jul-22</td><td>$2,030 </td><td>60</td><td>USA</td></tr><tr><td>Gunar Cockshoot</td><td>Fruit & Nut Bars</td><td>09-Mar-22</td><td>$5,852 </td><td>93</td><td>USA</td></tr><tr><td>Barr Faughny</td><td>85% Dark Bars</td><td>25-Aug-22</td><td>$12,761 </td><td>47</td><td>USA</td></tr><tr><td>Kaine Padly</td><td>Organic Choco Syrup</td><td>11-Mar-22</td><td>$2,380 </td><td>22</td><td>USA</td></tr><tr><td>Camilla Castle</td><td>Raspberry Choco</td><td>20-May-22</td><td>$3,339 </td><td>18</td><td>USA</td></tr><tr><td>Jehu Rudeforth</td><td>Smooth Sliky Salty</td><td>07-Jul-22</td><td>$6,657 </td><td>154</td><td>USA</td></tr><tr><td>Rafaelita Blaksland</td><td>Drinking Coco</td><td>20-Jun-22</td><td>$8,526 </td><td>73</td><td>USA</td></tr><tr><td>Beverie Moffet</td><td>85% Dark Bars</td><td>23-Aug-22</td><td>$12,404 </td><td>334</td><td>USA</td></tr><tr><td>Roddy Speechley</td><td>Eclairs</td><td>25-Apr-22</td><td>$3,990 </td><td>155</td><td>USA</td></tr><tr><td>Madelene Upcott</td><td>Orange Choco</td><td>16-May-22</td><td>$7,742 </td><td>138</td><td>USA</td></tr><tr><td>Brien Boise</td><td>99% Dark & Pure</td><td>25-Jul-22</td><td>$6,769 </td><td>353</td><td>USA</td></tr><tr><td>Dennison Crosswaite</td><td>Milk Bars</td><td>12-May-22</td><td>$777 </td><td>60</td><td>USA</td></tr><tr><td>Gunar Cockshoot</td><td>Drinking Coco</td><td>09-May-22</td><td>$3,843 </td><td>5</td><td>USA</td></tr><tr><td>Andria Kimpton</td><td>Caramel Stuffed Bars</td><td>02-May-22</td><td>$8,393 </td><td>46</td><td>USA</td></tr><tr><td>Dotty Strutley</td><td>99% Dark & Pure</td><td>09-Aug-22</td><td>$3,822 </td><td>320</td><td>USA</td></tr><tr><td>Karlen McCaffrey</td><td>Manuka Honey Choco</td><td>01-Feb-22</td><td>$10,171 </td><td>67</td><td>USA</td></tr><tr><td>Camilla Castle</td><td>50% Dark Bites</td><td>23-Jun-22</td><td>$5,908 </td><td>301</td><td>USA</td></tr><tr><td>Brien Boise</td><td>Milk Bars</td><td>07-Jul-22</td><td>$14,301 </td><td>130</td><td>USA</td></tr><tr><td>Beverie Moffet</td><td>Peanut Butter Cubes</td><td>18-Aug-22</td><td>$13,930 </td><td>339</td><td>USA</td></tr><tr><td>Marney O'Breen</td><td>Baker's Choco Chips</td><td>26-Jan-22</td><td>$8,470 </td><td>9</td><td>USA</td></tr><tr><td>Kelci Walkden</td><td>Spicy Special Slims</td><td>29-Apr-22</td><td>$77 </td><td>69</td><td>USA</td></tr><tr><td>Oby Sorrel</td><td>Smooth Sliky Salty</td><td>04-Mar-22</td><td>$3,577 </td><td>158</td><td>USA</td></tr><tr><td>Oby Sorrel</td><td>Baker's Choco Chips</td><td>12-Aug-22</td><td>$8,001 </td><td>120</td><td>USA</td></tr><tr><td>Kaine Padly</td><td>Eclairs</td><td>22-Aug-22</td><td>$7,623 </td><td>10</td><td>USA</td></tr><tr><td>Roddy Speechley</td><td>50% Dark Bites</td><td>11-Feb-22</td><td>$10,458 </td><td>316</td><td>USA</td></tr><tr><td>Kelci Walkden</td><td>50% Dark Bites</td><td>23-Mar-22</td><td>$6,188 </td><td>223</td><td>USA</td></tr><tr><td>Camilla Castle</td><td>Manuka Honey Choco</td><td>21-Mar-22</td><td>$16,401 </td><td>179</td><td>USA</td></tr><tr><td>Jehu Rudeforth</td><td>99% Dark & Pure</td><td>04-Jan-22</td><td>$2,534 </td><td>219</td><td>USA</td></tr><tr><td>Gunar Cockshoot</td><td>Organic Choco Syrup</td><td>10-Aug-22</td><td>$2,331 </td><td>321</td><td>USA</td></tr><tr><td>Wilone O'Kielt</td><td>50% Dark Bites</td><td>18-Apr-22</td><td>$4,501 </td><td>131</td><td>USA</td></tr><tr><td>Madelene Upcott</td><td>Baker's Choco Chips</td><td>22-Aug-22</td><td>$5,621 </td><td>140</td><td>USA</td></tr><tr><td>Gigi Bohling</td><td>Smooth Sliky Salty</td><td>22-Jul-22</td><td>$2,583 </td><td>126</td><td>USA</td></tr><tr><td>Curtice Advani</td><td>Mint Chip Choco</td><td>24-Aug-22</td><td>$4,802 </td><td>296</td><td>USA</td></tr><tr><td>Kelci Walkden</td><td>Fruit & Nut Bars</td><td>17-Feb-22</td><td>$4,816 </td><td>145</td><td>USA</td></tr><tr><td>Van Tuxwell</td><td>Fruit & Nut Bars</td><td>05-Jul-22</td><td>$6,279 </td><td>235</td><td>USA</td></tr><tr><td>Wilone O'Kielt</td><td>Milk Bars</td><td>15-Jul-22</td><td>$5,012 </td><td>93</td><td>USA</td></tr><tr><td>Barr Faughny</td><td>Almond Choco</td><td>03-Feb-22</td><td>$385 </td><td>78</td><td>USA</td></tr><tr><td>Jan Morforth</td><td>Fruit & Nut Bars</td><td>27-Jun-22</td><td>$4,382 </td><td>361</td><td>USA</td></tr><tr><td>Beverie Moffet</td><td>White Choc</td><td>11-Mar-22</td><td>$5,292 </td><td>134</td><td>USA</td></tr><tr><td>Dotty Strutley</td><td>Fruit & Nut Bars</td><td>13-Jul-22</td><td>$2,898 </td><td>276</td><td>USA</td></tr><tr><td>Curtice Advani</td><td>Drinking Coco</td><td>07-Feb-22</td><td>$5,187 </td><td>142</td><td>USA</td></tr><tr><td>Wilone O'Kielt</td><td>Choco Coated Almonds</td><td>06-Jun-22</td><td>$9,457 </td><td>6</td><td>USA</td></tr><tr><td>Marney O'Breen</td><td>Raspberry Choco</td><td>23-May-22</td><td>$6,069 </td><td>151</td><td>USA</td></tr><tr><td>Dotty Strutley</td><td>85% Dark Bars</td><td>25-Apr-22</td><td>$10,220 </td><td>508</td><td>USA</td></tr><tr><td>Mallorie Waber</td><td>Peanut Butter Cubes</td><td>23-May-22</td><td>$1,162 </td><td>18</td><td>USA</td></tr><tr><td>Rafaelita Blaksland</td><td>Smooth Sliky Salty</td><td>27-Jul-22</td><td>$15,057 </td><td>212</td><td>USA</td></tr><tr><td>Rafaelita Blaksland</td><td>White Choc</td><td>16-Aug-22</td><td>$4,704 </td><td>126</td><td>USA</td></tr><tr><td>Ches Bonnell</td><td>Choco Coated Almonds</td><td>04-Jan-22</td><td>$14,525 </td><td>92</td><td>USA</td></tr><tr><td>Husein Augar</td><td>99% Dark & Pure</td><td>21-Feb-22</td><td>$9,534 </td><td>111</td><td>USA</td></tr><tr><td>Dennison Crosswaite</td><td>Eclairs</td><td>25-May-22</td><td>$2,044 </td><td>90</td><td>USA</td></tr><tr><td>Dennison Crosswaite</td><td>Organic Choco Syrup</td><td>18-Jul-22</td><td>$12,656 </td><td>126</td><td>USA</td></tr><tr><td>Oby Sorrel</td><td>Manuka Honey Choco</td><td>25-Jul-22</td><td>$4,340 </td><td>86</td><td>USA</td></tr><tr><td>Gigi Bohling</td><td>Peanut Butter Cubes</td><td>09-May-22</td><td>$280 </td><td>75</td><td>USA</td></tr><tr><td>Wilone O'Kielt</td><td>Smooth Sliky Salty</td><td>18-Jan-22</td><td>$504 </td><td>87</td><td>USA</td></tr><tr><td>Brien Boise</td><td>Manuka Honey Choco</td><td>22-Aug-22</td><td>$1,904 </td><td>8</td><td>USA</td></tr><tr><td>Roddy Speechley</td><td>Drinking Coco</td><td>21-Feb-22</td><td>$3,003 </td><td>155</td><td>USA</td></tr><tr><td>Jehu Rudeforth</td><td>Orange Choco</td><td>28-Jul-22</td><td>$364 </td><td>170</td><td>USA</td></tr><tr><td>Jehu Rudeforth</td><td>Raspberry Choco</td><td>04-Mar-22</td><td>$7,154 </td><td>133</td><td>USA</td></tr><tr><td>Kelci Walkden</td><td>Almond Choco</td><td>27-Jan-22</td><td>$5,180 </td><td>233</td><td>USA</td></tr><tr><td>Karlen McCaffrey</td><td>Eclairs</td><td>15-Aug-22</td><td>$868 </td><td>125</td><td>USA</td></tr><tr><td>Gunar Cockshoot</td><td>85% Dark Bars</td><td>30-Jun-22</td><td>$7,007 </td><td>135</td><td>USA</td></tr><tr><td>Brien Boise</td><td>70% Dark Bites</td><td>14-Apr-22</td><td>$1,694 </td><td>21</td><td>USA</td></tr><tr><td>Husein Augar</td><td>Fruit & Nut Bars</td><td>28-Apr-22</td><td>$1,288 </td><td>27</td><td>USA</td></tr><tr><td>Ches Bonnell</td><td>Milk Bars</td><td>21-Jul-22</td><td>$2,408 </td><td>157</td><td>USA</td></tr><tr><td>Oby Sorrel</td><td>Milk Bars</td><td>14-Jun-22</td><td>$1,736 </td><td>79</td><td>USA</td></tr><tr><td>Barr Faughny</td><td>White Choc</td><td>05-May-22</td><td>$7,420 </td><td>163</td><td>USA</td></tr><tr><td>Roddy Speechley</td><td>Milk Bars</td><td>16-May-22</td><td>$2,807 </td><td>252</td><td>USA</td></tr><tr><td>Gunar Cockshoot</td><td>After Nines</td><td>15-Aug-22</td><td>$3,738 </td><td>261</td><td>USA</td></tr><tr><td>Wilone O'Kielt</td><td>Drinking Coco</td><td>14-Jun-22</td><td>$1,029 </td><td>98</td><td>USA</td></tr><tr><td>Beverie Moffet</td><td>70% Dark Bites</td><td>27-Jun-22</td><td>$2,275 </td><td>115</td><td>USA</td></tr><tr><td>Dennison Crosswaite</td><td>Baker's Choco Chips</td><td>11-Aug-22</td><td>$17,465 </td><td>271</td><td>USA</td></tr><tr><td>Madelene Upcott</td><td>Almond Choco</td><td>31-May-22</td><td>$10,143 </td><td>24</td><td>USA</td></tr><tr><td>Oby Sorrel</td><td>Almond Choco</td><td>19-May-22</td><td>$6,440 </td><td>141</td><td>USA</td></tr><tr><td>Camilla Castle</td><td>85% Dark Bars</td><td>25-Apr-22</td><td>$2,401 </td><td>78</td><td>USA</td></tr><tr><td>Camilla Castle</td><td>Eclairs</td><td>10-Jun-22</td><td>$4,515 </td><td>392</td><td>USA</td></tr><tr><td>Gigi Bohling</td><td>Milk Bars</td><td>16-Jun-22</td><td>$476 </td><td>133</td><td>USA</td></tr><tr><td>Barr Faughny</td><td>Caramel Stuffed Bars</td><td>29-Mar-22</td><td>$3,318 </td><td>299</td><td>USA</td></tr><tr><td>Oby Sorrel</td><td>Drinking Coco</td><td>11-Mar-22</td><td>$7,714 </td><td>44</td><td>USA</td></tr><tr><td>Curtice Advani</td><td>After Nines</td><td>13-Apr-22</td><td>$14,147 </td><td>235</td><td>USA</td></tr><tr><td>Kaine Padly</td><td>Spicy Special Slims</td><td>13-Jun-22</td><td>$2,107 </td><td>175</td><td>USA</td></tr><tr><td>Dotty Strutley</td><td>Raspberry Choco</td><td>03-Jan-22</td><td>$3,437 </td><td>46</td><td>USA</td></tr><tr><td>Karlen McCaffrey</td><td>White Choc</td><td>24-Aug-22</td><td>$4,592 </td><td>2</td><td>USA</td></tr><tr><td>Oby Sorrel</td><td>Spicy Special Slims</td><td>07-Feb-22</td><td>$5,691 </td><td>417</td><td>USA</td></tr><tr><td>Marney O'Breen</td><td>Peanut Butter Cubes</td><td>15-Jun-22</td><td>$693 </td><td>350</td><td>USA</td></tr><tr><td>Dennison Crosswaite</td><td>Caramel Stuffed Bars</td><td>11-Jul-22</td><td>$2,317 </td><td>464</td><td>USA</td></tr><tr><td>Kaine Padly</td><td>85% Dark Bars</td><td>22-Jun-22</td><td>$483 </td><td>259</td><td>USA</td></tr><tr><td>Madelene Upcott</td><td>Choco Coated Almonds</td><td>07-Jun-22</td><td>$5,446 </td><td>132</td><td>USA</td></tr><tr><td>Dennison Crosswaite</td><td>70% Dark Bites</td><td>15-Mar-22</td><td>$658 </td><td>77</td><td>USA</td></tr><tr><td>Gigi Bohling</td><td>70% Dark Bites</td><td>14-Jan-22</td><td>$7,364 </td><td>196</td><td>USA</td></tr><tr><td>Dennison Crosswaite</td><td>Smooth Sliky Salty</td><td>12-May-22</td><td>$11,781 </td><td>91</td><td>USA</td></tr><tr><td>Brien Boise</td><td>Raspberry Choco</td><td>12-Jan-22</td><td>$672 </td><td>194</td><td>USA</td></tr><tr><td>Jehu Rudeforth</td><td>White Choc</td><td>07-Jun-22</td><td>$6,559 </td><td>119</td><td>USA</td></tr><tr><td>Mallorie Waber</td><td>Eclairs</td><td>13-Jan-22</td><td>$1,442 </td><td>286</td><td>Canada</td></tr><tr><td>Van Tuxwell</td><td>Organic Choco Syrup</td><td>14-Feb-22</td><td>$4,067 </td><td>42</td><td>Canada</td></tr><tr><td>Beverie Moffet</td><td>Milk Bars</td><td>16-Feb-22</td><td>$8,799 </td><td>250</td><td>Canada</td></tr><tr><td>Roddy Speechley</td><td>Spicy Special Slims</td><td>09-Feb-22</td><td>$1,652 </td><td>186</td><td>Canada</td></tr><tr><td>Andria Kimpton</td><td>After Nines</td><td>11-May-22</td><td>$2,163 </td><td>70</td><td>Canada</td></tr><tr><td>Mallorie Waber</td><td>Choco Coated Almonds</td><td>11-Jul-22</td><td>$4,781 </td><td>241</td><td>Canada</td></tr><tr><td>Madelene Upcott</td><td>Almond Choco</td><td>22-Aug-22</td><td>$7,602 </td><td>102</td><td>Canada</td></tr><tr><td>Curtice Advani</td><td>Almond Choco</td><td>24-Mar-22</td><td>$4,865 </td><td>70</td><td>Canada</td></tr><tr><td>Jehu Rudeforth</td><td>Drinking Coco</td><td>15-Jul-22</td><td>$441 </td><td>24</td><td>Canada</td></tr><tr><td>Brien Boise</td><td>99% Dark & Pure</td><td>18-May-22</td><td>$16,793 </td><td>416</td><td>Canada</td></tr><tr><td>Kelci Walkden</td><td>Baker's Choco Chips</td><td>26-May-22</td><td>$3,073 </td><td>302</td><td>Canada</td></tr><tr><td>Roddy Speechley</td><td>Milk Bars</td><td>13-Jul-22</td><td>$609 </td><td>32</td><td>Canada</td></tr><tr><td>Roddy Speechley</td><td>Organic Choco Syrup</td><td>10-Jan-22</td><td>$4,032 </td><td>82</td><td>Canada</td></tr><tr><td>Andria Kimpton</td><td>Caramel Stuffed Bars</td><td>03-Jan-22</td><td>$7,154 </td><td>348</td><td>Canada</td></tr><tr><td>Karlen McCaffrey</td><td>50% Dark Bites</td><td>15-Jul-22</td><td>$2,919 </td><td>65</td><td>Canada</td></tr><tr><td>Brien Boise</td><td>Spicy Special Slims</td><td>04-Mar-22</td><td>$8,106 </td><td>101</td><td>Canada</td></tr><tr><td>Madelene Upcott</td><td>70% Dark Bites</td><td>24-Jan-22</td><td>$10,927 </td><td>141</td><td>Canada</td></tr><tr><td>Gigi Bohling</td><td>Baker's Choco Chips</td><td>28-Jan-22</td><td>$1,505 </td><td>47</td><td>Canada</td></tr><tr><td>Jehu Rudeforth</td><td>Spicy Special Slims</td><td>13-Jan-22</td><td>$1,848 </td><td>27</td><td>Canada</td></tr><tr><td>Curtice Advani</td><td>Spicy Special Slims</td><td>16-Jun-22</td><td>$854 </td><td>118</td><td>Canada</td></tr><tr><td>Kelci Walkden</td><td>99% Dark & Pure</td><td>15-Aug-22</td><td>$4,830 </td><td>50</td><td>Canada</td></tr><tr><td>Oby Sorrel</td><td>99% Dark & Pure</td><td>01-Aug-22</td><td>$3,605 </td><td>403</td><td>Canada</td></tr><tr><td>Jehu Rudeforth</td><td>Smooth Sliky Salty</td><td>11-Jul-22</td><td>$5,460 </td><td>138</td><td>Canada</td></tr><tr><td>Karlen McCaffrey</td><td>Smooth Sliky Salty</td><td>19-Jan-22</td><td>$3,017 </td><td>184</td><td>Canada</td></tr><tr><td>Jehu Rudeforth</td><td>Milk Bars</td><td>21-Feb-22</td><td>$7,203 </td><td>12</td><td>Canada</td></tr><tr><td>Van Tuxwell</td><td>Almond Choco</td><td>27-Jun-22</td><td>$3,213 </td><td>72</td><td>Canada</td></tr><tr><td>Kaine Padly</td><td>Peanut Butter Cubes</td><td>04-Jul-22</td><td>$3,269 </td><td>176</td><td>Canada</td></tr><tr><td>Barr Faughny</td><td>Peanut Butter Cubes</td><td>07-Jun-22</td><td>$2,100 </td><td>78</td><td>Canada</td></tr><tr><td>Mallorie Waber</td><td>85% Dark Bars</td><td>20-Apr-22</td><td>$1,428 </td><td>424</td><td>Canada</td></tr><tr><td>Karlen McCaffrey</td><td>Eclairs</td><td>20-Apr-22</td><td>$3,479 </td><td>358</td><td>Canada</td></tr><tr><td>Beverie Moffet</td><td>White Choc</td><td>15-Jul-22</td><td>$9,275 </td><td>173</td><td>Canada</td></tr><tr><td>Marney O'Breen</td><td>Choco Coated Almonds</td><td>22-Aug-22</td><td>$2,639 </td><td>406</td><td>Canada</td></tr><tr><td>Brien Boise</td><td>Almond Choco</td><td>13-Apr-22</td><td>$4,781 </td><td>125</td><td>Canada</td></tr><tr><td>Beverie Moffet</td><td>Baker's Choco Chips</td><td>11-Jan-22</td><td>$13,447 </td><td>95</td><td>Canada</td></tr><tr><td>Kaine Padly</td><td>50% Dark Bites</td><td>04-Mar-22</td><td>$8,687 </td><td>100</td><td>Canada</td></tr><tr><td>Karlen McCaffrey</td><td>Organic Choco Syrup</td><td>15-Jul-22</td><td>$2,415 </td><td>312</td><td>Canada</td></tr><tr><td>Dennison Crosswaite</td><td>Spicy Special Slims</td><td>10-Aug-22</td><td>$2,527 </td><td>216</td><td>Canada</td></tr><tr><td>Dotty Strutley</td><td>Raspberry Choco</td><td>03-Aug-22</td><td>$4,347 </td><td>238</td><td>Canada</td></tr><tr><td>Dennison Crosswaite</td><td>Eclairs</td><td>15-Mar-22</td><td>$455 </td><td>45</td><td>Canada</td></tr><tr><td>Ches Bonnell</td><td>Eclairs</td><td>10-Jan-22</td><td>$1,876 </td><td>172</td><td>Canada</td></tr><tr><td>Brien Boise</td><td>85% Dark Bars</td><td>17-Feb-22</td><td>$10,241 </td><td>259</td><td>Canada</td></tr><tr><td>Barr Faughny</td><td>50% Dark Bites</td><td>19-Jul-22</td><td>$10,185 </td><td>303</td><td>Canada</td></tr><tr><td>Gunar Cockshoot</td><td>Raspberry Choco</td><td>23-Jun-22</td><td>$2,058 </td><td>126</td><td>Canada</td></tr><tr><td>Van Tuxwell</td><td>White Choc</td><td>22-Mar-22</td><td>$420 </td><td>3</td><td>Canada</td></tr><tr><td>Kelci Walkden</td><td>Milk Bars</td><td>07-Jul-22</td><td>$16,016 </td><td>28</td><td>Canada</td></tr><tr><td>Dennison Crosswaite</td><td>Choco Coated Almonds</td><td>13-Jan-22</td><td>$10,479 </td><td>118</td><td>Canada</td></tr><tr><td>Curtice Advani</td><td>Fruit & Nut Bars</td><td>04-Apr-22</td><td>$4,193 </td><td>195</td><td>Canada</td></tr><tr><td>Karlen McCaffrey</td><td>Spicy Special Slims</td><td>02-Aug-22</td><td>$6,328 </td><td>47</td><td>Canada</td></tr><tr><td>Ches Bonnell</td><td>Baker's Choco Chips</td><td>21-Mar-22</td><td>$7,462 </td><td>371</td><td>Canada</td></tr><tr><td>Gunar Cockshoot</td><td>Fruit & Nut Bars</td><td>24-Mar-22</td><td>$13,888 </td><td>203</td><td>Canada</td></tr><tr><td>Kaine Padly</td><td>99% Dark & Pure</td><td>24-Jun-22</td><td>$1,288 </td><td>409</td><td>Canada</td></tr><tr><td>Marney O'Breen</td><td>Milk Bars</td><td>08-Feb-22</td><td>$2,436 </td><td>309</td><td>Canada</td></tr><tr><td>Van Tuxwell</td><td>Manuka Honey Choco</td><td>24-Feb-22</td><td>$8,617 </td><td>46</td><td>Canada</td></tr><tr><td>Beverie Moffet</td><td>Smooth Sliky Salty</td><td>28-Feb-22</td><td>$14,287 </td><td>370</td><td>Canada</td></tr><tr><td>Marney O'Breen</td><td>Spicy Special Slims</td><td>03-Jan-22</td><td>$3,528 </td><td>336</td><td>Canada</td></tr><tr><td>Ches Bonnell</td><td>Spicy Special Slims</td><td>05-Aug-22</td><td>$5,327 </td><td>183</td><td>Canada</td></tr><tr><td>Roddy Speechley</td><td>Orange Choco</td><td>09-Feb-22</td><td>$8,148 </td><td>85</td><td>Canada</td></tr><tr><td>Mallorie Waber</td><td>Orange Choco</td><td>23-Mar-22</td><td>$3,577 </td><td>178</td><td>Canada</td></tr><tr><td>Rafaelita Blaksland</td><td>Caramel Stuffed Bars</td><td>01-Aug-22</td><td>$7,119 </td><td>101</td><td>Canada</td></tr><tr><td>Brien Boise</td><td>Mint Chip Choco</td><td>28-Jan-22</td><td>$5,033 </td><td>178</td><td>Canada</td></tr><tr><td>Gunar Cockshoot</td><td>Mint Chip Choco</td><td>01-Jul-22</td><td>$7,756 </td><td>410</td><td>Canada</td></tr><tr><td>Curtice Advani</td><td>Smooth Sliky Salty</td><td>01-Aug-22</td><td>$2,660 </td><td>12</td><td>Canada</td></tr><tr><td>Andria Kimpton</td><td>Organic Choco Syrup</td><td>04-Jan-22</td><td>$8,204 </td><td>204</td><td>Canada</td></tr><tr><td>Oby Sorrel</td><td>Organic Choco Syrup</td><td>05-Jul-22</td><td>$1,232 </td><td>74</td><td>Canada</td></tr><tr><td>Dennison Crosswaite</td><td>85% Dark Bars</td><td>01-Aug-22</td><td>$10,885 </td><td>90</td><td>Canada</td></tr><tr><td>Oby Sorrel</td><td>Raspberry Choco</td><td>16-Jun-22</td><td>$1,750 </td><td>208</td><td>Canada</td></tr><tr><td>Karlen McCaffrey</td><td>Peanut Butter Cubes</td><td>12-Aug-22</td><td>$3,094 </td><td>159</td><td>Canada</td></tr><tr><td>Husein Augar</td><td>Eclairs</td><td>17-Jan-22</td><td>$3,696 </td><td>233</td><td>Canada</td></tr><tr><td>Karlen McCaffrey</td><td>Raspberry Choco</td><td>09-May-22</td><td>$651 </td><td>224</td><td>Canada</td></tr><tr><td>Mallorie Waber</td><td>Manuka Honey Choco</td><td>07-Mar-22</td><td>$1,435 </td><td>112</td><td>Canada</td></tr><tr><td>Curtice Advani</td><td>99% Dark & Pure</td><td>07-Jul-22</td><td>$12,586 </td><td>7</td><td>Canada</td></tr><tr><td>Brien Boise</td><td>Manuka Honey Choco</td><td>09-Aug-22</td><td>$6,930 </td><td>182</td><td>Canada</td></tr><tr><td>Jan Morforth</td><td>Mint Chip Choco</td><td>01-Apr-22</td><td>$1,064 </td><td>211</td><td>Canada</td></tr><tr><td>Camilla Castle</td><td>70% Dark Bites</td><td>27-Jul-22</td><td>$9,716 </td><td>151</td><td>Canada</td></tr><tr><td>Gigi Bohling</td><td>Almond Choco</td><td>01-Feb-22</td><td>$9,989 </td><td>49</td><td>Canada</td></tr><tr><td>Mallorie Waber</td><td>White Choc</td><td>03-Mar-22</td><td>$3,381 </td><td>72</td><td>Canada</td></tr><tr><td>Jan Morforth</td><td>Caramel Stuffed Bars</td><td>02-Aug-22</td><td>$9,541 </td><td>114</td><td>Canada</td></tr><tr><td>Kaine Padly</td><td>Manuka Honey Choco</td><td>18-Jan-22</td><td>$10,213 </td><td>135</td><td>Canada</td></tr><tr><td>Dotty Strutley</td><td>Manuka Honey Choco</td><td>22-Apr-22</td><td>$11,550 </td><td>111</td><td>Canada</td></tr><tr><td>Jan Morforth</td><td>Fruit & Nut Bars</td><td>25-Jul-22</td><td>$8,904 </td><td>199</td><td>Canada</td></tr><tr><td>Husein Augar</td><td>After Nines</td><td>19-Jan-22</td><td>$9,772 </td><td>301</td><td>Canada</td></tr><tr><td>Madelene Upcott</td><td>85% Dark Bars</td><td>17-Feb-22</td><td>$7,504 </td><td>101</td><td>Canada</td></tr><tr><td>Dennison Crosswaite</td><td>Smooth Sliky Salty</td><td>17-Mar-22</td><td>$1,750 </td><td>479</td><td>Canada</td></tr><tr><td>Ches Bonnell</td><td>Choco Coated Almonds</td><td>24-Aug-22</td><td>$15,547 </td><td>269</td><td>Canada</td></tr><tr><td>Gigi Bohling</td><td>Spicy Special Slims</td><td>04-Jul-22</td><td>$11,956 </td><td>277</td><td>Canada</td></tr><tr><td>Gigi Bohling</td><td>Milk Bars</td><td>10-Feb-22</td><td>$3,052 </td><td>116</td><td>Canada</td></tr><tr><td>Kelci Walkden</td><td>Peanut Butter Cubes</td><td>08-Apr-22</td><td>$7,532 </td><td>44</td><td>Canada</td></tr><tr><td>Gigi Bohling</td><td>Drinking Coco</td><td>06-Jul-22</td><td>$3,549 </td><td>82</td><td>Canada</td></tr><tr><td>Andria Kimpton</td><td>Eclairs</td><td>11-Aug-22</td><td>$308 </td><td>125</td><td>Canada</td></tr><tr><td>Brien Boise</td><td>Raspberry Choco</td><td>14-Jun-22</td><td>$2,800 </td><td>45</td><td>Canada</td></tr><tr><td>Van Tuxwell</td><td>Raspberry Choco</td><td>17-Mar-22</td><td>$1,267 </td><td>130</td><td>Canada</td></tr><tr><td>Gunar Cockshoot</td><td>After Nines</td><td>04-Aug-22</td><td>$2,744 </td><td>200</td><td>Canada</td></tr><tr><td>Jan Morforth</td><td>After Nines</td><td>13-Jul-22</td><td>$4,515 </td><td>172</td><td>Canada</td></tr><tr><td>Curtice Advani</td><td>Choco Coated Almonds</td><td>18-Aug-22</td><td>$5,859 </td><td>7</td><td>Canada</td></tr><tr><td>Gunar Cockshoot</td><td>50% Dark Bites</td><td>04-Jan-22</td><td>$3,024 </td><td>23</td><td>Canada</td></tr><tr><td>Andria Kimpton</td><td>Manuka Honey Choco</td><td>21-Jul-22</td><td>$4,858 </td><td>488</td><td>Canada</td></tr><tr><td>Andria Kimpton</td><td>Smooth Sliky Salty</td><td>08-Jul-22</td><td>$1,155 </td><td>79</td><td>Canada</td></tr><tr><td>Jehu Rudeforth</td><td>Orange Choco</td><td>23-Jun-22</td><td>$3,857 </td><td>512</td><td>Canada</td></tr><tr><td>Kaine Padly</td><td>85% Dark Bars</td><td>06-Apr-22</td><td>$1,729 </td><td>31</td><td>Canada</td></tr><tr><td>Van Tuxwell</td><td>Peanut Butter Cubes</td><td>24-Jun-22</td><td>$6,342 </td><td>282</td><td>Canada</td></tr><tr><td>Roddy Speechley</td><td>Smooth Sliky Salty</td><td>07-Mar-22</td><td>$9,338 </td><td>11</td><td>Canada</td></tr><tr><td>Curtice Advani</td><td>Organic Choco Syrup</td><td>22-Feb-22</td><td>$791 </td><td>22</td><td>Canada</td></tr><tr><td>Rafaelita Blaksland</td><td>Drinking Coco</td><td>12-Jul-22</td><td>$9,884 </td><td>200</td><td>Canada</td></tr><tr><td>Roddy Speechley</td><td>Eclairs</td><td>08-Mar-22</td><td>$6,237 </td><td>88</td><td>Canada</td></tr><tr><td>Gigi Bohling</td><td>White Choc</td><td>11-Jul-22</td><td>$6,587 </td><td>4</td><td>Canada</td></tr><tr><td>Rafaelita Blaksland</td><td>Fruit & Nut Bars</td><td>24-Aug-22</td><td>$483 </td><td>185</td><td>Canada</td></tr><tr><td>Gunar Cockshoot</td><td>Almond Choco</td><td>28-Jul-22</td><td>$1,309 </td><td>30</td><td>Canada</td></tr><tr><td>Dennison Crosswaite</td><td>Mint Chip Choco</td><td>08-Apr-22</td><td>$1,694 </td><td>289</td><td>Canada</td></tr><tr><td>Beverie Moffet</td><td>Orange Choco</td><td>10-May-22</td><td>$8,722 </td><td>109</td><td>Canada</td></tr><tr><td>Van Tuxwell</td><td>50% Dark Bites</td><td>12-May-22</td><td>$13,685 </td><td>58</td><td>Canada</td></tr><tr><td>Kelci Walkden</td><td>Smooth Sliky Salty</td><td>17-Mar-22</td><td>$8,099 </td><td>118</td><td>Canada</td></tr><tr><td>Gigi Bohling</td><td>Fruit & Nut Bars</td><td>14-Jun-22</td><td>$5,782 </td><td>103</td><td>Canada</td></tr><tr><td>Curtice Advani</td><td>70% Dark Bites</td><td>31-Jan-22</td><td>$2,303 </td><td>7</td><td>Canada</td></tr><tr><td>Van Tuxwell</td><td>Choco Coated Almonds</td><td>19-Aug-22</td><td>$2,282 </td><td>296</td><td>Canada</td></tr><tr><td>Karlen McCaffrey</td><td>70% Dark Bites</td><td>24-Jun-22</td><td>$7,714 </td><td>597</td><td>Canada</td></tr><tr><td>Kelci Walkden</td><td>Fruit & Nut Bars</td><td>20-Jun-22</td><td>$826 </td><td>149</td><td>Canada</td></tr><tr><td>Jan Morforth</td><td>70% Dark Bites</td><td>14-Feb-22</td><td>$5,894 </td><td>305</td><td>Canada</td></tr><tr><td>Barr Faughny</td><td>Manuka Honey Choco</td><td>25-Aug-22</td><td>$3,402 </td><td>249</td><td>Canada</td></tr><tr><td>Kaine Padly</td><td>Choco Coated Almonds</td><td>18-May-22</td><td>$3,164 </td><td>164</td><td>Canada</td></tr><tr><td>Andria Kimpton</td><td>White Choc</td><td>14-Feb-22</td><td>$4,067 </td><td>29</td><td>Canada</td></tr><tr><td>Ches Bonnell</td><td>Smooth Sliky Salty</td><td>16-Mar-22</td><td>$9,870 </td><td>121</td><td>Canada</td></tr><tr><td>Husein Augar</td><td>70% Dark Bites</td><td>31-Jan-22</td><td>$5,131 </td><td>285</td><td>Canada</td></tr><tr><td>Barr Faughny</td><td>Organic Choco Syrup</td><td>10-Mar-22</td><td>$1,141 </td><td>205</td><td>Canada</td></tr><tr><td>Marney O'Breen</td><td>Orange Choco</td><td>14-Jan-22</td><td>$2,723 </td><td>425</td><td>Canada</td></tr><tr><td>Brien Boise</td><td>Smooth Sliky Salty</td><td>13-May-22</td><td>$5,691 </td><td>495</td><td>Canada</td></tr><tr><td>Barr Faughny</td><td>Baker's Choco Chips</td><td>03-Feb-22</td><td>$10,969 </td><td>170</td><td>Canada</td></tr><tr><td>Barr Faughny</td><td>White Choc</td><td>29-Mar-22</td><td>$4,291 </td><td>1</td><td>Canada</td></tr><tr><td>Mallorie Waber</td><td>Smooth Sliky Salty</td><td>21-Mar-22</td><td>$1,939 </td><td>98</td><td>Canada</td></tr><tr><td>Madelene Upcott</td><td>Choco Coated Almonds</td><td>20-Jul-22</td><td>$3,458 </td><td>294</td><td>Canada</td></tr><tr><td>Jehu Rudeforth</td><td>White Choc</td><td>25-Jan-22</td><td>$4,627 </td><td>136</td><td>Canada</td></tr><tr><td>Dotty Strutley</td><td>After Nines</td><td>17-Jan-22</td><td>$252 </td><td>237</td><td>Canada</td></tr><tr><td>Karlen McCaffrey</td><td>Fruit & Nut Bars</td><td>02-Jun-22</td><td>$210 </td><td>16</td><td>Canada</td></tr><tr><td>Marney O'Breen</td><td>Caramel Stuffed Bars</td><td>23-Feb-22</td><td>$1,372 </td><td>614</td><td>Canada</td></tr><tr><td>Gunar Cockshoot</td><td>White Choc</td><td>11-Aug-22</td><td>$7,560 </td><td>15</td><td>Canada</td></tr><tr><td>Barr Faughny</td><td>Drinking Coco</td><td>18-Apr-22</td><td>$6,237 </td><td>247</td><td>Canada</td></tr><tr><td>Curtice Advani</td><td>Peanut Butter Cubes</td><td>19-May-22</td><td>$4,935 </td><td>63</td><td>Canada</td></tr><tr><td>Husein Augar</td><td>Choco Coated Almonds</td><td>15-Aug-22</td><td>$3,381 </td><td>408</td><td>Canada</td></tr><tr><td>Kelci Walkden</td><td>After Nines</td><td>13-Jan-22</td><td>$16,702 </td><td>198</td><td>Canada</td></tr><tr><td>Camilla Castle</td><td>Orange Choco</td><td>17-Feb-22</td><td>$7,770 </td><td>54</td><td>Canada</td></tr><tr><td>Oby Sorrel</td><td>50% Dark Bites</td><td>24-Jun-22</td><td>$6,615 </td><td>137</td><td>Canada</td></tr><tr><td>Gunar Cockshoot</td><td>Spicy Special Slims</td><td>05-Apr-22</td><td>$13,405 </td><td>12</td><td>Canada</td></tr><tr><td>Madelene Upcott</td><td>Peanut Butter Cubes</td><td>05-Jul-22</td><td>$14,763 </td><td>113</td><td>Canada</td></tr><tr><td>Roddy Speechley</td><td>Choco Coated Almonds</td><td>11-May-22</td><td>$5,873 </td><td>249</td><td>Canada</td></tr><tr><td>Oby Sorrel</td><td>Peanut Butter Cubes</td><td>07-Jun-22</td><td>$12,425 </td><td>167</td><td>Canada</td></tr><tr><td>Wilone O'Kielt</td><td>Smooth Sliky Salty</td><td>02-Jun-22</td><td>$4,991 </td><td>166</td><td>Canada</td></tr><tr><td>Rafaelita Blaksland</td><td>99% Dark & Pure</td><td>02-Mar-22</td><td>$5,096 </td><td>142</td><td>Canada</td></tr><tr><td>Barr Faughny</td><td>Orange Choco</td><td>30-Jun-22</td><td>$7,602 </td><td>18</td><td>Canada</td></tr><tr><td>Wilone O'Kielt</td><td>Fruit & Nut Bars</td><td>08-Aug-22</td><td>$3,437 </td><td>181</td><td>Canada</td></tr><tr><td>Oby Sorrel</td><td>Fruit & Nut Bars</td><td>14-Jan-22</td><td>$1,869 </td><td>158</td><td>Canada</td></tr><tr><td>Karlen McCaffrey</td><td>Caramel Stuffed Bars</td><td>02-Mar-22</td><td>$3,346 </td><td>304</td><td>Canada</td></tr><tr><td>Beverie Moffet</td><td>Fruit & Nut Bars</td><td>14-Feb-22</td><td>$10,332 </td><td>180</td><td>Canada</td></tr><tr><td>Mallorie Waber</td><td>Caramel Stuffed Bars</td><td>10-Jun-22</td><td>$4,844 </td><td>539</td><td>Canada</td></tr><tr><td>Beverie Moffet</td><td>Drinking Coco</td><td>05-Jul-22</td><td>$994 </td><td>118</td><td>Canada</td></tr><tr><td>Mallorie Waber</td><td>Almond Choco</td><td>12-May-22</td><td>$4,214 </td><td>35</td><td>Canada</td></tr><tr><td>Jehu Rudeforth</td><td>Manuka Honey Choco</td><td>05-Apr-22</td><td>$3,584 </td><td>200</td><td>Canada</td></tr><tr><td>Camilla Castle</td><td>Drinking Coco</td><td>03-Mar-22</td><td>$12,481 </td><td>264</td><td>Canada</td></tr><tr><td>Kaine Padly</td><td>After Nines</td><td>22-Aug-22</td><td>$5,845 </td><td>172</td><td>Canada</td></tr><tr><td>Kaine Padly</td><td>Organic Choco Syrup</td><td>29-Mar-22</td><td>$5,684 </td><td>81</td><td>Canada</td></tr><tr><td>Andria Kimpton</td><td>70% Dark Bites</td><td>08-Apr-22</td><td>$10,262 </td><td>15</td><td>Canada</td></tr><tr><td>Van Tuxwell</td><td>Drinking Coco</td><td>15-Jun-22</td><td>$4,900 </td><td>709</td><td>Canada</td></tr><tr><td>Beverie Moffet</td><td>85% Dark Bars</td><td>16-Feb-22</td><td>$6,139 </td><td>45</td><td>Canada</td></tr><tr><td>Van Tuxwell</td><td>70% Dark Bites</td><td>02-Jun-22</td><td>$7,077 </td><td>77</td><td>Canada</td></tr><tr><td>Rafaelita Blaksland</td><td>Spicy Special Slims</td><td>02-May-22</td><td>$2,520 </td><td>156</td><td>Canada</td></tr><tr><td>Marney O'Breen</td><td>Peanut Butter Cubes</td><td>08-Mar-22</td><td>$6,594 </td><td>91</td><td>Canada</td></tr><tr><td>Curtice Advani</td><td>Eclairs</td><td>06-May-22</td><td>$721 </td><td>203</td><td>Canada</td></tr><tr><td>Andria Kimpton</td><td>Peanut Butter Cubes</td><td>16-Feb-22</td><td>$1,127 </td><td>319</td><td>Canada</td></tr><tr><td>Roddy Speechley</td><td>Drinking Coco</td><td>17-May-22</td><td>$6,776 </td><td>312</td><td>Canada</td></tr><tr><td>Madelene Upcott</td><td>Milk Bars</td><td>26-Apr-22</td><td>$3,612 </td><td>82</td><td>Canada</td></tr><tr><td>Oby Sorrel</td><td>Eclairs</td><td>19-May-22</td><td>$6,111 </td><td>591</td><td>Canada</td></tr><tr><td>Dennison Crosswaite</td><td>Drinking Coco</td><td>10-Jan-22</td><td>$2,702 </td><td>24</td><td>Canada</td></tr><tr><td>Roddy Speechley</td><td>White Choc</td><td>05-Apr-22</td><td>$5,887 </td><td>268</td><td>Canada</td></tr><tr><td>Oby Sorrel</td><td>Orange Choco</td><td>27-Apr-22</td><td>$8,757 </td><td>338</td><td>Canada</td></tr><tr><td>Kaine Padly</td><td>Almond Choco</td><td>12-Aug-22</td><td>$6,055 </td><td>73</td><td>Canada</td></tr><tr><td>Dennison Crosswaite</td><td>Organic Choco Syrup</td><td>28-Jan-22</td><td>$8,491 </td><td>75</td><td>Canada</td></tr><tr><td>Ches Bonnell</td><td>Organic Choco Syrup</td><td>26-Jul-22</td><td>$574 </td><td>217</td><td>Canada</td></tr><tr><td>Jehu Rudeforth</td><td>50% Dark Bites</td><td>20-Apr-22</td><td>$3,990 </td><td>59</td><td>New Zealand</td></tr><tr><td>Karlen McCaffrey</td><td>Drinking Coco</td><td>28-Jul-22</td><td>$168 </td><td>156</td><td>New Zealand</td></tr><tr><td>Marney O'Breen</td><td>Peanut Butter Cubes</td><td>03-Aug-22</td><td>$8,379 </td><td>173</td><td>New Zealand</td></tr><tr><td>Dennison Crosswaite</td><td>White Choc</td><td>05-Jul-22</td><td>$9,492 </td><td>151</td><td>New Zealand</td></tr><tr><td>Dennison Crosswaite</td><td>Manuka Honey Choco</td><td>15-Jun-22</td><td>$5,061 </td><td>301</td><td>New Zealand</td></tr><tr><td>Van Tuxwell</td><td>85% Dark Bars</td><td>24-May-22</td><td>$1,722 </td><td>121</td><td>New Zealand</td></tr><tr><td>Kelci Walkden</td><td>After Nines</td><td>07-Jul-22</td><td>$147 </td><td>72</td><td>New Zealand</td></tr><tr><td>Ches Bonnell</td><td>Spicy Special Slims</td><td>14-Feb-22</td><td>$3,556 </td><td>18</td><td>New Zealand</td></tr><tr><td>Jehu Rudeforth</td><td>White Choc</td><td>11-Mar-22</td><td>$2,800 </td><td>241</td><td>New Zealand</td></tr><tr><td>Andria Kimpton</td><td>Peanut Butter Cubes</td><td>20-Jun-22</td><td>$959 </td><td>265</td><td>New Zealand</td></tr><tr><td>Brien Boise</td><td>Mint Chip Choco</td><td>01-Aug-22</td><td>$63 </td><td>181</td><td>New Zealand</td></tr><tr><td>Roddy Speechley</td><td>After Nines</td><td>25-May-22</td><td>$8,001 </td><td>10</td><td>New Zealand</td></tr><tr><td>Roddy Speechley</td><td>Orange Choco</td><td>01-Apr-22</td><td>$49 </td><td>97</td><td>New Zealand</td></tr><tr><td>Karlen McCaffrey</td><td>70% Dark Bites</td><td>02-Aug-22</td><td>$126 </td><td>40</td><td>New Zealand</td></tr><tr><td>Marney O'Breen</td><td>After Nines</td><td>09-Mar-22</td><td>$1,561 </td><td>44</td><td>New Zealand</td></tr><tr><td>Beverie Moffet</td><td>White Choc</td><td>24-Mar-22</td><td>$7,126 </td><td>7</td><td>New Zealand</td></tr><tr><td>Gigi Bohling</td><td>Fruit & Nut Bars</td><td>04-Apr-22</td><td>$10,976 </td><td>121</td><td>New Zealand</td></tr><tr><td>Wilone O'Kielt</td><td>85% Dark Bars</td><td>02-Aug-22</td><td>$1,827 </td><td>117</td><td>New Zealand</td></tr><tr><td>Gigi Bohling</td><td>Manuka Honey Choco</td><td>28-Jun-22</td><td>$8,267 </td><td>272</td><td>New Zealand</td></tr><tr><td>Rafaelita Blaksland</td><td>Choco Coated Almonds</td><td>07-Jun-22</td><td>$2,093 </td><td>45</td><td>New Zealand</td></tr><tr><td>Brien Boise</td><td>Smooth Sliky Salty</td><td>18-Jan-22</td><td>$1,015 </td><td>27</td><td>New Zealand</td></tr><tr><td>Rafaelita Blaksland</td><td>Caramel Stuffed Bars</td><td>20-May-22</td><td>$13,083 </td><td>14</td><td>New Zealand</td></tr><tr><td>Mallorie Waber</td><td>Manuka Honey Choco</td><td>13-Apr-22</td><td>$9,436 </td><td>11</td><td>New Zealand</td></tr><tr><td>Roddy Speechley</td><td>Milk Bars</td><td>02-Mar-22</td><td>$5,446 </td><td>116</td><td>New Zealand</td></tr><tr><td>Husein Augar</td><td>Caramel Stuffed Bars</td><td>27-Jan-22</td><td>$497 </td><td>475</td><td>New Zealand</td></tr><tr><td>Barr Faughny</td><td>Raspberry Choco</td><td>29-Jul-22</td><td>$6,468 </td><td>66</td><td>New Zealand</td></tr><tr><td>Van Tuxwell</td><td>Smooth Sliky Salty</td><td>14-Jun-22</td><td>$3,115 </td><td>42</td><td>New Zealand</td></tr><tr><td>Camilla Castle</td><td>Mint Chip Choco</td><td>13-Jun-22</td><td>$1,162 </td><td>190</td><td>New Zealand</td></tr><tr><td>Beverie Moffet</td><td>Baker's Choco Chips</td><td>03-Aug-22</td><td>$1,372 </td><td>144</td><td>New Zealand</td></tr><tr><td>Mallorie Waber</td><td>White Choc</td><td>25-Feb-22</td><td>$3,171 </td><td>246</td><td>New Zealand</td></tr><tr><td>Mallorie Waber</td><td>Organic Choco Syrup</td><td>01-Jul-22</td><td>$5,075 </td><td>256</td><td>New Zealand</td></tr><tr><td>Kaine Padly</td><td>Spicy Special Slims</td><td>01-Jul-22</td><td>$7,728 </td><td>37</td><td>New Zealand</td></tr><tr><td>Ches Bonnell</td><td>Milk Bars</td><td>17-Aug-22</td><td>$4,389 </td><td>126</td><td>New Zealand</td></tr><tr><td>Barr Faughny</td><td>85% Dark Bars</td><td>23-May-22</td><td>$2,100 </td><td>157</td><td>New Zealand</td></tr><tr><td>Dennison Crosswaite</td><td>Mint Chip Choco</td><td>05-Apr-22</td><td>$6,454 </td><td>417</td><td>New Zealand</td></tr><tr><td>Marney O'Breen</td><td>Smooth Sliky Salty</td><td>14-Jun-22</td><td>$8,484 </td><td>57</td><td>New Zealand</td></tr><tr><td>Wilone O'Kielt</td><td>Mint Chip Choco</td><td>19-Aug-22</td><td>$11,662 </td><td>242</td><td>New Zealand</td></tr><tr><td>Marney O'Breen</td><td>Milk Bars</td><td>14-Jan-22</td><td>$7,490 </td><td>315</td><td>New Zealand</td></tr><tr><td>Barr Faughny</td><td>Almond Choco</td><td>13-Jan-22</td><td>$5,558 </td><td>127</td><td>New Zealand</td></tr><tr><td>Beverie Moffet</td><td>85% Dark Bars</td><td>30-Aug-22</td><td>$11,200 </td><td>22</td><td>New Zealand</td></tr><tr><td>Oby Sorrel</td><td>Smooth Sliky Salty</td><td>07-Jul-22</td><td>$8,673 </td><td>60</td><td>New Zealand</td></tr><tr><td>Andria Kimpton</td><td>50% Dark Bites</td><td>02-Mar-22</td><td>$3,374 </td><td>202</td><td>New Zealand</td></tr><tr><td>Ches Bonnell</td><td>Peanut Butter Cubes</td><td>04-Mar-22</td><td>$889 </td><td>273</td><td>New Zealand</td></tr><tr><td>Gunar Cockshoot</td><td>Spicy Special Slims</td><td>28-Jun-22</td><td>$6,867 </td><td>183</td><td>New Zealand</td></tr><tr><td>Karlen McCaffrey</td><td>Fruit & Nut Bars</td><td>07-Feb-22</td><td>$1,218 </td><td>135</td><td>New Zealand</td></tr><tr><td>Dennison Crosswaite</td><td>Drinking Coco</td><td>11-Jan-22</td><td>$4,109 </td><td>197</td><td>New Zealand</td></tr><tr><td>Madelene Upcott</td><td>Raspberry Choco</td><td>18-May-22</td><td>$9,226 </td><td>415</td><td>New Zealand</td></tr><tr><td>Dotty Strutley</td><td>Choco Coated Almonds</td><td>04-Jan-22</td><td>$5,733 </td><td>348</td><td>New Zealand</td></tr><tr><td>Roddy Speechley</td><td>50% Dark Bites</td><td>09-May-22</td><td>$4,312 </td><td>211</td><td>New Zealand</td></tr><tr><td>Wilone O'Kielt</td><td>Manuka Honey Choco</td><td>11-Jul-22</td><td>$3,724 </td><td>234</td><td>New Zealand</td></tr><tr><td>Wilone O'Kielt</td><td>Almond Choco</td><td>15-Mar-22</td><td>$9,198 </td><td>144</td><td>New Zealand</td></tr><tr><td>Oby Sorrel</td><td>Baker's Choco Chips</td><td>25-Apr-22</td><td>$11,823 </td><td>47</td><td>New Zealand</td></tr><tr><td>Roddy Speechley</td><td>Baker's Choco Chips</td><td>22-Feb-22</td><td>$5,313 </td><td>215</td><td>New Zealand</td></tr><tr><td>Rafaelita Blaksland</td><td>70% Dark Bites</td><td>24-Aug-22</td><td>$679 </td><td>280</td><td>New Zealand</td></tr><tr><td>Karlen McCaffrey</td><td>Eclairs</td><td>06-May-22</td><td>$2,597 </td><td>177</td><td>New Zealand</td></tr><tr><td>Brien Boise</td><td>Baker's Choco Chips</td><td>12-Jul-22</td><td>$5,978 </td><td>24</td><td>New Zealand</td></tr><tr><td>Oby Sorrel</td><td>White Choc</td><td>10-Jun-22</td><td>$4,361 </td><td>40</td><td>New Zealand</td></tr><tr><td>Karlen McCaffrey</td><td>Caramel Stuffed Bars</td><td>31-Jan-22</td><td>$5,334 </td><td>227</td><td>New Zealand</td></tr><tr><td>Andria Kimpton</td><td>Organic Choco Syrup</td><td>04-Mar-22</td><td>$4,935 </td><td>39</td><td>New Zealand</td></tr><tr><td>Barr Faughny</td><td>After Nines</td><td>19-Apr-22</td><td>$10,024 </td><td>84</td><td>New Zealand</td></tr><tr><td>Madelene Upcott</td><td>Caramel Stuffed Bars</td><td>01-Feb-22</td><td>$3,374 </td><td>151</td><td>New Zealand</td></tr><tr><td>Dennison Crosswaite</td><td>Orange Choco</td><td>16-Mar-22</td><td>$4,571 </td><td>140</td><td>New Zealand</td></tr><tr><td>Jan Morforth</td><td>Mint Chip Choco</td><td>30-Jun-22</td><td>$18,340 </td><td>285</td><td>New Zealand</td></tr><tr><td>Dotty Strutley</td><td>White Choc</td><td>15-Jun-22</td><td>$7,014 </td><td>60</td><td>New Zealand</td></tr><tr><td>Oby Sorrel</td><td>Raspberry Choco</td><td>13-May-22</td><td>$4,550 </td><td>281</td><td>New Zealand</td></tr><tr><td>Ches Bonnell</td><td>Organic Choco Syrup</td><td>15-Jul-22</td><td>$7,623 </td><td>85</td><td>New Zealand</td></tr><tr><td>Camilla Castle</td><td>Spicy Special Slims</td><td>25-Jan-22</td><td>$11,564 </td><td>24</td><td>New Zealand</td></tr><tr><td>Curtice Advani</td><td>Spicy Special Slims</td><td>10-Jan-22</td><td>$4,074 </td><td>469</td><td>New Zealand</td></tr><tr><td>Barr Faughny</td><td>Fruit & Nut Bars</td><td>26-Apr-22</td><td>$1,687 </td><td>147</td><td>New Zealand</td></tr><tr><td>Van Tuxwell</td><td>Mint Chip Choco</td><td>27-Jun-22</td><td>$4,046 </td><td>103</td><td>New Zealand</td></tr><tr><td>Barr Faughny</td><td>Eclairs</td><td>28-Mar-22</td><td>$6,713 </td><td>31</td><td>New Zealand</td></tr><tr><td>Barr Faughny</td><td>Mint Chip Choco</td><td>21-Feb-22</td><td>$6,440 </td><td>145</td><td>New Zealand</td></tr><tr><td>Beverie Moffet</td><td>Smooth Sliky Salty</td><td>19-May-22</td><td>$2,387 </td><td>59</td><td>New Zealand</td></tr><tr><td>Marney O'Breen</td><td>Fruit & Nut Bars</td><td>25-Aug-22</td><td>$8,939 </td><td>4</td><td>New Zealand</td></tr><tr><td>Brien Boise</td><td>Manuka Honey Choco</td><td>14-Jun-22</td><td>$14,980 </td><td>42</td><td>New Zealand</td></tr><tr><td>Jehu Rudeforth</td><td>After Nines</td><td>14-Apr-22</td><td>$1,512 </td><td>73</td><td>New Zealand</td></tr><tr><td>Oby Sorrel</td><td>Organic Choco Syrup</td><td>17-Feb-22</td><td>$15,316 </td><td>270</td><td>New Zealand</td></tr><tr><td>Kelci Walkden</td><td>Drinking Coco</td><td>10-Mar-22</td><td>$15,855 </td><td>111</td><td>New Zealand</td></tr><tr><td>Marney O'Breen</td><td>85% Dark Bars</td><td>30-May-22</td><td>$1,218 </td><td>149</td><td>New Zealand</td></tr><tr><td>Beverie Moffet</td><td>Mint Chip Choco</td><td>09-Jun-22</td><td>$4,361 </td><td>97</td><td>New Zealand</td></tr><tr><td>Mallorie Waber</td><td>Mint Chip Choco</td><td>31-Jan-22</td><td>$1,316 </td><td>107</td><td>New Zealand</td></tr><tr><td>Brien Boise</td><td>White Choc</td><td>15-Jun-22</td><td>$5,509 </td><td>321</td><td>New Zealand</td></tr><tr><td>Camilla Castle</td><td>Caramel Stuffed Bars</td><td>17-Jun-22</td><td>$4,137 </td><td>347</td><td>New Zealand</td></tr><tr><td>Madelene Upcott</td><td>Peanut Butter Cubes</td><td>28-Jan-22</td><td>$5,152 </td><td>333</td><td>New Zealand</td></tr><tr><td>Roddy Speechley</td><td>Almond Choco</td><td>28-Mar-22</td><td>$2,723 </td><td>67</td><td>New Zealand</td></tr><tr><td>Ches Bonnell</td><td>Mint Chip Choco</td><td>18-Jan-22</td><td>$9,058 </td><td>229</td><td>New Zealand</td></tr><tr><td>Van Tuxwell</td><td>Fruit & Nut Bars</td><td>17-Jan-22</td><td>$2,996 </td><td>88</td><td>New Zealand</td></tr><tr><td>Andria Kimpton</td><td>Mint Chip Choco</td><td>15-Feb-22</td><td>$8,848 </td><td>211</td><td>New Zealand</td></tr><tr><td>Gunar Cockshoot</td><td>Almond Choco</td><td>05-Jan-22</td><td>$5,173 </td><td>129</td><td>New Zealand</td></tr><tr><td>Karlen McCaffrey</td><td>Baker's Choco Chips</td><td>05-Apr-22</td><td>$5,012 </td><td>189</td><td>New Zealand</td></tr><tr><td>Oby Sorrel</td><td>Milk Bars</td><td>12-Jan-22</td><td>$4,494 </td><td>187</td><td>New Zealand</td></tr><tr><td>Curtice Advani</td><td>Mint Chip Choco</td><td>26-Jan-22</td><td>$3,220 </td><td>265</td><td>New Zealand</td></tr><tr><td>Madelene Upcott</td><td>Fruit & Nut Bars</td><td>18-Jan-22</td><td>$5,677 </td><td>21</td><td>New Zealand</td></tr><tr><td>Jan Morforth</td><td>Organic Choco Syrup</td><td>02-Mar-22</td><td>$1,799 </td><td>207</td><td>New Zealand</td></tr><tr><td>Gigi Bohling</td><td>Raspberry Choco</td><td>09-Aug-22</td><td>$1,127 </td><td>176</td><td>New Zealand</td></tr><tr><td>Kelci Walkden</td><td>Spicy Special Slims</td><td>11-Aug-22</td><td>$658 </td><td>65</td><td>New Zealand</td></tr><tr><td>Barr Faughny</td><td>Manuka Honey Choco</td><td>24-Feb-22</td><td>$5,474 </td><td>239</td><td>New Zealand</td></tr><tr><td>Karlen McCaffrey</td><td>85% Dark Bars</td><td>28-Jun-22</td><td>$6,069 </td><td>55</td><td>New Zealand</td></tr><tr><td>Ches Bonnell</td><td>After Nines</td><td>23-Jun-22</td><td>$5,705 </td><td>350</td><td>New Zealand</td></tr><tr><td>Jan Morforth</td><td>Orange Choco</td><td>11-Feb-22</td><td>$1,225 </td><td>84</td><td>New Zealand</td></tr><tr><td>Husein Augar</td><td>After Nines</td><td>04-Aug-22</td><td>$6,433 </td><td>7</td><td>New Zealand</td></tr><tr><td>Andria Kimpton</td><td>Orange Choco</td><td>14-Jun-22</td><td>$8,169 </td><td>88</td><td>New Zealand</td></tr><tr><td>Gunar Cockshoot</td><td>After Nines</td><td>09-Aug-22</td><td>$7,175 </td><td>145</td><td>New Zealand</td></tr><tr><td>Jan Morforth</td><td>Manuka Honey Choco</td><td>28-Jul-22</td><td>$1,589 </td><td>271</td><td>New Zealand</td></tr><tr><td>Gunar Cockshoot</td><td>Raspberry Choco</td><td>24-Aug-22</td><td>$630 </td><td>52</td><td>New Zealand</td></tr><tr><td>Mallorie Waber</td><td>85% Dark Bars</td><td>06-Jun-22</td><td>$7,714 </td><td>106</td><td>New Zealand</td></tr><tr><td>Beverie Moffet</td><td>Organic Choco Syrup</td><td>24-May-22</td><td>$6,678 </td><td>226</td><td>New Zealand</td></tr><tr><td>Jehu Rudeforth</td><td>85% Dark Bars</td><td>11-Mar-22</td><td>$6,972 </td><td>89</td><td>New Zealand</td></tr><tr><td>Kelci Walkden</td><td>Smooth Sliky Salty</td><td>11-Mar-22</td><td>$10,633 </td><td>277</td><td>New Zealand</td></tr><tr><td>Curtice Advani</td><td>After Nines</td><td>05-Apr-22</td><td>$7,959 </td><td>30</td><td>New Zealand</td></tr><tr><td>Wilone O'Kielt</td><td>Fruit & Nut Bars</td><td>11-Jul-22</td><td>$6,426 </td><td>98</td><td>New Zealand</td></tr><tr><td>Camilla Castle</td><td>Peanut Butter Cubes</td><td>21-Jul-22</td><td>$1,582 </td><td>62</td><td>New Zealand</td></tr><tr><td>Barr Faughny</td><td>50% Dark Bites</td><td>23-Jun-22</td><td>$4,557 </td><td>308</td><td>New Zealand</td></tr><tr><td>Camilla Castle</td><td>Raspberry Choco</td><td>04-Apr-22</td><td>$4,746 </td><td>137</td><td>New Zealand</td></tr><tr><td>Wilone O'Kielt</td><td>Eclairs</td><td>11-Mar-22</td><td>$3,311 </td><td>22</td><td>New Zealand</td></tr><tr><td>Marney O'Breen</td><td>Organic Choco Syrup</td><td>08-Jul-22</td><td>$8,624 </td><td>50</td><td>New Zealand</td></tr><tr><td>Kelci Walkden</td><td>Baker's Choco Chips</td><td>23-Jun-22</td><td>$2,912 </td><td>110</td><td>New Zealand</td></tr><tr><td>Rafaelita Blaksland</td><td>Eclairs</td><td>07-Feb-22</td><td>$19,481 </td><td>51</td><td>New Zealand</td></tr><tr><td>Marney O'Breen</td><td>Eclairs</td><td>18-Jan-22</td><td>$4,914 </td><td>31</td><td>New Zealand</td></tr><tr><td>Gunar Cockshoot</td><td>Fruit & Nut Bars</td><td>10-Jun-22</td><td>$9,205 </td><td>419</td><td>New Zealand</td></tr><tr><td>Kelci Walkden</td><td>Manuka Honey Choco</td><td>08-Apr-22</td><td>$1,358 </td><td>106</td><td>New Zealand</td></tr><tr><td>Madelene Upcott</td><td>70% Dark Bites</td><td>22-Feb-22</td><td>$13,356 </td><td>93</td><td>New Zealand</td></tr><tr><td>Mallorie Waber</td><td>Orange Choco</td><td>01-Feb-22</td><td>$6,510 </td><td>23</td><td>New Zealand</td></tr><tr><td>Oby Sorrel</td><td>Spicy Special Slims</td><td>03-Jun-22</td><td>$1,617 </td><td>13</td><td>New Zealand</td></tr><tr><td>Beverie Moffet</td><td>Peanut Butter Cubes</td><td>23-Feb-22</td><td>$10,822 </td><td>30</td><td>New Zealand</td></tr><tr><td>Dotty Strutley</td><td>99% Dark & Pure</td><td>09-May-22</td><td>$10,724 </td><td>203</td><td>New Zealand</td></tr><tr><td>Brien Boise</td><td>Drinking Coco</td><td>06-Jun-22</td><td>$1,582 </td><td>100</td><td>New Zealand</td></tr><tr><td>Wilone O'Kielt</td><td>Organic Choco Syrup</td><td>31-Jan-22</td><td>$2,016 </td><td>277</td><td>New Zealand</td></tr><tr><td>Ches Bonnell</td><td>Caramel Stuffed Bars</td><td>30-Jun-22</td><td>$7,588 </td><td>42</td><td>New Zealand</td></tr><tr><td>Gigi Bohling</td><td>Smooth Sliky Salty</td><td>10-Jan-22</td><td>$700 </td><td>97</td><td>New Zealand</td></tr><tr><td>Roddy Speechley</td><td>85% Dark Bars</td><td>14-Apr-22</td><td>$4,844 </td><td>275</td><td>New Zealand</td></tr><tr><td>Kaine Padly</td><td>70% Dark Bites</td><td>24-Mar-22</td><td>$7,231 </td><td>38</td><td>New Zealand</td></tr><tr><td>Ches Bonnell</td><td>Eclairs</td><td>04-Apr-22</td><td>$490 </td><td>49</td><td>New Zealand</td></tr><tr><td>Brien Boise</td><td>Organic Choco Syrup</td><td>17-Jan-22</td><td>$637 </td><td>313</td><td>New Zealand</td></tr><tr><td>Gigi Bohling</td><td>Orange Choco</td><td>16-May-22</td><td>$8,204 </td><td>307</td><td>New Zealand</td></tr><tr><td>Van Tuxwell</td><td>Eclairs</td><td>01-Mar-22</td><td>$5,229 </td><td>182</td><td>New Zealand</td></tr><tr><td>Karlen McCaffrey</td><td>Mint Chip Choco</td><td>02-Mar-22</td><td>$4,326 </td><td>61</td><td>New Zealand</td></tr><tr><td>Van Tuxwell</td><td>Baker's Choco Chips</td><td>22-Mar-22</td><td>$9,660 </td><td>24</td><td>New Zealand</td></tr><tr><td>Dotty Strutley</td><td>Raspberry Choco</td><td>10-Feb-22</td><td>$5,845 </td><td>91</td><td>New Zealand</td></tr><tr><td>Brien Boise</td><td>70% Dark Bites</td><td>15-Jun-22</td><td>$7,231 </td><td>130</td><td>New Zealand</td></tr><tr><td>Kaine Padly</td><td>Smooth Sliky Salty</td><td>12-Apr-22</td><td>$7 </td><td>518</td><td>New Zealand</td></tr><tr><td>Rafaelita Blaksland</td><td>After Nines</td><td>07-Jul-22</td><td>$1,099 </td><td>92</td><td>New Zealand</td></tr><tr><td>Madelene Upcott</td><td>Mint Chip Choco</td><td>11-Mar-22</td><td>$7,413 </td><td>4</td><td>New Zealand</td></tr><tr><td>Beverie Moffet</td><td>Drinking Coco</td><td>12-Jan-22</td><td>$1,141 </td><td>518</td><td>New Zealand</td></tr><tr><td>Wilone O'Kielt</td><td>Baker's Choco Chips</td><td>22-Apr-22</td><td>$3,836 </td><td>59</td><td>New Zealand</td></tr><tr><td>Dennison Crosswaite</td><td>Organic Choco Syrup</td><td>04-Jan-22</td><td>$371 </td><td>229</td><td>New Zealand</td></tr><tr><td>Husein Augar</td><td>Peanut Butter Cubes</td><td>16-Feb-22</td><td>$2,058 </td><td>236</td><td>New Zealand</td></tr><tr><td>Gigi Bohling</td><td>After Nines</td><td>21-Jan-22</td><td>$5,600 </td><td>181</td><td>New Zealand</td></tr><tr><td>Rafaelita Blaksland</td><td>99% Dark & Pure</td><td>25-Mar-22</td><td>$3,164 </td><td>84</td><td>New Zealand</td></tr><tr><td>Curtice Advani</td><td>85% Dark Bars</td><td>12-May-22</td><td>$5,404 </td><td>187</td><td>New Zealand</td></tr><tr><td>Barr Faughny</td><td>Smooth Sliky Salty</td><td>25-Jan-22</td><td>$3,990 </td><td>169</td><td>New Zealand</td></tr><tr><td>Kaine Padly</td><td>Eclairs</td><td>20-Jan-22</td><td>$12,894 </td><td>48</td><td>New Zealand</td></tr><tr><td>Ches Bonnell</td><td>Drinking Coco</td><td>16-Feb-22</td><td>$8,302 </td><td>131</td><td>New Zealand</td></tr><tr><td>Van Tuxwell</td><td>50% Dark Bites</td><td>11-Jul-22</td><td>$3,626 </td><td>10</td><td>New Zealand</td></tr><tr><td>Kelci Walkden</td><td>White Choc</td><td>13-Apr-22</td><td>$7,609 </td><td>150</td><td>New Zealand</td></tr><tr><td>Madelene Upcott</td><td>White Choc</td><td>22-Aug-22</td><td>$10,794 </td><td>51</td><td>New Zealand</td></tr><tr><td>Camilla Castle</td><td>99% Dark & Pure</td><td>26-Aug-22</td><td>$2,268 </td><td>42</td><td>New Zealand</td></tr><tr><td>Gigi Bohling</td><td>50% Dark Bites</td><td>29-Jun-22</td><td>$5,670 </td><td>64</td><td>New Zealand</td></tr><tr><td>Curtice Advani</td><td>Peanut Butter Cubes</td><td>15-Mar-22</td><td>$1,533 </td><td>434</td><td>New Zealand</td></tr><tr><td>Curtice Advani</td><td>50% Dark Bites</td><td>27-Jan-22</td><td>$9,765 </td><td>85</td><td>New Zealand</td></tr><tr><td>Brien Boise</td><td>Eclairs</td><td>11-Jul-22</td><td>$4,690 </td><td>299</td><td>New Zealand</td></tr><tr><td>Gunar Cockshoot</td><td>Choco Coated Almonds</td><td>01-Aug-22</td><td>$13,062 </td><td>62</td><td>New Zealand</td></tr><tr><td>Marney O'Breen</td><td>70% Dark Bites</td><td>14-Feb-22</td><td>$8,603 </td><td>352</td><td>New Zealand</td></tr><tr><td>Roddy Speechley</td><td>99% Dark & Pure</td><td>18-Apr-22</td><td>$7,483 </td><td>183</td><td>New Zealand</td></tr><tr><td>Oby Sorrel</td><td>85% Dark Bars</td><td>01-Feb-22</td><td>$3,381 </td><td>417</td><td>New Zealand</td></tr><tr><td>Dotty Strutley</td><td>Orange Choco</td><td>04-Aug-22</td><td>$2,030 </td><td>146</td><td>New Zealand</td></tr><tr><td>Andria Kimpton</td><td>Almond Choco</td><td>05-Apr-22</td><td>$6,559 </td><td>158</td><td>New Zealand</td></tr><tr><td>Jehu Rudeforth</td><td>Milk Bars</td><td>18-May-22</td><td>$2,478 </td><td>188</td><td>New Zealand</td></tr><tr><td>Beverie Moffet</td><td>Spicy Special Slims</td><td>07-Jun-22</td><td>$63 </td><td>60</td><td>New Zealand</td></tr><tr><td>Camilla Castle</td><td>85% Dark Bars</td><td>08-Aug-22</td><td>$15,099 </td><td>55</td><td>New Zealand</td></tr><tr><td>Mallorie Waber</td><td>After Nines</td><td>04-May-22</td><td>$483 </td><td>228</td><td>New Zealand</td></tr><tr><td>Madelene Upcott</td><td>Milk Bars</td><td>29-Mar-22</td><td>$12,558 </td><td>403</td><td>New Zealand</td></tr><tr><td>Barr Faughny</td><td>99% Dark & Pure</td><td>24-May-22</td><td>$8,134 </td><td>195</td><td>New Zealand</td></tr></tbody></table></div>"
      ]
     },
     "metadata": {
      "application/vnd.databricks.v1+output": {
       "addedWidgets": {},
       "aggData": [],
       "aggError": "",
       "aggOverflow": false,
       "aggSchema": [],
       "aggSeriesLimitReached": false,
       "aggType": "",
       "arguments": {},
       "columnCustomDisplayInfos": {},
       "data": [
        [
         "Jan Morforth",
         "Peanut Butter Cubes",
         "27-Apr-22",
         "$12,726 ",
         342,
         "Australia"
        ],
        [
         "Gunar Cockshoot",
         "After Nines",
         "24-Mar-22",
         "$3,080 ",
         73,
         "Australia"
        ],
        [
         "Brien Boise",
         "99% Dark & Pure",
         "04-Jul-22",
         "$2,835 ",
         102,
         "Australia"
        ],
        [
         "Beverie Moffet",
         "Organic Choco Syrup",
         "26-Jan-22",
         "$6,790 ",
         356,
         "Australia"
        ],
        [
         "Brien Boise",
         "Eclairs",
         "27-Jun-22",
         "$6,888 ",
         88,
         "Australia"
        ],
        [
         "Kaine Padly",
         "Eclairs",
         "28-Feb-22",
         "$7,672 ",
         115,
         "Australia"
        ],
        [
         "Wilone O'Kielt",
         "Manuka Honey Choco",
         "11-May-22",
         "$4,284 ",
         94,
         "Australia"
        ],
        [
         "Camilla Castle",
         "85% Dark Bars",
         "19-May-22",
         "$3,654 ",
         14,
         "Australia"
        ],
        [
         "Curtice Advani",
         "Milk Bars",
         "14-Feb-22",
         "$6,979 ",
         18,
         "Australia"
        ],
        [
         "Brien Boise",
         "Fruit & Nut Bars",
         "06-Jun-22",
         "$8,575 ",
         23,
         "Australia"
        ],
        [
         "Dotty Strutley",
         "Drinking Coco",
         "19-Jul-22",
         "$91 ",
         135,
         "Australia"
        ],
        [
         "Barr Faughny",
         "Fruit & Nut Bars",
         "30-Jun-22",
         "$15,421 ",
         55,
         "Australia"
        ],
        [
         "Andria Kimpton",
         "50% Dark Bites",
         "02-Jun-22",
         "$4,438 ",
         227,
         "Australia"
        ],
        [
         "Andria Kimpton",
         "Drinking Coco",
         "28-Jun-22",
         "$1,603 ",
         48,
         "Australia"
        ],
        [
         "Marney O'Breen",
         "Organic Choco Syrup",
         "16-May-22",
         "$273 ",
         174,
         "Australia"
        ],
        [
         "Wilone O'Kielt",
         "Caramel Stuffed Bars",
         "14-Apr-22",
         "$2,030 ",
         11,
         "Australia"
        ],
        [
         "Van Tuxwell",
         "Organic Choco Syrup",
         "10-Aug-22",
         "$19,453 ",
         14,
         "Australia"
        ],
        [
         "Dotty Strutley",
         "Fruit & Nut Bars",
         "23-Aug-22",
         "$280 ",
         311,
         "Australia"
        ],
        [
         "Dennison Crosswaite",
         "70% Dark Bites",
         "07-Feb-22",
         "$5,859 ",
         108,
         "Australia"
        ],
        [
         "Madelene Upcott",
         "Spicy Special Slims",
         "07-Mar-22",
         "$7,182 ",
         408,
         "Australia"
        ],
        [
         "Dennison Crosswaite",
         "85% Dark Bars",
         "05-Apr-22",
         "$6,881 ",
         420,
         "Australia"
        ],
        [
         "Wilone O'Kielt",
         "Organic Choco Syrup",
         "07-Jul-22",
         "$1,743 ",
         111,
         "Australia"
        ],
        [
         "Beverie Moffet",
         "Eclairs",
         "20-Jun-22",
         "$1,827 ",
         6,
         "Australia"
        ],
        [
         "Dennison Crosswaite",
         "Raspberry Choco",
         "14-Mar-22",
         "$5,740 ",
         31,
         "Australia"
        ],
        [
         "Madelene Upcott",
         "Fruit & Nut Bars",
         "05-Jan-22",
         "$5,579 ",
         92,
         "Australia"
        ],
        [
         "Wilone O'Kielt",
         "Drinking Coco",
         "06-Apr-22",
         "$623 ",
         283,
         "Australia"
        ],
        [
         "Gunar Cockshoot",
         "Fruit & Nut Bars",
         "15-Jun-22",
         "$6,013 ",
         21,
         "Australia"
        ],
        [
         "Rafaelita Blaksland",
         "Drinking Coco",
         "21-Feb-22",
         "$11,550 ",
         396,
         "Australia"
        ],
        [
         "Kelci Walkden",
         "Eclairs",
         "23-Mar-22",
         "$7,273 ",
         547,
         "Australia"
        ],
        [
         "Husein Augar",
         "Orange Choco",
         "28-Jun-22",
         "$8,897 ",
         188,
         "Australia"
        ],
        [
         "Marney O'Breen",
         "Milk Bars",
         "28-Jul-22",
         "$2,464 ",
         387,
         "Australia"
        ],
        [
         "Kaine Padly",
         "Manuka Honey Choco",
         "12-Jan-22",
         "$2,765 ",
         264,
         "Australia"
        ],
        [
         "Ches Bonnell",
         "Eclairs",
         "05-Jul-22",
         "$4,116 ",
         128,
         "Australia"
        ],
        [
         "Brien Boise",
         "Baker's Choco Chips",
         "04-Jan-22",
         "$12,516 ",
         212,
         "Australia"
        ],
        [
         "Dennison Crosswaite",
         "99% Dark & Pure",
         "31-Jan-22",
         "$2,758 ",
         18,
         "Australia"
        ],
        [
         "Camilla Castle",
         "70% Dark Bites",
         "29-Apr-22",
         "$6,048 ",
         477,
         "Australia"
        ],
        [
         "Curtice Advani",
         "Orange Choco",
         "12-Jul-22",
         "$854 ",
         136,
         "Australia"
        ],
        [
         "Mallorie Waber",
         "Milk Bars",
         "29-Jul-22",
         "$2,779 ",
         104,
         "Australia"
        ],
        [
         "Ches Bonnell",
         "White Choc",
         "02-Mar-22",
         "$1,043 ",
         202,
         "Australia"
        ],
        [
         "Jehu Rudeforth",
         "50% Dark Bites",
         "14-Jan-22",
         "$5,194 ",
         418,
         "Australia"
        ],
        [
         "Jehu Rudeforth",
         "Orange Choco",
         "23-Mar-22",
         "$13,706 ",
         26,
         "Australia"
        ],
        [
         "Barr Faughny",
         "White Choc",
         "04-Jul-22",
         "$8,113 ",
         370,
         "Australia"
        ],
        [
         "Dennison Crosswaite",
         "50% Dark Bites",
         "01-Apr-22",
         "$7,287 ",
         12,
         "Australia"
        ],
        [
         "Curtice Advani",
         "Organic Choco Syrup",
         "28-Jun-22",
         "$3,472 ",
         311,
         "Australia"
        ],
        [
         "Wilone O'Kielt",
         "After Nines",
         "27-May-22",
         "$3,325 ",
         26,
         "Australia"
        ],
        [
         "Jan Morforth",
         "White Choc",
         "27-Jul-22",
         "$3,472 ",
         32,
         "Australia"
        ],
        [
         "Ches Bonnell",
         "Mint Chip Choco",
         "21-Feb-22",
         "$9,660 ",
         92,
         "Australia"
        ],
        [
         "Karlen McCaffrey",
         "White Choc",
         "05-Jan-22",
         "$7,357 ",
         48,
         "Australia"
        ],
        [
         "Brien Boise",
         "Choco Coated Almonds",
         "25-May-22",
         "$5,124 ",
         62,
         "Australia"
        ],
        [
         "Beverie Moffet",
         "Milk Bars",
         "25-May-22",
         "$735 ",
         390,
         "Australia"
        ],
        [
         "Jan Morforth",
         "Orange Choco",
         "04-Jul-22",
         "$3,199 ",
         122,
         "Australia"
        ],
        [
         "Ches Bonnell",
         "70% Dark Bites",
         "12-Jan-22",
         "$3,136 ",
         125,
         "Australia"
        ],
        [
         "Kaine Padly",
         "Peanut Butter Cubes",
         "25-Mar-22",
         "$5,460 ",
         286,
         "Australia"
        ],
        [
         "Husein Augar",
         "Manuka Honey Choco",
         "15-Mar-22",
         "$7,161 ",
         92,
         "Australia"
        ],
        [
         "Van Tuxwell",
         "Milk Bars",
         "20-Jun-22",
         "$7,910 ",
         87,
         "Australia"
        ],
        [
         "Dotty Strutley",
         "50% Dark Bites",
         "12-May-22",
         "$3,108 ",
         252,
         "Australia"
        ],
        [
         "Madelene Upcott",
         "50% Dark Bites",
         "25-Jul-22",
         "$7,350 ",
         6,
         "Australia"
        ],
        [
         "Gunar Cockshoot",
         "Almond Choco",
         "25-Jan-22",
         "$3,752 ",
         424,
         "Australia"
        ],
        [
         "Beverie Moffet",
         "Baker's Choco Chips",
         "04-Aug-22",
         "$3,192 ",
         109,
         "Australia"
        ],
        [
         "Marney O'Breen",
         "Smooth Sliky Salty",
         "03-Jan-22",
         "$3,745 ",
         170,
         "Australia"
        ],
        [
         "Mallorie Waber",
         "Orange Choco",
         "07-Mar-22",
         "$14,658 ",
         275,
         "Australia"
        ],
        [
         "Gigi Bohling",
         "Drinking Coco",
         "27-Jul-22",
         "$2,807 ",
         139,
         "Australia"
        ],
        [
         "Beverie Moffet",
         "White Choc",
         "27-Jun-22",
         "$2,240 ",
         166,
         "Australia"
        ],
        [
         "Dotty Strutley",
         "Eclairs",
         "26-Jan-22",
         "$6,979 ",
         3,
         "Australia"
        ],
        [
         "Wilone O'Kielt",
         "Fruit & Nut Bars",
         "15-Jun-22",
         "$392 ",
         102,
         "Australia"
        ],
        [
         "Karlen McCaffrey",
         "Almond Choco",
         "08-Jul-22",
         "$7,294 ",
         128,
         "Australia"
        ],
        [
         "Husein Augar",
         "50% Dark Bites",
         "19-Aug-22",
         "$14,889 ",
         52,
         "Australia"
        ],
        [
         "Madelene Upcott",
         "Choco Coated Almonds",
         "08-Apr-22",
         "$2,058 ",
         72,
         "Australia"
        ],
        [
         "Mallorie Waber",
         "85% Dark Bars",
         "26-Aug-22",
         "$2,541 ",
         53,
         "Australia"
        ],
        [
         "Gigi Bohling",
         "White Choc",
         "11-May-22",
         "$5,523 ",
         87,
         "Australia"
        ],
        [
         "Mallorie Waber",
         "Almond Choco",
         "01-Aug-22",
         "$7,882 ",
         125,
         "Australia"
        ],
        [
         "Brien Boise",
         "Drinking Coco",
         "27-Jul-22",
         "$6,832 ",
         156,
         "Australia"
        ],
        [
         "Rafaelita Blaksland",
         "50% Dark Bites",
         "22-Mar-22",
         "$3,010 ",
         40,
         "Australia"
        ],
        [
         "Kelci Walkden",
         "After Nines",
         "02-Mar-22",
         "$6,916 ",
         288,
         "Australia"
        ],
        [
         "Gunar Cockshoot",
         "Raspberry Choco",
         "17-Mar-22",
         "$602 ",
         72,
         "Australia"
        ],
        [
         "Van Tuxwell",
         "Caramel Stuffed Bars",
         "17-May-22",
         "$5,936 ",
         59,
         "Australia"
        ],
        [
         "Curtice Advani",
         "Almond Choco",
         "13-Jul-22",
         "$2,912 ",
         75,
         "Australia"
        ],
        [
         "Madelene Upcott",
         "85% Dark Bars",
         "16-Jun-22",
         "$1,575 ",
         329,
         "Australia"
        ],
        [
         "Jehu Rudeforth",
         "Peanut Butter Cubes",
         "24-Jun-22",
         "$5,691 ",
         38,
         "Australia"
        ],
        [
         "Camilla Castle",
         "Caramel Stuffed Bars",
         "02-May-22",
         "$3,178 ",
         16,
         "Australia"
        ],
        [
         "Curtice Advani",
         "99% Dark & Pure",
         "07-Jan-22",
         "$4,676 ",
         84,
         "Australia"
        ],
        [
         "Gunar Cockshoot",
         "Drinking Coco",
         "14-Jan-22",
         "$2,317 ",
         195,
         "Australia"
        ],
        [
         "Dotty Strutley",
         "Mint Chip Choco",
         "01-Aug-22",
         "$6,790 ",
         25,
         "Australia"
        ],
        [
         "Roddy Speechley",
         "Mint Chip Choco",
         "05-May-22",
         "$6,797 ",
         252,
         "Australia"
        ],
        [
         "Roddy Speechley",
         "Almond Choco",
         "24-Jun-22",
         "$4,466 ",
         74,
         "Australia"
        ],
        [
         "Camilla Castle",
         "99% Dark & Pure",
         "18-Jan-22",
         "$4,669 ",
         101,
         "Australia"
        ],
        [
         "Ches Bonnell",
         "Smooth Sliky Salty",
         "16-May-22",
         "$7,490 ",
         54,
         "Australia"
        ],
        [
         "Husein Augar",
         "Eclairs",
         "04-Jul-22",
         "$6,993 ",
         31,
         "Australia"
        ],
        [
         "Camilla Castle",
         "Manuka Honey Choco",
         "17-Mar-22",
         "$637 ",
         169,
         "Australia"
        ],
        [
         "Oby Sorrel",
         "Almond Choco",
         "15-Feb-22",
         "$6,034 ",
         223,
         "Australia"
        ],
        [
         "Dennison Crosswaite",
         "Organic Choco Syrup",
         "10-May-22",
         "$5,775 ",
         41,
         "Australia"
        ],
        [
         "Marney O'Breen",
         "Spicy Special Slims",
         "23-Jun-22",
         "$13,125 ",
         275,
         "Australia"
        ],
        [
         "Rafaelita Blaksland",
         "Organic Choco Syrup",
         "26-Jan-22",
         "$994 ",
         105,
         "Australia"
        ],
        [
         "Oby Sorrel",
         "Raspberry Choco",
         "17-Feb-22",
         "$1,043 ",
         120,
         "Australia"
        ],
        [
         "Jan Morforth",
         "50% Dark Bites",
         "14-Jun-22",
         "$3,402 ",
         182,
         "Australia"
        ],
        [
         "Beverie Moffet",
         "Smooth Sliky Salty",
         "25-Jan-22",
         "$10,507 ",
         467,
         "Australia"
        ],
        [
         "Karlen McCaffrey",
         "70% Dark Bites",
         "24-Jun-22",
         "$238 ",
         317,
         "Australia"
        ],
        [
         "Oby Sorrel",
         "Milk Bars",
         "21-Jun-22",
         "$7,672 ",
         254,
         "Australia"
        ],
        [
         "Andria Kimpton",
         "85% Dark Bars",
         "23-Aug-22",
         "$4,186 ",
         233,
         "Australia"
        ],
        [
         "Camilla Castle",
         "Smooth Sliky Salty",
         "03-Mar-22",
         "$7,406 ",
         118,
         "Australia"
        ],
        [
         "Jehu Rudeforth",
         "Drinking Coco",
         "14-Jan-22",
         "$2,611 ",
         65,
         "Australia"
        ],
        [
         "Gigi Bohling",
         "Caramel Stuffed Bars",
         "08-Jul-22",
         "$8,001 ",
         151,
         "Australia"
        ],
        [
         "Andria Kimpton",
         "Peanut Butter Cubes",
         "20-Apr-22",
         "$6,678 ",
         148,
         "Australia"
        ],
        [
         "Jan Morforth",
         "70% Dark Bites",
         "04-Mar-22",
         "$5,222 ",
         384,
         "Australia"
        ],
        [
         "Kaine Padly",
         "70% Dark Bites",
         "08-Feb-22",
         "$6,706 ",
         223,
         "Australia"
        ],
        [
         "Kaine Padly",
         "Fruit & Nut Bars",
         "20-Jun-22",
         "$7,434 ",
         85,
         "Australia"
        ],
        [
         "Madelene Upcott",
         "Mint Chip Choco",
         "02-May-22",
         "$2,751 ",
         153,
         "Australia"
        ],
        [
         "Rafaelita Blaksland",
         "Baker's Choco Chips",
         "22-Aug-22",
         "$2,786 ",
         51,
         "Australia"
        ],
        [
         "Karlen McCaffrey",
         "After Nines",
         "11-Aug-22",
         "$2,303 ",
         67,
         "Australia"
        ],
        [
         "Gunar Cockshoot",
         "50% Dark Bites",
         "02-Mar-22",
         "$12,271 ",
         116,
         "Australia"
        ],
        [
         "Marney O'Breen",
         "Choco Coated Almonds",
         "27-Jul-22",
         "$11,298 ",
         41,
         "Australia"
        ],
        [
         "Camilla Castle",
         "Raspberry Choco",
         "23-Aug-22",
         "$6,342 ",
         178,
         "Australia"
        ],
        [
         "Kelci Walkden",
         "99% Dark & Pure",
         "30-Jun-22",
         "$3,185 ",
         34,
         "Australia"
        ],
        [
         "Dotty Strutley",
         "Spicy Special Slims",
         "17-Jan-22",
         "$8,225 ",
         91,
         "Australia"
        ],
        [
         "Kaine Padly",
         "Almond Choco",
         "22-Feb-22",
         "$4,102 ",
         392,
         "Australia"
        ],
        [
         "Kelci Walkden",
         "Orange Choco",
         "29-Apr-22",
         "$11,116 ",
         432,
         "Australia"
        ],
        [
         "Marney O'Breen",
         "Manuka Honey Choco",
         "05-Apr-22",
         "$13,076 ",
         236,
         "Australia"
        ],
        [
         "Kelci Walkden",
         "White Choc",
         "24-Aug-22",
         "$8,715 ",
         168,
         "Australia"
        ],
        [
         "Kaine Padly",
         "Milk Bars",
         "09-Jun-22",
         "$4,046 ",
         89,
         "Australia"
        ],
        [
         "Rafaelita Blaksland",
         "Manuka Honey Choco",
         "03-Aug-22",
         "$4,396 ",
         131,
         "Australia"
        ],
        [
         "Mallorie Waber",
         "Spicy Special Slims",
         "29-Jun-22",
         "$5,439 ",
         287,
         "Australia"
        ],
        [
         "Beverie Moffet",
         "Fruit & Nut Bars",
         "22-Apr-22",
         "$1,435 ",
         258,
         "Australia"
        ],
        [
         "Kelci Walkden",
         "Raspberry Choco",
         "07-Jun-22",
         "$679 ",
         56,
         "Australia"
        ],
        [
         "Jehu Rudeforth",
         "99% Dark & Pure",
         "25-Feb-22",
         "$10,486 ",
         198,
         "Australia"
        ],
        [
         "Jan Morforth",
         "Mint Chip Choco",
         "22-Feb-22",
         "$17,626 ",
         103,
         "Australia"
        ],
        [
         "Ches Bonnell",
         "Caramel Stuffed Bars",
         "17-Jan-22",
         "$8,757 ",
         162,
         "Australia"
        ],
        [
         "Dennison Crosswaite",
         "Milk Bars",
         "09-Jun-22",
         "$10,038 ",
         286,
         "Australia"
        ],
        [
         "Roddy Speechley",
         "Drinking Coco",
         "12-May-22",
         "$12,565 ",
         102,
         "Australia"
        ],
        [
         "Curtice Advani",
         "50% Dark Bites",
         "29-Jun-22",
         "$504 ",
         232,
         "Australia"
        ],
        [
         "Wilone O'Kielt",
         "Baker's Choco Chips",
         "25-Jan-22",
         "$2,961 ",
         154,
         "Australia"
        ],
        [
         "Brien Boise",
         "Milk Bars",
         "27-Jul-22",
         "$1,981 ",
         52,
         "Australia"
        ],
        [
         "Husein Augar",
         "Fruit & Nut Bars",
         "28-Jan-22",
         "$7,959 ",
         53,
         "Australia"
        ],
        [
         "Madelene Upcott",
         "Organic Choco Syrup",
         "05-Jul-22",
         "$10,794 ",
         50,
         "Australia"
        ],
        [
         "Oby Sorrel",
         "85% Dark Bars",
         "30-Jun-22",
         "$6,944 ",
         27,
         "Australia"
        ],
        [
         "Husein Augar",
         "White Choc",
         "11-May-22",
         "$3,171 ",
         220,
         "Australia"
        ],
        [
         "Van Tuxwell",
         "99% Dark & Pure",
         "17-Jan-22",
         "$112 ",
         128,
         "Australia"
        ],
        [
         "Brien Boise",
         "Spicy Special Slims",
         "09-May-22",
         "$6,223 ",
         256,
         "Australia"
        ],
        [
         "Rafaelita Blaksland",
         "Smooth Sliky Salty",
         "30-May-22",
         "$3,969 ",
         243,
         "Australia"
        ],
        [
         "Marney O'Breen",
         "Baker's Choco Chips",
         "13-Jan-22",
         "$5,810 ",
         101,
         "Australia"
        ],
        [
         "Kaine Padly",
         "Mint Chip Choco",
         "17-May-22",
         "$4,403 ",
         159,
         "Australia"
        ],
        [
         "Curtice Advani",
         "Eclairs",
         "25-Mar-22",
         "$5,796 ",
         55,
         "Australia"
        ],
        [
         "Madelene Upcott",
         "Orange Choco",
         "15-Apr-22",
         "$6,713 ",
         398,
         "Australia"
        ],
        [
         "Wilone O'Kielt",
         "50% Dark Bites",
         "03-Aug-22",
         "$10,031 ",
         114,
         "Australia"
        ],
        [
         "Karlen McCaffrey",
         "50% Dark Bites",
         "17-Jan-22",
         "$6,678 ",
         708,
         "Australia"
        ],
        [
         "Barr Faughny",
         "Caramel Stuffed Bars",
         "29-Jul-22",
         "$2,933 ",
         55,
         "Australia"
        ],
        [
         "Gigi Bohling",
         "Raspberry Choco",
         "30-Mar-22",
         "$6,524 ",
         303,
         "Australia"
        ],
        [
         "Mallorie Waber",
         "Choco Coated Almonds",
         "18-Mar-22",
         "$15,750 ",
         92,
         "Australia"
        ],
        [
         "Gigi Bohling",
         "Almond Choco",
         "17-Aug-22",
         "$910 ",
         117,
         "Australia"
        ],
        [
         "Jehu Rudeforth",
         "Milk Bars",
         "18-Mar-22",
         "$8,659 ",
         29,
         "Australia"
        ],
        [
         "Husein Augar",
         "99% Dark & Pure",
         "26-Aug-22",
         "$3,087 ",
         128,
         "Australia"
        ],
        [
         "Dotty Strutley",
         "Baker's Choco Chips",
         "07-Jun-22",
         "$3,605 ",
         68,
         "Australia"
        ],
        [
         "Barr Faughny",
         "85% Dark Bars",
         "10-Feb-22",
         "$8,498 ",
         44,
         "Australia"
        ],
        [
         "Beverie Moffet",
         "50% Dark Bites",
         "16-May-22",
         "$700 ",
         457,
         "Australia"
        ],
        [
         "Van Tuxwell",
         "50% Dark Bites",
         "13-Jul-22",
         "$644 ",
         137,
         "Australia"
        ],
        [
         "Kelci Walkden",
         "Milk Bars",
         "24-Feb-22",
         "$7,910 ",
         125,
         "Australia"
        ],
        [
         "Dotty Strutley",
         "Almond Choco",
         "13-May-22",
         "$1,456 ",
         91,
         "Australia"
        ],
        [
         "Andria Kimpton",
         "Manuka Honey Choco",
         "30-Mar-22",
         "$9,744 ",
         377,
         "Australia"
        ],
        [
         "Curtice Advani",
         "After Nines",
         "11-Aug-22",
         "$63 ",
         105,
         "Australia"
        ],
        [
         "Jan Morforth",
         "Drinking Coco",
         "18-Feb-22",
         "$2,821 ",
         24,
         "Australia"
        ],
        [
         "Rafaelita Blaksland",
         "Raspberry Choco",
         "19-Jan-22",
         "$6,916 ",
         259,
         "Australia"
        ],
        [
         "Kaine Padly",
         "50% Dark Bites",
         "02-Aug-22",
         "$8,995 ",
         78,
         "Australia"
        ],
        [
         "Gigi Bohling",
         "Eclairs",
         "12-Apr-22",
         "$7,252 ",
         136,
         "Australia"
        ],
        [
         "Andria Kimpton",
         "Baker's Choco Chips",
         "09-Aug-22",
         "$329 ",
         109,
         "Australia"
        ],
        [
         "Andria Kimpton",
         "Almond Choco",
         "25-Apr-22",
         "$3,192 ",
         175,
         "Australia"
        ],
        [
         "Madelene Upcott",
         "99% Dark & Pure",
         "01-Aug-22",
         "$4,326 ",
         154,
         "Australia"
        ],
        [
         "Mallorie Waber",
         "Eclairs",
         "22-Aug-22",
         "$9,527 ",
         222,
         "Australia"
        ],
        [
         "Kelci Walkden",
         "Almond Choco",
         "30-May-22",
         "$4,879 ",
         350,
         "Australia"
        ],
        [
         "Gigi Bohling",
         "70% Dark Bites",
         "18-Aug-22",
         "$1,372 ",
         105,
         "Australia"
        ],
        [
         "Jehu Rudeforth",
         "Spicy Special Slims",
         "13-Jan-22",
         "$5,012 ",
         384,
         "Australia"
        ],
        [
         "Barr Faughny",
         "Organic Choco Syrup",
         "07-Jan-22",
         "$2,303 ",
         33,
         "Australia"
        ],
        [
         "Van Tuxwell",
         "Baker's Choco Chips",
         "11-May-22",
         "$13,258 ",
         32,
         "Australia"
        ],
        [
         "Oby Sorrel",
         "50% Dark Bites",
         "06-May-22",
         "$721 ",
         151,
         "Australia"
        ],
        [
         "Curtice Advani",
         "Caramel Stuffed Bars",
         "14-Feb-22",
         "$9,114 ",
         140,
         "Australia"
        ],
        [
         "Dennison Crosswaite",
         "Drinking Coco",
         "13-Jul-22",
         "$7,091 ",
         194,
         "Australia"
        ],
        [
         "Barr Faughny",
         "Raspberry Choco",
         "27-May-22",
         "$9,268 ",
         100,
         "Australia"
        ],
        [
         "Dotty Strutley",
         "Choco Coated Almonds",
         "13-Apr-22",
         "$1,645 ",
         284,
         "Australia"
        ],
        [
         "Van Tuxwell",
         "70% Dark Bites",
         "10-Jan-22",
         "$7,063 ",
         104,
         "Australia"
        ],
        [
         "Roddy Speechley",
         "85% Dark Bars",
         "08-Jul-22",
         "$4,200 ",
         80,
         "Australia"
        ],
        [
         "Kaine Padly",
         "After Nines",
         "08-Apr-22",
         "$6,832 ",
         306,
         "Australia"
        ],
        [
         "Madelene Upcott",
         "Raspberry Choco",
         "13-Jul-22",
         "$6,321 ",
         88,
         "Australia"
        ],
        [
         "Oby Sorrel",
         "Manuka Honey Choco",
         "26-Jan-22",
         "$3,906 ",
         76,
         "Australia"
        ],
        [
         "Gigi Bohling",
         "Smooth Sliky Salty",
         "25-Jan-22",
         "$5,768 ",
         119,
         "Australia"
        ],
        [
         "Karlen McCaffrey",
         "Raspberry Choco",
         "23-Aug-22",
         "$994 ",
         57,
         "Australia"
        ],
        [
         "Gigi Bohling",
         "Orange Choco",
         "09-Mar-22",
         "$574 ",
         156,
         "Australia"
        ],
        [
         "Husein Augar",
         "Organic Choco Syrup",
         "08-Feb-22",
         "$938 ",
         158,
         "Australia"
        ],
        [
         "Brien Boise",
         "White Choc",
         "25-Aug-22",
         "$4,879 ",
         22,
         "Australia"
        ],
        [
         "Ches Bonnell",
         "Peanut Butter Cubes",
         "14-Mar-22",
         "$10,199 ",
         68,
         "Australia"
        ],
        [
         "Oby Sorrel",
         "Spicy Special Slims",
         "26-Apr-22",
         "$11,389 ",
         26,
         "Australia"
        ],
        [
         "Karlen McCaffrey",
         "99% Dark & Pure",
         "26-Jan-22",
         "$10,822 ",
         168,
         "Australia"
        ],
        [
         "Mallorie Waber",
         "Smooth Sliky Salty",
         "11-Feb-22",
         "$4,158 ",
         109,
         "Australia"
        ],
        [
         "Brien Boise",
         "Organic Choco Syrup",
         "15-Jul-22",
         "$4,263 ",
         264,
         "Australia"
        ],
        [
         "Dennison Crosswaite",
         "Baker's Choco Chips",
         "11-Jan-22",
         "$13,846 ",
         421,
         "Australia"
        ],
        [
         "Wilone O'Kielt",
         "Smooth Sliky Salty",
         "04-Jan-22",
         "$2,226 ",
         46,
         "Australia"
        ],
        [
         "Jehu Rudeforth",
         "After Nines",
         "14-Feb-22",
         "$5,250 ",
         47,
         "Australia"
        ],
        [
         "Mallorie Waber",
         "Raspberry Choco",
         "25-Apr-22",
         "$8,400 ",
         27,
         "Australia"
        ],
        [
         "Kelci Walkden",
         "Drinking Coco",
         "04-May-22",
         "$1,288 ",
         60,
         "Australia"
        ],
        [
         "Roddy Speechley",
         "Organic Choco Syrup",
         "04-Jul-22",
         "$3,647 ",
         76,
         "Australia"
        ],
        [
         "Gunar Cockshoot",
         "99% Dark & Pure",
         "18-Aug-22",
         "$7,952 ",
         235,
         "Australia"
        ],
        [
         "Ches Bonnell",
         "Choco Coated Almonds",
         "08-Apr-22",
         "$1,470 ",
         167,
         "Australia"
        ],
        [
         "Van Tuxwell",
         "Mint Chip Choco",
         "13-Jan-22",
         "$2,674 ",
         295,
         "Australia"
        ],
        [
         "Rafaelita Blaksland",
         "White Choc",
         "21-Mar-22",
         "$6,818 ",
         102,
         "Australia"
        ],
        [
         "Madelene Upcott",
         "70% Dark Bites",
         "15-Apr-22",
         "$3,710 ",
         260,
         "Australia"
        ],
        [
         "Dotty Strutley",
         "White Choc",
         "05-Jul-22",
         "$6,055 ",
         93,
         "Australia"
        ],
        [
         "Brien Boise",
         "Peanut Butter Cubes",
         "19-Aug-22",
         "$301 ",
         205,
         "Australia"
        ],
        [
         "Karlen McCaffrey",
         "Spicy Special Slims",
         "17-May-22",
         "$4,410 ",
         323,
         "Australia"
        ],
        [
         "Jehu Rudeforth",
         "Mint Chip Choco",
         "04-Jan-22",
         "$5,320 ",
         180,
         "UK"
        ],
        [
         "Jehu Rudeforth",
         "Peanut Butter Cubes",
         "24-Feb-22",
         "$13,685 ",
         184,
         "UK"
        ],
        [
         "Oby Sorrel",
         "99% Dark & Pure",
         "25-Jan-22",
         "$13,685 ",
         176,
         "UK"
        ],
        [
         "Rafaelita Blaksland",
         "Smooth Sliky Salty",
         "13-Jan-22",
         "$4,704 ",
         62,
         "UK"
        ],
        [
         "Curtice Advani",
         "85% Dark Bars",
         "08-Jun-22",
         "$1,085 ",
         172,
         "UK"
        ],
        [
         "Husein Augar",
         "Drinking Coco",
         "14-Mar-22",
         "$3,003 ",
         113,
         "UK"
        ],
        [
         "Rafaelita Blaksland",
         "99% Dark & Pure",
         "29-Jun-22",
         "$12,446 ",
         150,
         "UK"
        ],
        [
         "Karlen McCaffrey",
         "Almond Choco",
         "30-Jun-22",
         "$6,839 ",
         133,
         "UK"
        ],
        [
         "Andria Kimpton",
         "50% Dark Bites",
         "24-Aug-22",
         "$2,653 ",
         314,
         "UK"
        ],
        [
         "Gigi Bohling",
         "Almond Choco",
         "10-Jan-22",
         "$5,642 ",
         9,
         "UK"
        ],
        [
         "Van Tuxwell",
         "Organic Choco Syrup",
         "26-Aug-22",
         "$2,002 ",
         214,
         "UK"
        ],
        [
         "Van Tuxwell",
         "99% Dark & Pure",
         "31-Jan-22",
         "$4,725 ",
         137,
         "UK"
        ],
        [
         "Dennison Crosswaite",
         "Eclairs",
         "24-Mar-22",
         "$6,188 ",
         270,
         "UK"
        ],
        [
         "Kelci Walkden",
         "Fruit & Nut Bars",
         "29-Jun-22",
         "$13,006 ",
         482,
         "UK"
        ],
        [
         "Husein Augar",
         "Spicy Special Slims",
         "25-Aug-22",
         "$4,697 ",
         42,
         "UK"
        ],
        [
         "Kelci Walkden",
         "Smooth Sliky Salty",
         "19-Jan-22",
         "$5,929 ",
         175,
         "UK"
        ],
        [
         "Kelci Walkden",
         "Eclairs",
         "25-Jan-22",
         "$4,606 ",
         57,
         "UK"
        ],
        [
         "Dotty Strutley",
         "Almond Choco",
         "28-Jul-22",
         "$16,114 ",
         96,
         "UK"
        ],
        [
         "Van Tuxwell",
         "Milk Bars",
         "25-Jul-22",
         "$4,263 ",
         90,
         "UK"
        ],
        [
         "Ches Bonnell",
         "Smooth Sliky Salty",
         "11-Jul-22",
         "$5,663 ",
         110,
         "UK"
        ],
        [
         "Kaine Padly",
         "Organic Choco Syrup",
         "31-Mar-22",
         "$2,282 ",
         178,
         "UK"
        ],
        [
         "Karlen McCaffrey",
         "Eclairs",
         "25-Jan-22",
         "$7,798 ",
         196,
         "UK"
        ],
        [
         "Gigi Bohling",
         "After Nines",
         "29-Mar-22",
         "$8,029 ",
         175,
         "UK"
        ],
        [
         "Marney O'Breen",
         "Caramel Stuffed Bars",
         "19-Jul-22",
         "$3,549 ",
         112,
         "UK"
        ],
        [
         "Brien Boise",
         "White Choc",
         "12-Apr-22",
         "$5,299 ",
         167,
         "UK"
        ],
        [
         "Karlen McCaffrey",
         "Baker's Choco Chips",
         "07-Feb-22",
         "$4,753 ",
         389,
         "UK"
        ],
        [
         "Oby Sorrel",
         "Choco Coated Almonds",
         "17-Mar-22",
         "$9,324 ",
         41,
         "UK"
        ],
        [
         "Camilla Castle",
         "White Choc",
         "03-Jan-22",
         "$9,982 ",
         187,
         "UK"
        ],
        [
         "Dotty Strutley",
         "99% Dark & Pure",
         "03-Jan-22",
         "$9,310 ",
         282,
         "UK"
        ],
        [
         "Barr Faughny",
         "50% Dark Bites",
         "28-Jan-22",
         "$581 ",
         65,
         "UK"
        ],
        [
         "Husein Augar",
         "Choco Coated Almonds",
         "02-Mar-22",
         "$4,333 ",
         43,
         "UK"
        ],
        [
         "Dennison Crosswaite",
         "White Choc",
         "03-Aug-22",
         "$7,238 ",
         265,
         "UK"
        ],
        [
         "Beverie Moffet",
         "White Choc",
         "30-Jun-22",
         "$6,475 ",
         76,
         "UK"
        ],
        [
         "Ches Bonnell",
         "Orange Choco",
         "27-Apr-22",
         "$14,238 ",
         54,
         "UK"
        ],
        [
         "Marney O'Breen",
         "Smooth Sliky Salty",
         "13-May-22",
         "$18,991 ",
         88,
         "UK"
        ],
        [
         "Van Tuxwell",
         "Raspberry Choco",
         "16-Mar-22",
         "$6,538 ",
         79,
         "UK"
        ],
        [
         "Barr Faughny",
         "Raspberry Choco",
         "22-Aug-22",
         "$5,481 ",
         69,
         "UK"
        ],
        [
         "Marney O'Breen",
         "Baker's Choco Chips",
         "10-Jun-22",
         "$252 ",
         154,
         "UK"
        ],
        [
         "Husein Augar",
         "Caramel Stuffed Bars",
         "15-Apr-22",
         "$14,938 ",
         433,
         "UK"
        ],
        [
         "Jehu Rudeforth",
         "70% Dark Bites",
         "14-Apr-22",
         "$5,565 ",
         258,
         "UK"
        ],
        [
         "Wilone O'Kielt",
         "Drinking Coco",
         "18-May-22",
         "$3,388 ",
         55,
         "UK"
        ],
        [
         "Dotty Strutley",
         "70% Dark Bites",
         "20-Jun-22",
         "$1,267 ",
         216,
         "UK"
        ],
        [
         "Beverie Moffet",
         "Smooth Sliky Salty",
         "04-May-22",
         "$4,403 ",
         76,
         "UK"
        ],
        [
         "Jehu Rudeforth",
         "Choco Coated Almonds",
         "22-Apr-22",
         "$4,270 ",
         185,
         "UK"
        ],
        [
         "Gunar Cockshoot",
         "Manuka Honey Choco",
         "27-Jun-22",
         "$6,762 ",
         46,
         "UK"
        ],
        [
         "Madelene Upcott",
         "Caramel Stuffed Bars",
         "15-Apr-22",
         "$161 ",
         145,
         "UK"
        ],
        [
         "Barr Faughny",
         "White Choc",
         "05-Jul-22",
         "$1,652 ",
         72,
         "UK"
        ],
        [
         "Kaine Padly",
         "Peanut Butter Cubes",
         "11-May-22",
         "$6,272 ",
         86,
         "UK"
        ],
        [
         "Dennison Crosswaite",
         "Peanut Butter Cubes",
         "07-Feb-22",
         "$8,925 ",
         158,
         "UK"
        ],
        [
         "Ches Bonnell",
         "Mint Chip Choco",
         "08-Apr-22",
         "$2,688 ",
         209,
         "UK"
        ],
        [
         "Kelci Walkden",
         "Orange Choco",
         "01-Aug-22",
         "$3,640 ",
         3,
         "UK"
        ],
        [
         "Curtice Advani",
         "White Choc",
         "01-Feb-22",
         "$1,540 ",
         73,
         "UK"
        ],
        [
         "Gigi Bohling",
         "Fruit & Nut Bars",
         "06-Apr-22",
         "$1,232 ",
         86,
         "UK"
        ],
        [
         "Curtice Advani",
         "Fruit & Nut Bars",
         "24-Jun-22",
         "$10,927 ",
         136,
         "UK"
        ],
        [
         "Gigi Bohling",
         "50% Dark Bites",
         "18-Jul-22",
         "$8,197 ",
         69,
         "UK"
        ],
        [
         "Ches Bonnell",
         "Manuka Honey Choco",
         "30-May-22",
         "$4,221 ",
         395,
         "UK"
        ],
        [
         "Gigi Bohling",
         "70% Dark Bites",
         "21-Jun-22",
         "$840 ",
         81,
         "UK"
        ],
        [
         "Kaine Padly",
         "Smooth Sliky Salty",
         "08-Jun-22",
         "$9,016 ",
         554,
         "UK"
        ],
        [
         "Mallorie Waber",
         "50% Dark Bites",
         "21-Feb-22",
         "$5,502 ",
         99,
         "UK"
        ],
        [
         "Van Tuxwell",
         "Drinking Coco",
         "04-Apr-22",
         "$5,803 ",
         136,
         "UK"
        ],
        [
         "Husein Augar",
         "White Choc",
         "13-Jan-22",
         "$10,815 ",
         145,
         "UK"
        ],
        [
         "Oby Sorrel",
         "After Nines",
         "18-Jul-22",
         "$2,345 ",
         104,
         "UK"
        ],
        [
         "Gunar Cockshoot",
         "Eclairs",
         "13-Apr-22",
         "$3,619 ",
         164,
         "UK"
        ],
        [
         "Mallorie Waber",
         "Milk Bars",
         "10-Jan-22",
         "$3,563 ",
         284,
         "UK"
        ],
        [
         "Kaine Padly",
         "Manuka Honey Choco",
         "14-Jan-22",
         "$7,133 ",
         118,
         "UK"
        ],
        [
         "Van Tuxwell",
         "85% Dark Bars",
         "11-Jul-22",
         "$3,577 ",
         134,
         "UK"
        ],
        [
         "Marney O'Breen",
         "Orange Choco",
         "06-Jun-22",
         "$11,319 ",
         12,
         "UK"
        ],
        [
         "Mallorie Waber",
         "Mint Chip Choco",
         "29-Jun-22",
         "$6,384 ",
         2,
         "UK"
        ],
        [
         "Madelene Upcott",
         "Smooth Sliky Salty",
         "04-Mar-22",
         "$14,539 ",
         84,
         "UK"
        ],
        [
         "Andria Kimpton",
         "Drinking Coco",
         "23-May-22",
         "$1,554 ",
         65,
         "UK"
        ],
        [
         "Beverie Moffet",
         "Almond Choco",
         "16-May-22",
         "$2,506 ",
         100,
         "UK"
        ],
        [
         "Ches Bonnell",
         "White Choc",
         "03-Jan-22",
         "$3,269 ",
         226,
         "UK"
        ],
        [
         "Gigi Bohling",
         "Baker's Choco Chips",
         "16-May-22",
         "$9,023 ",
         409,
         "UK"
        ],
        [
         "Kaine Padly",
         "Orange Choco",
         "29-Jun-22",
         "$1,960 ",
         191,
         "UK"
        ],
        [
         "Gigi Bohling",
         "Milk Bars",
         "17-May-22",
         "$1,365 ",
         232,
         "UK"
        ],
        [
         "Madelene Upcott",
         "Organic Choco Syrup",
         "21-Jul-22",
         "$6,965 ",
         163,
         "UK"
        ],
        [
         "Curtice Advani",
         "50% Dark Bites",
         "08-Mar-22",
         "$3,374 ",
         142,
         "UK"
        ],
        [
         "Gigi Bohling",
         "Drinking Coco",
         "30-Jun-22",
         "$5,782 ",
         42,
         "UK"
        ],
        [
         "Barr Faughny",
         "Mint Chip Choco",
         "07-Jul-22",
         "$3,724 ",
         316,
         "UK"
        ],
        [
         "Ches Bonnell",
         "Peanut Butter Cubes",
         "15-Apr-22",
         "$2,156 ",
         260,
         "UK"
        ],
        [
         "Roddy Speechley",
         "70% Dark Bites",
         "24-Mar-22",
         "$1,421 ",
         284,
         "UK"
        ],
        [
         "Madelene Upcott",
         "99% Dark & Pure",
         "26-Jan-22",
         "$10,479 ",
         45,
         "UK"
        ],
        [
         "Marney O'Breen",
         "99% Dark & Pure",
         "13-Jan-22",
         "$8,113 ",
         194,
         "UK"
        ],
        [
         "Dennison Crosswaite",
         "Milk Bars",
         "07-Mar-22",
         "$10,808 ",
         407,
         "UK"
        ],
        [
         "Wilone O'Kielt",
         "Organic Choco Syrup",
         "12-Jul-22",
         "$4,858 ",
         52,
         "UK"
        ],
        [
         "Marney O'Breen",
         "Manuka Honey Choco",
         "10-Jun-22",
         "$10,983 ",
         179,
         "UK"
        ],
        [
         "Madelene Upcott",
         "Choco Coated Almonds",
         "24-May-22",
         "$10,164 ",
         134,
         "UK"
        ],
        [
         "Beverie Moffet",
         "99% Dark & Pure",
         "10-Aug-22",
         "$3,486 ",
         121,
         "UK"
        ],
        [
         "Jehu Rudeforth",
         "Baker's Choco Chips",
         "16-May-22",
         "$2,485 ",
         97,
         "UK"
        ],
        [
         "Gunar Cockshoot",
         "99% Dark & Pure",
         "07-Mar-22",
         "$7 ",
         84,
         "UK"
        ],
        [
         "Beverie Moffet",
         "Choco Coated Almonds",
         "04-Mar-22",
         "$3,010 ",
         69,
         "UK"
        ],
        [
         "Jehu Rudeforth",
         "Milk Bars",
         "03-May-22",
         "$12,068 ",
         227,
         "UK"
        ],
        [
         "Andria Kimpton",
         "Milk Bars",
         "11-Feb-22",
         "$14,336 ",
         293,
         "UK"
        ],
        [
         "Brien Boise",
         "Almond Choco",
         "25-May-22",
         "$105 ",
         125,
         "UK"
        ],
        [
         "Rafaelita Blaksland",
         "Eclairs",
         "27-Apr-22",
         "$1,379 ",
         70,
         "UK"
        ],
        [
         "Ches Bonnell",
         "Caramel Stuffed Bars",
         "02-Jun-22",
         "$2,926 ",
         300,
         "UK"
        ],
        [
         "Madelene Upcott",
         "Fruit & Nut Bars",
         "05-Jan-22",
         "$8,512 ",
         189,
         "UK"
        ],
        [
         "Beverie Moffet",
         "Spicy Special Slims",
         "17-Feb-22",
         "$8,680 ",
         252,
         "UK"
        ],
        [
         "Gunar Cockshoot",
         "Raspberry Choco",
         "11-Aug-22",
         "$6,811 ",
         344,
         "UK"
        ],
        [
         "Dennison Crosswaite",
         "Baker's Choco Chips",
         "17-Jan-22",
         "$2,275 ",
         275,
         "UK"
        ],
        [
         "Jehu Rudeforth",
         "Smooth Sliky Salty",
         "24-Aug-22",
         "$1,463 ",
         113,
         "UK"
        ],
        [
         "Andria Kimpton",
         "Caramel Stuffed Bars",
         "07-Jun-22",
         "$7,924 ",
         275,
         "UK"
        ],
        [
         "Jan Morforth",
         "White Choc",
         "22-Jun-22",
         "$8,799 ",
         47,
         "UK"
        ],
        [
         "Kelci Walkden",
         "Choco Coated Almonds",
         "24-May-22",
         "$9,506 ",
         212,
         "UK"
        ],
        [
         "Gunar Cockshoot",
         "50% Dark Bites",
         "13-Jan-22",
         "$2,107 ",
         121,
         "UK"
        ],
        [
         "Jehu Rudeforth",
         "White Choc",
         "29-Jun-22",
         "$1,862 ",
         284,
         "UK"
        ],
        [
         "Jan Morforth",
         "Orange Choco",
         "15-Jun-22",
         "$3,780 ",
         201,
         "UK"
        ],
        [
         "Andria Kimpton",
         "White Choc",
         "12-May-22",
         "$9,037 ",
         101,
         "UK"
        ],
        [
         "Andria Kimpton",
         "99% Dark & Pure",
         "25-Jul-22",
         "$1,155 ",
         66,
         "UK"
        ],
        [
         "Marney O'Breen",
         "50% Dark Bites",
         "14-Jun-22",
         "$2,989 ",
         124,
         "UK"
        ],
        [
         "Madelene Upcott",
         "Raspberry Choco",
         "26-Aug-22",
         "$7,357 ",
         341,
         "UK"
        ],
        [
         "Brien Boise",
         "Peanut Butter Cubes",
         "10-Jan-22",
         "$15,330 ",
         30,
         "UK"
        ],
        [
         "Roddy Speechley",
         "Baker's Choco Chips",
         "04-Apr-22",
         "$14,028 ",
         351,
         "UK"
        ],
        [
         "Jan Morforth",
         "Organic Choco Syrup",
         "12-Apr-22",
         "$1,197 ",
         356,
         "UK"
        ],
        [
         "Ches Bonnell",
         "Choco Coated Almonds",
         "07-Jun-22",
         "$1,687 ",
         236,
         "UK"
        ],
        [
         "Brien Boise",
         "Manuka Honey Choco",
         "28-Jun-22",
         "$70 ",
         103,
         "UK"
        ],
        [
         "Van Tuxwell",
         "Baker's Choco Chips",
         "24-Mar-22",
         "$2,443 ",
         20,
         "UK"
        ],
        [
         "Beverie Moffet",
         "Eclairs",
         "22-Apr-22",
         "$8,463 ",
         155,
         "UK"
        ],
        [
         "Husein Augar",
         "Eclairs",
         "30-Aug-22",
         "$1,750 ",
         252,
         "UK"
        ],
        [
         "Oby Sorrel",
         "Smooth Sliky Salty",
         "31-May-22",
         "$9,625 ",
         313,
         "UK"
        ],
        [
         "Oby Sorrel",
         "Raspberry Choco",
         "08-Apr-22",
         "$4,599 ",
         323,
         "UK"
        ],
        [
         "Husein Augar",
         "Almond Choco",
         "17-May-22",
         "$8,309 ",
         166,
         "UK"
        ],
        [
         "Roddy Speechley",
         "Peanut Butter Cubes",
         "17-Aug-22",
         "$5,691 ",
         171,
         "UK"
        ],
        [
         "Oby Sorrel",
         "Organic Choco Syrup",
         "30-Jun-22",
         "$7,980 ",
         157,
         "UK"
        ],
        [
         "Mallorie Waber",
         "Drinking Coco",
         "27-May-22",
         "$3,423 ",
         100,
         "UK"
        ],
        [
         "Oby Sorrel",
         "Milk Bars",
         "11-Jul-22",
         "$6,468 ",
         223,
         "UK"
        ],
        [
         "Kelci Walkden",
         "85% Dark Bars",
         "23-Jun-22",
         "$3,997 ",
         228,
         "UK"
        ],
        [
         "Van Tuxwell",
         "Eclairs",
         "29-Jun-22",
         "$5,474 ",
         109,
         "UK"
        ],
        [
         "Jehu Rudeforth",
         "After Nines",
         "27-Jun-22",
         "$1,946 ",
         164,
         "UK"
        ],
        [
         "Karlen McCaffrey",
         "50% Dark Bites",
         "06-Apr-22",
         "$3,647 ",
         310,
         "UK"
        ],
        [
         "Camilla Castle",
         "Mint Chip Choco",
         "26-May-22",
         "$4,977 ",
         317,
         "UK"
        ],
        [
         "Jan Morforth",
         "Caramel Stuffed Bars",
         "02-Aug-22",
         "$3,094 ",
         468,
         "UK"
        ],
        [
         "Jan Morforth",
         "50% Dark Bites",
         "12-Jan-22",
         "$5,250 ",
         293,
         "UK"
        ],
        [
         "Husein Augar",
         "Baker's Choco Chips",
         "29-Apr-22",
         "$3,038 ",
         135,
         "UK"
        ],
        [
         "Madelene Upcott",
         "70% Dark Bites",
         "16-Feb-22",
         "$5,397 ",
         239,
         "UK"
        ],
        [
         "Gigi Bohling",
         "85% Dark Bars",
         "23-Jun-22",
         "$12,362 ",
         94,
         "UK"
        ],
        [
         "Roddy Speechley",
         "Raspberry Choco",
         "28-Jan-22",
         "$12,635 ",
         194,
         "UK"
        ],
        [
         "Dotty Strutley",
         "Mint Chip Choco",
         "14-Jul-22",
         "$2,443 ",
         216,
         "UK"
        ],
        [
         "Oby Sorrel",
         "Orange Choco",
         "15-Apr-22",
         "$7,315 ",
         237,
         "UK"
        ],
        [
         "Kaine Padly",
         "Choco Coated Almonds",
         "03-Aug-22",
         "$8,022 ",
         123,
         "UK"
        ],
        [
         "Kaine Padly",
         "Caramel Stuffed Bars",
         "20-May-22",
         "$10,192 ",
         67,
         "UK"
        ],
        [
         "Jehu Rudeforth",
         "Drinking Coco",
         "03-Feb-22",
         "$7,140 ",
         438,
         "UK"
        ],
        [
         "Gunar Cockshoot",
         "Choco Coated Almonds",
         "30-Jun-22",
         "$5,775 ",
         135,
         "UK"
        ],
        [
         "Gunar Cockshoot",
         "Smooth Sliky Salty",
         "22-Mar-22",
         "$749 ",
         148,
         "UK"
        ],
        [
         "Jehu Rudeforth",
         "85% Dark Bars",
         "07-Jul-22",
         "$5,502 ",
         64,
         "UK"
        ],
        [
         "Oby Sorrel",
         "70% Dark Bites",
         "16-Mar-22",
         "$6,223 ",
         181,
         "UK"
        ],
        [
         "Kelci Walkden",
         "99% Dark & Pure",
         "12-Aug-22",
         "$3,507 ",
         114,
         "UK"
        ],
        [
         "Ches Bonnell",
         "85% Dark Bars",
         "28-Jun-22",
         "$14,924 ",
         12,
         "UK"
        ],
        [
         "Mallorie Waber",
         "Manuka Honey Choco",
         "15-Jun-22",
         "$8,379 ",
         43,
         "UK"
        ],
        [
         "Curtice Advani",
         "Drinking Coco",
         "12-Jul-22",
         "$455 ",
         174,
         "UK"
        ],
        [
         "Kaine Padly",
         "50% Dark Bites",
         "21-Feb-22",
         "$3,143 ",
         67,
         "UK"
        ],
        [
         "Oby Sorrel",
         "White Choc",
         "27-Jun-22",
         "$1,715 ",
         286,
         "UK"
        ],
        [
         "Jan Morforth",
         "Manuka Honey Choco",
         "18-Aug-22",
         "$3,388 ",
         212,
         "UK"
        ],
        [
         "Wilone O'Kielt",
         "Milk Bars",
         "26-Aug-22",
         "$301 ",
         65,
         "UK"
        ],
        [
         "Rafaelita Blaksland",
         "Spicy Special Slims",
         "03-Aug-22",
         "$9,345 ",
         133,
         "UK"
        ],
        [
         "Curtice Advani",
         "Peanut Butter Cubes",
         "01-Mar-22",
         "$15,008 ",
         165,
         "UK"
        ],
        [
         "Brien Boise",
         "Drinking Coco",
         "27-Jan-22",
         "$5,754 ",
         133,
         "UK"
        ],
        [
         "Brien Boise",
         "Spicy Special Slims",
         "25-May-22",
         "$2,352 ",
         58,
         "UK"
        ],
        [
         "Kelci Walkden",
         "Drinking Coco",
         "20-Apr-22",
         "$1,792 ",
         23,
         "UK"
        ],
        [
         "Dennison Crosswaite",
         "99% Dark & Pure",
         "30-May-22",
         "$12,187 ",
         27,
         "UK"
        ],
        [
         "Brien Boise",
         "Caramel Stuffed Bars",
         "04-Mar-22",
         "$2,681 ",
         149,
         "UK"
        ],
        [
         "Gunar Cockshoot",
         "Spicy Special Slims",
         "16-Feb-22",
         "$12,488 ",
         200,
         "UK"
        ],
        [
         "Kaine Padly",
         "After Nines",
         "21-Jan-22",
         "$18,697 ",
         176,
         "UK"
        ],
        [
         "Kaine Padly",
         "Drinking Coco",
         "27-Jan-22",
         "$2,317 ",
         224,
         "UK"
        ],
        [
         "Rafaelita Blaksland",
         "50% Dark Bites",
         "16-Feb-22",
         "$10,150 ",
         68,
         "UK"
        ],
        [
         "Dennison Crosswaite",
         "Smooth Sliky Salty",
         "26-Apr-22",
         "$546 ",
         142,
         "UK"
        ],
        [
         "Beverie Moffet",
         "50% Dark Bites",
         "09-Feb-22",
         "$2,499 ",
         271,
         "UK"
        ],
        [
         "Van Tuxwell",
         "Almond Choco",
         "06-Jun-22",
         "$10,689 ",
         204,
         "UK"
        ],
        [
         "Dotty Strutley",
         "Caramel Stuffed Bars",
         "10-Aug-22",
         "$5,768 ",
         235,
         "UK"
        ],
        [
         "Barr Faughny",
         "Milk Bars",
         "02-Mar-22",
         "$3,864 ",
         430,
         "UK"
        ],
        [
         "Husein Augar",
         "After Nines",
         "05-Jul-22",
         "$3,507 ",
         380,
         "UK"
        ],
        [
         "Curtice Advani",
         "Manuka Honey Choco",
         "07-Feb-22",
         "$1,666 ",
         106,
         "UK"
        ],
        [
         "Jan Morforth",
         "Almond Choco",
         "06-Jul-22",
         "$9,744 ",
         157,
         "UK"
        ],
        [
         "Marney O'Breen",
         "Drinking Coco",
         "29-Mar-22",
         "$973 ",
         28,
         "UK"
        ],
        [
         "Camilla Castle",
         "Peanut Butter Cubes",
         "19-Jul-22",
         "$4,872 ",
         126,
         "UK"
        ],
        [
         "Madelene Upcott",
         "Peanut Butter Cubes",
         "12-Aug-22",
         "$7,756 ",
         85,
         "UK"
        ],
        [
         "Jan Morforth",
         "Baker's Choco Chips",
         "11-Mar-22",
         "$721 ",
         251,
         "UK"
        ],
        [
         "Jehu Rudeforth",
         "Fruit & Nut Bars",
         "13-May-22",
         "$8,589 ",
         229,
         "UK"
        ],
        [
         "Van Tuxwell",
         "85% Dark Bars",
         "01-Aug-22",
         "$7,896 ",
         94,
         "India"
        ],
        [
         "Gigi Bohling",
         "Peanut Butter Cubes",
         "07-Jul-22",
         "$4,501 ",
         91,
         "India"
        ],
        [
         "Van Tuxwell",
         "Smooth Sliky Salty",
         "06-Jun-22",
         "$5,376 ",
         38,
         "India"
        ],
        [
         "Karlen McCaffrey",
         "Fruit & Nut Bars",
         "26-Jan-22",
         "$168 ",
         321,
         "India"
        ],
        [
         "Karlen McCaffrey",
         "Manuka Honey Choco",
         "04-Jul-22",
         "$2,443 ",
         581,
         "India"
        ],
        [
         "Andria Kimpton",
         "Spicy Special Slims",
         "23-Feb-22",
         "$6,307 ",
         142,
         "India"
        ],
        [
         "Roddy Speechley",
         "Eclairs",
         "10-Jun-22",
         "$4,382 ",
         303,
         "India"
        ],
        [
         "Curtice Advani",
         "Fruit & Nut Bars",
         "07-Jul-22",
         "$5,243 ",
         176,
         "India"
        ],
        [
         "Marney O'Breen",
         "85% Dark Bars",
         "19-Jul-22",
         "$2,205 ",
         179,
         "India"
        ],
        [
         "Karlen McCaffrey",
         "Almond Choco",
         "06-Jul-22",
         "$6,090 ",
         149,
         "India"
        ],
        [
         "Oby Sorrel",
         "99% Dark & Pure",
         "27-May-22",
         "$10,255 ",
         11,
         "India"
        ],
        [
         "Camilla Castle",
         "50% Dark Bites",
         "04-Jul-22",
         "$9,275 ",
         411,
         "India"
        ],
        [
         "Oby Sorrel",
         "Organic Choco Syrup",
         "08-Jul-22",
         "$6,181 ",
         56,
         "India"
        ],
        [
         "Madelene Upcott",
         "Raspberry Choco",
         "07-Jul-22",
         "$4,221 ",
         9,
         "India"
        ],
        [
         "Kelci Walkden",
         "Eclairs",
         "19-Apr-22",
         "$5,334 ",
         80,
         "India"
        ],
        [
         "Kelci Walkden",
         "Orange Choco",
         "07-Jun-22",
         "$9,408 ",
         138,
         "India"
        ],
        [
         "Jan Morforth",
         "Spicy Special Slims",
         "12-Apr-22",
         "$1,939 ",
         520,
         "India"
        ],
        [
         "Ches Bonnell",
         "Spicy Special Slims",
         "06-Jul-22",
         "$10,906 ",
         94,
         "India"
        ],
        [
         "Kelci Walkden",
         "Caramel Stuffed Bars",
         "16-Mar-22",
         "$476 ",
         125,
         "India"
        ],
        [
         "Oby Sorrel",
         "Raspberry Choco",
         "14-Apr-22",
         "$6,832 ",
         46,
         "India"
        ],
        [
         "Jan Morforth",
         "Almond Choco",
         "11-Mar-22",
         "$4,466 ",
         22,
         "India"
        ],
        [
         "Van Tuxwell",
         "Organic Choco Syrup",
         "16-May-22",
         "$19,929 ",
         174,
         "India"
        ],
        [
         "Roddy Speechley",
         "Smooth Sliky Salty",
         "10-Aug-22",
         "$5,103 ",
         140,
         "India"
        ],
        [
         "Jan Morforth",
         "Eclairs",
         "05-Jan-22",
         "$2,541 ",
         27,
         "India"
        ],
        [
         "Kelci Walkden",
         "Almond Choco",
         "14-Mar-22",
         "$3,297 ",
         149,
         "India"
        ],
        [
         "Oby Sorrel",
         "Smooth Sliky Salty",
         "07-Feb-22",
         "$10,101 ",
         108,
         "India"
        ],
        [
         "Marney O'Breen",
         "Caramel Stuffed Bars",
         "16-Mar-22",
         "$4,361 ",
         81,
         "India"
        ],
        [
         "Van Tuxwell",
         "Baker's Choco Chips",
         "20-Jun-22",
         "$3,052 ",
         447,
         "India"
        ],
        [
         "Roddy Speechley",
         "Peanut Butter Cubes",
         "11-Feb-22",
         "$10,283 ",
         21,
         "India"
        ],
        [
         "Kelci Walkden",
         "After Nines",
         "07-Jan-22",
         "$1,687 ",
         520,
         "India"
        ],
        [
         "Marney O'Breen",
         "Peanut Butter Cubes",
         "10-Jan-22",
         "$6,489 ",
         146,
         "India"
        ],
        [
         "Gigi Bohling",
         "Raspberry Choco",
         "22-Feb-22",
         "$2,583 ",
         159,
         "India"
        ],
        [
         "Karlen McCaffrey",
         "Drinking Coco",
         "31-May-22",
         "$4,795 ",
         233,
         "India"
        ],
        [
         "Barr Faughny",
         "Baker's Choco Chips",
         "18-Aug-22",
         "$6,454 ",
         141,
         "India"
        ],
        [
         "Rafaelita Blaksland",
         "Spicy Special Slims",
         "04-Jan-22",
         "$8,064 ",
         134,
         "India"
        ],
        [
         "Beverie Moffet",
         "Drinking Coco",
         "15-Jul-22",
         "$6,055 ",
         46,
         "India"
        ],
        [
         "Jehu Rudeforth",
         "50% Dark Bites",
         "05-Jul-22",
         "$3,472 ",
         135,
         "India"
        ],
        [
         "Rafaelita Blaksland",
         "Almond Choco",
         "27-Jul-22",
         "$3,395 ",
         99,
         "India"
        ],
        [
         "Roddy Speechley",
         "Orange Choco",
         "27-Jun-22",
         "$4,053 ",
         19,
         "India"
        ],
        [
         "Brien Boise",
         "Eclairs",
         "29-Apr-22",
         "$1,351 ",
         61,
         "India"
        ],
        [
         "Camilla Castle",
         "Peanut Butter Cubes",
         "15-Jul-22",
         "$11,837 ",
         277,
         "India"
        ],
        [
         "Curtice Advani",
         "70% Dark Bites",
         "05-Jul-22",
         "$2,282 ",
         44,
         "India"
        ],
        [
         "Beverie Moffet",
         "70% Dark Bites",
         "01-Jun-22",
         "$448 ",
         146,
         "India"
        ],
        [
         "Marney O'Breen",
         "After Nines",
         "11-Jul-22",
         "$2,639 ",
         179,
         "India"
        ],
        [
         "Ches Bonnell",
         "Organic Choco Syrup",
         "08-Mar-22",
         "$16,569 ",
         99,
         "India"
        ],
        [
         "Husein Augar",
         "70% Dark Bites",
         "09-May-22",
         "$6,454 ",
         157,
         "India"
        ],
        [
         "Madelene Upcott",
         "Organic Choco Syrup",
         "26-Jan-22",
         "$4,781 ",
         38,
         "India"
        ],
        [
         "Karlen McCaffrey",
         "Orange Choco",
         "27-Jun-22",
         "$3,122 ",
         149,
         "India"
        ],
        [
         "Ches Bonnell",
         "Smooth Sliky Salty",
         "03-Aug-22",
         "$8,043 ",
         18,
         "India"
        ],
        [
         "Dennison Crosswaite",
         "Milk Bars",
         "21-Apr-22",
         "$1,526 ",
         96,
         "India"
        ],
        [
         "Jan Morforth",
         "Fruit & Nut Bars",
         "04-May-22",
         "$2,912 ",
         55,
         "India"
        ],
        [
         "Karlen McCaffrey",
         "Mint Chip Choco",
         "15-Jul-22",
         "$10,990 ",
         184,
         "India"
        ],
        [
         "Dennison Crosswaite",
         "99% Dark & Pure",
         "23-Jun-22",
         "$6,888 ",
         311,
         "India"
        ],
        [
         "Brien Boise",
         "Almond Choco",
         "13-Jan-22",
         "$2,170 ",
         218,
         "India"
        ],
        [
         "Jan Morforth",
         "85% Dark Bars",
         "25-May-22",
         "$4,760 ",
         418,
         "India"
        ],
        [
         "Marney O'Breen",
         "Fruit & Nut Bars",
         "13-Apr-22",
         "$4,753 ",
         151,
         "India"
        ],
        [
         "Marney O'Breen",
         "Eclairs",
         "13-Jan-22",
         "$3,472 ",
         96,
         "India"
        ],
        [
         "Curtice Advani",
         "Spicy Special Slims",
         "20-Jun-22",
         "$161 ",
         134,
         "India"
        ],
        [
         "Roddy Speechley",
         "After Nines",
         "22-Jun-22",
         "$2,576 ",
         112,
         "India"
        ],
        [
         "Jehu Rudeforth",
         "99% Dark & Pure",
         "25-Feb-22",
         "$1,953 ",
         242,
         "India"
        ],
        [
         "Rafaelita Blaksland",
         "Smooth Sliky Salty",
         "06-May-22",
         "$1,638 ",
         81,
         "India"
        ],
        [
         "Kaine Padly",
         "Milk Bars",
         "02-May-22",
         "$2,905 ",
         91,
         "India"
        ],
        [
         "Jan Morforth",
         "Peanut Butter Cubes",
         "04-Jan-22",
         "$8,092 ",
         178,
         "India"
        ],
        [
         "Brien Boise",
         "Caramel Stuffed Bars",
         "25-Feb-22",
         "$1,540 ",
         100,
         "India"
        ],
        [
         "Gunar Cockshoot",
         "50% Dark Bites",
         "09-Aug-22",
         "$12,992 ",
         83,
         "India"
        ],
        [
         "Barr Faughny",
         "Drinking Coco",
         "28-Jan-22",
         "$2,219 ",
         142,
         "India"
        ],
        [
         "Kaine Padly",
         "Spicy Special Slims",
         "31-Aug-22",
         "$5,614 ",
         137,
         "India"
        ],
        [
         "Beverie Moffet",
         "Choco Coated Almonds",
         "24-Feb-22",
         "$3,577 ",
         261,
         "India"
        ],
        [
         "Gigi Bohling",
         "Eclairs",
         "21-Jun-22",
         "$3,493 ",
         68,
         "India"
        ],
        [
         "Kelci Walkden",
         "Milk Bars",
         "15-Apr-22",
         "$966 ",
         107,
         "India"
        ],
        [
         "Mallorie Waber",
         "Drinking Coco",
         "07-Mar-22",
         "$3,948 ",
         142,
         "India"
        ],
        [
         "Dotty Strutley",
         "White Choc",
         "15-Aug-22",
         "$12,327 ",
         330,
         "India"
        ],
        [
         "Gigi Bohling",
         "Manuka Honey Choco",
         "12-May-22",
         "$4,935 ",
         73,
         "India"
        ],
        [
         "Van Tuxwell",
         "Spicy Special Slims",
         "11-Apr-22",
         "$6,167 ",
         4,
         "India"
        ],
        [
         "Brien Boise",
         "After Nines",
         "16-Jun-22",
         "$5,747 ",
         45,
         "India"
        ],
        [
         "Oby Sorrel",
         "Eclairs",
         "25-Aug-22",
         "$5,663 ",
         322,
         "India"
        ],
        [
         "Roddy Speechley",
         "Caramel Stuffed Bars",
         "30-May-22",
         "$8,911 ",
         543,
         "India"
        ],
        [
         "Mallorie Waber",
         "50% Dark Bites",
         "31-May-22",
         "$588 ",
         139,
         "India"
        ],
        [
         "Van Tuxwell",
         "50% Dark Bites",
         "13-May-22",
         "$5,103 ",
         129,
         "India"
        ],
        [
         "Dennison Crosswaite",
         "85% Dark Bars",
         "30-Jun-22",
         "$4,515 ",
         22,
         "India"
        ],
        [
         "Kelci Walkden",
         "Mint Chip Choco",
         "28-Jul-22",
         "$2,870 ",
         120,
         "India"
        ],
        [
         "Madelene Upcott",
         "Mint Chip Choco",
         "24-Aug-22",
         "$3,836 ",
         71,
         "India"
        ],
        [
         "Jehu Rudeforth",
         "Eclairs",
         "24-Feb-22",
         "$8,771 ",
         127,
         "India"
        ],
        [
         "Gunar Cockshoot",
         "Smooth Sliky Salty",
         "02-Mar-22",
         "$3,752 ",
         70,
         "India"
        ],
        [
         "Van Tuxwell",
         "Choco Coated Almonds",
         "13-Apr-22",
         "$5,733 ",
         114,
         "India"
        ],
        [
         "Gunar Cockshoot",
         "Spicy Special Slims",
         "13-May-22",
         "$6,510 ",
         170,
         "India"
        ],
        [
         "Ches Bonnell",
         "Peanut Butter Cubes",
         "27-Jan-22",
         "$22,050 ",
         208,
         "India"
        ],
        [
         "Jan Morforth",
         "Choco Coated Almonds",
         "12-Aug-22",
         "$2,541 ",
         134,
         "India"
        ],
        [
         "Rafaelita Blaksland",
         "After Nines",
         "02-Mar-22",
         "$4,739 ",
         204,
         "India"
        ],
        [
         "Dennison Crosswaite",
         "Smooth Sliky Salty",
         "07-Jul-22",
         "$2,975 ",
         9,
         "India"
        ],
        [
         "Curtice Advani",
         "85% Dark Bars",
         "18-Jan-22",
         "$273 ",
         402,
         "India"
        ],
        [
         "Jan Morforth",
         "Smooth Sliky Salty",
         "03-Aug-22",
         "$11,298 ",
         89,
         "India"
        ],
        [
         "Van Tuxwell",
         "Almond Choco",
         "14-Jun-22",
         "$6,426 ",
         390,
         "India"
        ],
        [
         "Curtice Advani",
         "Smooth Sliky Salty",
         "19-Apr-22",
         "$19,327 ",
         135,
         "India"
        ],
        [
         "Brien Boise",
         "Raspberry Choco",
         "30-May-22",
         "$6,328 ",
         164,
         "India"
        ],
        [
         "Dotty Strutley",
         "Spicy Special Slims",
         "12-Aug-22",
         "$910 ",
         204,
         "India"
        ],
        [
         "Jehu Rudeforth",
         "Baker's Choco Chips",
         "06-Jun-22",
         "$2,086 ",
         74,
         "India"
        ],
        [
         "Andria Kimpton",
         "50% Dark Bites",
         "31-Jan-22",
         "$13,482 ",
         15,
         "India"
        ],
        [
         "Kelci Walkden",
         "Smooth Sliky Salty",
         "01-Feb-22",
         "$2,464 ",
         8,
         "India"
        ],
        [
         "Karlen McCaffrey",
         "85% Dark Bars",
         "30-Mar-22",
         "$945 ",
         83,
         "India"
        ],
        [
         "Husein Augar",
         "Fruit & Nut Bars",
         "04-Apr-22",
         "$4,340 ",
         226,
         "India"
        ],
        [
         "Madelene Upcott",
         "Choco Coated Almonds",
         "11-Feb-22",
         "$3,500 ",
         145,
         "India"
        ],
        [
         "Andria Kimpton",
         "Organic Choco Syrup",
         "18-Jan-22",
         "$3,955 ",
         134,
         "India"
        ],
        [
         "Gunar Cockshoot",
         "Mint Chip Choco",
         "08-Aug-22",
         "$4,256 ",
         67,
         "India"
        ],
        [
         "Dennison Crosswaite",
         "Mint Chip Choco",
         "23-Mar-22",
         "$13,573 ",
         138,
         "India"
        ],
        [
         "Barr Faughny",
         "Caramel Stuffed Bars",
         "04-Jan-22",
         "$6,566 ",
         99,
         "India"
        ],
        [
         "Brien Boise",
         "Milk Bars",
         "22-Feb-22",
         "$13,503 ",
         251,
         "India"
        ],
        [
         "Van Tuxwell",
         "White Choc",
         "15-Mar-22",
         "$1,897 ",
         44,
         "India"
        ],
        [
         "Kaine Padly",
         "70% Dark Bites",
         "24-Jan-22",
         "$12,173 ",
         301,
         "India"
        ],
        [
         "Husein Augar",
         "Spicy Special Slims",
         "22-Aug-22",
         "$2,492 ",
         33,
         "India"
        ],
        [
         "Curtice Advani",
         "Milk Bars",
         "05-Apr-22",
         "$3,437 ",
         201,
         "India"
        ],
        [
         "Beverie Moffet",
         "Milk Bars",
         "15-Apr-22",
         "$1,869 ",
         323,
         "India"
        ],
        [
         "Curtice Advani",
         "Manuka Honey Choco",
         "23-May-22",
         "$1,547 ",
         170,
         "India"
        ],
        [
         "Camilla Castle",
         "85% Dark Bars",
         "04-May-22",
         "$9,023 ",
         51,
         "India"
        ],
        [
         "Jan Morforth",
         "99% Dark & Pure",
         "23-May-22",
         "$9,100 ",
         187,
         "India"
        ],
        [
         "Jan Morforth",
         "Caramel Stuffed Bars",
         "04-Jul-22",
         "$84 ",
         153,
         "India"
        ],
        [
         "Karlen McCaffrey",
         "White Choc",
         "17-Jan-22",
         "$7,483 ",
         232,
         "India"
        ],
        [
         "Wilone O'Kielt",
         "Mint Chip Choco",
         "22-Aug-22",
         "$1,309 ",
         51,
         "India"
        ],
        [
         "Ches Bonnell",
         "Choco Coated Almonds",
         "05-Apr-22",
         "$9,625 ",
         78,
         "India"
        ],
        [
         "Ches Bonnell",
         "Caramel Stuffed Bars",
         "15-Jun-22",
         "$6,839 ",
         56,
         "India"
        ],
        [
         "Beverie Moffet",
         "Spicy Special Slims",
         "21-Apr-22",
         "$3,339 ",
         171,
         "India"
        ],
        [
         "Jan Morforth",
         "Baker's Choco Chips",
         "01-Aug-22",
         "$13,727 ",
         79,
         "India"
        ],
        [
         "Gunar Cockshoot",
         "Baker's Choco Chips",
         "18-Mar-22",
         "$2,191 ",
         524,
         "India"
        ],
        [
         "Camilla Castle",
         "99% Dark & Pure",
         "02-Aug-22",
         "$203 ",
         207,
         "India"
        ],
        [
         "Dennison Crosswaite",
         "Orange Choco",
         "18-Mar-22",
         "$784 ",
         129,
         "India"
        ],
        [
         "Curtice Advani",
         "White Choc",
         "04-Jul-22",
         "$7,154 ",
         342,
         "India"
        ],
        [
         "Kelci Walkden",
         "70% Dark Bites",
         "06-Jun-22",
         "$3,640 ",
         106,
         "India"
        ],
        [
         "Kelci Walkden",
         "Drinking Coco",
         "04-Jul-22",
         "$7,532 ",
         234,
         "India"
        ],
        [
         "Mallorie Waber",
         "Raspberry Choco",
         "02-Mar-22",
         "$1,400 ",
         2,
         "India"
        ],
        [
         "Brien Boise",
         "85% Dark Bars",
         "09-Aug-22",
         "$18,032 ",
         205,
         "India"
        ],
        [
         "Dennison Crosswaite",
         "Fruit & Nut Bars",
         "29-Jul-22",
         "$952 ",
         24,
         "India"
        ],
        [
         "Brien Boise",
         "Smooth Sliky Salty",
         "27-May-22",
         "$5,964 ",
         26,
         "India"
        ],
        [
         "Brien Boise",
         "Spicy Special Slims",
         "28-Jan-22",
         "$1,302 ",
         33,
         "India"
        ],
        [
         "Wilone O'Kielt",
         "Caramel Stuffed Bars",
         "13-Jan-22",
         "$4,179 ",
         276,
         "India"
        ],
        [
         "Gunar Cockshoot",
         "Organic Choco Syrup",
         "03-Jun-22",
         "$7,196 ",
         160,
         "India"
        ],
        [
         "Mallorie Waber",
         "Eclairs",
         "12-Apr-22",
         "$10,437 ",
         46,
         "India"
        ],
        [
         "Oby Sorrel",
         "Drinking Coco",
         "21-Jul-22",
         "$16,380 ",
         130,
         "India"
        ],
        [
         "Husein Augar",
         "Peanut Butter Cubes",
         "09-May-22",
         "$4,522 ",
         5,
         "India"
        ],
        [
         "Brien Boise",
         "70% Dark Bites",
         "14-Apr-22",
         "$4,641 ",
         413,
         "India"
        ],
        [
         "Dennison Crosswaite",
         "Organic Choco Syrup",
         "27-Jan-22",
         "$8,428 ",
         216,
         "India"
        ],
        [
         "Marney O'Breen",
         "99% Dark & Pure",
         "22-Jul-22",
         "$10,766 ",
         157,
         "India"
        ],
        [
         "Oby Sorrel",
         "85% Dark Bars",
         "05-Jul-22",
         "$8,981 ",
         130,
         "India"
        ],
        [
         "Beverie Moffet",
         "Eclairs",
         "09-Jun-22",
         "$10,325 ",
         147,
         "India"
        ],
        [
         "Andria Kimpton",
         "Eclairs",
         "16-May-22",
         "$2,149 ",
         84,
         "India"
        ],
        [
         "Gigi Bohling",
         "White Choc",
         "13-Apr-22",
         "$1,393 ",
         172,
         "India"
        ],
        [
         "Wilone O'Kielt",
         "Choco Coated Almonds",
         "22-Aug-22",
         "$2,933 ",
         233,
         "India"
        ],
        [
         "Beverie Moffet",
         "Manuka Honey Choco",
         "06-May-22",
         "$9,835 ",
         167,
         "India"
        ],
        [
         "Jan Morforth",
         "After Nines",
         "14-Mar-22",
         "$6,496 ",
         168,
         "India"
        ],
        [
         "Ches Bonnell",
         "Orange Choco",
         "16-Feb-22",
         "$1,190 ",
         256,
         "India"
        ],
        [
         "Wilone O'Kielt",
         "Eclairs",
         "25-Feb-22",
         "$3,549 ",
         76,
         "India"
        ],
        [
         "Wilone O'Kielt",
         "After Nines",
         "04-Aug-22",
         "$12,026 ",
         262,
         "India"
        ],
        [
         "Kelci Walkden",
         "99% Dark & Pure",
         "28-Jun-22",
         "$2,303 ",
         244,
         "India"
        ],
        [
         "Kelci Walkden",
         "Raspberry Choco",
         "16-Jun-22",
         "$8,183 ",
         254,
         "India"
        ],
        [
         "Ches Bonnell",
         "50% Dark Bites",
         "15-Apr-22",
         "$11,298 ",
         313,
         "India"
        ],
        [
         "Barr Faughny",
         "After Nines",
         "29-Jul-22",
         "$8,190 ",
         109,
         "India"
        ],
        [
         "Rafaelita Blaksland",
         "Mint Chip Choco",
         "26-Jan-22",
         "$15,491 ",
         85,
         "India"
        ],
        [
         "Oby Sorrel",
         "Spicy Special Slims",
         "08-Jun-22",
         "$11,137 ",
         88,
         "India"
        ],
        [
         "Mallorie Waber",
         "White Choc",
         "26-Jul-22",
         "$819 ",
         213,
         "India"
        ],
        [
         "Jehu Rudeforth",
         "Peanut Butter Cubes",
         "14-Apr-22",
         "$28 ",
         446,
         "India"
        ],
        [
         "Husein Augar",
         "Eclairs",
         "09-Feb-22",
         "$4,956 ",
         58,
         "India"
        ],
        [
         "Beverie Moffet",
         "White Choc",
         "04-Jul-22",
         "$1,813 ",
         296,
         "India"
        ],
        [
         "Ches Bonnell",
         "Almond Choco",
         "13-Apr-22",
         "$11,788 ",
         73,
         "India"
        ],
        [
         "Van Tuxwell",
         "After Nines",
         "27-Jun-22",
         "$13,706 ",
         207,
         "India"
        ],
        [
         "Husein Augar",
         "Orange Choco",
         "30-Jun-22",
         "$4,361 ",
         40,
         "India"
        ],
        [
         "Jehu Rudeforth",
         "Almond Choco",
         "30-Aug-22",
         "$10,122 ",
         100,
         "India"
        ],
        [
         "Dotty Strutley",
         "Peanut Butter Cubes",
         "16-Feb-22",
         "$9,107 ",
         73,
         "India"
        ],
        [
         "Oby Sorrel",
         "Choco Coated Almonds",
         "14-Feb-22",
         "$49 ",
         363,
         "India"
        ],
        [
         "Beverie Moffet",
         "Organic Choco Syrup",
         "23-Jun-22",
         "$1,036 ",
         20,
         "India"
        ],
        [
         "Barr Faughny",
         "Mint Chip Choco",
         "12-Jan-22",
         "$7,413 ",
         465,
         "India"
        ],
        [
         "Curtice Advani",
         "Mint Chip Choco",
         "03-Mar-22",
         "$8,155 ",
         96,
         "India"
        ],
        [
         "Gunar Cockshoot",
         "Caramel Stuffed Bars",
         "28-Jul-22",
         "$2,471 ",
         202,
         "India"
        ],
        [
         "Andria Kimpton",
         "Orange Choco",
         "30-May-22",
         "$301 ",
         421,
         "India"
        ],
        [
         "Husein Augar",
         "Raspberry Choco",
         "15-Jun-22",
         "$9,954 ",
         154,
         "India"
        ],
        [
         "Dotty Strutley",
         "Mint Chip Choco",
         "14-Apr-22",
         "$1,260 ",
         239,
         "India"
        ],
        [
         "Camilla Castle",
         "Drinking Coco",
         "08-Aug-22",
         "$469 ",
         163,
         "India"
        ],
        [
         "Ches Bonnell",
         "99% Dark & Pure",
         "16-Feb-22",
         "$455 ",
         96,
         "India"
        ],
        [
         "Van Tuxwell",
         "Eclairs",
         "21-Jul-22",
         "$10,500 ",
         106,
         "India"
        ],
        [
         "Roddy Speechley",
         "Drinking Coco",
         "31-May-22",
         "$4,494 ",
         11,
         "India"
        ],
        [
         "Andria Kimpton",
         "After Nines",
         "17-Jan-22",
         "$952 ",
         68,
         "India"
        ],
        [
         "Roddy Speechley",
         "Spicy Special Slims",
         "22-Mar-22",
         "$10,647 ",
         173,
         "India"
        ],
        [
         "Roddy Speechley",
         "50% Dark Bites",
         "14-Mar-22",
         "$8,337 ",
         12,
         "India"
        ],
        [
         "Beverie Moffet",
         "Almond Choco",
         "24-May-22",
         "$3,066 ",
         96,
         "India"
        ],
        [
         "Dotty Strutley",
         "Eclairs",
         "28-Jul-22",
         "$2,086 ",
         384,
         "India"
        ],
        [
         "Karlen McCaffrey",
         "70% Dark Bites",
         "23-May-22",
         "$5,075 ",
         344,
         "India"
        ],
        [
         "Barr Faughny",
         "Orange Choco",
         "10-Mar-22",
         "$3,703 ",
         11,
         "USA"
        ],
        [
         "Roddy Speechley",
         "Smooth Sliky Salty",
         "05-Apr-22",
         "$3,017 ",
         140,
         "USA"
        ],
        [
         "Gunar Cockshoot",
         "Spicy Special Slims",
         "17-Feb-22",
         "$1,267 ",
         157,
         "USA"
        ],
        [
         "Marney O'Breen",
         "After Nines",
         "30-May-22",
         "$4,753 ",
         163,
         "USA"
        ],
        [
         "Husein Augar",
         "Eclairs",
         "07-Jul-22",
         "$4,025 ",
         112,
         "USA"
        ],
        [
         "Roddy Speechley",
         "Manuka Honey Choco",
         "22-Jul-22",
         "$9,583 ",
         315,
         "USA"
        ],
        [
         "Kelci Walkden",
         "After Nines",
         "02-Jun-22",
         "$938 ",
         16,
         "USA"
        ],
        [
         "Karlen McCaffrey",
         "Raspberry Choco",
         "15-Apr-22",
         "$14,749 ",
         354,
         "USA"
        ],
        [
         "Kaine Padly",
         "Peanut Butter Cubes",
         "16-Feb-22",
         "$6,790 ",
         188,
         "USA"
        ],
        [
         "Van Tuxwell",
         "50% Dark Bites",
         "13-Jan-22",
         "$9,737 ",
         160,
         "USA"
        ],
        [
         "Beverie Moffet",
         "Raspberry Choco",
         "19-Apr-22",
         "$14,798 ",
         83,
         "USA"
        ],
        [
         "Jan Morforth",
         "Peanut Butter Cubes",
         "22-Jul-22",
         "$9,037 ",
         102,
         "USA"
        ],
        [
         "Gigi Bohling",
         "Choco Coated Almonds",
         "02-Mar-22",
         "$12,313 ",
         103,
         "USA"
        ],
        [
         "Camilla Castle",
         "Spicy Special Slims",
         "11-Feb-22",
         "$1,274 ",
         244,
         "USA"
        ],
        [
         "Marney O'Breen",
         "Orange Choco",
         "27-Jan-22",
         "$7,595 ",
         181,
         "USA"
        ],
        [
         "Camilla Castle",
         "White Choc",
         "18-Aug-22",
         "$9,681 ",
         24,
         "USA"
        ],
        [
         "Andria Kimpton",
         "Raspberry Choco",
         "30-Jun-22",
         "$14,504 ",
         21,
         "USA"
        ],
        [
         "Karlen McCaffrey",
         "Orange Choco",
         "12-May-22",
         "$11,095 ",
         401,
         "USA"
        ],
        [
         "Van Tuxwell",
         "After Nines",
         "26-Jul-22",
         "$630 ",
         264,
         "USA"
        ],
        [
         "Marney O'Breen",
         "50% Dark Bites",
         "15-Jun-22",
         "$1,064 ",
         106,
         "USA"
        ],
        [
         "Husein Augar",
         "After Nines",
         "08-Apr-22",
         "$11,571 ",
         180,
         "USA"
        ],
        [
         "Andria Kimpton",
         "Fruit & Nut Bars",
         "15-Jul-22",
         "$1,456 ",
         359,
         "USA"
        ],
        [
         "Marney O'Breen",
         "99% Dark & Pure",
         "28-Mar-22",
         "$4,151 ",
         296,
         "USA"
        ],
        [
         "Marney O'Breen",
         "Almond Choco",
         "25-Feb-22",
         "$7,798 ",
         167,
         "USA"
        ],
        [
         "Kelci Walkden",
         "Manuka Honey Choco",
         "16-Feb-22",
         "$17,318 ",
         87,
         "USA"
        ],
        [
         "Wilone O'Kielt",
         "After Nines",
         "25-Apr-22",
         "$392 ",
         30,
         "USA"
        ],
        [
         "Barr Faughny",
         "Raspberry Choco",
         "12-Apr-22",
         "$9,282 ",
         101,
         "USA"
        ],
        [
         "Andria Kimpton",
         "85% Dark Bars",
         "05-Apr-22",
         "$8,911 ",
         82,
         "USA"
        ],
        [
         "Barr Faughny",
         "Fruit & Nut Bars",
         "28-Jan-22",
         "$9,058 ",
         46,
         "USA"
        ],
        [
         "Van Tuxwell",
         "99% Dark & Pure",
         "28-Jul-22",
         "$12,586 ",
         6,
         "USA"
        ],
        [
         "Gigi Bohling",
         "Spicy Special Slims",
         "21-Jan-22",
         "$10,829 ",
         54,
         "USA"
        ],
        [
         "Dotty Strutley",
         "Manuka Honey Choco",
         "10-Aug-22",
         "$273 ",
         210,
         "USA"
        ],
        [
         "Dennison Crosswaite",
         "Almond Choco",
         "30-Jun-22",
         "$11,718 ",
         84,
         "USA"
        ],
        [
         "Kaine Padly",
         "70% Dark Bites",
         "12-May-22",
         "$4,018 ",
         100,
         "USA"
        ],
        [
         "Gigi Bohling",
         "99% Dark & Pure",
         "02-Jun-22",
         "$784 ",
         249,
         "USA"
        ],
        [
         "Madelene Upcott",
         "After Nines",
         "15-Mar-22",
         "$4,571 ",
         430,
         "USA"
        ],
        [
         "Madelene Upcott",
         "Eclairs",
         "18-Mar-22",
         "$8,883 ",
         200,
         "USA"
        ],
        [
         "Husein Augar",
         "Milk Bars",
         "02-Mar-22",
         "$854 ",
         56,
         "USA"
        ],
        [
         "Husein Augar",
         "85% Dark Bars",
         "08-Aug-22",
         "$378 ",
         54,
         "USA"
        ],
        [
         "Mallorie Waber",
         "Manuka Honey Choco",
         "04-Jul-22",
         "$5,425 ",
         96,
         "USA"
        ],
        [
         "Gigi Bohling",
         "50% Dark Bites",
         "13-Apr-22",
         "$2,296 ",
         59,
         "USA"
        ],
        [
         "Kaine Padly",
         "50% Dark Bites",
         "03-Aug-22",
         "$70 ",
         27,
         "USA"
        ],
        [
         "Ches Bonnell",
         "Orange Choco",
         "10-Jun-22",
         "$1,743 ",
         69,
         "USA"
        ],
        [
         "Rafaelita Blaksland",
         "Fruit & Nut Bars",
         "18-Jan-22",
         "$2,604 ",
         65,
         "USA"
        ],
        [
         "Ches Bonnell",
         "70% Dark Bites",
         "11-May-22",
         "$4,571 ",
         122,
         "USA"
        ],
        [
         "Barr Faughny",
         "50% Dark Bites",
         "14-Apr-22",
         "$13,034 ",
         117,
         "USA"
        ],
        [
         "Kelci Walkden",
         "White Choc",
         "07-Mar-22",
         "$9,422 ",
         22,
         "USA"
        ],
        [
         "Karlen McCaffrey",
         "Milk Bars",
         "27-Jan-22",
         "$4,389 ",
         7,
         "USA"
        ],
        [
         "Mallorie Waber",
         "85% Dark Bars",
         "11-May-22",
         "$2,632 ",
         108,
         "USA"
        ],
        [
         "Mallorie Waber",
         "Eclairs",
         "22-Mar-22",
         "$6,328 ",
         51,
         "USA"
        ],
        [
         "Dennison Crosswaite",
         "Fruit & Nut Bars",
         "04-May-22",
         "$1,414 ",
         318,
         "USA"
        ],
        [
         "Kelci Walkden",
         "99% Dark & Pure",
         "18-Aug-22",
         "$7,714 ",
         238,
         "USA"
        ],
        [
         "Kaine Padly",
         "Caramel Stuffed Bars",
         "21-Jul-22",
         "$5,593 ",
         122,
         "USA"
        ],
        [
         "Dotty Strutley",
         "Orange Choco",
         "23-Feb-22",
         "$1,379 ",
         107,
         "USA"
        ],
        [
         "Curtice Advani",
         "Spicy Special Slims",
         "11-Jul-22",
         "$1,603 ",
         264,
         "USA"
        ],
        [
         "Kelci Walkden",
         "Drinking Coco",
         "26-Jul-22",
         "$6,454 ",
         160,
         "USA"
        ],
        [
         "Rafaelita Blaksland",
         "Baker's Choco Chips",
         "09-Jun-22",
         "$2,863 ",
         58,
         "USA"
        ],
        [
         "Kelci Walkden",
         "Organic Choco Syrup",
         "21-Jul-22",
         "$9,870 ",
         152,
         "USA"
        ],
        [
         "Van Tuxwell",
         "Caramel Stuffed Bars",
         "14-Feb-22",
         "$987 ",
         21,
         "USA"
        ],
        [
         "Mallorie Waber",
         "Almond Choco",
         "28-Jan-22",
         "$6,986 ",
         368,
         "USA"
        ],
        [
         "Dotty Strutley",
         "Caramel Stuffed Bars",
         "15-Apr-22",
         "$16,982 ",
         76,
         "USA"
        ],
        [
         "Beverie Moffet",
         "Smooth Sliky Salty",
         "24-Mar-22",
         "$2,317 ",
         352,
         "USA"
        ],
        [
         "Jan Morforth",
         "Orange Choco",
         "29-Jun-22",
         "$980 ",
         146,
         "USA"
        ],
        [
         "Gigi Bohling",
         "Fruit & Nut Bars",
         "24-May-22",
         "$2,821 ",
         112,
         "USA"
        ],
        [
         "Curtice Advani",
         "Raspberry Choco",
         "15-Mar-22",
         "$2,996 ",
         139,
         "USA"
        ],
        [
         "Gunar Cockshoot",
         "Eclairs",
         "03-May-22",
         "$6,916 ",
         42,
         "USA"
        ],
        [
         "Roddy Speechley",
         "Fruit & Nut Bars",
         "14-Jun-22",
         "$5,509 ",
         24,
         "USA"
        ],
        [
         "Brien Boise",
         "Organic Choco Syrup",
         "25-May-22",
         "$16,233 ",
         138,
         "USA"
        ],
        [
         "Beverie Moffet",
         "50% Dark Bites",
         "28-Jul-22",
         "$2,450 ",
         352,
         "USA"
        ],
        [
         "Brien Boise",
         "Mint Chip Choco",
         "25-May-22",
         "$10,577 ",
         150,
         "USA"
        ],
        [
         "Brien Boise",
         "Orange Choco",
         "28-Jan-22",
         "$6,020 ",
         147,
         "USA"
        ],
        [
         "Mallorie Waber",
         "50% Dark Bites",
         "19-Apr-22",
         "$1,736 ",
         13,
         "USA"
        ],
        [
         "Dennison Crosswaite",
         "Raspberry Choco",
         "18-Jan-22",
         "$6,524 ",
         257,
         "USA"
        ],
        [
         "Ches Bonnell",
         "White Choc",
         "11-Feb-22",
         "$5,271 ",
         341,
         "USA"
        ],
        [
         "Kaine Padly",
         "Milk Bars",
         "15-Jun-22",
         "$15,491 ",
         58,
         "USA"
        ],
        [
         "Dennison Crosswaite",
         "Drinking Coco",
         "10-May-22",
         "$2,191 ",
         138,
         "USA"
        ],
        [
         "Ches Bonnell",
         "Organic Choco Syrup",
         "28-Jul-22",
         "$7,721 ",
         14,
         "USA"
        ],
        [
         "Roddy Speechley",
         "Peanut Butter Cubes",
         "25-Feb-22",
         "$1,736 ",
         137,
         "USA"
        ],
        [
         "Karlen McCaffrey",
         "Drinking Coco",
         "29-Jun-22",
         "$112 ",
         223,
         "USA"
        ],
        [
         "Karlen McCaffrey",
         "Mint Chip Choco",
         "15-Feb-22",
         "$15,652 ",
         53,
         "USA"
        ],
        [
         "Madelene Upcott",
         "White Choc",
         "04-May-22",
         "$12,250 ",
         213,
         "USA"
        ],
        [
         "Andria Kimpton",
         "Spicy Special Slims",
         "23-May-22",
         "$2,366 ",
         5,
         "USA"
        ],
        [
         "Dotty Strutley",
         "Mint Chip Choco",
         "21-Feb-22",
         "$5,292 ",
         248,
         "USA"
        ],
        [
         "Kelci Walkden",
         "Orange Choco",
         "03-Feb-22",
         "$1,379 ",
         138,
         "USA"
        ],
        [
         "Van Tuxwell",
         "Manuka Honey Choco",
         "31-May-22",
         "$2,317 ",
         102,
         "USA"
        ],
        [
         "Wilone O'Kielt",
         "Orange Choco",
         "28-Feb-22",
         "$7,042 ",
         37,
         "USA"
        ],
        [
         "Gigi Bohling",
         "After Nines",
         "14-Jan-22",
         "$1,848 ",
         227,
         "USA"
        ],
        [
         "Husein Augar",
         "White Choc",
         "13-Jul-22",
         "$2,030 ",
         60,
         "USA"
        ],
        [
         "Gunar Cockshoot",
         "Fruit & Nut Bars",
         "09-Mar-22",
         "$5,852 ",
         93,
         "USA"
        ],
        [
         "Barr Faughny",
         "85% Dark Bars",
         "25-Aug-22",
         "$12,761 ",
         47,
         "USA"
        ],
        [
         "Kaine Padly",
         "Organic Choco Syrup",
         "11-Mar-22",
         "$2,380 ",
         22,
         "USA"
        ],
        [
         "Camilla Castle",
         "Raspberry Choco",
         "20-May-22",
         "$3,339 ",
         18,
         "USA"
        ],
        [
         "Jehu Rudeforth",
         "Smooth Sliky Salty",
         "07-Jul-22",
         "$6,657 ",
         154,
         "USA"
        ],
        [
         "Rafaelita Blaksland",
         "Drinking Coco",
         "20-Jun-22",
         "$8,526 ",
         73,
         "USA"
        ],
        [
         "Beverie Moffet",
         "85% Dark Bars",
         "23-Aug-22",
         "$12,404 ",
         334,
         "USA"
        ],
        [
         "Roddy Speechley",
         "Eclairs",
         "25-Apr-22",
         "$3,990 ",
         155,
         "USA"
        ],
        [
         "Madelene Upcott",
         "Orange Choco",
         "16-May-22",
         "$7,742 ",
         138,
         "USA"
        ],
        [
         "Brien Boise",
         "99% Dark & Pure",
         "25-Jul-22",
         "$6,769 ",
         353,
         "USA"
        ],
        [
         "Dennison Crosswaite",
         "Milk Bars",
         "12-May-22",
         "$777 ",
         60,
         "USA"
        ],
        [
         "Gunar Cockshoot",
         "Drinking Coco",
         "09-May-22",
         "$3,843 ",
         5,
         "USA"
        ],
        [
         "Andria Kimpton",
         "Caramel Stuffed Bars",
         "02-May-22",
         "$8,393 ",
         46,
         "USA"
        ],
        [
         "Dotty Strutley",
         "99% Dark & Pure",
         "09-Aug-22",
         "$3,822 ",
         320,
         "USA"
        ],
        [
         "Karlen McCaffrey",
         "Manuka Honey Choco",
         "01-Feb-22",
         "$10,171 ",
         67,
         "USA"
        ],
        [
         "Camilla Castle",
         "50% Dark Bites",
         "23-Jun-22",
         "$5,908 ",
         301,
         "USA"
        ],
        [
         "Brien Boise",
         "Milk Bars",
         "07-Jul-22",
         "$14,301 ",
         130,
         "USA"
        ],
        [
         "Beverie Moffet",
         "Peanut Butter Cubes",
         "18-Aug-22",
         "$13,930 ",
         339,
         "USA"
        ],
        [
         "Marney O'Breen",
         "Baker's Choco Chips",
         "26-Jan-22",
         "$8,470 ",
         9,
         "USA"
        ],
        [
         "Kelci Walkden",
         "Spicy Special Slims",
         "29-Apr-22",
         "$77 ",
         69,
         "USA"
        ],
        [
         "Oby Sorrel",
         "Smooth Sliky Salty",
         "04-Mar-22",
         "$3,577 ",
         158,
         "USA"
        ],
        [
         "Oby Sorrel",
         "Baker's Choco Chips",
         "12-Aug-22",
         "$8,001 ",
         120,
         "USA"
        ],
        [
         "Kaine Padly",
         "Eclairs",
         "22-Aug-22",
         "$7,623 ",
         10,
         "USA"
        ],
        [
         "Roddy Speechley",
         "50% Dark Bites",
         "11-Feb-22",
         "$10,458 ",
         316,
         "USA"
        ],
        [
         "Kelci Walkden",
         "50% Dark Bites",
         "23-Mar-22",
         "$6,188 ",
         223,
         "USA"
        ],
        [
         "Camilla Castle",
         "Manuka Honey Choco",
         "21-Mar-22",
         "$16,401 ",
         179,
         "USA"
        ],
        [
         "Jehu Rudeforth",
         "99% Dark & Pure",
         "04-Jan-22",
         "$2,534 ",
         219,
         "USA"
        ],
        [
         "Gunar Cockshoot",
         "Organic Choco Syrup",
         "10-Aug-22",
         "$2,331 ",
         321,
         "USA"
        ],
        [
         "Wilone O'Kielt",
         "50% Dark Bites",
         "18-Apr-22",
         "$4,501 ",
         131,
         "USA"
        ],
        [
         "Madelene Upcott",
         "Baker's Choco Chips",
         "22-Aug-22",
         "$5,621 ",
         140,
         "USA"
        ],
        [
         "Gigi Bohling",
         "Smooth Sliky Salty",
         "22-Jul-22",
         "$2,583 ",
         126,
         "USA"
        ],
        [
         "Curtice Advani",
         "Mint Chip Choco",
         "24-Aug-22",
         "$4,802 ",
         296,
         "USA"
        ],
        [
         "Kelci Walkden",
         "Fruit & Nut Bars",
         "17-Feb-22",
         "$4,816 ",
         145,
         "USA"
        ],
        [
         "Van Tuxwell",
         "Fruit & Nut Bars",
         "05-Jul-22",
         "$6,279 ",
         235,
         "USA"
        ],
        [
         "Wilone O'Kielt",
         "Milk Bars",
         "15-Jul-22",
         "$5,012 ",
         93,
         "USA"
        ],
        [
         "Barr Faughny",
         "Almond Choco",
         "03-Feb-22",
         "$385 ",
         78,
         "USA"
        ],
        [
         "Jan Morforth",
         "Fruit & Nut Bars",
         "27-Jun-22",
         "$4,382 ",
         361,
         "USA"
        ],
        [
         "Beverie Moffet",
         "White Choc",
         "11-Mar-22",
         "$5,292 ",
         134,
         "USA"
        ],
        [
         "Dotty Strutley",
         "Fruit & Nut Bars",
         "13-Jul-22",
         "$2,898 ",
         276,
         "USA"
        ],
        [
         "Curtice Advani",
         "Drinking Coco",
         "07-Feb-22",
         "$5,187 ",
         142,
         "USA"
        ],
        [
         "Wilone O'Kielt",
         "Choco Coated Almonds",
         "06-Jun-22",
         "$9,457 ",
         6,
         "USA"
        ],
        [
         "Marney O'Breen",
         "Raspberry Choco",
         "23-May-22",
         "$6,069 ",
         151,
         "USA"
        ],
        [
         "Dotty Strutley",
         "85% Dark Bars",
         "25-Apr-22",
         "$10,220 ",
         508,
         "USA"
        ],
        [
         "Mallorie Waber",
         "Peanut Butter Cubes",
         "23-May-22",
         "$1,162 ",
         18,
         "USA"
        ],
        [
         "Rafaelita Blaksland",
         "Smooth Sliky Salty",
         "27-Jul-22",
         "$15,057 ",
         212,
         "USA"
        ],
        [
         "Rafaelita Blaksland",
         "White Choc",
         "16-Aug-22",
         "$4,704 ",
         126,
         "USA"
        ],
        [
         "Ches Bonnell",
         "Choco Coated Almonds",
         "04-Jan-22",
         "$14,525 ",
         92,
         "USA"
        ],
        [
         "Husein Augar",
         "99% Dark & Pure",
         "21-Feb-22",
         "$9,534 ",
         111,
         "USA"
        ],
        [
         "Dennison Crosswaite",
         "Eclairs",
         "25-May-22",
         "$2,044 ",
         90,
         "USA"
        ],
        [
         "Dennison Crosswaite",
         "Organic Choco Syrup",
         "18-Jul-22",
         "$12,656 ",
         126,
         "USA"
        ],
        [
         "Oby Sorrel",
         "Manuka Honey Choco",
         "25-Jul-22",
         "$4,340 ",
         86,
         "USA"
        ],
        [
         "Gigi Bohling",
         "Peanut Butter Cubes",
         "09-May-22",
         "$280 ",
         75,
         "USA"
        ],
        [
         "Wilone O'Kielt",
         "Smooth Sliky Salty",
         "18-Jan-22",
         "$504 ",
         87,
         "USA"
        ],
        [
         "Brien Boise",
         "Manuka Honey Choco",
         "22-Aug-22",
         "$1,904 ",
         8,
         "USA"
        ],
        [
         "Roddy Speechley",
         "Drinking Coco",
         "21-Feb-22",
         "$3,003 ",
         155,
         "USA"
        ],
        [
         "Jehu Rudeforth",
         "Orange Choco",
         "28-Jul-22",
         "$364 ",
         170,
         "USA"
        ],
        [
         "Jehu Rudeforth",
         "Raspberry Choco",
         "04-Mar-22",
         "$7,154 ",
         133,
         "USA"
        ],
        [
         "Kelci Walkden",
         "Almond Choco",
         "27-Jan-22",
         "$5,180 ",
         233,
         "USA"
        ],
        [
         "Karlen McCaffrey",
         "Eclairs",
         "15-Aug-22",
         "$868 ",
         125,
         "USA"
        ],
        [
         "Gunar Cockshoot",
         "85% Dark Bars",
         "30-Jun-22",
         "$7,007 ",
         135,
         "USA"
        ],
        [
         "Brien Boise",
         "70% Dark Bites",
         "14-Apr-22",
         "$1,694 ",
         21,
         "USA"
        ],
        [
         "Husein Augar",
         "Fruit & Nut Bars",
         "28-Apr-22",
         "$1,288 ",
         27,
         "USA"
        ],
        [
         "Ches Bonnell",
         "Milk Bars",
         "21-Jul-22",
         "$2,408 ",
         157,
         "USA"
        ],
        [
         "Oby Sorrel",
         "Milk Bars",
         "14-Jun-22",
         "$1,736 ",
         79,
         "USA"
        ],
        [
         "Barr Faughny",
         "White Choc",
         "05-May-22",
         "$7,420 ",
         163,
         "USA"
        ],
        [
         "Roddy Speechley",
         "Milk Bars",
         "16-May-22",
         "$2,807 ",
         252,
         "USA"
        ],
        [
         "Gunar Cockshoot",
         "After Nines",
         "15-Aug-22",
         "$3,738 ",
         261,
         "USA"
        ],
        [
         "Wilone O'Kielt",
         "Drinking Coco",
         "14-Jun-22",
         "$1,029 ",
         98,
         "USA"
        ],
        [
         "Beverie Moffet",
         "70% Dark Bites",
         "27-Jun-22",
         "$2,275 ",
         115,
         "USA"
        ],
        [
         "Dennison Crosswaite",
         "Baker's Choco Chips",
         "11-Aug-22",
         "$17,465 ",
         271,
         "USA"
        ],
        [
         "Madelene Upcott",
         "Almond Choco",
         "31-May-22",
         "$10,143 ",
         24,
         "USA"
        ],
        [
         "Oby Sorrel",
         "Almond Choco",
         "19-May-22",
         "$6,440 ",
         141,
         "USA"
        ],
        [
         "Camilla Castle",
         "85% Dark Bars",
         "25-Apr-22",
         "$2,401 ",
         78,
         "USA"
        ],
        [
         "Camilla Castle",
         "Eclairs",
         "10-Jun-22",
         "$4,515 ",
         392,
         "USA"
        ],
        [
         "Gigi Bohling",
         "Milk Bars",
         "16-Jun-22",
         "$476 ",
         133,
         "USA"
        ],
        [
         "Barr Faughny",
         "Caramel Stuffed Bars",
         "29-Mar-22",
         "$3,318 ",
         299,
         "USA"
        ],
        [
         "Oby Sorrel",
         "Drinking Coco",
         "11-Mar-22",
         "$7,714 ",
         44,
         "USA"
        ],
        [
         "Curtice Advani",
         "After Nines",
         "13-Apr-22",
         "$14,147 ",
         235,
         "USA"
        ],
        [
         "Kaine Padly",
         "Spicy Special Slims",
         "13-Jun-22",
         "$2,107 ",
         175,
         "USA"
        ],
        [
         "Dotty Strutley",
         "Raspberry Choco",
         "03-Jan-22",
         "$3,437 ",
         46,
         "USA"
        ],
        [
         "Karlen McCaffrey",
         "White Choc",
         "24-Aug-22",
         "$4,592 ",
         2,
         "USA"
        ],
        [
         "Oby Sorrel",
         "Spicy Special Slims",
         "07-Feb-22",
         "$5,691 ",
         417,
         "USA"
        ],
        [
         "Marney O'Breen",
         "Peanut Butter Cubes",
         "15-Jun-22",
         "$693 ",
         350,
         "USA"
        ],
        [
         "Dennison Crosswaite",
         "Caramel Stuffed Bars",
         "11-Jul-22",
         "$2,317 ",
         464,
         "USA"
        ],
        [
         "Kaine Padly",
         "85% Dark Bars",
         "22-Jun-22",
         "$483 ",
         259,
         "USA"
        ],
        [
         "Madelene Upcott",
         "Choco Coated Almonds",
         "07-Jun-22",
         "$5,446 ",
         132,
         "USA"
        ],
        [
         "Dennison Crosswaite",
         "70% Dark Bites",
         "15-Mar-22",
         "$658 ",
         77,
         "USA"
        ],
        [
         "Gigi Bohling",
         "70% Dark Bites",
         "14-Jan-22",
         "$7,364 ",
         196,
         "USA"
        ],
        [
         "Dennison Crosswaite",
         "Smooth Sliky Salty",
         "12-May-22",
         "$11,781 ",
         91,
         "USA"
        ],
        [
         "Brien Boise",
         "Raspberry Choco",
         "12-Jan-22",
         "$672 ",
         194,
         "USA"
        ],
        [
         "Jehu Rudeforth",
         "White Choc",
         "07-Jun-22",
         "$6,559 ",
         119,
         "USA"
        ],
        [
         "Mallorie Waber",
         "Eclairs",
         "13-Jan-22",
         "$1,442 ",
         286,
         "Canada"
        ],
        [
         "Van Tuxwell",
         "Organic Choco Syrup",
         "14-Feb-22",
         "$4,067 ",
         42,
         "Canada"
        ],
        [
         "Beverie Moffet",
         "Milk Bars",
         "16-Feb-22",
         "$8,799 ",
         250,
         "Canada"
        ],
        [
         "Roddy Speechley",
         "Spicy Special Slims",
         "09-Feb-22",
         "$1,652 ",
         186,
         "Canada"
        ],
        [
         "Andria Kimpton",
         "After Nines",
         "11-May-22",
         "$2,163 ",
         70,
         "Canada"
        ],
        [
         "Mallorie Waber",
         "Choco Coated Almonds",
         "11-Jul-22",
         "$4,781 ",
         241,
         "Canada"
        ],
        [
         "Madelene Upcott",
         "Almond Choco",
         "22-Aug-22",
         "$7,602 ",
         102,
         "Canada"
        ],
        [
         "Curtice Advani",
         "Almond Choco",
         "24-Mar-22",
         "$4,865 ",
         70,
         "Canada"
        ],
        [
         "Jehu Rudeforth",
         "Drinking Coco",
         "15-Jul-22",
         "$441 ",
         24,
         "Canada"
        ],
        [
         "Brien Boise",
         "99% Dark & Pure",
         "18-May-22",
         "$16,793 ",
         416,
         "Canada"
        ],
        [
         "Kelci Walkden",
         "Baker's Choco Chips",
         "26-May-22",
         "$3,073 ",
         302,
         "Canada"
        ],
        [
         "Roddy Speechley",
         "Milk Bars",
         "13-Jul-22",
         "$609 ",
         32,
         "Canada"
        ],
        [
         "Roddy Speechley",
         "Organic Choco Syrup",
         "10-Jan-22",
         "$4,032 ",
         82,
         "Canada"
        ],
        [
         "Andria Kimpton",
         "Caramel Stuffed Bars",
         "03-Jan-22",
         "$7,154 ",
         348,
         "Canada"
        ],
        [
         "Karlen McCaffrey",
         "50% Dark Bites",
         "15-Jul-22",
         "$2,919 ",
         65,
         "Canada"
        ],
        [
         "Brien Boise",
         "Spicy Special Slims",
         "04-Mar-22",
         "$8,106 ",
         101,
         "Canada"
        ],
        [
         "Madelene Upcott",
         "70% Dark Bites",
         "24-Jan-22",
         "$10,927 ",
         141,
         "Canada"
        ],
        [
         "Gigi Bohling",
         "Baker's Choco Chips",
         "28-Jan-22",
         "$1,505 ",
         47,
         "Canada"
        ],
        [
         "Jehu Rudeforth",
         "Spicy Special Slims",
         "13-Jan-22",
         "$1,848 ",
         27,
         "Canada"
        ],
        [
         "Curtice Advani",
         "Spicy Special Slims",
         "16-Jun-22",
         "$854 ",
         118,
         "Canada"
        ],
        [
         "Kelci Walkden",
         "99% Dark & Pure",
         "15-Aug-22",
         "$4,830 ",
         50,
         "Canada"
        ],
        [
         "Oby Sorrel",
         "99% Dark & Pure",
         "01-Aug-22",
         "$3,605 ",
         403,
         "Canada"
        ],
        [
         "Jehu Rudeforth",
         "Smooth Sliky Salty",
         "11-Jul-22",
         "$5,460 ",
         138,
         "Canada"
        ],
        [
         "Karlen McCaffrey",
         "Smooth Sliky Salty",
         "19-Jan-22",
         "$3,017 ",
         184,
         "Canada"
        ],
        [
         "Jehu Rudeforth",
         "Milk Bars",
         "21-Feb-22",
         "$7,203 ",
         12,
         "Canada"
        ],
        [
         "Van Tuxwell",
         "Almond Choco",
         "27-Jun-22",
         "$3,213 ",
         72,
         "Canada"
        ],
        [
         "Kaine Padly",
         "Peanut Butter Cubes",
         "04-Jul-22",
         "$3,269 ",
         176,
         "Canada"
        ],
        [
         "Barr Faughny",
         "Peanut Butter Cubes",
         "07-Jun-22",
         "$2,100 ",
         78,
         "Canada"
        ],
        [
         "Mallorie Waber",
         "85% Dark Bars",
         "20-Apr-22",
         "$1,428 ",
         424,
         "Canada"
        ],
        [
         "Karlen McCaffrey",
         "Eclairs",
         "20-Apr-22",
         "$3,479 ",
         358,
         "Canada"
        ],
        [
         "Beverie Moffet",
         "White Choc",
         "15-Jul-22",
         "$9,275 ",
         173,
         "Canada"
        ],
        [
         "Marney O'Breen",
         "Choco Coated Almonds",
         "22-Aug-22",
         "$2,639 ",
         406,
         "Canada"
        ],
        [
         "Brien Boise",
         "Almond Choco",
         "13-Apr-22",
         "$4,781 ",
         125,
         "Canada"
        ],
        [
         "Beverie Moffet",
         "Baker's Choco Chips",
         "11-Jan-22",
         "$13,447 ",
         95,
         "Canada"
        ],
        [
         "Kaine Padly",
         "50% Dark Bites",
         "04-Mar-22",
         "$8,687 ",
         100,
         "Canada"
        ],
        [
         "Karlen McCaffrey",
         "Organic Choco Syrup",
         "15-Jul-22",
         "$2,415 ",
         312,
         "Canada"
        ],
        [
         "Dennison Crosswaite",
         "Spicy Special Slims",
         "10-Aug-22",
         "$2,527 ",
         216,
         "Canada"
        ],
        [
         "Dotty Strutley",
         "Raspberry Choco",
         "03-Aug-22",
         "$4,347 ",
         238,
         "Canada"
        ],
        [
         "Dennison Crosswaite",
         "Eclairs",
         "15-Mar-22",
         "$455 ",
         45,
         "Canada"
        ],
        [
         "Ches Bonnell",
         "Eclairs",
         "10-Jan-22",
         "$1,876 ",
         172,
         "Canada"
        ],
        [
         "Brien Boise",
         "85% Dark Bars",
         "17-Feb-22",
         "$10,241 ",
         259,
         "Canada"
        ],
        [
         "Barr Faughny",
         "50% Dark Bites",
         "19-Jul-22",
         "$10,185 ",
         303,
         "Canada"
        ],
        [
         "Gunar Cockshoot",
         "Raspberry Choco",
         "23-Jun-22",
         "$2,058 ",
         126,
         "Canada"
        ],
        [
         "Van Tuxwell",
         "White Choc",
         "22-Mar-22",
         "$420 ",
         3,
         "Canada"
        ],
        [
         "Kelci Walkden",
         "Milk Bars",
         "07-Jul-22",
         "$16,016 ",
         28,
         "Canada"
        ],
        [
         "Dennison Crosswaite",
         "Choco Coated Almonds",
         "13-Jan-22",
         "$10,479 ",
         118,
         "Canada"
        ],
        [
         "Curtice Advani",
         "Fruit & Nut Bars",
         "04-Apr-22",
         "$4,193 ",
         195,
         "Canada"
        ],
        [
         "Karlen McCaffrey",
         "Spicy Special Slims",
         "02-Aug-22",
         "$6,328 ",
         47,
         "Canada"
        ],
        [
         "Ches Bonnell",
         "Baker's Choco Chips",
         "21-Mar-22",
         "$7,462 ",
         371,
         "Canada"
        ],
        [
         "Gunar Cockshoot",
         "Fruit & Nut Bars",
         "24-Mar-22",
         "$13,888 ",
         203,
         "Canada"
        ],
        [
         "Kaine Padly",
         "99% Dark & Pure",
         "24-Jun-22",
         "$1,288 ",
         409,
         "Canada"
        ],
        [
         "Marney O'Breen",
         "Milk Bars",
         "08-Feb-22",
         "$2,436 ",
         309,
         "Canada"
        ],
        [
         "Van Tuxwell",
         "Manuka Honey Choco",
         "24-Feb-22",
         "$8,617 ",
         46,
         "Canada"
        ],
        [
         "Beverie Moffet",
         "Smooth Sliky Salty",
         "28-Feb-22",
         "$14,287 ",
         370,
         "Canada"
        ],
        [
         "Marney O'Breen",
         "Spicy Special Slims",
         "03-Jan-22",
         "$3,528 ",
         336,
         "Canada"
        ],
        [
         "Ches Bonnell",
         "Spicy Special Slims",
         "05-Aug-22",
         "$5,327 ",
         183,
         "Canada"
        ],
        [
         "Roddy Speechley",
         "Orange Choco",
         "09-Feb-22",
         "$8,148 ",
         85,
         "Canada"
        ],
        [
         "Mallorie Waber",
         "Orange Choco",
         "23-Mar-22",
         "$3,577 ",
         178,
         "Canada"
        ],
        [
         "Rafaelita Blaksland",
         "Caramel Stuffed Bars",
         "01-Aug-22",
         "$7,119 ",
         101,
         "Canada"
        ],
        [
         "Brien Boise",
         "Mint Chip Choco",
         "28-Jan-22",
         "$5,033 ",
         178,
         "Canada"
        ],
        [
         "Gunar Cockshoot",
         "Mint Chip Choco",
         "01-Jul-22",
         "$7,756 ",
         410,
         "Canada"
        ],
        [
         "Curtice Advani",
         "Smooth Sliky Salty",
         "01-Aug-22",
         "$2,660 ",
         12,
         "Canada"
        ],
        [
         "Andria Kimpton",
         "Organic Choco Syrup",
         "04-Jan-22",
         "$8,204 ",
         204,
         "Canada"
        ],
        [
         "Oby Sorrel",
         "Organic Choco Syrup",
         "05-Jul-22",
         "$1,232 ",
         74,
         "Canada"
        ],
        [
         "Dennison Crosswaite",
         "85% Dark Bars",
         "01-Aug-22",
         "$10,885 ",
         90,
         "Canada"
        ],
        [
         "Oby Sorrel",
         "Raspberry Choco",
         "16-Jun-22",
         "$1,750 ",
         208,
         "Canada"
        ],
        [
         "Karlen McCaffrey",
         "Peanut Butter Cubes",
         "12-Aug-22",
         "$3,094 ",
         159,
         "Canada"
        ],
        [
         "Husein Augar",
         "Eclairs",
         "17-Jan-22",
         "$3,696 ",
         233,
         "Canada"
        ],
        [
         "Karlen McCaffrey",
         "Raspberry Choco",
         "09-May-22",
         "$651 ",
         224,
         "Canada"
        ],
        [
         "Mallorie Waber",
         "Manuka Honey Choco",
         "07-Mar-22",
         "$1,435 ",
         112,
         "Canada"
        ],
        [
         "Curtice Advani",
         "99% Dark & Pure",
         "07-Jul-22",
         "$12,586 ",
         7,
         "Canada"
        ],
        [
         "Brien Boise",
         "Manuka Honey Choco",
         "09-Aug-22",
         "$6,930 ",
         182,
         "Canada"
        ],
        [
         "Jan Morforth",
         "Mint Chip Choco",
         "01-Apr-22",
         "$1,064 ",
         211,
         "Canada"
        ],
        [
         "Camilla Castle",
         "70% Dark Bites",
         "27-Jul-22",
         "$9,716 ",
         151,
         "Canada"
        ],
        [
         "Gigi Bohling",
         "Almond Choco",
         "01-Feb-22",
         "$9,989 ",
         49,
         "Canada"
        ],
        [
         "Mallorie Waber",
         "White Choc",
         "03-Mar-22",
         "$3,381 ",
         72,
         "Canada"
        ],
        [
         "Jan Morforth",
         "Caramel Stuffed Bars",
         "02-Aug-22",
         "$9,541 ",
         114,
         "Canada"
        ],
        [
         "Kaine Padly",
         "Manuka Honey Choco",
         "18-Jan-22",
         "$10,213 ",
         135,
         "Canada"
        ],
        [
         "Dotty Strutley",
         "Manuka Honey Choco",
         "22-Apr-22",
         "$11,550 ",
         111,
         "Canada"
        ],
        [
         "Jan Morforth",
         "Fruit & Nut Bars",
         "25-Jul-22",
         "$8,904 ",
         199,
         "Canada"
        ],
        [
         "Husein Augar",
         "After Nines",
         "19-Jan-22",
         "$9,772 ",
         301,
         "Canada"
        ],
        [
         "Madelene Upcott",
         "85% Dark Bars",
         "17-Feb-22",
         "$7,504 ",
         101,
         "Canada"
        ],
        [
         "Dennison Crosswaite",
         "Smooth Sliky Salty",
         "17-Mar-22",
         "$1,750 ",
         479,
         "Canada"
        ],
        [
         "Ches Bonnell",
         "Choco Coated Almonds",
         "24-Aug-22",
         "$15,547 ",
         269,
         "Canada"
        ],
        [
         "Gigi Bohling",
         "Spicy Special Slims",
         "04-Jul-22",
         "$11,956 ",
         277,
         "Canada"
        ],
        [
         "Gigi Bohling",
         "Milk Bars",
         "10-Feb-22",
         "$3,052 ",
         116,
         "Canada"
        ],
        [
         "Kelci Walkden",
         "Peanut Butter Cubes",
         "08-Apr-22",
         "$7,532 ",
         44,
         "Canada"
        ],
        [
         "Gigi Bohling",
         "Drinking Coco",
         "06-Jul-22",
         "$3,549 ",
         82,
         "Canada"
        ],
        [
         "Andria Kimpton",
         "Eclairs",
         "11-Aug-22",
         "$308 ",
         125,
         "Canada"
        ],
        [
         "Brien Boise",
         "Raspberry Choco",
         "14-Jun-22",
         "$2,800 ",
         45,
         "Canada"
        ],
        [
         "Van Tuxwell",
         "Raspberry Choco",
         "17-Mar-22",
         "$1,267 ",
         130,
         "Canada"
        ],
        [
         "Gunar Cockshoot",
         "After Nines",
         "04-Aug-22",
         "$2,744 ",
         200,
         "Canada"
        ],
        [
         "Jan Morforth",
         "After Nines",
         "13-Jul-22",
         "$4,515 ",
         172,
         "Canada"
        ],
        [
         "Curtice Advani",
         "Choco Coated Almonds",
         "18-Aug-22",
         "$5,859 ",
         7,
         "Canada"
        ],
        [
         "Gunar Cockshoot",
         "50% Dark Bites",
         "04-Jan-22",
         "$3,024 ",
         23,
         "Canada"
        ],
        [
         "Andria Kimpton",
         "Manuka Honey Choco",
         "21-Jul-22",
         "$4,858 ",
         488,
         "Canada"
        ],
        [
         "Andria Kimpton",
         "Smooth Sliky Salty",
         "08-Jul-22",
         "$1,155 ",
         79,
         "Canada"
        ],
        [
         "Jehu Rudeforth",
         "Orange Choco",
         "23-Jun-22",
         "$3,857 ",
         512,
         "Canada"
        ],
        [
         "Kaine Padly",
         "85% Dark Bars",
         "06-Apr-22",
         "$1,729 ",
         31,
         "Canada"
        ],
        [
         "Van Tuxwell",
         "Peanut Butter Cubes",
         "24-Jun-22",
         "$6,342 ",
         282,
         "Canada"
        ],
        [
         "Roddy Speechley",
         "Smooth Sliky Salty",
         "07-Mar-22",
         "$9,338 ",
         11,
         "Canada"
        ],
        [
         "Curtice Advani",
         "Organic Choco Syrup",
         "22-Feb-22",
         "$791 ",
         22,
         "Canada"
        ],
        [
         "Rafaelita Blaksland",
         "Drinking Coco",
         "12-Jul-22",
         "$9,884 ",
         200,
         "Canada"
        ],
        [
         "Roddy Speechley",
         "Eclairs",
         "08-Mar-22",
         "$6,237 ",
         88,
         "Canada"
        ],
        [
         "Gigi Bohling",
         "White Choc",
         "11-Jul-22",
         "$6,587 ",
         4,
         "Canada"
        ],
        [
         "Rafaelita Blaksland",
         "Fruit & Nut Bars",
         "24-Aug-22",
         "$483 ",
         185,
         "Canada"
        ],
        [
         "Gunar Cockshoot",
         "Almond Choco",
         "28-Jul-22",
         "$1,309 ",
         30,
         "Canada"
        ],
        [
         "Dennison Crosswaite",
         "Mint Chip Choco",
         "08-Apr-22",
         "$1,694 ",
         289,
         "Canada"
        ],
        [
         "Beverie Moffet",
         "Orange Choco",
         "10-May-22",
         "$8,722 ",
         109,
         "Canada"
        ],
        [
         "Van Tuxwell",
         "50% Dark Bites",
         "12-May-22",
         "$13,685 ",
         58,
         "Canada"
        ],
        [
         "Kelci Walkden",
         "Smooth Sliky Salty",
         "17-Mar-22",
         "$8,099 ",
         118,
         "Canada"
        ],
        [
         "Gigi Bohling",
         "Fruit & Nut Bars",
         "14-Jun-22",
         "$5,782 ",
         103,
         "Canada"
        ],
        [
         "Curtice Advani",
         "70% Dark Bites",
         "31-Jan-22",
         "$2,303 ",
         7,
         "Canada"
        ],
        [
         "Van Tuxwell",
         "Choco Coated Almonds",
         "19-Aug-22",
         "$2,282 ",
         296,
         "Canada"
        ],
        [
         "Karlen McCaffrey",
         "70% Dark Bites",
         "24-Jun-22",
         "$7,714 ",
         597,
         "Canada"
        ],
        [
         "Kelci Walkden",
         "Fruit & Nut Bars",
         "20-Jun-22",
         "$826 ",
         149,
         "Canada"
        ],
        [
         "Jan Morforth",
         "70% Dark Bites",
         "14-Feb-22",
         "$5,894 ",
         305,
         "Canada"
        ],
        [
         "Barr Faughny",
         "Manuka Honey Choco",
         "25-Aug-22",
         "$3,402 ",
         249,
         "Canada"
        ],
        [
         "Kaine Padly",
         "Choco Coated Almonds",
         "18-May-22",
         "$3,164 ",
         164,
         "Canada"
        ],
        [
         "Andria Kimpton",
         "White Choc",
         "14-Feb-22",
         "$4,067 ",
         29,
         "Canada"
        ],
        [
         "Ches Bonnell",
         "Smooth Sliky Salty",
         "16-Mar-22",
         "$9,870 ",
         121,
         "Canada"
        ],
        [
         "Husein Augar",
         "70% Dark Bites",
         "31-Jan-22",
         "$5,131 ",
         285,
         "Canada"
        ],
        [
         "Barr Faughny",
         "Organic Choco Syrup",
         "10-Mar-22",
         "$1,141 ",
         205,
         "Canada"
        ],
        [
         "Marney O'Breen",
         "Orange Choco",
         "14-Jan-22",
         "$2,723 ",
         425,
         "Canada"
        ],
        [
         "Brien Boise",
         "Smooth Sliky Salty",
         "13-May-22",
         "$5,691 ",
         495,
         "Canada"
        ],
        [
         "Barr Faughny",
         "Baker's Choco Chips",
         "03-Feb-22",
         "$10,969 ",
         170,
         "Canada"
        ],
        [
         "Barr Faughny",
         "White Choc",
         "29-Mar-22",
         "$4,291 ",
         1,
         "Canada"
        ],
        [
         "Mallorie Waber",
         "Smooth Sliky Salty",
         "21-Mar-22",
         "$1,939 ",
         98,
         "Canada"
        ],
        [
         "Madelene Upcott",
         "Choco Coated Almonds",
         "20-Jul-22",
         "$3,458 ",
         294,
         "Canada"
        ],
        [
         "Jehu Rudeforth",
         "White Choc",
         "25-Jan-22",
         "$4,627 ",
         136,
         "Canada"
        ],
        [
         "Dotty Strutley",
         "After Nines",
         "17-Jan-22",
         "$252 ",
         237,
         "Canada"
        ],
        [
         "Karlen McCaffrey",
         "Fruit & Nut Bars",
         "02-Jun-22",
         "$210 ",
         16,
         "Canada"
        ],
        [
         "Marney O'Breen",
         "Caramel Stuffed Bars",
         "23-Feb-22",
         "$1,372 ",
         614,
         "Canada"
        ],
        [
         "Gunar Cockshoot",
         "White Choc",
         "11-Aug-22",
         "$7,560 ",
         15,
         "Canada"
        ],
        [
         "Barr Faughny",
         "Drinking Coco",
         "18-Apr-22",
         "$6,237 ",
         247,
         "Canada"
        ],
        [
         "Curtice Advani",
         "Peanut Butter Cubes",
         "19-May-22",
         "$4,935 ",
         63,
         "Canada"
        ],
        [
         "Husein Augar",
         "Choco Coated Almonds",
         "15-Aug-22",
         "$3,381 ",
         408,
         "Canada"
        ],
        [
         "Kelci Walkden",
         "After Nines",
         "13-Jan-22",
         "$16,702 ",
         198,
         "Canada"
        ],
        [
         "Camilla Castle",
         "Orange Choco",
         "17-Feb-22",
         "$7,770 ",
         54,
         "Canada"
        ],
        [
         "Oby Sorrel",
         "50% Dark Bites",
         "24-Jun-22",
         "$6,615 ",
         137,
         "Canada"
        ],
        [
         "Gunar Cockshoot",
         "Spicy Special Slims",
         "05-Apr-22",
         "$13,405 ",
         12,
         "Canada"
        ],
        [
         "Madelene Upcott",
         "Peanut Butter Cubes",
         "05-Jul-22",
         "$14,763 ",
         113,
         "Canada"
        ],
        [
         "Roddy Speechley",
         "Choco Coated Almonds",
         "11-May-22",
         "$5,873 ",
         249,
         "Canada"
        ],
        [
         "Oby Sorrel",
         "Peanut Butter Cubes",
         "07-Jun-22",
         "$12,425 ",
         167,
         "Canada"
        ],
        [
         "Wilone O'Kielt",
         "Smooth Sliky Salty",
         "02-Jun-22",
         "$4,991 ",
         166,
         "Canada"
        ],
        [
         "Rafaelita Blaksland",
         "99% Dark & Pure",
         "02-Mar-22",
         "$5,096 ",
         142,
         "Canada"
        ],
        [
         "Barr Faughny",
         "Orange Choco",
         "30-Jun-22",
         "$7,602 ",
         18,
         "Canada"
        ],
        [
         "Wilone O'Kielt",
         "Fruit & Nut Bars",
         "08-Aug-22",
         "$3,437 ",
         181,
         "Canada"
        ],
        [
         "Oby Sorrel",
         "Fruit & Nut Bars",
         "14-Jan-22",
         "$1,869 ",
         158,
         "Canada"
        ],
        [
         "Karlen McCaffrey",
         "Caramel Stuffed Bars",
         "02-Mar-22",
         "$3,346 ",
         304,
         "Canada"
        ],
        [
         "Beverie Moffet",
         "Fruit & Nut Bars",
         "14-Feb-22",
         "$10,332 ",
         180,
         "Canada"
        ],
        [
         "Mallorie Waber",
         "Caramel Stuffed Bars",
         "10-Jun-22",
         "$4,844 ",
         539,
         "Canada"
        ],
        [
         "Beverie Moffet",
         "Drinking Coco",
         "05-Jul-22",
         "$994 ",
         118,
         "Canada"
        ],
        [
         "Mallorie Waber",
         "Almond Choco",
         "12-May-22",
         "$4,214 ",
         35,
         "Canada"
        ],
        [
         "Jehu Rudeforth",
         "Manuka Honey Choco",
         "05-Apr-22",
         "$3,584 ",
         200,
         "Canada"
        ],
        [
         "Camilla Castle",
         "Drinking Coco",
         "03-Mar-22",
         "$12,481 ",
         264,
         "Canada"
        ],
        [
         "Kaine Padly",
         "After Nines",
         "22-Aug-22",
         "$5,845 ",
         172,
         "Canada"
        ],
        [
         "Kaine Padly",
         "Organic Choco Syrup",
         "29-Mar-22",
         "$5,684 ",
         81,
         "Canada"
        ],
        [
         "Andria Kimpton",
         "70% Dark Bites",
         "08-Apr-22",
         "$10,262 ",
         15,
         "Canada"
        ],
        [
         "Van Tuxwell",
         "Drinking Coco",
         "15-Jun-22",
         "$4,900 ",
         709,
         "Canada"
        ],
        [
         "Beverie Moffet",
         "85% Dark Bars",
         "16-Feb-22",
         "$6,139 ",
         45,
         "Canada"
        ],
        [
         "Van Tuxwell",
         "70% Dark Bites",
         "02-Jun-22",
         "$7,077 ",
         77,
         "Canada"
        ],
        [
         "Rafaelita Blaksland",
         "Spicy Special Slims",
         "02-May-22",
         "$2,520 ",
         156,
         "Canada"
        ],
        [
         "Marney O'Breen",
         "Peanut Butter Cubes",
         "08-Mar-22",
         "$6,594 ",
         91,
         "Canada"
        ],
        [
         "Curtice Advani",
         "Eclairs",
         "06-May-22",
         "$721 ",
         203,
         "Canada"
        ],
        [
         "Andria Kimpton",
         "Peanut Butter Cubes",
         "16-Feb-22",
         "$1,127 ",
         319,
         "Canada"
        ],
        [
         "Roddy Speechley",
         "Drinking Coco",
         "17-May-22",
         "$6,776 ",
         312,
         "Canada"
        ],
        [
         "Madelene Upcott",
         "Milk Bars",
         "26-Apr-22",
         "$3,612 ",
         82,
         "Canada"
        ],
        [
         "Oby Sorrel",
         "Eclairs",
         "19-May-22",
         "$6,111 ",
         591,
         "Canada"
        ],
        [
         "Dennison Crosswaite",
         "Drinking Coco",
         "10-Jan-22",
         "$2,702 ",
         24,
         "Canada"
        ],
        [
         "Roddy Speechley",
         "White Choc",
         "05-Apr-22",
         "$5,887 ",
         268,
         "Canada"
        ],
        [
         "Oby Sorrel",
         "Orange Choco",
         "27-Apr-22",
         "$8,757 ",
         338,
         "Canada"
        ],
        [
         "Kaine Padly",
         "Almond Choco",
         "12-Aug-22",
         "$6,055 ",
         73,
         "Canada"
        ],
        [
         "Dennison Crosswaite",
         "Organic Choco Syrup",
         "28-Jan-22",
         "$8,491 ",
         75,
         "Canada"
        ],
        [
         "Ches Bonnell",
         "Organic Choco Syrup",
         "26-Jul-22",
         "$574 ",
         217,
         "Canada"
        ],
        [
         "Jehu Rudeforth",
         "50% Dark Bites",
         "20-Apr-22",
         "$3,990 ",
         59,
         "New Zealand"
        ],
        [
         "Karlen McCaffrey",
         "Drinking Coco",
         "28-Jul-22",
         "$168 ",
         156,
         "New Zealand"
        ],
        [
         "Marney O'Breen",
         "Peanut Butter Cubes",
         "03-Aug-22",
         "$8,379 ",
         173,
         "New Zealand"
        ],
        [
         "Dennison Crosswaite",
         "White Choc",
         "05-Jul-22",
         "$9,492 ",
         151,
         "New Zealand"
        ],
        [
         "Dennison Crosswaite",
         "Manuka Honey Choco",
         "15-Jun-22",
         "$5,061 ",
         301,
         "New Zealand"
        ],
        [
         "Van Tuxwell",
         "85% Dark Bars",
         "24-May-22",
         "$1,722 ",
         121,
         "New Zealand"
        ],
        [
         "Kelci Walkden",
         "After Nines",
         "07-Jul-22",
         "$147 ",
         72,
         "New Zealand"
        ],
        [
         "Ches Bonnell",
         "Spicy Special Slims",
         "14-Feb-22",
         "$3,556 ",
         18,
         "New Zealand"
        ],
        [
         "Jehu Rudeforth",
         "White Choc",
         "11-Mar-22",
         "$2,800 ",
         241,
         "New Zealand"
        ],
        [
         "Andria Kimpton",
         "Peanut Butter Cubes",
         "20-Jun-22",
         "$959 ",
         265,
         "New Zealand"
        ],
        [
         "Brien Boise",
         "Mint Chip Choco",
         "01-Aug-22",
         "$63 ",
         181,
         "New Zealand"
        ],
        [
         "Roddy Speechley",
         "After Nines",
         "25-May-22",
         "$8,001 ",
         10,
         "New Zealand"
        ],
        [
         "Roddy Speechley",
         "Orange Choco",
         "01-Apr-22",
         "$49 ",
         97,
         "New Zealand"
        ],
        [
         "Karlen McCaffrey",
         "70% Dark Bites",
         "02-Aug-22",
         "$126 ",
         40,
         "New Zealand"
        ],
        [
         "Marney O'Breen",
         "After Nines",
         "09-Mar-22",
         "$1,561 ",
         44,
         "New Zealand"
        ],
        [
         "Beverie Moffet",
         "White Choc",
         "24-Mar-22",
         "$7,126 ",
         7,
         "New Zealand"
        ],
        [
         "Gigi Bohling",
         "Fruit & Nut Bars",
         "04-Apr-22",
         "$10,976 ",
         121,
         "New Zealand"
        ],
        [
         "Wilone O'Kielt",
         "85% Dark Bars",
         "02-Aug-22",
         "$1,827 ",
         117,
         "New Zealand"
        ],
        [
         "Gigi Bohling",
         "Manuka Honey Choco",
         "28-Jun-22",
         "$8,267 ",
         272,
         "New Zealand"
        ],
        [
         "Rafaelita Blaksland",
         "Choco Coated Almonds",
         "07-Jun-22",
         "$2,093 ",
         45,
         "New Zealand"
        ],
        [
         "Brien Boise",
         "Smooth Sliky Salty",
         "18-Jan-22",
         "$1,015 ",
         27,
         "New Zealand"
        ],
        [
         "Rafaelita Blaksland",
         "Caramel Stuffed Bars",
         "20-May-22",
         "$13,083 ",
         14,
         "New Zealand"
        ],
        [
         "Mallorie Waber",
         "Manuka Honey Choco",
         "13-Apr-22",
         "$9,436 ",
         11,
         "New Zealand"
        ],
        [
         "Roddy Speechley",
         "Milk Bars",
         "02-Mar-22",
         "$5,446 ",
         116,
         "New Zealand"
        ],
        [
         "Husein Augar",
         "Caramel Stuffed Bars",
         "27-Jan-22",
         "$497 ",
         475,
         "New Zealand"
        ],
        [
         "Barr Faughny",
         "Raspberry Choco",
         "29-Jul-22",
         "$6,468 ",
         66,
         "New Zealand"
        ],
        [
         "Van Tuxwell",
         "Smooth Sliky Salty",
         "14-Jun-22",
         "$3,115 ",
         42,
         "New Zealand"
        ],
        [
         "Camilla Castle",
         "Mint Chip Choco",
         "13-Jun-22",
         "$1,162 ",
         190,
         "New Zealand"
        ],
        [
         "Beverie Moffet",
         "Baker's Choco Chips",
         "03-Aug-22",
         "$1,372 ",
         144,
         "New Zealand"
        ],
        [
         "Mallorie Waber",
         "White Choc",
         "25-Feb-22",
         "$3,171 ",
         246,
         "New Zealand"
        ],
        [
         "Mallorie Waber",
         "Organic Choco Syrup",
         "01-Jul-22",
         "$5,075 ",
         256,
         "New Zealand"
        ],
        [
         "Kaine Padly",
         "Spicy Special Slims",
         "01-Jul-22",
         "$7,728 ",
         37,
         "New Zealand"
        ],
        [
         "Ches Bonnell",
         "Milk Bars",
         "17-Aug-22",
         "$4,389 ",
         126,
         "New Zealand"
        ],
        [
         "Barr Faughny",
         "85% Dark Bars",
         "23-May-22",
         "$2,100 ",
         157,
         "New Zealand"
        ],
        [
         "Dennison Crosswaite",
         "Mint Chip Choco",
         "05-Apr-22",
         "$6,454 ",
         417,
         "New Zealand"
        ],
        [
         "Marney O'Breen",
         "Smooth Sliky Salty",
         "14-Jun-22",
         "$8,484 ",
         57,
         "New Zealand"
        ],
        [
         "Wilone O'Kielt",
         "Mint Chip Choco",
         "19-Aug-22",
         "$11,662 ",
         242,
         "New Zealand"
        ],
        [
         "Marney O'Breen",
         "Milk Bars",
         "14-Jan-22",
         "$7,490 ",
         315,
         "New Zealand"
        ],
        [
         "Barr Faughny",
         "Almond Choco",
         "13-Jan-22",
         "$5,558 ",
         127,
         "New Zealand"
        ],
        [
         "Beverie Moffet",
         "85% Dark Bars",
         "30-Aug-22",
         "$11,200 ",
         22,
         "New Zealand"
        ],
        [
         "Oby Sorrel",
         "Smooth Sliky Salty",
         "07-Jul-22",
         "$8,673 ",
         60,
         "New Zealand"
        ],
        [
         "Andria Kimpton",
         "50% Dark Bites",
         "02-Mar-22",
         "$3,374 ",
         202,
         "New Zealand"
        ],
        [
         "Ches Bonnell",
         "Peanut Butter Cubes",
         "04-Mar-22",
         "$889 ",
         273,
         "New Zealand"
        ],
        [
         "Gunar Cockshoot",
         "Spicy Special Slims",
         "28-Jun-22",
         "$6,867 ",
         183,
         "New Zealand"
        ],
        [
         "Karlen McCaffrey",
         "Fruit & Nut Bars",
         "07-Feb-22",
         "$1,218 ",
         135,
         "New Zealand"
        ],
        [
         "Dennison Crosswaite",
         "Drinking Coco",
         "11-Jan-22",
         "$4,109 ",
         197,
         "New Zealand"
        ],
        [
         "Madelene Upcott",
         "Raspberry Choco",
         "18-May-22",
         "$9,226 ",
         415,
         "New Zealand"
        ],
        [
         "Dotty Strutley",
         "Choco Coated Almonds",
         "04-Jan-22",
         "$5,733 ",
         348,
         "New Zealand"
        ],
        [
         "Roddy Speechley",
         "50% Dark Bites",
         "09-May-22",
         "$4,312 ",
         211,
         "New Zealand"
        ],
        [
         "Wilone O'Kielt",
         "Manuka Honey Choco",
         "11-Jul-22",
         "$3,724 ",
         234,
         "New Zealand"
        ],
        [
         "Wilone O'Kielt",
         "Almond Choco",
         "15-Mar-22",
         "$9,198 ",
         144,
         "New Zealand"
        ],
        [
         "Oby Sorrel",
         "Baker's Choco Chips",
         "25-Apr-22",
         "$11,823 ",
         47,
         "New Zealand"
        ],
        [
         "Roddy Speechley",
         "Baker's Choco Chips",
         "22-Feb-22",
         "$5,313 ",
         215,
         "New Zealand"
        ],
        [
         "Rafaelita Blaksland",
         "70% Dark Bites",
         "24-Aug-22",
         "$679 ",
         280,
         "New Zealand"
        ],
        [
         "Karlen McCaffrey",
         "Eclairs",
         "06-May-22",
         "$2,597 ",
         177,
         "New Zealand"
        ],
        [
         "Brien Boise",
         "Baker's Choco Chips",
         "12-Jul-22",
         "$5,978 ",
         24,
         "New Zealand"
        ],
        [
         "Oby Sorrel",
         "White Choc",
         "10-Jun-22",
         "$4,361 ",
         40,
         "New Zealand"
        ],
        [
         "Karlen McCaffrey",
         "Caramel Stuffed Bars",
         "31-Jan-22",
         "$5,334 ",
         227,
         "New Zealand"
        ],
        [
         "Andria Kimpton",
         "Organic Choco Syrup",
         "04-Mar-22",
         "$4,935 ",
         39,
         "New Zealand"
        ],
        [
         "Barr Faughny",
         "After Nines",
         "19-Apr-22",
         "$10,024 ",
         84,
         "New Zealand"
        ],
        [
         "Madelene Upcott",
         "Caramel Stuffed Bars",
         "01-Feb-22",
         "$3,374 ",
         151,
         "New Zealand"
        ],
        [
         "Dennison Crosswaite",
         "Orange Choco",
         "16-Mar-22",
         "$4,571 ",
         140,
         "New Zealand"
        ],
        [
         "Jan Morforth",
         "Mint Chip Choco",
         "30-Jun-22",
         "$18,340 ",
         285,
         "New Zealand"
        ],
        [
         "Dotty Strutley",
         "White Choc",
         "15-Jun-22",
         "$7,014 ",
         60,
         "New Zealand"
        ],
        [
         "Oby Sorrel",
         "Raspberry Choco",
         "13-May-22",
         "$4,550 ",
         281,
         "New Zealand"
        ],
        [
         "Ches Bonnell",
         "Organic Choco Syrup",
         "15-Jul-22",
         "$7,623 ",
         85,
         "New Zealand"
        ],
        [
         "Camilla Castle",
         "Spicy Special Slims",
         "25-Jan-22",
         "$11,564 ",
         24,
         "New Zealand"
        ],
        [
         "Curtice Advani",
         "Spicy Special Slims",
         "10-Jan-22",
         "$4,074 ",
         469,
         "New Zealand"
        ],
        [
         "Barr Faughny",
         "Fruit & Nut Bars",
         "26-Apr-22",
         "$1,687 ",
         147,
         "New Zealand"
        ],
        [
         "Van Tuxwell",
         "Mint Chip Choco",
         "27-Jun-22",
         "$4,046 ",
         103,
         "New Zealand"
        ],
        [
         "Barr Faughny",
         "Eclairs",
         "28-Mar-22",
         "$6,713 ",
         31,
         "New Zealand"
        ],
        [
         "Barr Faughny",
         "Mint Chip Choco",
         "21-Feb-22",
         "$6,440 ",
         145,
         "New Zealand"
        ],
        [
         "Beverie Moffet",
         "Smooth Sliky Salty",
         "19-May-22",
         "$2,387 ",
         59,
         "New Zealand"
        ],
        [
         "Marney O'Breen",
         "Fruit & Nut Bars",
         "25-Aug-22",
         "$8,939 ",
         4,
         "New Zealand"
        ],
        [
         "Brien Boise",
         "Manuka Honey Choco",
         "14-Jun-22",
         "$14,980 ",
         42,
         "New Zealand"
        ],
        [
         "Jehu Rudeforth",
         "After Nines",
         "14-Apr-22",
         "$1,512 ",
         73,
         "New Zealand"
        ],
        [
         "Oby Sorrel",
         "Organic Choco Syrup",
         "17-Feb-22",
         "$15,316 ",
         270,
         "New Zealand"
        ],
        [
         "Kelci Walkden",
         "Drinking Coco",
         "10-Mar-22",
         "$15,855 ",
         111,
         "New Zealand"
        ],
        [
         "Marney O'Breen",
         "85% Dark Bars",
         "30-May-22",
         "$1,218 ",
         149,
         "New Zealand"
        ],
        [
         "Beverie Moffet",
         "Mint Chip Choco",
         "09-Jun-22",
         "$4,361 ",
         97,
         "New Zealand"
        ],
        [
         "Mallorie Waber",
         "Mint Chip Choco",
         "31-Jan-22",
         "$1,316 ",
         107,
         "New Zealand"
        ],
        [
         "Brien Boise",
         "White Choc",
         "15-Jun-22",
         "$5,509 ",
         321,
         "New Zealand"
        ],
        [
         "Camilla Castle",
         "Caramel Stuffed Bars",
         "17-Jun-22",
         "$4,137 ",
         347,
         "New Zealand"
        ],
        [
         "Madelene Upcott",
         "Peanut Butter Cubes",
         "28-Jan-22",
         "$5,152 ",
         333,
         "New Zealand"
        ],
        [
         "Roddy Speechley",
         "Almond Choco",
         "28-Mar-22",
         "$2,723 ",
         67,
         "New Zealand"
        ],
        [
         "Ches Bonnell",
         "Mint Chip Choco",
         "18-Jan-22",
         "$9,058 ",
         229,
         "New Zealand"
        ],
        [
         "Van Tuxwell",
         "Fruit & Nut Bars",
         "17-Jan-22",
         "$2,996 ",
         88,
         "New Zealand"
        ],
        [
         "Andria Kimpton",
         "Mint Chip Choco",
         "15-Feb-22",
         "$8,848 ",
         211,
         "New Zealand"
        ],
        [
         "Gunar Cockshoot",
         "Almond Choco",
         "05-Jan-22",
         "$5,173 ",
         129,
         "New Zealand"
        ],
        [
         "Karlen McCaffrey",
         "Baker's Choco Chips",
         "05-Apr-22",
         "$5,012 ",
         189,
         "New Zealand"
        ],
        [
         "Oby Sorrel",
         "Milk Bars",
         "12-Jan-22",
         "$4,494 ",
         187,
         "New Zealand"
        ],
        [
         "Curtice Advani",
         "Mint Chip Choco",
         "26-Jan-22",
         "$3,220 ",
         265,
         "New Zealand"
        ],
        [
         "Madelene Upcott",
         "Fruit & Nut Bars",
         "18-Jan-22",
         "$5,677 ",
         21,
         "New Zealand"
        ],
        [
         "Jan Morforth",
         "Organic Choco Syrup",
         "02-Mar-22",
         "$1,799 ",
         207,
         "New Zealand"
        ],
        [
         "Gigi Bohling",
         "Raspberry Choco",
         "09-Aug-22",
         "$1,127 ",
         176,
         "New Zealand"
        ],
        [
         "Kelci Walkden",
         "Spicy Special Slims",
         "11-Aug-22",
         "$658 ",
         65,
         "New Zealand"
        ],
        [
         "Barr Faughny",
         "Manuka Honey Choco",
         "24-Feb-22",
         "$5,474 ",
         239,
         "New Zealand"
        ],
        [
         "Karlen McCaffrey",
         "85% Dark Bars",
         "28-Jun-22",
         "$6,069 ",
         55,
         "New Zealand"
        ],
        [
         "Ches Bonnell",
         "After Nines",
         "23-Jun-22",
         "$5,705 ",
         350,
         "New Zealand"
        ],
        [
         "Jan Morforth",
         "Orange Choco",
         "11-Feb-22",
         "$1,225 ",
         84,
         "New Zealand"
        ],
        [
         "Husein Augar",
         "After Nines",
         "04-Aug-22",
         "$6,433 ",
         7,
         "New Zealand"
        ],
        [
         "Andria Kimpton",
         "Orange Choco",
         "14-Jun-22",
         "$8,169 ",
         88,
         "New Zealand"
        ],
        [
         "Gunar Cockshoot",
         "After Nines",
         "09-Aug-22",
         "$7,175 ",
         145,
         "New Zealand"
        ],
        [
         "Jan Morforth",
         "Manuka Honey Choco",
         "28-Jul-22",
         "$1,589 ",
         271,
         "New Zealand"
        ],
        [
         "Gunar Cockshoot",
         "Raspberry Choco",
         "24-Aug-22",
         "$630 ",
         52,
         "New Zealand"
        ],
        [
         "Mallorie Waber",
         "85% Dark Bars",
         "06-Jun-22",
         "$7,714 ",
         106,
         "New Zealand"
        ],
        [
         "Beverie Moffet",
         "Organic Choco Syrup",
         "24-May-22",
         "$6,678 ",
         226,
         "New Zealand"
        ],
        [
         "Jehu Rudeforth",
         "85% Dark Bars",
         "11-Mar-22",
         "$6,972 ",
         89,
         "New Zealand"
        ],
        [
         "Kelci Walkden",
         "Smooth Sliky Salty",
         "11-Mar-22",
         "$10,633 ",
         277,
         "New Zealand"
        ],
        [
         "Curtice Advani",
         "After Nines",
         "05-Apr-22",
         "$7,959 ",
         30,
         "New Zealand"
        ],
        [
         "Wilone O'Kielt",
         "Fruit & Nut Bars",
         "11-Jul-22",
         "$6,426 ",
         98,
         "New Zealand"
        ],
        [
         "Camilla Castle",
         "Peanut Butter Cubes",
         "21-Jul-22",
         "$1,582 ",
         62,
         "New Zealand"
        ],
        [
         "Barr Faughny",
         "50% Dark Bites",
         "23-Jun-22",
         "$4,557 ",
         308,
         "New Zealand"
        ],
        [
         "Camilla Castle",
         "Raspberry Choco",
         "04-Apr-22",
         "$4,746 ",
         137,
         "New Zealand"
        ],
        [
         "Wilone O'Kielt",
         "Eclairs",
         "11-Mar-22",
         "$3,311 ",
         22,
         "New Zealand"
        ],
        [
         "Marney O'Breen",
         "Organic Choco Syrup",
         "08-Jul-22",
         "$8,624 ",
         50,
         "New Zealand"
        ],
        [
         "Kelci Walkden",
         "Baker's Choco Chips",
         "23-Jun-22",
         "$2,912 ",
         110,
         "New Zealand"
        ],
        [
         "Rafaelita Blaksland",
         "Eclairs",
         "07-Feb-22",
         "$19,481 ",
         51,
         "New Zealand"
        ],
        [
         "Marney O'Breen",
         "Eclairs",
         "18-Jan-22",
         "$4,914 ",
         31,
         "New Zealand"
        ],
        [
         "Gunar Cockshoot",
         "Fruit & Nut Bars",
         "10-Jun-22",
         "$9,205 ",
         419,
         "New Zealand"
        ],
        [
         "Kelci Walkden",
         "Manuka Honey Choco",
         "08-Apr-22",
         "$1,358 ",
         106,
         "New Zealand"
        ],
        [
         "Madelene Upcott",
         "70% Dark Bites",
         "22-Feb-22",
         "$13,356 ",
         93,
         "New Zealand"
        ],
        [
         "Mallorie Waber",
         "Orange Choco",
         "01-Feb-22",
         "$6,510 ",
         23,
         "New Zealand"
        ],
        [
         "Oby Sorrel",
         "Spicy Special Slims",
         "03-Jun-22",
         "$1,617 ",
         13,
         "New Zealand"
        ],
        [
         "Beverie Moffet",
         "Peanut Butter Cubes",
         "23-Feb-22",
         "$10,822 ",
         30,
         "New Zealand"
        ],
        [
         "Dotty Strutley",
         "99% Dark & Pure",
         "09-May-22",
         "$10,724 ",
         203,
         "New Zealand"
        ],
        [
         "Brien Boise",
         "Drinking Coco",
         "06-Jun-22",
         "$1,582 ",
         100,
         "New Zealand"
        ],
        [
         "Wilone O'Kielt",
         "Organic Choco Syrup",
         "31-Jan-22",
         "$2,016 ",
         277,
         "New Zealand"
        ],
        [
         "Ches Bonnell",
         "Caramel Stuffed Bars",
         "30-Jun-22",
         "$7,588 ",
         42,
         "New Zealand"
        ],
        [
         "Gigi Bohling",
         "Smooth Sliky Salty",
         "10-Jan-22",
         "$700 ",
         97,
         "New Zealand"
        ],
        [
         "Roddy Speechley",
         "85% Dark Bars",
         "14-Apr-22",
         "$4,844 ",
         275,
         "New Zealand"
        ],
        [
         "Kaine Padly",
         "70% Dark Bites",
         "24-Mar-22",
         "$7,231 ",
         38,
         "New Zealand"
        ],
        [
         "Ches Bonnell",
         "Eclairs",
         "04-Apr-22",
         "$490 ",
         49,
         "New Zealand"
        ],
        [
         "Brien Boise",
         "Organic Choco Syrup",
         "17-Jan-22",
         "$637 ",
         313,
         "New Zealand"
        ],
        [
         "Gigi Bohling",
         "Orange Choco",
         "16-May-22",
         "$8,204 ",
         307,
         "New Zealand"
        ],
        [
         "Van Tuxwell",
         "Eclairs",
         "01-Mar-22",
         "$5,229 ",
         182,
         "New Zealand"
        ],
        [
         "Karlen McCaffrey",
         "Mint Chip Choco",
         "02-Mar-22",
         "$4,326 ",
         61,
         "New Zealand"
        ],
        [
         "Van Tuxwell",
         "Baker's Choco Chips",
         "22-Mar-22",
         "$9,660 ",
         24,
         "New Zealand"
        ],
        [
         "Dotty Strutley",
         "Raspberry Choco",
         "10-Feb-22",
         "$5,845 ",
         91,
         "New Zealand"
        ],
        [
         "Brien Boise",
         "70% Dark Bites",
         "15-Jun-22",
         "$7,231 ",
         130,
         "New Zealand"
        ],
        [
         "Kaine Padly",
         "Smooth Sliky Salty",
         "12-Apr-22",
         "$7 ",
         518,
         "New Zealand"
        ],
        [
         "Rafaelita Blaksland",
         "After Nines",
         "07-Jul-22",
         "$1,099 ",
         92,
         "New Zealand"
        ],
        [
         "Madelene Upcott",
         "Mint Chip Choco",
         "11-Mar-22",
         "$7,413 ",
         4,
         "New Zealand"
        ],
        [
         "Beverie Moffet",
         "Drinking Coco",
         "12-Jan-22",
         "$1,141 ",
         518,
         "New Zealand"
        ],
        [
         "Wilone O'Kielt",
         "Baker's Choco Chips",
         "22-Apr-22",
         "$3,836 ",
         59,
         "New Zealand"
        ],
        [
         "Dennison Crosswaite",
         "Organic Choco Syrup",
         "04-Jan-22",
         "$371 ",
         229,
         "New Zealand"
        ],
        [
         "Husein Augar",
         "Peanut Butter Cubes",
         "16-Feb-22",
         "$2,058 ",
         236,
         "New Zealand"
        ],
        [
         "Gigi Bohling",
         "After Nines",
         "21-Jan-22",
         "$5,600 ",
         181,
         "New Zealand"
        ],
        [
         "Rafaelita Blaksland",
         "99% Dark & Pure",
         "25-Mar-22",
         "$3,164 ",
         84,
         "New Zealand"
        ],
        [
         "Curtice Advani",
         "85% Dark Bars",
         "12-May-22",
         "$5,404 ",
         187,
         "New Zealand"
        ],
        [
         "Barr Faughny",
         "Smooth Sliky Salty",
         "25-Jan-22",
         "$3,990 ",
         169,
         "New Zealand"
        ],
        [
         "Kaine Padly",
         "Eclairs",
         "20-Jan-22",
         "$12,894 ",
         48,
         "New Zealand"
        ],
        [
         "Ches Bonnell",
         "Drinking Coco",
         "16-Feb-22",
         "$8,302 ",
         131,
         "New Zealand"
        ],
        [
         "Van Tuxwell",
         "50% Dark Bites",
         "11-Jul-22",
         "$3,626 ",
         10,
         "New Zealand"
        ],
        [
         "Kelci Walkden",
         "White Choc",
         "13-Apr-22",
         "$7,609 ",
         150,
         "New Zealand"
        ],
        [
         "Madelene Upcott",
         "White Choc",
         "22-Aug-22",
         "$10,794 ",
         51,
         "New Zealand"
        ],
        [
         "Camilla Castle",
         "99% Dark & Pure",
         "26-Aug-22",
         "$2,268 ",
         42,
         "New Zealand"
        ],
        [
         "Gigi Bohling",
         "50% Dark Bites",
         "29-Jun-22",
         "$5,670 ",
         64,
         "New Zealand"
        ],
        [
         "Curtice Advani",
         "Peanut Butter Cubes",
         "15-Mar-22",
         "$1,533 ",
         434,
         "New Zealand"
        ],
        [
         "Curtice Advani",
         "50% Dark Bites",
         "27-Jan-22",
         "$9,765 ",
         85,
         "New Zealand"
        ],
        [
         "Brien Boise",
         "Eclairs",
         "11-Jul-22",
         "$4,690 ",
         299,
         "New Zealand"
        ],
        [
         "Gunar Cockshoot",
         "Choco Coated Almonds",
         "01-Aug-22",
         "$13,062 ",
         62,
         "New Zealand"
        ],
        [
         "Marney O'Breen",
         "70% Dark Bites",
         "14-Feb-22",
         "$8,603 ",
         352,
         "New Zealand"
        ],
        [
         "Roddy Speechley",
         "99% Dark & Pure",
         "18-Apr-22",
         "$7,483 ",
         183,
         "New Zealand"
        ],
        [
         "Oby Sorrel",
         "85% Dark Bars",
         "01-Feb-22",
         "$3,381 ",
         417,
         "New Zealand"
        ],
        [
         "Dotty Strutley",
         "Orange Choco",
         "04-Aug-22",
         "$2,030 ",
         146,
         "New Zealand"
        ],
        [
         "Andria Kimpton",
         "Almond Choco",
         "05-Apr-22",
         "$6,559 ",
         158,
         "New Zealand"
        ],
        [
         "Jehu Rudeforth",
         "Milk Bars",
         "18-May-22",
         "$2,478 ",
         188,
         "New Zealand"
        ],
        [
         "Beverie Moffet",
         "Spicy Special Slims",
         "07-Jun-22",
         "$63 ",
         60,
         "New Zealand"
        ],
        [
         "Camilla Castle",
         "85% Dark Bars",
         "08-Aug-22",
         "$15,099 ",
         55,
         "New Zealand"
        ],
        [
         "Mallorie Waber",
         "After Nines",
         "04-May-22",
         "$483 ",
         228,
         "New Zealand"
        ],
        [
         "Madelene Upcott",
         "Milk Bars",
         "29-Mar-22",
         "$12,558 ",
         403,
         "New Zealand"
        ],
        [
         "Barr Faughny",
         "99% Dark & Pure",
         "24-May-22",
         "$8,134 ",
         195,
         "New Zealand"
        ]
       ],
       "datasetInfos": [],
       "dbfsResultPath": null,
       "isJsonSchema": true,
       "metadata": {},
       "overflow": false,
       "plotOptions": {
        "customPlotOptions": {},
        "displayType": "table",
        "pivotAggregation": null,
        "pivotColumns": null,
        "xColumns": null,
        "yColumns": null
       },
       "removedWidgets": [],
       "schema": [
        {
         "metadata": "{}",
         "name": "Sales Person",
         "type": "\"string\""
        },
        {
         "metadata": "{}",
         "name": "Product",
         "type": "\"string\""
        },
        {
         "metadata": "{}",
         "name": "Date",
         "type": "\"string\""
        },
        {
         "metadata": "{}",
         "name": "Amount",
         "type": "\"string\""
        },
        {
         "metadata": "{}",
         "name": "Boxes Shipped",
         "type": "\"integer\""
        },
        {
         "metadata": "{}",
         "name": "Country",
         "type": "\"string\""
        }
       ],
       "type": "table"
      }
     },
     "output_type": "display_data"
    }
   ],
   "source": [
    "df = spark.read.parquet(\"dbfs:/FileStore/tables/Chocolate_Sales-1.parquet/\", header= True, inferSchema= True)\n",
    "display(df)\n"
   ]
  },
  {
   "cell_type": "code",
   "execution_count": 0,
   "metadata": {
    "application/vnd.databricks.v1+cell": {
     "cellMetadata": {
      "byteLimit": 2048000,
      "rowLimit": 10000
     },
     "collapsed": true,
     "inputWidgets": {},
     "nuid": "bed76865-dfad-40a9-8bac-13c454dcd819",
     "showTitle": false,
     "tableResultSettingsMap": {},
     "title": ""
    }
   },
   "outputs": [
    {
     "output_type": "stream",
     "name": "stdout",
     "output_type": "stream",
     "text": [
      "205"
     ]
    }
   ],
   "source": [
    "df_count = df.filter(df[\"Country\"] == \"Australia\").count()\n",
    "display(df_count)\n"
   ]
  },
  {
   "cell_type": "code",
   "execution_count": 0,
   "metadata": {
    "application/vnd.databricks.v1+cell": {
     "cellMetadata": {
      "byteLimit": 2048000,
      "rowLimit": 10000
     },
     "collapsed": true,
     "inputWidgets": {},
     "nuid": "e43ed531-00b1-450a-a4fc-8c4a166c8518",
     "showTitle": false,
     "tableResultSettingsMap": {},
     "title": ""
    }
   },
   "outputs": [
    {
     "output_type": "display_data",
     "data": {
      "text/html": [
       "<style scoped>\n",
       "  .table-result-container {\n",
       "    max-height: 300px;\n",
       "    overflow: auto;\n",
       "  }\n",
       "  table, th, td {\n",
       "    border: 1px solid black;\n",
       "    border-collapse: collapse;\n",
       "  }\n",
       "  th, td {\n",
       "    padding: 5px;\n",
       "  }\n",
       "  th {\n",
       "    text-align: left;\n",
       "  }\n",
       "</style><div class='table-result-container'><table class='table-result'><thead style='background-color: white'><tr><th>Country</th></tr></thead><tbody><tr><td>Australia</td></tr><tr><td>UK</td></tr><tr><td>India</td></tr><tr><td>USA</td></tr><tr><td>Canada</td></tr><tr><td>New Zealand</td></tr></tbody></table></div>"
      ]
     },
     "metadata": {
      "application/vnd.databricks.v1+output": {
       "addedWidgets": {},
       "aggData": [],
       "aggError": "",
       "aggOverflow": false,
       "aggSchema": [],
       "aggSeriesLimitReached": false,
       "aggType": "",
       "arguments": {},
       "columnCustomDisplayInfos": {},
       "data": [
        [
         "Australia"
        ],
        [
         "UK"
        ],
        [
         "India"
        ],
        [
         "USA"
        ],
        [
         "Canada"
        ],
        [
         "New Zealand"
        ]
       ],
       "datasetInfos": [],
       "dbfsResultPath": null,
       "isJsonSchema": true,
       "metadata": {},
       "overflow": false,
       "plotOptions": {
        "customPlotOptions": {},
        "displayType": "table",
        "pivotAggregation": null,
        "pivotColumns": null,
        "xColumns": null,
        "yColumns": null
       },
       "removedWidgets": [],
       "schema": [
        {
         "metadata": "{}",
         "name": "Country",
         "type": "\"string\""
        }
       ],
       "type": "table"
      }
     },
     "output_type": "display_data"
    }
   ],
   "source": [
    "df_distinct = df.select(\"Country\").distinct()\n",
    "display(df_distinct)"
   ]
  },
  {
   "cell_type": "code",
   "execution_count": 0,
   "metadata": {
    "application/vnd.databricks.v1+cell": {
     "cellMetadata": {
      "byteLimit": 2048000,
      "rowLimit": 10000
     },
     "inputWidgets": {},
     "nuid": "b3103a11-7609-4d64-96ee-df1242cd0daf",
     "showTitle": false,
     "tableResultSettingsMap": {},
     "title": ""
    }
   },
   "outputs": [],
   "source": [
    "df.write\\\n",
    "    .partitionBy(\"Country\")\\\n",
    "    .mode(\"overwrite\")\\\n",
    "    .parquet(\"dbfs:/FileStore/tables/Chocolate_Sales-1.parquet/\")\n"
   ]
  },
  {
   "cell_type": "code",
   "execution_count": 0,
   "metadata": {
    "application/vnd.databricks.v1+cell": {
     "cellMetadata": {
      "byteLimit": 2048000,
      "rowLimit": 10000
     },
     "inputWidgets": {},
     "nuid": "6693cbd2-96cc-48ba-8699-b6d54de85e8f",
     "showTitle": false,
     "tableResultSettingsMap": {},
     "title": ""
    }
   },
   "outputs": [
    {
     "output_type": "stream",
     "name": "stdout",
     "output_type": "stream",
     "text": [
      "Out[77]: [FileInfo(path='dbfs:/FileStore/tables/Chocolate_Sales-1.parquet/Country=Australia/', name='Country=Australia/', size=0, modificationTime=0),\n FileInfo(path='dbfs:/FileStore/tables/Chocolate_Sales-1.parquet/Country=Canada/', name='Country=Canada/', size=0, modificationTime=0),\n FileInfo(path='dbfs:/FileStore/tables/Chocolate_Sales-1.parquet/Country=India/', name='Country=India/', size=0, modificationTime=0),\n FileInfo(path='dbfs:/FileStore/tables/Chocolate_Sales-1.parquet/Country=New Zealand/', name='Country=New Zealand/', size=0, modificationTime=0),\n FileInfo(path='dbfs:/FileStore/tables/Chocolate_Sales-1.parquet/Country=UK/', name='Country=UK/', size=0, modificationTime=0),\n FileInfo(path='dbfs:/FileStore/tables/Chocolate_Sales-1.parquet/Country=USA/', name='Country=USA/', size=0, modificationTime=0),\n FileInfo(path='dbfs:/FileStore/tables/Chocolate_Sales-1.parquet/_SUCCESS', name='_SUCCESS', size=0, modificationTime=1743184035000),\n FileInfo(path='dbfs:/FileStore/tables/Chocolate_Sales-1.parquet/_committed_2335969713678450914', name='_committed_2335969713678450914', size=135, modificationTime=1743183332000),\n FileInfo(path='dbfs:/FileStore/tables/Chocolate_Sales-1.parquet/_committed_5132851632812634133', name='_committed_5132851632812634133', size=124, modificationTime=1743180748000),\n FileInfo(path='dbfs:/FileStore/tables/Chocolate_Sales-1.parquet/_committed_vacuum6182382383796330120', name='_committed_vacuum6182382383796330120', size=96, modificationTime=1743183335000)]"
     ]
    }
   ],
   "source": [
    "dbutils.fs.ls(\"dbfs:/FileStore/tables/Chocolate_Sales-1.parquet/\")\n"
   ]
  },
  {
   "cell_type": "code",
   "execution_count": 0,
   "metadata": {
    "application/vnd.databricks.v1+cell": {
     "cellMetadata": {
      "byteLimit": 2048000,
      "rowLimit": 10000
     },
     "inputWidgets": {},
     "nuid": "a9dad40a-dc13-46f8-a2c5-7933d5b0d3ad",
     "showTitle": false,
     "tableResultSettingsMap": {},
     "title": ""
    }
   },
   "outputs": [
    {
     "output_type": "display_data",
     "data": {
      "text/html": [
       "<style scoped>\n",
       "  .table-result-container {\n",
       "    max-height: 300px;\n",
       "    overflow: auto;\n",
       "  }\n",
       "  table, th, td {\n",
       "    border: 1px solid black;\n",
       "    border-collapse: collapse;\n",
       "  }\n",
       "  th, td {\n",
       "    padding: 5px;\n",
       "  }\n",
       "  th {\n",
       "    text-align: left;\n",
       "  }\n",
       "</style><div class='table-result-container'><table class='table-result'><thead style='background-color: white'><tr><th>Sales Person</th><th>Product</th><th>Date</th><th>Amount</th><th>Boxes Shipped</th></tr></thead><tbody><tr><td>Jan Morforth</td><td>Peanut Butter Cubes</td><td>27-Apr-22</td><td>$12,726 </td><td>342</td></tr><tr><td>Gunar Cockshoot</td><td>After Nines</td><td>24-Mar-22</td><td>$3,080 </td><td>73</td></tr><tr><td>Brien Boise</td><td>99% Dark & Pure</td><td>04-Jul-22</td><td>$2,835 </td><td>102</td></tr><tr><td>Beverie Moffet</td><td>Organic Choco Syrup</td><td>26-Jan-22</td><td>$6,790 </td><td>356</td></tr><tr><td>Brien Boise</td><td>Eclairs</td><td>27-Jun-22</td><td>$6,888 </td><td>88</td></tr><tr><td>Kaine Padly</td><td>Eclairs</td><td>28-Feb-22</td><td>$7,672 </td><td>115</td></tr><tr><td>Wilone O'Kielt</td><td>Manuka Honey Choco</td><td>11-May-22</td><td>$4,284 </td><td>94</td></tr><tr><td>Camilla Castle</td><td>85% Dark Bars</td><td>19-May-22</td><td>$3,654 </td><td>14</td></tr><tr><td>Curtice Advani</td><td>Milk Bars</td><td>14-Feb-22</td><td>$6,979 </td><td>18</td></tr><tr><td>Brien Boise</td><td>Fruit & Nut Bars</td><td>06-Jun-22</td><td>$8,575 </td><td>23</td></tr><tr><td>Dotty Strutley</td><td>Drinking Coco</td><td>19-Jul-22</td><td>$91 </td><td>135</td></tr><tr><td>Barr Faughny</td><td>Fruit & Nut Bars</td><td>30-Jun-22</td><td>$15,421 </td><td>55</td></tr><tr><td>Andria Kimpton</td><td>50% Dark Bites</td><td>02-Jun-22</td><td>$4,438 </td><td>227</td></tr><tr><td>Andria Kimpton</td><td>Drinking Coco</td><td>28-Jun-22</td><td>$1,603 </td><td>48</td></tr><tr><td>Marney O'Breen</td><td>Organic Choco Syrup</td><td>16-May-22</td><td>$273 </td><td>174</td></tr><tr><td>Wilone O'Kielt</td><td>Caramel Stuffed Bars</td><td>14-Apr-22</td><td>$2,030 </td><td>11</td></tr><tr><td>Van Tuxwell</td><td>Organic Choco Syrup</td><td>10-Aug-22</td><td>$19,453 </td><td>14</td></tr><tr><td>Dotty Strutley</td><td>Fruit & Nut Bars</td><td>23-Aug-22</td><td>$280 </td><td>311</td></tr><tr><td>Dennison Crosswaite</td><td>70% Dark Bites</td><td>07-Feb-22</td><td>$5,859 </td><td>108</td></tr><tr><td>Madelene Upcott</td><td>Spicy Special Slims</td><td>07-Mar-22</td><td>$7,182 </td><td>408</td></tr><tr><td>Dennison Crosswaite</td><td>85% Dark Bars</td><td>05-Apr-22</td><td>$6,881 </td><td>420</td></tr><tr><td>Wilone O'Kielt</td><td>Organic Choco Syrup</td><td>07-Jul-22</td><td>$1,743 </td><td>111</td></tr><tr><td>Beverie Moffet</td><td>Eclairs</td><td>20-Jun-22</td><td>$1,827 </td><td>6</td></tr><tr><td>Dennison Crosswaite</td><td>Raspberry Choco</td><td>14-Mar-22</td><td>$5,740 </td><td>31</td></tr><tr><td>Madelene Upcott</td><td>Fruit & Nut Bars</td><td>05-Jan-22</td><td>$5,579 </td><td>92</td></tr><tr><td>Wilone O'Kielt</td><td>Drinking Coco</td><td>06-Apr-22</td><td>$623 </td><td>283</td></tr><tr><td>Gunar Cockshoot</td><td>Fruit & Nut Bars</td><td>15-Jun-22</td><td>$6,013 </td><td>21</td></tr><tr><td>Rafaelita Blaksland</td><td>Drinking Coco</td><td>21-Feb-22</td><td>$11,550 </td><td>396</td></tr><tr><td>Kelci Walkden</td><td>Eclairs</td><td>23-Mar-22</td><td>$7,273 </td><td>547</td></tr><tr><td>Husein Augar</td><td>Orange Choco</td><td>28-Jun-22</td><td>$8,897 </td><td>188</td></tr><tr><td>Marney O'Breen</td><td>Milk Bars</td><td>28-Jul-22</td><td>$2,464 </td><td>387</td></tr><tr><td>Kaine Padly</td><td>Manuka Honey Choco</td><td>12-Jan-22</td><td>$2,765 </td><td>264</td></tr><tr><td>Ches Bonnell</td><td>Eclairs</td><td>05-Jul-22</td><td>$4,116 </td><td>128</td></tr><tr><td>Brien Boise</td><td>Baker's Choco Chips</td><td>04-Jan-22</td><td>$12,516 </td><td>212</td></tr><tr><td>Dennison Crosswaite</td><td>99% Dark & Pure</td><td>31-Jan-22</td><td>$2,758 </td><td>18</td></tr><tr><td>Camilla Castle</td><td>70% Dark Bites</td><td>29-Apr-22</td><td>$6,048 </td><td>477</td></tr><tr><td>Curtice Advani</td><td>Orange Choco</td><td>12-Jul-22</td><td>$854 </td><td>136</td></tr><tr><td>Mallorie Waber</td><td>Milk Bars</td><td>29-Jul-22</td><td>$2,779 </td><td>104</td></tr><tr><td>Ches Bonnell</td><td>White Choc</td><td>02-Mar-22</td><td>$1,043 </td><td>202</td></tr><tr><td>Jehu Rudeforth</td><td>50% Dark Bites</td><td>14-Jan-22</td><td>$5,194 </td><td>418</td></tr><tr><td>Jehu Rudeforth</td><td>Orange Choco</td><td>23-Mar-22</td><td>$13,706 </td><td>26</td></tr><tr><td>Barr Faughny</td><td>White Choc</td><td>04-Jul-22</td><td>$8,113 </td><td>370</td></tr><tr><td>Dennison Crosswaite</td><td>50% Dark Bites</td><td>01-Apr-22</td><td>$7,287 </td><td>12</td></tr><tr><td>Curtice Advani</td><td>Organic Choco Syrup</td><td>28-Jun-22</td><td>$3,472 </td><td>311</td></tr><tr><td>Wilone O'Kielt</td><td>After Nines</td><td>27-May-22</td><td>$3,325 </td><td>26</td></tr><tr><td>Jan Morforth</td><td>White Choc</td><td>27-Jul-22</td><td>$3,472 </td><td>32</td></tr><tr><td>Ches Bonnell</td><td>Mint Chip Choco</td><td>21-Feb-22</td><td>$9,660 </td><td>92</td></tr><tr><td>Karlen McCaffrey</td><td>White Choc</td><td>05-Jan-22</td><td>$7,357 </td><td>48</td></tr><tr><td>Brien Boise</td><td>Choco Coated Almonds</td><td>25-May-22</td><td>$5,124 </td><td>62</td></tr><tr><td>Beverie Moffet</td><td>Milk Bars</td><td>25-May-22</td><td>$735 </td><td>390</td></tr><tr><td>Jan Morforth</td><td>Orange Choco</td><td>04-Jul-22</td><td>$3,199 </td><td>122</td></tr><tr><td>Ches Bonnell</td><td>70% Dark Bites</td><td>12-Jan-22</td><td>$3,136 </td><td>125</td></tr><tr><td>Kaine Padly</td><td>Peanut Butter Cubes</td><td>25-Mar-22</td><td>$5,460 </td><td>286</td></tr><tr><td>Husein Augar</td><td>Manuka Honey Choco</td><td>15-Mar-22</td><td>$7,161 </td><td>92</td></tr><tr><td>Van Tuxwell</td><td>Milk Bars</td><td>20-Jun-22</td><td>$7,910 </td><td>87</td></tr><tr><td>Dotty Strutley</td><td>50% Dark Bites</td><td>12-May-22</td><td>$3,108 </td><td>252</td></tr><tr><td>Madelene Upcott</td><td>50% Dark Bites</td><td>25-Jul-22</td><td>$7,350 </td><td>6</td></tr><tr><td>Gunar Cockshoot</td><td>Almond Choco</td><td>25-Jan-22</td><td>$3,752 </td><td>424</td></tr><tr><td>Beverie Moffet</td><td>Baker's Choco Chips</td><td>04-Aug-22</td><td>$3,192 </td><td>109</td></tr><tr><td>Marney O'Breen</td><td>Smooth Sliky Salty</td><td>03-Jan-22</td><td>$3,745 </td><td>170</td></tr><tr><td>Mallorie Waber</td><td>Orange Choco</td><td>07-Mar-22</td><td>$14,658 </td><td>275</td></tr><tr><td>Gigi Bohling</td><td>Drinking Coco</td><td>27-Jul-22</td><td>$2,807 </td><td>139</td></tr><tr><td>Beverie Moffet</td><td>White Choc</td><td>27-Jun-22</td><td>$2,240 </td><td>166</td></tr><tr><td>Dotty Strutley</td><td>Eclairs</td><td>26-Jan-22</td><td>$6,979 </td><td>3</td></tr><tr><td>Wilone O'Kielt</td><td>Fruit & Nut Bars</td><td>15-Jun-22</td><td>$392 </td><td>102</td></tr><tr><td>Karlen McCaffrey</td><td>Almond Choco</td><td>08-Jul-22</td><td>$7,294 </td><td>128</td></tr><tr><td>Husein Augar</td><td>50% Dark Bites</td><td>19-Aug-22</td><td>$14,889 </td><td>52</td></tr><tr><td>Madelene Upcott</td><td>Choco Coated Almonds</td><td>08-Apr-22</td><td>$2,058 </td><td>72</td></tr><tr><td>Mallorie Waber</td><td>85% Dark Bars</td><td>26-Aug-22</td><td>$2,541 </td><td>53</td></tr><tr><td>Gigi Bohling</td><td>White Choc</td><td>11-May-22</td><td>$5,523 </td><td>87</td></tr><tr><td>Mallorie Waber</td><td>Almond Choco</td><td>01-Aug-22</td><td>$7,882 </td><td>125</td></tr><tr><td>Brien Boise</td><td>Drinking Coco</td><td>27-Jul-22</td><td>$6,832 </td><td>156</td></tr><tr><td>Rafaelita Blaksland</td><td>50% Dark Bites</td><td>22-Mar-22</td><td>$3,010 </td><td>40</td></tr><tr><td>Kelci Walkden</td><td>After Nines</td><td>02-Mar-22</td><td>$6,916 </td><td>288</td></tr><tr><td>Gunar Cockshoot</td><td>Raspberry Choco</td><td>17-Mar-22</td><td>$602 </td><td>72</td></tr><tr><td>Van Tuxwell</td><td>Caramel Stuffed Bars</td><td>17-May-22</td><td>$5,936 </td><td>59</td></tr><tr><td>Curtice Advani</td><td>Almond Choco</td><td>13-Jul-22</td><td>$2,912 </td><td>75</td></tr><tr><td>Madelene Upcott</td><td>85% Dark Bars</td><td>16-Jun-22</td><td>$1,575 </td><td>329</td></tr><tr><td>Jehu Rudeforth</td><td>Peanut Butter Cubes</td><td>24-Jun-22</td><td>$5,691 </td><td>38</td></tr><tr><td>Camilla Castle</td><td>Caramel Stuffed Bars</td><td>02-May-22</td><td>$3,178 </td><td>16</td></tr><tr><td>Curtice Advani</td><td>99% Dark & Pure</td><td>07-Jan-22</td><td>$4,676 </td><td>84</td></tr><tr><td>Gunar Cockshoot</td><td>Drinking Coco</td><td>14-Jan-22</td><td>$2,317 </td><td>195</td></tr><tr><td>Dotty Strutley</td><td>Mint Chip Choco</td><td>01-Aug-22</td><td>$6,790 </td><td>25</td></tr><tr><td>Roddy Speechley</td><td>Mint Chip Choco</td><td>05-May-22</td><td>$6,797 </td><td>252</td></tr><tr><td>Roddy Speechley</td><td>Almond Choco</td><td>24-Jun-22</td><td>$4,466 </td><td>74</td></tr><tr><td>Camilla Castle</td><td>99% Dark & Pure</td><td>18-Jan-22</td><td>$4,669 </td><td>101</td></tr><tr><td>Ches Bonnell</td><td>Smooth Sliky Salty</td><td>16-May-22</td><td>$7,490 </td><td>54</td></tr><tr><td>Husein Augar</td><td>Eclairs</td><td>04-Jul-22</td><td>$6,993 </td><td>31</td></tr><tr><td>Camilla Castle</td><td>Manuka Honey Choco</td><td>17-Mar-22</td><td>$637 </td><td>169</td></tr><tr><td>Oby Sorrel</td><td>Almond Choco</td><td>15-Feb-22</td><td>$6,034 </td><td>223</td></tr><tr><td>Dennison Crosswaite</td><td>Organic Choco Syrup</td><td>10-May-22</td><td>$5,775 </td><td>41</td></tr><tr><td>Marney O'Breen</td><td>Spicy Special Slims</td><td>23-Jun-22</td><td>$13,125 </td><td>275</td></tr><tr><td>Rafaelita Blaksland</td><td>Organic Choco Syrup</td><td>26-Jan-22</td><td>$994 </td><td>105</td></tr><tr><td>Oby Sorrel</td><td>Raspberry Choco</td><td>17-Feb-22</td><td>$1,043 </td><td>120</td></tr><tr><td>Jan Morforth</td><td>50% Dark Bites</td><td>14-Jun-22</td><td>$3,402 </td><td>182</td></tr><tr><td>Beverie Moffet</td><td>Smooth Sliky Salty</td><td>25-Jan-22</td><td>$10,507 </td><td>467</td></tr><tr><td>Karlen McCaffrey</td><td>70% Dark Bites</td><td>24-Jun-22</td><td>$238 </td><td>317</td></tr><tr><td>Oby Sorrel</td><td>Milk Bars</td><td>21-Jun-22</td><td>$7,672 </td><td>254</td></tr><tr><td>Andria Kimpton</td><td>85% Dark Bars</td><td>23-Aug-22</td><td>$4,186 </td><td>233</td></tr><tr><td>Camilla Castle</td><td>Smooth Sliky Salty</td><td>03-Mar-22</td><td>$7,406 </td><td>118</td></tr><tr><td>Jehu Rudeforth</td><td>Drinking Coco</td><td>14-Jan-22</td><td>$2,611 </td><td>65</td></tr><tr><td>Gigi Bohling</td><td>Caramel Stuffed Bars</td><td>08-Jul-22</td><td>$8,001 </td><td>151</td></tr><tr><td>Andria Kimpton</td><td>Peanut Butter Cubes</td><td>20-Apr-22</td><td>$6,678 </td><td>148</td></tr><tr><td>Jan Morforth</td><td>70% Dark Bites</td><td>04-Mar-22</td><td>$5,222 </td><td>384</td></tr><tr><td>Kaine Padly</td><td>70% Dark Bites</td><td>08-Feb-22</td><td>$6,706 </td><td>223</td></tr><tr><td>Kaine Padly</td><td>Fruit & Nut Bars</td><td>20-Jun-22</td><td>$7,434 </td><td>85</td></tr><tr><td>Madelene Upcott</td><td>Mint Chip Choco</td><td>02-May-22</td><td>$2,751 </td><td>153</td></tr><tr><td>Rafaelita Blaksland</td><td>Baker's Choco Chips</td><td>22-Aug-22</td><td>$2,786 </td><td>51</td></tr><tr><td>Karlen McCaffrey</td><td>After Nines</td><td>11-Aug-22</td><td>$2,303 </td><td>67</td></tr><tr><td>Gunar Cockshoot</td><td>50% Dark Bites</td><td>02-Mar-22</td><td>$12,271 </td><td>116</td></tr><tr><td>Marney O'Breen</td><td>Choco Coated Almonds</td><td>27-Jul-22</td><td>$11,298 </td><td>41</td></tr><tr><td>Camilla Castle</td><td>Raspberry Choco</td><td>23-Aug-22</td><td>$6,342 </td><td>178</td></tr><tr><td>Kelci Walkden</td><td>99% Dark & Pure</td><td>30-Jun-22</td><td>$3,185 </td><td>34</td></tr><tr><td>Dotty Strutley</td><td>Spicy Special Slims</td><td>17-Jan-22</td><td>$8,225 </td><td>91</td></tr><tr><td>Kaine Padly</td><td>Almond Choco</td><td>22-Feb-22</td><td>$4,102 </td><td>392</td></tr><tr><td>Kelci Walkden</td><td>Orange Choco</td><td>29-Apr-22</td><td>$11,116 </td><td>432</td></tr><tr><td>Marney O'Breen</td><td>Manuka Honey Choco</td><td>05-Apr-22</td><td>$13,076 </td><td>236</td></tr><tr><td>Kelci Walkden</td><td>White Choc</td><td>24-Aug-22</td><td>$8,715 </td><td>168</td></tr><tr><td>Kaine Padly</td><td>Milk Bars</td><td>09-Jun-22</td><td>$4,046 </td><td>89</td></tr><tr><td>Rafaelita Blaksland</td><td>Manuka Honey Choco</td><td>03-Aug-22</td><td>$4,396 </td><td>131</td></tr><tr><td>Mallorie Waber</td><td>Spicy Special Slims</td><td>29-Jun-22</td><td>$5,439 </td><td>287</td></tr><tr><td>Beverie Moffet</td><td>Fruit & Nut Bars</td><td>22-Apr-22</td><td>$1,435 </td><td>258</td></tr><tr><td>Kelci Walkden</td><td>Raspberry Choco</td><td>07-Jun-22</td><td>$679 </td><td>56</td></tr><tr><td>Jehu Rudeforth</td><td>99% Dark & Pure</td><td>25-Feb-22</td><td>$10,486 </td><td>198</td></tr><tr><td>Jan Morforth</td><td>Mint Chip Choco</td><td>22-Feb-22</td><td>$17,626 </td><td>103</td></tr><tr><td>Ches Bonnell</td><td>Caramel Stuffed Bars</td><td>17-Jan-22</td><td>$8,757 </td><td>162</td></tr><tr><td>Dennison Crosswaite</td><td>Milk Bars</td><td>09-Jun-22</td><td>$10,038 </td><td>286</td></tr><tr><td>Roddy Speechley</td><td>Drinking Coco</td><td>12-May-22</td><td>$12,565 </td><td>102</td></tr><tr><td>Curtice Advani</td><td>50% Dark Bites</td><td>29-Jun-22</td><td>$504 </td><td>232</td></tr><tr><td>Wilone O'Kielt</td><td>Baker's Choco Chips</td><td>25-Jan-22</td><td>$2,961 </td><td>154</td></tr><tr><td>Brien Boise</td><td>Milk Bars</td><td>27-Jul-22</td><td>$1,981 </td><td>52</td></tr><tr><td>Husein Augar</td><td>Fruit & Nut Bars</td><td>28-Jan-22</td><td>$7,959 </td><td>53</td></tr><tr><td>Madelene Upcott</td><td>Organic Choco Syrup</td><td>05-Jul-22</td><td>$10,794 </td><td>50</td></tr><tr><td>Oby Sorrel</td><td>85% Dark Bars</td><td>30-Jun-22</td><td>$6,944 </td><td>27</td></tr><tr><td>Husein Augar</td><td>White Choc</td><td>11-May-22</td><td>$3,171 </td><td>220</td></tr><tr><td>Van Tuxwell</td><td>99% Dark & Pure</td><td>17-Jan-22</td><td>$112 </td><td>128</td></tr><tr><td>Brien Boise</td><td>Spicy Special Slims</td><td>09-May-22</td><td>$6,223 </td><td>256</td></tr><tr><td>Rafaelita Blaksland</td><td>Smooth Sliky Salty</td><td>30-May-22</td><td>$3,969 </td><td>243</td></tr><tr><td>Marney O'Breen</td><td>Baker's Choco Chips</td><td>13-Jan-22</td><td>$5,810 </td><td>101</td></tr><tr><td>Kaine Padly</td><td>Mint Chip Choco</td><td>17-May-22</td><td>$4,403 </td><td>159</td></tr><tr><td>Curtice Advani</td><td>Eclairs</td><td>25-Mar-22</td><td>$5,796 </td><td>55</td></tr><tr><td>Madelene Upcott</td><td>Orange Choco</td><td>15-Apr-22</td><td>$6,713 </td><td>398</td></tr><tr><td>Wilone O'Kielt</td><td>50% Dark Bites</td><td>03-Aug-22</td><td>$10,031 </td><td>114</td></tr><tr><td>Karlen McCaffrey</td><td>50% Dark Bites</td><td>17-Jan-22</td><td>$6,678 </td><td>708</td></tr><tr><td>Barr Faughny</td><td>Caramel Stuffed Bars</td><td>29-Jul-22</td><td>$2,933 </td><td>55</td></tr><tr><td>Gigi Bohling</td><td>Raspberry Choco</td><td>30-Mar-22</td><td>$6,524 </td><td>303</td></tr><tr><td>Mallorie Waber</td><td>Choco Coated Almonds</td><td>18-Mar-22</td><td>$15,750 </td><td>92</td></tr><tr><td>Gigi Bohling</td><td>Almond Choco</td><td>17-Aug-22</td><td>$910 </td><td>117</td></tr><tr><td>Jehu Rudeforth</td><td>Milk Bars</td><td>18-Mar-22</td><td>$8,659 </td><td>29</td></tr><tr><td>Husein Augar</td><td>99% Dark & Pure</td><td>26-Aug-22</td><td>$3,087 </td><td>128</td></tr><tr><td>Dotty Strutley</td><td>Baker's Choco Chips</td><td>07-Jun-22</td><td>$3,605 </td><td>68</td></tr><tr><td>Barr Faughny</td><td>85% Dark Bars</td><td>10-Feb-22</td><td>$8,498 </td><td>44</td></tr><tr><td>Beverie Moffet</td><td>50% Dark Bites</td><td>16-May-22</td><td>$700 </td><td>457</td></tr><tr><td>Van Tuxwell</td><td>50% Dark Bites</td><td>13-Jul-22</td><td>$644 </td><td>137</td></tr><tr><td>Kelci Walkden</td><td>Milk Bars</td><td>24-Feb-22</td><td>$7,910 </td><td>125</td></tr><tr><td>Dotty Strutley</td><td>Almond Choco</td><td>13-May-22</td><td>$1,456 </td><td>91</td></tr><tr><td>Andria Kimpton</td><td>Manuka Honey Choco</td><td>30-Mar-22</td><td>$9,744 </td><td>377</td></tr><tr><td>Curtice Advani</td><td>After Nines</td><td>11-Aug-22</td><td>$63 </td><td>105</td></tr><tr><td>Jan Morforth</td><td>Drinking Coco</td><td>18-Feb-22</td><td>$2,821 </td><td>24</td></tr><tr><td>Rafaelita Blaksland</td><td>Raspberry Choco</td><td>19-Jan-22</td><td>$6,916 </td><td>259</td></tr><tr><td>Kaine Padly</td><td>50% Dark Bites</td><td>02-Aug-22</td><td>$8,995 </td><td>78</td></tr><tr><td>Gigi Bohling</td><td>Eclairs</td><td>12-Apr-22</td><td>$7,252 </td><td>136</td></tr><tr><td>Andria Kimpton</td><td>Baker's Choco Chips</td><td>09-Aug-22</td><td>$329 </td><td>109</td></tr><tr><td>Andria Kimpton</td><td>Almond Choco</td><td>25-Apr-22</td><td>$3,192 </td><td>175</td></tr><tr><td>Madelene Upcott</td><td>99% Dark & Pure</td><td>01-Aug-22</td><td>$4,326 </td><td>154</td></tr><tr><td>Mallorie Waber</td><td>Eclairs</td><td>22-Aug-22</td><td>$9,527 </td><td>222</td></tr><tr><td>Kelci Walkden</td><td>Almond Choco</td><td>30-May-22</td><td>$4,879 </td><td>350</td></tr><tr><td>Gigi Bohling</td><td>70% Dark Bites</td><td>18-Aug-22</td><td>$1,372 </td><td>105</td></tr><tr><td>Jehu Rudeforth</td><td>Spicy Special Slims</td><td>13-Jan-22</td><td>$5,012 </td><td>384</td></tr><tr><td>Barr Faughny</td><td>Organic Choco Syrup</td><td>07-Jan-22</td><td>$2,303 </td><td>33</td></tr><tr><td>Van Tuxwell</td><td>Baker's Choco Chips</td><td>11-May-22</td><td>$13,258 </td><td>32</td></tr><tr><td>Oby Sorrel</td><td>50% Dark Bites</td><td>06-May-22</td><td>$721 </td><td>151</td></tr><tr><td>Curtice Advani</td><td>Caramel Stuffed Bars</td><td>14-Feb-22</td><td>$9,114 </td><td>140</td></tr><tr><td>Dennison Crosswaite</td><td>Drinking Coco</td><td>13-Jul-22</td><td>$7,091 </td><td>194</td></tr><tr><td>Barr Faughny</td><td>Raspberry Choco</td><td>27-May-22</td><td>$9,268 </td><td>100</td></tr><tr><td>Dotty Strutley</td><td>Choco Coated Almonds</td><td>13-Apr-22</td><td>$1,645 </td><td>284</td></tr><tr><td>Van Tuxwell</td><td>70% Dark Bites</td><td>10-Jan-22</td><td>$7,063 </td><td>104</td></tr><tr><td>Roddy Speechley</td><td>85% Dark Bars</td><td>08-Jul-22</td><td>$4,200 </td><td>80</td></tr><tr><td>Kaine Padly</td><td>After Nines</td><td>08-Apr-22</td><td>$6,832 </td><td>306</td></tr><tr><td>Madelene Upcott</td><td>Raspberry Choco</td><td>13-Jul-22</td><td>$6,321 </td><td>88</td></tr><tr><td>Oby Sorrel</td><td>Manuka Honey Choco</td><td>26-Jan-22</td><td>$3,906 </td><td>76</td></tr><tr><td>Gigi Bohling</td><td>Smooth Sliky Salty</td><td>25-Jan-22</td><td>$5,768 </td><td>119</td></tr><tr><td>Karlen McCaffrey</td><td>Raspberry Choco</td><td>23-Aug-22</td><td>$994 </td><td>57</td></tr><tr><td>Gigi Bohling</td><td>Orange Choco</td><td>09-Mar-22</td><td>$574 </td><td>156</td></tr><tr><td>Husein Augar</td><td>Organic Choco Syrup</td><td>08-Feb-22</td><td>$938 </td><td>158</td></tr><tr><td>Brien Boise</td><td>White Choc</td><td>25-Aug-22</td><td>$4,879 </td><td>22</td></tr><tr><td>Ches Bonnell</td><td>Peanut Butter Cubes</td><td>14-Mar-22</td><td>$10,199 </td><td>68</td></tr><tr><td>Oby Sorrel</td><td>Spicy Special Slims</td><td>26-Apr-22</td><td>$11,389 </td><td>26</td></tr><tr><td>Karlen McCaffrey</td><td>99% Dark & Pure</td><td>26-Jan-22</td><td>$10,822 </td><td>168</td></tr><tr><td>Mallorie Waber</td><td>Smooth Sliky Salty</td><td>11-Feb-22</td><td>$4,158 </td><td>109</td></tr><tr><td>Brien Boise</td><td>Organic Choco Syrup</td><td>15-Jul-22</td><td>$4,263 </td><td>264</td></tr><tr><td>Dennison Crosswaite</td><td>Baker's Choco Chips</td><td>11-Jan-22</td><td>$13,846 </td><td>421</td></tr><tr><td>Wilone O'Kielt</td><td>Smooth Sliky Salty</td><td>04-Jan-22</td><td>$2,226 </td><td>46</td></tr><tr><td>Jehu Rudeforth</td><td>After Nines</td><td>14-Feb-22</td><td>$5,250 </td><td>47</td></tr><tr><td>Mallorie Waber</td><td>Raspberry Choco</td><td>25-Apr-22</td><td>$8,400 </td><td>27</td></tr><tr><td>Kelci Walkden</td><td>Drinking Coco</td><td>04-May-22</td><td>$1,288 </td><td>60</td></tr><tr><td>Roddy Speechley</td><td>Organic Choco Syrup</td><td>04-Jul-22</td><td>$3,647 </td><td>76</td></tr><tr><td>Gunar Cockshoot</td><td>99% Dark & Pure</td><td>18-Aug-22</td><td>$7,952 </td><td>235</td></tr><tr><td>Ches Bonnell</td><td>Choco Coated Almonds</td><td>08-Apr-22</td><td>$1,470 </td><td>167</td></tr><tr><td>Van Tuxwell</td><td>Mint Chip Choco</td><td>13-Jan-22</td><td>$2,674 </td><td>295</td></tr><tr><td>Rafaelita Blaksland</td><td>White Choc</td><td>21-Mar-22</td><td>$6,818 </td><td>102</td></tr><tr><td>Madelene Upcott</td><td>70% Dark Bites</td><td>15-Apr-22</td><td>$3,710 </td><td>260</td></tr><tr><td>Dotty Strutley</td><td>White Choc</td><td>05-Jul-22</td><td>$6,055 </td><td>93</td></tr><tr><td>Brien Boise</td><td>Peanut Butter Cubes</td><td>19-Aug-22</td><td>$301 </td><td>205</td></tr><tr><td>Karlen McCaffrey</td><td>Spicy Special Slims</td><td>17-May-22</td><td>$4,410 </td><td>323</td></tr></tbody></table></div>"
      ]
     },
     "metadata": {
      "application/vnd.databricks.v1+output": {
       "addedWidgets": {},
       "aggData": [],
       "aggError": "",
       "aggOverflow": false,
       "aggSchema": [],
       "aggSeriesLimitReached": false,
       "aggType": "",
       "arguments": {},
       "columnCustomDisplayInfos": {},
       "data": [
        [
         "Jan Morforth",
         "Peanut Butter Cubes",
         "27-Apr-22",
         "$12,726 ",
         342
        ],
        [
         "Gunar Cockshoot",
         "After Nines",
         "24-Mar-22",
         "$3,080 ",
         73
        ],
        [
         "Brien Boise",
         "99% Dark & Pure",
         "04-Jul-22",
         "$2,835 ",
         102
        ],
        [
         "Beverie Moffet",
         "Organic Choco Syrup",
         "26-Jan-22",
         "$6,790 ",
         356
        ],
        [
         "Brien Boise",
         "Eclairs",
         "27-Jun-22",
         "$6,888 ",
         88
        ],
        [
         "Kaine Padly",
         "Eclairs",
         "28-Feb-22",
         "$7,672 ",
         115
        ],
        [
         "Wilone O'Kielt",
         "Manuka Honey Choco",
         "11-May-22",
         "$4,284 ",
         94
        ],
        [
         "Camilla Castle",
         "85% Dark Bars",
         "19-May-22",
         "$3,654 ",
         14
        ],
        [
         "Curtice Advani",
         "Milk Bars",
         "14-Feb-22",
         "$6,979 ",
         18
        ],
        [
         "Brien Boise",
         "Fruit & Nut Bars",
         "06-Jun-22",
         "$8,575 ",
         23
        ],
        [
         "Dotty Strutley",
         "Drinking Coco",
         "19-Jul-22",
         "$91 ",
         135
        ],
        [
         "Barr Faughny",
         "Fruit & Nut Bars",
         "30-Jun-22",
         "$15,421 ",
         55
        ],
        [
         "Andria Kimpton",
         "50% Dark Bites",
         "02-Jun-22",
         "$4,438 ",
         227
        ],
        [
         "Andria Kimpton",
         "Drinking Coco",
         "28-Jun-22",
         "$1,603 ",
         48
        ],
        [
         "Marney O'Breen",
         "Organic Choco Syrup",
         "16-May-22",
         "$273 ",
         174
        ],
        [
         "Wilone O'Kielt",
         "Caramel Stuffed Bars",
         "14-Apr-22",
         "$2,030 ",
         11
        ],
        [
         "Van Tuxwell",
         "Organic Choco Syrup",
         "10-Aug-22",
         "$19,453 ",
         14
        ],
        [
         "Dotty Strutley",
         "Fruit & Nut Bars",
         "23-Aug-22",
         "$280 ",
         311
        ],
        [
         "Dennison Crosswaite",
         "70% Dark Bites",
         "07-Feb-22",
         "$5,859 ",
         108
        ],
        [
         "Madelene Upcott",
         "Spicy Special Slims",
         "07-Mar-22",
         "$7,182 ",
         408
        ],
        [
         "Dennison Crosswaite",
         "85% Dark Bars",
         "05-Apr-22",
         "$6,881 ",
         420
        ],
        [
         "Wilone O'Kielt",
         "Organic Choco Syrup",
         "07-Jul-22",
         "$1,743 ",
         111
        ],
        [
         "Beverie Moffet",
         "Eclairs",
         "20-Jun-22",
         "$1,827 ",
         6
        ],
        [
         "Dennison Crosswaite",
         "Raspberry Choco",
         "14-Mar-22",
         "$5,740 ",
         31
        ],
        [
         "Madelene Upcott",
         "Fruit & Nut Bars",
         "05-Jan-22",
         "$5,579 ",
         92
        ],
        [
         "Wilone O'Kielt",
         "Drinking Coco",
         "06-Apr-22",
         "$623 ",
         283
        ],
        [
         "Gunar Cockshoot",
         "Fruit & Nut Bars",
         "15-Jun-22",
         "$6,013 ",
         21
        ],
        [
         "Rafaelita Blaksland",
         "Drinking Coco",
         "21-Feb-22",
         "$11,550 ",
         396
        ],
        [
         "Kelci Walkden",
         "Eclairs",
         "23-Mar-22",
         "$7,273 ",
         547
        ],
        [
         "Husein Augar",
         "Orange Choco",
         "28-Jun-22",
         "$8,897 ",
         188
        ],
        [
         "Marney O'Breen",
         "Milk Bars",
         "28-Jul-22",
         "$2,464 ",
         387
        ],
        [
         "Kaine Padly",
         "Manuka Honey Choco",
         "12-Jan-22",
         "$2,765 ",
         264
        ],
        [
         "Ches Bonnell",
         "Eclairs",
         "05-Jul-22",
         "$4,116 ",
         128
        ],
        [
         "Brien Boise",
         "Baker's Choco Chips",
         "04-Jan-22",
         "$12,516 ",
         212
        ],
        [
         "Dennison Crosswaite",
         "99% Dark & Pure",
         "31-Jan-22",
         "$2,758 ",
         18
        ],
        [
         "Camilla Castle",
         "70% Dark Bites",
         "29-Apr-22",
         "$6,048 ",
         477
        ],
        [
         "Curtice Advani",
         "Orange Choco",
         "12-Jul-22",
         "$854 ",
         136
        ],
        [
         "Mallorie Waber",
         "Milk Bars",
         "29-Jul-22",
         "$2,779 ",
         104
        ],
        [
         "Ches Bonnell",
         "White Choc",
         "02-Mar-22",
         "$1,043 ",
         202
        ],
        [
         "Jehu Rudeforth",
         "50% Dark Bites",
         "14-Jan-22",
         "$5,194 ",
         418
        ],
        [
         "Jehu Rudeforth",
         "Orange Choco",
         "23-Mar-22",
         "$13,706 ",
         26
        ],
        [
         "Barr Faughny",
         "White Choc",
         "04-Jul-22",
         "$8,113 ",
         370
        ],
        [
         "Dennison Crosswaite",
         "50% Dark Bites",
         "01-Apr-22",
         "$7,287 ",
         12
        ],
        [
         "Curtice Advani",
         "Organic Choco Syrup",
         "28-Jun-22",
         "$3,472 ",
         311
        ],
        [
         "Wilone O'Kielt",
         "After Nines",
         "27-May-22",
         "$3,325 ",
         26
        ],
        [
         "Jan Morforth",
         "White Choc",
         "27-Jul-22",
         "$3,472 ",
         32
        ],
        [
         "Ches Bonnell",
         "Mint Chip Choco",
         "21-Feb-22",
         "$9,660 ",
         92
        ],
        [
         "Karlen McCaffrey",
         "White Choc",
         "05-Jan-22",
         "$7,357 ",
         48
        ],
        [
         "Brien Boise",
         "Choco Coated Almonds",
         "25-May-22",
         "$5,124 ",
         62
        ],
        [
         "Beverie Moffet",
         "Milk Bars",
         "25-May-22",
         "$735 ",
         390
        ],
        [
         "Jan Morforth",
         "Orange Choco",
         "04-Jul-22",
         "$3,199 ",
         122
        ],
        [
         "Ches Bonnell",
         "70% Dark Bites",
         "12-Jan-22",
         "$3,136 ",
         125
        ],
        [
         "Kaine Padly",
         "Peanut Butter Cubes",
         "25-Mar-22",
         "$5,460 ",
         286
        ],
        [
         "Husein Augar",
         "Manuka Honey Choco",
         "15-Mar-22",
         "$7,161 ",
         92
        ],
        [
         "Van Tuxwell",
         "Milk Bars",
         "20-Jun-22",
         "$7,910 ",
         87
        ],
        [
         "Dotty Strutley",
         "50% Dark Bites",
         "12-May-22",
         "$3,108 ",
         252
        ],
        [
         "Madelene Upcott",
         "50% Dark Bites",
         "25-Jul-22",
         "$7,350 ",
         6
        ],
        [
         "Gunar Cockshoot",
         "Almond Choco",
         "25-Jan-22",
         "$3,752 ",
         424
        ],
        [
         "Beverie Moffet",
         "Baker's Choco Chips",
         "04-Aug-22",
         "$3,192 ",
         109
        ],
        [
         "Marney O'Breen",
         "Smooth Sliky Salty",
         "03-Jan-22",
         "$3,745 ",
         170
        ],
        [
         "Mallorie Waber",
         "Orange Choco",
         "07-Mar-22",
         "$14,658 ",
         275
        ],
        [
         "Gigi Bohling",
         "Drinking Coco",
         "27-Jul-22",
         "$2,807 ",
         139
        ],
        [
         "Beverie Moffet",
         "White Choc",
         "27-Jun-22",
         "$2,240 ",
         166
        ],
        [
         "Dotty Strutley",
         "Eclairs",
         "26-Jan-22",
         "$6,979 ",
         3
        ],
        [
         "Wilone O'Kielt",
         "Fruit & Nut Bars",
         "15-Jun-22",
         "$392 ",
         102
        ],
        [
         "Karlen McCaffrey",
         "Almond Choco",
         "08-Jul-22",
         "$7,294 ",
         128
        ],
        [
         "Husein Augar",
         "50% Dark Bites",
         "19-Aug-22",
         "$14,889 ",
         52
        ],
        [
         "Madelene Upcott",
         "Choco Coated Almonds",
         "08-Apr-22",
         "$2,058 ",
         72
        ],
        [
         "Mallorie Waber",
         "85% Dark Bars",
         "26-Aug-22",
         "$2,541 ",
         53
        ],
        [
         "Gigi Bohling",
         "White Choc",
         "11-May-22",
         "$5,523 ",
         87
        ],
        [
         "Mallorie Waber",
         "Almond Choco",
         "01-Aug-22",
         "$7,882 ",
         125
        ],
        [
         "Brien Boise",
         "Drinking Coco",
         "27-Jul-22",
         "$6,832 ",
         156
        ],
        [
         "Rafaelita Blaksland",
         "50% Dark Bites",
         "22-Mar-22",
         "$3,010 ",
         40
        ],
        [
         "Kelci Walkden",
         "After Nines",
         "02-Mar-22",
         "$6,916 ",
         288
        ],
        [
         "Gunar Cockshoot",
         "Raspberry Choco",
         "17-Mar-22",
         "$602 ",
         72
        ],
        [
         "Van Tuxwell",
         "Caramel Stuffed Bars",
         "17-May-22",
         "$5,936 ",
         59
        ],
        [
         "Curtice Advani",
         "Almond Choco",
         "13-Jul-22",
         "$2,912 ",
         75
        ],
        [
         "Madelene Upcott",
         "85% Dark Bars",
         "16-Jun-22",
         "$1,575 ",
         329
        ],
        [
         "Jehu Rudeforth",
         "Peanut Butter Cubes",
         "24-Jun-22",
         "$5,691 ",
         38
        ],
        [
         "Camilla Castle",
         "Caramel Stuffed Bars",
         "02-May-22",
         "$3,178 ",
         16
        ],
        [
         "Curtice Advani",
         "99% Dark & Pure",
         "07-Jan-22",
         "$4,676 ",
         84
        ],
        [
         "Gunar Cockshoot",
         "Drinking Coco",
         "14-Jan-22",
         "$2,317 ",
         195
        ],
        [
         "Dotty Strutley",
         "Mint Chip Choco",
         "01-Aug-22",
         "$6,790 ",
         25
        ],
        [
         "Roddy Speechley",
         "Mint Chip Choco",
         "05-May-22",
         "$6,797 ",
         252
        ],
        [
         "Roddy Speechley",
         "Almond Choco",
         "24-Jun-22",
         "$4,466 ",
         74
        ],
        [
         "Camilla Castle",
         "99% Dark & Pure",
         "18-Jan-22",
         "$4,669 ",
         101
        ],
        [
         "Ches Bonnell",
         "Smooth Sliky Salty",
         "16-May-22",
         "$7,490 ",
         54
        ],
        [
         "Husein Augar",
         "Eclairs",
         "04-Jul-22",
         "$6,993 ",
         31
        ],
        [
         "Camilla Castle",
         "Manuka Honey Choco",
         "17-Mar-22",
         "$637 ",
         169
        ],
        [
         "Oby Sorrel",
         "Almond Choco",
         "15-Feb-22",
         "$6,034 ",
         223
        ],
        [
         "Dennison Crosswaite",
         "Organic Choco Syrup",
         "10-May-22",
         "$5,775 ",
         41
        ],
        [
         "Marney O'Breen",
         "Spicy Special Slims",
         "23-Jun-22",
         "$13,125 ",
         275
        ],
        [
         "Rafaelita Blaksland",
         "Organic Choco Syrup",
         "26-Jan-22",
         "$994 ",
         105
        ],
        [
         "Oby Sorrel",
         "Raspberry Choco",
         "17-Feb-22",
         "$1,043 ",
         120
        ],
        [
         "Jan Morforth",
         "50% Dark Bites",
         "14-Jun-22",
         "$3,402 ",
         182
        ],
        [
         "Beverie Moffet",
         "Smooth Sliky Salty",
         "25-Jan-22",
         "$10,507 ",
         467
        ],
        [
         "Karlen McCaffrey",
         "70% Dark Bites",
         "24-Jun-22",
         "$238 ",
         317
        ],
        [
         "Oby Sorrel",
         "Milk Bars",
         "21-Jun-22",
         "$7,672 ",
         254
        ],
        [
         "Andria Kimpton",
         "85% Dark Bars",
         "23-Aug-22",
         "$4,186 ",
         233
        ],
        [
         "Camilla Castle",
         "Smooth Sliky Salty",
         "03-Mar-22",
         "$7,406 ",
         118
        ],
        [
         "Jehu Rudeforth",
         "Drinking Coco",
         "14-Jan-22",
         "$2,611 ",
         65
        ],
        [
         "Gigi Bohling",
         "Caramel Stuffed Bars",
         "08-Jul-22",
         "$8,001 ",
         151
        ],
        [
         "Andria Kimpton",
         "Peanut Butter Cubes",
         "20-Apr-22",
         "$6,678 ",
         148
        ],
        [
         "Jan Morforth",
         "70% Dark Bites",
         "04-Mar-22",
         "$5,222 ",
         384
        ],
        [
         "Kaine Padly",
         "70% Dark Bites",
         "08-Feb-22",
         "$6,706 ",
         223
        ],
        [
         "Kaine Padly",
         "Fruit & Nut Bars",
         "20-Jun-22",
         "$7,434 ",
         85
        ],
        [
         "Madelene Upcott",
         "Mint Chip Choco",
         "02-May-22",
         "$2,751 ",
         153
        ],
        [
         "Rafaelita Blaksland",
         "Baker's Choco Chips",
         "22-Aug-22",
         "$2,786 ",
         51
        ],
        [
         "Karlen McCaffrey",
         "After Nines",
         "11-Aug-22",
         "$2,303 ",
         67
        ],
        [
         "Gunar Cockshoot",
         "50% Dark Bites",
         "02-Mar-22",
         "$12,271 ",
         116
        ],
        [
         "Marney O'Breen",
         "Choco Coated Almonds",
         "27-Jul-22",
         "$11,298 ",
         41
        ],
        [
         "Camilla Castle",
         "Raspberry Choco",
         "23-Aug-22",
         "$6,342 ",
         178
        ],
        [
         "Kelci Walkden",
         "99% Dark & Pure",
         "30-Jun-22",
         "$3,185 ",
         34
        ],
        [
         "Dotty Strutley",
         "Spicy Special Slims",
         "17-Jan-22",
         "$8,225 ",
         91
        ],
        [
         "Kaine Padly",
         "Almond Choco",
         "22-Feb-22",
         "$4,102 ",
         392
        ],
        [
         "Kelci Walkden",
         "Orange Choco",
         "29-Apr-22",
         "$11,116 ",
         432
        ],
        [
         "Marney O'Breen",
         "Manuka Honey Choco",
         "05-Apr-22",
         "$13,076 ",
         236
        ],
        [
         "Kelci Walkden",
         "White Choc",
         "24-Aug-22",
         "$8,715 ",
         168
        ],
        [
         "Kaine Padly",
         "Milk Bars",
         "09-Jun-22",
         "$4,046 ",
         89
        ],
        [
         "Rafaelita Blaksland",
         "Manuka Honey Choco",
         "03-Aug-22",
         "$4,396 ",
         131
        ],
        [
         "Mallorie Waber",
         "Spicy Special Slims",
         "29-Jun-22",
         "$5,439 ",
         287
        ],
        [
         "Beverie Moffet",
         "Fruit & Nut Bars",
         "22-Apr-22",
         "$1,435 ",
         258
        ],
        [
         "Kelci Walkden",
         "Raspberry Choco",
         "07-Jun-22",
         "$679 ",
         56
        ],
        [
         "Jehu Rudeforth",
         "99% Dark & Pure",
         "25-Feb-22",
         "$10,486 ",
         198
        ],
        [
         "Jan Morforth",
         "Mint Chip Choco",
         "22-Feb-22",
         "$17,626 ",
         103
        ],
        [
         "Ches Bonnell",
         "Caramel Stuffed Bars",
         "17-Jan-22",
         "$8,757 ",
         162
        ],
        [
         "Dennison Crosswaite",
         "Milk Bars",
         "09-Jun-22",
         "$10,038 ",
         286
        ],
        [
         "Roddy Speechley",
         "Drinking Coco",
         "12-May-22",
         "$12,565 ",
         102
        ],
        [
         "Curtice Advani",
         "50% Dark Bites",
         "29-Jun-22",
         "$504 ",
         232
        ],
        [
         "Wilone O'Kielt",
         "Baker's Choco Chips",
         "25-Jan-22",
         "$2,961 ",
         154
        ],
        [
         "Brien Boise",
         "Milk Bars",
         "27-Jul-22",
         "$1,981 ",
         52
        ],
        [
         "Husein Augar",
         "Fruit & Nut Bars",
         "28-Jan-22",
         "$7,959 ",
         53
        ],
        [
         "Madelene Upcott",
         "Organic Choco Syrup",
         "05-Jul-22",
         "$10,794 ",
         50
        ],
        [
         "Oby Sorrel",
         "85% Dark Bars",
         "30-Jun-22",
         "$6,944 ",
         27
        ],
        [
         "Husein Augar",
         "White Choc",
         "11-May-22",
         "$3,171 ",
         220
        ],
        [
         "Van Tuxwell",
         "99% Dark & Pure",
         "17-Jan-22",
         "$112 ",
         128
        ],
        [
         "Brien Boise",
         "Spicy Special Slims",
         "09-May-22",
         "$6,223 ",
         256
        ],
        [
         "Rafaelita Blaksland",
         "Smooth Sliky Salty",
         "30-May-22",
         "$3,969 ",
         243
        ],
        [
         "Marney O'Breen",
         "Baker's Choco Chips",
         "13-Jan-22",
         "$5,810 ",
         101
        ],
        [
         "Kaine Padly",
         "Mint Chip Choco",
         "17-May-22",
         "$4,403 ",
         159
        ],
        [
         "Curtice Advani",
         "Eclairs",
         "25-Mar-22",
         "$5,796 ",
         55
        ],
        [
         "Madelene Upcott",
         "Orange Choco",
         "15-Apr-22",
         "$6,713 ",
         398
        ],
        [
         "Wilone O'Kielt",
         "50% Dark Bites",
         "03-Aug-22",
         "$10,031 ",
         114
        ],
        [
         "Karlen McCaffrey",
         "50% Dark Bites",
         "17-Jan-22",
         "$6,678 ",
         708
        ],
        [
         "Barr Faughny",
         "Caramel Stuffed Bars",
         "29-Jul-22",
         "$2,933 ",
         55
        ],
        [
         "Gigi Bohling",
         "Raspberry Choco",
         "30-Mar-22",
         "$6,524 ",
         303
        ],
        [
         "Mallorie Waber",
         "Choco Coated Almonds",
         "18-Mar-22",
         "$15,750 ",
         92
        ],
        [
         "Gigi Bohling",
         "Almond Choco",
         "17-Aug-22",
         "$910 ",
         117
        ],
        [
         "Jehu Rudeforth",
         "Milk Bars",
         "18-Mar-22",
         "$8,659 ",
         29
        ],
        [
         "Husein Augar",
         "99% Dark & Pure",
         "26-Aug-22",
         "$3,087 ",
         128
        ],
        [
         "Dotty Strutley",
         "Baker's Choco Chips",
         "07-Jun-22",
         "$3,605 ",
         68
        ],
        [
         "Barr Faughny",
         "85% Dark Bars",
         "10-Feb-22",
         "$8,498 ",
         44
        ],
        [
         "Beverie Moffet",
         "50% Dark Bites",
         "16-May-22",
         "$700 ",
         457
        ],
        [
         "Van Tuxwell",
         "50% Dark Bites",
         "13-Jul-22",
         "$644 ",
         137
        ],
        [
         "Kelci Walkden",
         "Milk Bars",
         "24-Feb-22",
         "$7,910 ",
         125
        ],
        [
         "Dotty Strutley",
         "Almond Choco",
         "13-May-22",
         "$1,456 ",
         91
        ],
        [
         "Andria Kimpton",
         "Manuka Honey Choco",
         "30-Mar-22",
         "$9,744 ",
         377
        ],
        [
         "Curtice Advani",
         "After Nines",
         "11-Aug-22",
         "$63 ",
         105
        ],
        [
         "Jan Morforth",
         "Drinking Coco",
         "18-Feb-22",
         "$2,821 ",
         24
        ],
        [
         "Rafaelita Blaksland",
         "Raspberry Choco",
         "19-Jan-22",
         "$6,916 ",
         259
        ],
        [
         "Kaine Padly",
         "50% Dark Bites",
         "02-Aug-22",
         "$8,995 ",
         78
        ],
        [
         "Gigi Bohling",
         "Eclairs",
         "12-Apr-22",
         "$7,252 ",
         136
        ],
        [
         "Andria Kimpton",
         "Baker's Choco Chips",
         "09-Aug-22",
         "$329 ",
         109
        ],
        [
         "Andria Kimpton",
         "Almond Choco",
         "25-Apr-22",
         "$3,192 ",
         175
        ],
        [
         "Madelene Upcott",
         "99% Dark & Pure",
         "01-Aug-22",
         "$4,326 ",
         154
        ],
        [
         "Mallorie Waber",
         "Eclairs",
         "22-Aug-22",
         "$9,527 ",
         222
        ],
        [
         "Kelci Walkden",
         "Almond Choco",
         "30-May-22",
         "$4,879 ",
         350
        ],
        [
         "Gigi Bohling",
         "70% Dark Bites",
         "18-Aug-22",
         "$1,372 ",
         105
        ],
        [
         "Jehu Rudeforth",
         "Spicy Special Slims",
         "13-Jan-22",
         "$5,012 ",
         384
        ],
        [
         "Barr Faughny",
         "Organic Choco Syrup",
         "07-Jan-22",
         "$2,303 ",
         33
        ],
        [
         "Van Tuxwell",
         "Baker's Choco Chips",
         "11-May-22",
         "$13,258 ",
         32
        ],
        [
         "Oby Sorrel",
         "50% Dark Bites",
         "06-May-22",
         "$721 ",
         151
        ],
        [
         "Curtice Advani",
         "Caramel Stuffed Bars",
         "14-Feb-22",
         "$9,114 ",
         140
        ],
        [
         "Dennison Crosswaite",
         "Drinking Coco",
         "13-Jul-22",
         "$7,091 ",
         194
        ],
        [
         "Barr Faughny",
         "Raspberry Choco",
         "27-May-22",
         "$9,268 ",
         100
        ],
        [
         "Dotty Strutley",
         "Choco Coated Almonds",
         "13-Apr-22",
         "$1,645 ",
         284
        ],
        [
         "Van Tuxwell",
         "70% Dark Bites",
         "10-Jan-22",
         "$7,063 ",
         104
        ],
        [
         "Roddy Speechley",
         "85% Dark Bars",
         "08-Jul-22",
         "$4,200 ",
         80
        ],
        [
         "Kaine Padly",
         "After Nines",
         "08-Apr-22",
         "$6,832 ",
         306
        ],
        [
         "Madelene Upcott",
         "Raspberry Choco",
         "13-Jul-22",
         "$6,321 ",
         88
        ],
        [
         "Oby Sorrel",
         "Manuka Honey Choco",
         "26-Jan-22",
         "$3,906 ",
         76
        ],
        [
         "Gigi Bohling",
         "Smooth Sliky Salty",
         "25-Jan-22",
         "$5,768 ",
         119
        ],
        [
         "Karlen McCaffrey",
         "Raspberry Choco",
         "23-Aug-22",
         "$994 ",
         57
        ],
        [
         "Gigi Bohling",
         "Orange Choco",
         "09-Mar-22",
         "$574 ",
         156
        ],
        [
         "Husein Augar",
         "Organic Choco Syrup",
         "08-Feb-22",
         "$938 ",
         158
        ],
        [
         "Brien Boise",
         "White Choc",
         "25-Aug-22",
         "$4,879 ",
         22
        ],
        [
         "Ches Bonnell",
         "Peanut Butter Cubes",
         "14-Mar-22",
         "$10,199 ",
         68
        ],
        [
         "Oby Sorrel",
         "Spicy Special Slims",
         "26-Apr-22",
         "$11,389 ",
         26
        ],
        [
         "Karlen McCaffrey",
         "99% Dark & Pure",
         "26-Jan-22",
         "$10,822 ",
         168
        ],
        [
         "Mallorie Waber",
         "Smooth Sliky Salty",
         "11-Feb-22",
         "$4,158 ",
         109
        ],
        [
         "Brien Boise",
         "Organic Choco Syrup",
         "15-Jul-22",
         "$4,263 ",
         264
        ],
        [
         "Dennison Crosswaite",
         "Baker's Choco Chips",
         "11-Jan-22",
         "$13,846 ",
         421
        ],
        [
         "Wilone O'Kielt",
         "Smooth Sliky Salty",
         "04-Jan-22",
         "$2,226 ",
         46
        ],
        [
         "Jehu Rudeforth",
         "After Nines",
         "14-Feb-22",
         "$5,250 ",
         47
        ],
        [
         "Mallorie Waber",
         "Raspberry Choco",
         "25-Apr-22",
         "$8,400 ",
         27
        ],
        [
         "Kelci Walkden",
         "Drinking Coco",
         "04-May-22",
         "$1,288 ",
         60
        ],
        [
         "Roddy Speechley",
         "Organic Choco Syrup",
         "04-Jul-22",
         "$3,647 ",
         76
        ],
        [
         "Gunar Cockshoot",
         "99% Dark & Pure",
         "18-Aug-22",
         "$7,952 ",
         235
        ],
        [
         "Ches Bonnell",
         "Choco Coated Almonds",
         "08-Apr-22",
         "$1,470 ",
         167
        ],
        [
         "Van Tuxwell",
         "Mint Chip Choco",
         "13-Jan-22",
         "$2,674 ",
         295
        ],
        [
         "Rafaelita Blaksland",
         "White Choc",
         "21-Mar-22",
         "$6,818 ",
         102
        ],
        [
         "Madelene Upcott",
         "70% Dark Bites",
         "15-Apr-22",
         "$3,710 ",
         260
        ],
        [
         "Dotty Strutley",
         "White Choc",
         "05-Jul-22",
         "$6,055 ",
         93
        ],
        [
         "Brien Boise",
         "Peanut Butter Cubes",
         "19-Aug-22",
         "$301 ",
         205
        ],
        [
         "Karlen McCaffrey",
         "Spicy Special Slims",
         "17-May-22",
         "$4,410 ",
         323
        ]
       ],
       "datasetInfos": [],
       "dbfsResultPath": null,
       "isJsonSchema": true,
       "metadata": {},
       "overflow": false,
       "plotOptions": {
        "customPlotOptions": {},
        "displayType": "table",
        "pivotAggregation": null,
        "pivotColumns": null,
        "xColumns": null,
        "yColumns": null
       },
       "removedWidgets": [],
       "schema": [
        {
         "metadata": "{}",
         "name": "Sales Person",
         "type": "\"string\""
        },
        {
         "metadata": "{}",
         "name": "Product",
         "type": "\"string\""
        },
        {
         "metadata": "{}",
         "name": "Date",
         "type": "\"string\""
        },
        {
         "metadata": "{}",
         "name": "Amount",
         "type": "\"string\""
        },
        {
         "metadata": "{}",
         "name": "Boxes Shipped",
         "type": "\"integer\""
        }
       ],
       "type": "table"
      }
     },
     "output_type": "display_data"
    }
   ],
   "source": [
    "df_particao = spark.read.parquet(\"dbfs:/FileStore/tables/Chocolate_Sales-1.parquet/Country=Australia/\")\n",
    "display(df_particao)\n"
   ]
  },
  {
   "cell_type": "code",
   "execution_count": 0,
   "metadata": {
    "application/vnd.databricks.v1+cell": {
     "cellMetadata": {
      "byteLimit": 2048000,
      "rowLimit": 10000
     },
     "collapsed": true,
     "inputWidgets": {},
     "nuid": "86c7bad5-bc57-4a30-bf34-c5f849924345",
     "showTitle": false,
     "tableResultSettingsMap": {},
     "title": ""
    }
   },
   "outputs": [
    {
     "output_type": "display_data",
     "data": {
      "text/html": [
       "<style scoped>\n",
       "  .table-result-container {\n",
       "    max-height: 300px;\n",
       "    overflow: auto;\n",
       "  }\n",
       "  table, th, td {\n",
       "    border: 1px solid black;\n",
       "    border-collapse: collapse;\n",
       "  }\n",
       "  th, td {\n",
       "    padding: 5px;\n",
       "  }\n",
       "  th {\n",
       "    text-align: left;\n",
       "  }\n",
       "</style><div class='table-result-container'><table class='table-result'><thead style='background-color: white'><tr><th>Sales Person</th><th>Product</th><th>Date</th><th>Amount</th><th>Boxes Shipped</th></tr></thead><tbody><tr><td>Jan Morforth</td><td>Peanut Butter Cubes</td><td>2022-04-27</td><td>$12,726 </td><td>342</td></tr><tr><td>Gunar Cockshoot</td><td>After Nines</td><td>2022-03-24</td><td>$3,080 </td><td>73</td></tr><tr><td>Brien Boise</td><td>99% Dark & Pure</td><td>2022-07-04</td><td>$2,835 </td><td>102</td></tr><tr><td>Beverie Moffet</td><td>Organic Choco Syrup</td><td>2022-01-26</td><td>$6,790 </td><td>356</td></tr><tr><td>Brien Boise</td><td>Eclairs</td><td>2022-06-27</td><td>$6,888 </td><td>88</td></tr><tr><td>Kaine Padly</td><td>Eclairs</td><td>2022-02-28</td><td>$7,672 </td><td>115</td></tr><tr><td>Wilone O'Kielt</td><td>Manuka Honey Choco</td><td>2022-05-11</td><td>$4,284 </td><td>94</td></tr><tr><td>Camilla Castle</td><td>85% Dark Bars</td><td>2022-05-19</td><td>$3,654 </td><td>14</td></tr><tr><td>Curtice Advani</td><td>Milk Bars</td><td>2022-02-14</td><td>$6,979 </td><td>18</td></tr><tr><td>Brien Boise</td><td>Fruit & Nut Bars</td><td>2022-06-06</td><td>$8,575 </td><td>23</td></tr><tr><td>Dotty Strutley</td><td>Drinking Coco</td><td>2022-07-19</td><td>$91 </td><td>135</td></tr><tr><td>Barr Faughny</td><td>Fruit & Nut Bars</td><td>2022-06-30</td><td>$15,421 </td><td>55</td></tr><tr><td>Andria Kimpton</td><td>50% Dark Bites</td><td>2022-06-02</td><td>$4,438 </td><td>227</td></tr><tr><td>Andria Kimpton</td><td>Drinking Coco</td><td>2022-06-28</td><td>$1,603 </td><td>48</td></tr><tr><td>Marney O'Breen</td><td>Organic Choco Syrup</td><td>2022-05-16</td><td>$273 </td><td>174</td></tr><tr><td>Wilone O'Kielt</td><td>Caramel Stuffed Bars</td><td>2022-04-14</td><td>$2,030 </td><td>11</td></tr><tr><td>Van Tuxwell</td><td>Organic Choco Syrup</td><td>2022-08-10</td><td>$19,453 </td><td>14</td></tr><tr><td>Dotty Strutley</td><td>Fruit & Nut Bars</td><td>2022-08-23</td><td>$280 </td><td>311</td></tr><tr><td>Dennison Crosswaite</td><td>70% Dark Bites</td><td>2022-02-07</td><td>$5,859 </td><td>108</td></tr><tr><td>Madelene Upcott</td><td>Spicy Special Slims</td><td>2022-03-07</td><td>$7,182 </td><td>408</td></tr><tr><td>Dennison Crosswaite</td><td>85% Dark Bars</td><td>2022-04-05</td><td>$6,881 </td><td>420</td></tr><tr><td>Wilone O'Kielt</td><td>Organic Choco Syrup</td><td>2022-07-07</td><td>$1,743 </td><td>111</td></tr><tr><td>Beverie Moffet</td><td>Eclairs</td><td>2022-06-20</td><td>$1,827 </td><td>6</td></tr><tr><td>Dennison Crosswaite</td><td>Raspberry Choco</td><td>2022-03-14</td><td>$5,740 </td><td>31</td></tr><tr><td>Madelene Upcott</td><td>Fruit & Nut Bars</td><td>2022-01-05</td><td>$5,579 </td><td>92</td></tr><tr><td>Wilone O'Kielt</td><td>Drinking Coco</td><td>2022-04-06</td><td>$623 </td><td>283</td></tr><tr><td>Gunar Cockshoot</td><td>Fruit & Nut Bars</td><td>2022-06-15</td><td>$6,013 </td><td>21</td></tr><tr><td>Rafaelita Blaksland</td><td>Drinking Coco</td><td>2022-02-21</td><td>$11,550 </td><td>396</td></tr><tr><td>Kelci Walkden</td><td>Eclairs</td><td>2022-03-23</td><td>$7,273 </td><td>547</td></tr><tr><td>Husein Augar</td><td>Orange Choco</td><td>2022-06-28</td><td>$8,897 </td><td>188</td></tr><tr><td>Marney O'Breen</td><td>Milk Bars</td><td>2022-07-28</td><td>$2,464 </td><td>387</td></tr><tr><td>Kaine Padly</td><td>Manuka Honey Choco</td><td>2022-01-12</td><td>$2,765 </td><td>264</td></tr><tr><td>Ches Bonnell</td><td>Eclairs</td><td>2022-07-05</td><td>$4,116 </td><td>128</td></tr><tr><td>Brien Boise</td><td>Baker's Choco Chips</td><td>2022-01-04</td><td>$12,516 </td><td>212</td></tr><tr><td>Dennison Crosswaite</td><td>99% Dark & Pure</td><td>2022-01-31</td><td>$2,758 </td><td>18</td></tr><tr><td>Camilla Castle</td><td>70% Dark Bites</td><td>2022-04-29</td><td>$6,048 </td><td>477</td></tr><tr><td>Curtice Advani</td><td>Orange Choco</td><td>2022-07-12</td><td>$854 </td><td>136</td></tr><tr><td>Mallorie Waber</td><td>Milk Bars</td><td>2022-07-29</td><td>$2,779 </td><td>104</td></tr><tr><td>Ches Bonnell</td><td>White Choc</td><td>2022-03-02</td><td>$1,043 </td><td>202</td></tr><tr><td>Jehu Rudeforth</td><td>50% Dark Bites</td><td>2022-01-14</td><td>$5,194 </td><td>418</td></tr><tr><td>Jehu Rudeforth</td><td>Orange Choco</td><td>2022-03-23</td><td>$13,706 </td><td>26</td></tr><tr><td>Barr Faughny</td><td>White Choc</td><td>2022-07-04</td><td>$8,113 </td><td>370</td></tr><tr><td>Dennison Crosswaite</td><td>50% Dark Bites</td><td>2022-04-01</td><td>$7,287 </td><td>12</td></tr><tr><td>Curtice Advani</td><td>Organic Choco Syrup</td><td>2022-06-28</td><td>$3,472 </td><td>311</td></tr><tr><td>Wilone O'Kielt</td><td>After Nines</td><td>2022-05-27</td><td>$3,325 </td><td>26</td></tr><tr><td>Jan Morforth</td><td>White Choc</td><td>2022-07-27</td><td>$3,472 </td><td>32</td></tr><tr><td>Ches Bonnell</td><td>Mint Chip Choco</td><td>2022-02-21</td><td>$9,660 </td><td>92</td></tr><tr><td>Karlen McCaffrey</td><td>White Choc</td><td>2022-01-05</td><td>$7,357 </td><td>48</td></tr><tr><td>Brien Boise</td><td>Choco Coated Almonds</td><td>2022-05-25</td><td>$5,124 </td><td>62</td></tr><tr><td>Beverie Moffet</td><td>Milk Bars</td><td>2022-05-25</td><td>$735 </td><td>390</td></tr><tr><td>Jan Morforth</td><td>Orange Choco</td><td>2022-07-04</td><td>$3,199 </td><td>122</td></tr><tr><td>Ches Bonnell</td><td>70% Dark Bites</td><td>2022-01-12</td><td>$3,136 </td><td>125</td></tr><tr><td>Kaine Padly</td><td>Peanut Butter Cubes</td><td>2022-03-25</td><td>$5,460 </td><td>286</td></tr><tr><td>Husein Augar</td><td>Manuka Honey Choco</td><td>2022-03-15</td><td>$7,161 </td><td>92</td></tr><tr><td>Van Tuxwell</td><td>Milk Bars</td><td>2022-06-20</td><td>$7,910 </td><td>87</td></tr><tr><td>Dotty Strutley</td><td>50% Dark Bites</td><td>2022-05-12</td><td>$3,108 </td><td>252</td></tr><tr><td>Madelene Upcott</td><td>50% Dark Bites</td><td>2022-07-25</td><td>$7,350 </td><td>6</td></tr><tr><td>Gunar Cockshoot</td><td>Almond Choco</td><td>2022-01-25</td><td>$3,752 </td><td>424</td></tr><tr><td>Beverie Moffet</td><td>Baker's Choco Chips</td><td>2022-08-04</td><td>$3,192 </td><td>109</td></tr><tr><td>Marney O'Breen</td><td>Smooth Sliky Salty</td><td>2022-01-03</td><td>$3,745 </td><td>170</td></tr><tr><td>Mallorie Waber</td><td>Orange Choco</td><td>2022-03-07</td><td>$14,658 </td><td>275</td></tr><tr><td>Gigi Bohling</td><td>Drinking Coco</td><td>2022-07-27</td><td>$2,807 </td><td>139</td></tr><tr><td>Beverie Moffet</td><td>White Choc</td><td>2022-06-27</td><td>$2,240 </td><td>166</td></tr><tr><td>Dotty Strutley</td><td>Eclairs</td><td>2022-01-26</td><td>$6,979 </td><td>3</td></tr><tr><td>Wilone O'Kielt</td><td>Fruit & Nut Bars</td><td>2022-06-15</td><td>$392 </td><td>102</td></tr><tr><td>Karlen McCaffrey</td><td>Almond Choco</td><td>2022-07-08</td><td>$7,294 </td><td>128</td></tr><tr><td>Husein Augar</td><td>50% Dark Bites</td><td>2022-08-19</td><td>$14,889 </td><td>52</td></tr><tr><td>Madelene Upcott</td><td>Choco Coated Almonds</td><td>2022-04-08</td><td>$2,058 </td><td>72</td></tr><tr><td>Mallorie Waber</td><td>85% Dark Bars</td><td>2022-08-26</td><td>$2,541 </td><td>53</td></tr><tr><td>Gigi Bohling</td><td>White Choc</td><td>2022-05-11</td><td>$5,523 </td><td>87</td></tr><tr><td>Mallorie Waber</td><td>Almond Choco</td><td>2022-08-01</td><td>$7,882 </td><td>125</td></tr><tr><td>Brien Boise</td><td>Drinking Coco</td><td>2022-07-27</td><td>$6,832 </td><td>156</td></tr><tr><td>Rafaelita Blaksland</td><td>50% Dark Bites</td><td>2022-03-22</td><td>$3,010 </td><td>40</td></tr><tr><td>Kelci Walkden</td><td>After Nines</td><td>2022-03-02</td><td>$6,916 </td><td>288</td></tr><tr><td>Gunar Cockshoot</td><td>Raspberry Choco</td><td>2022-03-17</td><td>$602 </td><td>72</td></tr><tr><td>Van Tuxwell</td><td>Caramel Stuffed Bars</td><td>2022-05-17</td><td>$5,936 </td><td>59</td></tr><tr><td>Curtice Advani</td><td>Almond Choco</td><td>2022-07-13</td><td>$2,912 </td><td>75</td></tr><tr><td>Madelene Upcott</td><td>85% Dark Bars</td><td>2022-06-16</td><td>$1,575 </td><td>329</td></tr><tr><td>Jehu Rudeforth</td><td>Peanut Butter Cubes</td><td>2022-06-24</td><td>$5,691 </td><td>38</td></tr><tr><td>Camilla Castle</td><td>Caramel Stuffed Bars</td><td>2022-05-02</td><td>$3,178 </td><td>16</td></tr><tr><td>Curtice Advani</td><td>99% Dark & Pure</td><td>2022-01-07</td><td>$4,676 </td><td>84</td></tr><tr><td>Gunar Cockshoot</td><td>Drinking Coco</td><td>2022-01-14</td><td>$2,317 </td><td>195</td></tr><tr><td>Dotty Strutley</td><td>Mint Chip Choco</td><td>2022-08-01</td><td>$6,790 </td><td>25</td></tr><tr><td>Roddy Speechley</td><td>Mint Chip Choco</td><td>2022-05-05</td><td>$6,797 </td><td>252</td></tr><tr><td>Roddy Speechley</td><td>Almond Choco</td><td>2022-06-24</td><td>$4,466 </td><td>74</td></tr><tr><td>Camilla Castle</td><td>99% Dark & Pure</td><td>2022-01-18</td><td>$4,669 </td><td>101</td></tr><tr><td>Ches Bonnell</td><td>Smooth Sliky Salty</td><td>2022-05-16</td><td>$7,490 </td><td>54</td></tr><tr><td>Husein Augar</td><td>Eclairs</td><td>2022-07-04</td><td>$6,993 </td><td>31</td></tr><tr><td>Camilla Castle</td><td>Manuka Honey Choco</td><td>2022-03-17</td><td>$637 </td><td>169</td></tr><tr><td>Oby Sorrel</td><td>Almond Choco</td><td>2022-02-15</td><td>$6,034 </td><td>223</td></tr><tr><td>Dennison Crosswaite</td><td>Organic Choco Syrup</td><td>2022-05-10</td><td>$5,775 </td><td>41</td></tr><tr><td>Marney O'Breen</td><td>Spicy Special Slims</td><td>2022-06-23</td><td>$13,125 </td><td>275</td></tr><tr><td>Rafaelita Blaksland</td><td>Organic Choco Syrup</td><td>2022-01-26</td><td>$994 </td><td>105</td></tr><tr><td>Oby Sorrel</td><td>Raspberry Choco</td><td>2022-02-17</td><td>$1,043 </td><td>120</td></tr><tr><td>Jan Morforth</td><td>50% Dark Bites</td><td>2022-06-14</td><td>$3,402 </td><td>182</td></tr><tr><td>Beverie Moffet</td><td>Smooth Sliky Salty</td><td>2022-01-25</td><td>$10,507 </td><td>467</td></tr><tr><td>Karlen McCaffrey</td><td>70% Dark Bites</td><td>2022-06-24</td><td>$238 </td><td>317</td></tr><tr><td>Oby Sorrel</td><td>Milk Bars</td><td>2022-06-21</td><td>$7,672 </td><td>254</td></tr><tr><td>Andria Kimpton</td><td>85% Dark Bars</td><td>2022-08-23</td><td>$4,186 </td><td>233</td></tr><tr><td>Camilla Castle</td><td>Smooth Sliky Salty</td><td>2022-03-03</td><td>$7,406 </td><td>118</td></tr><tr><td>Jehu Rudeforth</td><td>Drinking Coco</td><td>2022-01-14</td><td>$2,611 </td><td>65</td></tr><tr><td>Gigi Bohling</td><td>Caramel Stuffed Bars</td><td>2022-07-08</td><td>$8,001 </td><td>151</td></tr><tr><td>Andria Kimpton</td><td>Peanut Butter Cubes</td><td>2022-04-20</td><td>$6,678 </td><td>148</td></tr><tr><td>Jan Morforth</td><td>70% Dark Bites</td><td>2022-03-04</td><td>$5,222 </td><td>384</td></tr><tr><td>Kaine Padly</td><td>70% Dark Bites</td><td>2022-02-08</td><td>$6,706 </td><td>223</td></tr><tr><td>Kaine Padly</td><td>Fruit & Nut Bars</td><td>2022-06-20</td><td>$7,434 </td><td>85</td></tr><tr><td>Madelene Upcott</td><td>Mint Chip Choco</td><td>2022-05-02</td><td>$2,751 </td><td>153</td></tr><tr><td>Rafaelita Blaksland</td><td>Baker's Choco Chips</td><td>2022-08-22</td><td>$2,786 </td><td>51</td></tr><tr><td>Karlen McCaffrey</td><td>After Nines</td><td>2022-08-11</td><td>$2,303 </td><td>67</td></tr><tr><td>Gunar Cockshoot</td><td>50% Dark Bites</td><td>2022-03-02</td><td>$12,271 </td><td>116</td></tr><tr><td>Marney O'Breen</td><td>Choco Coated Almonds</td><td>2022-07-27</td><td>$11,298 </td><td>41</td></tr><tr><td>Camilla Castle</td><td>Raspberry Choco</td><td>2022-08-23</td><td>$6,342 </td><td>178</td></tr><tr><td>Kelci Walkden</td><td>99% Dark & Pure</td><td>2022-06-30</td><td>$3,185 </td><td>34</td></tr><tr><td>Dotty Strutley</td><td>Spicy Special Slims</td><td>2022-01-17</td><td>$8,225 </td><td>91</td></tr><tr><td>Kaine Padly</td><td>Almond Choco</td><td>2022-02-22</td><td>$4,102 </td><td>392</td></tr><tr><td>Kelci Walkden</td><td>Orange Choco</td><td>2022-04-29</td><td>$11,116 </td><td>432</td></tr><tr><td>Marney O'Breen</td><td>Manuka Honey Choco</td><td>2022-04-05</td><td>$13,076 </td><td>236</td></tr><tr><td>Kelci Walkden</td><td>White Choc</td><td>2022-08-24</td><td>$8,715 </td><td>168</td></tr><tr><td>Kaine Padly</td><td>Milk Bars</td><td>2022-06-09</td><td>$4,046 </td><td>89</td></tr><tr><td>Rafaelita Blaksland</td><td>Manuka Honey Choco</td><td>2022-08-03</td><td>$4,396 </td><td>131</td></tr><tr><td>Mallorie Waber</td><td>Spicy Special Slims</td><td>2022-06-29</td><td>$5,439 </td><td>287</td></tr><tr><td>Beverie Moffet</td><td>Fruit & Nut Bars</td><td>2022-04-22</td><td>$1,435 </td><td>258</td></tr><tr><td>Kelci Walkden</td><td>Raspberry Choco</td><td>2022-06-07</td><td>$679 </td><td>56</td></tr><tr><td>Jehu Rudeforth</td><td>99% Dark & Pure</td><td>2022-02-25</td><td>$10,486 </td><td>198</td></tr><tr><td>Jan Morforth</td><td>Mint Chip Choco</td><td>2022-02-22</td><td>$17,626 </td><td>103</td></tr><tr><td>Ches Bonnell</td><td>Caramel Stuffed Bars</td><td>2022-01-17</td><td>$8,757 </td><td>162</td></tr><tr><td>Dennison Crosswaite</td><td>Milk Bars</td><td>2022-06-09</td><td>$10,038 </td><td>286</td></tr><tr><td>Roddy Speechley</td><td>Drinking Coco</td><td>2022-05-12</td><td>$12,565 </td><td>102</td></tr><tr><td>Curtice Advani</td><td>50% Dark Bites</td><td>2022-06-29</td><td>$504 </td><td>232</td></tr><tr><td>Wilone O'Kielt</td><td>Baker's Choco Chips</td><td>2022-01-25</td><td>$2,961 </td><td>154</td></tr><tr><td>Brien Boise</td><td>Milk Bars</td><td>2022-07-27</td><td>$1,981 </td><td>52</td></tr><tr><td>Husein Augar</td><td>Fruit & Nut Bars</td><td>2022-01-28</td><td>$7,959 </td><td>53</td></tr><tr><td>Madelene Upcott</td><td>Organic Choco Syrup</td><td>2022-07-05</td><td>$10,794 </td><td>50</td></tr><tr><td>Oby Sorrel</td><td>85% Dark Bars</td><td>2022-06-30</td><td>$6,944 </td><td>27</td></tr><tr><td>Husein Augar</td><td>White Choc</td><td>2022-05-11</td><td>$3,171 </td><td>220</td></tr><tr><td>Van Tuxwell</td><td>99% Dark & Pure</td><td>2022-01-17</td><td>$112 </td><td>128</td></tr><tr><td>Brien Boise</td><td>Spicy Special Slims</td><td>2022-05-09</td><td>$6,223 </td><td>256</td></tr><tr><td>Rafaelita Blaksland</td><td>Smooth Sliky Salty</td><td>2022-05-30</td><td>$3,969 </td><td>243</td></tr><tr><td>Marney O'Breen</td><td>Baker's Choco Chips</td><td>2022-01-13</td><td>$5,810 </td><td>101</td></tr><tr><td>Kaine Padly</td><td>Mint Chip Choco</td><td>2022-05-17</td><td>$4,403 </td><td>159</td></tr><tr><td>Curtice Advani</td><td>Eclairs</td><td>2022-03-25</td><td>$5,796 </td><td>55</td></tr><tr><td>Madelene Upcott</td><td>Orange Choco</td><td>2022-04-15</td><td>$6,713 </td><td>398</td></tr><tr><td>Wilone O'Kielt</td><td>50% Dark Bites</td><td>2022-08-03</td><td>$10,031 </td><td>114</td></tr><tr><td>Karlen McCaffrey</td><td>50% Dark Bites</td><td>2022-01-17</td><td>$6,678 </td><td>708</td></tr><tr><td>Barr Faughny</td><td>Caramel Stuffed Bars</td><td>2022-07-29</td><td>$2,933 </td><td>55</td></tr><tr><td>Gigi Bohling</td><td>Raspberry Choco</td><td>2022-03-30</td><td>$6,524 </td><td>303</td></tr><tr><td>Mallorie Waber</td><td>Choco Coated Almonds</td><td>2022-03-18</td><td>$15,750 </td><td>92</td></tr><tr><td>Gigi Bohling</td><td>Almond Choco</td><td>2022-08-17</td><td>$910 </td><td>117</td></tr><tr><td>Jehu Rudeforth</td><td>Milk Bars</td><td>2022-03-18</td><td>$8,659 </td><td>29</td></tr><tr><td>Husein Augar</td><td>99% Dark & Pure</td><td>2022-08-26</td><td>$3,087 </td><td>128</td></tr><tr><td>Dotty Strutley</td><td>Baker's Choco Chips</td><td>2022-06-07</td><td>$3,605 </td><td>68</td></tr><tr><td>Barr Faughny</td><td>85% Dark Bars</td><td>2022-02-10</td><td>$8,498 </td><td>44</td></tr><tr><td>Beverie Moffet</td><td>50% Dark Bites</td><td>2022-05-16</td><td>$700 </td><td>457</td></tr><tr><td>Van Tuxwell</td><td>50% Dark Bites</td><td>2022-07-13</td><td>$644 </td><td>137</td></tr><tr><td>Kelci Walkden</td><td>Milk Bars</td><td>2022-02-24</td><td>$7,910 </td><td>125</td></tr><tr><td>Dotty Strutley</td><td>Almond Choco</td><td>2022-05-13</td><td>$1,456 </td><td>91</td></tr><tr><td>Andria Kimpton</td><td>Manuka Honey Choco</td><td>2022-03-30</td><td>$9,744 </td><td>377</td></tr><tr><td>Curtice Advani</td><td>After Nines</td><td>2022-08-11</td><td>$63 </td><td>105</td></tr><tr><td>Jan Morforth</td><td>Drinking Coco</td><td>2022-02-18</td><td>$2,821 </td><td>24</td></tr><tr><td>Rafaelita Blaksland</td><td>Raspberry Choco</td><td>2022-01-19</td><td>$6,916 </td><td>259</td></tr><tr><td>Kaine Padly</td><td>50% Dark Bites</td><td>2022-08-02</td><td>$8,995 </td><td>78</td></tr><tr><td>Gigi Bohling</td><td>Eclairs</td><td>2022-04-12</td><td>$7,252 </td><td>136</td></tr><tr><td>Andria Kimpton</td><td>Baker's Choco Chips</td><td>2022-08-09</td><td>$329 </td><td>109</td></tr><tr><td>Andria Kimpton</td><td>Almond Choco</td><td>2022-04-25</td><td>$3,192 </td><td>175</td></tr><tr><td>Madelene Upcott</td><td>99% Dark & Pure</td><td>2022-08-01</td><td>$4,326 </td><td>154</td></tr><tr><td>Mallorie Waber</td><td>Eclairs</td><td>2022-08-22</td><td>$9,527 </td><td>222</td></tr><tr><td>Kelci Walkden</td><td>Almond Choco</td><td>2022-05-30</td><td>$4,879 </td><td>350</td></tr><tr><td>Gigi Bohling</td><td>70% Dark Bites</td><td>2022-08-18</td><td>$1,372 </td><td>105</td></tr><tr><td>Jehu Rudeforth</td><td>Spicy Special Slims</td><td>2022-01-13</td><td>$5,012 </td><td>384</td></tr><tr><td>Barr Faughny</td><td>Organic Choco Syrup</td><td>2022-01-07</td><td>$2,303 </td><td>33</td></tr><tr><td>Van Tuxwell</td><td>Baker's Choco Chips</td><td>2022-05-11</td><td>$13,258 </td><td>32</td></tr><tr><td>Oby Sorrel</td><td>50% Dark Bites</td><td>2022-05-06</td><td>$721 </td><td>151</td></tr><tr><td>Curtice Advani</td><td>Caramel Stuffed Bars</td><td>2022-02-14</td><td>$9,114 </td><td>140</td></tr><tr><td>Dennison Crosswaite</td><td>Drinking Coco</td><td>2022-07-13</td><td>$7,091 </td><td>194</td></tr><tr><td>Barr Faughny</td><td>Raspberry Choco</td><td>2022-05-27</td><td>$9,268 </td><td>100</td></tr><tr><td>Dotty Strutley</td><td>Choco Coated Almonds</td><td>2022-04-13</td><td>$1,645 </td><td>284</td></tr><tr><td>Van Tuxwell</td><td>70% Dark Bites</td><td>2022-01-10</td><td>$7,063 </td><td>104</td></tr><tr><td>Roddy Speechley</td><td>85% Dark Bars</td><td>2022-07-08</td><td>$4,200 </td><td>80</td></tr><tr><td>Kaine Padly</td><td>After Nines</td><td>2022-04-08</td><td>$6,832 </td><td>306</td></tr><tr><td>Madelene Upcott</td><td>Raspberry Choco</td><td>2022-07-13</td><td>$6,321 </td><td>88</td></tr><tr><td>Oby Sorrel</td><td>Manuka Honey Choco</td><td>2022-01-26</td><td>$3,906 </td><td>76</td></tr><tr><td>Gigi Bohling</td><td>Smooth Sliky Salty</td><td>2022-01-25</td><td>$5,768 </td><td>119</td></tr><tr><td>Karlen McCaffrey</td><td>Raspberry Choco</td><td>2022-08-23</td><td>$994 </td><td>57</td></tr><tr><td>Gigi Bohling</td><td>Orange Choco</td><td>2022-03-09</td><td>$574 </td><td>156</td></tr><tr><td>Husein Augar</td><td>Organic Choco Syrup</td><td>2022-02-08</td><td>$938 </td><td>158</td></tr><tr><td>Brien Boise</td><td>White Choc</td><td>2022-08-25</td><td>$4,879 </td><td>22</td></tr><tr><td>Ches Bonnell</td><td>Peanut Butter Cubes</td><td>2022-03-14</td><td>$10,199 </td><td>68</td></tr><tr><td>Oby Sorrel</td><td>Spicy Special Slims</td><td>2022-04-26</td><td>$11,389 </td><td>26</td></tr><tr><td>Karlen McCaffrey</td><td>99% Dark & Pure</td><td>2022-01-26</td><td>$10,822 </td><td>168</td></tr><tr><td>Mallorie Waber</td><td>Smooth Sliky Salty</td><td>2022-02-11</td><td>$4,158 </td><td>109</td></tr><tr><td>Brien Boise</td><td>Organic Choco Syrup</td><td>2022-07-15</td><td>$4,263 </td><td>264</td></tr><tr><td>Dennison Crosswaite</td><td>Baker's Choco Chips</td><td>2022-01-11</td><td>$13,846 </td><td>421</td></tr><tr><td>Wilone O'Kielt</td><td>Smooth Sliky Salty</td><td>2022-01-04</td><td>$2,226 </td><td>46</td></tr><tr><td>Jehu Rudeforth</td><td>After Nines</td><td>2022-02-14</td><td>$5,250 </td><td>47</td></tr><tr><td>Mallorie Waber</td><td>Raspberry Choco</td><td>2022-04-25</td><td>$8,400 </td><td>27</td></tr><tr><td>Kelci Walkden</td><td>Drinking Coco</td><td>2022-05-04</td><td>$1,288 </td><td>60</td></tr><tr><td>Roddy Speechley</td><td>Organic Choco Syrup</td><td>2022-07-04</td><td>$3,647 </td><td>76</td></tr><tr><td>Gunar Cockshoot</td><td>99% Dark & Pure</td><td>2022-08-18</td><td>$7,952 </td><td>235</td></tr><tr><td>Ches Bonnell</td><td>Choco Coated Almonds</td><td>2022-04-08</td><td>$1,470 </td><td>167</td></tr><tr><td>Van Tuxwell</td><td>Mint Chip Choco</td><td>2022-01-13</td><td>$2,674 </td><td>295</td></tr><tr><td>Rafaelita Blaksland</td><td>White Choc</td><td>2022-03-21</td><td>$6,818 </td><td>102</td></tr><tr><td>Madelene Upcott</td><td>70% Dark Bites</td><td>2022-04-15</td><td>$3,710 </td><td>260</td></tr><tr><td>Dotty Strutley</td><td>White Choc</td><td>2022-07-05</td><td>$6,055 </td><td>93</td></tr><tr><td>Brien Boise</td><td>Peanut Butter Cubes</td><td>2022-08-19</td><td>$301 </td><td>205</td></tr><tr><td>Karlen McCaffrey</td><td>Spicy Special Slims</td><td>2022-05-17</td><td>$4,410 </td><td>323</td></tr></tbody></table></div>"
      ]
     },
     "metadata": {
      "application/vnd.databricks.v1+output": {
       "addedWidgets": {},
       "aggData": [],
       "aggError": "",
       "aggOverflow": false,
       "aggSchema": [],
       "aggSeriesLimitReached": false,
       "aggType": "",
       "arguments": {},
       "columnCustomDisplayInfos": {},
       "data": [
        [
         "Jan Morforth",
         "Peanut Butter Cubes",
         "2022-04-27",
         "$12,726 ",
         342
        ],
        [
         "Gunar Cockshoot",
         "After Nines",
         "2022-03-24",
         "$3,080 ",
         73
        ],
        [
         "Brien Boise",
         "99% Dark & Pure",
         "2022-07-04",
         "$2,835 ",
         102
        ],
        [
         "Beverie Moffet",
         "Organic Choco Syrup",
         "2022-01-26",
         "$6,790 ",
         356
        ],
        [
         "Brien Boise",
         "Eclairs",
         "2022-06-27",
         "$6,888 ",
         88
        ],
        [
         "Kaine Padly",
         "Eclairs",
         "2022-02-28",
         "$7,672 ",
         115
        ],
        [
         "Wilone O'Kielt",
         "Manuka Honey Choco",
         "2022-05-11",
         "$4,284 ",
         94
        ],
        [
         "Camilla Castle",
         "85% Dark Bars",
         "2022-05-19",
         "$3,654 ",
         14
        ],
        [
         "Curtice Advani",
         "Milk Bars",
         "2022-02-14",
         "$6,979 ",
         18
        ],
        [
         "Brien Boise",
         "Fruit & Nut Bars",
         "2022-06-06",
         "$8,575 ",
         23
        ],
        [
         "Dotty Strutley",
         "Drinking Coco",
         "2022-07-19",
         "$91 ",
         135
        ],
        [
         "Barr Faughny",
         "Fruit & Nut Bars",
         "2022-06-30",
         "$15,421 ",
         55
        ],
        [
         "Andria Kimpton",
         "50% Dark Bites",
         "2022-06-02",
         "$4,438 ",
         227
        ],
        [
         "Andria Kimpton",
         "Drinking Coco",
         "2022-06-28",
         "$1,603 ",
         48
        ],
        [
         "Marney O'Breen",
         "Organic Choco Syrup",
         "2022-05-16",
         "$273 ",
         174
        ],
        [
         "Wilone O'Kielt",
         "Caramel Stuffed Bars",
         "2022-04-14",
         "$2,030 ",
         11
        ],
        [
         "Van Tuxwell",
         "Organic Choco Syrup",
         "2022-08-10",
         "$19,453 ",
         14
        ],
        [
         "Dotty Strutley",
         "Fruit & Nut Bars",
         "2022-08-23",
         "$280 ",
         311
        ],
        [
         "Dennison Crosswaite",
         "70% Dark Bites",
         "2022-02-07",
         "$5,859 ",
         108
        ],
        [
         "Madelene Upcott",
         "Spicy Special Slims",
         "2022-03-07",
         "$7,182 ",
         408
        ],
        [
         "Dennison Crosswaite",
         "85% Dark Bars",
         "2022-04-05",
         "$6,881 ",
         420
        ],
        [
         "Wilone O'Kielt",
         "Organic Choco Syrup",
         "2022-07-07",
         "$1,743 ",
         111
        ],
        [
         "Beverie Moffet",
         "Eclairs",
         "2022-06-20",
         "$1,827 ",
         6
        ],
        [
         "Dennison Crosswaite",
         "Raspberry Choco",
         "2022-03-14",
         "$5,740 ",
         31
        ],
        [
         "Madelene Upcott",
         "Fruit & Nut Bars",
         "2022-01-05",
         "$5,579 ",
         92
        ],
        [
         "Wilone O'Kielt",
         "Drinking Coco",
         "2022-04-06",
         "$623 ",
         283
        ],
        [
         "Gunar Cockshoot",
         "Fruit & Nut Bars",
         "2022-06-15",
         "$6,013 ",
         21
        ],
        [
         "Rafaelita Blaksland",
         "Drinking Coco",
         "2022-02-21",
         "$11,550 ",
         396
        ],
        [
         "Kelci Walkden",
         "Eclairs",
         "2022-03-23",
         "$7,273 ",
         547
        ],
        [
         "Husein Augar",
         "Orange Choco",
         "2022-06-28",
         "$8,897 ",
         188
        ],
        [
         "Marney O'Breen",
         "Milk Bars",
         "2022-07-28",
         "$2,464 ",
         387
        ],
        [
         "Kaine Padly",
         "Manuka Honey Choco",
         "2022-01-12",
         "$2,765 ",
         264
        ],
        [
         "Ches Bonnell",
         "Eclairs",
         "2022-07-05",
         "$4,116 ",
         128
        ],
        [
         "Brien Boise",
         "Baker's Choco Chips",
         "2022-01-04",
         "$12,516 ",
         212
        ],
        [
         "Dennison Crosswaite",
         "99% Dark & Pure",
         "2022-01-31",
         "$2,758 ",
         18
        ],
        [
         "Camilla Castle",
         "70% Dark Bites",
         "2022-04-29",
         "$6,048 ",
         477
        ],
        [
         "Curtice Advani",
         "Orange Choco",
         "2022-07-12",
         "$854 ",
         136
        ],
        [
         "Mallorie Waber",
         "Milk Bars",
         "2022-07-29",
         "$2,779 ",
         104
        ],
        [
         "Ches Bonnell",
         "White Choc",
         "2022-03-02",
         "$1,043 ",
         202
        ],
        [
         "Jehu Rudeforth",
         "50% Dark Bites",
         "2022-01-14",
         "$5,194 ",
         418
        ],
        [
         "Jehu Rudeforth",
         "Orange Choco",
         "2022-03-23",
         "$13,706 ",
         26
        ],
        [
         "Barr Faughny",
         "White Choc",
         "2022-07-04",
         "$8,113 ",
         370
        ],
        [
         "Dennison Crosswaite",
         "50% Dark Bites",
         "2022-04-01",
         "$7,287 ",
         12
        ],
        [
         "Curtice Advani",
         "Organic Choco Syrup",
         "2022-06-28",
         "$3,472 ",
         311
        ],
        [
         "Wilone O'Kielt",
         "After Nines",
         "2022-05-27",
         "$3,325 ",
         26
        ],
        [
         "Jan Morforth",
         "White Choc",
         "2022-07-27",
         "$3,472 ",
         32
        ],
        [
         "Ches Bonnell",
         "Mint Chip Choco",
         "2022-02-21",
         "$9,660 ",
         92
        ],
        [
         "Karlen McCaffrey",
         "White Choc",
         "2022-01-05",
         "$7,357 ",
         48
        ],
        [
         "Brien Boise",
         "Choco Coated Almonds",
         "2022-05-25",
         "$5,124 ",
         62
        ],
        [
         "Beverie Moffet",
         "Milk Bars",
         "2022-05-25",
         "$735 ",
         390
        ],
        [
         "Jan Morforth",
         "Orange Choco",
         "2022-07-04",
         "$3,199 ",
         122
        ],
        [
         "Ches Bonnell",
         "70% Dark Bites",
         "2022-01-12",
         "$3,136 ",
         125
        ],
        [
         "Kaine Padly",
         "Peanut Butter Cubes",
         "2022-03-25",
         "$5,460 ",
         286
        ],
        [
         "Husein Augar",
         "Manuka Honey Choco",
         "2022-03-15",
         "$7,161 ",
         92
        ],
        [
         "Van Tuxwell",
         "Milk Bars",
         "2022-06-20",
         "$7,910 ",
         87
        ],
        [
         "Dotty Strutley",
         "50% Dark Bites",
         "2022-05-12",
         "$3,108 ",
         252
        ],
        [
         "Madelene Upcott",
         "50% Dark Bites",
         "2022-07-25",
         "$7,350 ",
         6
        ],
        [
         "Gunar Cockshoot",
         "Almond Choco",
         "2022-01-25",
         "$3,752 ",
         424
        ],
        [
         "Beverie Moffet",
         "Baker's Choco Chips",
         "2022-08-04",
         "$3,192 ",
         109
        ],
        [
         "Marney O'Breen",
         "Smooth Sliky Salty",
         "2022-01-03",
         "$3,745 ",
         170
        ],
        [
         "Mallorie Waber",
         "Orange Choco",
         "2022-03-07",
         "$14,658 ",
         275
        ],
        [
         "Gigi Bohling",
         "Drinking Coco",
         "2022-07-27",
         "$2,807 ",
         139
        ],
        [
         "Beverie Moffet",
         "White Choc",
         "2022-06-27",
         "$2,240 ",
         166
        ],
        [
         "Dotty Strutley",
         "Eclairs",
         "2022-01-26",
         "$6,979 ",
         3
        ],
        [
         "Wilone O'Kielt",
         "Fruit & Nut Bars",
         "2022-06-15",
         "$392 ",
         102
        ],
        [
         "Karlen McCaffrey",
         "Almond Choco",
         "2022-07-08",
         "$7,294 ",
         128
        ],
        [
         "Husein Augar",
         "50% Dark Bites",
         "2022-08-19",
         "$14,889 ",
         52
        ],
        [
         "Madelene Upcott",
         "Choco Coated Almonds",
         "2022-04-08",
         "$2,058 ",
         72
        ],
        [
         "Mallorie Waber",
         "85% Dark Bars",
         "2022-08-26",
         "$2,541 ",
         53
        ],
        [
         "Gigi Bohling",
         "White Choc",
         "2022-05-11",
         "$5,523 ",
         87
        ],
        [
         "Mallorie Waber",
         "Almond Choco",
         "2022-08-01",
         "$7,882 ",
         125
        ],
        [
         "Brien Boise",
         "Drinking Coco",
         "2022-07-27",
         "$6,832 ",
         156
        ],
        [
         "Rafaelita Blaksland",
         "50% Dark Bites",
         "2022-03-22",
         "$3,010 ",
         40
        ],
        [
         "Kelci Walkden",
         "After Nines",
         "2022-03-02",
         "$6,916 ",
         288
        ],
        [
         "Gunar Cockshoot",
         "Raspberry Choco",
         "2022-03-17",
         "$602 ",
         72
        ],
        [
         "Van Tuxwell",
         "Caramel Stuffed Bars",
         "2022-05-17",
         "$5,936 ",
         59
        ],
        [
         "Curtice Advani",
         "Almond Choco",
         "2022-07-13",
         "$2,912 ",
         75
        ],
        [
         "Madelene Upcott",
         "85% Dark Bars",
         "2022-06-16",
         "$1,575 ",
         329
        ],
        [
         "Jehu Rudeforth",
         "Peanut Butter Cubes",
         "2022-06-24",
         "$5,691 ",
         38
        ],
        [
         "Camilla Castle",
         "Caramel Stuffed Bars",
         "2022-05-02",
         "$3,178 ",
         16
        ],
        [
         "Curtice Advani",
         "99% Dark & Pure",
         "2022-01-07",
         "$4,676 ",
         84
        ],
        [
         "Gunar Cockshoot",
         "Drinking Coco",
         "2022-01-14",
         "$2,317 ",
         195
        ],
        [
         "Dotty Strutley",
         "Mint Chip Choco",
         "2022-08-01",
         "$6,790 ",
         25
        ],
        [
         "Roddy Speechley",
         "Mint Chip Choco",
         "2022-05-05",
         "$6,797 ",
         252
        ],
        [
         "Roddy Speechley",
         "Almond Choco",
         "2022-06-24",
         "$4,466 ",
         74
        ],
        [
         "Camilla Castle",
         "99% Dark & Pure",
         "2022-01-18",
         "$4,669 ",
         101
        ],
        [
         "Ches Bonnell",
         "Smooth Sliky Salty",
         "2022-05-16",
         "$7,490 ",
         54
        ],
        [
         "Husein Augar",
         "Eclairs",
         "2022-07-04",
         "$6,993 ",
         31
        ],
        [
         "Camilla Castle",
         "Manuka Honey Choco",
         "2022-03-17",
         "$637 ",
         169
        ],
        [
         "Oby Sorrel",
         "Almond Choco",
         "2022-02-15",
         "$6,034 ",
         223
        ],
        [
         "Dennison Crosswaite",
         "Organic Choco Syrup",
         "2022-05-10",
         "$5,775 ",
         41
        ],
        [
         "Marney O'Breen",
         "Spicy Special Slims",
         "2022-06-23",
         "$13,125 ",
         275
        ],
        [
         "Rafaelita Blaksland",
         "Organic Choco Syrup",
         "2022-01-26",
         "$994 ",
         105
        ],
        [
         "Oby Sorrel",
         "Raspberry Choco",
         "2022-02-17",
         "$1,043 ",
         120
        ],
        [
         "Jan Morforth",
         "50% Dark Bites",
         "2022-06-14",
         "$3,402 ",
         182
        ],
        [
         "Beverie Moffet",
         "Smooth Sliky Salty",
         "2022-01-25",
         "$10,507 ",
         467
        ],
        [
         "Karlen McCaffrey",
         "70% Dark Bites",
         "2022-06-24",
         "$238 ",
         317
        ],
        [
         "Oby Sorrel",
         "Milk Bars",
         "2022-06-21",
         "$7,672 ",
         254
        ],
        [
         "Andria Kimpton",
         "85% Dark Bars",
         "2022-08-23",
         "$4,186 ",
         233
        ],
        [
         "Camilla Castle",
         "Smooth Sliky Salty",
         "2022-03-03",
         "$7,406 ",
         118
        ],
        [
         "Jehu Rudeforth",
         "Drinking Coco",
         "2022-01-14",
         "$2,611 ",
         65
        ],
        [
         "Gigi Bohling",
         "Caramel Stuffed Bars",
         "2022-07-08",
         "$8,001 ",
         151
        ],
        [
         "Andria Kimpton",
         "Peanut Butter Cubes",
         "2022-04-20",
         "$6,678 ",
         148
        ],
        [
         "Jan Morforth",
         "70% Dark Bites",
         "2022-03-04",
         "$5,222 ",
         384
        ],
        [
         "Kaine Padly",
         "70% Dark Bites",
         "2022-02-08",
         "$6,706 ",
         223
        ],
        [
         "Kaine Padly",
         "Fruit & Nut Bars",
         "2022-06-20",
         "$7,434 ",
         85
        ],
        [
         "Madelene Upcott",
         "Mint Chip Choco",
         "2022-05-02",
         "$2,751 ",
         153
        ],
        [
         "Rafaelita Blaksland",
         "Baker's Choco Chips",
         "2022-08-22",
         "$2,786 ",
         51
        ],
        [
         "Karlen McCaffrey",
         "After Nines",
         "2022-08-11",
         "$2,303 ",
         67
        ],
        [
         "Gunar Cockshoot",
         "50% Dark Bites",
         "2022-03-02",
         "$12,271 ",
         116
        ],
        [
         "Marney O'Breen",
         "Choco Coated Almonds",
         "2022-07-27",
         "$11,298 ",
         41
        ],
        [
         "Camilla Castle",
         "Raspberry Choco",
         "2022-08-23",
         "$6,342 ",
         178
        ],
        [
         "Kelci Walkden",
         "99% Dark & Pure",
         "2022-06-30",
         "$3,185 ",
         34
        ],
        [
         "Dotty Strutley",
         "Spicy Special Slims",
         "2022-01-17",
         "$8,225 ",
         91
        ],
        [
         "Kaine Padly",
         "Almond Choco",
         "2022-02-22",
         "$4,102 ",
         392
        ],
        [
         "Kelci Walkden",
         "Orange Choco",
         "2022-04-29",
         "$11,116 ",
         432
        ],
        [
         "Marney O'Breen",
         "Manuka Honey Choco",
         "2022-04-05",
         "$13,076 ",
         236
        ],
        [
         "Kelci Walkden",
         "White Choc",
         "2022-08-24",
         "$8,715 ",
         168
        ],
        [
         "Kaine Padly",
         "Milk Bars",
         "2022-06-09",
         "$4,046 ",
         89
        ],
        [
         "Rafaelita Blaksland",
         "Manuka Honey Choco",
         "2022-08-03",
         "$4,396 ",
         131
        ],
        [
         "Mallorie Waber",
         "Spicy Special Slims",
         "2022-06-29",
         "$5,439 ",
         287
        ],
        [
         "Beverie Moffet",
         "Fruit & Nut Bars",
         "2022-04-22",
         "$1,435 ",
         258
        ],
        [
         "Kelci Walkden",
         "Raspberry Choco",
         "2022-06-07",
         "$679 ",
         56
        ],
        [
         "Jehu Rudeforth",
         "99% Dark & Pure",
         "2022-02-25",
         "$10,486 ",
         198
        ],
        [
         "Jan Morforth",
         "Mint Chip Choco",
         "2022-02-22",
         "$17,626 ",
         103
        ],
        [
         "Ches Bonnell",
         "Caramel Stuffed Bars",
         "2022-01-17",
         "$8,757 ",
         162
        ],
        [
         "Dennison Crosswaite",
         "Milk Bars",
         "2022-06-09",
         "$10,038 ",
         286
        ],
        [
         "Roddy Speechley",
         "Drinking Coco",
         "2022-05-12",
         "$12,565 ",
         102
        ],
        [
         "Curtice Advani",
         "50% Dark Bites",
         "2022-06-29",
         "$504 ",
         232
        ],
        [
         "Wilone O'Kielt",
         "Baker's Choco Chips",
         "2022-01-25",
         "$2,961 ",
         154
        ],
        [
         "Brien Boise",
         "Milk Bars",
         "2022-07-27",
         "$1,981 ",
         52
        ],
        [
         "Husein Augar",
         "Fruit & Nut Bars",
         "2022-01-28",
         "$7,959 ",
         53
        ],
        [
         "Madelene Upcott",
         "Organic Choco Syrup",
         "2022-07-05",
         "$10,794 ",
         50
        ],
        [
         "Oby Sorrel",
         "85% Dark Bars",
         "2022-06-30",
         "$6,944 ",
         27
        ],
        [
         "Husein Augar",
         "White Choc",
         "2022-05-11",
         "$3,171 ",
         220
        ],
        [
         "Van Tuxwell",
         "99% Dark & Pure",
         "2022-01-17",
         "$112 ",
         128
        ],
        [
         "Brien Boise",
         "Spicy Special Slims",
         "2022-05-09",
         "$6,223 ",
         256
        ],
        [
         "Rafaelita Blaksland",
         "Smooth Sliky Salty",
         "2022-05-30",
         "$3,969 ",
         243
        ],
        [
         "Marney O'Breen",
         "Baker's Choco Chips",
         "2022-01-13",
         "$5,810 ",
         101
        ],
        [
         "Kaine Padly",
         "Mint Chip Choco",
         "2022-05-17",
         "$4,403 ",
         159
        ],
        [
         "Curtice Advani",
         "Eclairs",
         "2022-03-25",
         "$5,796 ",
         55
        ],
        [
         "Madelene Upcott",
         "Orange Choco",
         "2022-04-15",
         "$6,713 ",
         398
        ],
        [
         "Wilone O'Kielt",
         "50% Dark Bites",
         "2022-08-03",
         "$10,031 ",
         114
        ],
        [
         "Karlen McCaffrey",
         "50% Dark Bites",
         "2022-01-17",
         "$6,678 ",
         708
        ],
        [
         "Barr Faughny",
         "Caramel Stuffed Bars",
         "2022-07-29",
         "$2,933 ",
         55
        ],
        [
         "Gigi Bohling",
         "Raspberry Choco",
         "2022-03-30",
         "$6,524 ",
         303
        ],
        [
         "Mallorie Waber",
         "Choco Coated Almonds",
         "2022-03-18",
         "$15,750 ",
         92
        ],
        [
         "Gigi Bohling",
         "Almond Choco",
         "2022-08-17",
         "$910 ",
         117
        ],
        [
         "Jehu Rudeforth",
         "Milk Bars",
         "2022-03-18",
         "$8,659 ",
         29
        ],
        [
         "Husein Augar",
         "99% Dark & Pure",
         "2022-08-26",
         "$3,087 ",
         128
        ],
        [
         "Dotty Strutley",
         "Baker's Choco Chips",
         "2022-06-07",
         "$3,605 ",
         68
        ],
        [
         "Barr Faughny",
         "85% Dark Bars",
         "2022-02-10",
         "$8,498 ",
         44
        ],
        [
         "Beverie Moffet",
         "50% Dark Bites",
         "2022-05-16",
         "$700 ",
         457
        ],
        [
         "Van Tuxwell",
         "50% Dark Bites",
         "2022-07-13",
         "$644 ",
         137
        ],
        [
         "Kelci Walkden",
         "Milk Bars",
         "2022-02-24",
         "$7,910 ",
         125
        ],
        [
         "Dotty Strutley",
         "Almond Choco",
         "2022-05-13",
         "$1,456 ",
         91
        ],
        [
         "Andria Kimpton",
         "Manuka Honey Choco",
         "2022-03-30",
         "$9,744 ",
         377
        ],
        [
         "Curtice Advani",
         "After Nines",
         "2022-08-11",
         "$63 ",
         105
        ],
        [
         "Jan Morforth",
         "Drinking Coco",
         "2022-02-18",
         "$2,821 ",
         24
        ],
        [
         "Rafaelita Blaksland",
         "Raspberry Choco",
         "2022-01-19",
         "$6,916 ",
         259
        ],
        [
         "Kaine Padly",
         "50% Dark Bites",
         "2022-08-02",
         "$8,995 ",
         78
        ],
        [
         "Gigi Bohling",
         "Eclairs",
         "2022-04-12",
         "$7,252 ",
         136
        ],
        [
         "Andria Kimpton",
         "Baker's Choco Chips",
         "2022-08-09",
         "$329 ",
         109
        ],
        [
         "Andria Kimpton",
         "Almond Choco",
         "2022-04-25",
         "$3,192 ",
         175
        ],
        [
         "Madelene Upcott",
         "99% Dark & Pure",
         "2022-08-01",
         "$4,326 ",
         154
        ],
        [
         "Mallorie Waber",
         "Eclairs",
         "2022-08-22",
         "$9,527 ",
         222
        ],
        [
         "Kelci Walkden",
         "Almond Choco",
         "2022-05-30",
         "$4,879 ",
         350
        ],
        [
         "Gigi Bohling",
         "70% Dark Bites",
         "2022-08-18",
         "$1,372 ",
         105
        ],
        [
         "Jehu Rudeforth",
         "Spicy Special Slims",
         "2022-01-13",
         "$5,012 ",
         384
        ],
        [
         "Barr Faughny",
         "Organic Choco Syrup",
         "2022-01-07",
         "$2,303 ",
         33
        ],
        [
         "Van Tuxwell",
         "Baker's Choco Chips",
         "2022-05-11",
         "$13,258 ",
         32
        ],
        [
         "Oby Sorrel",
         "50% Dark Bites",
         "2022-05-06",
         "$721 ",
         151
        ],
        [
         "Curtice Advani",
         "Caramel Stuffed Bars",
         "2022-02-14",
         "$9,114 ",
         140
        ],
        [
         "Dennison Crosswaite",
         "Drinking Coco",
         "2022-07-13",
         "$7,091 ",
         194
        ],
        [
         "Barr Faughny",
         "Raspberry Choco",
         "2022-05-27",
         "$9,268 ",
         100
        ],
        [
         "Dotty Strutley",
         "Choco Coated Almonds",
         "2022-04-13",
         "$1,645 ",
         284
        ],
        [
         "Van Tuxwell",
         "70% Dark Bites",
         "2022-01-10",
         "$7,063 ",
         104
        ],
        [
         "Roddy Speechley",
         "85% Dark Bars",
         "2022-07-08",
         "$4,200 ",
         80
        ],
        [
         "Kaine Padly",
         "After Nines",
         "2022-04-08",
         "$6,832 ",
         306
        ],
        [
         "Madelene Upcott",
         "Raspberry Choco",
         "2022-07-13",
         "$6,321 ",
         88
        ],
        [
         "Oby Sorrel",
         "Manuka Honey Choco",
         "2022-01-26",
         "$3,906 ",
         76
        ],
        [
         "Gigi Bohling",
         "Smooth Sliky Salty",
         "2022-01-25",
         "$5,768 ",
         119
        ],
        [
         "Karlen McCaffrey",
         "Raspberry Choco",
         "2022-08-23",
         "$994 ",
         57
        ],
        [
         "Gigi Bohling",
         "Orange Choco",
         "2022-03-09",
         "$574 ",
         156
        ],
        [
         "Husein Augar",
         "Organic Choco Syrup",
         "2022-02-08",
         "$938 ",
         158
        ],
        [
         "Brien Boise",
         "White Choc",
         "2022-08-25",
         "$4,879 ",
         22
        ],
        [
         "Ches Bonnell",
         "Peanut Butter Cubes",
         "2022-03-14",
         "$10,199 ",
         68
        ],
        [
         "Oby Sorrel",
         "Spicy Special Slims",
         "2022-04-26",
         "$11,389 ",
         26
        ],
        [
         "Karlen McCaffrey",
         "99% Dark & Pure",
         "2022-01-26",
         "$10,822 ",
         168
        ],
        [
         "Mallorie Waber",
         "Smooth Sliky Salty",
         "2022-02-11",
         "$4,158 ",
         109
        ],
        [
         "Brien Boise",
         "Organic Choco Syrup",
         "2022-07-15",
         "$4,263 ",
         264
        ],
        [
         "Dennison Crosswaite",
         "Baker's Choco Chips",
         "2022-01-11",
         "$13,846 ",
         421
        ],
        [
         "Wilone O'Kielt",
         "Smooth Sliky Salty",
         "2022-01-04",
         "$2,226 ",
         46
        ],
        [
         "Jehu Rudeforth",
         "After Nines",
         "2022-02-14",
         "$5,250 ",
         47
        ],
        [
         "Mallorie Waber",
         "Raspberry Choco",
         "2022-04-25",
         "$8,400 ",
         27
        ],
        [
         "Kelci Walkden",
         "Drinking Coco",
         "2022-05-04",
         "$1,288 ",
         60
        ],
        [
         "Roddy Speechley",
         "Organic Choco Syrup",
         "2022-07-04",
         "$3,647 ",
         76
        ],
        [
         "Gunar Cockshoot",
         "99% Dark & Pure",
         "2022-08-18",
         "$7,952 ",
         235
        ],
        [
         "Ches Bonnell",
         "Choco Coated Almonds",
         "2022-04-08",
         "$1,470 ",
         167
        ],
        [
         "Van Tuxwell",
         "Mint Chip Choco",
         "2022-01-13",
         "$2,674 ",
         295
        ],
        [
         "Rafaelita Blaksland",
         "White Choc",
         "2022-03-21",
         "$6,818 ",
         102
        ],
        [
         "Madelene Upcott",
         "70% Dark Bites",
         "2022-04-15",
         "$3,710 ",
         260
        ],
        [
         "Dotty Strutley",
         "White Choc",
         "2022-07-05",
         "$6,055 ",
         93
        ],
        [
         "Brien Boise",
         "Peanut Butter Cubes",
         "2022-08-19",
         "$301 ",
         205
        ],
        [
         "Karlen McCaffrey",
         "Spicy Special Slims",
         "2022-05-17",
         "$4,410 ",
         323
        ]
       ],
       "datasetInfos": [],
       "dbfsResultPath": null,
       "isJsonSchema": true,
       "metadata": {},
       "overflow": false,
       "plotOptions": {
        "customPlotOptions": {},
        "displayType": "table",
        "pivotAggregation": null,
        "pivotColumns": null,
        "xColumns": null,
        "yColumns": null
       },
       "removedWidgets": [],
       "schema": [
        {
         "metadata": "{}",
         "name": "Sales Person",
         "type": "\"string\""
        },
        {
         "metadata": "{}",
         "name": "Product",
         "type": "\"string\""
        },
        {
         "metadata": "{}",
         "name": "Date",
         "type": "\"date\""
        },
        {
         "metadata": "{}",
         "name": "Amount",
         "type": "\"string\""
        },
        {
         "metadata": "{}",
         "name": "Boxes Shipped",
         "type": "\"integer\""
        }
       ],
       "type": "table"
      }
     },
     "output_type": "display_data"
    }
   ],
   "source": [
    "df_date_formatado = df_particao.withColumn(\"Date\", to_date(df_particao[\"Date\"], \"dd-MMM-yy\"))\n",
    "display(df_date_formatado)"
   ]
  },
  {
   "cell_type": "code",
   "execution_count": 0,
   "metadata": {
    "application/vnd.databricks.v1+cell": {
     "cellMetadata": {
      "byteLimit": 2048000,
      "rowLimit": 10000
     },
     "collapsed": true,
     "inputWidgets": {},
     "nuid": "54e5e98d-da51-42b9-badb-bd82b0ba7c19",
     "showTitle": false,
     "tableResultSettingsMap": {},
     "title": ""
    }
   },
   "outputs": [
    {
     "output_type": "display_data",
     "data": {
      "text/html": [
       "<style scoped>\n",
       "  .table-result-container {\n",
       "    max-height: 300px;\n",
       "    overflow: auto;\n",
       "  }\n",
       "  table, th, td {\n",
       "    border: 1px solid black;\n",
       "    border-collapse: collapse;\n",
       "  }\n",
       "  th, td {\n",
       "    padding: 5px;\n",
       "  }\n",
       "  th {\n",
       "    text-align: left;\n",
       "  }\n",
       "</style><div class='table-result-container'><table class='table-result'><thead style='background-color: white'><tr><th>Sales Person</th><th>Product</th><th>Date</th><th>Amount</th><th>Boxes Shipped</th></tr></thead><tbody><tr><td>Jan Morforth</td><td>Peanut Butter Cubes</td><td>2022-04-27</td><td>12726.0</td><td>342</td></tr><tr><td>Gunar Cockshoot</td><td>After Nines</td><td>2022-03-24</td><td>3080.0</td><td>73</td></tr><tr><td>Brien Boise</td><td>99% Dark & Pure</td><td>2022-07-04</td><td>2835.0</td><td>102</td></tr><tr><td>Beverie Moffet</td><td>Organic Choco Syrup</td><td>2022-01-26</td><td>6790.0</td><td>356</td></tr><tr><td>Brien Boise</td><td>Eclairs</td><td>2022-06-27</td><td>6888.0</td><td>88</td></tr><tr><td>Kaine Padly</td><td>Eclairs</td><td>2022-02-28</td><td>7672.0</td><td>115</td></tr><tr><td>Wilone O'Kielt</td><td>Manuka Honey Choco</td><td>2022-05-11</td><td>4284.0</td><td>94</td></tr><tr><td>Camilla Castle</td><td>85% Dark Bars</td><td>2022-05-19</td><td>3654.0</td><td>14</td></tr><tr><td>Curtice Advani</td><td>Milk Bars</td><td>2022-02-14</td><td>6979.0</td><td>18</td></tr><tr><td>Brien Boise</td><td>Fruit & Nut Bars</td><td>2022-06-06</td><td>8575.0</td><td>23</td></tr><tr><td>Dotty Strutley</td><td>Drinking Coco</td><td>2022-07-19</td><td>91.0</td><td>135</td></tr><tr><td>Barr Faughny</td><td>Fruit & Nut Bars</td><td>2022-06-30</td><td>15421.0</td><td>55</td></tr><tr><td>Andria Kimpton</td><td>50% Dark Bites</td><td>2022-06-02</td><td>4438.0</td><td>227</td></tr><tr><td>Andria Kimpton</td><td>Drinking Coco</td><td>2022-06-28</td><td>1603.0</td><td>48</td></tr><tr><td>Marney O'Breen</td><td>Organic Choco Syrup</td><td>2022-05-16</td><td>273.0</td><td>174</td></tr><tr><td>Wilone O'Kielt</td><td>Caramel Stuffed Bars</td><td>2022-04-14</td><td>2030.0</td><td>11</td></tr><tr><td>Van Tuxwell</td><td>Organic Choco Syrup</td><td>2022-08-10</td><td>19453.0</td><td>14</td></tr><tr><td>Dotty Strutley</td><td>Fruit & Nut Bars</td><td>2022-08-23</td><td>280.0</td><td>311</td></tr><tr><td>Dennison Crosswaite</td><td>70% Dark Bites</td><td>2022-02-07</td><td>5859.0</td><td>108</td></tr><tr><td>Madelene Upcott</td><td>Spicy Special Slims</td><td>2022-03-07</td><td>7182.0</td><td>408</td></tr><tr><td>Dennison Crosswaite</td><td>85% Dark Bars</td><td>2022-04-05</td><td>6881.0</td><td>420</td></tr><tr><td>Wilone O'Kielt</td><td>Organic Choco Syrup</td><td>2022-07-07</td><td>1743.0</td><td>111</td></tr><tr><td>Beverie Moffet</td><td>Eclairs</td><td>2022-06-20</td><td>1827.0</td><td>6</td></tr><tr><td>Dennison Crosswaite</td><td>Raspberry Choco</td><td>2022-03-14</td><td>5740.0</td><td>31</td></tr><tr><td>Madelene Upcott</td><td>Fruit & Nut Bars</td><td>2022-01-05</td><td>5579.0</td><td>92</td></tr><tr><td>Wilone O'Kielt</td><td>Drinking Coco</td><td>2022-04-06</td><td>623.0</td><td>283</td></tr><tr><td>Gunar Cockshoot</td><td>Fruit & Nut Bars</td><td>2022-06-15</td><td>6013.0</td><td>21</td></tr><tr><td>Rafaelita Blaksland</td><td>Drinking Coco</td><td>2022-02-21</td><td>11550.0</td><td>396</td></tr><tr><td>Kelci Walkden</td><td>Eclairs</td><td>2022-03-23</td><td>7273.0</td><td>547</td></tr><tr><td>Husein Augar</td><td>Orange Choco</td><td>2022-06-28</td><td>8897.0</td><td>188</td></tr><tr><td>Marney O'Breen</td><td>Milk Bars</td><td>2022-07-28</td><td>2464.0</td><td>387</td></tr><tr><td>Kaine Padly</td><td>Manuka Honey Choco</td><td>2022-01-12</td><td>2765.0</td><td>264</td></tr><tr><td>Ches Bonnell</td><td>Eclairs</td><td>2022-07-05</td><td>4116.0</td><td>128</td></tr><tr><td>Brien Boise</td><td>Baker's Choco Chips</td><td>2022-01-04</td><td>12516.0</td><td>212</td></tr><tr><td>Dennison Crosswaite</td><td>99% Dark & Pure</td><td>2022-01-31</td><td>2758.0</td><td>18</td></tr><tr><td>Camilla Castle</td><td>70% Dark Bites</td><td>2022-04-29</td><td>6048.0</td><td>477</td></tr><tr><td>Curtice Advani</td><td>Orange Choco</td><td>2022-07-12</td><td>854.0</td><td>136</td></tr><tr><td>Mallorie Waber</td><td>Milk Bars</td><td>2022-07-29</td><td>2779.0</td><td>104</td></tr><tr><td>Ches Bonnell</td><td>White Choc</td><td>2022-03-02</td><td>1043.0</td><td>202</td></tr><tr><td>Jehu Rudeforth</td><td>50% Dark Bites</td><td>2022-01-14</td><td>5194.0</td><td>418</td></tr><tr><td>Jehu Rudeforth</td><td>Orange Choco</td><td>2022-03-23</td><td>13706.0</td><td>26</td></tr><tr><td>Barr Faughny</td><td>White Choc</td><td>2022-07-04</td><td>8113.0</td><td>370</td></tr><tr><td>Dennison Crosswaite</td><td>50% Dark Bites</td><td>2022-04-01</td><td>7287.0</td><td>12</td></tr><tr><td>Curtice Advani</td><td>Organic Choco Syrup</td><td>2022-06-28</td><td>3472.0</td><td>311</td></tr><tr><td>Wilone O'Kielt</td><td>After Nines</td><td>2022-05-27</td><td>3325.0</td><td>26</td></tr><tr><td>Jan Morforth</td><td>White Choc</td><td>2022-07-27</td><td>3472.0</td><td>32</td></tr><tr><td>Ches Bonnell</td><td>Mint Chip Choco</td><td>2022-02-21</td><td>9660.0</td><td>92</td></tr><tr><td>Karlen McCaffrey</td><td>White Choc</td><td>2022-01-05</td><td>7357.0</td><td>48</td></tr><tr><td>Brien Boise</td><td>Choco Coated Almonds</td><td>2022-05-25</td><td>5124.0</td><td>62</td></tr><tr><td>Beverie Moffet</td><td>Milk Bars</td><td>2022-05-25</td><td>735.0</td><td>390</td></tr><tr><td>Jan Morforth</td><td>Orange Choco</td><td>2022-07-04</td><td>3199.0</td><td>122</td></tr><tr><td>Ches Bonnell</td><td>70% Dark Bites</td><td>2022-01-12</td><td>3136.0</td><td>125</td></tr><tr><td>Kaine Padly</td><td>Peanut Butter Cubes</td><td>2022-03-25</td><td>5460.0</td><td>286</td></tr><tr><td>Husein Augar</td><td>Manuka Honey Choco</td><td>2022-03-15</td><td>7161.0</td><td>92</td></tr><tr><td>Van Tuxwell</td><td>Milk Bars</td><td>2022-06-20</td><td>7910.0</td><td>87</td></tr><tr><td>Dotty Strutley</td><td>50% Dark Bites</td><td>2022-05-12</td><td>3108.0</td><td>252</td></tr><tr><td>Madelene Upcott</td><td>50% Dark Bites</td><td>2022-07-25</td><td>7350.0</td><td>6</td></tr><tr><td>Gunar Cockshoot</td><td>Almond Choco</td><td>2022-01-25</td><td>3752.0</td><td>424</td></tr><tr><td>Beverie Moffet</td><td>Baker's Choco Chips</td><td>2022-08-04</td><td>3192.0</td><td>109</td></tr><tr><td>Marney O'Breen</td><td>Smooth Sliky Salty</td><td>2022-01-03</td><td>3745.0</td><td>170</td></tr><tr><td>Mallorie Waber</td><td>Orange Choco</td><td>2022-03-07</td><td>14658.0</td><td>275</td></tr><tr><td>Gigi Bohling</td><td>Drinking Coco</td><td>2022-07-27</td><td>2807.0</td><td>139</td></tr><tr><td>Beverie Moffet</td><td>White Choc</td><td>2022-06-27</td><td>2240.0</td><td>166</td></tr><tr><td>Dotty Strutley</td><td>Eclairs</td><td>2022-01-26</td><td>6979.0</td><td>3</td></tr><tr><td>Wilone O'Kielt</td><td>Fruit & Nut Bars</td><td>2022-06-15</td><td>392.0</td><td>102</td></tr><tr><td>Karlen McCaffrey</td><td>Almond Choco</td><td>2022-07-08</td><td>7294.0</td><td>128</td></tr><tr><td>Husein Augar</td><td>50% Dark Bites</td><td>2022-08-19</td><td>14889.0</td><td>52</td></tr><tr><td>Madelene Upcott</td><td>Choco Coated Almonds</td><td>2022-04-08</td><td>2058.0</td><td>72</td></tr><tr><td>Mallorie Waber</td><td>85% Dark Bars</td><td>2022-08-26</td><td>2541.0</td><td>53</td></tr><tr><td>Gigi Bohling</td><td>White Choc</td><td>2022-05-11</td><td>5523.0</td><td>87</td></tr><tr><td>Mallorie Waber</td><td>Almond Choco</td><td>2022-08-01</td><td>7882.0</td><td>125</td></tr><tr><td>Brien Boise</td><td>Drinking Coco</td><td>2022-07-27</td><td>6832.0</td><td>156</td></tr><tr><td>Rafaelita Blaksland</td><td>50% Dark Bites</td><td>2022-03-22</td><td>3010.0</td><td>40</td></tr><tr><td>Kelci Walkden</td><td>After Nines</td><td>2022-03-02</td><td>6916.0</td><td>288</td></tr><tr><td>Gunar Cockshoot</td><td>Raspberry Choco</td><td>2022-03-17</td><td>602.0</td><td>72</td></tr><tr><td>Van Tuxwell</td><td>Caramel Stuffed Bars</td><td>2022-05-17</td><td>5936.0</td><td>59</td></tr><tr><td>Curtice Advani</td><td>Almond Choco</td><td>2022-07-13</td><td>2912.0</td><td>75</td></tr><tr><td>Madelene Upcott</td><td>85% Dark Bars</td><td>2022-06-16</td><td>1575.0</td><td>329</td></tr><tr><td>Jehu Rudeforth</td><td>Peanut Butter Cubes</td><td>2022-06-24</td><td>5691.0</td><td>38</td></tr><tr><td>Camilla Castle</td><td>Caramel Stuffed Bars</td><td>2022-05-02</td><td>3178.0</td><td>16</td></tr><tr><td>Curtice Advani</td><td>99% Dark & Pure</td><td>2022-01-07</td><td>4676.0</td><td>84</td></tr><tr><td>Gunar Cockshoot</td><td>Drinking Coco</td><td>2022-01-14</td><td>2317.0</td><td>195</td></tr><tr><td>Dotty Strutley</td><td>Mint Chip Choco</td><td>2022-08-01</td><td>6790.0</td><td>25</td></tr><tr><td>Roddy Speechley</td><td>Mint Chip Choco</td><td>2022-05-05</td><td>6797.0</td><td>252</td></tr><tr><td>Roddy Speechley</td><td>Almond Choco</td><td>2022-06-24</td><td>4466.0</td><td>74</td></tr><tr><td>Camilla Castle</td><td>99% Dark & Pure</td><td>2022-01-18</td><td>4669.0</td><td>101</td></tr><tr><td>Ches Bonnell</td><td>Smooth Sliky Salty</td><td>2022-05-16</td><td>7490.0</td><td>54</td></tr><tr><td>Husein Augar</td><td>Eclairs</td><td>2022-07-04</td><td>6993.0</td><td>31</td></tr><tr><td>Camilla Castle</td><td>Manuka Honey Choco</td><td>2022-03-17</td><td>637.0</td><td>169</td></tr><tr><td>Oby Sorrel</td><td>Almond Choco</td><td>2022-02-15</td><td>6034.0</td><td>223</td></tr><tr><td>Dennison Crosswaite</td><td>Organic Choco Syrup</td><td>2022-05-10</td><td>5775.0</td><td>41</td></tr><tr><td>Marney O'Breen</td><td>Spicy Special Slims</td><td>2022-06-23</td><td>13125.0</td><td>275</td></tr><tr><td>Rafaelita Blaksland</td><td>Organic Choco Syrup</td><td>2022-01-26</td><td>994.0</td><td>105</td></tr><tr><td>Oby Sorrel</td><td>Raspberry Choco</td><td>2022-02-17</td><td>1043.0</td><td>120</td></tr><tr><td>Jan Morforth</td><td>50% Dark Bites</td><td>2022-06-14</td><td>3402.0</td><td>182</td></tr><tr><td>Beverie Moffet</td><td>Smooth Sliky Salty</td><td>2022-01-25</td><td>10507.0</td><td>467</td></tr><tr><td>Karlen McCaffrey</td><td>70% Dark Bites</td><td>2022-06-24</td><td>238.0</td><td>317</td></tr><tr><td>Oby Sorrel</td><td>Milk Bars</td><td>2022-06-21</td><td>7672.0</td><td>254</td></tr><tr><td>Andria Kimpton</td><td>85% Dark Bars</td><td>2022-08-23</td><td>4186.0</td><td>233</td></tr><tr><td>Camilla Castle</td><td>Smooth Sliky Salty</td><td>2022-03-03</td><td>7406.0</td><td>118</td></tr><tr><td>Jehu Rudeforth</td><td>Drinking Coco</td><td>2022-01-14</td><td>2611.0</td><td>65</td></tr><tr><td>Gigi Bohling</td><td>Caramel Stuffed Bars</td><td>2022-07-08</td><td>8001.0</td><td>151</td></tr><tr><td>Andria Kimpton</td><td>Peanut Butter Cubes</td><td>2022-04-20</td><td>6678.0</td><td>148</td></tr><tr><td>Jan Morforth</td><td>70% Dark Bites</td><td>2022-03-04</td><td>5222.0</td><td>384</td></tr><tr><td>Kaine Padly</td><td>70% Dark Bites</td><td>2022-02-08</td><td>6706.0</td><td>223</td></tr><tr><td>Kaine Padly</td><td>Fruit & Nut Bars</td><td>2022-06-20</td><td>7434.0</td><td>85</td></tr><tr><td>Madelene Upcott</td><td>Mint Chip Choco</td><td>2022-05-02</td><td>2751.0</td><td>153</td></tr><tr><td>Rafaelita Blaksland</td><td>Baker's Choco Chips</td><td>2022-08-22</td><td>2786.0</td><td>51</td></tr><tr><td>Karlen McCaffrey</td><td>After Nines</td><td>2022-08-11</td><td>2303.0</td><td>67</td></tr><tr><td>Gunar Cockshoot</td><td>50% Dark Bites</td><td>2022-03-02</td><td>12271.0</td><td>116</td></tr><tr><td>Marney O'Breen</td><td>Choco Coated Almonds</td><td>2022-07-27</td><td>11298.0</td><td>41</td></tr><tr><td>Camilla Castle</td><td>Raspberry Choco</td><td>2022-08-23</td><td>6342.0</td><td>178</td></tr><tr><td>Kelci Walkden</td><td>99% Dark & Pure</td><td>2022-06-30</td><td>3185.0</td><td>34</td></tr><tr><td>Dotty Strutley</td><td>Spicy Special Slims</td><td>2022-01-17</td><td>8225.0</td><td>91</td></tr><tr><td>Kaine Padly</td><td>Almond Choco</td><td>2022-02-22</td><td>4102.0</td><td>392</td></tr><tr><td>Kelci Walkden</td><td>Orange Choco</td><td>2022-04-29</td><td>11116.0</td><td>432</td></tr><tr><td>Marney O'Breen</td><td>Manuka Honey Choco</td><td>2022-04-05</td><td>13076.0</td><td>236</td></tr><tr><td>Kelci Walkden</td><td>White Choc</td><td>2022-08-24</td><td>8715.0</td><td>168</td></tr><tr><td>Kaine Padly</td><td>Milk Bars</td><td>2022-06-09</td><td>4046.0</td><td>89</td></tr><tr><td>Rafaelita Blaksland</td><td>Manuka Honey Choco</td><td>2022-08-03</td><td>4396.0</td><td>131</td></tr><tr><td>Mallorie Waber</td><td>Spicy Special Slims</td><td>2022-06-29</td><td>5439.0</td><td>287</td></tr><tr><td>Beverie Moffet</td><td>Fruit & Nut Bars</td><td>2022-04-22</td><td>1435.0</td><td>258</td></tr><tr><td>Kelci Walkden</td><td>Raspberry Choco</td><td>2022-06-07</td><td>679.0</td><td>56</td></tr><tr><td>Jehu Rudeforth</td><td>99% Dark & Pure</td><td>2022-02-25</td><td>10486.0</td><td>198</td></tr><tr><td>Jan Morforth</td><td>Mint Chip Choco</td><td>2022-02-22</td><td>17626.0</td><td>103</td></tr><tr><td>Ches Bonnell</td><td>Caramel Stuffed Bars</td><td>2022-01-17</td><td>8757.0</td><td>162</td></tr><tr><td>Dennison Crosswaite</td><td>Milk Bars</td><td>2022-06-09</td><td>10038.0</td><td>286</td></tr><tr><td>Roddy Speechley</td><td>Drinking Coco</td><td>2022-05-12</td><td>12565.0</td><td>102</td></tr><tr><td>Curtice Advani</td><td>50% Dark Bites</td><td>2022-06-29</td><td>504.0</td><td>232</td></tr><tr><td>Wilone O'Kielt</td><td>Baker's Choco Chips</td><td>2022-01-25</td><td>2961.0</td><td>154</td></tr><tr><td>Brien Boise</td><td>Milk Bars</td><td>2022-07-27</td><td>1981.0</td><td>52</td></tr><tr><td>Husein Augar</td><td>Fruit & Nut Bars</td><td>2022-01-28</td><td>7959.0</td><td>53</td></tr><tr><td>Madelene Upcott</td><td>Organic Choco Syrup</td><td>2022-07-05</td><td>10794.0</td><td>50</td></tr><tr><td>Oby Sorrel</td><td>85% Dark Bars</td><td>2022-06-30</td><td>6944.0</td><td>27</td></tr><tr><td>Husein Augar</td><td>White Choc</td><td>2022-05-11</td><td>3171.0</td><td>220</td></tr><tr><td>Van Tuxwell</td><td>99% Dark & Pure</td><td>2022-01-17</td><td>112.0</td><td>128</td></tr><tr><td>Brien Boise</td><td>Spicy Special Slims</td><td>2022-05-09</td><td>6223.0</td><td>256</td></tr><tr><td>Rafaelita Blaksland</td><td>Smooth Sliky Salty</td><td>2022-05-30</td><td>3969.0</td><td>243</td></tr><tr><td>Marney O'Breen</td><td>Baker's Choco Chips</td><td>2022-01-13</td><td>5810.0</td><td>101</td></tr><tr><td>Kaine Padly</td><td>Mint Chip Choco</td><td>2022-05-17</td><td>4403.0</td><td>159</td></tr><tr><td>Curtice Advani</td><td>Eclairs</td><td>2022-03-25</td><td>5796.0</td><td>55</td></tr><tr><td>Madelene Upcott</td><td>Orange Choco</td><td>2022-04-15</td><td>6713.0</td><td>398</td></tr><tr><td>Wilone O'Kielt</td><td>50% Dark Bites</td><td>2022-08-03</td><td>10031.0</td><td>114</td></tr><tr><td>Karlen McCaffrey</td><td>50% Dark Bites</td><td>2022-01-17</td><td>6678.0</td><td>708</td></tr><tr><td>Barr Faughny</td><td>Caramel Stuffed Bars</td><td>2022-07-29</td><td>2933.0</td><td>55</td></tr><tr><td>Gigi Bohling</td><td>Raspberry Choco</td><td>2022-03-30</td><td>6524.0</td><td>303</td></tr><tr><td>Mallorie Waber</td><td>Choco Coated Almonds</td><td>2022-03-18</td><td>15750.0</td><td>92</td></tr><tr><td>Gigi Bohling</td><td>Almond Choco</td><td>2022-08-17</td><td>910.0</td><td>117</td></tr><tr><td>Jehu Rudeforth</td><td>Milk Bars</td><td>2022-03-18</td><td>8659.0</td><td>29</td></tr><tr><td>Husein Augar</td><td>99% Dark & Pure</td><td>2022-08-26</td><td>3087.0</td><td>128</td></tr><tr><td>Dotty Strutley</td><td>Baker's Choco Chips</td><td>2022-06-07</td><td>3605.0</td><td>68</td></tr><tr><td>Barr Faughny</td><td>85% Dark Bars</td><td>2022-02-10</td><td>8498.0</td><td>44</td></tr><tr><td>Beverie Moffet</td><td>50% Dark Bites</td><td>2022-05-16</td><td>700.0</td><td>457</td></tr><tr><td>Van Tuxwell</td><td>50% Dark Bites</td><td>2022-07-13</td><td>644.0</td><td>137</td></tr><tr><td>Kelci Walkden</td><td>Milk Bars</td><td>2022-02-24</td><td>7910.0</td><td>125</td></tr><tr><td>Dotty Strutley</td><td>Almond Choco</td><td>2022-05-13</td><td>1456.0</td><td>91</td></tr><tr><td>Andria Kimpton</td><td>Manuka Honey Choco</td><td>2022-03-30</td><td>9744.0</td><td>377</td></tr><tr><td>Curtice Advani</td><td>After Nines</td><td>2022-08-11</td><td>63.0</td><td>105</td></tr><tr><td>Jan Morforth</td><td>Drinking Coco</td><td>2022-02-18</td><td>2821.0</td><td>24</td></tr><tr><td>Rafaelita Blaksland</td><td>Raspberry Choco</td><td>2022-01-19</td><td>6916.0</td><td>259</td></tr><tr><td>Kaine Padly</td><td>50% Dark Bites</td><td>2022-08-02</td><td>8995.0</td><td>78</td></tr><tr><td>Gigi Bohling</td><td>Eclairs</td><td>2022-04-12</td><td>7252.0</td><td>136</td></tr><tr><td>Andria Kimpton</td><td>Baker's Choco Chips</td><td>2022-08-09</td><td>329.0</td><td>109</td></tr><tr><td>Andria Kimpton</td><td>Almond Choco</td><td>2022-04-25</td><td>3192.0</td><td>175</td></tr><tr><td>Madelene Upcott</td><td>99% Dark & Pure</td><td>2022-08-01</td><td>4326.0</td><td>154</td></tr><tr><td>Mallorie Waber</td><td>Eclairs</td><td>2022-08-22</td><td>9527.0</td><td>222</td></tr><tr><td>Kelci Walkden</td><td>Almond Choco</td><td>2022-05-30</td><td>4879.0</td><td>350</td></tr><tr><td>Gigi Bohling</td><td>70% Dark Bites</td><td>2022-08-18</td><td>1372.0</td><td>105</td></tr><tr><td>Jehu Rudeforth</td><td>Spicy Special Slims</td><td>2022-01-13</td><td>5012.0</td><td>384</td></tr><tr><td>Barr Faughny</td><td>Organic Choco Syrup</td><td>2022-01-07</td><td>2303.0</td><td>33</td></tr><tr><td>Van Tuxwell</td><td>Baker's Choco Chips</td><td>2022-05-11</td><td>13258.0</td><td>32</td></tr><tr><td>Oby Sorrel</td><td>50% Dark Bites</td><td>2022-05-06</td><td>721.0</td><td>151</td></tr><tr><td>Curtice Advani</td><td>Caramel Stuffed Bars</td><td>2022-02-14</td><td>9114.0</td><td>140</td></tr><tr><td>Dennison Crosswaite</td><td>Drinking Coco</td><td>2022-07-13</td><td>7091.0</td><td>194</td></tr><tr><td>Barr Faughny</td><td>Raspberry Choco</td><td>2022-05-27</td><td>9268.0</td><td>100</td></tr><tr><td>Dotty Strutley</td><td>Choco Coated Almonds</td><td>2022-04-13</td><td>1645.0</td><td>284</td></tr><tr><td>Van Tuxwell</td><td>70% Dark Bites</td><td>2022-01-10</td><td>7063.0</td><td>104</td></tr><tr><td>Roddy Speechley</td><td>85% Dark Bars</td><td>2022-07-08</td><td>4200.0</td><td>80</td></tr><tr><td>Kaine Padly</td><td>After Nines</td><td>2022-04-08</td><td>6832.0</td><td>306</td></tr><tr><td>Madelene Upcott</td><td>Raspberry Choco</td><td>2022-07-13</td><td>6321.0</td><td>88</td></tr><tr><td>Oby Sorrel</td><td>Manuka Honey Choco</td><td>2022-01-26</td><td>3906.0</td><td>76</td></tr><tr><td>Gigi Bohling</td><td>Smooth Sliky Salty</td><td>2022-01-25</td><td>5768.0</td><td>119</td></tr><tr><td>Karlen McCaffrey</td><td>Raspberry Choco</td><td>2022-08-23</td><td>994.0</td><td>57</td></tr><tr><td>Gigi Bohling</td><td>Orange Choco</td><td>2022-03-09</td><td>574.0</td><td>156</td></tr><tr><td>Husein Augar</td><td>Organic Choco Syrup</td><td>2022-02-08</td><td>938.0</td><td>158</td></tr><tr><td>Brien Boise</td><td>White Choc</td><td>2022-08-25</td><td>4879.0</td><td>22</td></tr><tr><td>Ches Bonnell</td><td>Peanut Butter Cubes</td><td>2022-03-14</td><td>10199.0</td><td>68</td></tr><tr><td>Oby Sorrel</td><td>Spicy Special Slims</td><td>2022-04-26</td><td>11389.0</td><td>26</td></tr><tr><td>Karlen McCaffrey</td><td>99% Dark & Pure</td><td>2022-01-26</td><td>10822.0</td><td>168</td></tr><tr><td>Mallorie Waber</td><td>Smooth Sliky Salty</td><td>2022-02-11</td><td>4158.0</td><td>109</td></tr><tr><td>Brien Boise</td><td>Organic Choco Syrup</td><td>2022-07-15</td><td>4263.0</td><td>264</td></tr><tr><td>Dennison Crosswaite</td><td>Baker's Choco Chips</td><td>2022-01-11</td><td>13846.0</td><td>421</td></tr><tr><td>Wilone O'Kielt</td><td>Smooth Sliky Salty</td><td>2022-01-04</td><td>2226.0</td><td>46</td></tr><tr><td>Jehu Rudeforth</td><td>After Nines</td><td>2022-02-14</td><td>5250.0</td><td>47</td></tr><tr><td>Mallorie Waber</td><td>Raspberry Choco</td><td>2022-04-25</td><td>8400.0</td><td>27</td></tr><tr><td>Kelci Walkden</td><td>Drinking Coco</td><td>2022-05-04</td><td>1288.0</td><td>60</td></tr><tr><td>Roddy Speechley</td><td>Organic Choco Syrup</td><td>2022-07-04</td><td>3647.0</td><td>76</td></tr><tr><td>Gunar Cockshoot</td><td>99% Dark & Pure</td><td>2022-08-18</td><td>7952.0</td><td>235</td></tr><tr><td>Ches Bonnell</td><td>Choco Coated Almonds</td><td>2022-04-08</td><td>1470.0</td><td>167</td></tr><tr><td>Van Tuxwell</td><td>Mint Chip Choco</td><td>2022-01-13</td><td>2674.0</td><td>295</td></tr><tr><td>Rafaelita Blaksland</td><td>White Choc</td><td>2022-03-21</td><td>6818.0</td><td>102</td></tr><tr><td>Madelene Upcott</td><td>70% Dark Bites</td><td>2022-04-15</td><td>3710.0</td><td>260</td></tr><tr><td>Dotty Strutley</td><td>White Choc</td><td>2022-07-05</td><td>6055.0</td><td>93</td></tr><tr><td>Brien Boise</td><td>Peanut Butter Cubes</td><td>2022-08-19</td><td>301.0</td><td>205</td></tr><tr><td>Karlen McCaffrey</td><td>Spicy Special Slims</td><td>2022-05-17</td><td>4410.0</td><td>323</td></tr></tbody></table></div>"
      ]
     },
     "metadata": {
      "application/vnd.databricks.v1+output": {
       "addedWidgets": {},
       "aggData": [],
       "aggError": "",
       "aggOverflow": false,
       "aggSchema": [],
       "aggSeriesLimitReached": false,
       "aggType": "",
       "arguments": {},
       "columnCustomDisplayInfos": {},
       "data": [
        [
         "Jan Morforth",
         "Peanut Butter Cubes",
         "2022-04-27",
         12726.0,
         342
        ],
        [
         "Gunar Cockshoot",
         "After Nines",
         "2022-03-24",
         3080.0,
         73
        ],
        [
         "Brien Boise",
         "99% Dark & Pure",
         "2022-07-04",
         2835.0,
         102
        ],
        [
         "Beverie Moffet",
         "Organic Choco Syrup",
         "2022-01-26",
         6790.0,
         356
        ],
        [
         "Brien Boise",
         "Eclairs",
         "2022-06-27",
         6888.0,
         88
        ],
        [
         "Kaine Padly",
         "Eclairs",
         "2022-02-28",
         7672.0,
         115
        ],
        [
         "Wilone O'Kielt",
         "Manuka Honey Choco",
         "2022-05-11",
         4284.0,
         94
        ],
        [
         "Camilla Castle",
         "85% Dark Bars",
         "2022-05-19",
         3654.0,
         14
        ],
        [
         "Curtice Advani",
         "Milk Bars",
         "2022-02-14",
         6979.0,
         18
        ],
        [
         "Brien Boise",
         "Fruit & Nut Bars",
         "2022-06-06",
         8575.0,
         23
        ],
        [
         "Dotty Strutley",
         "Drinking Coco",
         "2022-07-19",
         91.0,
         135
        ],
        [
         "Barr Faughny",
         "Fruit & Nut Bars",
         "2022-06-30",
         15421.0,
         55
        ],
        [
         "Andria Kimpton",
         "50% Dark Bites",
         "2022-06-02",
         4438.0,
         227
        ],
        [
         "Andria Kimpton",
         "Drinking Coco",
         "2022-06-28",
         1603.0,
         48
        ],
        [
         "Marney O'Breen",
         "Organic Choco Syrup",
         "2022-05-16",
         273.0,
         174
        ],
        [
         "Wilone O'Kielt",
         "Caramel Stuffed Bars",
         "2022-04-14",
         2030.0,
         11
        ],
        [
         "Van Tuxwell",
         "Organic Choco Syrup",
         "2022-08-10",
         19453.0,
         14
        ],
        [
         "Dotty Strutley",
         "Fruit & Nut Bars",
         "2022-08-23",
         280.0,
         311
        ],
        [
         "Dennison Crosswaite",
         "70% Dark Bites",
         "2022-02-07",
         5859.0,
         108
        ],
        [
         "Madelene Upcott",
         "Spicy Special Slims",
         "2022-03-07",
         7182.0,
         408
        ],
        [
         "Dennison Crosswaite",
         "85% Dark Bars",
         "2022-04-05",
         6881.0,
         420
        ],
        [
         "Wilone O'Kielt",
         "Organic Choco Syrup",
         "2022-07-07",
         1743.0,
         111
        ],
        [
         "Beverie Moffet",
         "Eclairs",
         "2022-06-20",
         1827.0,
         6
        ],
        [
         "Dennison Crosswaite",
         "Raspberry Choco",
         "2022-03-14",
         5740.0,
         31
        ],
        [
         "Madelene Upcott",
         "Fruit & Nut Bars",
         "2022-01-05",
         5579.0,
         92
        ],
        [
         "Wilone O'Kielt",
         "Drinking Coco",
         "2022-04-06",
         623.0,
         283
        ],
        [
         "Gunar Cockshoot",
         "Fruit & Nut Bars",
         "2022-06-15",
         6013.0,
         21
        ],
        [
         "Rafaelita Blaksland",
         "Drinking Coco",
         "2022-02-21",
         11550.0,
         396
        ],
        [
         "Kelci Walkden",
         "Eclairs",
         "2022-03-23",
         7273.0,
         547
        ],
        [
         "Husein Augar",
         "Orange Choco",
         "2022-06-28",
         8897.0,
         188
        ],
        [
         "Marney O'Breen",
         "Milk Bars",
         "2022-07-28",
         2464.0,
         387
        ],
        [
         "Kaine Padly",
         "Manuka Honey Choco",
         "2022-01-12",
         2765.0,
         264
        ],
        [
         "Ches Bonnell",
         "Eclairs",
         "2022-07-05",
         4116.0,
         128
        ],
        [
         "Brien Boise",
         "Baker's Choco Chips",
         "2022-01-04",
         12516.0,
         212
        ],
        [
         "Dennison Crosswaite",
         "99% Dark & Pure",
         "2022-01-31",
         2758.0,
         18
        ],
        [
         "Camilla Castle",
         "70% Dark Bites",
         "2022-04-29",
         6048.0,
         477
        ],
        [
         "Curtice Advani",
         "Orange Choco",
         "2022-07-12",
         854.0,
         136
        ],
        [
         "Mallorie Waber",
         "Milk Bars",
         "2022-07-29",
         2779.0,
         104
        ],
        [
         "Ches Bonnell",
         "White Choc",
         "2022-03-02",
         1043.0,
         202
        ],
        [
         "Jehu Rudeforth",
         "50% Dark Bites",
         "2022-01-14",
         5194.0,
         418
        ],
        [
         "Jehu Rudeforth",
         "Orange Choco",
         "2022-03-23",
         13706.0,
         26
        ],
        [
         "Barr Faughny",
         "White Choc",
         "2022-07-04",
         8113.0,
         370
        ],
        [
         "Dennison Crosswaite",
         "50% Dark Bites",
         "2022-04-01",
         7287.0,
         12
        ],
        [
         "Curtice Advani",
         "Organic Choco Syrup",
         "2022-06-28",
         3472.0,
         311
        ],
        [
         "Wilone O'Kielt",
         "After Nines",
         "2022-05-27",
         3325.0,
         26
        ],
        [
         "Jan Morforth",
         "White Choc",
         "2022-07-27",
         3472.0,
         32
        ],
        [
         "Ches Bonnell",
         "Mint Chip Choco",
         "2022-02-21",
         9660.0,
         92
        ],
        [
         "Karlen McCaffrey",
         "White Choc",
         "2022-01-05",
         7357.0,
         48
        ],
        [
         "Brien Boise",
         "Choco Coated Almonds",
         "2022-05-25",
         5124.0,
         62
        ],
        [
         "Beverie Moffet",
         "Milk Bars",
         "2022-05-25",
         735.0,
         390
        ],
        [
         "Jan Morforth",
         "Orange Choco",
         "2022-07-04",
         3199.0,
         122
        ],
        [
         "Ches Bonnell",
         "70% Dark Bites",
         "2022-01-12",
         3136.0,
         125
        ],
        [
         "Kaine Padly",
         "Peanut Butter Cubes",
         "2022-03-25",
         5460.0,
         286
        ],
        [
         "Husein Augar",
         "Manuka Honey Choco",
         "2022-03-15",
         7161.0,
         92
        ],
        [
         "Van Tuxwell",
         "Milk Bars",
         "2022-06-20",
         7910.0,
         87
        ],
        [
         "Dotty Strutley",
         "50% Dark Bites",
         "2022-05-12",
         3108.0,
         252
        ],
        [
         "Madelene Upcott",
         "50% Dark Bites",
         "2022-07-25",
         7350.0,
         6
        ],
        [
         "Gunar Cockshoot",
         "Almond Choco",
         "2022-01-25",
         3752.0,
         424
        ],
        [
         "Beverie Moffet",
         "Baker's Choco Chips",
         "2022-08-04",
         3192.0,
         109
        ],
        [
         "Marney O'Breen",
         "Smooth Sliky Salty",
         "2022-01-03",
         3745.0,
         170
        ],
        [
         "Mallorie Waber",
         "Orange Choco",
         "2022-03-07",
         14658.0,
         275
        ],
        [
         "Gigi Bohling",
         "Drinking Coco",
         "2022-07-27",
         2807.0,
         139
        ],
        [
         "Beverie Moffet",
         "White Choc",
         "2022-06-27",
         2240.0,
         166
        ],
        [
         "Dotty Strutley",
         "Eclairs",
         "2022-01-26",
         6979.0,
         3
        ],
        [
         "Wilone O'Kielt",
         "Fruit & Nut Bars",
         "2022-06-15",
         392.0,
         102
        ],
        [
         "Karlen McCaffrey",
         "Almond Choco",
         "2022-07-08",
         7294.0,
         128
        ],
        [
         "Husein Augar",
         "50% Dark Bites",
         "2022-08-19",
         14889.0,
         52
        ],
        [
         "Madelene Upcott",
         "Choco Coated Almonds",
         "2022-04-08",
         2058.0,
         72
        ],
        [
         "Mallorie Waber",
         "85% Dark Bars",
         "2022-08-26",
         2541.0,
         53
        ],
        [
         "Gigi Bohling",
         "White Choc",
         "2022-05-11",
         5523.0,
         87
        ],
        [
         "Mallorie Waber",
         "Almond Choco",
         "2022-08-01",
         7882.0,
         125
        ],
        [
         "Brien Boise",
         "Drinking Coco",
         "2022-07-27",
         6832.0,
         156
        ],
        [
         "Rafaelita Blaksland",
         "50% Dark Bites",
         "2022-03-22",
         3010.0,
         40
        ],
        [
         "Kelci Walkden",
         "After Nines",
         "2022-03-02",
         6916.0,
         288
        ],
        [
         "Gunar Cockshoot",
         "Raspberry Choco",
         "2022-03-17",
         602.0,
         72
        ],
        [
         "Van Tuxwell",
         "Caramel Stuffed Bars",
         "2022-05-17",
         5936.0,
         59
        ],
        [
         "Curtice Advani",
         "Almond Choco",
         "2022-07-13",
         2912.0,
         75
        ],
        [
         "Madelene Upcott",
         "85% Dark Bars",
         "2022-06-16",
         1575.0,
         329
        ],
        [
         "Jehu Rudeforth",
         "Peanut Butter Cubes",
         "2022-06-24",
         5691.0,
         38
        ],
        [
         "Camilla Castle",
         "Caramel Stuffed Bars",
         "2022-05-02",
         3178.0,
         16
        ],
        [
         "Curtice Advani",
         "99% Dark & Pure",
         "2022-01-07",
         4676.0,
         84
        ],
        [
         "Gunar Cockshoot",
         "Drinking Coco",
         "2022-01-14",
         2317.0,
         195
        ],
        [
         "Dotty Strutley",
         "Mint Chip Choco",
         "2022-08-01",
         6790.0,
         25
        ],
        [
         "Roddy Speechley",
         "Mint Chip Choco",
         "2022-05-05",
         6797.0,
         252
        ],
        [
         "Roddy Speechley",
         "Almond Choco",
         "2022-06-24",
         4466.0,
         74
        ],
        [
         "Camilla Castle",
         "99% Dark & Pure",
         "2022-01-18",
         4669.0,
         101
        ],
        [
         "Ches Bonnell",
         "Smooth Sliky Salty",
         "2022-05-16",
         7490.0,
         54
        ],
        [
         "Husein Augar",
         "Eclairs",
         "2022-07-04",
         6993.0,
         31
        ],
        [
         "Camilla Castle",
         "Manuka Honey Choco",
         "2022-03-17",
         637.0,
         169
        ],
        [
         "Oby Sorrel",
         "Almond Choco",
         "2022-02-15",
         6034.0,
         223
        ],
        [
         "Dennison Crosswaite",
         "Organic Choco Syrup",
         "2022-05-10",
         5775.0,
         41
        ],
        [
         "Marney O'Breen",
         "Spicy Special Slims",
         "2022-06-23",
         13125.0,
         275
        ],
        [
         "Rafaelita Blaksland",
         "Organic Choco Syrup",
         "2022-01-26",
         994.0,
         105
        ],
        [
         "Oby Sorrel",
         "Raspberry Choco",
         "2022-02-17",
         1043.0,
         120
        ],
        [
         "Jan Morforth",
         "50% Dark Bites",
         "2022-06-14",
         3402.0,
         182
        ],
        [
         "Beverie Moffet",
         "Smooth Sliky Salty",
         "2022-01-25",
         10507.0,
         467
        ],
        [
         "Karlen McCaffrey",
         "70% Dark Bites",
         "2022-06-24",
         238.0,
         317
        ],
        [
         "Oby Sorrel",
         "Milk Bars",
         "2022-06-21",
         7672.0,
         254
        ],
        [
         "Andria Kimpton",
         "85% Dark Bars",
         "2022-08-23",
         4186.0,
         233
        ],
        [
         "Camilla Castle",
         "Smooth Sliky Salty",
         "2022-03-03",
         7406.0,
         118
        ],
        [
         "Jehu Rudeforth",
         "Drinking Coco",
         "2022-01-14",
         2611.0,
         65
        ],
        [
         "Gigi Bohling",
         "Caramel Stuffed Bars",
         "2022-07-08",
         8001.0,
         151
        ],
        [
         "Andria Kimpton",
         "Peanut Butter Cubes",
         "2022-04-20",
         6678.0,
         148
        ],
        [
         "Jan Morforth",
         "70% Dark Bites",
         "2022-03-04",
         5222.0,
         384
        ],
        [
         "Kaine Padly",
         "70% Dark Bites",
         "2022-02-08",
         6706.0,
         223
        ],
        [
         "Kaine Padly",
         "Fruit & Nut Bars",
         "2022-06-20",
         7434.0,
         85
        ],
        [
         "Madelene Upcott",
         "Mint Chip Choco",
         "2022-05-02",
         2751.0,
         153
        ],
        [
         "Rafaelita Blaksland",
         "Baker's Choco Chips",
         "2022-08-22",
         2786.0,
         51
        ],
        [
         "Karlen McCaffrey",
         "After Nines",
         "2022-08-11",
         2303.0,
         67
        ],
        [
         "Gunar Cockshoot",
         "50% Dark Bites",
         "2022-03-02",
         12271.0,
         116
        ],
        [
         "Marney O'Breen",
         "Choco Coated Almonds",
         "2022-07-27",
         11298.0,
         41
        ],
        [
         "Camilla Castle",
         "Raspberry Choco",
         "2022-08-23",
         6342.0,
         178
        ],
        [
         "Kelci Walkden",
         "99% Dark & Pure",
         "2022-06-30",
         3185.0,
         34
        ],
        [
         "Dotty Strutley",
         "Spicy Special Slims",
         "2022-01-17",
         8225.0,
         91
        ],
        [
         "Kaine Padly",
         "Almond Choco",
         "2022-02-22",
         4102.0,
         392
        ],
        [
         "Kelci Walkden",
         "Orange Choco",
         "2022-04-29",
         11116.0,
         432
        ],
        [
         "Marney O'Breen",
         "Manuka Honey Choco",
         "2022-04-05",
         13076.0,
         236
        ],
        [
         "Kelci Walkden",
         "White Choc",
         "2022-08-24",
         8715.0,
         168
        ],
        [
         "Kaine Padly",
         "Milk Bars",
         "2022-06-09",
         4046.0,
         89
        ],
        [
         "Rafaelita Blaksland",
         "Manuka Honey Choco",
         "2022-08-03",
         4396.0,
         131
        ],
        [
         "Mallorie Waber",
         "Spicy Special Slims",
         "2022-06-29",
         5439.0,
         287
        ],
        [
         "Beverie Moffet",
         "Fruit & Nut Bars",
         "2022-04-22",
         1435.0,
         258
        ],
        [
         "Kelci Walkden",
         "Raspberry Choco",
         "2022-06-07",
         679.0,
         56
        ],
        [
         "Jehu Rudeforth",
         "99% Dark & Pure",
         "2022-02-25",
         10486.0,
         198
        ],
        [
         "Jan Morforth",
         "Mint Chip Choco",
         "2022-02-22",
         17626.0,
         103
        ],
        [
         "Ches Bonnell",
         "Caramel Stuffed Bars",
         "2022-01-17",
         8757.0,
         162
        ],
        [
         "Dennison Crosswaite",
         "Milk Bars",
         "2022-06-09",
         10038.0,
         286
        ],
        [
         "Roddy Speechley",
         "Drinking Coco",
         "2022-05-12",
         12565.0,
         102
        ],
        [
         "Curtice Advani",
         "50% Dark Bites",
         "2022-06-29",
         504.0,
         232
        ],
        [
         "Wilone O'Kielt",
         "Baker's Choco Chips",
         "2022-01-25",
         2961.0,
         154
        ],
        [
         "Brien Boise",
         "Milk Bars",
         "2022-07-27",
         1981.0,
         52
        ],
        [
         "Husein Augar",
         "Fruit & Nut Bars",
         "2022-01-28",
         7959.0,
         53
        ],
        [
         "Madelene Upcott",
         "Organic Choco Syrup",
         "2022-07-05",
         10794.0,
         50
        ],
        [
         "Oby Sorrel",
         "85% Dark Bars",
         "2022-06-30",
         6944.0,
         27
        ],
        [
         "Husein Augar",
         "White Choc",
         "2022-05-11",
         3171.0,
         220
        ],
        [
         "Van Tuxwell",
         "99% Dark & Pure",
         "2022-01-17",
         112.0,
         128
        ],
        [
         "Brien Boise",
         "Spicy Special Slims",
         "2022-05-09",
         6223.0,
         256
        ],
        [
         "Rafaelita Blaksland",
         "Smooth Sliky Salty",
         "2022-05-30",
         3969.0,
         243
        ],
        [
         "Marney O'Breen",
         "Baker's Choco Chips",
         "2022-01-13",
         5810.0,
         101
        ],
        [
         "Kaine Padly",
         "Mint Chip Choco",
         "2022-05-17",
         4403.0,
         159
        ],
        [
         "Curtice Advani",
         "Eclairs",
         "2022-03-25",
         5796.0,
         55
        ],
        [
         "Madelene Upcott",
         "Orange Choco",
         "2022-04-15",
         6713.0,
         398
        ],
        [
         "Wilone O'Kielt",
         "50% Dark Bites",
         "2022-08-03",
         10031.0,
         114
        ],
        [
         "Karlen McCaffrey",
         "50% Dark Bites",
         "2022-01-17",
         6678.0,
         708
        ],
        [
         "Barr Faughny",
         "Caramel Stuffed Bars",
         "2022-07-29",
         2933.0,
         55
        ],
        [
         "Gigi Bohling",
         "Raspberry Choco",
         "2022-03-30",
         6524.0,
         303
        ],
        [
         "Mallorie Waber",
         "Choco Coated Almonds",
         "2022-03-18",
         15750.0,
         92
        ],
        [
         "Gigi Bohling",
         "Almond Choco",
         "2022-08-17",
         910.0,
         117
        ],
        [
         "Jehu Rudeforth",
         "Milk Bars",
         "2022-03-18",
         8659.0,
         29
        ],
        [
         "Husein Augar",
         "99% Dark & Pure",
         "2022-08-26",
         3087.0,
         128
        ],
        [
         "Dotty Strutley",
         "Baker's Choco Chips",
         "2022-06-07",
         3605.0,
         68
        ],
        [
         "Barr Faughny",
         "85% Dark Bars",
         "2022-02-10",
         8498.0,
         44
        ],
        [
         "Beverie Moffet",
         "50% Dark Bites",
         "2022-05-16",
         700.0,
         457
        ],
        [
         "Van Tuxwell",
         "50% Dark Bites",
         "2022-07-13",
         644.0,
         137
        ],
        [
         "Kelci Walkden",
         "Milk Bars",
         "2022-02-24",
         7910.0,
         125
        ],
        [
         "Dotty Strutley",
         "Almond Choco",
         "2022-05-13",
         1456.0,
         91
        ],
        [
         "Andria Kimpton",
         "Manuka Honey Choco",
         "2022-03-30",
         9744.0,
         377
        ],
        [
         "Curtice Advani",
         "After Nines",
         "2022-08-11",
         63.0,
         105
        ],
        [
         "Jan Morforth",
         "Drinking Coco",
         "2022-02-18",
         2821.0,
         24
        ],
        [
         "Rafaelita Blaksland",
         "Raspberry Choco",
         "2022-01-19",
         6916.0,
         259
        ],
        [
         "Kaine Padly",
         "50% Dark Bites",
         "2022-08-02",
         8995.0,
         78
        ],
        [
         "Gigi Bohling",
         "Eclairs",
         "2022-04-12",
         7252.0,
         136
        ],
        [
         "Andria Kimpton",
         "Baker's Choco Chips",
         "2022-08-09",
         329.0,
         109
        ],
        [
         "Andria Kimpton",
         "Almond Choco",
         "2022-04-25",
         3192.0,
         175
        ],
        [
         "Madelene Upcott",
         "99% Dark & Pure",
         "2022-08-01",
         4326.0,
         154
        ],
        [
         "Mallorie Waber",
         "Eclairs",
         "2022-08-22",
         9527.0,
         222
        ],
        [
         "Kelci Walkden",
         "Almond Choco",
         "2022-05-30",
         4879.0,
         350
        ],
        [
         "Gigi Bohling",
         "70% Dark Bites",
         "2022-08-18",
         1372.0,
         105
        ],
        [
         "Jehu Rudeforth",
         "Spicy Special Slims",
         "2022-01-13",
         5012.0,
         384
        ],
        [
         "Barr Faughny",
         "Organic Choco Syrup",
         "2022-01-07",
         2303.0,
         33
        ],
        [
         "Van Tuxwell",
         "Baker's Choco Chips",
         "2022-05-11",
         13258.0,
         32
        ],
        [
         "Oby Sorrel",
         "50% Dark Bites",
         "2022-05-06",
         721.0,
         151
        ],
        [
         "Curtice Advani",
         "Caramel Stuffed Bars",
         "2022-02-14",
         9114.0,
         140
        ],
        [
         "Dennison Crosswaite",
         "Drinking Coco",
         "2022-07-13",
         7091.0,
         194
        ],
        [
         "Barr Faughny",
         "Raspberry Choco",
         "2022-05-27",
         9268.0,
         100
        ],
        [
         "Dotty Strutley",
         "Choco Coated Almonds",
         "2022-04-13",
         1645.0,
         284
        ],
        [
         "Van Tuxwell",
         "70% Dark Bites",
         "2022-01-10",
         7063.0,
         104
        ],
        [
         "Roddy Speechley",
         "85% Dark Bars",
         "2022-07-08",
         4200.0,
         80
        ],
        [
         "Kaine Padly",
         "After Nines",
         "2022-04-08",
         6832.0,
         306
        ],
        [
         "Madelene Upcott",
         "Raspberry Choco",
         "2022-07-13",
         6321.0,
         88
        ],
        [
         "Oby Sorrel",
         "Manuka Honey Choco",
         "2022-01-26",
         3906.0,
         76
        ],
        [
         "Gigi Bohling",
         "Smooth Sliky Salty",
         "2022-01-25",
         5768.0,
         119
        ],
        [
         "Karlen McCaffrey",
         "Raspberry Choco",
         "2022-08-23",
         994.0,
         57
        ],
        [
         "Gigi Bohling",
         "Orange Choco",
         "2022-03-09",
         574.0,
         156
        ],
        [
         "Husein Augar",
         "Organic Choco Syrup",
         "2022-02-08",
         938.0,
         158
        ],
        [
         "Brien Boise",
         "White Choc",
         "2022-08-25",
         4879.0,
         22
        ],
        [
         "Ches Bonnell",
         "Peanut Butter Cubes",
         "2022-03-14",
         10199.0,
         68
        ],
        [
         "Oby Sorrel",
         "Spicy Special Slims",
         "2022-04-26",
         11389.0,
         26
        ],
        [
         "Karlen McCaffrey",
         "99% Dark & Pure",
         "2022-01-26",
         10822.0,
         168
        ],
        [
         "Mallorie Waber",
         "Smooth Sliky Salty",
         "2022-02-11",
         4158.0,
         109
        ],
        [
         "Brien Boise",
         "Organic Choco Syrup",
         "2022-07-15",
         4263.0,
         264
        ],
        [
         "Dennison Crosswaite",
         "Baker's Choco Chips",
         "2022-01-11",
         13846.0,
         421
        ],
        [
         "Wilone O'Kielt",
         "Smooth Sliky Salty",
         "2022-01-04",
         2226.0,
         46
        ],
        [
         "Jehu Rudeforth",
         "After Nines",
         "2022-02-14",
         5250.0,
         47
        ],
        [
         "Mallorie Waber",
         "Raspberry Choco",
         "2022-04-25",
         8400.0,
         27
        ],
        [
         "Kelci Walkden",
         "Drinking Coco",
         "2022-05-04",
         1288.0,
         60
        ],
        [
         "Roddy Speechley",
         "Organic Choco Syrup",
         "2022-07-04",
         3647.0,
         76
        ],
        [
         "Gunar Cockshoot",
         "99% Dark & Pure",
         "2022-08-18",
         7952.0,
         235
        ],
        [
         "Ches Bonnell",
         "Choco Coated Almonds",
         "2022-04-08",
         1470.0,
         167
        ],
        [
         "Van Tuxwell",
         "Mint Chip Choco",
         "2022-01-13",
         2674.0,
         295
        ],
        [
         "Rafaelita Blaksland",
         "White Choc",
         "2022-03-21",
         6818.0,
         102
        ],
        [
         "Madelene Upcott",
         "70% Dark Bites",
         "2022-04-15",
         3710.0,
         260
        ],
        [
         "Dotty Strutley",
         "White Choc",
         "2022-07-05",
         6055.0,
         93
        ],
        [
         "Brien Boise",
         "Peanut Butter Cubes",
         "2022-08-19",
         301.0,
         205
        ],
        [
         "Karlen McCaffrey",
         "Spicy Special Slims",
         "2022-05-17",
         4410.0,
         323
        ]
       ],
       "datasetInfos": [],
       "dbfsResultPath": null,
       "isJsonSchema": true,
       "metadata": {},
       "overflow": false,
       "plotOptions": {
        "customPlotOptions": {},
        "displayType": "table",
        "pivotAggregation": null,
        "pivotColumns": null,
        "xColumns": null,
        "yColumns": null
       },
       "removedWidgets": [],
       "schema": [
        {
         "metadata": "{}",
         "name": "Sales Person",
         "type": "\"string\""
        },
        {
         "metadata": "{}",
         "name": "Product",
         "type": "\"string\""
        },
        {
         "metadata": "{}",
         "name": "Date",
         "type": "\"date\""
        },
        {
         "metadata": "{}",
         "name": "Amount",
         "type": "\"double\""
        },
        {
         "metadata": "{}",
         "name": "Boxes Shipped",
         "type": "\"integer\""
        }
       ],
       "type": "table"
      }
     },
     "output_type": "display_data"
    }
   ],
   "source": [
    "df_amount = df_date_formatado.withColumn(\"Amount\", regexp_replace(col(\"Amount\"), \"[$,]\", \"\").cast(\"double\"))\n",
    "display(df_amount)\n"
   ]
  },
  {
   "cell_type": "code",
   "execution_count": 0,
   "metadata": {
    "application/vnd.databricks.v1+cell": {
     "cellMetadata": {
      "byteLimit": 2048000,
      "rowLimit": 10000
     },
     "collapsed": true,
     "inputWidgets": {},
     "nuid": "e2d08602-98b1-4e39-ba0b-a7dad43e3068",
     "showTitle": false,
     "tableResultSettingsMap": {},
     "title": ""
    }
   },
   "outputs": [
    {
     "output_type": "display_data",
     "data": {
      "text/html": [
       "<style scoped>\n",
       "  .table-result-container {\n",
       "    max-height: 300px;\n",
       "    overflow: auto;\n",
       "  }\n",
       "  table, th, td {\n",
       "    border: 1px solid black;\n",
       "    border-collapse: collapse;\n",
       "  }\n",
       "  th, td {\n",
       "    padding: 5px;\n",
       "  }\n",
       "  th {\n",
       "    text-align: left;\n",
       "  }\n",
       "</style><div class='table-result-container'><table class='table-result'><thead style='background-color: white'><tr><th>Sales Person</th><th>Product</th><th>Date</th><th>Amount</th><th>Boxes Shipped</th></tr></thead><tbody><tr><td>Jan Morforth</td><td>Peanut Butter Cubes</td><td>2022-04-27</td><td>12,726.00</td><td>342</td></tr><tr><td>Gunar Cockshoot</td><td>After Nines</td><td>2022-03-24</td><td>3,080.00</td><td>73</td></tr><tr><td>Brien Boise</td><td>99% Dark & Pure</td><td>2022-07-04</td><td>2,835.00</td><td>102</td></tr><tr><td>Beverie Moffet</td><td>Organic Choco Syrup</td><td>2022-01-26</td><td>6,790.00</td><td>356</td></tr><tr><td>Brien Boise</td><td>Eclairs</td><td>2022-06-27</td><td>6,888.00</td><td>88</td></tr><tr><td>Kaine Padly</td><td>Eclairs</td><td>2022-02-28</td><td>7,672.00</td><td>115</td></tr><tr><td>Wilone O'Kielt</td><td>Manuka Honey Choco</td><td>2022-05-11</td><td>4,284.00</td><td>94</td></tr><tr><td>Camilla Castle</td><td>85% Dark Bars</td><td>2022-05-19</td><td>3,654.00</td><td>14</td></tr><tr><td>Curtice Advani</td><td>Milk Bars</td><td>2022-02-14</td><td>6,979.00</td><td>18</td></tr><tr><td>Brien Boise</td><td>Fruit & Nut Bars</td><td>2022-06-06</td><td>8,575.00</td><td>23</td></tr><tr><td>Dotty Strutley</td><td>Drinking Coco</td><td>2022-07-19</td><td>91.00</td><td>135</td></tr><tr><td>Barr Faughny</td><td>Fruit & Nut Bars</td><td>2022-06-30</td><td>15,421.00</td><td>55</td></tr><tr><td>Andria Kimpton</td><td>50% Dark Bites</td><td>2022-06-02</td><td>4,438.00</td><td>227</td></tr><tr><td>Andria Kimpton</td><td>Drinking Coco</td><td>2022-06-28</td><td>1,603.00</td><td>48</td></tr><tr><td>Marney O'Breen</td><td>Organic Choco Syrup</td><td>2022-05-16</td><td>273.00</td><td>174</td></tr><tr><td>Wilone O'Kielt</td><td>Caramel Stuffed Bars</td><td>2022-04-14</td><td>2,030.00</td><td>11</td></tr><tr><td>Van Tuxwell</td><td>Organic Choco Syrup</td><td>2022-08-10</td><td>19,453.00</td><td>14</td></tr><tr><td>Dotty Strutley</td><td>Fruit & Nut Bars</td><td>2022-08-23</td><td>280.00</td><td>311</td></tr><tr><td>Dennison Crosswaite</td><td>70% Dark Bites</td><td>2022-02-07</td><td>5,859.00</td><td>108</td></tr><tr><td>Madelene Upcott</td><td>Spicy Special Slims</td><td>2022-03-07</td><td>7,182.00</td><td>408</td></tr><tr><td>Dennison Crosswaite</td><td>85% Dark Bars</td><td>2022-04-05</td><td>6,881.00</td><td>420</td></tr><tr><td>Wilone O'Kielt</td><td>Organic Choco Syrup</td><td>2022-07-07</td><td>1,743.00</td><td>111</td></tr><tr><td>Beverie Moffet</td><td>Eclairs</td><td>2022-06-20</td><td>1,827.00</td><td>6</td></tr><tr><td>Dennison Crosswaite</td><td>Raspberry Choco</td><td>2022-03-14</td><td>5,740.00</td><td>31</td></tr><tr><td>Madelene Upcott</td><td>Fruit & Nut Bars</td><td>2022-01-05</td><td>5,579.00</td><td>92</td></tr><tr><td>Wilone O'Kielt</td><td>Drinking Coco</td><td>2022-04-06</td><td>623.00</td><td>283</td></tr><tr><td>Gunar Cockshoot</td><td>Fruit & Nut Bars</td><td>2022-06-15</td><td>6,013.00</td><td>21</td></tr><tr><td>Rafaelita Blaksland</td><td>Drinking Coco</td><td>2022-02-21</td><td>11,550.00</td><td>396</td></tr><tr><td>Kelci Walkden</td><td>Eclairs</td><td>2022-03-23</td><td>7,273.00</td><td>547</td></tr><tr><td>Husein Augar</td><td>Orange Choco</td><td>2022-06-28</td><td>8,897.00</td><td>188</td></tr><tr><td>Marney O'Breen</td><td>Milk Bars</td><td>2022-07-28</td><td>2,464.00</td><td>387</td></tr><tr><td>Kaine Padly</td><td>Manuka Honey Choco</td><td>2022-01-12</td><td>2,765.00</td><td>264</td></tr><tr><td>Ches Bonnell</td><td>Eclairs</td><td>2022-07-05</td><td>4,116.00</td><td>128</td></tr><tr><td>Brien Boise</td><td>Baker's Choco Chips</td><td>2022-01-04</td><td>12,516.00</td><td>212</td></tr><tr><td>Dennison Crosswaite</td><td>99% Dark & Pure</td><td>2022-01-31</td><td>2,758.00</td><td>18</td></tr><tr><td>Camilla Castle</td><td>70% Dark Bites</td><td>2022-04-29</td><td>6,048.00</td><td>477</td></tr><tr><td>Curtice Advani</td><td>Orange Choco</td><td>2022-07-12</td><td>854.00</td><td>136</td></tr><tr><td>Mallorie Waber</td><td>Milk Bars</td><td>2022-07-29</td><td>2,779.00</td><td>104</td></tr><tr><td>Ches Bonnell</td><td>White Choc</td><td>2022-03-02</td><td>1,043.00</td><td>202</td></tr><tr><td>Jehu Rudeforth</td><td>50% Dark Bites</td><td>2022-01-14</td><td>5,194.00</td><td>418</td></tr><tr><td>Jehu Rudeforth</td><td>Orange Choco</td><td>2022-03-23</td><td>13,706.00</td><td>26</td></tr><tr><td>Barr Faughny</td><td>White Choc</td><td>2022-07-04</td><td>8,113.00</td><td>370</td></tr><tr><td>Dennison Crosswaite</td><td>50% Dark Bites</td><td>2022-04-01</td><td>7,287.00</td><td>12</td></tr><tr><td>Curtice Advani</td><td>Organic Choco Syrup</td><td>2022-06-28</td><td>3,472.00</td><td>311</td></tr><tr><td>Wilone O'Kielt</td><td>After Nines</td><td>2022-05-27</td><td>3,325.00</td><td>26</td></tr><tr><td>Jan Morforth</td><td>White Choc</td><td>2022-07-27</td><td>3,472.00</td><td>32</td></tr><tr><td>Ches Bonnell</td><td>Mint Chip Choco</td><td>2022-02-21</td><td>9,660.00</td><td>92</td></tr><tr><td>Karlen McCaffrey</td><td>White Choc</td><td>2022-01-05</td><td>7,357.00</td><td>48</td></tr><tr><td>Brien Boise</td><td>Choco Coated Almonds</td><td>2022-05-25</td><td>5,124.00</td><td>62</td></tr><tr><td>Beverie Moffet</td><td>Milk Bars</td><td>2022-05-25</td><td>735.00</td><td>390</td></tr><tr><td>Jan Morforth</td><td>Orange Choco</td><td>2022-07-04</td><td>3,199.00</td><td>122</td></tr><tr><td>Ches Bonnell</td><td>70% Dark Bites</td><td>2022-01-12</td><td>3,136.00</td><td>125</td></tr><tr><td>Kaine Padly</td><td>Peanut Butter Cubes</td><td>2022-03-25</td><td>5,460.00</td><td>286</td></tr><tr><td>Husein Augar</td><td>Manuka Honey Choco</td><td>2022-03-15</td><td>7,161.00</td><td>92</td></tr><tr><td>Van Tuxwell</td><td>Milk Bars</td><td>2022-06-20</td><td>7,910.00</td><td>87</td></tr><tr><td>Dotty Strutley</td><td>50% Dark Bites</td><td>2022-05-12</td><td>3,108.00</td><td>252</td></tr><tr><td>Madelene Upcott</td><td>50% Dark Bites</td><td>2022-07-25</td><td>7,350.00</td><td>6</td></tr><tr><td>Gunar Cockshoot</td><td>Almond Choco</td><td>2022-01-25</td><td>3,752.00</td><td>424</td></tr><tr><td>Beverie Moffet</td><td>Baker's Choco Chips</td><td>2022-08-04</td><td>3,192.00</td><td>109</td></tr><tr><td>Marney O'Breen</td><td>Smooth Sliky Salty</td><td>2022-01-03</td><td>3,745.00</td><td>170</td></tr><tr><td>Mallorie Waber</td><td>Orange Choco</td><td>2022-03-07</td><td>14,658.00</td><td>275</td></tr><tr><td>Gigi Bohling</td><td>Drinking Coco</td><td>2022-07-27</td><td>2,807.00</td><td>139</td></tr><tr><td>Beverie Moffet</td><td>White Choc</td><td>2022-06-27</td><td>2,240.00</td><td>166</td></tr><tr><td>Dotty Strutley</td><td>Eclairs</td><td>2022-01-26</td><td>6,979.00</td><td>3</td></tr><tr><td>Wilone O'Kielt</td><td>Fruit & Nut Bars</td><td>2022-06-15</td><td>392.00</td><td>102</td></tr><tr><td>Karlen McCaffrey</td><td>Almond Choco</td><td>2022-07-08</td><td>7,294.00</td><td>128</td></tr><tr><td>Husein Augar</td><td>50% Dark Bites</td><td>2022-08-19</td><td>14,889.00</td><td>52</td></tr><tr><td>Madelene Upcott</td><td>Choco Coated Almonds</td><td>2022-04-08</td><td>2,058.00</td><td>72</td></tr><tr><td>Mallorie Waber</td><td>85% Dark Bars</td><td>2022-08-26</td><td>2,541.00</td><td>53</td></tr><tr><td>Gigi Bohling</td><td>White Choc</td><td>2022-05-11</td><td>5,523.00</td><td>87</td></tr><tr><td>Mallorie Waber</td><td>Almond Choco</td><td>2022-08-01</td><td>7,882.00</td><td>125</td></tr><tr><td>Brien Boise</td><td>Drinking Coco</td><td>2022-07-27</td><td>6,832.00</td><td>156</td></tr><tr><td>Rafaelita Blaksland</td><td>50% Dark Bites</td><td>2022-03-22</td><td>3,010.00</td><td>40</td></tr><tr><td>Kelci Walkden</td><td>After Nines</td><td>2022-03-02</td><td>6,916.00</td><td>288</td></tr><tr><td>Gunar Cockshoot</td><td>Raspberry Choco</td><td>2022-03-17</td><td>602.00</td><td>72</td></tr><tr><td>Van Tuxwell</td><td>Caramel Stuffed Bars</td><td>2022-05-17</td><td>5,936.00</td><td>59</td></tr><tr><td>Curtice Advani</td><td>Almond Choco</td><td>2022-07-13</td><td>2,912.00</td><td>75</td></tr><tr><td>Madelene Upcott</td><td>85% Dark Bars</td><td>2022-06-16</td><td>1,575.00</td><td>329</td></tr><tr><td>Jehu Rudeforth</td><td>Peanut Butter Cubes</td><td>2022-06-24</td><td>5,691.00</td><td>38</td></tr><tr><td>Camilla Castle</td><td>Caramel Stuffed Bars</td><td>2022-05-02</td><td>3,178.00</td><td>16</td></tr><tr><td>Curtice Advani</td><td>99% Dark & Pure</td><td>2022-01-07</td><td>4,676.00</td><td>84</td></tr><tr><td>Gunar Cockshoot</td><td>Drinking Coco</td><td>2022-01-14</td><td>2,317.00</td><td>195</td></tr><tr><td>Dotty Strutley</td><td>Mint Chip Choco</td><td>2022-08-01</td><td>6,790.00</td><td>25</td></tr><tr><td>Roddy Speechley</td><td>Mint Chip Choco</td><td>2022-05-05</td><td>6,797.00</td><td>252</td></tr><tr><td>Roddy Speechley</td><td>Almond Choco</td><td>2022-06-24</td><td>4,466.00</td><td>74</td></tr><tr><td>Camilla Castle</td><td>99% Dark & Pure</td><td>2022-01-18</td><td>4,669.00</td><td>101</td></tr><tr><td>Ches Bonnell</td><td>Smooth Sliky Salty</td><td>2022-05-16</td><td>7,490.00</td><td>54</td></tr><tr><td>Husein Augar</td><td>Eclairs</td><td>2022-07-04</td><td>6,993.00</td><td>31</td></tr><tr><td>Camilla Castle</td><td>Manuka Honey Choco</td><td>2022-03-17</td><td>637.00</td><td>169</td></tr><tr><td>Oby Sorrel</td><td>Almond Choco</td><td>2022-02-15</td><td>6,034.00</td><td>223</td></tr><tr><td>Dennison Crosswaite</td><td>Organic Choco Syrup</td><td>2022-05-10</td><td>5,775.00</td><td>41</td></tr><tr><td>Marney O'Breen</td><td>Spicy Special Slims</td><td>2022-06-23</td><td>13,125.00</td><td>275</td></tr><tr><td>Rafaelita Blaksland</td><td>Organic Choco Syrup</td><td>2022-01-26</td><td>994.00</td><td>105</td></tr><tr><td>Oby Sorrel</td><td>Raspberry Choco</td><td>2022-02-17</td><td>1,043.00</td><td>120</td></tr><tr><td>Jan Morforth</td><td>50% Dark Bites</td><td>2022-06-14</td><td>3,402.00</td><td>182</td></tr><tr><td>Beverie Moffet</td><td>Smooth Sliky Salty</td><td>2022-01-25</td><td>10,507.00</td><td>467</td></tr><tr><td>Karlen McCaffrey</td><td>70% Dark Bites</td><td>2022-06-24</td><td>238.00</td><td>317</td></tr><tr><td>Oby Sorrel</td><td>Milk Bars</td><td>2022-06-21</td><td>7,672.00</td><td>254</td></tr><tr><td>Andria Kimpton</td><td>85% Dark Bars</td><td>2022-08-23</td><td>4,186.00</td><td>233</td></tr><tr><td>Camilla Castle</td><td>Smooth Sliky Salty</td><td>2022-03-03</td><td>7,406.00</td><td>118</td></tr><tr><td>Jehu Rudeforth</td><td>Drinking Coco</td><td>2022-01-14</td><td>2,611.00</td><td>65</td></tr><tr><td>Gigi Bohling</td><td>Caramel Stuffed Bars</td><td>2022-07-08</td><td>8,001.00</td><td>151</td></tr><tr><td>Andria Kimpton</td><td>Peanut Butter Cubes</td><td>2022-04-20</td><td>6,678.00</td><td>148</td></tr><tr><td>Jan Morforth</td><td>70% Dark Bites</td><td>2022-03-04</td><td>5,222.00</td><td>384</td></tr><tr><td>Kaine Padly</td><td>70% Dark Bites</td><td>2022-02-08</td><td>6,706.00</td><td>223</td></tr><tr><td>Kaine Padly</td><td>Fruit & Nut Bars</td><td>2022-06-20</td><td>7,434.00</td><td>85</td></tr><tr><td>Madelene Upcott</td><td>Mint Chip Choco</td><td>2022-05-02</td><td>2,751.00</td><td>153</td></tr><tr><td>Rafaelita Blaksland</td><td>Baker's Choco Chips</td><td>2022-08-22</td><td>2,786.00</td><td>51</td></tr><tr><td>Karlen McCaffrey</td><td>After Nines</td><td>2022-08-11</td><td>2,303.00</td><td>67</td></tr><tr><td>Gunar Cockshoot</td><td>50% Dark Bites</td><td>2022-03-02</td><td>12,271.00</td><td>116</td></tr><tr><td>Marney O'Breen</td><td>Choco Coated Almonds</td><td>2022-07-27</td><td>11,298.00</td><td>41</td></tr><tr><td>Camilla Castle</td><td>Raspberry Choco</td><td>2022-08-23</td><td>6,342.00</td><td>178</td></tr><tr><td>Kelci Walkden</td><td>99% Dark & Pure</td><td>2022-06-30</td><td>3,185.00</td><td>34</td></tr><tr><td>Dotty Strutley</td><td>Spicy Special Slims</td><td>2022-01-17</td><td>8,225.00</td><td>91</td></tr><tr><td>Kaine Padly</td><td>Almond Choco</td><td>2022-02-22</td><td>4,102.00</td><td>392</td></tr><tr><td>Kelci Walkden</td><td>Orange Choco</td><td>2022-04-29</td><td>11,116.00</td><td>432</td></tr><tr><td>Marney O'Breen</td><td>Manuka Honey Choco</td><td>2022-04-05</td><td>13,076.00</td><td>236</td></tr><tr><td>Kelci Walkden</td><td>White Choc</td><td>2022-08-24</td><td>8,715.00</td><td>168</td></tr><tr><td>Kaine Padly</td><td>Milk Bars</td><td>2022-06-09</td><td>4,046.00</td><td>89</td></tr><tr><td>Rafaelita Blaksland</td><td>Manuka Honey Choco</td><td>2022-08-03</td><td>4,396.00</td><td>131</td></tr><tr><td>Mallorie Waber</td><td>Spicy Special Slims</td><td>2022-06-29</td><td>5,439.00</td><td>287</td></tr><tr><td>Beverie Moffet</td><td>Fruit & Nut Bars</td><td>2022-04-22</td><td>1,435.00</td><td>258</td></tr><tr><td>Kelci Walkden</td><td>Raspberry Choco</td><td>2022-06-07</td><td>679.00</td><td>56</td></tr><tr><td>Jehu Rudeforth</td><td>99% Dark & Pure</td><td>2022-02-25</td><td>10,486.00</td><td>198</td></tr><tr><td>Jan Morforth</td><td>Mint Chip Choco</td><td>2022-02-22</td><td>17,626.00</td><td>103</td></tr><tr><td>Ches Bonnell</td><td>Caramel Stuffed Bars</td><td>2022-01-17</td><td>8,757.00</td><td>162</td></tr><tr><td>Dennison Crosswaite</td><td>Milk Bars</td><td>2022-06-09</td><td>10,038.00</td><td>286</td></tr><tr><td>Roddy Speechley</td><td>Drinking Coco</td><td>2022-05-12</td><td>12,565.00</td><td>102</td></tr><tr><td>Curtice Advani</td><td>50% Dark Bites</td><td>2022-06-29</td><td>504.00</td><td>232</td></tr><tr><td>Wilone O'Kielt</td><td>Baker's Choco Chips</td><td>2022-01-25</td><td>2,961.00</td><td>154</td></tr><tr><td>Brien Boise</td><td>Milk Bars</td><td>2022-07-27</td><td>1,981.00</td><td>52</td></tr><tr><td>Husein Augar</td><td>Fruit & Nut Bars</td><td>2022-01-28</td><td>7,959.00</td><td>53</td></tr><tr><td>Madelene Upcott</td><td>Organic Choco Syrup</td><td>2022-07-05</td><td>10,794.00</td><td>50</td></tr><tr><td>Oby Sorrel</td><td>85% Dark Bars</td><td>2022-06-30</td><td>6,944.00</td><td>27</td></tr><tr><td>Husein Augar</td><td>White Choc</td><td>2022-05-11</td><td>3,171.00</td><td>220</td></tr><tr><td>Van Tuxwell</td><td>99% Dark & Pure</td><td>2022-01-17</td><td>112.00</td><td>128</td></tr><tr><td>Brien Boise</td><td>Spicy Special Slims</td><td>2022-05-09</td><td>6,223.00</td><td>256</td></tr><tr><td>Rafaelita Blaksland</td><td>Smooth Sliky Salty</td><td>2022-05-30</td><td>3,969.00</td><td>243</td></tr><tr><td>Marney O'Breen</td><td>Baker's Choco Chips</td><td>2022-01-13</td><td>5,810.00</td><td>101</td></tr><tr><td>Kaine Padly</td><td>Mint Chip Choco</td><td>2022-05-17</td><td>4,403.00</td><td>159</td></tr><tr><td>Curtice Advani</td><td>Eclairs</td><td>2022-03-25</td><td>5,796.00</td><td>55</td></tr><tr><td>Madelene Upcott</td><td>Orange Choco</td><td>2022-04-15</td><td>6,713.00</td><td>398</td></tr><tr><td>Wilone O'Kielt</td><td>50% Dark Bites</td><td>2022-08-03</td><td>10,031.00</td><td>114</td></tr><tr><td>Karlen McCaffrey</td><td>50% Dark Bites</td><td>2022-01-17</td><td>6,678.00</td><td>708</td></tr><tr><td>Barr Faughny</td><td>Caramel Stuffed Bars</td><td>2022-07-29</td><td>2,933.00</td><td>55</td></tr><tr><td>Gigi Bohling</td><td>Raspberry Choco</td><td>2022-03-30</td><td>6,524.00</td><td>303</td></tr><tr><td>Mallorie Waber</td><td>Choco Coated Almonds</td><td>2022-03-18</td><td>15,750.00</td><td>92</td></tr><tr><td>Gigi Bohling</td><td>Almond Choco</td><td>2022-08-17</td><td>910.00</td><td>117</td></tr><tr><td>Jehu Rudeforth</td><td>Milk Bars</td><td>2022-03-18</td><td>8,659.00</td><td>29</td></tr><tr><td>Husein Augar</td><td>99% Dark & Pure</td><td>2022-08-26</td><td>3,087.00</td><td>128</td></tr><tr><td>Dotty Strutley</td><td>Baker's Choco Chips</td><td>2022-06-07</td><td>3,605.00</td><td>68</td></tr><tr><td>Barr Faughny</td><td>85% Dark Bars</td><td>2022-02-10</td><td>8,498.00</td><td>44</td></tr><tr><td>Beverie Moffet</td><td>50% Dark Bites</td><td>2022-05-16</td><td>700.00</td><td>457</td></tr><tr><td>Van Tuxwell</td><td>50% Dark Bites</td><td>2022-07-13</td><td>644.00</td><td>137</td></tr><tr><td>Kelci Walkden</td><td>Milk Bars</td><td>2022-02-24</td><td>7,910.00</td><td>125</td></tr><tr><td>Dotty Strutley</td><td>Almond Choco</td><td>2022-05-13</td><td>1,456.00</td><td>91</td></tr><tr><td>Andria Kimpton</td><td>Manuka Honey Choco</td><td>2022-03-30</td><td>9,744.00</td><td>377</td></tr><tr><td>Curtice Advani</td><td>After Nines</td><td>2022-08-11</td><td>63.00</td><td>105</td></tr><tr><td>Jan Morforth</td><td>Drinking Coco</td><td>2022-02-18</td><td>2,821.00</td><td>24</td></tr><tr><td>Rafaelita Blaksland</td><td>Raspberry Choco</td><td>2022-01-19</td><td>6,916.00</td><td>259</td></tr><tr><td>Kaine Padly</td><td>50% Dark Bites</td><td>2022-08-02</td><td>8,995.00</td><td>78</td></tr><tr><td>Gigi Bohling</td><td>Eclairs</td><td>2022-04-12</td><td>7,252.00</td><td>136</td></tr><tr><td>Andria Kimpton</td><td>Baker's Choco Chips</td><td>2022-08-09</td><td>329.00</td><td>109</td></tr><tr><td>Andria Kimpton</td><td>Almond Choco</td><td>2022-04-25</td><td>3,192.00</td><td>175</td></tr><tr><td>Madelene Upcott</td><td>99% Dark & Pure</td><td>2022-08-01</td><td>4,326.00</td><td>154</td></tr><tr><td>Mallorie Waber</td><td>Eclairs</td><td>2022-08-22</td><td>9,527.00</td><td>222</td></tr><tr><td>Kelci Walkden</td><td>Almond Choco</td><td>2022-05-30</td><td>4,879.00</td><td>350</td></tr><tr><td>Gigi Bohling</td><td>70% Dark Bites</td><td>2022-08-18</td><td>1,372.00</td><td>105</td></tr><tr><td>Jehu Rudeforth</td><td>Spicy Special Slims</td><td>2022-01-13</td><td>5,012.00</td><td>384</td></tr><tr><td>Barr Faughny</td><td>Organic Choco Syrup</td><td>2022-01-07</td><td>2,303.00</td><td>33</td></tr><tr><td>Van Tuxwell</td><td>Baker's Choco Chips</td><td>2022-05-11</td><td>13,258.00</td><td>32</td></tr><tr><td>Oby Sorrel</td><td>50% Dark Bites</td><td>2022-05-06</td><td>721.00</td><td>151</td></tr><tr><td>Curtice Advani</td><td>Caramel Stuffed Bars</td><td>2022-02-14</td><td>9,114.00</td><td>140</td></tr><tr><td>Dennison Crosswaite</td><td>Drinking Coco</td><td>2022-07-13</td><td>7,091.00</td><td>194</td></tr><tr><td>Barr Faughny</td><td>Raspberry Choco</td><td>2022-05-27</td><td>9,268.00</td><td>100</td></tr><tr><td>Dotty Strutley</td><td>Choco Coated Almonds</td><td>2022-04-13</td><td>1,645.00</td><td>284</td></tr><tr><td>Van Tuxwell</td><td>70% Dark Bites</td><td>2022-01-10</td><td>7,063.00</td><td>104</td></tr><tr><td>Roddy Speechley</td><td>85% Dark Bars</td><td>2022-07-08</td><td>4,200.00</td><td>80</td></tr><tr><td>Kaine Padly</td><td>After Nines</td><td>2022-04-08</td><td>6,832.00</td><td>306</td></tr><tr><td>Madelene Upcott</td><td>Raspberry Choco</td><td>2022-07-13</td><td>6,321.00</td><td>88</td></tr><tr><td>Oby Sorrel</td><td>Manuka Honey Choco</td><td>2022-01-26</td><td>3,906.00</td><td>76</td></tr><tr><td>Gigi Bohling</td><td>Smooth Sliky Salty</td><td>2022-01-25</td><td>5,768.00</td><td>119</td></tr><tr><td>Karlen McCaffrey</td><td>Raspberry Choco</td><td>2022-08-23</td><td>994.00</td><td>57</td></tr><tr><td>Gigi Bohling</td><td>Orange Choco</td><td>2022-03-09</td><td>574.00</td><td>156</td></tr><tr><td>Husein Augar</td><td>Organic Choco Syrup</td><td>2022-02-08</td><td>938.00</td><td>158</td></tr><tr><td>Brien Boise</td><td>White Choc</td><td>2022-08-25</td><td>4,879.00</td><td>22</td></tr><tr><td>Ches Bonnell</td><td>Peanut Butter Cubes</td><td>2022-03-14</td><td>10,199.00</td><td>68</td></tr><tr><td>Oby Sorrel</td><td>Spicy Special Slims</td><td>2022-04-26</td><td>11,389.00</td><td>26</td></tr><tr><td>Karlen McCaffrey</td><td>99% Dark & Pure</td><td>2022-01-26</td><td>10,822.00</td><td>168</td></tr><tr><td>Mallorie Waber</td><td>Smooth Sliky Salty</td><td>2022-02-11</td><td>4,158.00</td><td>109</td></tr><tr><td>Brien Boise</td><td>Organic Choco Syrup</td><td>2022-07-15</td><td>4,263.00</td><td>264</td></tr><tr><td>Dennison Crosswaite</td><td>Baker's Choco Chips</td><td>2022-01-11</td><td>13,846.00</td><td>421</td></tr><tr><td>Wilone O'Kielt</td><td>Smooth Sliky Salty</td><td>2022-01-04</td><td>2,226.00</td><td>46</td></tr><tr><td>Jehu Rudeforth</td><td>After Nines</td><td>2022-02-14</td><td>5,250.00</td><td>47</td></tr><tr><td>Mallorie Waber</td><td>Raspberry Choco</td><td>2022-04-25</td><td>8,400.00</td><td>27</td></tr><tr><td>Kelci Walkden</td><td>Drinking Coco</td><td>2022-05-04</td><td>1,288.00</td><td>60</td></tr><tr><td>Roddy Speechley</td><td>Organic Choco Syrup</td><td>2022-07-04</td><td>3,647.00</td><td>76</td></tr><tr><td>Gunar Cockshoot</td><td>99% Dark & Pure</td><td>2022-08-18</td><td>7,952.00</td><td>235</td></tr><tr><td>Ches Bonnell</td><td>Choco Coated Almonds</td><td>2022-04-08</td><td>1,470.00</td><td>167</td></tr><tr><td>Van Tuxwell</td><td>Mint Chip Choco</td><td>2022-01-13</td><td>2,674.00</td><td>295</td></tr><tr><td>Rafaelita Blaksland</td><td>White Choc</td><td>2022-03-21</td><td>6,818.00</td><td>102</td></tr><tr><td>Madelene Upcott</td><td>70% Dark Bites</td><td>2022-04-15</td><td>3,710.00</td><td>260</td></tr><tr><td>Dotty Strutley</td><td>White Choc</td><td>2022-07-05</td><td>6,055.00</td><td>93</td></tr><tr><td>Brien Boise</td><td>Peanut Butter Cubes</td><td>2022-08-19</td><td>301.00</td><td>205</td></tr><tr><td>Karlen McCaffrey</td><td>Spicy Special Slims</td><td>2022-05-17</td><td>4,410.00</td><td>323</td></tr></tbody></table></div>"
      ]
     },
     "metadata": {
      "application/vnd.databricks.v1+output": {
       "addedWidgets": {},
       "aggData": [],
       "aggError": "",
       "aggOverflow": false,
       "aggSchema": [],
       "aggSeriesLimitReached": false,
       "aggType": "",
       "arguments": {},
       "columnCustomDisplayInfos": {},
       "data": [
        [
         "Jan Morforth",
         "Peanut Butter Cubes",
         "2022-04-27",
         "12,726.00",
         342
        ],
        [
         "Gunar Cockshoot",
         "After Nines",
         "2022-03-24",
         "3,080.00",
         73
        ],
        [
         "Brien Boise",
         "99% Dark & Pure",
         "2022-07-04",
         "2,835.00",
         102
        ],
        [
         "Beverie Moffet",
         "Organic Choco Syrup",
         "2022-01-26",
         "6,790.00",
         356
        ],
        [
         "Brien Boise",
         "Eclairs",
         "2022-06-27",
         "6,888.00",
         88
        ],
        [
         "Kaine Padly",
         "Eclairs",
         "2022-02-28",
         "7,672.00",
         115
        ],
        [
         "Wilone O'Kielt",
         "Manuka Honey Choco",
         "2022-05-11",
         "4,284.00",
         94
        ],
        [
         "Camilla Castle",
         "85% Dark Bars",
         "2022-05-19",
         "3,654.00",
         14
        ],
        [
         "Curtice Advani",
         "Milk Bars",
         "2022-02-14",
         "6,979.00",
         18
        ],
        [
         "Brien Boise",
         "Fruit & Nut Bars",
         "2022-06-06",
         "8,575.00",
         23
        ],
        [
         "Dotty Strutley",
         "Drinking Coco",
         "2022-07-19",
         "91.00",
         135
        ],
        [
         "Barr Faughny",
         "Fruit & Nut Bars",
         "2022-06-30",
         "15,421.00",
         55
        ],
        [
         "Andria Kimpton",
         "50% Dark Bites",
         "2022-06-02",
         "4,438.00",
         227
        ],
        [
         "Andria Kimpton",
         "Drinking Coco",
         "2022-06-28",
         "1,603.00",
         48
        ],
        [
         "Marney O'Breen",
         "Organic Choco Syrup",
         "2022-05-16",
         "273.00",
         174
        ],
        [
         "Wilone O'Kielt",
         "Caramel Stuffed Bars",
         "2022-04-14",
         "2,030.00",
         11
        ],
        [
         "Van Tuxwell",
         "Organic Choco Syrup",
         "2022-08-10",
         "19,453.00",
         14
        ],
        [
         "Dotty Strutley",
         "Fruit & Nut Bars",
         "2022-08-23",
         "280.00",
         311
        ],
        [
         "Dennison Crosswaite",
         "70% Dark Bites",
         "2022-02-07",
         "5,859.00",
         108
        ],
        [
         "Madelene Upcott",
         "Spicy Special Slims",
         "2022-03-07",
         "7,182.00",
         408
        ],
        [
         "Dennison Crosswaite",
         "85% Dark Bars",
         "2022-04-05",
         "6,881.00",
         420
        ],
        [
         "Wilone O'Kielt",
         "Organic Choco Syrup",
         "2022-07-07",
         "1,743.00",
         111
        ],
        [
         "Beverie Moffet",
         "Eclairs",
         "2022-06-20",
         "1,827.00",
         6
        ],
        [
         "Dennison Crosswaite",
         "Raspberry Choco",
         "2022-03-14",
         "5,740.00",
         31
        ],
        [
         "Madelene Upcott",
         "Fruit & Nut Bars",
         "2022-01-05",
         "5,579.00",
         92
        ],
        [
         "Wilone O'Kielt",
         "Drinking Coco",
         "2022-04-06",
         "623.00",
         283
        ],
        [
         "Gunar Cockshoot",
         "Fruit & Nut Bars",
         "2022-06-15",
         "6,013.00",
         21
        ],
        [
         "Rafaelita Blaksland",
         "Drinking Coco",
         "2022-02-21",
         "11,550.00",
         396
        ],
        [
         "Kelci Walkden",
         "Eclairs",
         "2022-03-23",
         "7,273.00",
         547
        ],
        [
         "Husein Augar",
         "Orange Choco",
         "2022-06-28",
         "8,897.00",
         188
        ],
        [
         "Marney O'Breen",
         "Milk Bars",
         "2022-07-28",
         "2,464.00",
         387
        ],
        [
         "Kaine Padly",
         "Manuka Honey Choco",
         "2022-01-12",
         "2,765.00",
         264
        ],
        [
         "Ches Bonnell",
         "Eclairs",
         "2022-07-05",
         "4,116.00",
         128
        ],
        [
         "Brien Boise",
         "Baker's Choco Chips",
         "2022-01-04",
         "12,516.00",
         212
        ],
        [
         "Dennison Crosswaite",
         "99% Dark & Pure",
         "2022-01-31",
         "2,758.00",
         18
        ],
        [
         "Camilla Castle",
         "70% Dark Bites",
         "2022-04-29",
         "6,048.00",
         477
        ],
        [
         "Curtice Advani",
         "Orange Choco",
         "2022-07-12",
         "854.00",
         136
        ],
        [
         "Mallorie Waber",
         "Milk Bars",
         "2022-07-29",
         "2,779.00",
         104
        ],
        [
         "Ches Bonnell",
         "White Choc",
         "2022-03-02",
         "1,043.00",
         202
        ],
        [
         "Jehu Rudeforth",
         "50% Dark Bites",
         "2022-01-14",
         "5,194.00",
         418
        ],
        [
         "Jehu Rudeforth",
         "Orange Choco",
         "2022-03-23",
         "13,706.00",
         26
        ],
        [
         "Barr Faughny",
         "White Choc",
         "2022-07-04",
         "8,113.00",
         370
        ],
        [
         "Dennison Crosswaite",
         "50% Dark Bites",
         "2022-04-01",
         "7,287.00",
         12
        ],
        [
         "Curtice Advani",
         "Organic Choco Syrup",
         "2022-06-28",
         "3,472.00",
         311
        ],
        [
         "Wilone O'Kielt",
         "After Nines",
         "2022-05-27",
         "3,325.00",
         26
        ],
        [
         "Jan Morforth",
         "White Choc",
         "2022-07-27",
         "3,472.00",
         32
        ],
        [
         "Ches Bonnell",
         "Mint Chip Choco",
         "2022-02-21",
         "9,660.00",
         92
        ],
        [
         "Karlen McCaffrey",
         "White Choc",
         "2022-01-05",
         "7,357.00",
         48
        ],
        [
         "Brien Boise",
         "Choco Coated Almonds",
         "2022-05-25",
         "5,124.00",
         62
        ],
        [
         "Beverie Moffet",
         "Milk Bars",
         "2022-05-25",
         "735.00",
         390
        ],
        [
         "Jan Morforth",
         "Orange Choco",
         "2022-07-04",
         "3,199.00",
         122
        ],
        [
         "Ches Bonnell",
         "70% Dark Bites",
         "2022-01-12",
         "3,136.00",
         125
        ],
        [
         "Kaine Padly",
         "Peanut Butter Cubes",
         "2022-03-25",
         "5,460.00",
         286
        ],
        [
         "Husein Augar",
         "Manuka Honey Choco",
         "2022-03-15",
         "7,161.00",
         92
        ],
        [
         "Van Tuxwell",
         "Milk Bars",
         "2022-06-20",
         "7,910.00",
         87
        ],
        [
         "Dotty Strutley",
         "50% Dark Bites",
         "2022-05-12",
         "3,108.00",
         252
        ],
        [
         "Madelene Upcott",
         "50% Dark Bites",
         "2022-07-25",
         "7,350.00",
         6
        ],
        [
         "Gunar Cockshoot",
         "Almond Choco",
         "2022-01-25",
         "3,752.00",
         424
        ],
        [
         "Beverie Moffet",
         "Baker's Choco Chips",
         "2022-08-04",
         "3,192.00",
         109
        ],
        [
         "Marney O'Breen",
         "Smooth Sliky Salty",
         "2022-01-03",
         "3,745.00",
         170
        ],
        [
         "Mallorie Waber",
         "Orange Choco",
         "2022-03-07",
         "14,658.00",
         275
        ],
        [
         "Gigi Bohling",
         "Drinking Coco",
         "2022-07-27",
         "2,807.00",
         139
        ],
        [
         "Beverie Moffet",
         "White Choc",
         "2022-06-27",
         "2,240.00",
         166
        ],
        [
         "Dotty Strutley",
         "Eclairs",
         "2022-01-26",
         "6,979.00",
         3
        ],
        [
         "Wilone O'Kielt",
         "Fruit & Nut Bars",
         "2022-06-15",
         "392.00",
         102
        ],
        [
         "Karlen McCaffrey",
         "Almond Choco",
         "2022-07-08",
         "7,294.00",
         128
        ],
        [
         "Husein Augar",
         "50% Dark Bites",
         "2022-08-19",
         "14,889.00",
         52
        ],
        [
         "Madelene Upcott",
         "Choco Coated Almonds",
         "2022-04-08",
         "2,058.00",
         72
        ],
        [
         "Mallorie Waber",
         "85% Dark Bars",
         "2022-08-26",
         "2,541.00",
         53
        ],
        [
         "Gigi Bohling",
         "White Choc",
         "2022-05-11",
         "5,523.00",
         87
        ],
        [
         "Mallorie Waber",
         "Almond Choco",
         "2022-08-01",
         "7,882.00",
         125
        ],
        [
         "Brien Boise",
         "Drinking Coco",
         "2022-07-27",
         "6,832.00",
         156
        ],
        [
         "Rafaelita Blaksland",
         "50% Dark Bites",
         "2022-03-22",
         "3,010.00",
         40
        ],
        [
         "Kelci Walkden",
         "After Nines",
         "2022-03-02",
         "6,916.00",
         288
        ],
        [
         "Gunar Cockshoot",
         "Raspberry Choco",
         "2022-03-17",
         "602.00",
         72
        ],
        [
         "Van Tuxwell",
         "Caramel Stuffed Bars",
         "2022-05-17",
         "5,936.00",
         59
        ],
        [
         "Curtice Advani",
         "Almond Choco",
         "2022-07-13",
         "2,912.00",
         75
        ],
        [
         "Madelene Upcott",
         "85% Dark Bars",
         "2022-06-16",
         "1,575.00",
         329
        ],
        [
         "Jehu Rudeforth",
         "Peanut Butter Cubes",
         "2022-06-24",
         "5,691.00",
         38
        ],
        [
         "Camilla Castle",
         "Caramel Stuffed Bars",
         "2022-05-02",
         "3,178.00",
         16
        ],
        [
         "Curtice Advani",
         "99% Dark & Pure",
         "2022-01-07",
         "4,676.00",
         84
        ],
        [
         "Gunar Cockshoot",
         "Drinking Coco",
         "2022-01-14",
         "2,317.00",
         195
        ],
        [
         "Dotty Strutley",
         "Mint Chip Choco",
         "2022-08-01",
         "6,790.00",
         25
        ],
        [
         "Roddy Speechley",
         "Mint Chip Choco",
         "2022-05-05",
         "6,797.00",
         252
        ],
        [
         "Roddy Speechley",
         "Almond Choco",
         "2022-06-24",
         "4,466.00",
         74
        ],
        [
         "Camilla Castle",
         "99% Dark & Pure",
         "2022-01-18",
         "4,669.00",
         101
        ],
        [
         "Ches Bonnell",
         "Smooth Sliky Salty",
         "2022-05-16",
         "7,490.00",
         54
        ],
        [
         "Husein Augar",
         "Eclairs",
         "2022-07-04",
         "6,993.00",
         31
        ],
        [
         "Camilla Castle",
         "Manuka Honey Choco",
         "2022-03-17",
         "637.00",
         169
        ],
        [
         "Oby Sorrel",
         "Almond Choco",
         "2022-02-15",
         "6,034.00",
         223
        ],
        [
         "Dennison Crosswaite",
         "Organic Choco Syrup",
         "2022-05-10",
         "5,775.00",
         41
        ],
        [
         "Marney O'Breen",
         "Spicy Special Slims",
         "2022-06-23",
         "13,125.00",
         275
        ],
        [
         "Rafaelita Blaksland",
         "Organic Choco Syrup",
         "2022-01-26",
         "994.00",
         105
        ],
        [
         "Oby Sorrel",
         "Raspberry Choco",
         "2022-02-17",
         "1,043.00",
         120
        ],
        [
         "Jan Morforth",
         "50% Dark Bites",
         "2022-06-14",
         "3,402.00",
         182
        ],
        [
         "Beverie Moffet",
         "Smooth Sliky Salty",
         "2022-01-25",
         "10,507.00",
         467
        ],
        [
         "Karlen McCaffrey",
         "70% Dark Bites",
         "2022-06-24",
         "238.00",
         317
        ],
        [
         "Oby Sorrel",
         "Milk Bars",
         "2022-06-21",
         "7,672.00",
         254
        ],
        [
         "Andria Kimpton",
         "85% Dark Bars",
         "2022-08-23",
         "4,186.00",
         233
        ],
        [
         "Camilla Castle",
         "Smooth Sliky Salty",
         "2022-03-03",
         "7,406.00",
         118
        ],
        [
         "Jehu Rudeforth",
         "Drinking Coco",
         "2022-01-14",
         "2,611.00",
         65
        ],
        [
         "Gigi Bohling",
         "Caramel Stuffed Bars",
         "2022-07-08",
         "8,001.00",
         151
        ],
        [
         "Andria Kimpton",
         "Peanut Butter Cubes",
         "2022-04-20",
         "6,678.00",
         148
        ],
        [
         "Jan Morforth",
         "70% Dark Bites",
         "2022-03-04",
         "5,222.00",
         384
        ],
        [
         "Kaine Padly",
         "70% Dark Bites",
         "2022-02-08",
         "6,706.00",
         223
        ],
        [
         "Kaine Padly",
         "Fruit & Nut Bars",
         "2022-06-20",
         "7,434.00",
         85
        ],
        [
         "Madelene Upcott",
         "Mint Chip Choco",
         "2022-05-02",
         "2,751.00",
         153
        ],
        [
         "Rafaelita Blaksland",
         "Baker's Choco Chips",
         "2022-08-22",
         "2,786.00",
         51
        ],
        [
         "Karlen McCaffrey",
         "After Nines",
         "2022-08-11",
         "2,303.00",
         67
        ],
        [
         "Gunar Cockshoot",
         "50% Dark Bites",
         "2022-03-02",
         "12,271.00",
         116
        ],
        [
         "Marney O'Breen",
         "Choco Coated Almonds",
         "2022-07-27",
         "11,298.00",
         41
        ],
        [
         "Camilla Castle",
         "Raspberry Choco",
         "2022-08-23",
         "6,342.00",
         178
        ],
        [
         "Kelci Walkden",
         "99% Dark & Pure",
         "2022-06-30",
         "3,185.00",
         34
        ],
        [
         "Dotty Strutley",
         "Spicy Special Slims",
         "2022-01-17",
         "8,225.00",
         91
        ],
        [
         "Kaine Padly",
         "Almond Choco",
         "2022-02-22",
         "4,102.00",
         392
        ],
        [
         "Kelci Walkden",
         "Orange Choco",
         "2022-04-29",
         "11,116.00",
         432
        ],
        [
         "Marney O'Breen",
         "Manuka Honey Choco",
         "2022-04-05",
         "13,076.00",
         236
        ],
        [
         "Kelci Walkden",
         "White Choc",
         "2022-08-24",
         "8,715.00",
         168
        ],
        [
         "Kaine Padly",
         "Milk Bars",
         "2022-06-09",
         "4,046.00",
         89
        ],
        [
         "Rafaelita Blaksland",
         "Manuka Honey Choco",
         "2022-08-03",
         "4,396.00",
         131
        ],
        [
         "Mallorie Waber",
         "Spicy Special Slims",
         "2022-06-29",
         "5,439.00",
         287
        ],
        [
         "Beverie Moffet",
         "Fruit & Nut Bars",
         "2022-04-22",
         "1,435.00",
         258
        ],
        [
         "Kelci Walkden",
         "Raspberry Choco",
         "2022-06-07",
         "679.00",
         56
        ],
        [
         "Jehu Rudeforth",
         "99% Dark & Pure",
         "2022-02-25",
         "10,486.00",
         198
        ],
        [
         "Jan Morforth",
         "Mint Chip Choco",
         "2022-02-22",
         "17,626.00",
         103
        ],
        [
         "Ches Bonnell",
         "Caramel Stuffed Bars",
         "2022-01-17",
         "8,757.00",
         162
        ],
        [
         "Dennison Crosswaite",
         "Milk Bars",
         "2022-06-09",
         "10,038.00",
         286
        ],
        [
         "Roddy Speechley",
         "Drinking Coco",
         "2022-05-12",
         "12,565.00",
         102
        ],
        [
         "Curtice Advani",
         "50% Dark Bites",
         "2022-06-29",
         "504.00",
         232
        ],
        [
         "Wilone O'Kielt",
         "Baker's Choco Chips",
         "2022-01-25",
         "2,961.00",
         154
        ],
        [
         "Brien Boise",
         "Milk Bars",
         "2022-07-27",
         "1,981.00",
         52
        ],
        [
         "Husein Augar",
         "Fruit & Nut Bars",
         "2022-01-28",
         "7,959.00",
         53
        ],
        [
         "Madelene Upcott",
         "Organic Choco Syrup",
         "2022-07-05",
         "10,794.00",
         50
        ],
        [
         "Oby Sorrel",
         "85% Dark Bars",
         "2022-06-30",
         "6,944.00",
         27
        ],
        [
         "Husein Augar",
         "White Choc",
         "2022-05-11",
         "3,171.00",
         220
        ],
        [
         "Van Tuxwell",
         "99% Dark & Pure",
         "2022-01-17",
         "112.00",
         128
        ],
        [
         "Brien Boise",
         "Spicy Special Slims",
         "2022-05-09",
         "6,223.00",
         256
        ],
        [
         "Rafaelita Blaksland",
         "Smooth Sliky Salty",
         "2022-05-30",
         "3,969.00",
         243
        ],
        [
         "Marney O'Breen",
         "Baker's Choco Chips",
         "2022-01-13",
         "5,810.00",
         101
        ],
        [
         "Kaine Padly",
         "Mint Chip Choco",
         "2022-05-17",
         "4,403.00",
         159
        ],
        [
         "Curtice Advani",
         "Eclairs",
         "2022-03-25",
         "5,796.00",
         55
        ],
        [
         "Madelene Upcott",
         "Orange Choco",
         "2022-04-15",
         "6,713.00",
         398
        ],
        [
         "Wilone O'Kielt",
         "50% Dark Bites",
         "2022-08-03",
         "10,031.00",
         114
        ],
        [
         "Karlen McCaffrey",
         "50% Dark Bites",
         "2022-01-17",
         "6,678.00",
         708
        ],
        [
         "Barr Faughny",
         "Caramel Stuffed Bars",
         "2022-07-29",
         "2,933.00",
         55
        ],
        [
         "Gigi Bohling",
         "Raspberry Choco",
         "2022-03-30",
         "6,524.00",
         303
        ],
        [
         "Mallorie Waber",
         "Choco Coated Almonds",
         "2022-03-18",
         "15,750.00",
         92
        ],
        [
         "Gigi Bohling",
         "Almond Choco",
         "2022-08-17",
         "910.00",
         117
        ],
        [
         "Jehu Rudeforth",
         "Milk Bars",
         "2022-03-18",
         "8,659.00",
         29
        ],
        [
         "Husein Augar",
         "99% Dark & Pure",
         "2022-08-26",
         "3,087.00",
         128
        ],
        [
         "Dotty Strutley",
         "Baker's Choco Chips",
         "2022-06-07",
         "3,605.00",
         68
        ],
        [
         "Barr Faughny",
         "85% Dark Bars",
         "2022-02-10",
         "8,498.00",
         44
        ],
        [
         "Beverie Moffet",
         "50% Dark Bites",
         "2022-05-16",
         "700.00",
         457
        ],
        [
         "Van Tuxwell",
         "50% Dark Bites",
         "2022-07-13",
         "644.00",
         137
        ],
        [
         "Kelci Walkden",
         "Milk Bars",
         "2022-02-24",
         "7,910.00",
         125
        ],
        [
         "Dotty Strutley",
         "Almond Choco",
         "2022-05-13",
         "1,456.00",
         91
        ],
        [
         "Andria Kimpton",
         "Manuka Honey Choco",
         "2022-03-30",
         "9,744.00",
         377
        ],
        [
         "Curtice Advani",
         "After Nines",
         "2022-08-11",
         "63.00",
         105
        ],
        [
         "Jan Morforth",
         "Drinking Coco",
         "2022-02-18",
         "2,821.00",
         24
        ],
        [
         "Rafaelita Blaksland",
         "Raspberry Choco",
         "2022-01-19",
         "6,916.00",
         259
        ],
        [
         "Kaine Padly",
         "50% Dark Bites",
         "2022-08-02",
         "8,995.00",
         78
        ],
        [
         "Gigi Bohling",
         "Eclairs",
         "2022-04-12",
         "7,252.00",
         136
        ],
        [
         "Andria Kimpton",
         "Baker's Choco Chips",
         "2022-08-09",
         "329.00",
         109
        ],
        [
         "Andria Kimpton",
         "Almond Choco",
         "2022-04-25",
         "3,192.00",
         175
        ],
        [
         "Madelene Upcott",
         "99% Dark & Pure",
         "2022-08-01",
         "4,326.00",
         154
        ],
        [
         "Mallorie Waber",
         "Eclairs",
         "2022-08-22",
         "9,527.00",
         222
        ],
        [
         "Kelci Walkden",
         "Almond Choco",
         "2022-05-30",
         "4,879.00",
         350
        ],
        [
         "Gigi Bohling",
         "70% Dark Bites",
         "2022-08-18",
         "1,372.00",
         105
        ],
        [
         "Jehu Rudeforth",
         "Spicy Special Slims",
         "2022-01-13",
         "5,012.00",
         384
        ],
        [
         "Barr Faughny",
         "Organic Choco Syrup",
         "2022-01-07",
         "2,303.00",
         33
        ],
        [
         "Van Tuxwell",
         "Baker's Choco Chips",
         "2022-05-11",
         "13,258.00",
         32
        ],
        [
         "Oby Sorrel",
         "50% Dark Bites",
         "2022-05-06",
         "721.00",
         151
        ],
        [
         "Curtice Advani",
         "Caramel Stuffed Bars",
         "2022-02-14",
         "9,114.00",
         140
        ],
        [
         "Dennison Crosswaite",
         "Drinking Coco",
         "2022-07-13",
         "7,091.00",
         194
        ],
        [
         "Barr Faughny",
         "Raspberry Choco",
         "2022-05-27",
         "9,268.00",
         100
        ],
        [
         "Dotty Strutley",
         "Choco Coated Almonds",
         "2022-04-13",
         "1,645.00",
         284
        ],
        [
         "Van Tuxwell",
         "70% Dark Bites",
         "2022-01-10",
         "7,063.00",
         104
        ],
        [
         "Roddy Speechley",
         "85% Dark Bars",
         "2022-07-08",
         "4,200.00",
         80
        ],
        [
         "Kaine Padly",
         "After Nines",
         "2022-04-08",
         "6,832.00",
         306
        ],
        [
         "Madelene Upcott",
         "Raspberry Choco",
         "2022-07-13",
         "6,321.00",
         88
        ],
        [
         "Oby Sorrel",
         "Manuka Honey Choco",
         "2022-01-26",
         "3,906.00",
         76
        ],
        [
         "Gigi Bohling",
         "Smooth Sliky Salty",
         "2022-01-25",
         "5,768.00",
         119
        ],
        [
         "Karlen McCaffrey",
         "Raspberry Choco",
         "2022-08-23",
         "994.00",
         57
        ],
        [
         "Gigi Bohling",
         "Orange Choco",
         "2022-03-09",
         "574.00",
         156
        ],
        [
         "Husein Augar",
         "Organic Choco Syrup",
         "2022-02-08",
         "938.00",
         158
        ],
        [
         "Brien Boise",
         "White Choc",
         "2022-08-25",
         "4,879.00",
         22
        ],
        [
         "Ches Bonnell",
         "Peanut Butter Cubes",
         "2022-03-14",
         "10,199.00",
         68
        ],
        [
         "Oby Sorrel",
         "Spicy Special Slims",
         "2022-04-26",
         "11,389.00",
         26
        ],
        [
         "Karlen McCaffrey",
         "99% Dark & Pure",
         "2022-01-26",
         "10,822.00",
         168
        ],
        [
         "Mallorie Waber",
         "Smooth Sliky Salty",
         "2022-02-11",
         "4,158.00",
         109
        ],
        [
         "Brien Boise",
         "Organic Choco Syrup",
         "2022-07-15",
         "4,263.00",
         264
        ],
        [
         "Dennison Crosswaite",
         "Baker's Choco Chips",
         "2022-01-11",
         "13,846.00",
         421
        ],
        [
         "Wilone O'Kielt",
         "Smooth Sliky Salty",
         "2022-01-04",
         "2,226.00",
         46
        ],
        [
         "Jehu Rudeforth",
         "After Nines",
         "2022-02-14",
         "5,250.00",
         47
        ],
        [
         "Mallorie Waber",
         "Raspberry Choco",
         "2022-04-25",
         "8,400.00",
         27
        ],
        [
         "Kelci Walkden",
         "Drinking Coco",
         "2022-05-04",
         "1,288.00",
         60
        ],
        [
         "Roddy Speechley",
         "Organic Choco Syrup",
         "2022-07-04",
         "3,647.00",
         76
        ],
        [
         "Gunar Cockshoot",
         "99% Dark & Pure",
         "2022-08-18",
         "7,952.00",
         235
        ],
        [
         "Ches Bonnell",
         "Choco Coated Almonds",
         "2022-04-08",
         "1,470.00",
         167
        ],
        [
         "Van Tuxwell",
         "Mint Chip Choco",
         "2022-01-13",
         "2,674.00",
         295
        ],
        [
         "Rafaelita Blaksland",
         "White Choc",
         "2022-03-21",
         "6,818.00",
         102
        ],
        [
         "Madelene Upcott",
         "70% Dark Bites",
         "2022-04-15",
         "3,710.00",
         260
        ],
        [
         "Dotty Strutley",
         "White Choc",
         "2022-07-05",
         "6,055.00",
         93
        ],
        [
         "Brien Boise",
         "Peanut Butter Cubes",
         "2022-08-19",
         "301.00",
         205
        ],
        [
         "Karlen McCaffrey",
         "Spicy Special Slims",
         "2022-05-17",
         "4,410.00",
         323
        ]
       ],
       "datasetInfos": [],
       "dbfsResultPath": null,
       "isJsonSchema": true,
       "metadata": {},
       "overflow": false,
       "plotOptions": {
        "customPlotOptions": {},
        "displayType": "table",
        "pivotAggregation": null,
        "pivotColumns": null,
        "xColumns": null,
        "yColumns": null
       },
       "removedWidgets": [],
       "schema": [
        {
         "metadata": "{}",
         "name": "Sales Person",
         "type": "\"string\""
        },
        {
         "metadata": "{}",
         "name": "Product",
         "type": "\"string\""
        },
        {
         "metadata": "{}",
         "name": "Date",
         "type": "\"date\""
        },
        {
         "metadata": "{}",
         "name": "Amount",
         "type": "\"string\""
        },
        {
         "metadata": "{}",
         "name": "Boxes Shipped",
         "type": "\"integer\""
        }
       ],
       "type": "table"
      }
     },
     "output_type": "display_data"
    }
   ],
   "source": [
    "df_final = df_amount.withColumn(\"Amount\", format_number(col(\"Amount\"),2 ))\n",
    "display(df_final)\n"
   ]
  },
  {
   "cell_type": "code",
   "execution_count": 0,
   "metadata": {
    "application/vnd.databricks.v1+cell": {
     "cellMetadata": {
      "byteLimit": 2048000,
      "rowLimit": 10000
     },
     "collapsed": true,
     "inputWidgets": {},
     "nuid": "0362ec21-c0dd-4c0f-8f44-60a445ca48de",
     "showTitle": false,
     "tableResultSettingsMap": {},
     "title": ""
    }
   },
   "outputs": [
    {
     "output_type": "display_data",
     "data": {
      "text/html": [
       "<style scoped>\n",
       "  .table-result-container {\n",
       "    max-height: 300px;\n",
       "    overflow: auto;\n",
       "  }\n",
       "  table, th, td {\n",
       "    border: 1px solid black;\n",
       "    border-collapse: collapse;\n",
       "  }\n",
       "  th, td {\n",
       "    padding: 5px;\n",
       "  }\n",
       "  th {\n",
       "    text-align: left;\n",
       "  }\n",
       "</style><div class='table-result-container'><table class='table-result'><thead style='background-color: white'><tr><th>Product</th><th>Media_boxes_shipped</th></tr></thead><tbody><tr><td>Fruit & Nut Bars</td><td>1000</td></tr><tr><td>Choco Coated Almonds</td><td>718</td></tr><tr><td>Baker's Choco Chips</td><td>1257</td></tr><tr><td>Smooth Sliky Salty</td><td>1326</td></tr><tr><td>Milk Bars</td><td>1821</td></tr><tr><td>White Choc</td><td>1510</td></tr><tr><td>Spicy Special Slims</td><td>2050</td></tr><tr><td>Caramel Stuffed Bars</td><td>594</td></tr><tr><td>Raspberry Choco</td><td>1291</td></tr><tr><td>Eclairs</td><td>1331</td></tr><tr><td>85% Dark Bars</td><td>1200</td></tr><tr><td>Orange Choco</td><td>1733</td></tr><tr><td>Mint Chip Choco</td><td>1079</td></tr><tr><td>70% Dark Bites</td><td>2103</td></tr><tr><td>Drinking Coco</td><td>1797</td></tr><tr><td>Almond Choco</td><td>2174</td></tr><tr><td>50% Dark Bites</td><td>3182</td></tr><tr><td>Manuka Honey Choco</td><td>1439</td></tr><tr><td>99% Dark & Pure</td><td>1350</td></tr><tr><td>After Nines</td><td>912</td></tr><tr><td>Peanut Butter Cubes</td><td>1087</td></tr><tr><td>Organic Choco Syrup</td><td>1693</td></tr></tbody></table></div>"
      ]
     },
     "metadata": {
      "application/vnd.databricks.v1+output": {
       "addedWidgets": {},
       "aggData": [],
       "aggError": "",
       "aggOverflow": false,
       "aggSchema": [],
       "aggSeriesLimitReached": false,
       "aggType": "",
       "arguments": {},
       "columnCustomDisplayInfos": {},
       "data": [
        [
         "Fruit & Nut Bars",
         1000
        ],
        [
         "Choco Coated Almonds",
         718
        ],
        [
         "Baker's Choco Chips",
         1257
        ],
        [
         "Smooth Sliky Salty",
         1326
        ],
        [
         "Milk Bars",
         1821
        ],
        [
         "White Choc",
         1510
        ],
        [
         "Spicy Special Slims",
         2050
        ],
        [
         "Caramel Stuffed Bars",
         594
        ],
        [
         "Raspberry Choco",
         1291
        ],
        [
         "Eclairs",
         1331
        ],
        [
         "85% Dark Bars",
         1200
        ],
        [
         "Orange Choco",
         1733
        ],
        [
         "Mint Chip Choco",
         1079
        ],
        [
         "70% Dark Bites",
         2103
        ],
        [
         "Drinking Coco",
         1797
        ],
        [
         "Almond Choco",
         2174
        ],
        [
         "50% Dark Bites",
         3182
        ],
        [
         "Manuka Honey Choco",
         1439
        ],
        [
         "99% Dark & Pure",
         1350
        ],
        [
         "After Nines",
         912
        ],
        [
         "Peanut Butter Cubes",
         1087
        ],
        [
         "Organic Choco Syrup",
         1693
        ]
       ],
       "datasetInfos": [],
       "dbfsResultPath": null,
       "isJsonSchema": true,
       "metadata": {},
       "overflow": false,
       "plotOptions": {
        "customPlotOptions": {},
        "displayType": "table",
        "pivotAggregation": null,
        "pivotColumns": null,
        "xColumns": null,
        "yColumns": null
       },
       "removedWidgets": [],
       "schema": [
        {
         "metadata": "{}",
         "name": "Product",
         "type": "\"string\""
        },
        {
         "metadata": "{}",
         "name": "Media_boxes_shipped",
         "type": "\"long\""
        }
       ],
       "type": "table"
      }
     },
     "output_type": "display_data"
    }
   ],
   "source": [
    "\n",
    "df_media_por_produto = df_final.groupBy(\"Product\").agg(sum(\"Boxes Shipped\").alias(\"Media_boxes_shipped\"))\n",
    "display(df_media_por_produto)\n"
   ]
  },
  {
   "cell_type": "code",
   "execution_count": 0,
   "metadata": {
    "application/vnd.databricks.v1+cell": {
     "cellMetadata": {
      "byteLimit": 2048000,
      "rowLimit": 10000
     },
     "collapsed": true,
     "inputWidgets": {},
     "nuid": "1be6159c-867a-416f-a98c-79c93a997939",
     "showTitle": false,
     "tableResultSettingsMap": {},
     "title": ""
    }
   },
   "outputs": [
    {
     "output_type": "display_data",
     "data": {
      "text/html": [
       "<style scoped>\n",
       "  .table-result-container {\n",
       "    max-height: 300px;\n",
       "    overflow: auto;\n",
       "  }\n",
       "  table, th, td {\n",
       "    border: 1px solid black;\n",
       "    border-collapse: collapse;\n",
       "  }\n",
       "  th, td {\n",
       "    padding: 5px;\n",
       "  }\n",
       "  th {\n",
       "    text-align: left;\n",
       "  }\n",
       "</style><div class='table-result-container'><table class='table-result'><thead style='background-color: white'><tr><th>Product</th><th>count</th></tr></thead><tbody><tr><td>Fruit & Nut Bars</td><td>2</td></tr><tr><td>Baker's Choco Chips</td><td>4</td></tr><tr><td>Smooth Sliky Salty</td><td>4</td></tr><tr><td>White Choc</td><td>1</td></tr><tr><td>Spicy Special Slims</td><td>2</td></tr><tr><td>Caramel Stuffed Bars</td><td>1</td></tr><tr><td>Raspberry Choco</td><td>1</td></tr><tr><td>Eclairs</td><td>1</td></tr><tr><td>Mint Chip Choco</td><td>1</td></tr><tr><td>70% Dark Bites</td><td>2</td></tr><tr><td>Drinking Coco</td><td>2</td></tr><tr><td>Almond Choco</td><td>1</td></tr><tr><td>50% Dark Bites</td><td>2</td></tr><tr><td>Manuka Honey Choco</td><td>2</td></tr><tr><td>99% Dark & Pure</td><td>5</td></tr><tr><td>Organic Choco Syrup</td><td>3</td></tr></tbody></table></div>"
      ]
     },
     "metadata": {
      "application/vnd.databricks.v1+output": {
       "addedWidgets": {},
       "aggData": [],
       "aggError": "",
       "aggOverflow": false,
       "aggSchema": [],
       "aggSeriesLimitReached": false,
       "aggType": "",
       "arguments": {},
       "columnCustomDisplayInfos": {},
       "data": [
        [
         "Fruit & Nut Bars",
         2
        ],
        [
         "Baker's Choco Chips",
         4
        ],
        [
         "Smooth Sliky Salty",
         4
        ],
        [
         "White Choc",
         1
        ],
        [
         "Spicy Special Slims",
         2
        ],
        [
         "Caramel Stuffed Bars",
         1
        ],
        [
         "Raspberry Choco",
         1
        ],
        [
         "Eclairs",
         1
        ],
        [
         "Mint Chip Choco",
         1
        ],
        [
         "70% Dark Bites",
         2
        ],
        [
         "Drinking Coco",
         2
        ],
        [
         "Almond Choco",
         1
        ],
        [
         "50% Dark Bites",
         2
        ],
        [
         "Manuka Honey Choco",
         2
        ],
        [
         "99% Dark & Pure",
         5
        ],
        [
         "Organic Choco Syrup",
         3
        ]
       ],
       "datasetInfos": [],
       "dbfsResultPath": null,
       "isJsonSchema": true,
       "metadata": {},
       "overflow": false,
       "plotOptions": {
        "customPlotOptions": {},
        "displayType": "table",
        "pivotAggregation": null,
        "pivotColumns": null,
        "xColumns": null,
        "yColumns": null
       },
       "removedWidgets": [],
       "schema": [
        {
         "metadata": "{}",
         "name": "Product",
         "type": "\"string\""
        },
        {
         "metadata": "{}",
         "name": "count",
         "type": "\"long\""
        }
       ],
       "type": "table"
      }
     },
     "output_type": "display_data"
    }
   ],
   "source": [
    "df_vendas_janeiro = df_final.where(month(col(\"Date\")) == 1).groupBy(\"Product\").count()\n",
    "display(df_vendas_janeiro)"
   ]
  }
 ],
 "metadata": {
  "application/vnd.databricks.v1+notebook": {
   "computePreferences": null,
   "dashboards": [],
   "environmentMetadata": {
    "base_environment": "",
    "environment_version": "1"
   },
   "inputWidgetPreferences": null,
   "language": "python",
   "notebookMetadata": {
    "pythonIndentUnit": 4
   },
   "notebookName": "Modulo 2",
   "widgets": {}
  }
 },
 "nbformat": 4,
 "nbformat_minor": 0
}